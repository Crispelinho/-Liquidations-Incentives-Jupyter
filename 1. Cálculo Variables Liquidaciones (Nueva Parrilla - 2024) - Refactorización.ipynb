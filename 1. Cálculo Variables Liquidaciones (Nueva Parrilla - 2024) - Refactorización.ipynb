{
 "cells": [
  {
   "cell_type": "markdown",
   "metadata": {
    "datalore": {
     "hide_input_from_viewers": false,
     "hide_output_from_viewers": false,
     "type": "MD"
    }
   },
   "source": [
    "# INICIO"
   ]
  },
  {
   "cell_type": "code",
   "execution_count": 2,
   "metadata": {
    "datalore": {
     "hide_input_from_viewers": false,
     "hide_output_from_viewers": false,
     "type": "CODE"
    }
   },
   "outputs": [
    {
     "ename": "ImportError",
     "evalue": "cannot import name 'ObjetivosCualitativos' from 'libraries.calculo_rubro_base' (C:\\Users\\Crisp\\Documents\\QualitySoftGroup\\Proyectos\\Liquidations-Incentives-Jupyter\\libraries\\calculo_rubro_base.ipynb)",
     "output_type": "error",
     "traceback": [
      "\u001b[1;31m---------------------------------------------------------------------------\u001b[0m",
      "\u001b[1;31mImportError\u001b[0m                               Traceback (most recent call last)",
      "\u001b[1;32m~\\AppData\\Local\\Temp\\ipykernel_15948\\1266245011.py\u001b[0m in \u001b[0;36m<module>\u001b[1;34m\u001b[0m\n\u001b[0;32m      8\u001b[0m \u001b[1;32mfrom\u001b[0m \u001b[0mlibraries\u001b[0m\u001b[1;33m.\u001b[0m\u001b[0mcalculosba_areacalculo\u001b[0m \u001b[1;32mimport\u001b[0m \u001b[0mAreaCalculoSBA\u001b[0m\u001b[1;33m\u001b[0m\u001b[1;33m\u001b[0m\u001b[0m\n\u001b[0;32m      9\u001b[0m \u001b[1;32mfrom\u001b[0m \u001b[0mlibraries\u001b[0m\u001b[1;33m.\u001b[0m\u001b[0mcalculo_objetivos_cualitativos\u001b[0m \u001b[1;32mimport\u001b[0m \u001b[0mcalculo_cumplimiento_objetivos_cualitativos\u001b[0m\u001b[1;33m\u001b[0m\u001b[1;33m\u001b[0m\u001b[0m\n\u001b[1;32m---> 10\u001b[1;33m \u001b[1;32mfrom\u001b[0m \u001b[0mlibraries\u001b[0m\u001b[1;33m.\u001b[0m\u001b[0mcalculo_rubro_base\u001b[0m \u001b[1;32mimport\u001b[0m \u001b[0mObjetivosCualitativos\u001b[0m\u001b[1;33m,\u001b[0m \u001b[0mVentaCobradaZonaBraunCrossDivisional\u001b[0m\u001b[1;33m\u001b[0m\u001b[1;33m\u001b[0m\u001b[0m\n\u001b[0m\u001b[0;32m     11\u001b[0m \u001b[0mbase_dir\u001b[0m \u001b[1;33m=\u001b[0m \u001b[1;34m'C:\\\\Users\\\\Crisp\\\\Documents\\\\QualitySoftGroup\\\\Proyectos\\\\Liquidations-Incentives-Jupyter'\u001b[0m\u001b[1;33m\u001b[0m\u001b[1;33m\u001b[0m\u001b[0m\n\u001b[0;32m     12\u001b[0m \u001b[0msub_direct\u001b[0m \u001b[1;33m=\u001b[0m \u001b[1;34m'archivos-fuente-95(2)'\u001b[0m\u001b[1;33m\u001b[0m\u001b[1;33m\u001b[0m\u001b[0m\n",
      "\u001b[1;31mImportError\u001b[0m: cannot import name 'ObjetivosCualitativos' from 'libraries.calculo_rubro_base' (C:\\Users\\Crisp\\Documents\\QualitySoftGroup\\Proyectos\\Liquidations-Incentives-Jupyter\\libraries\\calculo_rubro_base.ipynb)"
     ]
    }
   ],
   "source": [
    "import os\n",
    "import sys\n",
    "import pandas as pd\n",
    "import numpy as np\n",
    "from datetime import datetime\n",
    "import import_ipynb\n",
    "from libraries.shared_functions1 import DataframeLoader, Shared\n",
    "from libraries.calculosba_areacalculo import AreaCalculoSBA\n",
    "from libraries.calculo_objetivos_cualitativos import calculo_cumplimiento_objetivos_cualitativos\n",
    "from libraries.calculo_rubro_base import ObjetivosCualitativos, VentaCobradaZonaBraunCrossDivisional\n",
    "base_dir = 'C:\\\\Users\\\\Crisp\\\\Documents\\\\QualitySoftGroup\\\\Proyectos\\\\Liquidations-Incentives-Jupyter'\n",
    "sub_direct = 'archivos-fuente-95(2)'\n",
    "folder_bbraun_source = os.path.join(base_dir, 'source', sub_direct)\n",
    "folder_bbraun_output = os.path.join(base_dir, 'output')\n",
    "print(folder_bbraun_source)"
   ]
  },
  {
   "cell_type": "code",
   "execution_count": null,
   "metadata": {},
   "outputs": [],
   "source": [
    "dataframe_loader = DataframeLoader(\n",
    "    base_dir=base_dir,\n",
    "    sub_direct=sub_direct\n",
    ")\n",
    "shared = Shared()\n",
    "print(dataframe_loader.cargar_dataframes(base_dir, folder_bbraun_source))"
   ]
  },
  {
   "cell_type": "code",
   "execution_count": null,
   "metadata": {},
   "outputs": [],
   "source": [
    "df_parrillas = dataframe_loader.df_parrillas\n",
    "df_parrillas"
   ]
  },
  {
   "cell_type": "code",
   "execution_count": null,
   "metadata": {},
   "outputs": [],
   "source": [
    "df_empleados = dataframe_loader.df_empleados"
   ]
  },
  {
   "cell_type": "code",
   "execution_count": null,
   "metadata": {},
   "outputs": [],
   "source": [
    "df_parrillas.merge(\n",
    "    df_empleados,\n",
    "    how = 'left'\n",
    ")"
   ]
  },
  {
   "cell_type": "code",
   "execution_count": null,
   "metadata": {},
   "outputs": [],
   "source": [
    "df_parrillas[df_parrillas['CodigoEmpleado'] == '5004523']"
   ]
  },
  {
   "cell_type": "code",
   "execution_count": null,
   "metadata": {},
   "outputs": [],
   "source": [
    "df_parrillas[df_parrillas['CodigoEmpleado'] == '5004523']['Porcentaje'].sum()"
   ]
  },
  {
   "cell_type": "code",
   "execution_count": null,
   "metadata": {},
   "outputs": [],
   "source": [
    "df_parrillas['Variable'].drop_duplicates()"
   ]
  },
  {
   "cell_type": "code",
   "execution_count": null,
   "metadata": {},
   "outputs": [],
   "source": [
    "# # Ciclo para aplicar el cálculo para cada rubro\n",
    "# for rubro in df_parrillas['Variable'].drop_duplicates():\n",
    "#     grupo_datos = df_parrillas[df_parrillas['Variable'] == rubro]\n",
    "#     resultado_calculo = aplicar_calculo(rubro, grupo_datos)\n",
    "#     print(f\"{rubro}: {resultado_calculo}\")"
   ]
  },
  {
   "cell_type": "code",
   "execution_count": null,
   "metadata": {},
   "outputs": [],
   "source": []
  },
  {
   "cell_type": "code",
   "execution_count": null,
   "metadata": {},
   "outputs": [],
   "source": [
    "df_venta_recaudo_real = dataframe_loader.df_venta_recaudo_real\n",
    "df_venta_recaudo_presupuesto = dataframe_loader.df_venta_recaudo_presupuesto\n",
    "df_venta_recaudo_real.head()"
   ]
  },
  {
   "cell_type": "code",
   "execution_count": null,
   "metadata": {},
   "outputs": [],
   "source": [
    "df_venta_recaudo_real['ZonaGeografica'] = df_venta_recaudo_real['ZonaGeografica'].str.replace(r'\\b\\w+\\b', lambda x: x.group().title())\n",
    "df_venta_recaudo_presupuesto['ZonaGeografica'] = df_venta_recaudo_presupuesto['ZonaGeografica'].str.replace(r'\\b\\w+\\b', lambda x: x.group().title())"
   ]
  },
  {
   "cell_type": "code",
   "execution_count": null,
   "metadata": {},
   "outputs": [],
   "source": [
    "df_venta_recaudo_presupuesto.head()"
   ]
  },
  {
   "cell_type": "markdown",
   "metadata": {
    "datalore": {
     "hide_input_from_viewers": false,
     "hide_output_from_viewers": false,
     "type": "MD"
    }
   },
   "source": [
    "### Se validan los dataframes de entrada"
   ]
  },
  {
   "cell_type": "code",
   "execution_count": null,
   "metadata": {
    "datalore": {
     "hide_input_from_viewers": false,
     "hide_output_from_viewers": false,
     "type": "CODE"
    }
   },
   "outputs": [],
   "source": [
    "for df in dataframe_loader._dataframes_entrada:\n",
    "    print(f'*** {df[\"name\"]} ***')\n",
    "    print(' - Head:')\n",
    "    print(df['df'].head())\n",
    "    print('')"
   ]
  },
  {
   "cell_type": "markdown",
   "metadata": {},
   "source": [
    "## Area Calculo SBA"
   ]
  },
  {
   "cell_type": "code",
   "execution_count": null,
   "metadata": {},
   "outputs": [],
   "source": [
    "df_area_calculo_sba = dataframe_loader.df_area_calculo_sba\n",
    "c_area_calculo_sba = AreaCalculoSBA(dataframe_loader)\n",
    "area_calculo_sba_completo = c_area_calculo_sba.get_area_calculo_sba_completo()\n",
    "area_calculo_sba_completo"
   ]
  },
  {
   "cell_type": "code",
   "execution_count": null,
   "metadata": {},
   "outputs": [],
   "source": [
    "area_calculo_sba_completo[\n",
    "    (area_calculo_sba_completo['TipoEmpleado'] == 'GD') &\n",
    "    (area_calculo_sba_completo['AreaCalculo'] == 3) &\n",
    "    (area_calculo_sba_completo['Consecutivo'] == 5)\n",
    "]"
   ]
  },
  {
   "cell_type": "code",
   "execution_count": null,
   "metadata": {},
   "outputs": [],
   "source": [
    "c_area_calculo_sba.get_area_calculo_sba_completo_by_tipo_empleado('VC')"
   ]
  },
  {
   "cell_type": "markdown",
   "metadata": {
    "datalore": {
     "hide_input_from_viewers": false,
     "hide_output_from_viewers": false,
     "type": "MD"
    }
   },
   "source": [
    "# Se calculan los resultados para la maestra de resultados"
   ]
  },
  {
   "cell_type": "markdown",
   "metadata": {
    "datalore": {
     "hide_input_from_viewers": false,
     "hide_output_from_viewers": false,
     "type": "MD"
    }
   },
   "source": [
    "## 1. Objetivos cualitativos (ObjetivosCualitativos)"
   ]
  },
  {
   "cell_type": "code",
   "execution_count": null,
   "metadata": {
    "datalore": {
     "hide_input_from_viewers": false,
     "hide_output_from_viewers": false,
     "type": "CODE"
    }
   },
   "outputs": [],
   "source": [
    "cumplimiento_objetivos_cualitativos = ObjetivosCualitativos(dataframe_loader).calcular()\n",
    "cumplimiento_objetivos_cualitativos.head()"
   ]
  },
  {
   "cell_type": "code",
   "execution_count": null,
   "metadata": {},
   "outputs": [],
   "source": [
    "cumplimiento_objetivos_cualitativos[\n",
    "    cumplimiento_objetivos_cualitativos['Contexto'] == '5004293'\n",
    "]"
   ]
  },
  {
   "cell_type": "markdown",
   "metadata": {
    "datalore": {
     "hide_input_from_viewers": false,
     "hide_output_from_viewers": false,
     "type": "MD"
    }
   },
   "source": [
    "## 2. Objetivos de recaudo por zona (VentaCobradaZonaBraunCrossDivisional)\n",
    "### TODO: Ahora el empleado tiene varias zonas"
   ]
  },
  {
   "cell_type": "code",
   "execution_count": null,
   "metadata": {
    "datalore": {
     "hide_input_from_viewers": false,
     "hide_output_from_viewers": false,
     "type": "CODE"
    }
   },
   "outputs": [],
   "source": [
    "cumplimiento_recaudo_por_zona = VentaCobradaZonaBraunCrossDivisional(dataframe_loader).calcular()\n",
    "cumplimiento_recaudo_por_zona.head()"
   ]
  },
  {
   "cell_type": "markdown",
   "metadata": {
    "datalore": {
     "hide_input_from_viewers": false,
     "hide_output_from_viewers": false,
     "type": "MD"
    }
   },
   "source": [
    "## 3. Objetivos de venta individuales (VentaFacturadaZonaCargoIndividual y VentaFacturadaZonaCargoIndividualSub)"
   ]
  },
  {
   "cell_type": "code",
   "execution_count": null,
   "metadata": {
    "datalore": {
     "hide_input_from_viewers": false,
     "hide_output_from_viewers": false,
     "type": "CODE"
    }
   },
   "outputs": [],
   "source": [
    "# venta real con información\n",
    "venta_recaudo_real_info = df_venta_recaudo_real.merge(\n",
    "    df_empleados[['CodigoEmpleado', 'TipoEmpleado', 'AreaCalculo', 'FechaIngreso']],\n",
    "    on='CodigoEmpleado',\n",
    "    how='left'\n",
    ").merge(\n",
    "    area_calculo_sba_completo,\n",
    "    on=['Division', 'GrupoProducto', 'SBA', 'TipoEmpleado', 'AreaCalculo'],\n",
    "    how='left'\n",
    ")\n",
    "\n",
    "# venta presupuesto con información\n",
    "venta_recaudo_presupuesto_info = df_venta_recaudo_presupuesto.merge(\n",
    "    df_empleados[['CodigoEmpleado', 'TipoEmpleado', 'AreaCalculo', 'FechaIngreso']],\n",
    "    on='CodigoEmpleado',\n",
    "    how='left'\n",
    ").merge(\n",
    "    area_calculo_sba_completo,\n",
    "    on=['Division', 'GrupoProducto', 'SBA', 'TipoEmpleado', 'AreaCalculo'],\n",
    "    how='left'\n",
    ")"
   ]
  },
  {
   "cell_type": "code",
   "execution_count": null,
   "metadata": {
    "datalore": {
     "hide_input_from_viewers": false,
     "hide_output_from_viewers": false,
     "type": "CODE"
    }
   },
   "outputs": [],
   "source": [
    "_excepciones_venta_facturada = [\n",
    "    # {\n",
    "    #     'CodigoEmpleado': '5003527',\n",
    "    #     'AreaCalculo': 7,\n",
    "    #     'Consecutivo': 4,\n",
    "    #     'FechaInicio': '2021-02-01',\n",
    "    #     'FechaFin': '2021-06-01'\n",
    "    # }\n",
    "]\n",
    "\n",
    "# venta real por empleado por area de calculo por fecha acumulada\n",
    "venta_recaudo_real_empleado_sub = venta_recaudo_real_info[venta_recaudo_real_info['Fecha'] >= venta_recaudo_real_info['FechaIngreso']]\n",
    "\n",
    "for excepcion in _excepciones_venta_facturada:\n",
    "    venta_recaudo_real_empleado_sub = venta_recaudo_real_empleado_sub[\n",
    "        (venta_recaudo_real_empleado_sub['CodigoEmpleado'] != excepcion['CodigoEmpleado']) |\n",
    "        (venta_recaudo_real_empleado_sub['AreaCalculo'] != excepcion['AreaCalculo']) |\n",
    "        (venta_recaudo_real_empleado_sub['Consecutivo'] != excepcion['Consecutivo']) |\n",
    "        (venta_recaudo_real_empleado_sub['Fecha'] < excepcion['FechaInicio']) |\n",
    "        (venta_recaudo_real_empleado_sub['Fecha'] > excepcion['FechaFin'])\n",
    "    ]\n",
    "\n",
    "venta_recaudo_real_empleado_sub_1 = venta_recaudo_real_empleado_sub.copy()[\n",
    "    (venta_recaudo_real_empleado_sub['CodigoEmpleado'] == '5004563') &\n",
    "    (venta_recaudo_real_empleado_sub['SBA'] == '84')\n",
    "]\n",
    "venta_recaudo_real_empleado_sub_1['CodigoEmpleado'] = '5005371'\n",
    "venta_recaudo_real_empleado_sub_1['AreaCalculo'] = 14\n",
    "venta_recaudo_real_empleado_sub_1['Consecutivo'] = 2\n",
    "\n",
    "venta_recaudo_real_empleado_sub_2 = venta_recaudo_real_empleado_sub.copy()[\n",
    "    (venta_recaudo_real_empleado_sub['CodigoEmpleado'] == '5004563') &\n",
    "    (venta_recaudo_real_empleado_sub['SBA'] == '84')\n",
    "]\n",
    "venta_recaudo_real_empleado_sub_2['CodigoEmpleado'] = '5039251'\n",
    "venta_recaudo_real_empleado_sub_2['AreaCalculo'] = 15\n",
    "venta_recaudo_real_empleado_sub_2['Consecutivo'] = 2\n",
    "\n",
    "venta_recaudo_real_empleado_sub_3 = venta_recaudo_real_empleado_sub.copy()[\n",
    "    (venta_recaudo_real_empleado_sub['CodigoEmpleado'] == '5018231') & \n",
    "    (venta_recaudo_real_empleado_sub['Fecha'] >= '2021-08-01')\n",
    "]\n",
    "venta_recaudo_real_empleado_sub_3['CodigoEmpleado'] = '1128448666'\n",
    "venta_recaudo_real_empleado_sub_3['AreaCalculo'] = 9\n",
    "\n",
    "\n",
    "venta_recaudo_real_empleado_sub = pd.concat([\n",
    "    venta_recaudo_real_empleado_sub,\n",
    "    venta_recaudo_real_empleado_sub_1,\n",
    "    venta_recaudo_real_empleado_sub_2,\n",
    "    venta_recaudo_real_empleado_sub_3\n",
    "])\n",
    "venta_recaudo_real_empleado_sub = venta_recaudo_real_empleado_sub.groupby(['CodigoEmpleado', 'AreaCalculo',\n",
    "                                                                           'Consecutivo', 'Fecha'], as_index=False).agg({'Venta': 'sum'})\n",
    "venta_recaudo_real_empleado_sub['Real'] = venta_recaudo_real_empleado_sub['Venta']\n",
    "venta_recaudo_real_empleado_sub.drop(columns=['Venta'], inplace=True)\n",
    "venta_recaudo_real_empleado = venta_recaudo_real_empleado_sub.groupby(['CodigoEmpleado', 'AreaCalculo', 'Fecha'], as_index=False).agg({'Real': 'sum'})\n",
    "\n",
    "# venta presupuesto por empleado por area de calculo por fecha acumulada\n",
    "venta_recaudo_presupuesto_empleado_sub = venta_recaudo_presupuesto_info[venta_recaudo_presupuesto_info['Fecha'] >= venta_recaudo_presupuesto_info['FechaIngreso']]\n",
    "\n",
    "for excepcion in _excepciones_venta_facturada:\n",
    "    venta_recaudo_presupuesto_empleado_sub = venta_recaudo_presupuesto_empleado_sub[\n",
    "        (venta_recaudo_presupuesto_empleado_sub['CodigoEmpleado'] != excepcion['CodigoEmpleado']) |\n",
    "        (venta_recaudo_presupuesto_empleado_sub['AreaCalculo'] != excepcion['AreaCalculo']) |\n",
    "        (venta_recaudo_presupuesto_empleado_sub['Consecutivo'] != excepcion['Consecutivo']) |\n",
    "        (venta_recaudo_presupuesto_empleado_sub['Fecha'] < excepcion['FechaInicio']) |\n",
    "        (venta_recaudo_presupuesto_empleado_sub['Fecha'] > excepcion['FechaFin'])\n",
    "    ]\n",
    "\n",
    "venta_recaudo_presupuesto_empleado_sub_1 = venta_recaudo_presupuesto_empleado_sub.copy()[\n",
    "    (venta_recaudo_presupuesto_empleado_sub['CodigoEmpleado'] == '5004563') &\n",
    "    (venta_recaudo_presupuesto_empleado_sub['SBA'] == '84')\n",
    "]\n",
    "venta_recaudo_presupuesto_empleado_sub_1['CodigoEmpleado'] = '5005371'\n",
    "venta_recaudo_presupuesto_empleado_sub_1['AreaCalculo'] = 14\n",
    "venta_recaudo_presupuesto_empleado_sub_1['Consecutivo'] = 2\n",
    "\n",
    "venta_recaudo_presupuesto_empleado_sub_2 = venta_recaudo_presupuesto_empleado_sub.copy()[\n",
    "    (venta_recaudo_presupuesto_empleado_sub['CodigoEmpleado'] == '5004563') &\n",
    "    (venta_recaudo_presupuesto_empleado_sub['SBA'] == '84')\n",
    "]\n",
    "venta_recaudo_presupuesto_empleado_sub_2['CodigoEmpleado'] = '5039251'\n",
    "venta_recaudo_presupuesto_empleado_sub_2['AreaCalculo'] = 15\n",
    "venta_recaudo_presupuesto_empleado_sub_2['Consecutivo'] = 2\n",
    "\n",
    "venta_recaudo_presupuesto_empleado_sub_3 = venta_recaudo_presupuesto_empleado_sub.copy()[\n",
    "    (venta_recaudo_presupuesto_empleado_sub['CodigoEmpleado'] == '5018231') & \n",
    "    (venta_recaudo_presupuesto_empleado_sub['Fecha'] >= '2021-08-01')\n",
    "]\n",
    "venta_recaudo_presupuesto_empleado_sub_3['CodigoEmpleado'] = '1128448666'\n",
    "venta_recaudo_presupuesto_empleado_sub_3['AreaCalculo'] = 9\n",
    "\n",
    "venta_recaudo_presupuesto_empleado_sub = pd.concat([\n",
    "    venta_recaudo_presupuesto_empleado_sub,\n",
    "    venta_recaudo_presupuesto_empleado_sub_1,\n",
    "    venta_recaudo_presupuesto_empleado_sub_2,\n",
    "    venta_recaudo_presupuesto_empleado_sub_3\n",
    "])\n",
    "venta_recaudo_presupuesto_empleado_sub = venta_recaudo_presupuesto_empleado_sub.groupby(['CodigoEmpleado', 'AreaCalculo', 'Consecutivo', 'Fecha'], as_index=False).agg({'Venta': 'sum'})\n",
    "venta_recaudo_presupuesto_empleado_sub['Presupuesto'] = venta_recaudo_presupuesto_empleado_sub['Venta']\n",
    "venta_recaudo_presupuesto_empleado_sub.drop(columns=['Venta'], inplace=True)\n",
    "venta_recaudo_presupuesto_empleado = venta_recaudo_presupuesto_empleado_sub.groupby(['CodigoEmpleado', 'AreaCalculo', 'Fecha'], as_index=False).agg({'Presupuesto': 'sum'})\n",
    "\n",
    "\n",
    "## VentaFacturadaZonaCargoIndividual\n",
    "cumplimiento_venta_individual = pd.merge(\n",
    "    left=venta_recaudo_presupuesto_empleado,\n",
    "    right=venta_recaudo_real_empleado,\n",
    "    on=['CodigoEmpleado', 'AreaCalculo', 'Fecha'],\n",
    "    how='outer'\n",
    ")\n",
    "cumplimiento_venta_individual['Presupuesto'].fillna(0.0, inplace=True)\n",
    "cumplimiento_venta_individual['Real'].fillna(0.0, inplace=True)\n",
    "cumplimiento_venta_individual['Presupuesto'] = cumplimiento_venta_individual.groupby(['CodigoEmpleado', 'AreaCalculo'])['Presupuesto'].transform(pd.Series.cumsum)\n",
    "cumplimiento_venta_individual['Real'] = cumplimiento_venta_individual.groupby(['CodigoEmpleado', 'AreaCalculo'])['Real'].transform(pd.Series.cumsum)\n",
    "cumplimiento_venta_individual['PorcentajeCumplimiento'] = cumplimiento_venta_individual['Real'] / cumplimiento_venta_individual['Presupuesto']\n",
    "cumplimiento_venta_individual['PorcentajeCumplimiento'] = cumplimiento_venta_individual['PorcentajeCumplimiento'].apply(lambda x: round(x, 2))\n",
    "cumplimiento_venta_individual.rename(columns={'CodigoEmpleado': 'Contexto'}, inplace=True)\n",
    "cumplimiento_venta_individual['Variable'] = 'VentaFacturadaZonaCargoIndividual'\n",
    "cumplimiento_venta_individual = cumplimiento_venta_individual[['Contexto', 'Variable', 'Fecha', 'Real', 'Presupuesto', 'PorcentajeCumplimiento']]\n",
    "\n",
    "cumplimiento_venta_individual.head()\n",
    "\n",
    "## VentaFacturadaZonaCargoIndividualSub\n",
    "cumplimiento_venta_individual_sub = pd.merge(\n",
    "    left=venta_recaudo_presupuesto_empleado_sub,\n",
    "    right=venta_recaudo_real_empleado_sub,\n",
    "    on=['CodigoEmpleado', 'AreaCalculo', 'Consecutivo', 'Fecha'],\n",
    "    how='outer'\n",
    ")\n",
    "cumplimiento_venta_individual_sub['Real'].fillna(0.0, inplace=True)\n",
    "cumplimiento_venta_individual_sub['Presupuesto'].fillna(0.0, inplace=True)\n",
    "\n",
    "cumplimiento_venta_individual_sub['Presupuesto'] = cumplimiento_venta_individual_sub.groupby(['CodigoEmpleado', 'AreaCalculo', 'Consecutivo'])['Presupuesto'].transform(pd.Series.cumsum)\n",
    "cumplimiento_venta_individual_sub['Real'] = cumplimiento_venta_individual_sub.groupby(['CodigoEmpleado', 'AreaCalculo', 'Consecutivo'])['Real'].transform(pd.Series.cumsum)\n",
    "cumplimiento_venta_individual_sub['PorcentajeCumplimiento'] = cumplimiento_venta_individual_sub['Real'] / cumplimiento_venta_individual_sub['Presupuesto']\n",
    "cumplimiento_venta_individual_sub['PorcentajeCumplimiento'] = cumplimiento_venta_individual_sub['PorcentajeCumplimiento'].apply(lambda x: round(x, 2))\n",
    "cumplimiento_venta_individual_sub['PorcentajeCumplimiento'].fillna(0.0, inplace=True)\n",
    "cumplimiento_venta_individual_sub['Consecutivo'] = cumplimiento_venta_individual_sub['Consecutivo'].astype(int).astype('str')\n",
    "cumplimiento_venta_individual_sub['Contexto'] = cumplimiento_venta_individual_sub['CodigoEmpleado'].str.cat(cumplimiento_venta_individual_sub['Consecutivo'],sep=\"_\")\n",
    "cumplimiento_venta_individual_sub['Variable'] = 'VentaFacturadaZonaCargoIndividualSub'\n",
    "\n",
    "cumplimiento_venta_individual_sub = cumplimiento_venta_individual_sub[['Contexto', 'Variable', 'Fecha', 'Real', 'Presupuesto', 'PorcentajeCumplimiento']]\n",
    "\n",
    "cumplimiento_venta_individual_sub.head()"
   ]
  },
  {
   "cell_type": "markdown",
   "metadata": {
    "datalore": {
     "hide_input_from_viewers": false,
     "hide_output_from_viewers": false,
     "type": "MD"
    }
   },
   "source": [
    "## 4. Objetivos de recaudo individuales (VentasCobradaZonaCargoIndividual y VentasCobradaZonaCargoIndividualSub)"
   ]
  },
  {
   "cell_type": "code",
   "execution_count": null,
   "metadata": {
    "datalore": {
     "hide_input_from_viewers": false,
     "hide_output_from_viewers": false,
     "type": "CODE"
    }
   },
   "outputs": [],
   "source": [
    "_excepciones_venta_recaudo = [\n",
    "    # {\n",
    "    #     'CodigoEmpleado': '5003527',\n",
    "    #     'AreaCalculo': 7,\n",
    "    #     'Consecutivo': 4,\n",
    "    #     'FechaInicio': '2021-02-01',\n",
    "    #     'FechaFin': '2021-06-01'\n",
    "    # }\n",
    "]\n",
    "\n",
    "# recaudo real por empleado por area de calculo y consecutivo por fecha acumulada\n",
    "venta_recaudo_real_empleado_sub = venta_recaudo_real_info[venta_recaudo_real_info['Fecha'] >= venta_recaudo_real_info['FechaIngreso']]\n",
    "\n",
    "for excepcion in _excepciones_venta_recaudo:\n",
    "    venta_recaudo_real_empleado_sub = venta_recaudo_real_empleado_sub[\n",
    "        (venta_recaudo_real_empleado_sub['CodigoEmpleado'] != excepcion['CodigoEmpleado']) |\n",
    "        (venta_recaudo_real_empleado_sub['AreaCalculo'] != excepcion['AreaCalculo']) |\n",
    "        (venta_recaudo_real_empleado_sub['Consecutivo'] != excepcion['Consecutivo']) |\n",
    "        (venta_recaudo_real_empleado_sub['Fecha'] < excepcion['FechaInicio']) |\n",
    "        (venta_recaudo_real_empleado_sub['Fecha'] > excepcion['FechaFin'])\n",
    "    ]\n",
    "\n",
    "venta_recaudo_real_empleado_sub_1 = venta_recaudo_real_empleado_sub.copy()[\n",
    "    (venta_recaudo_real_empleado_sub['CodigoEmpleado'] == '5004563') &\n",
    "    (venta_recaudo_real_empleado_sub['SBA'] == '84')\n",
    "]\n",
    "venta_recaudo_real_empleado_sub_1['CodigoEmpleado'] = '5005371'\n",
    "venta_recaudo_real_empleado_sub_1['AreaCalculo'] = 14\n",
    "venta_recaudo_real_empleado_sub_1['Consecutivo'] = 2\n",
    "\n",
    "venta_recaudo_real_empleado_sub_2 = venta_recaudo_real_empleado_sub.copy()[\n",
    "    (venta_recaudo_real_empleado_sub['CodigoEmpleado'] == '5004563') &\n",
    "    (venta_recaudo_real_empleado_sub['SBA'] == '84')\n",
    "]\n",
    "venta_recaudo_real_empleado_sub_2['CodigoEmpleado'] = '5039251'\n",
    "venta_recaudo_real_empleado_sub_2['AreaCalculo'] = 15\n",
    "venta_recaudo_real_empleado_sub_2['Consecutivo'] = 2\n",
    "\n",
    "venta_recaudo_real_empleado_sub_3 = venta_recaudo_real_empleado_sub.copy()[\n",
    "    (venta_recaudo_real_empleado_sub['CodigoEmpleado'] == '5018231') & \n",
    "    (venta_recaudo_real_empleado_sub['Fecha'] >= '2021-08-01')\n",
    "]\n",
    "venta_recaudo_real_empleado_sub_3['CodigoEmpleado'] = '1128448666'\n",
    "venta_recaudo_real_empleado_sub_3['AreaCalculo'] = 9\n",
    "\n",
    "venta_recaudo_real_empleado_sub = pd.concat([\n",
    "    venta_recaudo_real_empleado_sub,\n",
    "    venta_recaudo_real_empleado_sub_1,\n",
    "    venta_recaudo_real_empleado_sub_2,\n",
    "    venta_recaudo_real_empleado_sub_3\n",
    "])\n",
    "\n",
    "venta_recaudo_real_empleado_sub = venta_recaudo_real_empleado_sub.groupby(['CodigoEmpleado', 'AreaCalculo', 'Consecutivo', 'Fecha'], as_index=False).agg({'Recaudo': 'sum'})\n",
    "venta_recaudo_real_empleado_sub['Real'] = venta_recaudo_real_empleado_sub['Recaudo']\n",
    "venta_recaudo_real_empleado_sub.drop(columns=['Recaudo'], inplace=True)\n",
    "venta_recaudo_real_empleado = venta_recaudo_real_empleado_sub.groupby(['CodigoEmpleado', 'AreaCalculo', 'Fecha'], as_index=False).agg({'Real': 'sum'})\n",
    "\n",
    "# recaudo presupuesto por empleado por area de calculo y consecutivo por fecha acumulada\n",
    "venta_recaudo_presupuesto_empleado_sub = venta_recaudo_presupuesto_info[venta_recaudo_presupuesto_info['Fecha'] >= venta_recaudo_presupuesto_info['FechaIngreso']]\n",
    "\n",
    "for excepcion in _excepciones_venta_recaudo:\n",
    "    venta_recaudo_presupuesto_empleado_sub = venta_recaudo_presupuesto_empleado_sub[\n",
    "        (venta_recaudo_presupuesto_empleado_sub['CodigoEmpleado'] != excepcion['CodigoEmpleado']) |\n",
    "        (venta_recaudo_presupuesto_empleado_sub['AreaCalculo'] != excepcion['AreaCalculo']) |\n",
    "        (venta_recaudo_presupuesto_empleado_sub['Consecutivo'] != excepcion['Consecutivo']) |\n",
    "        (venta_recaudo_presupuesto_empleado_sub['Fecha'] < excepcion['FechaInicio']) |\n",
    "        (venta_recaudo_presupuesto_empleado_sub['Fecha'] > excepcion['FechaFin'])\n",
    "    ]\n",
    "\n",
    "venta_recaudo_presupuesto_empleado_sub_1 = venta_recaudo_presupuesto_empleado_sub.copy()[\n",
    "    (venta_recaudo_presupuesto_empleado_sub['CodigoEmpleado'] == '5004563') &\n",
    "    (venta_recaudo_presupuesto_empleado_sub['SBA'] == '84')\n",
    "]\n",
    "venta_recaudo_presupuesto_empleado_sub_1['CodigoEmpleado'] = '5005371'\n",
    "venta_recaudo_presupuesto_empleado_sub_1['AreaCalculo'] = 14\n",
    "venta_recaudo_presupuesto_empleado_sub_1['Consecutivo'] = 2\n",
    "\n",
    "venta_recaudo_presupuesto_empleado_sub_2 = venta_recaudo_presupuesto_empleado_sub.copy()[\n",
    "    (venta_recaudo_presupuesto_empleado_sub['CodigoEmpleado'] == '5004563') &\n",
    "    (venta_recaudo_presupuesto_empleado_sub['SBA'] == '84')\n",
    "]\n",
    "venta_recaudo_presupuesto_empleado_sub_2['CodigoEmpleado'] = '5039251'\n",
    "venta_recaudo_presupuesto_empleado_sub_2['AreaCalculo'] = 15\n",
    "venta_recaudo_presupuesto_empleado_sub_2['Consecutivo'] = 2\n",
    "\n",
    "venta_recaudo_presupuesto_empleado_sub_3 = venta_recaudo_presupuesto_empleado_sub.copy()[\n",
    "    (venta_recaudo_presupuesto_empleado_sub['CodigoEmpleado'] == '5018231') & \n",
    "    (venta_recaudo_presupuesto_empleado_sub['Fecha'] >= '2021-08-01')\n",
    "]\n",
    "venta_recaudo_presupuesto_empleado_sub_3['CodigoEmpleado'] = '1128448666'\n",
    "venta_recaudo_presupuesto_empleado_sub_3['AreaCalculo'] = 9\n",
    "\n",
    "venta_recaudo_presupuesto_empleado_sub = pd.concat([\n",
    "    venta_recaudo_presupuesto_empleado_sub,\n",
    "    venta_recaudo_presupuesto_empleado_sub_1,\n",
    "    venta_recaudo_presupuesto_empleado_sub_2,\n",
    "    venta_recaudo_presupuesto_empleado_sub_3\n",
    "])\n",
    "\n",
    "venta_recaudo_presupuesto_empleado_sub = venta_recaudo_presupuesto_empleado_sub.groupby(['CodigoEmpleado', 'AreaCalculo', 'Consecutivo', 'Fecha'], as_index=False).agg({'Recaudo': 'sum'})\n",
    "venta_recaudo_presupuesto_empleado_sub['Presupuesto'] = venta_recaudo_presupuesto_empleado_sub['Recaudo']\n",
    "venta_recaudo_presupuesto_empleado_sub.drop(columns=['Recaudo'], inplace=True)\n",
    "venta_recaudo_presupuesto_empleado = venta_recaudo_presupuesto_empleado_sub.groupby(['CodigoEmpleado', 'AreaCalculo', 'Fecha'], as_index=False).agg({'Presupuesto': 'sum'})\n",
    "\n",
    "## VentasCobradaZonaCargoIndividual\n",
    "cumplimiento_recaudo_individual = pd.merge(\n",
    "    left=venta_recaudo_presupuesto_empleado,\n",
    "    right=venta_recaudo_real_empleado,\n",
    "    on=['CodigoEmpleado', 'AreaCalculo', 'Fecha'],\n",
    "    how='outer'\n",
    ")\n",
    "cumplimiento_recaudo_individual['Real'].fillna(0.0, inplace=True)\n",
    "cumplimiento_recaudo_individual['Presupuesto'] = cumplimiento_recaudo_individual.groupby(['CodigoEmpleado', 'AreaCalculo'])['Presupuesto'].transform(pd.Series.cumsum)\n",
    "cumplimiento_recaudo_individual['Real'] = cumplimiento_recaudo_individual.groupby(['CodigoEmpleado', 'AreaCalculo'])['Real'].transform(pd.Series.cumsum)\n",
    "cumplimiento_recaudo_individual['PorcentajeCumplimiento'] = cumplimiento_recaudo_individual['Real'] / cumplimiento_recaudo_individual['Presupuesto']\n",
    "cumplimiento_recaudo_individual['PorcentajeCumplimiento'] = cumplimiento_recaudo_individual['PorcentajeCumplimiento'].apply(lambda x: round(x, 2))\n",
    "cumplimiento_recaudo_individual.rename(columns={'CodigoEmpleado': 'Contexto'}, inplace=True)\n",
    "cumplimiento_recaudo_individual['Variable'] = 'VentasCobradaZonaCargoIndividual'\n",
    "cumplimiento_recaudo_individual = cumplimiento_recaudo_individual[['Contexto', 'Variable', 'Fecha', 'Real', 'Presupuesto', 'PorcentajeCumplimiento']]\n",
    "\n",
    "cumplimiento_recaudo_individual.head()\n",
    "\n",
    "\n",
    "## VentasCobradaZonaCargoIndividualSub\n",
    "cumplimiento_recaudo_individual_sub = pd.merge(\n",
    "    left=venta_recaudo_presupuesto_empleado_sub,\n",
    "    right=venta_recaudo_real_empleado_sub,\n",
    "    on=['CodigoEmpleado', 'AreaCalculo', 'Consecutivo', 'Fecha'],\n",
    "    how='outer'\n",
    ")\n",
    "cumplimiento_recaudo_individual_sub['Real'].fillna(0.0, inplace=True)\n",
    "cumplimiento_recaudo_individual_sub['Presupuesto'].fillna(0.0, inplace=True)\n",
    "\n",
    "_excepciones_recaudo_sub = []\n",
    "\n",
    "for excepcion in _excepciones_recaudo_sub:\n",
    "    cumplimiento_recaudo_individual_sub['Presupuesto'] = np.where(\n",
    "        (\n",
    "            (cumplimiento_recaudo_individual_sub['CodigoEmpleado'].isin(excepcion['Codigos'])) &\n",
    "            (cumplimiento_recaudo_individual_sub['Consecutivo'] == excepcion['Consecutivo']) &\n",
    "            # (cumplimiento_recaudo_individual_sub['Variable'] == 'VentasCobradaZonaCargoIndividualSub') &\n",
    "            (cumplimiento_recaudo_individual_sub['Fecha'] >= excepcion['FechaInicial']) &\n",
    "            (cumplimiento_recaudo_individual_sub['Fecha'] <= excepcion['FechaFinal'])\n",
    "        ),\n",
    "        excepcion['ValorPresupuesto'],\n",
    "        cumplimiento_recaudo_individual_sub['Presupuesto']\n",
    "    )\n",
    "    cumplimiento_recaudo_individual_sub['Real'] = np.where(\n",
    "        (\n",
    "            (cumplimiento_recaudo_individual_sub['CodigoEmpleado'].isin(excepcion['Codigos'])) &\n",
    "            (cumplimiento_recaudo_individual_sub['Consecutivo'] == excepcion['Consecutivo']) &\n",
    "            # (cumplimiento_recaudo_individual_sub['Variable'] == 'VentasCobradaZonaCargoIndividualSub') &\n",
    "            (cumplimiento_recaudo_individual_sub['Fecha'] >= excepcion['FechaInicial']) &\n",
    "            (cumplimiento_recaudo_individual_sub['Fecha'] <= excepcion['FechaFinal'])\n",
    "        ),\n",
    "        excepcion['ValorReal'],\n",
    "        cumplimiento_recaudo_individual_sub['Real']\n",
    "    )\n",
    "\n",
    "\n",
    "cumplimiento_recaudo_individual_sub['Presupuesto'] = cumplimiento_recaudo_individual_sub.groupby(['CodigoEmpleado', 'AreaCalculo', 'Consecutivo'])['Presupuesto'].transform(pd.Series.cumsum)\n",
    "cumplimiento_recaudo_individual_sub['Real'] = cumplimiento_recaudo_individual_sub.groupby(['CodigoEmpleado', 'AreaCalculo', 'Consecutivo'])['Real'].transform(pd.Series.cumsum)\n",
    "cumplimiento_recaudo_individual_sub['PorcentajeCumplimiento'] = cumplimiento_recaudo_individual_sub['Real'] / cumplimiento_recaudo_individual_sub['Presupuesto']\n",
    "cumplimiento_recaudo_individual_sub['PorcentajeCumplimiento'] = cumplimiento_recaudo_individual_sub['PorcentajeCumplimiento'].apply(lambda x: round(x, 2))\n",
    "cumplimiento_recaudo_individual_sub['PorcentajeCumplimiento'].fillna(0.0, inplace=True)\n",
    "cumplimiento_recaudo_individual_sub['Consecutivo'] = cumplimiento_recaudo_individual_sub['Consecutivo'].astype(int).astype('str')\n",
    "cumplimiento_recaudo_individual_sub['Contexto'] = cumplimiento_recaudo_individual_sub['CodigoEmpleado'].str.cat(cumplimiento_recaudo_individual_sub['Consecutivo'],sep=\"_\")\n",
    "cumplimiento_recaudo_individual_sub['Variable'] = 'VentasCobradaZonaCargoIndividualSub'\n",
    "cumplimiento_recaudo_individual_sub = cumplimiento_recaudo_individual_sub[['Contexto', 'Variable', 'Fecha', 'Real', 'Presupuesto', 'PorcentajeCumplimiento']]\n",
    "\n",
    "cumplimiento_recaudo_individual_sub.head()"
   ]
  },
  {
   "cell_type": "markdown",
   "metadata": {
    "datalore": {
     "hide_input_from_viewers": false,
     "hide_output_from_viewers": false,
     "type": "MD"
    }
   },
   "source": [
    "## 5. Objetivos de venta por área de cálculo (VentaFacturadaPorAreaCalculo y VentaFacturadaPorAreaCalculoSub)"
   ]
  },
  {
   "cell_type": "code",
   "execution_count": null,
   "metadata": {
    "datalore": {
     "hide_input_from_viewers": false,
     "hide_output_from_viewers": false,
     "type": "CODE"
    }
   },
   "outputs": [],
   "source": [
    "area_calculo_sba_completo_ve7 = area_calculo_sba_completo[\n",
    "    (area_calculo_sba_completo['TipoEmpleado'] == 'VE')&\n",
    "    (area_calculo_sba_completo['AreaCalculo'] == 7)\n",
    "][['TipoEmpleado', 'AreaCalculo', 'Consecutivo', 'GrupoProducto', 'SBA']]"
   ]
  },
  {
   "cell_type": "code",
   "execution_count": null,
   "metadata": {
    "datalore": {
     "hide_input_from_viewers": false,
     "hide_output_from_viewers": false,
     "type": "CODE"
    }
   },
   "outputs": [],
   "source": [
    "resultados_venta_area_calculo_real = pd.merge(\n",
    "    left=venta_recaudo_real_info[[\n",
    "        'GrupoProducto', \n",
    "        'SBA', \n",
    "        'Fecha',\n",
    "        'Venta'\n",
    "    ]],\n",
    "    right=area_calculo_sba_completo_ve7,\n",
    "    on=['GrupoProducto', 'SBA']\n",
    ")\n",
    "resultados_venta_area_calculo_real_sub = resultados_venta_area_calculo_real.groupby(\n",
    "    ['TipoEmpleado', 'AreaCalculo', 'Consecutivo', 'Fecha'],\n",
    "    as_index=False\n",
    ").agg({'Venta': 'sum'})\n",
    "resultados_venta_area_calculo_real = resultados_venta_area_calculo_real.groupby(\n",
    "    ['TipoEmpleado', 'AreaCalculo', 'Fecha'],\n",
    "    as_index=False\n",
    ").agg({'Venta': 'sum'})\n",
    "\n",
    "\n",
    "resultados_venta_area_calculo_presupuesto = pd.merge(\n",
    "    left=venta_recaudo_presupuesto_info[[\n",
    "        'GrupoProducto', \n",
    "        'SBA', \n",
    "        'Fecha',\n",
    "        'Venta'\n",
    "    ]],\n",
    "    right=area_calculo_sba_completo_ve7,\n",
    "    on=['GrupoProducto', 'SBA']\n",
    ")\n",
    "resultados_venta_area_calculo_presupuesto_sub = resultados_venta_area_calculo_presupuesto.groupby(\n",
    "    ['TipoEmpleado', 'AreaCalculo', 'Consecutivo', 'Fecha'],\n",
    "    as_index=False\n",
    ").agg({'Venta': 'sum'})\n",
    "resultados_venta_area_calculo_presupuesto = resultados_venta_area_calculo_presupuesto.groupby(\n",
    "    ['TipoEmpleado', 'AreaCalculo', 'Fecha'],\n",
    "    as_index=False\n",
    ").agg({'Venta': 'sum'})\n",
    "\n",
    "## VentaFacturadaPorAreaCalculo\n",
    "cumplimiento_venta_por_area_calculo = pd.merge(\n",
    "    left=resultados_venta_area_calculo_presupuesto.rename(columns={'Venta': 'Presupuesto'}),\n",
    "    right=resultados_venta_area_calculo_real.rename(columns={'Venta': 'Real'}),\n",
    "    on=['TipoEmpleado', 'AreaCalculo', 'Fecha'],\n",
    "    how='left'\n",
    ")\n",
    "cumplimiento_venta_por_area_calculo['Real'].fillna(0.0, inplace=True)\n",
    "\n",
    "cumplimiento_venta_por_area_calculo['Variable'] = 'VentaFacturadaPorAreaCalculo'\n",
    "cumplimiento_venta_por_area_calculo['Contexto'] = cumplimiento_venta_por_area_calculo['TipoEmpleado'].str.cat(cumplimiento_venta_por_area_calculo['AreaCalculo'].astype('str'),sep=\"_\")\n",
    "cumplimiento_venta_por_area_calculo['Real'] = cumplimiento_venta_por_area_calculo.groupby(['Contexto'])['Real'].transform(pd.Series.cumsum)\n",
    "cumplimiento_venta_por_area_calculo['Presupuesto'] = cumplimiento_venta_por_area_calculo.groupby(['Contexto'])['Presupuesto'].transform(pd.Series.cumsum)\n",
    "cumplimiento_venta_por_area_calculo['PorcentajeCumplimiento'] = cumplimiento_venta_por_area_calculo['Real'] / cumplimiento_venta_por_area_calculo['Presupuesto']\n",
    "\n",
    "cumplimiento_venta_por_area_calculo = cumplimiento_venta_por_area_calculo[[\n",
    "    'Contexto',\n",
    "    'Variable',\n",
    "    'Fecha',\n",
    "    'Real',\n",
    "    'Presupuesto',\n",
    "    'PorcentajeCumplimiento'\n",
    "]]\n",
    "\n",
    "cumplimiento_venta_por_area_calculo.head()\n",
    "\n",
    "## VentaFacturadaPorAreaCalculoSub\n",
    "cumplimiento_venta_por_area_calculo_sub = pd.merge(\n",
    "    left=resultados_venta_area_calculo_presupuesto_sub.rename(columns={'Venta': 'Presupuesto'}),\n",
    "    right=resultados_venta_area_calculo_real_sub.rename(columns={'Venta': 'Real'}),\n",
    "    on=['TipoEmpleado', 'AreaCalculo', 'Consecutivo', 'Fecha'],\n",
    "    how='left'\n",
    ")\n",
    "cumplimiento_venta_por_area_calculo_sub['Real'].fillna(0.0, inplace=True)\n",
    "\n",
    "\n",
    "cumplimiento_venta_por_area_calculo_sub['Variable'] = 'VentaFacturadaPorAreaCalculoSub'\n",
    "cumplimiento_venta_por_area_calculo_sub['Contexto'] = cumplimiento_venta_por_area_calculo_sub['TipoEmpleado'].str.cat(cumplimiento_venta_por_area_calculo_sub['AreaCalculo'].astype('str'),sep=\"_\")\n",
    "cumplimiento_venta_por_area_calculo_sub['Contexto'] = cumplimiento_venta_por_area_calculo_sub['Contexto'].str.cat(cumplimiento_venta_por_area_calculo_sub['Consecutivo'].astype('str'), sep='_')\n",
    "cumplimiento_venta_por_area_calculo_sub['Real'] = cumplimiento_venta_por_area_calculo_sub.groupby(['Contexto'])['Real'].transform(pd.Series.cumsum)\n",
    "cumplimiento_venta_por_area_calculo_sub['Presupuesto'] = cumplimiento_venta_por_area_calculo_sub.groupby(['Contexto'])['Presupuesto'].transform(pd.Series.cumsum)\n",
    "cumplimiento_venta_por_area_calculo_sub['PorcentajeCumplimiento'] = cumplimiento_venta_por_area_calculo_sub['Real'] / cumplimiento_venta_por_area_calculo_sub['Presupuesto']\n",
    "\n",
    "cumplimiento_venta_por_area_calculo_sub = cumplimiento_venta_por_area_calculo_sub[[\n",
    "    'Contexto',\n",
    "    'Variable',\n",
    "    'Fecha',\n",
    "    'Real',\n",
    "    'Presupuesto',\n",
    "    'PorcentajeCumplimiento'\n",
    "]]\n",
    "\n",
    "cumplimiento_venta_por_area_calculo_sub.head()"
   ]
  },
  {
   "cell_type": "markdown",
   "metadata": {
    "datalore": {
     "hide_input_from_viewers": false,
     "hide_output_from_viewers": false,
     "type": "MD"
    }
   },
   "source": [
    "## 6. Objetivos de recaudo por área de cálculo (VentasCobradaPorAreaCalculo y VentasCobradaPorAreaCalculoSub)"
   ]
  },
  {
   "cell_type": "code",
   "execution_count": null,
   "metadata": {
    "datalore": {
     "hide_input_from_viewers": false,
     "hide_output_from_viewers": false,
     "type": "CODE"
    }
   },
   "outputs": [],
   "source": [
    "resultados_recaudo_area_calculo_real = pd.merge(\n",
    "    left=venta_recaudo_real_info[[\n",
    "        'GrupoProducto', \n",
    "        'SBA', \n",
    "        'Fecha',\n",
    "        'Recaudo'\n",
    "    ]],\n",
    "    right=area_calculo_sba_completo_ve7,\n",
    "    on=['GrupoProducto', 'SBA']\n",
    ")\n",
    "resultados_recaudo_area_calculo_real_sub = resultados_recaudo_area_calculo_real.groupby(\n",
    "    ['TipoEmpleado', 'AreaCalculo', 'Consecutivo', 'Fecha'],\n",
    "    as_index=False\n",
    ").agg({'Recaudo': 'sum'})\n",
    "resultados_recaudo_area_calculo_real = resultados_recaudo_area_calculo_real.groupby(\n",
    "    ['TipoEmpleado', 'AreaCalculo', 'Fecha'],\n",
    "    as_index=False\n",
    ").agg({'Recaudo': 'sum'})\n",
    "\n",
    "\n",
    "resultados_recaudo_area_calculo_presupuesto = pd.merge(\n",
    "    left=venta_recaudo_presupuesto_info[[\n",
    "        'GrupoProducto', \n",
    "        'SBA', \n",
    "        'Fecha',\n",
    "        'Recaudo'\n",
    "    ]],\n",
    "    right=area_calculo_sba_completo_ve7,\n",
    "    on=['GrupoProducto', 'SBA']\n",
    ")\n",
    "resultados_recaudo_area_calculo_presupuesto_sub = resultados_recaudo_area_calculo_presupuesto.groupby(\n",
    "    ['TipoEmpleado', 'AreaCalculo', 'Consecutivo', 'Fecha'],\n",
    "    as_index=False\n",
    ").agg({'Recaudo': 'sum'})\n",
    "resultados_recaudo_area_calculo_presupuesto = resultados_recaudo_area_calculo_presupuesto.groupby(\n",
    "    ['TipoEmpleado', 'AreaCalculo', 'Fecha'],\n",
    "    as_index=False\n",
    ").agg({'Recaudo': 'sum'})\n",
    "\n",
    "## VentasCobradaPorAreaCalculo\n",
    "cumplimiento_recaudo_por_area_calculo = pd.merge(\n",
    "    left=resultados_recaudo_area_calculo_presupuesto.rename(columns={'Recaudo': 'Presupuesto'}),\n",
    "    right=resultados_recaudo_area_calculo_real.rename(columns={'Recaudo': 'Real'}),\n",
    "    on=['TipoEmpleado', 'AreaCalculo', 'Fecha'],\n",
    "    how='left'\n",
    ")\n",
    "cumplimiento_recaudo_por_area_calculo['Real'].fillna(0.0, inplace=True)\n",
    "\n",
    "cumplimiento_recaudo_por_area_calculo['Variable'] = 'VentasCobradaPorAreaCalculo'\n",
    "cumplimiento_recaudo_por_area_calculo['Contexto'] = cumplimiento_recaudo_por_area_calculo['TipoEmpleado'].str.cat(cumplimiento_recaudo_por_area_calculo['AreaCalculo'].astype('str'),sep=\"_\")\n",
    "cumplimiento_recaudo_por_area_calculo['Real'] = cumplimiento_recaudo_por_area_calculo.groupby(['Contexto'])['Real'].transform(pd.Series.cumsum)\n",
    "cumplimiento_recaudo_por_area_calculo['Presupuesto'] = cumplimiento_recaudo_por_area_calculo.groupby(['Contexto'])['Presupuesto'].transform(pd.Series.cumsum)\n",
    "cumplimiento_recaudo_por_area_calculo['PorcentajeCumplimiento'] = cumplimiento_recaudo_por_area_calculo['Real'] / cumplimiento_venta_por_area_calculo['Presupuesto']\n",
    "\n",
    "cumplimiento_recaudo_por_area_calculo = cumplimiento_recaudo_por_area_calculo[[\n",
    "    'Contexto',\n",
    "    'Variable',\n",
    "    'Fecha',\n",
    "    'Real',\n",
    "    'Presupuesto',\n",
    "    'PorcentajeCumplimiento'\n",
    "]]\n",
    "\n",
    "## VentasCobradaPorAreaCalculoSub\n",
    "cumplimiento_recaudo_por_area_calculo_sub = pd.merge(\n",
    "    left=resultados_recaudo_area_calculo_presupuesto_sub.rename(columns={'Recaudo': 'Presupuesto'}),\n",
    "    right=resultados_recaudo_area_calculo_real_sub.rename(columns={'Recaudo': 'Real'}),\n",
    "    on=['TipoEmpleado', 'AreaCalculo', 'Consecutivo', 'Fecha'],\n",
    "    how='left'\n",
    ")\n",
    "cumplimiento_recaudo_por_area_calculo_sub['Real'].fillna(0.0, inplace=True)\n",
    "\n",
    "cumplimiento_recaudo_por_area_calculo_sub['Variable'] = 'VentasCobradaPorAreaCalculoSub'\n",
    "cumplimiento_recaudo_por_area_calculo_sub['Contexto'] = cumplimiento_recaudo_por_area_calculo_sub['TipoEmpleado'].str.cat(cumplimiento_recaudo_por_area_calculo_sub['AreaCalculo'].astype('str'),sep=\"_\")\n",
    "cumplimiento_recaudo_por_area_calculo_sub['Contexto'] = cumplimiento_recaudo_por_area_calculo_sub['Contexto'].str.cat(cumplimiento_recaudo_por_area_calculo_sub['Consecutivo'].astype('str'), sep='_')\n",
    "cumplimiento_recaudo_por_area_calculo_sub['Real'] = cumplimiento_recaudo_por_area_calculo_sub.groupby(['Contexto'])['Real'].transform(pd.Series.cumsum)\n",
    "cumplimiento_recaudo_por_area_calculo_sub['Presupuesto'] = cumplimiento_recaudo_por_area_calculo_sub.groupby(['Contexto'])['Presupuesto'].transform(pd.Series.cumsum)\n",
    "cumplimiento_recaudo_por_area_calculo_sub['PorcentajeCumplimiento'] = cumplimiento_recaudo_por_area_calculo_sub['Real'] / cumplimiento_recaudo_por_area_calculo_sub['Presupuesto']\n",
    "\n",
    "cumplimiento_recaudo_por_area_calculo_sub = cumplimiento_recaudo_por_area_calculo_sub[[\n",
    "    'Contexto',\n",
    "    'Variable',\n",
    "    'Fecha',\n",
    "    'Real',\n",
    "    'Presupuesto',\n",
    "    'PorcentajeCumplimiento'\n",
    "]]\n",
    "\n",
    "cumplimiento_recaudo_por_area_calculo_sub.head()"
   ]
  },
  {
   "cell_type": "markdown",
   "metadata": {
    "datalore": {
     "hide_input_from_viewers": false,
     "hide_output_from_viewers": false,
     "type": "MD"
    }
   },
   "source": [
    "## 7. Objetivos de recaudo a nivel país (VentaCobradaBraunPais)"
   ]
  },
  {
   "cell_type": "code",
   "execution_count": null,
   "metadata": {
    "datalore": {
     "hide_input_from_viewers": false,
     "hide_output_from_viewers": false,
     "type": "CODE"
    }
   },
   "outputs": [],
   "source": [
    "venta_cobrada_braun_pais = VentaCobradaBraunPais(dataframe_loader)\n",
    "cumplimiento_recaudo_nivel_pais = venta_cobrada_braun_pais.calcular()\n",
    "cumplimiento_recaudo_nivel_pais.head()"
   ]
  },
  {
   "cell_type": "markdown",
   "metadata": {
    "datalore": {
     "hide_input_from_viewers": false,
     "hide_output_from_viewers": false,
     "type": "MD"
    }
   },
   "source": [
    "## 8. Objetivos de recaudo por unidad de negocio (VentaCobradaUnidadNegocio y VentaCobradaUnidadNegocioSub)"
   ]
  },
  {
   "cell_type": "markdown",
   "metadata": {
    "datalore": {
     "hide_input_from_viewers": false,
     "hide_output_from_viewers": false,
     "type": "MD"
    }
   },
   "source": [
    "### 8.1. Para GU (VentaFacturadaUnidadNegocio - VentaFacturadaUnidadNegocioSub y VentaCobradaUnidadNegocio - VentaCobradaUnidadNegocioSub)"
   ]
  },
  {
   "cell_type": "code",
   "execution_count": null,
   "metadata": {
    "datalore": {
     "hide_input_from_viewers": false,
     "hide_output_from_viewers": false,
     "type": "CODE"
    }
   },
   "outputs": [],
   "source": [
    "area_calculo_sba_completo_gu = area_calculo_sba_completo[area_calculo_sba_completo['TipoEmpleado']=='GU']\n",
    "\n",
    "#Se halla la informacion de la venta y recaudo real de los representantes de ventas de los GU\n",
    "venta_recaudo_presupuesto_original_gu_real = area_calculo_sba_completo_gu.merge(\n",
    "    df_venta_recaudo_real[['Division', 'GrupoProducto', 'SBA', 'Fecha', 'Venta', 'Recaudo']],\n",
    "    on=['Division', 'GrupoProducto', 'SBA']\n",
    ")\n",
    "\n",
    "#Se halla la informacion de la venta y recaudo presupuesto de los representantes de ventas de los GU\n",
    "venta_recaudo_presupuesto_original_gu_presupuesto = area_calculo_sba_completo_gu.merge(\n",
    "    df_venta_recaudo_presupuesto[['Division', 'GrupoProducto', 'SBA', 'Fecha', 'Venta', 'Recaudo']],\n",
    "    on=['Division', 'GrupoProducto', 'SBA']\n",
    ")"
   ]
  },
  {
   "cell_type": "markdown",
   "metadata": {
    "datalore": {
     "hide_input_from_viewers": false,
     "hide_output_from_viewers": false,
     "type": "MD"
    }
   },
   "source": [
    "#### 8.2.1 VentaFacturadaUnidadNegocio - VentaFacturadaUnidadNegocioSub"
   ]
  },
  {
   "cell_type": "markdown",
   "metadata": {},
   "source": [
    "##### VentaFacturadaUnidadNegocio"
   ]
  },
  {
   "cell_type": "code",
   "execution_count": null,
   "metadata": {},
   "outputs": [],
   "source": [
    "venta_real_area_calculo_gu = venta_recaudo_presupuesto_original_gu_real.groupby(['AreaCalculo', 'Fecha'], as_index=False).agg({'Venta': 'sum'})\n",
    "venta_real_area_calculo_gu['Real'] = venta_real_area_calculo_gu['Venta']\n",
    "venta_real_area_calculo_gu.drop(columns=['Venta'], inplace=True)\n",
    "\n",
    "venta_presupuesto_area_calculo_gu = venta_recaudo_presupuesto_original_gu_presupuesto.groupby(['AreaCalculo', 'Fecha'], as_index=False).agg({'Venta': 'sum'})\n",
    "venta_presupuesto_area_calculo_gu['Presupuesto'] = venta_presupuesto_area_calculo_gu['Venta']\n",
    "venta_presupuesto_area_calculo_gu.drop(columns=['Venta'], inplace=True)\n",
    "\n",
    "cumplimiento_venta_por_unidad_negocio_gu = pd.merge(\n",
    "    left=venta_presupuesto_area_calculo_gu,\n",
    "    right=venta_real_area_calculo_gu,\n",
    "    on=['AreaCalculo', 'Fecha'],\n",
    "    how='left'\n",
    ")\n",
    "cumplimiento_venta_por_unidad_negocio_gu['Real'].fillna(0.0, inplace=True)\n",
    "cumplimiento_venta_por_unidad_negocio_gu['Real'] = cumplimiento_venta_por_unidad_negocio_gu.groupby(['AreaCalculo'])['Real'].transform(pd.Series.cumsum)\n",
    "cumplimiento_venta_por_unidad_negocio_gu['Presupuesto'] = cumplimiento_venta_por_unidad_negocio_gu.groupby(['AreaCalculo'])['Presupuesto'].transform(pd.Series.cumsum)\n",
    "cumplimiento_venta_por_unidad_negocio_gu['PorcentajeCumplimiento'] = cumplimiento_venta_por_unidad_negocio_gu['Real'] / cumplimiento_venta_por_unidad_negocio_gu['Presupuesto']\n",
    "cumplimiento_venta_por_unidad_negocio_gu['PorcentajeCumplimiento'] = cumplimiento_venta_por_unidad_negocio_gu['PorcentajeCumplimiento'].apply(lambda x: round(x, 2))\n",
    "cumplimiento_venta_por_unidad_negocio_gu['Variable'] = 'VentaFacturadaUnidadNegocio'\n",
    "\n",
    "### Cálculo de resultados cualitativos precargados\n",
    "cumplimiento_venta_por_unidad_negocio_gu = dataframe_loader.sobreescribir_resultados_cualitativos(\n",
    "    main=cumplimiento_venta_por_unidad_negocio_gu,\n",
    "    variable='VentaFacturadaUnidadNegocio',\n",
    "    columnas_extra=['TipoEmpleado', 'AreaCalculo'], \n",
    "    columnas_extra_merge=['AreaCalculo'],\n",
    "    pre_merge_lambda=lambda x: x[x['TipoEmpleado'] == 'GU']\n",
    ")\n",
    "###\n",
    "\n",
    "cumplimiento_venta_por_unidad_negocio_gu['AreaCalculo'] = cumplimiento_venta_por_unidad_negocio_gu['AreaCalculo'].astype('str')\n",
    "cumplimiento_venta_por_unidad_negocio_gu['Contexto'] = 'gu_' + cumplimiento_venta_por_unidad_negocio_gu['AreaCalculo']\n",
    "cumplimiento_venta_por_unidad_negocio_gu = cumplimiento_venta_por_unidad_negocio_gu[['Contexto', 'Variable', 'Fecha', 'Real', 'Presupuesto', 'PorcentajeCumplimiento']]\n",
    "\n",
    "cumplimiento_venta_por_unidad_negocio_gu.head()"
   ]
  },
  {
   "cell_type": "markdown",
   "metadata": {},
   "source": [
    "##### VentaFacturadaUnidadNegocioSub"
   ]
  },
  {
   "cell_type": "code",
   "execution_count": null,
   "metadata": {},
   "outputs": [],
   "source": [
    "venta_real_area_calculo_gu_sub = venta_recaudo_presupuesto_original_gu_real.groupby(['AreaCalculo', 'Consecutivo', 'Fecha', 'Division', 'GrupoProducto'], as_index=False).agg({'Venta': 'sum'})\n",
    "venta_real_area_calculo_gu_sub['Real'] = venta_real_area_calculo_gu_sub['Venta']\n",
    "venta_real_area_calculo_gu_sub.drop(columns=['Venta'], inplace=True)\n",
    "\n",
    "venta_presupuesto_area_calculo_gu_sub = venta_recaudo_presupuesto_original_gu_presupuesto.groupby(['AreaCalculo', 'Consecutivo', 'Fecha', 'Division', 'GrupoProducto'], as_index=False).agg({'Venta': 'sum'})\n",
    "venta_presupuesto_area_calculo_gu_sub['Presupuesto'] = venta_presupuesto_area_calculo_gu_sub['Venta']\n",
    "venta_presupuesto_area_calculo_gu_sub.drop(columns=['Venta'], inplace=True)\n",
    "\n",
    "cumplimiento_venta_por_unidad_negocio_gu_sub = pd.merge(\n",
    "    left=venta_presupuesto_area_calculo_gu_sub,\n",
    "    right=venta_real_area_calculo_gu_sub,\n",
    "    on=['AreaCalculo', 'Consecutivo', 'Fecha', 'Division', 'GrupoProducto'],\n",
    "    how='left'\n",
    ")\n",
    "cumplimiento_venta_por_unidad_negocio_gu_sub['Real'].fillna(0.0, inplace=True)\n",
    "cumplimiento_venta_por_unidad_negocio_gu_sub"
   ]
  },
  {
   "cell_type": "code",
   "execution_count": null,
   "metadata": {},
   "outputs": [],
   "source": [
    "cumplimiento_venta_por_unidad_negocio_gu_sub_centro_costo = (\n",
    "    dataframe_loader.f_calculo_centro_costo_variable_tipo_empleado(cumplimiento_venta_por_unidad_negocio_gu_sub, 'VentaFacturadaUnidadNegocioSub', 'GU')\n",
    ")\n",
    "cumplimiento_venta_por_unidad_negocio_gu_sub_centro_costo.head(20)"
   ]
  },
  {
   "cell_type": "code",
   "execution_count": null,
   "metadata": {
    "datalore": {
     "hide_input_from_viewers": false,
     "hide_output_from_viewers": false,
     "type": "CODE"
    }
   },
   "outputs": [],
   "source": [
    "cumplimiento_venta_por_unidad_negocio_gu_sub['Real'] = cumplimiento_venta_por_unidad_negocio_gu_sub.groupby(['AreaCalculo', 'Consecutivo'])['Real'].transform(pd.Series.cumsum)\n",
    "cumplimiento_venta_por_unidad_negocio_gu_sub['Presupuesto'] = cumplimiento_venta_por_unidad_negocio_gu_sub.groupby(['AreaCalculo', 'Consecutivo'])['Presupuesto'].transform(pd.Series.cumsum)\n",
    "cumplimiento_venta_por_unidad_negocio_gu_sub['PorcentajeCumplimiento'] = cumplimiento_venta_por_unidad_negocio_gu_sub['Real'] / cumplimiento_venta_por_unidad_negocio_gu_sub['Presupuesto']\n",
    "cumplimiento_venta_por_unidad_negocio_gu_sub['PorcentajeCumplimiento'] = cumplimiento_venta_por_unidad_negocio_gu_sub['PorcentajeCumplimiento'].apply(lambda x: round(x, 2))\n",
    "\n",
    "cumplimiento_venta_por_unidad_negocio_gu_sub['Variable'] = 'VentaFacturadaUnidadNegocioSub'\n",
    "\n",
    "### Cálculo de resultados cualitativos precargados\n",
    "cumplimiento_venta_por_unidad_negocio_gu_sub = dataframe_loader.sobreescribir_resultados_cualitativos(\n",
    "    main=cumplimiento_venta_por_unidad_negocio_gu_sub,\n",
    "    variable='VentaFacturadaUnidadNegocioSub',\n",
    "    columnas_extra=['TipoEmpleado', 'AreaCalculo', 'Consecutivo'], \n",
    "    columnas_extra_merge=['AreaCalculo', 'Consecutivo'],\n",
    "    pre_merge_lambda=lambda x: x[x['TipoEmpleado'] == 'GU']\n",
    ")\n",
    "###\n",
    "\n",
    "cumplimiento_venta_por_unidad_negocio_gu_sub['Consecutivo'] = cumplimiento_venta_por_unidad_negocio_gu_sub['Consecutivo'].astype('str')\n",
    "cumplimiento_venta_por_unidad_negocio_gu_sub['AreaCalculo'] = cumplimiento_venta_por_unidad_negocio_gu_sub['AreaCalculo'].astype('str')\n",
    "cumplimiento_venta_por_unidad_negocio_gu_sub['Contexto'] = 'gu_' + cumplimiento_venta_por_unidad_negocio_gu_sub['AreaCalculo'].str.cat(cumplimiento_venta_por_unidad_negocio_gu_sub['Consecutivo'],sep=\"_\")\n",
    "cumplimiento_venta_por_unidad_negocio_gu_sub = cumplimiento_venta_por_unidad_negocio_gu_sub[['Contexto', 'Variable', 'Fecha', 'Real', 'Presupuesto', 'PorcentajeCumplimiento']]\n",
    "\n",
    "cumplimiento_venta_por_unidad_negocio_gu_sub.head()"
   ]
  },
  {
   "cell_type": "markdown",
   "metadata": {
    "datalore": {
     "hide_input_from_viewers": false,
     "hide_output_from_viewers": false,
     "type": "MD"
    }
   },
   "source": [
    "#### 8.2.2 VentaCobradaUnidadNegocio - VentaCobradaUnidadNegocioSub"
   ]
  },
  {
   "cell_type": "markdown",
   "metadata": {},
   "source": [
    "##### VentaCobradaUnidadNegocio"
   ]
  },
  {
   "cell_type": "code",
   "execution_count": null,
   "metadata": {
    "datalore": {
     "hide_input_from_viewers": false,
     "hide_output_from_viewers": false,
     "type": "CODE"
    }
   },
   "outputs": [],
   "source": [
    "recaudo_real_area_calculo_gu = venta_recaudo_presupuesto_original_gu_real.groupby(['AreaCalculo', 'Fecha'], as_index=False).agg({'Recaudo': 'sum'})\n",
    "recaudo_real_area_calculo_gu['Real'] = recaudo_real_area_calculo_gu['Recaudo']\n",
    "recaudo_real_area_calculo_gu.drop(columns=['Recaudo'], inplace=True)\n",
    "\n",
    "recaudo_presupuesto_area_calculo_gu = venta_recaudo_presupuesto_original_gu_presupuesto.groupby(['AreaCalculo', 'Fecha'], as_index=False).agg({'Recaudo': 'sum'})\n",
    "recaudo_presupuesto_area_calculo_gu['Presupuesto'] = recaudo_presupuesto_area_calculo_gu['Recaudo']\n",
    "recaudo_presupuesto_area_calculo_gu.drop(columns=['Recaudo'], inplace=True)\n",
    "\n",
    "cumplimiento_recaudo_por_unidad_negocio_gu = pd.merge(\n",
    "    left=recaudo_presupuesto_area_calculo_gu,\n",
    "    right=recaudo_real_area_calculo_gu,\n",
    "    on=['AreaCalculo', 'Fecha'],\n",
    "    how='left'\n",
    ")\n",
    "cumplimiento_recaudo_por_unidad_negocio_gu['Real'].fillna(0.0, inplace=True)\n",
    "cumplimiento_recaudo_por_unidad_negocio_gu['Real'] = cumplimiento_recaudo_por_unidad_negocio_gu.groupby(['AreaCalculo'])['Real'].transform(pd.Series.cumsum)\n",
    "cumplimiento_recaudo_por_unidad_negocio_gu['Presupuesto'] = cumplimiento_recaudo_por_unidad_negocio_gu.groupby(['AreaCalculo'])['Presupuesto'].transform(pd.Series.cumsum)\n",
    "cumplimiento_recaudo_por_unidad_negocio_gu['PorcentajeCumplimiento'] = cumplimiento_recaudo_por_unidad_negocio_gu['Real'] / cumplimiento_recaudo_por_unidad_negocio_gu['Presupuesto']\n",
    "cumplimiento_recaudo_por_unidad_negocio_gu['PorcentajeCumplimiento'] = cumplimiento_recaudo_por_unidad_negocio_gu['PorcentajeCumplimiento'].apply(lambda x: round(x, 2))\n",
    "cumplimiento_recaudo_por_unidad_negocio_gu['Variable'] = 'VentaCobradaUnidadNegocio'\n",
    "\n",
    "### Cálculo de resultados cualitativos precargados\n",
    "cumplimiento_recaudo_por_unidad_negocio_gu = dataframe_loader.sobreescribir_resultados_cualitativos(\n",
    "    main=cumplimiento_recaudo_por_unidad_negocio_gu,\n",
    "    variable='VentaCobradaUnidadNegocio',\n",
    "    columnas_extra=['TipoEmpleado', 'AreaCalculo'], \n",
    "    columnas_extra_merge=['AreaCalculo'],\n",
    "    pre_merge_lambda=lambda x: x[x['TipoEmpleado'] == 'GU']\n",
    ")\n",
    "###\n",
    "\n",
    "cumplimiento_recaudo_por_unidad_negocio_gu['AreaCalculo'] = cumplimiento_recaudo_por_unidad_negocio_gu['AreaCalculo'].astype('str')\n",
    "cumplimiento_recaudo_por_unidad_negocio_gu['Contexto'] = 'gu_' + cumplimiento_recaudo_por_unidad_negocio_gu['AreaCalculo']\n",
    "cumplimiento_recaudo_por_unidad_negocio_gu = cumplimiento_recaudo_por_unidad_negocio_gu[['Contexto', 'Variable', 'Fecha', 'Real', 'Presupuesto', 'PorcentajeCumplimiento']]\n",
    "\n",
    "cumplimiento_recaudo_por_unidad_negocio_gu.head()"
   ]
  },
  {
   "cell_type": "markdown",
   "metadata": {},
   "source": [
    "##### VentaCobradaUnidadNegocioSub"
   ]
  },
  {
   "cell_type": "code",
   "execution_count": null,
   "metadata": {},
   "outputs": [],
   "source": [
    "recaudo_real_area_calculo_gu_sub = venta_recaudo_presupuesto_original_gu_real.groupby(['AreaCalculo', 'Consecutivo', 'Fecha', 'Division', 'GrupoProducto'], as_index=False).agg({'Recaudo': 'sum'})\n",
    "recaudo_real_area_calculo_gu_sub['Real'] = recaudo_real_area_calculo_gu_sub['Recaudo']\n",
    "recaudo_real_area_calculo_gu_sub.drop(columns=['Recaudo'], inplace=True)\n",
    "\n",
    "recaudo_presupuesto_area_calculo_gu_sub = venta_recaudo_presupuesto_original_gu_presupuesto.groupby(['AreaCalculo', 'Consecutivo', 'Fecha', 'Division', 'GrupoProducto'], as_index=False).agg({'Recaudo': 'sum'})\n",
    "recaudo_presupuesto_area_calculo_gu_sub['Presupuesto'] = recaudo_presupuesto_area_calculo_gu_sub['Recaudo']\n",
    "recaudo_presupuesto_area_calculo_gu_sub.drop(columns=['Recaudo'], inplace=True)\n",
    "\n",
    "cumplimiento_recaudo_por_unidad_negocio_gu_sub = pd.merge(\n",
    "    left=recaudo_presupuesto_area_calculo_gu_sub,\n",
    "    right=recaudo_real_area_calculo_gu_sub,\n",
    "    on=['AreaCalculo', 'Consecutivo', 'Fecha', 'Division', 'GrupoProducto'],\n",
    "    how='left'\n",
    ")\n",
    "cumplimiento_recaudo_por_unidad_negocio_gu_sub['Real'].fillna(0.0, inplace=True)\n",
    "cumplimiento_recaudo_por_unidad_negocio_gu_sub"
   ]
  },
  {
   "cell_type": "code",
   "execution_count": null,
   "metadata": {},
   "outputs": [],
   "source": [
    "cumplimiento_recaudo_por_unidad_negocio_gu_sub_centro_costo = (\n",
    "    dataframe_loader.f_calculo_centro_costo_variable_tipo_empleado(cumplimiento_recaudo_por_unidad_negocio_gu_sub, 'VentaCobradaUnidadNegocioSub', 'GU')\n",
    ")\n",
    "cumplimiento_recaudo_por_unidad_negocio_gu_sub_centro_costo.head(20)"
   ]
  },
  {
   "cell_type": "code",
   "execution_count": null,
   "metadata": {},
   "outputs": [],
   "source": [
    "cumplimiento_recaudo_por_unidad_negocio_gu_sub = cumplimiento_recaudo_por_unidad_negocio_gu_sub.groupby(['AreaCalculo', 'Consecutivo', 'Fecha'], as_index=False)[['Real', 'Presupuesto']].apply(sum)\n",
    "cumplimiento_recaudo_por_unidad_negocio_gu_sub['Real'] = cumplimiento_recaudo_por_unidad_negocio_gu_sub.groupby(['AreaCalculo', 'Consecutivo'])['Real'].transform(pd.Series.cumsum)\n",
    "cumplimiento_recaudo_por_unidad_negocio_gu_sub['Presupuesto'] = cumplimiento_recaudo_por_unidad_negocio_gu_sub.groupby(['AreaCalculo', 'Consecutivo'])['Presupuesto'].transform(pd.Series.cumsum)\n",
    "cumplimiento_recaudo_por_unidad_negocio_gu_sub['PorcentajeCumplimiento'] = cumplimiento_recaudo_por_unidad_negocio_gu_sub['Real'] / cumplimiento_recaudo_por_unidad_negocio_gu_sub['Presupuesto']\n",
    "cumplimiento_recaudo_por_unidad_negocio_gu_sub['PorcentajeCumplimiento'] = cumplimiento_recaudo_por_unidad_negocio_gu_sub['PorcentajeCumplimiento'].apply(lambda x: round(x, 2))\n",
    "cumplimiento_recaudo_por_unidad_negocio_gu_sub['Variable'] = 'VentaCobradaUnidadNegocioSub'\n",
    "\n",
    "### Cálculo de resultados cualitativos precargados\n",
    "cumplimiento_recaudo_por_unidad_negocio_gu_sub = dataframe_loader.sobreescribir_resultados_cualitativos(\n",
    "    main=cumplimiento_recaudo_por_unidad_negocio_gu_sub,\n",
    "    variable='VentaCobradaUnidadNegocioSub',\n",
    "    columnas_extra=['TipoEmpleado', 'AreaCalculo', 'Consecutivo'], \n",
    "    columnas_extra_merge=['AreaCalculo', 'Consecutivo'],\n",
    "    pre_merge_lambda=lambda x: x[x['TipoEmpleado'] == 'GU']\n",
    ")\n",
    "###\n",
    "\n",
    "cumplimiento_recaudo_por_unidad_negocio_gu_sub['Consecutivo'] = cumplimiento_recaudo_por_unidad_negocio_gu_sub['Consecutivo'].astype('str')\n",
    "cumplimiento_recaudo_por_unidad_negocio_gu_sub['AreaCalculo'] = cumplimiento_recaudo_por_unidad_negocio_gu_sub['AreaCalculo'].astype('str')\n",
    "cumplimiento_recaudo_por_unidad_negocio_gu_sub['Contexto'] = 'gu_' + cumplimiento_recaudo_por_unidad_negocio_gu_sub['AreaCalculo'].str.cat(cumplimiento_recaudo_por_unidad_negocio_gu_sub['Consecutivo'],sep=\"_\")\n",
    "cumplimiento_recaudo_por_unidad_negocio_gu_sub = cumplimiento_recaudo_por_unidad_negocio_gu_sub[['Contexto', 'Variable', 'Fecha', 'Real', 'Presupuesto', 'PorcentajeCumplimiento']]\n",
    "\n",
    "cumplimiento_recaudo_por_unidad_negocio_gu_sub.head()"
   ]
  },
  {
   "cell_type": "code",
   "execution_count": null,
   "metadata": {},
   "outputs": [],
   "source": [
    "cumplimiento_recaudo_por_unidad_negocio_gu_sub[\n",
    "    (cumplimiento_recaudo_por_unidad_negocio_gu_sub['Fecha'] == '2023-01-01') &\n",
    "     (cumplimiento_recaudo_por_unidad_negocio_gu_sub['Contexto'] == 'gu_8_3')\n",
    "]"
   ]
  },
  {
   "cell_type": "code",
   "execution_count": null,
   "metadata": {},
   "outputs": [],
   "source": [
    "cumplimiento_recaudo_por_unidad_negocio_gu_sub[\n",
    "    (cumplimiento_recaudo_por_unidad_negocio_gu_sub['Fecha'] == '2023-01-01') &\n",
    "     (cumplimiento_recaudo_por_unidad_negocio_gu_sub['Contexto'] == 'gu_1_1')\n",
    "]"
   ]
  },
  {
   "cell_type": "markdown",
   "metadata": {
    "datalore": {
     "hide_input_from_viewers": false,
     "hide_output_from_viewers": false,
     "type": "MD"
    }
   },
   "source": [
    "### 8.2. Para MK (VentaFacturadaUnidadNegocio - VentaFacturadaUnidadNegocioSub y VentaCobradaUnidadNegocio - VentaCobradaUnidadNegocioSub)"
   ]
  },
  {
   "cell_type": "code",
   "execution_count": null,
   "metadata": {
    "datalore": {
     "hide_input_from_viewers": false,
     "hide_output_from_viewers": false,
     "type": "CODE"
    }
   },
   "outputs": [],
   "source": [
    "area_calculo_sba_completo_mk = area_calculo_sba_completo[area_calculo_sba_completo['TipoEmpleado']=='MK']\n",
    "\n",
    "#Se halla la informacion de la venta y recaudo real de los representantes de ventas de los MK\n",
    "venta_recaudo_presupuesto_original_mk_real = area_calculo_sba_completo_mk.merge(\n",
    "    df_venta_recaudo_real[['Division', 'GrupoProducto', 'SBA', 'Fecha', 'Venta', 'Recaudo']],\n",
    "    on=['Division', 'GrupoProducto', 'SBA']\n",
    ")\n",
    "\n",
    "#Se halla la informacion de la venta y recaudo presupuesto de los representantes de ventas de los MK\n",
    "venta_recaudo_presupuesto_original_mk_presupuesto = area_calculo_sba_completo_mk.merge(\n",
    "    df_venta_recaudo_presupuesto[['Division', 'GrupoProducto', 'SBA', 'Fecha', 'Venta', 'Recaudo']],\n",
    "    on=['Division', 'GrupoProducto', 'SBA']\n",
    ")"
   ]
  },
  {
   "cell_type": "markdown",
   "metadata": {
    "datalore": {
     "hide_input_from_viewers": false,
     "hide_output_from_viewers": false,
     "type": "MD"
    }
   },
   "source": [
    "#### 8.2.1 VentaFacturadaUnidadNegocio - VentaFacturadaUnidadNegocioSub"
   ]
  },
  {
   "cell_type": "markdown",
   "metadata": {},
   "source": [
    "##### VentaFacturadaUnidadNegocio"
   ]
  },
  {
   "cell_type": "code",
   "execution_count": null,
   "metadata": {
    "datalore": {
     "hide_input_from_viewers": false,
     "hide_output_from_viewers": false,
     "type": "CODE"
    }
   },
   "outputs": [],
   "source": [
    "venta_real_area_calculo_mk = venta_recaudo_presupuesto_original_mk_real.groupby(['AreaCalculo', 'Fecha'], as_index=False).agg({'Venta': 'sum'})\n",
    "venta_real_area_calculo_mk['Real'] = venta_real_area_calculo_mk['Venta']\n",
    "venta_real_area_calculo_mk.drop(columns=['Venta'], inplace=True)\n",
    "\n",
    "venta_presupuesto_area_calculo_mk = venta_recaudo_presupuesto_original_mk_presupuesto.groupby(['AreaCalculo', 'Fecha'], as_index=False).agg({'Venta': 'sum'})\n",
    "venta_presupuesto_area_calculo_mk['Presupuesto'] = venta_presupuesto_area_calculo_mk['Venta']\n",
    "venta_presupuesto_area_calculo_mk.drop(columns=['Venta'], inplace=True)\n",
    "\n",
    "cumplimiento_venta_por_unidad_negocio_mk = pd.merge(\n",
    "    left=venta_presupuesto_area_calculo_mk,\n",
    "    right=venta_real_area_calculo_mk,\n",
    "    on=['AreaCalculo', 'Fecha'],\n",
    "    how='left'\n",
    ")\n",
    "cumplimiento_venta_por_unidad_negocio_mk['Real'].fillna(0.0, inplace=True)\n",
    "cumplimiento_venta_por_unidad_negocio_mk['Real'] = cumplimiento_venta_por_unidad_negocio_mk.groupby(['AreaCalculo'])['Real'].transform(pd.Series.cumsum)\n",
    "cumplimiento_venta_por_unidad_negocio_mk['Presupuesto'] = cumplimiento_venta_por_unidad_negocio_mk.groupby(['AreaCalculo'])['Presupuesto'].transform(pd.Series.cumsum)\n",
    "cumplimiento_venta_por_unidad_negocio_mk['PorcentajeCumplimiento'] = cumplimiento_venta_por_unidad_negocio_mk['Real'] / cumplimiento_venta_por_unidad_negocio_mk['Presupuesto']\n",
    "cumplimiento_venta_por_unidad_negocio_mk['PorcentajeCumplimiento'] = cumplimiento_venta_por_unidad_negocio_mk['PorcentajeCumplimiento'].apply(lambda x: round(x, 2))\n",
    "cumplimiento_venta_por_unidad_negocio_mk['Variable'] = 'VentaFacturadaUnidadNegocio'\n",
    "#areas de calculo son unidades de negocio\n",
    "\n",
    "### Cálculo de resultados cualitativos precargados\n",
    "cumplimiento_venta_por_unidad_negocio_mk = dataframe_loader.sobreescribir_resultados_cualitativos(\n",
    "    main=cumplimiento_venta_por_unidad_negocio_mk,\n",
    "    variable='VentaFacturadaUnidadNegocio',\n",
    "    columnas_extra=['TipoEmpleado', 'AreaCalculo'], \n",
    "    columnas_extra_merge=['AreaCalculo'],\n",
    "    pre_merge_lambda=lambda x: x[x['TipoEmpleado'] == 'MK']\n",
    ")\n",
    "###\n",
    "\n",
    "cumplimiento_venta_por_unidad_negocio_mk['AreaCalculo'] = cumplimiento_venta_por_unidad_negocio_mk['AreaCalculo'].astype('str')\n",
    "cumplimiento_venta_por_unidad_negocio_mk['Contexto'] = 'mk_' + cumplimiento_venta_por_unidad_negocio_mk['AreaCalculo']\n",
    "cumplimiento_venta_por_unidad_negocio_mk = cumplimiento_venta_por_unidad_negocio_mk[['Contexto', 'Variable', 'Fecha', 'Real', 'Presupuesto', 'PorcentajeCumplimiento']]\n",
    "\n",
    "cumplimiento_venta_por_unidad_negocio_mk.head()"
   ]
  },
  {
   "cell_type": "markdown",
   "metadata": {},
   "source": [
    "##### VentaFacturadaUnidadNegocioSub"
   ]
  },
  {
   "cell_type": "code",
   "execution_count": null,
   "metadata": {},
   "outputs": [],
   "source": [
    "venta_real_area_calculo_mk_sub = venta_recaudo_presupuesto_original_mk_real.groupby(['AreaCalculo', 'Division', 'GrupoProducto','Consecutivo', 'Fecha'], as_index=False).agg({'Venta': 'sum'})\n",
    "venta_real_area_calculo_mk_sub['Real'] = venta_real_area_calculo_mk_sub['Venta']\n",
    "venta_real_area_calculo_mk_sub.drop(columns=['Venta'], inplace=True)\n",
    "\n",
    "venta_presupuesto_area_calculo_mk_sub = venta_recaudo_presupuesto_original_mk_presupuesto.groupby(['AreaCalculo', 'Division', 'GrupoProducto', 'Consecutivo', 'Fecha'], as_index=False).agg({'Venta': 'sum'})\n",
    "venta_presupuesto_area_calculo_mk_sub['Presupuesto'] = venta_presupuesto_area_calculo_mk_sub['Venta']\n",
    "venta_presupuesto_area_calculo_mk_sub.drop(columns=['Venta'], inplace=True)\n",
    "\n",
    "cumplimiento_venta_por_unidad_negocio_mk_sub = pd.merge(\n",
    "    left=venta_presupuesto_area_calculo_mk_sub,\n",
    "    right=venta_real_area_calculo_mk_sub,\n",
    "    on=['AreaCalculo', 'Division', 'GrupoProducto' ,'Consecutivo', 'Fecha'],\n",
    "    how='left'\n",
    ")\n",
    "cumplimiento_venta_por_unidad_negocio_mk_sub['Real'].fillna(0.0, inplace=True)\n",
    "cumplimiento_venta_por_unidad_negocio_mk_sub"
   ]
  },
  {
   "cell_type": "code",
   "execution_count": null,
   "metadata": {},
   "outputs": [],
   "source": [
    "# def f_calculo_centro_costo_variable_tipo_empleado(main, variable, tipo_empleado):\n",
    "# #     df_area_calculo_sba_centros_costos_tipo_empleado = (\n",
    "# #         df_area_calculo_sba_centros_costos[df_area_calculo_sba_centros_costos['TipoEmpleado'] == tipo_empleado]\n",
    "# #     )    \n",
    "    \n",
    "#     main = main.merge(\n",
    "#         df_centros_costos_grupos_productos_divisiones.rename(columns={'ConsecutivoParrilla':'Consecutivo'}),\n",
    "#         on=['Division', 'GrupoProducto'],\n",
    "#         how='left'\n",
    "#     )\n",
    "#     main['AreaCalculo'] = main['AreaCalculo'].astype(str)\n",
    "#     main['Consecutivo'] = main['Consecutivo'].astype(str)\n",
    "#     main['Contexto'] = tipo_empleado.lower() +'_'+ main['AreaCalculo'].str.cat(main['Consecutivo'],sep=\"_\")\n",
    "#     main = main.groupby(['Contexto', 'Fecha', 'GrupoProducto', 'Division', 'CodigoCentroCosto'], as_index=False)[['Real', 'Presupuesto']].apply(sum)\n",
    "    \n",
    "# #     main['Real'] = main.groupby(['Contexto', 'CentroCosto'])['Real'].transform(pd.Series.sum)\n",
    "# #     main['Presupuesto'] = main.groupby(['Contexto', 'CentroCosto'])['Presupuesto'].transform(pd.Series.sum)\n",
    "    \n",
    "#     main['Real'] = main.groupby(['Contexto', 'GrupoProducto', 'Division', 'CodigoCentroCosto'])['Real'].transform(pd.Series.cumsum)\n",
    "#     main['Presupuesto'] = main.groupby(['Contexto', 'GrupoProducto', 'Division', 'CodigoCentroCosto'])['Presupuesto'].transform(pd.Series.cumsum)\n",
    "#     main['Variable'] = variable\n",
    "#     return main\n"
   ]
  },
  {
   "cell_type": "code",
   "execution_count": null,
   "metadata": {},
   "outputs": [],
   "source": [
    "cumplimiento_venta_por_unidad_negocio_mk_sub_centro_costo = (\n",
    "    dataframe_loader.f_calculo_centro_costo_variable_tipo_empleado(cumplimiento_venta_por_unidad_negocio_mk_sub, 'VentaFacturadaUnidadNegocioSub', 'MK')\n",
    ")\n",
    "cumplimiento_venta_por_unidad_negocio_mk_sub_centro_costo.head()"
   ]
  },
  {
   "cell_type": "code",
   "execution_count": null,
   "metadata": {},
   "outputs": [],
   "source": [
    "cumplimiento_venta_por_unidad_negocio_mk_sub_centro_costo.columns"
   ]
  },
  {
   "cell_type": "code",
   "execution_count": null,
   "metadata": {},
   "outputs": [],
   "source": [
    " pd.DataFrame(cumplimiento_venta_por_unidad_negocio_mk_sub_centro_costo.columns, columns=['Columna']).to_excel(\"cumplimiento_venta_por_unidad_negocio_mk_sub_centro_costo_columns.xlsx\")"
   ]
  },
  {
   "cell_type": "code",
   "execution_count": null,
   "metadata": {},
   "outputs": [],
   "source": [
    "cumplimiento_venta_por_unidad_negocio_mk_sub_centro_costo[\n",
    "    (cumplimiento_venta_por_unidad_negocio_mk_sub_centro_costo['Contexto'] == 'mk_1_1') &\n",
    "    (cumplimiento_venta_por_unidad_negocio_mk_sub_centro_costo['Fecha'] == '2023-01-01')\n",
    "]"
   ]
  },
  {
   "cell_type": "code",
   "execution_count": null,
   "metadata": {},
   "outputs": [],
   "source": [
    "dataframe_loader.validar_calculo_centro_costo(cumplimiento_venta_por_unidad_negocio_mk_sub_centro_costo, 'mk_1_1', '2023-01-01')"
   ]
  },
  {
   "cell_type": "code",
   "execution_count": null,
   "metadata": {},
   "outputs": [],
   "source": [
    "cumplimiento_venta_por_unidad_negocio_mk_sub = cumplimiento_venta_por_unidad_negocio_mk_sub.groupby(\n",
    "    ['AreaCalculo' ,'Consecutivo', 'Fecha'], as_index=False)[['Real', 'Presupuesto']].apply(sum)\n",
    "cumplimiento_venta_por_unidad_negocio_mk_sub['Real'] = cumplimiento_venta_por_unidad_negocio_mk_sub.groupby(['AreaCalculo', 'Consecutivo'])['Real'].transform(pd.Series.cumsum)\n",
    "cumplimiento_venta_por_unidad_negocio_mk_sub['Presupuesto'] = cumplimiento_venta_por_unidad_negocio_mk_sub.groupby(['AreaCalculo', 'Consecutivo'])['Presupuesto'].transform(pd.Series.cumsum)\n",
    "cumplimiento_venta_por_unidad_negocio_mk_sub['PorcentajeCumplimiento'] = cumplimiento_venta_por_unidad_negocio_mk_sub['Real'] / cumplimiento_venta_por_unidad_negocio_mk_sub['Presupuesto']\n",
    "cumplimiento_venta_por_unidad_negocio_mk_sub['PorcentajeCumplimiento'] = cumplimiento_venta_por_unidad_negocio_mk_sub['PorcentajeCumplimiento'].apply(lambda x: round(x, 2))\n",
    "cumplimiento_venta_por_unidad_negocio_mk_sub['Variable'] = 'VentaFacturadaUnidadNegocioSub'\n",
    "#areas de calculo son unidades de negocio\n",
    "\n",
    "### Cálculo de resultados cualitativos precargados\n",
    "cumplimiento_venta_por_unidad_negocio_mk_sub = dataframe_loader.sobreescribir_resultados_cualitativos(\n",
    "    main=cumplimiento_venta_por_unidad_negocio_mk_sub,\n",
    "    variable='VentaFacturadaUnidadNegocioSub',\n",
    "    columnas_extra=['TipoEmpleado', 'AreaCalculo', 'Consecutivo'], \n",
    "    columnas_extra_merge=['AreaCalculo', 'Consecutivo'],\n",
    "    pre_merge_lambda=lambda x: x[x['TipoEmpleado'] == 'MK']\n",
    ")\n",
    "###\n",
    "\n",
    "cumplimiento_venta_por_unidad_negocio_mk_sub['Consecutivo'] = cumplimiento_venta_por_unidad_negocio_mk_sub['Consecutivo'].astype('str')\n",
    "cumplimiento_venta_por_unidad_negocio_mk_sub['AreaCalculo'] = cumplimiento_venta_por_unidad_negocio_mk_sub['AreaCalculo'].astype('str')\n",
    "cumplimiento_venta_por_unidad_negocio_mk_sub['Contexto'] = 'mk_' + cumplimiento_venta_por_unidad_negocio_mk_sub['AreaCalculo'].str.cat(cumplimiento_venta_por_unidad_negocio_mk_sub['Consecutivo'],sep=\"_\")\n",
    "cumplimiento_venta_por_unidad_negocio_mk_sub = cumplimiento_venta_por_unidad_negocio_mk_sub[['Contexto', 'Variable', 'Fecha', 'Real', 'Presupuesto', 'PorcentajeCumplimiento']]\n",
    "\n",
    "cumplimiento_venta_por_unidad_negocio_mk_sub[\n",
    "    (cumplimiento_venta_por_unidad_negocio_mk_sub['Contexto'] == 'mk_1_1')\n",
    "]"
   ]
  },
  {
   "cell_type": "markdown",
   "metadata": {
    "datalore": {
     "hide_input_from_viewers": false,
     "hide_output_from_viewers": false,
     "type": "MD"
    }
   },
   "source": [
    "#### 8.2.2 VentaCobradaUnidadNegocio - VentaCobradaUnidadNegocioSub"
   ]
  },
  {
   "cell_type": "markdown",
   "metadata": {},
   "source": [
    "##### VentaCobradaUnidadNegocio"
   ]
  },
  {
   "cell_type": "code",
   "execution_count": null,
   "metadata": {},
   "outputs": [],
   "source": [
    "recaudo_real_area_calculo_mk = venta_recaudo_presupuesto_original_mk_real.groupby(['AreaCalculo', 'Fecha'], as_index=False).agg({'Recaudo': 'sum'})\n",
    "recaudo_real_area_calculo_mk['Real'] = recaudo_real_area_calculo_mk['Recaudo']\n",
    "recaudo_real_area_calculo_mk.drop(columns=['Recaudo'], inplace=True)\n",
    "\n",
    "recaudo_presupuesto_area_calculo_mk = venta_recaudo_presupuesto_original_mk_presupuesto.groupby(['AreaCalculo', 'Fecha'], as_index=False).agg({'Recaudo': 'sum'})\n",
    "recaudo_presupuesto_area_calculo_mk['Presupuesto'] = recaudo_presupuesto_area_calculo_mk['Recaudo']\n",
    "recaudo_presupuesto_area_calculo_mk.drop(columns=['Recaudo'], inplace=True)\n",
    "\n",
    "cumplimiento_recaudo_por_unidad_negocio_mk = pd.merge(\n",
    "    left=recaudo_presupuesto_area_calculo_mk,\n",
    "    right=recaudo_real_area_calculo_mk,\n",
    "    on=['AreaCalculo', 'Fecha'],\n",
    "    how='left'\n",
    ")\n",
    "cumplimiento_recaudo_por_unidad_negocio_mk['Real'].fillna(0.0, inplace=True)\n",
    "cumplimiento_recaudo_por_unidad_negocio_mk['Real'] = cumplimiento_recaudo_por_unidad_negocio_mk.groupby(['AreaCalculo'])['Real'].transform(pd.Series.cumsum)\n",
    "cumplimiento_recaudo_por_unidad_negocio_mk['Presupuesto'] = cumplimiento_recaudo_por_unidad_negocio_mk.groupby(['AreaCalculo'])['Presupuesto'].transform(pd.Series.cumsum)\n",
    "cumplimiento_recaudo_por_unidad_negocio_mk['PorcentajeCumplimiento'] = cumplimiento_recaudo_por_unidad_negocio_mk['Real'] / cumplimiento_recaudo_por_unidad_negocio_mk['Presupuesto']\n",
    "cumplimiento_recaudo_por_unidad_negocio_mk['PorcentajeCumplimiento'] = cumplimiento_recaudo_por_unidad_negocio_mk['PorcentajeCumplimiento'].apply(lambda x: round(x, 2))\n",
    "cumplimiento_recaudo_por_unidad_negocio_mk['Variable'] = 'VentaCobradaUnidadNegocio'\n",
    "#areas de calculo son unidades de negocio\n",
    "\n",
    "### Cálculo de resultados cualitativos precargados\n",
    "cumplimiento_recaudo_por_unidad_negocio_mk = dataframe_loader.sobreescribir_resultados_cualitativos(\n",
    "    main=cumplimiento_recaudo_por_unidad_negocio_mk,\n",
    "    variable='VentaCobradaUnidadNegocio',\n",
    "    columnas_extra=['TipoEmpleado', 'AreaCalculo'], \n",
    "    columnas_extra_merge=['AreaCalculo'],\n",
    "    pre_merge_lambda=lambda x: x[x['TipoEmpleado'] == 'MK']\n",
    ")\n",
    "###\n",
    "\n",
    "cumplimiento_recaudo_por_unidad_negocio_mk['AreaCalculo'] = cumplimiento_recaudo_por_unidad_negocio_mk['AreaCalculo'].astype('str')\n",
    "cumplimiento_recaudo_por_unidad_negocio_mk['Contexto'] = 'mk_' + cumplimiento_recaudo_por_unidad_negocio_mk['AreaCalculo']\n",
    "cumplimiento_recaudo_por_unidad_negocio_mk = cumplimiento_recaudo_por_unidad_negocio_mk[['Contexto', 'Variable', 'Fecha', 'Real', 'Presupuesto', 'PorcentajeCumplimiento']]\n",
    "\n",
    "cumplimiento_recaudo_por_unidad_negocio_mk.head()"
   ]
  },
  {
   "cell_type": "markdown",
   "metadata": {},
   "source": [
    "##### VentaCobradaUnidadNegocioSub"
   ]
  },
  {
   "cell_type": "code",
   "execution_count": null,
   "metadata": {},
   "outputs": [],
   "source": [
    "recaudo_real_area_calculo_mk_sub = venta_recaudo_presupuesto_original_mk_real.groupby(['AreaCalculo', 'Division', 'GrupoProducto','Consecutivo', 'Fecha'], as_index=False).agg({'Recaudo': 'sum'})\n",
    "recaudo_real_area_calculo_mk_sub['Real'] = recaudo_real_area_calculo_mk_sub['Recaudo']\n",
    "recaudo_real_area_calculo_mk_sub.drop(columns=['Recaudo'], inplace=True)\n",
    "\n",
    "recaudo_presupuesto_area_calculo_mk_sub = venta_recaudo_presupuesto_original_mk_presupuesto.groupby(['AreaCalculo', 'Division', 'GrupoProducto', 'Consecutivo', 'Fecha'], as_index=False).agg({'Recaudo': 'sum'})\n",
    "recaudo_presupuesto_area_calculo_mk_sub['Presupuesto'] = recaudo_presupuesto_area_calculo_mk_sub['Recaudo']\n",
    "recaudo_presupuesto_area_calculo_mk_sub.drop(columns=['Recaudo'], inplace=True)\n",
    "\n",
    "cumplimiento_recaudo_por_unidad_negocio_mk_sub = pd.merge(\n",
    "    left=recaudo_presupuesto_area_calculo_mk_sub,\n",
    "    right=recaudo_real_area_calculo_mk_sub,\n",
    "    on=['AreaCalculo', 'Consecutivo', 'Fecha', 'Division', 'GrupoProducto'],\n",
    "    how='left'\n",
    ")\n",
    "cumplimiento_recaudo_por_unidad_negocio_mk_sub['Real'].fillna(0.0, inplace=True)\n",
    "cumplimiento_recaudo_por_unidad_negocio_mk_sub"
   ]
  },
  {
   "cell_type": "code",
   "execution_count": null,
   "metadata": {},
   "outputs": [],
   "source": [
    "cumplimiento_recaudo_por_unidad_negocio_mk_sub_centro_costo = (\n",
    "    dataframe_loader.f_calculo_centro_costo_variable_tipo_empleado(cumplimiento_recaudo_por_unidad_negocio_mk_sub, 'VentaCobradaUnidadNegocioSub', 'MK')\n",
    ")\n",
    "cumplimiento_recaudo_por_unidad_negocio_mk_sub_centro_costo"
   ]
  },
  {
   "cell_type": "code",
   "execution_count": null,
   "metadata": {},
   "outputs": [],
   "source": [
    "dataframe_loader.validar_calculo_centro_costo(cumplimiento_recaudo_por_unidad_negocio_mk_sub_centro_costo, 'mk_1_1', '2023-02-01')"
   ]
  },
  {
   "cell_type": "code",
   "execution_count": null,
   "metadata": {},
   "outputs": [],
   "source": [
    "cumplimiento_recaudo_por_unidad_negocio_mk_sub = (\n",
    "    cumplimiento_recaudo_por_unidad_negocio_mk_sub.groupby(\n",
    "        ['AreaCalculo', 'Consecutivo', 'Fecha'], as_index=False\n",
    "    )[['Real', 'Presupuesto']].apply(sum)\n",
    ")\n",
    "cumplimiento_recaudo_por_unidad_negocio_mk_sub['Real'] = cumplimiento_recaudo_por_unidad_negocio_mk_sub.groupby(['AreaCalculo', 'Consecutivo'])['Real'].transform(pd.Series.cumsum)\n",
    "cumplimiento_recaudo_por_unidad_negocio_mk_sub['Presupuesto'] = cumplimiento_recaudo_por_unidad_negocio_mk_sub.groupby(['AreaCalculo', 'Consecutivo'])['Presupuesto'].transform(pd.Series.cumsum)\n",
    "cumplimiento_recaudo_por_unidad_negocio_mk_sub['PorcentajeCumplimiento'] = cumplimiento_recaudo_por_unidad_negocio_mk_sub['Real'] / cumplimiento_recaudo_por_unidad_negocio_mk_sub['Presupuesto']\n",
    "cumplimiento_recaudo_por_unidad_negocio_mk_sub['PorcentajeCumplimiento'] = cumplimiento_recaudo_por_unidad_negocio_mk_sub['PorcentajeCumplimiento'].apply(lambda x: round(x, 2))\n",
    "cumplimiento_recaudo_por_unidad_negocio_mk_sub['Variable'] = 'VentaCobradaUnidadNegocioSub'\n",
    "#areas de calculo son unidades de negocio\n",
    "\n",
    "### Cálculo de resultados cualitativos precargados\n",
    "cumplimiento_recaudo_por_unidad_negocio_mk_sub = dataframe_loader.sobreescribir_resultados_cualitativos(\n",
    "    main=cumplimiento_recaudo_por_unidad_negocio_mk_sub,\n",
    "    variable='VentaCobradaUnidadNegocioSub',\n",
    "    columnas_extra=['TipoEmpleado', 'AreaCalculo', 'Consecutivo'], \n",
    "    columnas_extra_merge=['AreaCalculo', 'Consecutivo'],\n",
    "    pre_merge_lambda=lambda x: x[x['TipoEmpleado'] == 'MK']\n",
    ")\n",
    "###\n",
    "\n",
    "cumplimiento_recaudo_por_unidad_negocio_mk_sub['Consecutivo'] = cumplimiento_recaudo_por_unidad_negocio_mk_sub['Consecutivo'].astype('str')\n",
    "cumplimiento_recaudo_por_unidad_negocio_mk_sub['AreaCalculo'] = cumplimiento_recaudo_por_unidad_negocio_mk_sub['AreaCalculo'].astype('str')\n",
    "cumplimiento_recaudo_por_unidad_negocio_mk_sub['Contexto'] = 'mk_' + cumplimiento_recaudo_por_unidad_negocio_mk_sub['AreaCalculo'].str.cat(cumplimiento_recaudo_por_unidad_negocio_mk_sub['Consecutivo'],sep=\"_\")\n",
    "cumplimiento_recaudo_por_unidad_negocio_mk_sub = cumplimiento_recaudo_por_unidad_negocio_mk_sub[['Contexto', 'Variable', 'Fecha', 'Real', 'Presupuesto', 'PorcentajeCumplimiento']]\n",
    "\n",
    "cumplimiento_recaudo_por_unidad_negocio_mk_sub.head()"
   ]
  },
  {
   "cell_type": "markdown",
   "metadata": {
    "datalore": {
     "hide_input_from_viewers": false,
     "hide_output_from_viewers": false,
     "type": "MD"
    }
   },
   "source": [
    "## 9. Objetivos de rentabilidad por unidad de negocio (RentabilidadUnidadNegocioCM2 y RentabilidadUnidadNegocioCM3)"
   ]
  },
  {
   "cell_type": "markdown",
   "metadata": {
    "datalore": {
     "hide_input_from_viewers": false,
     "hide_output_from_viewers": false,
     "type": "MD"
    }
   },
   "source": [
    "### 9.1. Para GU (RentabilidadUnidadNegocioCM2 y RentabilidadUnidadNegocioCM3)"
   ]
  },
  {
   "cell_type": "code",
   "execution_count": null,
   "metadata": {},
   "outputs": [],
   "source": [
    "rentabilidad_gu = df_rentabilidad.copy()\n",
    "rentabilidad_gu['TipoEmpleado'] = 'GU'\n",
    "rentabilidad_gu = rentabilidad_gu.merge(\n",
    "    area_calculo_sba_completo[['TipoEmpleado', 'AreaCalculo', 'GrupoProducto', 'SBA']],\n",
    "    on=['TipoEmpleado', 'GrupoProducto', 'SBA'],\n",
    "    how='left'\n",
    ")\n",
    "rentabilidad_gu = rentabilidad_gu.groupby(\n",
    "    ['TipoEmpleado', 'ClaseRentabilidad', 'Fecha', 'AreaCalculo'],\n",
    "    as_index=False\n",
    ").agg({'Real': 'sum', 'Presupuesto': 'sum'})\n",
    "\n",
    "rentabilidad_gu['PorcentajeCumplimiento'] = rentabilidad_gu['Real'] / rentabilidad_gu['Presupuesto']\n",
    "rentabilidad_gu['PorcentajeCumplimiento'] = rentabilidad_gu['PorcentajeCumplimiento'].apply(lambda x: round(x, 2))\n",
    "rentabilidad_gu.head()"
   ]
  },
  {
   "cell_type": "code",
   "execution_count": null,
   "metadata": {},
   "outputs": [],
   "source": [
    "cumplimiento_rentabilidad_por_unidad_negocio_cm2_gu = rentabilidad_gu[\n",
    "    rentabilidad_gu['ClaseRentabilidad'] == 'CMII']\n",
    "cumplimiento_rentabilidad_por_unidad_negocio_cm2_gu.drop(columns='ClaseRentabilidad', inplace=True)\n",
    "\n",
    "cumplimiento_rentabilidad_por_unidad_negocio_cm2_gu['Variable'] = 'RentabilidadUnidadNegocioCM2'\n",
    "### Cálculo de resultados cualitativos precargados\n",
    "cumplimiento_rentabilidad_por_unidad_negocio_cm2_gu = dataframe_loader.sobreescribir_resultados_cualitativos(\n",
    "    main=cumplimiento_rentabilidad_por_unidad_negocio_cm2_gu,\n",
    "    variable='RentabilidadUnidadNegocioCM2',\n",
    "    columnas_extra=['TipoEmpleado', 'AreaCalculo'],\n",
    "    columnas_extra_merge=['TipoEmpleado', 'AreaCalculo'],\n",
    "    pre_merge_lambda=lambda x: x[x['TipoEmpleado'] == 'GU']\n",
    ")\n",
    "###\n",
    "cumplimiento_rentabilidad_por_unidad_negocio_cm2_gu['AreaCalculo'] = \\\n",
    "cumplimiento_rentabilidad_por_unidad_negocio_cm2_gu['AreaCalculo'].astype(int).astype('str')\n",
    "cumplimiento_rentabilidad_por_unidad_negocio_cm2_gu['Contexto'] = 'gu_' + \\\n",
    "                                                                  cumplimiento_rentabilidad_por_unidad_negocio_cm2_gu[\n",
    "                                                                      'AreaCalculo']\n",
    "cumplimiento_rentabilidad_por_unidad_negocio_cm2_gu = cumplimiento_rentabilidad_por_unidad_negocio_cm2_gu[\n",
    "    ['Contexto', 'Variable', 'Fecha', 'Real', 'Presupuesto', 'PorcentajeCumplimiento']]\n",
    "\n",
    "cumplimiento_rentabilidad_por_unidad_negocio_cm2_gu.head()"
   ]
  },
  {
   "cell_type": "code",
   "execution_count": null,
   "metadata": {},
   "outputs": [],
   "source": [
    "cumplimiento_rentabilidad_por_unidad_negocio_cm3_gu = rentabilidad_gu[\n",
    "    rentabilidad_gu['ClaseRentabilidad'] == 'CMIII']\n",
    "cumplimiento_rentabilidad_por_unidad_negocio_cm3_gu.drop(columns='ClaseRentabilidad', inplace=True)\n",
    "\n",
    "cumplimiento_rentabilidad_por_unidad_negocio_cm3_gu['Variable'] = 'RentabilidadUnidadNegocioCM3'\n",
    "### Cálculo de resultados cualitativos precargados\n",
    "cumplimiento_rentabilidad_por_unidad_negocio_cm3_gu = dataframe_loader.sobreescribir_resultados_cualitativos(\n",
    "    main=cumplimiento_rentabilidad_por_unidad_negocio_cm3_gu,\n",
    "    variable='RentabilidadUnidadNegocioCM3',\n",
    "    columnas_extra=['TipoEmpleado', 'AreaCalculo'],\n",
    "    columnas_extra_merge=['TipoEmpleado', 'AreaCalculo'],\n",
    "    pre_merge_lambda=lambda x: x[x['TipoEmpleado'] == 'GU']\n",
    ")\n",
    "###\n",
    "cumplimiento_rentabilidad_por_unidad_negocio_cm3_gu['AreaCalculo'] = \\\n",
    "cumplimiento_rentabilidad_por_unidad_negocio_cm3_gu['AreaCalculo'].astype(int).astype('str')\n",
    "cumplimiento_rentabilidad_por_unidad_negocio_cm3_gu['Contexto'] = 'gu_' + \\\n",
    "                                                                  cumplimiento_rentabilidad_por_unidad_negocio_cm3_gu[\n",
    "                                                                      'AreaCalculo']\n",
    "cumplimiento_rentabilidad_por_unidad_negocio_cm3_gu = cumplimiento_rentabilidad_por_unidad_negocio_cm3_gu[\n",
    "    ['Contexto', 'Variable', 'Fecha', 'Real', 'Presupuesto', 'PorcentajeCumplimiento']]\n",
    "cumplimiento_rentabilidad_por_unidad_negocio_cm3_gu.head()"
   ]
  },
  {
   "cell_type": "markdown",
   "metadata": {
    "datalore": {
     "hide_input_from_viewers": false,
     "hide_output_from_viewers": false,
     "type": "MD"
    }
   },
   "source": [
    "### 9.2. Para MK (RentabilidadUnidadNegocioCM2 y RentabilidadUnidadNegocioCM3)"
   ]
  },
  {
   "cell_type": "code",
   "execution_count": null,
   "metadata": {
    "datalore": {
     "hide_input_from_viewers": false,
     "hide_output_from_viewers": false,
     "type": "CODE"
    }
   },
   "outputs": [],
   "source": [
    "rentabilidad_mk = df_rentabilidad.copy()\n",
    "rentabilidad_mk['TipoEmpleado'] = 'MK'\n",
    "rentabilidad_mk = rentabilidad_mk.merge(\n",
    "    area_calculo_sba_completo[['TipoEmpleado', 'AreaCalculo', 'GrupoProducto', 'SBA']],\n",
    "    on=['TipoEmpleado', 'GrupoProducto', 'SBA'],\n",
    "    how='left'\n",
    ")\n",
    "rentabilidad_mk = rentabilidad_mk.groupby(\n",
    "    ['TipoEmpleado', 'ClaseRentabilidad', 'Fecha', 'AreaCalculo'],\n",
    "    as_index=False\n",
    ").agg({'Real': 'sum', 'Presupuesto': 'sum'})\n",
    "\n",
    "# rentabilidad_mk_sub['Presupuesto'] = rentabilidad_mk_sub.groupby(['ClaseRentabilidad', 'AreaCalculo', 'Consecutivo'])['Presupuesto'].transform(pd.Series.cumsum)\n",
    "# rentabilidad_mk_sub['Real'] = rentabilidad_mk_sub.groupby(['ClaseRentabilidad', 'AreaCalculo', 'Consecutivo'])['Real'].transform(pd.Series.cumsum)\n",
    "rentabilidad_mk['PorcentajeCumplimiento'] = rentabilidad_mk['Real']/rentabilidad_mk['Presupuesto']\n",
    "rentabilidad_mk['PorcentajeCumplimiento'] = rentabilidad_mk['PorcentajeCumplimiento'].apply(lambda x: round(x, 2))\n",
    "\n",
    "cumplimiento_rentabilidad_por_unidad_negocio_cm2_mk = rentabilidad_mk[rentabilidad_mk['ClaseRentabilidad']=='CMII']\n",
    "cumplimiento_rentabilidad_por_unidad_negocio_cm2_mk.drop(columns='ClaseRentabilidad', inplace=True)\n",
    "cumplimiento_rentabilidad_por_unidad_negocio_cm3_mk = rentabilidad_mk[rentabilidad_mk['ClaseRentabilidad']=='CMIII']\n",
    "cumplimiento_rentabilidad_por_unidad_negocio_cm3_mk.drop(columns='ClaseRentabilidad', inplace=True)\n",
    "\n",
    "cumplimiento_rentabilidad_por_unidad_negocio_cm2_mk['Variable'] = 'RentabilidadUnidadNegocioCM2'\n",
    "### Cálculo de resultados cualitativos precargados\n",
    "cumplimiento_rentabilidad_por_unidad_negocio_cm2_mk = dataframe_loader.sobreescribir_resultados_cualitativos(\n",
    "    main=cumplimiento_rentabilidad_por_unidad_negocio_cm2_mk,\n",
    "    variable='RentabilidadUnidadNegocioCM2',\n",
    "    columnas_extra=['TipoEmpleado', 'AreaCalculo'], \n",
    "    columnas_extra_merge=['TipoEmpleado', 'AreaCalculo'],\n",
    "    pre_merge_lambda=lambda x: x[x['TipoEmpleado'] == 'MK']\n",
    ")\n",
    "###\n",
    "cumplimiento_rentabilidad_por_unidad_negocio_cm2_mk['AreaCalculo'] = cumplimiento_rentabilidad_por_unidad_negocio_cm2_mk['AreaCalculo'].astype(int).astype('str')\n",
    "cumplimiento_rentabilidad_por_unidad_negocio_cm2_mk['Contexto'] = 'mk_' + cumplimiento_rentabilidad_por_unidad_negocio_cm2_mk['AreaCalculo']\n",
    "cumplimiento_rentabilidad_por_unidad_negocio_cm2_mk = cumplimiento_rentabilidad_por_unidad_negocio_cm2_mk[['Contexto', 'Variable', 'Fecha', 'Real', 'Presupuesto', 'PorcentajeCumplimiento']]\n",
    "\n",
    "cumplimiento_rentabilidad_por_unidad_negocio_cm3_mk['Variable'] = 'RentabilidadUnidadNegocioCM3'\n",
    "### Cálculo de resultados cualitativos precargados\n",
    "cumplimiento_rentabilidad_por_unidad_negocio_cm3_mk = dataframe_loader.sobreescribir_resultados_cualitativos(\n",
    "    main=cumplimiento_rentabilidad_por_unidad_negocio_cm3_mk,\n",
    "    variable='RentabilidadUnidadNegocioCM3',\n",
    "    columnas_extra=['TipoEmpleado', 'AreaCalculo'], \n",
    "    columnas_extra_merge=['TipoEmpleado', 'AreaCalculo'],\n",
    "    pre_merge_lambda=lambda x: x[x['TipoEmpleado'] == 'MK']\n",
    ")\n",
    "###\n",
    "cumplimiento_rentabilidad_por_unidad_negocio_cm3_mk['AreaCalculo'] = cumplimiento_rentabilidad_por_unidad_negocio_cm3_mk['AreaCalculo'].astype(int).astype('str')\n",
    "cumplimiento_rentabilidad_por_unidad_negocio_cm3_mk['Contexto'] = 'mk_' + cumplimiento_rentabilidad_por_unidad_negocio_cm3_mk['AreaCalculo']\n",
    "cumplimiento_rentabilidad_por_unidad_negocio_cm3_mk = cumplimiento_rentabilidad_por_unidad_negocio_cm3_mk[['Contexto', 'Variable', 'Fecha', 'Real', 'Presupuesto', 'PorcentajeCumplimiento']]\n",
    "cumplimiento_rentabilidad_por_unidad_negocio_cm3_mk.head()"
   ]
  },
  {
   "cell_type": "markdown",
   "metadata": {
    "datalore": {
     "hide_input_from_viewers": false,
     "hide_output_from_viewers": false,
     "type": "MD"
    }
   },
   "source": [
    "## 10. Objetivos de rentabilidad por unidad de negocio (RentabilidadUnidadNegocioCM2Sub y RentabilidadUnidadNegocioCM3Sub)"
   ]
  },
  {
   "cell_type": "markdown",
   "metadata": {
    "datalore": {
     "hide_input_from_viewers": false,
     "hide_output_from_viewers": false,
     "type": "MD"
    }
   },
   "source": [
    "### 10.1. Para GU (RentabilidadUnidadNegocioCM2Sub y RentabilidadUnidadNegocioCM3Sub)"
   ]
  },
  {
   "cell_type": "code",
   "execution_count": null,
   "metadata": {},
   "outputs": [],
   "source": [
    "# def f_calculo_centro_costo_variable_rentabilidad(main, variable, clase_rentabilidad, tipo_empleado):\n",
    "#     main = main.merge(\n",
    "#         df_centros_costos_grupos_productos_divisiones.rename(columns={'ConsecutivoParrilla':'Consecutivo'}),\n",
    "#         on=['Division', 'GrupoProducto'],\n",
    "#         how='left'\n",
    "#     )\n",
    "#     main['Consecutivo'] = main['Consecutivo'].astype(int).astype('str')\n",
    "#     main['AreaCalculo'] = main['AreaCalculo'].astype(int).astype('str')\n",
    "#     main['Contexto'] = tipo_empleado.lower()+'_' + main['AreaCalculo'] + '_' +main['Consecutivo']\n",
    "#     main = main.groupby(\n",
    "#         ['TipoEmpleado', 'ClaseRentabilidad', 'Fecha', 'AreaCalculo', 'Consecutivo', 'CodigoCentroCosto', 'Contexto'],\n",
    "#         as_index=False\n",
    "#     ).agg({'Real': 'sum', 'Presupuesto': 'sum'})\n",
    "#     main = main[main['ClaseRentabilidad']==clase_rentabilidad]\n",
    "#     main.drop(columns='ClaseRentabilidad', inplace=True)\n",
    "#     main['Variable'] = variable\n",
    "#     return main\n",
    "\n",
    "# def calculo_porcentaje_cumplimiento(main, variable, tipo_empleado):\n",
    "\n",
    "#     main = main.groupby(\n",
    "#         ['TipoEmpleado', 'Fecha', 'AreaCalculo', 'Consecutivo', 'Variable'],\n",
    "#         as_index=False\n",
    "#     ).agg({'Real': 'sum', 'Presupuesto': 'sum'})\n",
    "    \n",
    "#     main['PorcentajeCumplimiento'] = (\n",
    "#         main['Real']/\n",
    "#         main['Presupuesto'])\n",
    "#     main['PorcentajeCumplimiento'] = (\n",
    "#         main['PorcentajeCumplimiento'].apply(lambda x: round(x, 2))\n",
    "#     )\n",
    "#     ### Cálculo de resultados cualitativos precargados\n",
    "#     main = dataframe_loader.sobreescribir_resultados_cualitativos(\n",
    "#         main=main,\n",
    "#         variable=variable,\n",
    "#         columnas_extra=['TipoEmpleado', 'AreaCalculo'], \n",
    "#         columnas_extra_merge=['TipoEmpleado', 'AreaCalculo'],\n",
    "#         pre_merge_lambda=lambda x: x[x['TipoEmpleado'] == tipo_empleado]\n",
    "#     )\n",
    "#     ###\n",
    "#     main['Consecutivo'] = main['Consecutivo'].astype(int).astype('str')\n",
    "#     main['AreaCalculo'] = main['AreaCalculo'].astype(int).astype('str')\n",
    "    \n",
    "#     main['Contexto'] = tipo_empleado.lower()+'_' + main['AreaCalculo'] + '_' +main['Consecutivo']\n",
    "#     main = main[['Contexto', 'Variable', 'Fecha', 'Real', 'Presupuesto', 'PorcentajeCumplimiento']]\n",
    "#     return main"
   ]
  },
  {
   "cell_type": "code",
   "execution_count": null,
   "metadata": {},
   "outputs": [],
   "source": [
    "#Calculamos la rentabilidad para GU adicionando toda la info de area_calculo_sba_completo\n",
    "rentabilidad_gu_sub = df_rentabilidad.copy()\n",
    "rentabilidad_gu_sub['TipoEmpleado'] = 'GU'\n",
    "rentabilidad_gu_sub = rentabilidad_gu_sub.merge(\n",
    "    area_calculo_sba_completo[['TipoEmpleado', 'AreaCalculo', 'GrupoProducto', 'Division', 'Consecutivo', 'SBA']],\n",
    "    on=['TipoEmpleado', 'GrupoProducto', 'SBA'],\n",
    "    how='left'\n",
    ")\n",
    "rentabilidad_gu_sub = rentabilidad_gu_sub.groupby(\n",
    "    ['TipoEmpleado', 'ClaseRentabilidad', 'Fecha', 'AreaCalculo', 'GrupoProducto', 'Division', 'Consecutivo'],\n",
    "    as_index=False\n",
    ").agg({'Real': 'sum', 'Presupuesto': 'sum'})\n",
    "rentabilidad_gu_sub"
   ]
  },
  {
   "cell_type": "code",
   "execution_count": null,
   "metadata": {},
   "outputs": [],
   "source": [
    "cumplimiento_rentabilidad_por_unidad_negocio_cm2_gu_centro_costo = (\n",
    "    dataframe_loader.f_calculo_centro_costo_variable_rentabilidad(rentabilidad_gu_sub, 'RentabilidadUnidadNegocioCM2Sub', 'CMII', 'GU')\n",
    ")\n",
    "cumplimiento_rentabilidad_por_unidad_negocio_cm2_gu_centro_costo"
   ]
  },
  {
   "cell_type": "code",
   "execution_count": null,
   "metadata": {},
   "outputs": [],
   "source": [
    "cumplimiento_rentabilidad_por_unidad_negocio_cm2_gu_centro_costo[\n",
    "    cumplimiento_rentabilidad_por_unidad_negocio_cm2_gu_centro_costo['Contexto'] == 'gu_2_3'\n",
    "]"
   ]
  },
  {
   "cell_type": "code",
   "execution_count": null,
   "metadata": {},
   "outputs": [],
   "source": [
    "dataframe_loader.validar_calculo_centro_costo(cumplimiento_rentabilidad_por_unidad_negocio_cm2_gu_centro_costo, 'gu_2_3', '2023-03-01')"
   ]
  },
  {
   "cell_type": "code",
   "execution_count": null,
   "metadata": {},
   "outputs": [],
   "source": [
    "cumplimiento_rentabilidad_por_unidad_negocio_cm3_gu_centro_costo = (\n",
    "    dataframe_loader.f_calculo_centro_costo_variable_rentabilidad(rentabilidad_gu_sub, 'RentabilidadUnidadNegocioCM3Sub', 'CMIII', 'GU')\n",
    ")\n",
    "cumplimiento_rentabilidad_por_unidad_negocio_cm3_gu_centro_costo"
   ]
  },
  {
   "cell_type": "code",
   "execution_count": null,
   "metadata": {},
   "outputs": [],
   "source": [
    "dataframe_loader.validar_calculo_centro_costo(cumplimiento_rentabilidad_por_unidad_negocio_cm3_gu_centro_costo, 'gu_2_3', '2023-03-01')"
   ]
  },
  {
   "cell_type": "code",
   "execution_count": null,
   "metadata": {},
   "outputs": [],
   "source": [
    "cumplimiento_rentabilidad_por_unidad_negocio_cm2_gu_sub = (\n",
    "    dataframe_loader.calculo_porcentaje_cumplimiento(cumplimiento_rentabilidad_por_unidad_negocio_cm2_gu_centro_costo, 'RentabilidadUnidadNegocioCM2Sub', 'GU')\n",
    ")\n",
    "cumplimiento_rentabilidad_por_unidad_negocio_cm2_gu_sub.head()"
   ]
  },
  {
   "cell_type": "code",
   "execution_count": null,
   "metadata": {},
   "outputs": [],
   "source": [
    "cumplimiento_rentabilidad_por_unidad_negocio_cm3_gu_sub = (\n",
    "    dataframe_loader.calculo_porcentaje_cumplimiento(cumplimiento_rentabilidad_por_unidad_negocio_cm3_gu_centro_costo, 'RentabilidadUnidadNegocioCM3Sub', 'GU')\n",
    ")\n",
    "cumplimiento_rentabilidad_por_unidad_negocio_cm3_gu_sub.head()"
   ]
  },
  {
   "cell_type": "code",
   "execution_count": null,
   "metadata": {},
   "outputs": [],
   "source": []
  },
  {
   "cell_type": "code",
   "execution_count": null,
   "metadata": {},
   "outputs": [],
   "source": []
  },
  {
   "cell_type": "markdown",
   "metadata": {
    "datalore": {
     "hide_input_from_viewers": false,
     "hide_output_from_viewers": false,
     "type": "MD"
    }
   },
   "source": [
    "### 10.2. Para MK (RentabilidadUnidadNegocioCM2Sub y RentabilidadUnidadNegocioCM3Sub)"
   ]
  },
  {
   "cell_type": "code",
   "execution_count": null,
   "metadata": {},
   "outputs": [],
   "source": []
  },
  {
   "cell_type": "code",
   "execution_count": null,
   "metadata": {},
   "outputs": [],
   "source": [
    "#Calculamos la rentabilidad para MK adicionando toda la info de area_calculo_sba_completo\n",
    "rentabilidad_mk_sub = df_rentabilidad.copy()\n",
    "rentabilidad_mk_sub['TipoEmpleado'] = 'MK'\n",
    "rentabilidad_mk_sub = rentabilidad_mk_sub.merge(\n",
    "    area_calculo_sba_completo[['TipoEmpleado', 'AreaCalculo', 'GrupoProducto', 'Division', 'Consecutivo', 'SBA']],\n",
    "    on=['TipoEmpleado', 'GrupoProducto', 'SBA'],\n",
    "    how='left'\n",
    ")\n",
    "rentabilidad_mk_sub = rentabilidad_mk_sub.groupby(\n",
    "    ['TipoEmpleado', 'ClaseRentabilidad', 'Fecha', 'AreaCalculo', 'GrupoProducto', 'Division','Consecutivo'],\n",
    "    as_index=False\n",
    ").agg({'Real': 'sum', 'Presupuesto': 'sum'})\n",
    "rentabilidad_mk_sub"
   ]
  },
  {
   "cell_type": "code",
   "execution_count": null,
   "metadata": {},
   "outputs": [],
   "source": [
    "cumplimiento_rentabilidad_por_unidad_negocio_cm2_mk_centro_costo = (\n",
    "    dataframe_loader.f_calculo_centro_costo_variable_rentabilidad(rentabilidad_mk_sub, 'RentabilidadUnidadNegocioCM2Sub', 'CMII', 'MK')\n",
    ")\n",
    "cumplimiento_rentabilidad_por_unidad_negocio_cm2_mk_centro_costo"
   ]
  },
  {
   "cell_type": "code",
   "execution_count": null,
   "metadata": {},
   "outputs": [],
   "source": [
    "cumplimiento_rentabilidad_por_unidad_negocio_cm3_mk_centro_costo = (\n",
    "    dataframe_loader.f_calculo_centro_costo_variable_rentabilidad(rentabilidad_mk_sub, 'RentabilidadUnidadNegocioCM3Sub', 'CMIII', 'MK')\n",
    ")\n",
    "cumplimiento_rentabilidad_por_unidad_negocio_cm3_mk_centro_costo"
   ]
  },
  {
   "cell_type": "code",
   "execution_count": null,
   "metadata": {},
   "outputs": [],
   "source": [
    "cumplimiento_rentabilidad_por_unidad_negocio_cm2_mk_sub = (\n",
    "    dataframe_loader.calculo_porcentaje_cumplimiento(cumplimiento_rentabilidad_por_unidad_negocio_cm2_mk_centro_costo, 'RentabilidadUnidadNegocioCM2Sub', 'MK')\n",
    ")\n",
    "cumplimiento_rentabilidad_por_unidad_negocio_cm2_mk_sub.head()"
   ]
  },
  {
   "cell_type": "code",
   "execution_count": null,
   "metadata": {},
   "outputs": [],
   "source": [
    "cumplimiento_rentabilidad_por_unidad_negocio_cm3_mk_sub = (\n",
    "    dataframe_loader.calculo_porcentaje_cumplimiento(cumplimiento_rentabilidad_por_unidad_negocio_cm3_mk_centro_costo, 'RentabilidadUnidadNegocioCM3Sub', 'MK')\n",
    ")\n",
    "cumplimiento_rentabilidad_por_unidad_negocio_cm3_mk_sub.head()"
   ]
  },
  {
   "cell_type": "markdown",
   "metadata": {
    "datalore": {
     "hide_input_from_viewers": false,
     "hide_output_from_viewers": false,
     "type": "MD"
    }
   },
   "source": [
    "## 11. Objetivos de recaudo por división (VentaCobradaDivision)"
   ]
  },
  {
   "cell_type": "code",
   "execution_count": null,
   "metadata": {
    "datalore": {
     "hide_input_from_viewers": false,
     "hide_output_from_viewers": false,
     "type": "CODE"
    }
   },
   "outputs": [],
   "source": [
    "recaudo_real_por_division = df_venta_recaudo_real[['Division', 'Fecha', 'Recaudo']]\n",
    "recaudo_real_por_division = recaudo_real_por_division.groupby(['Division', 'Fecha'], as_index=False).agg({'Recaudo': 'sum'})\n",
    "recaudo_real_por_division['Real'] = recaudo_real_por_division['Recaudo']\n",
    "recaudo_real_por_division.drop(columns=['Recaudo'], inplace=True)\n",
    "recaudo_real_por_division\n",
    "\n",
    "recaudo_presupuesto_por_division = df_venta_recaudo_presupuesto[['Division', 'Fecha', 'Recaudo']]\n",
    "recaudo_presupuesto_por_division = recaudo_presupuesto_por_division.groupby(['Division', 'Fecha'], as_index=False).agg({'Recaudo': 'sum'})\n",
    "recaudo_presupuesto_por_division['Presupuesto'] = recaudo_presupuesto_por_division['Recaudo']\n",
    "recaudo_presupuesto_por_division.drop(columns=['Recaudo'], inplace=True)\n",
    "recaudo_presupuesto_por_division\n",
    "\n",
    "cumplimiento_recaudo_por_division = pd.merge(\n",
    "    left=recaudo_presupuesto_por_division,\n",
    "    right=recaudo_real_por_division,\n",
    "    on=['Division', 'Fecha'],\n",
    "    how='left'\n",
    ")\n",
    "cumplimiento_recaudo_por_division['Real'].fillna(0.0, inplace=True)\n",
    "cumplimiento_recaudo_por_division['Real'] = cumplimiento_recaudo_por_division.groupby(['Division'])['Real'].transform(pd.Series.cumsum)\n",
    "cumplimiento_recaudo_por_division['Presupuesto'] = cumplimiento_recaudo_por_division.groupby(['Division'])['Presupuesto'].transform(pd.Series.cumsum)\n",
    "cumplimiento_recaudo_por_division['PorcentajeCumplimiento'] = cumplimiento_recaudo_por_division['Real'] / cumplimiento_recaudo_por_division['Presupuesto']\n",
    "cumplimiento_recaudo_por_division['PorcentajeCumplimiento'] = cumplimiento_recaudo_por_division['PorcentajeCumplimiento'].apply(lambda x: round(x, 2))\n",
    "\n",
    "cumplimiento_recaudo_por_division['Contexto'] = cumplimiento_recaudo_por_division['Division']\n",
    "cumplimiento_recaudo_por_division['Variable'] = 'VentaCobradaDivision'\n",
    "cumplimiento_recaudo_por_division = cumplimiento_recaudo_por_division[['Contexto', 'Variable', 'Fecha', 'Real', 'Presupuesto', 'PorcentajeCumplimiento']]\n",
    "cumplimiento_recaudo_por_division.head()"
   ]
  },
  {
   "cell_type": "markdown",
   "metadata": {
    "datalore": {
     "hide_input_from_viewers": false,
     "hide_output_from_viewers": false,
     "type": "MD"
    }
   },
   "source": [
    "## 12. Objetivos de recaudo por division con consecutivos (VentaCobradaDivisionSub)"
   ]
  },
  {
   "cell_type": "code",
   "execution_count": null,
   "metadata": {},
   "outputs": [],
   "source": [
    "area_calculo_sba_completo_renal_vc_gd = area_calculo_sba_completo[\n",
    "    (\n",
    "        (area_calculo_sba_completo['TipoEmpleado'] == 'VC') &\n",
    "        (area_calculo_sba_completo['Consecutivo'] == 1) &\n",
    "        (area_calculo_sba_completo['AreaCalculo'] == 5) \n",
    "    ) \n",
    "    |\n",
    "    (\n",
    "        (area_calculo_sba_completo['TipoEmpleado'] == 'GD') &\n",
    "        (area_calculo_sba_completo['Consecutivo'] == 5) &\n",
    "        (area_calculo_sba_completo['AreaCalculo'] == 3) \n",
    "    )\n",
    "]\n",
    "\n",
    "area_calculo_sba_completo_renal_vc_gd"
   ]
  },
  {
   "cell_type": "code",
   "execution_count": null,
   "metadata": {},
   "outputs": [],
   "source": [
    "df_merged = area_calculo_sba_completo.merge(\n",
    "    area_calculo_sba_completo_renal_vc_gd,\n",
    "    how='left',\n",
    "    indicator=True\n",
    ").drop_duplicates()\n",
    "\n",
    "area_calculo_sba_completo_without_renal = df_merged[df_merged['_merge'] == 'left_only']\n",
    "area_calculo_sba_completo_without_renal"
   ]
  },
  {
   "cell_type": "code",
   "execution_count": null,
   "metadata": {},
   "outputs": [],
   "source": [
    "area_calculo_sba_completo_with_renal = df_merged[df_merged['_merge'] == 'both']\n",
    "area_calculo_sba_completo_with_renal"
   ]
  },
  {
   "cell_type": "markdown",
   "metadata": {
    "datalore": {
     "hide_input_from_viewers": false,
     "hide_output_from_viewers": false,
     "type": "MD"
    }
   },
   "source": [
    "### 12.1. Para MK (VentaCobradaDivisionSub)"
   ]
  },
  {
   "cell_type": "code",
   "execution_count": null,
   "metadata": {},
   "outputs": [],
   "source": [
    "# def f_calculo_centro_costo_variable_division_sub(main, variable, tipo_empleado):\n",
    "# #     df_area_calculo_sba_centros_costos_tipo_empleado = (\n",
    "# #         df_area_calculo_sba_centros_costos[df_area_calculo_sba_centros_costos['TipoEmpleado'] == tipo_empleado]\n",
    "# #     )    \n",
    "    \n",
    "#     main = main.merge(\n",
    "#         df_centros_costos_grupos_productos_divisiones.rename(columns={'ConsecutivoParrilla':'Consecutivo'}),\n",
    "#         on=['Division', 'GrupoProducto'],\n",
    "#         how='left'\n",
    "#     )\n",
    "#     main['AreaCalculo'] = main['AreaCalculo'].astype(str)\n",
    "#     main['Consecutivo'] = main['Consecutivo'].astype(str)\n",
    "#     main['Contexto'] = tipo_empleado.lower() +'_'+ main['AreaCalculo'].str.cat(main['Consecutivo'],sep=\"_\")\n",
    "# #     main = main.groupby(['Contexto', 'Fecha', 'GrupoProducto', 'Division', 'CodigoCentroCosto'], as_index=False)[['Real', 'Presupuesto']].apply(sum)\n",
    "    \n",
    "# #     main['Real'] = main.groupby(['Contexto', 'CentroCosto'])['Real'].transform(pd.Series.sum)\n",
    "# #     main['Presupuesto'] = main.groupby(['Contexto', 'CentroCosto'])['Presupuesto'].transform(pd.Series.sum)\n",
    "    \n",
    "#     main['Real'] = main.groupby(['Contexto', 'GrupoProducto', 'Division', 'CodigoCentroCosto'])['Real'].transform(pd.Series.cumsum)\n",
    "#     main['Presupuesto'] = main.groupby(['Contexto', 'GrupoProducto', 'Division', 'CodigoCentroCosto'])['Presupuesto'].transform(pd.Series.cumsum)\n",
    "#     main['Variable'] = variable\n",
    "#     return main\n"
   ]
  },
  {
   "cell_type": "code",
   "execution_count": null,
   "metadata": {
    "datalore": {
     "hide_input_from_viewers": false,
     "hide_output_from_viewers": false,
     "type": "CODE"
    }
   },
   "outputs": [],
   "source": [
    "cumplimiento_recaudo_por_division_sub_mk = pd.merge(\n",
    "    left=recaudo_presupuesto_area_calculo_mk_sub,\n",
    "    right=recaudo_real_area_calculo_mk_sub,\n",
    "    on=['AreaCalculo', 'Consecutivo', 'Fecha', 'Division', 'GrupoProducto'],\n",
    "    how='left'\n",
    ")\n",
    "cumplimiento_recaudo_por_division_sub_mk['Real'].fillna(0.0, inplace=True)\n",
    "cumplimiento_recaudo_por_division_sub_mk"
   ]
  },
  {
   "cell_type": "code",
   "execution_count": null,
   "metadata": {},
   "outputs": [],
   "source": [
    "cumplimiento_recaudo_por_division_sub_mk_centro_costo = (\n",
    "    dataframe_loader.f_calculo_centro_costo_variable_division_sub(cumplimiento_recaudo_por_division_sub_mk, 'VentaCobradaDivisionSub', 'MK')\n",
    ")\n",
    "cumplimiento_recaudo_por_division_sub_mk_centro_costo"
   ]
  },
  {
   "cell_type": "code",
   "execution_count": null,
   "metadata": {},
   "outputs": [],
   "source": []
  },
  {
   "cell_type": "code",
   "execution_count": null,
   "metadata": {},
   "outputs": [],
   "source": [
    "cumplimiento_recaudo_por_division_sub_mk_centro_costo[\n",
    "    (cumplimiento_recaudo_por_division_sub_mk_centro_costo['Contexto'] == 'mk_9_3') &\n",
    "    (cumplimiento_recaudo_por_division_sub_mk_centro_costo['Fecha'] == '2023-09-01')\n",
    "]"
   ]
  },
  {
   "cell_type": "code",
   "execution_count": null,
   "metadata": {},
   "outputs": [],
   "source": [
    "cumplimiento_recaudo_por_division_sub_mk_centro_costo[\n",
    "    (cumplimiento_recaudo_por_division_sub_mk_centro_costo['Contexto'] == 'mk_9_3') &\n",
    "    (cumplimiento_recaudo_por_division_sub_mk_centro_costo['Fecha'] == '2023-01-01')\n",
    "].groupby(['AreaCalculo', 'Consecutivo', 'Variable'])['Real'].transform(pd.Series.cumsum)"
   ]
  },
  {
   "cell_type": "code",
   "execution_count": null,
   "metadata": {},
   "outputs": [],
   "source": [
    "cumplimiento_recaudo_por_division_sub_mk_centro_costo[\n",
    "    (cumplimiento_recaudo_por_division_sub_mk_centro_costo['Contexto'] == 'mk_1_2') &\n",
    "    (cumplimiento_recaudo_por_division_sub_mk_centro_costo['Fecha'] == '2023-01-01')\n",
    "].groupby(['AreaCalculo', 'Consecutivo', 'Variable'])['Presupuesto'].transform(pd.Series.cumsum)"
   ]
  },
  {
   "cell_type": "code",
   "execution_count": null,
   "metadata": {},
   "outputs": [],
   "source": [
    "dataframe_loader.validar_calculo_centro_costo_division_sub(cumplimiento_recaudo_por_division_sub_mk_centro_costo, 'mk_1_2', '2023-01-01')"
   ]
  },
  {
   "cell_type": "code",
   "execution_count": null,
   "metadata": {},
   "outputs": [],
   "source": []
  },
  {
   "cell_type": "code",
   "execution_count": null,
   "metadata": {},
   "outputs": [],
   "source": [
    "dataframe_loader.validar_calculo_centro_costo(cumplimiento_recaudo_por_division_sub_mk_centro_costo, 'mk_9_3', '2023-01-01')"
   ]
  },
  {
   "cell_type": "code",
   "execution_count": null,
   "metadata": {},
   "outputs": [],
   "source": [
    "cumplimiento_recaudo_por_division_sub_mk = cumplimiento_recaudo_por_division_sub_mk.groupby(['AreaCalculo', 'Consecutivo', 'Fecha'], as_index=False)[['Real', 'Presupuesto']].apply(sum)\n",
    "cumplimiento_recaudo_por_division_sub_mk['Real'] = cumplimiento_recaudo_por_division_sub_mk.groupby(['AreaCalculo', 'Consecutivo'])['Real'].transform(pd.Series.cumsum)\n",
    "cumplimiento_recaudo_por_division_sub_mk['Presupuesto'] = cumplimiento_recaudo_por_division_sub_mk.groupby(['AreaCalculo', 'Consecutivo'])['Presupuesto'].transform(pd.Series.cumsum)\n",
    "cumplimiento_recaudo_por_division_sub_mk['PorcentajeCumplimiento'] = cumplimiento_recaudo_por_division_sub_mk['Real'] / cumplimiento_recaudo_por_division_sub_mk['Presupuesto']\n",
    "cumplimiento_recaudo_por_division_sub_mk['PorcentajeCumplimiento'] = cumplimiento_recaudo_por_division_sub_mk['PorcentajeCumplimiento'].apply(lambda x: round(x, 2))\n",
    "cumplimiento_recaudo_por_division_sub_mk['Variable'] = 'VentaCobradaDivisionSub'\n",
    "\n",
    "### Cálculo de resultados cualitativos precargados\n",
    "cumplimiento_recaudo_por_division_sub_mk = dataframe_loader.sobreescribir_resultados_cualitativos(\n",
    "    main=cumplimiento_recaudo_por_division_sub_mk,\n",
    "    variable='VentaCobradaDivisionSub',\n",
    "    columnas_extra=['TipoEmpleado', 'AreaCalculo', 'Consecutivo'], \n",
    "    columnas_extra_merge=['AreaCalculo', 'Consecutivo'],\n",
    "    pre_merge_lambda=lambda x: x[x['TipoEmpleado'] == 'MK'].drop(columns=['TipoEmpleado'])\n",
    ")\n",
    "###\n",
    "\n",
    "cumplimiento_recaudo_por_division_sub_mk['Contexto'] = 'mk_' + cumplimiento_recaudo_por_division_sub_mk['AreaCalculo'].astype('str').str.cat(cumplimiento_recaudo_por_division_sub_mk['Consecutivo'].astype('str'), sep=\"_\")\n",
    "cumplimiento_recaudo_por_division_sub_mk = cumplimiento_recaudo_por_division_sub_mk[['Contexto', 'Variable', 'Fecha', 'Real', 'Presupuesto', 'PorcentajeCumplimiento']]\n",
    "\n",
    "cumplimiento_recaudo_por_division_sub_mk.head()"
   ]
  },
  {
   "cell_type": "code",
   "execution_count": null,
   "metadata": {},
   "outputs": [],
   "source": [
    "cumplimiento_recaudo_por_division_sub_mk[\n",
    "    (cumplimiento_recaudo_por_division_sub_mk['Contexto'] == 'mk_9_3') &\n",
    "    (cumplimiento_recaudo_por_division_sub_mk['Fecha'] == '2023-01-01')\n",
    "]"
   ]
  },
  {
   "cell_type": "code",
   "execution_count": null,
   "metadata": {},
   "outputs": [],
   "source": [
    "cumplimiento_recaudo_por_division_sub_mk[\n",
    "    (cumplimiento_recaudo_por_division_sub_mk['Contexto'] == 'mk_9_1') &\n",
    "    (cumplimiento_recaudo_por_division_sub_mk['Fecha'] == '2023-01-01')\n",
    "]"
   ]
  },
  {
   "cell_type": "code",
   "execution_count": null,
   "metadata": {},
   "outputs": [],
   "source": [
    "cumplimiento_recaudo_por_division_sub_mk[\n",
    "    (cumplimiento_recaudo_por_division_sub_mk['Contexto'] == 'mk_7_3') &\n",
    "    (cumplimiento_recaudo_por_division_sub_mk['Fecha'] == '2023-01-01')\n",
    "]"
   ]
  },
  {
   "cell_type": "code",
   "execution_count": null,
   "metadata": {},
   "outputs": [],
   "source": [
    "cumplimiento_recaudo_por_division_sub_mk[\n",
    "    (cumplimiento_recaudo_por_division_sub_mk['Contexto'].str.contains('mk_1_1')) &\n",
    "    (cumplimiento_recaudo_por_division_sub_mk['Fecha'] == '2023-01-01')\n",
    "]"
   ]
  },
  {
   "cell_type": "code",
   "execution_count": null,
   "metadata": {
    "datalore": {
     "hide_input_from_viewers": false,
     "hide_output_from_viewers": false,
     "type": "CODE"
    }
   },
   "outputs": [],
   "source": [
    "cumplimiento_recaudo_otras_companias_mk = pd.merge(\n",
    "    left=area_calculo_sba_completo_mk,\n",
    "    right=df_recaudo_otras_companias.rename(columns={'Compania': 'Division'}),\n",
    "    on=['Division']\n",
    ")\n",
    "cumplimiento_recaudo_otras_companias_mk['PorcentajeCumplimiento'] = cumplimiento_recaudo_otras_companias_mk['Real']/cumplimiento_recaudo_otras_companias_mk['Presupuesto']\n",
    "cumplimiento_recaudo_otras_companias_mk['PorcentajeCumplimiento'] = cumplimiento_recaudo_otras_companias_mk['PorcentajeCumplimiento'].apply(lambda x: round(x, 2))\n",
    "cumplimiento_recaudo_otras_companias_mk['Variable'] = 'VentaCobradaDivisionSub'\n",
    "cumplimiento_recaudo_otras_companias_mk['Contexto'] = 'mk_' + cumplimiento_recaudo_otras_companias_mk['AreaCalculo'].astype('str').str.cat(cumplimiento_recaudo_otras_companias_mk['Consecutivo'].astype('str'), sep=\"_\")\n",
    "cumplimiento_recaudo_otras_companias_mk = cumplimiento_recaudo_otras_companias_mk[['Contexto', 'Variable', 'Fecha', 'Real', 'Presupuesto', 'PorcentajeCumplimiento']]\n",
    "\n",
    "cumplimiento_recaudo_otras_companias_mk.head()"
   ]
  },
  {
   "cell_type": "markdown",
   "metadata": {
    "datalore": {
     "hide_input_from_viewers": false,
     "hide_output_from_viewers": false,
     "type": "MD"
    }
   },
   "source": [
    "### 12.2. Para GD (VentaCobradaDivisionSub)"
   ]
  },
  {
   "cell_type": "markdown",
   "metadata": {},
   "source": [
    "#### Cálculo sin Renal Ambulatorio"
   ]
  },
  {
   "cell_type": "code",
   "execution_count": null,
   "metadata": {},
   "outputs": [],
   "source": [
    "# area_calculo_sba_completo_gd = area_calculo_sba_completo[area_calculo_sba_completo['TipoEmpleado']=='GD']\n",
    "area_calculo_sba_completo_gd = area_calculo_sba_completo_without_renal[area_calculo_sba_completo_without_renal['TipoEmpleado']=='GD']\n",
    "area_calculo_sba_completo_gd"
   ]
  },
  {
   "cell_type": "code",
   "execution_count": null,
   "metadata": {},
   "outputs": [],
   "source": [
    "#Se halla la informacion de la venta y recaudo real de los representantes de ventas de los GD\n",
    "venta_recaudo_presupuesto_original_gd_real = area_calculo_sba_completo_gd.merge(\n",
    "    df_venta_recaudo_real[['Division', 'GrupoProducto', 'SBA', 'Fecha', 'Venta', 'Recaudo']],\n",
    "    on=['Division', 'GrupoProducto', 'SBA']\n",
    ")\n",
    "\n",
    "#Se halla la informacion de la venta y recaudo presupuesto de los representantes de ventas de los GD\n",
    "venta_recaudo_presupuesto_original_gd_presupuesto = area_calculo_sba_completo_gd.merge(\n",
    "    df_venta_recaudo_presupuesto[['Division', 'GrupoProducto', 'SBA', 'Fecha', 'Venta', 'Recaudo']],\n",
    "    on=['Division', 'GrupoProducto', 'SBA']\n",
    ")\n",
    "\n",
    "venta_recaudo_real_area_calculo_gd = venta_recaudo_presupuesto_original_gd_real.groupby(['AreaCalculo', 'Consecutivo', 'GrupoProducto', 'Division', 'Fecha'], as_index=False).agg({'Recaudo': 'sum'})\n",
    "venta_recaudo_real_area_calculo_gd['Real'] = venta_recaudo_real_area_calculo_gd['Recaudo']\n",
    "venta_recaudo_real_area_calculo_gd.drop(columns=['Recaudo'], inplace=True)\n",
    "\n",
    "venta_recaudo_presupuesto_area_calculo_gd = venta_recaudo_presupuesto_original_gd_presupuesto.groupby(['AreaCalculo', 'Consecutivo', 'GrupoProducto', 'Division', 'Fecha'], as_index=False).agg({'Recaudo': 'sum'})\n",
    "venta_recaudo_presupuesto_area_calculo_gd['Presupuesto'] = venta_recaudo_presupuesto_area_calculo_gd['Recaudo']\n",
    "venta_recaudo_presupuesto_area_calculo_gd.drop(columns=['Recaudo'], inplace=True)\n",
    "\n",
    "cumplimiento_recaudo_por_division_sub_gd = pd.merge(\n",
    "    left=venta_recaudo_presupuesto_area_calculo_gd,\n",
    "    right=venta_recaudo_real_area_calculo_gd,\n",
    "    on=['AreaCalculo', 'Consecutivo', 'GrupoProducto', 'Division', 'Fecha'],\n",
    "    how='left'\n",
    ")\n",
    "cumplimiento_recaudo_por_division_sub_gd"
   ]
  },
  {
   "cell_type": "code",
   "execution_count": null,
   "metadata": {},
   "outputs": [],
   "source": [
    "cumplimiento_recaudo_por_division_sub_gd_centro_costo = (\n",
    "    dataframe_loader.f_calculo_centro_costo_variable_division_sub(cumplimiento_recaudo_por_division_sub_gd, 'VentaCobradaDivisionSub', 'GD')\n",
    ")\n",
    "cumplimiento_recaudo_por_division_sub_gd_centro_costo"
   ]
  },
  {
   "cell_type": "code",
   "execution_count": null,
   "metadata": {},
   "outputs": [],
   "source": [
    "cumplimiento_recaudo_por_division_sub_gd = cumplimiento_recaudo_por_division_sub_gd.groupby(['AreaCalculo', 'Consecutivo', 'Fecha'], as_index=False)[['Real', 'Presupuesto']].apply(sum)\n",
    "cumplimiento_recaudo_por_division_sub_gd['Real'].fillna(0.0, inplace=True)\n",
    "cumplimiento_recaudo_por_division_sub_gd['Real'] = cumplimiento_recaudo_por_division_sub_gd.groupby(['AreaCalculo', 'Consecutivo'])['Real'].transform(pd.Series.cumsum)\n",
    "cumplimiento_recaudo_por_division_sub_gd['Presupuesto'] = cumplimiento_recaudo_por_division_sub_gd.groupby(['AreaCalculo', 'Consecutivo'])['Presupuesto'].transform(pd.Series.cumsum)\n",
    "cumplimiento_recaudo_por_division_sub_gd['PorcentajeCumplimiento'] = cumplimiento_recaudo_por_division_sub_gd['Real'] / cumplimiento_recaudo_por_division_sub_gd['Presupuesto']\n",
    "cumplimiento_recaudo_por_division_sub_gd['PorcentajeCumplimiento'] = cumplimiento_recaudo_por_division_sub_gd['PorcentajeCumplimiento'].apply(lambda x: round(x, 2))\n",
    "cumplimiento_recaudo_por_division_sub_gd['Variable'] = 'VentaCobradaDivisionSub'\n",
    "\n",
    "### Cálculo de resultados cualitativos precargados\n",
    "cumplimiento_recaudo_por_division_sub_gd = dataframe_loader.sobreescribir_resultados_cualitativos(\n",
    "    main=cumplimiento_recaudo_por_division_sub_gd,\n",
    "    variable='VentaCobradaDivisionSub',\n",
    "    columnas_extra=['TipoEmpleado', 'AreaCalculo', 'Consecutivo'], \n",
    "    columnas_extra_merge=['AreaCalculo', 'Consecutivo'],\n",
    "    pre_merge_lambda=lambda x: x[x['TipoEmpleado'] == 'GD'].drop(columns=['TipoEmpleado'])\n",
    ")\n",
    "###\n",
    "\n",
    "cumplimiento_recaudo_por_division_sub_gd['Contexto'] = 'gd_' + cumplimiento_recaudo_por_division_sub_gd['AreaCalculo'].astype('str').str.cat(cumplimiento_recaudo_por_division_sub_gd['Consecutivo'].astype('str'), sep=\"_\")\n",
    "cumplimiento_recaudo_por_division_sub_gd = cumplimiento_recaudo_por_division_sub_gd[['Contexto', 'Variable', 'Fecha', 'Real', 'Presupuesto', 'PorcentajeCumplimiento']]\n",
    "cumplimiento_recaudo_por_division_sub_gd"
   ]
  },
  {
   "cell_type": "markdown",
   "metadata": {},
   "source": [
    "#### Cálculo con Renal Ambulatorio"
   ]
  },
  {
   "cell_type": "code",
   "execution_count": null,
   "metadata": {},
   "outputs": [],
   "source": [
    "area_calculo_sba_completo_gd_with_renal = area_calculo_sba_completo_with_renal[area_calculo_sba_completo_with_renal['TipoEmpleado']=='GD']\n",
    "area_calculo_sba_completo_gd_with_renal"
   ]
  },
  {
   "cell_type": "code",
   "execution_count": null,
   "metadata": {},
   "outputs": [],
   "source": [
    "df_renal_ambulatorio_gd = df_renal_ambulatorio[df_renal_ambulatorio['TipoEmpleado'] == 'GD']\n",
    "df_renal_ambulatorio_gd"
   ]
  },
  {
   "cell_type": "code",
   "execution_count": null,
   "metadata": {},
   "outputs": [],
   "source": [
    "area_calculo_sba_completo_gd_with_renal"
   ]
  },
  {
   "cell_type": "code",
   "execution_count": null,
   "metadata": {},
   "outputs": [],
   "source": [
    "renal_ambulatorio_gd = df_renal_ambulatorio_gd.merge(\n",
    "    area_calculo_sba_completo_gd_with_renal,\n",
    "    on=['TipoEmpleado'],\n",
    "    how='left'\n",
    ")\n",
    "renal_ambulatorio_gd"
   ]
  },
  {
   "cell_type": "code",
   "execution_count": null,
   "metadata": {},
   "outputs": [],
   "source": [
    "# Calcular\n",
    "\n",
    "main = renal_ambulatorio_gd.rename(columns={'PlanVentaCobradaRenal': 'Presupuesto', 'RealVentaCobradaRenal': 'Real'})\n",
    "\n",
    "main['Contexto'] = 'gd_' + main['AreaCalculo'].astype('str').str.cat(main['Consecutivo'].astype('str'), sep=\"_\")\n",
    "\n",
    "# main['Contexto'] = main['CodigoEmpleado']\n",
    "\n",
    "main = main.groupby(['Contexto', 'Fecha'], as_index=False)[['Real', 'Presupuesto']].apply(sum)\n",
    "main['Real'] = main.groupby(['Contexto'])['Real'].transform(pd.Series.cumsum)\n",
    "main['Presupuesto'] = main.groupby(['Contexto'])['Presupuesto'].transform(pd.Series.cumsum)\n",
    "main['PorcentajeCumplimiento'] = (main['Real']/main['Presupuesto']).apply(lambda x: round(x, 2))\n",
    "main['Variable'] = 'VentaCobradaDivisionSub'\n",
    "\n",
    "\n",
    "#Formatear\n",
    "main.reset_index(inplace=True)\n",
    "main = main[['Contexto', 'Variable', 'Fecha', 'Real','Presupuesto', 'PorcentajeCumplimiento']]\n",
    "\n",
    "\n",
    "cumplimiento_recaudo_por_division_sub_gd = pd.concat(\n",
    "    [\n",
    "        cumplimiento_recaudo_por_division_sub_gd.copy(),\n",
    "        main.copy()\n",
    "    ],\n",
    "    ignore_index=True\n",
    ")\n",
    "\n",
    "\n",
    "main = None\n",
    "cumplimiento_recaudo_por_division_sub_gd"
   ]
  },
  {
   "cell_type": "code",
   "execution_count": null,
   "metadata": {},
   "outputs": [],
   "source": []
  },
  {
   "cell_type": "code",
   "execution_count": null,
   "metadata": {
    "datalore": {
     "hide_input_from_viewers": false,
     "hide_output_from_viewers": false,
     "type": "CODE"
    }
   },
   "outputs": [],
   "source": [
    "cumplimiento_recaudo_otras_companias_gd = pd.merge(\n",
    "    left=area_calculo_sba_completo_gd,\n",
    "    right=df_recaudo_otras_companias.rename(columns={'Compania': 'Division'}),\n",
    "    on=['Division']\n",
    ")\n",
    "cumplimiento_recaudo_otras_companias_gd['PorcentajeCumplimiento'] = cumplimiento_recaudo_otras_companias_gd['Real']/cumplimiento_recaudo_otras_companias_gd['Presupuesto']\n",
    "cumplimiento_recaudo_otras_companias_gd['PorcentajeCumplimiento'] = cumplimiento_recaudo_otras_companias_gd['PorcentajeCumplimiento'].apply(lambda x: round(x, 2))\n",
    "cumplimiento_recaudo_otras_companias_gd['Contexto'] = 'gd_' + cumplimiento_recaudo_otras_companias_gd['AreaCalculo'].astype('str').str.cat(cumplimiento_recaudo_otras_companias_gd['Consecutivo'].astype('str'), sep=\"_\")\n",
    "cumplimiento_recaudo_otras_companias_gd['Variable'] = 'VentaCobradaDivisionSub'\n",
    "cumplimiento_recaudo_otras_companias_gd = cumplimiento_recaudo_otras_companias_gd[['Contexto', 'Variable', 'Fecha', 'Real', 'Presupuesto', 'PorcentajeCumplimiento']]\n",
    "\n",
    "cumplimiento_recaudo_otras_companias_gd.head()"
   ]
  },
  {
   "cell_type": "markdown",
   "metadata": {
    "datalore": {
     "hide_input_from_viewers": false,
     "hide_output_from_viewers": false,
     "type": "MD"
    }
   },
   "source": [
    "### 12.3. Para AD (VentaCobradaDivisionSub)"
   ]
  },
  {
   "cell_type": "code",
   "execution_count": null,
   "metadata": {
    "datalore": {
     "hide_input_from_viewers": false,
     "hide_output_from_viewers": false,
     "type": "CODE"
    }
   },
   "outputs": [],
   "source": [
    "area_calculo_sba_completo_ad = area_calculo_sba_completo[area_calculo_sba_completo['TipoEmpleado']=='AD']\n",
    "\n",
    "#Se halla la informacion de la venta y recaudo real de los representantes de ventas de los AD\n",
    "venta_recaudo_presupuesto_original_ad_real = area_calculo_sba_completo_ad.merge(\n",
    "    df_venta_recaudo_real[['Division', 'GrupoProducto', 'SBA', 'Fecha', 'Venta', 'Recaudo']],\n",
    "    on=['Division', 'GrupoProducto', 'SBA']\n",
    ")\n",
    "\n",
    "#Se halla la informacion de la venta y recaudo presupuesto de los representantes de ventas de los AD\n",
    "venta_recaudo_presupuesto_original_ad_presupuesto = area_calculo_sba_completo_ad.merge(\n",
    "    df_venta_recaudo_presupuesto[['Division', 'GrupoProducto', 'SBA', 'Fecha', 'Venta', 'Recaudo']],\n",
    "    on=['Division', 'GrupoProducto', 'SBA']\n",
    ")\n",
    "\n",
    "venta_recaudo_real_area_calculo_ad = venta_recaudo_presupuesto_original_ad_real.groupby(['AreaCalculo', 'Consecutivo', 'Fecha'], as_index=False).agg({'Recaudo': 'sum'})\n",
    "venta_recaudo_real_area_calculo_ad['Real'] = venta_recaudo_real_area_calculo_ad['Recaudo']\n",
    "venta_recaudo_real_area_calculo_ad.drop(columns=['Recaudo'], inplace=True)\n",
    "\n",
    "venta_recaudo_presupuesto_area_calculo_ad = venta_recaudo_presupuesto_original_ad_presupuesto.groupby(['AreaCalculo', 'Consecutivo', 'Fecha'], as_index=False).agg({'Recaudo': 'sum'})\n",
    "venta_recaudo_presupuesto_area_calculo_ad['Presupuesto'] = venta_recaudo_presupuesto_area_calculo_ad['Recaudo']\n",
    "venta_recaudo_presupuesto_area_calculo_ad.drop(columns=['Recaudo'], inplace=True)\n",
    "\n",
    "cumplimiento_recaudo_por_division_sub_ad = pd.merge(\n",
    "    left=venta_recaudo_presupuesto_area_calculo_ad,\n",
    "    right=venta_recaudo_real_area_calculo_ad,\n",
    "    on=['AreaCalculo', 'Consecutivo', 'Fecha'],\n",
    "    how='left'\n",
    ")\n",
    "cumplimiento_recaudo_por_division_sub_ad['Real'].fillna(0.0, inplace=True)\n",
    "cumplimiento_recaudo_por_division_sub_ad['Real'] = cumplimiento_recaudo_por_division_sub_ad.groupby(['AreaCalculo', 'Consecutivo'])['Real'].transform(pd.Series.cumsum)\n",
    "cumplimiento_recaudo_por_division_sub_ad['Presupuesto'] = cumplimiento_recaudo_por_division_sub_ad.groupby(['AreaCalculo', 'Consecutivo'])['Presupuesto'].transform(pd.Series.cumsum)\n",
    "cumplimiento_recaudo_por_division_sub_ad['PorcentajeCumplimiento'] = cumplimiento_recaudo_por_division_sub_ad['Real'] / cumplimiento_recaudo_por_division_sub_ad['Presupuesto']\n",
    "cumplimiento_recaudo_por_division_sub_ad['PorcentajeCumplimiento'] = cumplimiento_recaudo_por_division_sub_ad['PorcentajeCumplimiento'].apply(lambda x: round(x, 2))\n",
    "cumplimiento_recaudo_por_division_sub_ad['Variable'] = 'VentaCobradaDivisionSub'\n",
    "\n",
    "### Cálculo de resultados cualitativos precargados\n",
    "cumplimiento_recaudo_por_division_sub_ad = dataframe_loader.sobreescribir_resultados_cualitativos(\n",
    "    main=cumplimiento_recaudo_por_division_sub_ad,\n",
    "    variable='VentaCobradaDivisionSub',\n",
    "    columnas_extra=['TipoEmpleado', 'AreaCalculo', 'Consecutivo'], \n",
    "    columnas_extra_merge=['AreaCalculo', 'Consecutivo'],\n",
    "    pre_merge_lambda=lambda x: x[x['TipoEmpleado'] == 'AD'].drop(columns=['TipoEmpleado'])\n",
    ")\n",
    "###\n",
    "\n",
    "cumplimiento_recaudo_por_division_sub_ad['Contexto'] = 'ad_' + cumplimiento_recaudo_por_division_sub_ad['AreaCalculo'].astype('str').str.cat(cumplimiento_recaudo_por_division_sub_ad['Consecutivo'].astype('str'), sep=\"_\")\n",
    "cumplimiento_recaudo_por_division_sub_ad = cumplimiento_recaudo_por_division_sub_ad[['Contexto', 'Variable', 'Fecha', 'Real', 'Presupuesto', 'PorcentajeCumplimiento']]\n",
    "cumplimiento_recaudo_por_division_sub_ad.head()"
   ]
  },
  {
   "cell_type": "code",
   "execution_count": null,
   "metadata": {},
   "outputs": [],
   "source": [
    "cumplimiento_recaudo_por_division_sub_ad[cumplimiento_recaudo_por_division_sub_ad['Contexto'] == 'ad_3_1']"
   ]
  },
  {
   "cell_type": "code",
   "execution_count": null,
   "metadata": {
    "datalore": {
     "hide_input_from_viewers": false,
     "hide_output_from_viewers": false,
     "type": "CODE"
    }
   },
   "outputs": [],
   "source": [
    "cumplimiento_recaudo_otras_companias_ad = pd.merge(\n",
    "    left=area_calculo_sba_completo_ad,\n",
    "    right=df_recaudo_otras_companias.rename(columns={'Compania': 'Division'}),\n",
    "    on=['Division']\n",
    ")\n",
    "cumplimiento_recaudo_otras_companias_ad['PorcentajeCumplimiento'] = cumplimiento_recaudo_otras_companias_ad['Real']/cumplimiento_recaudo_otras_companias_ad['Presupuesto']\n",
    "cumplimiento_recaudo_otras_companias_ad['PorcentajeCumplimiento'] = cumplimiento_recaudo_otras_companias_ad['PorcentajeCumplimiento'].apply(lambda x: round(x, 2))\n",
    "cumplimiento_recaudo_otras_companias_ad['Contexto'] = 'ad_' + cumplimiento_recaudo_otras_companias_ad['AreaCalculo'].astype('str').str.cat(cumplimiento_recaudo_otras_companias_ad['Consecutivo'].astype('str'), sep=\"_\")\n",
    "cumplimiento_recaudo_otras_companias_ad['Variable'] = 'VentaCobradaDivisionSub'\n",
    "cumplimiento_recaudo_otras_companias_ad = cumplimiento_recaudo_otras_companias_ad[['Contexto', 'Variable', 'Fecha', 'Real', 'Presupuesto', 'PorcentajeCumplimiento']]\n",
    "\n",
    "cumplimiento_recaudo_otras_companias_ad"
   ]
  },
  {
   "cell_type": "markdown",
   "metadata": {
    "datalore": {
     "hide_input_from_viewers": false,
     "hide_output_from_viewers": false,
     "type": "MD"
    }
   },
   "source": [
    "### 12.4. Para AD1 (VentaCobradaDivisionSub)"
   ]
  },
  {
   "cell_type": "code",
   "execution_count": null,
   "metadata": {
    "datalore": {
     "hide_input_from_viewers": false,
     "hide_output_from_viewers": false,
     "type": "CODE"
    }
   },
   "outputs": [],
   "source": [
    "area_calculo_sba_completo_ad1 = area_calculo_sba_completo[area_calculo_sba_completo['TipoEmpleado']=='AD1']\n",
    "\n",
    "#Se halla la informacion de la venta y recaudo real de los representantes de ventas de los AD1\n",
    "venta_recaudo_presupuesto_original_ad1_real = area_calculo_sba_completo_ad1.merge(\n",
    "    df_venta_recaudo_real[['Division', 'GrupoProducto', 'SBA', 'Fecha', 'Venta', 'Recaudo']],\n",
    "    on=['Division', 'GrupoProducto', 'SBA']\n",
    ")\n",
    "\n",
    "#Se halla la informacion de la venta y recaudo presupuesto de los representantes de ventas de los AD1\n",
    "venta_recaudo_presupuesto_original_ad1_presupuesto = area_calculo_sba_completo_ad1.merge(\n",
    "    df_venta_recaudo_presupuesto[['Division', 'GrupoProducto', 'SBA', 'Fecha', 'Venta', 'Recaudo']],\n",
    "    on=['Division', 'GrupoProducto', 'SBA']\n",
    ")\n",
    "\n",
    "venta_recaudo_real_area_calculo_ad1 = venta_recaudo_presupuesto_original_ad1_real.groupby(['AreaCalculo', 'Consecutivo', 'Fecha'], as_index=False).agg({'Recaudo': 'sum'})\n",
    "venta_recaudo_real_area_calculo_ad1['Real'] = venta_recaudo_real_area_calculo_ad1['Recaudo']\n",
    "venta_recaudo_real_area_calculo_ad1.drop(columns=['Recaudo'], inplace=True)\n",
    "\n",
    "venta_recaudo_presupuesto_area_calculo_ad1 = venta_recaudo_presupuesto_original_ad1_presupuesto.groupby(['AreaCalculo', 'Consecutivo', 'Fecha'], as_index=False).agg({'Recaudo': 'sum'})\n",
    "venta_recaudo_presupuesto_area_calculo_ad1['Presupuesto'] = venta_recaudo_presupuesto_area_calculo_ad1['Recaudo']\n",
    "venta_recaudo_presupuesto_area_calculo_ad1.drop(columns=['Recaudo'], inplace=True)\n",
    "\n",
    "cumplimiento_recaudo_por_division_sub_ad1 = pd.merge(\n",
    "    left=venta_recaudo_presupuesto_area_calculo_ad1,\n",
    "    right=venta_recaudo_real_area_calculo_ad1,\n",
    "    on=['AreaCalculo', 'Consecutivo', 'Fecha'],\n",
    "    how='left'\n",
    ")\n",
    "cumplimiento_recaudo_por_division_sub_ad1['Real'].fillna(0.0, inplace=True)\n",
    "cumplimiento_recaudo_por_division_sub_ad1['Real'] = cumplimiento_recaudo_por_division_sub_ad1.groupby(['AreaCalculo', 'Consecutivo'])['Real'].transform(pd.Series.cumsum)\n",
    "cumplimiento_recaudo_por_division_sub_ad1['Presupuesto'] = cumplimiento_recaudo_por_division_sub_ad1.groupby(['AreaCalculo', 'Consecutivo'])['Presupuesto'].transform(pd.Series.cumsum)\n",
    "cumplimiento_recaudo_por_division_sub_ad1['PorcentajeCumplimiento'] = cumplimiento_recaudo_por_division_sub_ad1['Real'] / cumplimiento_recaudo_por_division_sub_ad1['Presupuesto']\n",
    "cumplimiento_recaudo_por_division_sub_ad1['PorcentajeCumplimiento'] = cumplimiento_recaudo_por_division_sub_ad1['PorcentajeCumplimiento'].apply(lambda x: round(x, 2))\n",
    "cumplimiento_recaudo_por_division_sub_ad1['Variable'] = 'VentaCobradaDivisionSub'\n",
    "\n",
    "### Cálculo de resultados cualitativos precargados\n",
    "cumplimiento_recaudo_por_division_sub_ad1 = dataframe_loader.sobreescribir_resultados_cualitativos(\n",
    "    main=cumplimiento_recaudo_por_division_sub_ad1,\n",
    "    variable='VentaCobradaDivisionSub',\n",
    "    columnas_extra=['TipoEmpleado', 'AreaCalculo', 'Consecutivo'], \n",
    "    columnas_extra_merge=['AreaCalculo', 'Consecutivo'],\n",
    "    pre_merge_lambda=lambda x: x[x['TipoEmpleado'] == 'AD1'].drop(columns=['TipoEmpleado'])\n",
    ")\n",
    "###\n",
    "\n",
    "cumplimiento_recaudo_por_division_sub_ad1['Contexto'] = 'ad1_' + cumplimiento_recaudo_por_division_sub_ad1['AreaCalculo'].astype('str').str.cat(cumplimiento_recaudo_por_division_sub_ad1['Consecutivo'].astype('str'), sep=\"_\")\n",
    "cumplimiento_recaudo_por_division_sub_ad1 = cumplimiento_recaudo_por_division_sub_ad1[['Contexto', 'Variable', 'Fecha', 'Real', 'Presupuesto', 'PorcentajeCumplimiento']]\n",
    "cumplimiento_recaudo_por_division_sub_ad1.head()"
   ]
  },
  {
   "cell_type": "code",
   "execution_count": null,
   "metadata": {
    "datalore": {
     "hide_input_from_viewers": false,
     "hide_output_from_viewers": false,
     "type": "CODE"
    }
   },
   "outputs": [],
   "source": [
    "cumplimiento_recaudo_otras_companias_ad1 = pd.merge(\n",
    "    left=area_calculo_sba_completo_ad1,\n",
    "    right=df_recaudo_otras_companias.rename(columns={'Compania': 'Division'}),\n",
    "    on=['Division']\n",
    ")\n",
    "cumplimiento_recaudo_otras_companias_ad1['PorcentajeCumplimiento'] = cumplimiento_recaudo_otras_companias_ad1['Real']/cumplimiento_recaudo_otras_companias_ad1['Presupuesto']\n",
    "cumplimiento_recaudo_otras_companias_ad1['PorcentajeCumplimiento'] = cumplimiento_recaudo_otras_companias_ad1['PorcentajeCumplimiento'].apply(lambda x: round(x, 2))\n",
    "cumplimiento_recaudo_otras_companias_ad1['Contexto'] = 'ad1_' + cumplimiento_recaudo_otras_companias_ad1['AreaCalculo'].astype('str').str.cat(cumplimiento_recaudo_otras_companias_ad1['Consecutivo'].astype('str'), sep=\"_\")\n",
    "cumplimiento_recaudo_otras_companias_ad1['Variable'] = 'VentaCobradaDivisionSub'\n",
    "cumplimiento_recaudo_otras_companias_ad1 = cumplimiento_recaudo_otras_companias_ad1[['Contexto', 'Variable', 'Fecha', 'Real', 'Presupuesto', 'PorcentajeCumplimiento']]\n",
    "\n",
    "cumplimiento_recaudo_otras_companias_ad1"
   ]
  },
  {
   "cell_type": "markdown",
   "metadata": {
    "datalore": {
     "hide_input_from_viewers": false,
     "hide_output_from_viewers": false,
     "type": "MD"
    }
   },
   "source": [
    "### 12.5. Para AD3 (VentaCobradaDivisionSub)"
   ]
  },
  {
   "cell_type": "code",
   "execution_count": null,
   "metadata": {
    "datalore": {
     "hide_input_from_viewers": false,
     "hide_output_from_viewers": false,
     "type": "CODE"
    }
   },
   "outputs": [],
   "source": [
    "area_calculo_sba_completo_ad3 = area_calculo_sba_completo[area_calculo_sba_completo['TipoEmpleado']=='AD3']\n",
    "\n",
    "#Se halla la informacion de la venta y recaudo real de los representantes de ventas de los AD3\n",
    "venta_recaudo_presupuesto_original_ad3_real = area_calculo_sba_completo_ad3.merge(\n",
    "    df_venta_recaudo_real[['Division', 'GrupoProducto', 'SBA', 'Fecha', 'Venta', 'Recaudo']],\n",
    "    on=['Division', 'GrupoProducto', 'SBA']\n",
    ")\n",
    "\n",
    "#Se halla la informacion de la venta y recaudo presupuesto de los representantes de ventas de los AD3\n",
    "venta_recaudo_presupuesto_original_ad3_presupuesto = area_calculo_sba_completo_ad3.merge(\n",
    "    df_venta_recaudo_presupuesto[['Division', 'GrupoProducto', 'SBA', 'Fecha', 'Venta', 'Recaudo']],\n",
    "    on=['Division', 'GrupoProducto', 'SBA']\n",
    ")\n",
    "\n",
    "venta_recaudo_real_area_calculo_ad3 = venta_recaudo_presupuesto_original_ad3_real.groupby(['AreaCalculo', 'Consecutivo', 'Fecha'], as_index=False).agg({'Recaudo': 'sum'})\n",
    "venta_recaudo_real_area_calculo_ad3['Real'] = venta_recaudo_real_area_calculo_ad3['Recaudo']\n",
    "venta_recaudo_real_area_calculo_ad3.drop(columns=['Recaudo'], inplace=True)\n",
    "\n",
    "venta_recaudo_presupuesto_area_calculo_ad3 = venta_recaudo_presupuesto_original_ad3_presupuesto.groupby(['AreaCalculo', 'Consecutivo', 'Fecha'], as_index=False).agg({'Recaudo': 'sum'})\n",
    "venta_recaudo_presupuesto_area_calculo_ad3['Presupuesto'] = venta_recaudo_presupuesto_area_calculo_ad3['Recaudo']\n",
    "venta_recaudo_presupuesto_area_calculo_ad3.drop(columns=['Recaudo'], inplace=True)\n",
    "\n",
    "cumplimiento_recaudo_por_division_sub_ad3 = pd.merge(\n",
    "    left=venta_recaudo_presupuesto_area_calculo_ad3,\n",
    "    right=venta_recaudo_real_area_calculo_ad3,\n",
    "    on=['AreaCalculo', 'Consecutivo', 'Fecha'],\n",
    "    how='left'\n",
    ")\n",
    "cumplimiento_recaudo_por_division_sub_ad3['Real'].fillna(0.0, inplace=True)\n",
    "cumplimiento_recaudo_por_division_sub_ad3['Real'] = cumplimiento_recaudo_por_division_sub_ad3.groupby(['AreaCalculo', 'Consecutivo'])['Real'].transform(pd.Series.cumsum)\n",
    "cumplimiento_recaudo_por_division_sub_ad3['Presupuesto'] = cumplimiento_recaudo_por_division_sub_ad3.groupby(['AreaCalculo', 'Consecutivo'])['Presupuesto'].transform(pd.Series.cumsum)\n",
    "cumplimiento_recaudo_por_division_sub_ad3['PorcentajeCumplimiento'] = cumplimiento_recaudo_por_division_sub_ad3['Real'] / cumplimiento_recaudo_por_division_sub_ad3['Presupuesto']\n",
    "cumplimiento_recaudo_por_division_sub_ad3['PorcentajeCumplimiento'] = cumplimiento_recaudo_por_division_sub_ad3['PorcentajeCumplimiento'].apply(lambda x: round(x, 2))\n",
    "cumplimiento_recaudo_por_division_sub_ad3['Variable'] = 'VentaCobradaDivisionSub'\n",
    "\n",
    "### Cálculo de resultados cualitativos precargados\n",
    "cumplimiento_recaudo_por_division_sub_ad3 = dataframe_loader.sobreescribir_resultados_cualitativos(\n",
    "    main=cumplimiento_recaudo_por_division_sub_ad3,\n",
    "    variable='VentaCobradaDivisionSub',\n",
    "    columnas_extra=['TipoEmpleado', 'AreaCalculo', 'Consecutivo'], \n",
    "    columnas_extra_merge=['AreaCalculo', 'Consecutivo'],\n",
    "    pre_merge_lambda=lambda x: x[x['TipoEmpleado'] == 'AD3'].drop(columns=['TipoEmpleado'])\n",
    ")\n",
    "###\n",
    "\n",
    "cumplimiento_recaudo_por_division_sub_ad3['Contexto'] = 'ad3_' + cumplimiento_recaudo_por_division_sub_ad3['AreaCalculo'].astype('str').str.cat(cumplimiento_recaudo_por_division_sub_ad3['Consecutivo'].astype('str'), sep=\"_\")\n",
    "cumplimiento_recaudo_por_division_sub_ad3 = cumplimiento_recaudo_por_division_sub_ad3[['Contexto', 'Variable', 'Fecha', 'Real', 'Presupuesto', 'PorcentajeCumplimiento']]\n",
    "cumplimiento_recaudo_por_division_sub_ad3.head()"
   ]
  },
  {
   "cell_type": "code",
   "execution_count": null,
   "metadata": {
    "datalore": {
     "hide_input_from_viewers": false,
     "hide_output_from_viewers": false,
     "type": "CODE"
    }
   },
   "outputs": [],
   "source": [
    "cumplimiento_recaudo_otras_companias_ad3 = pd.merge(\n",
    "    left=area_calculo_sba_completo_ad3,\n",
    "    right=df_recaudo_otras_companias.rename(columns={'Compania': 'Division'}),\n",
    "    on=['Division']\n",
    ")\n",
    "cumplimiento_recaudo_otras_companias_ad3['PorcentajeCumplimiento'] = cumplimiento_recaudo_otras_companias_ad3['Real']/cumplimiento_recaudo_otras_companias_ad3['Presupuesto']\n",
    "cumplimiento_recaudo_otras_companias_ad3['PorcentajeCumplimiento'] = cumplimiento_recaudo_otras_companias_ad3['PorcentajeCumplimiento'].apply(lambda x: round(x, 2))\n",
    "cumplimiento_recaudo_otras_companias_ad3['Contexto'] = 'ad3_' + cumplimiento_recaudo_otras_companias_ad3['AreaCalculo'].astype('str').str.cat(cumplimiento_recaudo_otras_companias_ad3['Consecutivo'].astype('str'), sep=\"_\")\n",
    "cumplimiento_recaudo_otras_companias_ad3['Variable'] = 'VentaCobradaDivisionSub'\n",
    "cumplimiento_recaudo_otras_companias_ad3 = cumplimiento_recaudo_otras_companias_ad3[['Contexto', 'Variable', 'Fecha', 'Real', 'Presupuesto', 'PorcentajeCumplimiento']]\n",
    "\n",
    "cumplimiento_recaudo_otras_companias_ad3"
   ]
  },
  {
   "cell_type": "markdown",
   "metadata": {
    "datalore": {
     "hide_input_from_viewers": false,
     "hide_output_from_viewers": false,
     "type": "MD"
    }
   },
   "source": [
    "### 12.6. Para AD4 (VentaCobradaDivisionSub)"
   ]
  },
  {
   "cell_type": "code",
   "execution_count": null,
   "metadata": {
    "datalore": {
     "hide_input_from_viewers": false,
     "hide_output_from_viewers": false,
     "type": "CODE"
    }
   },
   "outputs": [],
   "source": [
    "area_calculo_sba_completo_ad4 = area_calculo_sba_completo[area_calculo_sba_completo['TipoEmpleado']=='AD4']\n",
    "\n",
    "#Se halla la informacion de la venta y recaudo real de los representantes de ventas de los AD4\n",
    "venta_recaudo_presupuesto_original_ad4_real = area_calculo_sba_completo_ad4.merge(\n",
    "    df_venta_recaudo_real[['Division', 'GrupoProducto', 'SBA', 'Fecha', 'Venta', 'Recaudo']],\n",
    "    on=['Division', 'GrupoProducto', 'SBA']\n",
    ")\n",
    "\n",
    "#Se halla la informacion de la venta y recaudo presupuesto de los representantes de ventas de los AD4\n",
    "venta_recaudo_presupuesto_original_ad4_presupuesto = area_calculo_sba_completo_ad4.merge(\n",
    "    df_venta_recaudo_presupuesto[['Division', 'GrupoProducto', 'SBA', 'Fecha', 'Venta', 'Recaudo']],\n",
    "    on=['Division', 'GrupoProducto', 'SBA']\n",
    ")\n",
    "\n",
    "venta_recaudo_real_area_calculo_ad4 = venta_recaudo_presupuesto_original_ad4_real.groupby(['AreaCalculo', 'Consecutivo', 'Fecha'], as_index=False).agg({'Recaudo': 'sum'})\n",
    "venta_recaudo_real_area_calculo_ad4['Real'] = venta_recaudo_real_area_calculo_ad4['Recaudo']\n",
    "venta_recaudo_real_area_calculo_ad4.drop(columns=['Recaudo'], inplace=True)\n",
    "\n",
    "venta_recaudo_presupuesto_area_calculo_ad4 = venta_recaudo_presupuesto_original_ad4_presupuesto.groupby(['AreaCalculo', 'Consecutivo', 'Fecha'], as_index=False).agg({'Recaudo': 'sum'})\n",
    "venta_recaudo_presupuesto_area_calculo_ad4['Presupuesto'] = venta_recaudo_presupuesto_area_calculo_ad4['Recaudo']\n",
    "venta_recaudo_presupuesto_area_calculo_ad4.drop(columns=['Recaudo'], inplace=True)\n",
    "\n",
    "cumplimiento_recaudo_por_division_sub_ad4 = pd.merge(\n",
    "    left=venta_recaudo_presupuesto_area_calculo_ad4,\n",
    "    right=venta_recaudo_real_area_calculo_ad4,\n",
    "    on=['AreaCalculo', 'Consecutivo', 'Fecha'],\n",
    "    how='left'\n",
    ")\n",
    "cumplimiento_recaudo_por_division_sub_ad4['Real'].fillna(0.0, inplace=True)\n",
    "cumplimiento_recaudo_por_division_sub_ad4['Real'] = cumplimiento_recaudo_por_division_sub_ad4.groupby(['AreaCalculo', 'Consecutivo'])['Real'].transform(pd.Series.cumsum)\n",
    "cumplimiento_recaudo_por_division_sub_ad4['Presupuesto'] = cumplimiento_recaudo_por_division_sub_ad4.groupby(['AreaCalculo', 'Consecutivo'])['Presupuesto'].transform(pd.Series.cumsum)\n",
    "cumplimiento_recaudo_por_division_sub_ad4['PorcentajeCumplimiento'] = cumplimiento_recaudo_por_division_sub_ad4['Real'] / cumplimiento_recaudo_por_division_sub_ad4['Presupuesto']\n",
    "cumplimiento_recaudo_por_division_sub_ad4['PorcentajeCumplimiento'] = cumplimiento_recaudo_por_division_sub_ad4['PorcentajeCumplimiento'].apply(lambda x: round(x, 2))\n",
    "cumplimiento_recaudo_por_division_sub_ad4['Variable'] = 'VentaCobradaDivisionSub'\n",
    "\n",
    "### Cálculo de resultados cualitativos precargados\n",
    "cumplimiento_recaudo_por_division_sub_ad4 = dataframe_loader.sobreescribir_resultados_cualitativos(\n",
    "    main=cumplimiento_recaudo_por_division_sub_ad4,\n",
    "    variable='VentaCobradaDivisionSub',\n",
    "    columnas_extra=['TipoEmpleado', 'AreaCalculo', 'Consecutivo'], \n",
    "    columnas_extra_merge=['AreaCalculo', 'Consecutivo'],\n",
    "    pre_merge_lambda=lambda x: x[x['TipoEmpleado'] == 'AD4'].drop(columns=['TipoEmpleado'])\n",
    ")\n",
    "###\n",
    "\n",
    "cumplimiento_recaudo_por_division_sub_ad4['Contexto'] = 'ad4_' + cumplimiento_recaudo_por_division_sub_ad4['AreaCalculo'].astype('str').str.cat(cumplimiento_recaudo_por_division_sub_ad4['Consecutivo'].astype('str'), sep=\"_\")\n",
    "cumplimiento_recaudo_por_division_sub_ad4 = cumplimiento_recaudo_por_division_sub_ad4[['Contexto', 'Variable', 'Fecha', 'Real', 'Presupuesto', 'PorcentajeCumplimiento']]\n",
    "cumplimiento_recaudo_por_division_sub_ad4.head()"
   ]
  },
  {
   "cell_type": "code",
   "execution_count": null,
   "metadata": {
    "datalore": {
     "hide_input_from_viewers": false,
     "hide_output_from_viewers": false,
     "type": "CODE"
    }
   },
   "outputs": [],
   "source": [
    "cumplimiento_recaudo_otras_companias_ad4 = pd.merge(\n",
    "    left=area_calculo_sba_completo_ad4,\n",
    "    right=df_recaudo_otras_companias.rename(columns={'Compania': 'Division'}),\n",
    "    on=['Division']\n",
    ")\n",
    "cumplimiento_recaudo_otras_companias_ad4['PorcentajeCumplimiento'] = cumplimiento_recaudo_otras_companias_ad4['Real']/cumplimiento_recaudo_otras_companias_ad4['Presupuesto']\n",
    "cumplimiento_recaudo_otras_companias_ad4['PorcentajeCumplimiento'] = cumplimiento_recaudo_otras_companias_ad4['PorcentajeCumplimiento'].apply(lambda x: round(x, 2))\n",
    "cumplimiento_recaudo_otras_companias_ad4['Contexto'] = 'ad4_' + cumplimiento_recaudo_otras_companias_ad4['AreaCalculo'].astype('str').str.cat(cumplimiento_recaudo_otras_companias_ad4['Consecutivo'].astype('str'), sep=\"_\")\n",
    "cumplimiento_recaudo_otras_companias_ad4['Variable'] = 'VentaCobradaDivisionSub'\n",
    "cumplimiento_recaudo_otras_companias_ad4 = cumplimiento_recaudo_otras_companias_ad4[['Contexto', 'Variable', 'Fecha', 'Real', 'Presupuesto', 'PorcentajeCumplimiento']]\n",
    "\n",
    "cumplimiento_recaudo_otras_companias_ad4"
   ]
  },
  {
   "cell_type": "markdown",
   "metadata": {
    "datalore": {
     "hide_input_from_viewers": false,
     "hide_output_from_viewers": false,
     "type": "MD"
    }
   },
   "source": [
    "### 12.7. Para AD5 (VentaCobradaDivisionSub)"
   ]
  },
  {
   "cell_type": "code",
   "execution_count": null,
   "metadata": {
    "datalore": {
     "hide_input_from_viewers": false,
     "hide_output_from_viewers": false,
     "type": "CODE"
    }
   },
   "outputs": [],
   "source": [
    "area_calculo_sba_completo_ad5 = area_calculo_sba_completo[area_calculo_sba_completo['TipoEmpleado']=='AD5']\n",
    "\n",
    "#Se halla la informacion de la venta y recaudo real de los representantes de ventas de los AD5\n",
    "venta_recaudo_presupuesto_original_ad5_real = area_calculo_sba_completo_ad5.merge(\n",
    "    df_venta_recaudo_real[['Division', 'GrupoProducto', 'SBA', 'Fecha', 'Venta', 'Recaudo']],\n",
    "    on=['Division', 'GrupoProducto', 'SBA']\n",
    ")\n",
    "\n",
    "#Se halla la informacion de la venta y recaudo presupuesto de los representantes de ventas de los AD5\n",
    "venta_recaudo_presupuesto_original_ad5_presupuesto = area_calculo_sba_completo_ad5.merge(\n",
    "    df_venta_recaudo_presupuesto[['Division', 'GrupoProducto', 'SBA', 'Fecha', 'Venta', 'Recaudo']],\n",
    "    on=['Division', 'GrupoProducto', 'SBA']\n",
    ")\n",
    "\n",
    "venta_recaudo_real_area_calculo_ad5 = venta_recaudo_presupuesto_original_ad5_real.groupby(['AreaCalculo', 'Consecutivo', 'Fecha'], as_index=False).agg({'Recaudo': 'sum'})\n",
    "venta_recaudo_real_area_calculo_ad5['Real'] = venta_recaudo_real_area_calculo_ad5['Recaudo']\n",
    "venta_recaudo_real_area_calculo_ad5.drop(columns=['Recaudo'], inplace=True)\n",
    "\n",
    "venta_recaudo_presupuesto_area_calculo_ad5 = venta_recaudo_presupuesto_original_ad5_presupuesto.groupby(['AreaCalculo', 'Consecutivo', 'Fecha'], as_index=False).agg({'Recaudo': 'sum'})\n",
    "venta_recaudo_presupuesto_area_calculo_ad5['Presupuesto'] = venta_recaudo_presupuesto_area_calculo_ad5['Recaudo']\n",
    "venta_recaudo_presupuesto_area_calculo_ad5.drop(columns=['Recaudo'], inplace=True)\n",
    "\n",
    "cumplimiento_recaudo_por_division_sub_ad5 = pd.merge(\n",
    "    left=venta_recaudo_presupuesto_area_calculo_ad5,\n",
    "    right=venta_recaudo_real_area_calculo_ad5,\n",
    "    on=['AreaCalculo', 'Consecutivo', 'Fecha'],\n",
    "    how='left'\n",
    ")\n",
    "cumplimiento_recaudo_por_division_sub_ad5['Real'].fillna(0.0, inplace=True)\n",
    "cumplimiento_recaudo_por_division_sub_ad5['Real'] = cumplimiento_recaudo_por_division_sub_ad5.groupby(['AreaCalculo', 'Consecutivo'])['Real'].transform(pd.Series.cumsum)\n",
    "cumplimiento_recaudo_por_division_sub_ad5['Presupuesto'] = cumplimiento_recaudo_por_division_sub_ad5.groupby(['AreaCalculo', 'Consecutivo'])['Presupuesto'].transform(pd.Series.cumsum)\n",
    "cumplimiento_recaudo_por_division_sub_ad5['PorcentajeCumplimiento'] = cumplimiento_recaudo_por_division_sub_ad5['Real'] / cumplimiento_recaudo_por_division_sub_ad5['Presupuesto']\n",
    "cumplimiento_recaudo_por_division_sub_ad5['PorcentajeCumplimiento'] = cumplimiento_recaudo_por_division_sub_ad5['PorcentajeCumplimiento'].apply(lambda x: round(x, 2))\n",
    "cumplimiento_recaudo_por_division_sub_ad5['Variable'] = 'VentaCobradaDivisionSub'\n",
    "\n",
    "### Cálculo de resultados cualitativos precargados\n",
    "cumplimiento_recaudo_por_division_sub_ad5 = dataframe_loader.sobreescribir_resultados_cualitativos(\n",
    "    main=cumplimiento_recaudo_por_division_sub_ad5,\n",
    "    variable='VentaCobradaDivisionSub',\n",
    "    columnas_extra=['TipoEmpleado', 'AreaCalculo', 'Consecutivo'], \n",
    "    columnas_extra_merge=['AreaCalculo', 'Consecutivo'],\n",
    "    pre_merge_lambda=lambda x: x[x['TipoEmpleado'] == 'AD5'].drop(columns=['TipoEmpleado'])\n",
    ")\n",
    "###\n",
    "\n",
    "cumplimiento_recaudo_por_division_sub_ad5['Contexto'] = 'ad5_' + cumplimiento_recaudo_por_division_sub_ad5['AreaCalculo'].astype('str').str.cat(cumplimiento_recaudo_por_division_sub_ad5['Consecutivo'].astype('str'), sep=\"_\")\n",
    "cumplimiento_recaudo_por_division_sub_ad5 = cumplimiento_recaudo_por_division_sub_ad5[['Contexto', 'Variable', 'Fecha', 'Real', 'Presupuesto', 'PorcentajeCumplimiento']]\n",
    "cumplimiento_recaudo_por_division_sub_ad5.head()"
   ]
  },
  {
   "cell_type": "code",
   "execution_count": null,
   "metadata": {
    "datalore": {
     "hide_input_from_viewers": false,
     "hide_output_from_viewers": false,
     "type": "CODE"
    }
   },
   "outputs": [],
   "source": [
    "cumplimiento_recaudo_otras_companias_ad5 = pd.merge(\n",
    "    left=area_calculo_sba_completo_ad5,\n",
    "    right=df_recaudo_otras_companias.rename(columns={'Compania': 'Division'}),\n",
    "    on=['Division']\n",
    ")\n",
    "cumplimiento_recaudo_otras_companias_ad5['PorcentajeCumplimiento'] = cumplimiento_recaudo_otras_companias_ad5['Real']/cumplimiento_recaudo_otras_companias_ad5['Presupuesto']\n",
    "cumplimiento_recaudo_otras_companias_ad5['PorcentajeCumplimiento'] = cumplimiento_recaudo_otras_companias_ad5['PorcentajeCumplimiento'].apply(lambda x: round(x, 2))\n",
    "cumplimiento_recaudo_otras_companias_ad5['Contexto'] = 'ad5_' + cumplimiento_recaudo_otras_companias_ad5['AreaCalculo'].astype('str').str.cat(cumplimiento_recaudo_otras_companias_ad5['Consecutivo'].astype('str'), sep=\"_\")\n",
    "cumplimiento_recaudo_otras_companias_ad5['Variable'] = 'VentaCobradaDivisionSub'\n",
    "cumplimiento_recaudo_otras_companias_ad5 = cumplimiento_recaudo_otras_companias_ad5[['Contexto', 'Variable', 'Fecha', 'Real', 'Presupuesto', 'PorcentajeCumplimiento']]\n",
    "\n",
    "cumplimiento_recaudo_otras_companias_ad5"
   ]
  },
  {
   "cell_type": "markdown",
   "metadata": {
    "datalore": {
     "hide_input_from_viewers": false,
     "hide_output_from_viewers": false,
     "type": "MD"
    }
   },
   "source": [
    "## 13. Objetivos de rentabilidad CM5 a nivel país (RentabilidadBbraunPaisAntesDeImpuestos)"
   ]
  },
  {
   "cell_type": "code",
   "execution_count": null,
   "metadata": {
    "datalore": {
     "hide_input_from_viewers": false,
     "hide_output_from_viewers": false,
     "type": "CODE"
    }
   },
   "outputs": [],
   "source": [
    "cumplimiento_rentabilidad_cm5_nivel_pais = df_rentabilidad[(df_rentabilidad['Compania']=='BBMCO')&(df_rentabilidad['ClaseRentabilidad']=='CMV')]\n",
    "\n",
    "cumplimiento_rentabilidad_cm5_nivel_pais = cumplimiento_rentabilidad_cm5_nivel_pais.groupby(\n",
    "    ['Fecha'],\n",
    "    as_index=False\n",
    ").agg({'Real': 'sum', 'Presupuesto': 'sum'})\n",
    "\n",
    "# cumplimiento_rentabilidad_cm5_nivel_pais['Presupuesto'] = cumplimiento_rentabilidad_cm5_nivel_pais['Presupuesto'].transform(pd.Series.cumsum)\n",
    "# cumplimiento_rentabilidad_cm5_nivel_pais['Real'] = cumplimiento_rentabilidad_cm5_nivel_pais['Real'].transform(pd.Series.cumsum)\n",
    "\n",
    "cumplimiento_rentabilidad_cm5_nivel_pais['PorcentajeCumplimiento'] = cumplimiento_rentabilidad_cm5_nivel_pais['Real'] / cumplimiento_rentabilidad_cm5_nivel_pais['Presupuesto']\n",
    "cumplimiento_rentabilidad_cm5_nivel_pais['PorcentajeCumplimiento'] = cumplimiento_rentabilidad_cm5_nivel_pais['PorcentajeCumplimiento'].apply(lambda x: round(x, 2))\n",
    "cumplimiento_rentabilidad_cm5_nivel_pais['Contexto'] = 'CM5'\n",
    "cumplimiento_rentabilidad_cm5_nivel_pais['Variable'] = 'RentabilidadBbraunPaisAntesDeImpuestos'\n",
    "\n",
    "cumplimiento_rentabilidad_cm5_nivel_pais.head()"
   ]
  },
  {
   "cell_type": "markdown",
   "metadata": {
    "datalore": {
     "hide_input_from_viewers": false,
     "hide_output_from_viewers": false,
     "type": "MD"
    }
   },
   "source": [
    "## 14. Objetivos de rentabilidad CM3 por grupo clientes con consecutivos (RentabilidadDivisionGrupoClientesCM3Sub)"
   ]
  },
  {
   "cell_type": "code",
   "execution_count": null,
   "metadata": {
    "datalore": {
     "hide_input_from_viewers": false,
     "hide_output_from_viewers": false,
     "type": "CODE"
    }
   },
   "outputs": [],
   "source": [
    "rentabilidad_division_cm3_gd = pd.merge(\n",
    "    left=df_rentabilidad[(df_rentabilidad['ClaseRentabilidad']=='CMIII')],\n",
    "    right=area_calculo_sba_completo_gd,\n",
    "    on=['GrupoProducto', 'SBA'],\n",
    "    how='left'\n",
    ")\n",
    "cumplimiento_rentabilidad_cm3_grupo_clientes_sub = rentabilidad_division_cm3_gd.groupby(\n",
    "    ['Division', 'Consecutivo', 'Fecha'],\n",
    "    as_index=False\n",
    ").agg({'Real': 'sum', 'Presupuesto': 'sum'})\n",
    "\n",
    "cumplimiento_rentabilidad_cm3_grupo_clientes_sub['PorcentajeCumplimiento'] = cumplimiento_rentabilidad_cm3_grupo_clientes_sub['Real']/cumplimiento_rentabilidad_cm3_grupo_clientes_sub['Presupuesto']\n",
    "cumplimiento_rentabilidad_cm3_grupo_clientes_sub['PorcentajeCumplimiento'] = cumplimiento_rentabilidad_cm3_grupo_clientes_sub['PorcentajeCumplimiento'].apply(lambda x: round(x, 2))\n",
    "\n",
    "cumplimiento_rentabilidad_cm3_grupo_clientes_sub['Contexto'] = 'gd_' + cumplimiento_rentabilidad_cm3_grupo_clientes_sub['Division'].astype('str').str.cat(cumplimiento_rentabilidad_cm3_grupo_clientes_sub['Consecutivo'].astype('str'), sep=\"_\")\n",
    "cumplimiento_rentabilidad_cm3_grupo_clientes_sub['Variable'] = 'RentabilidadDivisionGrupoClientesCM3Sub'\n",
    "cumplimiento_rentabilidad_cm3_grupo_clientes_sub = cumplimiento_rentabilidad_cm3_grupo_clientes_sub[['Contexto', 'Variable', 'Fecha', 'Real', 'Presupuesto', 'PorcentajeCumplimiento']]\n",
    "\n",
    "cumplimiento_rentabilidad_cm3_grupo_clientes_sub"
   ]
  },
  {
   "cell_type": "markdown",
   "metadata": {
    "datalore": {
     "hide_input_from_viewers": false,
     "hide_output_from_viewers": false,
     "type": "MD"
    }
   },
   "source": [
    "## 15. Objetivos de rentabilidad CM3 por grupo clientes (RentabilidadDivisionGrupoClientesCM3)"
   ]
  },
  {
   "cell_type": "code",
   "execution_count": null,
   "metadata": {
    "datalore": {
     "hide_input_from_viewers": false,
     "hide_output_from_viewers": false,
     "type": "CODE"
    }
   },
   "outputs": [],
   "source": [
    "cumplimiento_rentabilidad_cm3_grupo_clientes = pd.merge(\n",
    "    left=df_rentabilidad[(df_rentabilidad['ClaseRentabilidad']=='CMIII')],\n",
    "    right=area_calculo_sba_completo_gd[['GrupoProducto', 'SBA', 'Division', 'AreaCalculo']].drop_duplicates(['GrupoProducto', 'SBA', 'AreaCalculo', 'Division']),\n",
    "    on=['GrupoProducto', 'SBA'],\n",
    "    how='left'\n",
    ")\n",
    "\n",
    "cumplimiento_rentabilidad_cm3_grupo_clientes = cumplimiento_rentabilidad_cm3_grupo_clientes.groupby(\n",
    "    ['AreaCalculo', 'Division', 'Fecha'],\n",
    "    as_index=False\n",
    ").agg({'Real': 'sum', 'Presupuesto': 'sum'})\n",
    "cumplimiento_rentabilidad_cm3_grupo_clientes['AreaCalculo'] = cumplimiento_rentabilidad_cm3_grupo_clientes['AreaCalculo'].astype(int).astype(str)\n",
    "\n",
    "cumplimiento_rentabilidad_cm3_grupo_clientes['PorcentajeCumplimiento'] = cumplimiento_rentabilidad_cm3_grupo_clientes['Real']/cumplimiento_rentabilidad_cm3_grupo_clientes['Presupuesto']\n",
    "cumplimiento_rentabilidad_cm3_grupo_clientes['PorcentajeCumplimiento'] = cumplimiento_rentabilidad_cm3_grupo_clientes['PorcentajeCumplimiento'].apply(lambda x: round(x, 2))\n",
    "\n",
    "cumplimiento_rentabilidad_cm3_grupo_clientes['Contexto'] = 'gd_' + cumplimiento_rentabilidad_cm3_grupo_clientes['AreaCalculo'] + '_' + cumplimiento_rentabilidad_cm3_grupo_clientes['Division']\n",
    "cumplimiento_rentabilidad_cm3_grupo_clientes['Variable'] = 'RentabilidadDivisionGrupoClientesCM3'\n",
    "cumplimiento_rentabilidad_cm3_grupo_clientes = cumplimiento_rentabilidad_cm3_grupo_clientes[['Contexto', 'Variable', 'Fecha', 'Real', 'Presupuesto', 'PorcentajeCumplimiento']]\n",
    "\n",
    "cumplimiento_rentabilidad_cm3_grupo_clientes"
   ]
  },
  {
   "cell_type": "markdown",
   "metadata": {
    "datalore": {
     "hide_input_from_viewers": false,
     "hide_output_from_viewers": false,
     "type": "MD"
    }
   },
   "source": [
    "## 16. Objetivos de rentabilidad por grupo clientes (RentabilidadGrupoClientesCM2)"
   ]
  },
  {
   "cell_type": "code",
   "execution_count": null,
   "metadata": {},
   "outputs": [],
   "source": [
    "area_calculo_sba_completo"
   ]
  },
  {
   "cell_type": "code",
   "execution_count": null,
   "metadata": {},
   "outputs": [],
   "source": []
  },
  {
   "cell_type": "code",
   "execution_count": null,
   "metadata": {
    "datalore": {
     "hide_input_from_viewers": false,
     "hide_output_from_viewers": false,
     "type": "CODE"
    }
   },
   "outputs": [],
   "source": [
    "area_calculo_sba_completo_kam = area_calculo_sba_completo[area_calculo_sba_completo['TipoEmpleado'] == 'KAM']\n",
    "\n",
    "cumplimiento_rentabilidad_cm2_grupo_clientes = pd.merge(\n",
    "    left=area_calculo_sba_completo_kam[['Division', 'AreaCalculo', 'Consecutivo']].drop_duplicates(),\n",
    "    right=df_rentabilidad_kam,\n",
    "    on='Division',\n",
    "    how='left'\n",
    ")\n",
    "cumplimiento_rentabilidad_cm2_grupo_clientes['Presupuesto'] = cumplimiento_rentabilidad_cm2_grupo_clientes.groupby(['Division', 'AreaCalculo', 'Consecutivo'])['Presupuesto'].transform(pd.Series.cumsum)\n",
    "cumplimiento_rentabilidad_cm2_grupo_clientes['Real'] = cumplimiento_rentabilidad_cm2_grupo_clientes.groupby(['Division', 'AreaCalculo', 'Consecutivo'])['Real'].transform(pd.Series.cumsum)\n",
    "\n",
    "cumplimiento_rentabilidad_cm2_grupo_clientes['PorcentajeCumplimiento'] = cumplimiento_rentabilidad_cm2_grupo_clientes['Real']/cumplimiento_rentabilidad_cm2_grupo_clientes['Presupuesto']\n",
    "cumplimiento_rentabilidad_cm2_grupo_clientes['PorcentajeCumplimiento'] = cumplimiento_rentabilidad_cm2_grupo_clientes['PorcentajeCumplimiento'].apply(lambda x: round(x, 2))\n",
    "\n",
    "cumplimiento_rentabilidad_cm2_grupo_clientes['Contexto'] = 'kam_' + cumplimiento_rentabilidad_cm2_grupo_clientes['AreaCalculo'].astype('str').str.cat(cumplimiento_rentabilidad_cm2_grupo_clientes['Consecutivo'].astype('str'), sep=\"_\")\n",
    "cumplimiento_rentabilidad_cm2_grupo_clientes['Variable'] = 'RentabilidadGrupoClientesCM2'\n",
    "cumplimiento_rentabilidad_cm2_grupo_clientes = cumplimiento_rentabilidad_cm2_grupo_clientes[['Contexto', 'Variable', 'Fecha', 'Real', 'Presupuesto', 'PorcentajeCumplimiento']]\n",
    "\n",
    "cumplimiento_rentabilidad_cm2_grupo_clientes"
   ]
  },
  {
   "cell_type": "markdown",
   "metadata": {
    "datalore": {
     "hide_input_from_viewers": false,
     "hide_output_from_viewers": false,
     "type": "MD"
    }
   },
   "source": [
    "## 17. Objetivos de rentabilidad antes de impuestos CM5 (TotalRentabilidadBraunAntesDeImpuestosCM5)"
   ]
  },
  {
   "cell_type": "code",
   "execution_count": null,
   "metadata": {
    "datalore": {
     "hide_input_from_viewers": false,
     "hide_output_from_viewers": false,
     "type": "CODE"
    }
   },
   "outputs": [],
   "source": [
    "rentabilidad_antes_de_impuestos_cm5 = df_rentabilidad[(df_rentabilidad['ClaseRentabilidad']=='CMV')]\n",
    "rentabilidad_antes_de_impuestos_cm5.rename(columns={'Compania': 'Division'}, inplace=True)\n",
    "rentabilidad_antes_de_impuestos_cm5 = rentabilidad_antes_de_impuestos_cm5.groupby(\n",
    "    ['Division', 'Fecha'],\n",
    "    as_index=False\n",
    ").agg({'Real': 'sum', 'Presupuesto': 'sum'})\n",
    "\n",
    "# rentabilidad_antes_de_impuestos_cm5['Presupuesto'] = rentabilidad_antes_de_impuestos_cm5.groupby(['Division'])['Presupuesto'].transform(pd.Series.cumsum)\n",
    "# rentabilidad_antes_de_impuestos_cm5['Real'] = rentabilidad_antes_de_impuestos_cm5.groupby(['Division'])['Real'].transform(pd.Series.cumsum)\n",
    "rentabilidad_antes_de_impuestos_cm5['PorcentajeCumplimiento'] = rentabilidad_antes_de_impuestos_cm5['Real'] / rentabilidad_antes_de_impuestos_cm5['Presupuesto']\n",
    "rentabilidad_antes_de_impuestos_cm5['PorcentajeCumplimiento'] = rentabilidad_antes_de_impuestos_cm5['PorcentajeCumplimiento'].apply(lambda x: round(x, 2))\n",
    "rentabilidad_antes_de_impuestos_cm5['Variable'] = 'TotalRentabilidadBraunAntesDeImpuestosCM5'\n",
    "\n",
    "rentabilidad_antes_de_impuestos_cm5"
   ]
  },
  {
   "cell_type": "markdown",
   "metadata": {
    "datalore": {
     "hide_input_from_viewers": false,
     "hide_output_from_viewers": false,
     "type": "MD"
    }
   },
   "source": [
    "### 17.1. Para AD (TotalRentabilidadBraunAntesDeImpuestosCM5)"
   ]
  },
  {
   "cell_type": "code",
   "execution_count": null,
   "metadata": {
    "datalore": {
     "hide_input_from_viewers": false,
     "hide_output_from_viewers": false,
     "type": "CODE"
    }
   },
   "outputs": [],
   "source": [
    "cumplimiento_rentabilidad_cm5_ad = pd.merge(\n",
    "    left=area_calculo_sba_completo[area_calculo_sba_completo['TipoEmpleado']=='AD'],\n",
    "    right=rentabilidad_antes_de_impuestos_cm5,\n",
    "    on=['Division'],\n",
    "    how='left'\n",
    ")\n",
    "\n",
    "### Cálculo de resultados cualitativos precargados\n",
    "cumplimiento_rentabilidad_cm5_ad = dataframe_loader.sobreescribir_resultados_cualitativos(\n",
    "    main=cumplimiento_rentabilidad_cm5_ad,\n",
    "    variable='TotalRentabilidadBraunAntesDeImpuestosCM5',\n",
    "    columnas_extra=['TipoEmpleado', 'AreaCalculo', 'Consecutivo'], \n",
    "    columnas_extra_merge=['AreaCalculo', 'Consecutivo'],\n",
    "    pre_merge_lambda=lambda x: x[x['TipoEmpleado'] == 'AD'].drop(columns=['TipoEmpleado'])\n",
    ")\n",
    "###\n",
    "\n",
    "cumplimiento_rentabilidad_cm5_ad['Contexto'] = 'ad_' + cumplimiento_rentabilidad_cm5_ad['AreaCalculo'].astype('str').str.cat(cumplimiento_rentabilidad_cm5_ad['Consecutivo'].astype('str'), sep=\"_\")\n",
    "cumplimiento_rentabilidad_cm5_ad = cumplimiento_rentabilidad_cm5_ad[['Contexto', 'Variable', 'Fecha', 'Real', 'Presupuesto', 'PorcentajeCumplimiento']]\n",
    "cumplimiento_rentabilidad_cm5_ad"
   ]
  },
  {
   "cell_type": "markdown",
   "metadata": {
    "datalore": {
     "hide_input_from_viewers": false,
     "hide_output_from_viewers": false,
     "type": "MD"
    }
   },
   "source": [
    "### 17.2. Para AD1 (TotalRentabilidadBraunAntesDeImpuestosCM5)"
   ]
  },
  {
   "cell_type": "code",
   "execution_count": null,
   "metadata": {
    "datalore": {
     "hide_input_from_viewers": false,
     "hide_output_from_viewers": false,
     "type": "CODE"
    }
   },
   "outputs": [],
   "source": [
    "cumplimiento_rentabilidad_cm5_ad1 = pd.merge(\n",
    "    left=area_calculo_sba_completo[area_calculo_sba_completo['TipoEmpleado']=='AD1'],\n",
    "    right=rentabilidad_antes_de_impuestos_cm5,\n",
    "    on=['Division'],\n",
    "    how='left'\n",
    ")\n",
    "\n",
    "### Cálculo de resultados cualitativos precargados\n",
    "cumplimiento_rentabilidad_cm5_ad1 = dataframe_loader.sobreescribir_resultados_cualitativos(\n",
    "    main=cumplimiento_rentabilidad_cm5_ad1,\n",
    "    variable='TotalRentabilidadBraunAntesDeImpuestosCM5',\n",
    "    columnas_extra=['TipoEmpleado', 'AreaCalculo', 'Consecutivo'], \n",
    "    columnas_extra_merge=['AreaCalculo', 'Consecutivo'],\n",
    "    pre_merge_lambda=lambda x: x[x['TipoEmpleado'] == 'AD1'].drop(columns=['TipoEmpleado'])\n",
    ")\n",
    "###\n",
    "\n",
    "cumplimiento_rentabilidad_cm5_ad1['Contexto'] = 'ad1_' + cumplimiento_rentabilidad_cm5_ad1['AreaCalculo'].astype('str').str.cat(cumplimiento_rentabilidad_cm5_ad1['Consecutivo'].astype('str'), sep=\"_\")\n",
    "cumplimiento_rentabilidad_cm5_ad1 = cumplimiento_rentabilidad_cm5_ad1[['Contexto', 'Variable', 'Fecha', 'Real', 'Presupuesto', 'PorcentajeCumplimiento']]\n",
    "cumplimiento_rentabilidad_cm5_ad1"
   ]
  },
  {
   "cell_type": "markdown",
   "metadata": {
    "datalore": {
     "hide_input_from_viewers": false,
     "hide_output_from_viewers": false,
     "type": "MD"
    }
   },
   "source": [
    "### 17.3. Para AD2 (TotalRentabilidadBraunAntesDeImpuestosCM5)"
   ]
  },
  {
   "cell_type": "code",
   "execution_count": null,
   "metadata": {
    "datalore": {
     "hide_input_from_viewers": false,
     "hide_output_from_viewers": false,
     "type": "CODE"
    }
   },
   "outputs": [],
   "source": [
    "cumplimiento_rentabilidad_cm5_ad2 = pd.merge(\n",
    "    left=area_calculo_sba_completo[area_calculo_sba_completo['TipoEmpleado']=='AD2'],\n",
    "    right=rentabilidad_antes_de_impuestos_cm5,\n",
    "    on=['Division'],\n",
    "    how='left'\n",
    ")\n",
    "\n",
    "### Cálculo de resultados cualitativos precargados\n",
    "cumplimiento_rentabilidad_cm5_ad2 = dataframe_loader.sobreescribir_resultados_cualitativos(\n",
    "    main=cumplimiento_rentabilidad_cm5_ad2,\n",
    "    variable='TotalRentabilidadBraunAntesDeImpuestosCM5',\n",
    "    columnas_extra=['TipoEmpleado', 'AreaCalculo', 'Consecutivo'], \n",
    "    columnas_extra_merge=['AreaCalculo', 'Consecutivo'],\n",
    "    pre_merge_lambda=lambda x: x[x['TipoEmpleado'] == 'AD2'].drop(columns=['TipoEmpleado'])\n",
    ")\n",
    "###\n",
    "\n",
    "cumplimiento_rentabilidad_cm5_ad2['Contexto'] = 'ad2_' + cumplimiento_rentabilidad_cm5_ad2['AreaCalculo'].astype('str').str.cat(cumplimiento_rentabilidad_cm5_ad2['Consecutivo'].astype('str'), sep=\"_\")\n",
    "cumplimiento_rentabilidad_cm5_ad2 = cumplimiento_rentabilidad_cm5_ad2[['Contexto', 'Variable', 'Fecha', 'Real', 'Presupuesto', 'PorcentajeCumplimiento']]\n",
    "cumplimiento_rentabilidad_cm5_ad2"
   ]
  },
  {
   "cell_type": "markdown",
   "metadata": {
    "datalore": {
     "hide_input_from_viewers": false,
     "hide_output_from_viewers": false,
     "type": "MD"
    }
   },
   "source": [
    "### 17.4. Para AD3 (TotalRentabilidadBraunAntesDeImpuestosCM5)"
   ]
  },
  {
   "cell_type": "code",
   "execution_count": null,
   "metadata": {
    "datalore": {
     "hide_input_from_viewers": false,
     "hide_output_from_viewers": false,
     "type": "CODE"
    }
   },
   "outputs": [],
   "source": [
    "cumplimiento_rentabilidad_cm5_ad3 = pd.merge(\n",
    "    left=area_calculo_sba_completo[area_calculo_sba_completo['TipoEmpleado']=='AD3'],\n",
    "    right=rentabilidad_antes_de_impuestos_cm5,\n",
    "    on=['Division'],\n",
    "    how='left'\n",
    ")\n",
    "\n",
    "### Cálculo de resultados cualitativos precargados\n",
    "cumplimiento_rentabilidad_cm5_ad3 = dataframe_loader.sobreescribir_resultados_cualitativos(\n",
    "    main=cumplimiento_rentabilidad_cm5_ad3,\n",
    "    variable='TotalRentabilidadBraunAntesDeImpuestosCM5',\n",
    "    columnas_extra=['TipoEmpleado', 'AreaCalculo', 'Consecutivo'], \n",
    "    columnas_extra_merge=['AreaCalculo', 'Consecutivo'],\n",
    "    pre_merge_lambda=lambda x: x[x['TipoEmpleado'] == 'AD3'].drop(columns=['TipoEmpleado'])\n",
    ")\n",
    "###\n",
    "\n",
    "cumplimiento_rentabilidad_cm5_ad3['Contexto'] = 'ad3_' + cumplimiento_rentabilidad_cm5_ad3['AreaCalculo'].astype('str').str.cat(cumplimiento_rentabilidad_cm5_ad3['Consecutivo'].astype('str'), sep=\"_\")\n",
    "cumplimiento_rentabilidad_cm5_ad3 = cumplimiento_rentabilidad_cm5_ad3[['Contexto', 'Variable', 'Fecha', 'Real', 'Presupuesto', 'PorcentajeCumplimiento']]\n",
    "cumplimiento_rentabilidad_cm5_ad3"
   ]
  },
  {
   "cell_type": "markdown",
   "metadata": {
    "datalore": {
     "hide_input_from_viewers": false,
     "hide_output_from_viewers": false,
     "type": "MD"
    }
   },
   "source": [
    "### 17.5. Para AD4 (TotalRentabilidadBraunAntesDeImpuestosCM5)"
   ]
  },
  {
   "cell_type": "code",
   "execution_count": null,
   "metadata": {
    "datalore": {
     "hide_input_from_viewers": false,
     "hide_output_from_viewers": false,
     "type": "CODE"
    }
   },
   "outputs": [],
   "source": [
    "cumplimiento_rentabilidad_cm5_ad4 = pd.merge(\n",
    "    left=area_calculo_sba_completo[area_calculo_sba_completo['TipoEmpleado']=='AD4'],\n",
    "    right=rentabilidad_antes_de_impuestos_cm5,\n",
    "    on=['Division'],\n",
    "    how='left'\n",
    ")\n",
    "\n",
    "### Cálculo de resultados cualitativos precargados\n",
    "cumplimiento_rentabilidad_cm5_ad4 = dataframe_loader.sobreescribir_resultados_cualitativos(\n",
    "    main=cumplimiento_rentabilidad_cm5_ad4,\n",
    "    variable='TotalRentabilidadBraunAntesDeImpuestosCM5',\n",
    "    columnas_extra=['TipoEmpleado', 'AreaCalculo', 'Consecutivo'], \n",
    "    columnas_extra_merge=['AreaCalculo', 'Consecutivo'],\n",
    "    pre_merge_lambda=lambda x: x[x['TipoEmpleado'] == 'AD4'].drop(columns=['TipoEmpleado'])\n",
    ")\n",
    "###\n",
    "\n",
    "cumplimiento_rentabilidad_cm5_ad4['Contexto'] = 'ad4_' + cumplimiento_rentabilidad_cm5_ad4['AreaCalculo'].astype('str').str.cat(cumplimiento_rentabilidad_cm5_ad4['Consecutivo'].astype('str'), sep=\"_\")\n",
    "cumplimiento_rentabilidad_cm5_ad4 = cumplimiento_rentabilidad_cm5_ad4[['Contexto', 'Variable', 'Fecha', 'Real', 'Presupuesto', 'PorcentajeCumplimiento']]\n",
    "cumplimiento_rentabilidad_cm5_ad4"
   ]
  },
  {
   "cell_type": "markdown",
   "metadata": {
    "datalore": {
     "hide_input_from_viewers": false,
     "hide_output_from_viewers": false,
     "type": "MD"
    }
   },
   "source": [
    "### 17.6. Para AD5 (TotalRentabilidadBraunAntesDeImpuestosCM5)"
   ]
  },
  {
   "cell_type": "code",
   "execution_count": null,
   "metadata": {
    "datalore": {
     "hide_input_from_viewers": false,
     "hide_output_from_viewers": false,
     "type": "CODE"
    }
   },
   "outputs": [],
   "source": [
    "cumplimiento_rentabilidad_cm5_ad5 = pd.merge(\n",
    "    left=area_calculo_sba_completo[area_calculo_sba_completo['TipoEmpleado']=='AD5'],\n",
    "    right=rentabilidad_antes_de_impuestos_cm5,\n",
    "    on=['Division'],\n",
    "    how='left'\n",
    ")\n",
    "\n",
    "### Cálculo de resultados cualitativos precargados\n",
    "cumplimiento_rentabilidad_cm5_ad5 = dataframe_loader.sobreescribir_resultados_cualitativos(\n",
    "    main=cumplimiento_rentabilidad_cm5_ad5,\n",
    "    variable='TotalRentabilidadBraunAntesDeImpuestosCM5',\n",
    "    columnas_extra=['TipoEmpleado', 'AreaCalculo', 'Consecutivo'], \n",
    "    columnas_extra_merge=['AreaCalculo', 'Consecutivo'],\n",
    "    pre_merge_lambda=lambda x: x[x['TipoEmpleado'] == 'AD5'].drop(columns=['TipoEmpleado'])\n",
    ")\n",
    "###\n",
    "\n",
    "cumplimiento_rentabilidad_cm5_ad5['Contexto'] = 'ad5_' + cumplimiento_rentabilidad_cm5_ad5['AreaCalculo'].astype('str').str.cat(cumplimiento_rentabilidad_cm5_ad5['Consecutivo'].astype('str'), sep=\"_\")\n",
    "cumplimiento_rentabilidad_cm5_ad5 = cumplimiento_rentabilidad_cm5_ad5[['Contexto', 'Variable', 'Fecha', 'Real', 'Presupuesto', 'PorcentajeCumplimiento']]\n",
    "cumplimiento_rentabilidad_cm5_ad5"
   ]
  },
  {
   "cell_type": "markdown",
   "metadata": {
    "datalore": {
     "hide_input_from_viewers": false,
     "hide_output_from_viewers": false,
     "type": "MD"
    }
   },
   "source": [
    "## 18. Objetivos de venta facturada previo notas crédito TP (VentaFacturadaPrevioNotasCreditoTP)"
   ]
  },
  {
   "cell_type": "code",
   "execution_count": null,
   "metadata": {
    "datalore": {
     "hide_input_from_viewers": false,
     "hide_output_from_viewers": false,
     "type": "CODE"
    }
   },
   "outputs": [],
   "source": [
    "cumplimiento_venta_previo_notas_credito_tp = pd.merge(\n",
    "    left=area_calculo_sba_completo[area_calculo_sba_completo['TipoEmpleado']=='AD2'],\n",
    "    right=df_venta_otras_companias.rename(columns={'Compania': 'Division'}),\n",
    "    on=['Division'],\n",
    "    how='left'\n",
    ")\n",
    "\n",
    "# cumplimiento_venta_previo_notas_credito_tp['Presupuesto'] = cumplimiento_venta_previo_notas_credito_tp.groupby(['Division', 'AreaCalculo', 'Consecutivo'])['Presupuesto'].transform(pd.Series.cumsum)\n",
    "# cumplimiento_venta_previo_notas_credito_tp['Real'] = cumplimiento_venta_previo_notas_credito_tp.groupby(['Division', 'AreaCalculo', 'Consecutivo'])['Real'].transform(pd.Series.cumsum)\n",
    "\n",
    "cumplimiento_venta_previo_notas_credito_tp['PorcentajeCumplimiento'] = cumplimiento_venta_previo_notas_credito_tp['Real'] / cumplimiento_venta_previo_notas_credito_tp['Presupuesto']\n",
    "cumplimiento_venta_previo_notas_credito_tp['PorcentajeCumplimiento'] = cumplimiento_venta_previo_notas_credito_tp['PorcentajeCumplimiento'].apply(lambda x: round(x, 2))\n",
    "\n",
    "cumplimiento_venta_previo_notas_credito_tp['Variable'] = 'VentaFacturadaPrevioNotasCreditoTP'\n",
    "cumplimiento_venta_previo_notas_credito_tp['Contexto'] = 'ad2_' + cumplimiento_venta_previo_notas_credito_tp['AreaCalculo'].astype('str').str.cat(cumplimiento_venta_previo_notas_credito_tp['Consecutivo'].astype('str'), sep=\"_\")\n",
    "cumplimiento_venta_previo_notas_credito_tp = cumplimiento_venta_previo_notas_credito_tp[['Contexto', 'Variable', 'Fecha', 'Real', 'Presupuesto', 'PorcentajeCumplimiento']]\n",
    "cumplimiento_venta_previo_notas_credito_tp"
   ]
  },
  {
   "cell_type": "markdown",
   "metadata": {
    "datalore": {
     "hide_input_from_viewers": false,
     "hide_output_from_viewers": false,
     "type": "MD"
    }
   },
   "source": [
    "## 19. Venta de servicios Mtto (VentaServiciosMtto)"
   ]
  },
  {
   "cell_type": "code",
   "execution_count": null,
   "metadata": {
    "datalore": {
     "hide_input_from_viewers": false,
     "hide_output_from_viewers": false,
     "type": "CODE"
    }
   },
   "outputs": [],
   "source": [
    "cumplimiento_venta_servicios_mtto = df_venta_servicios_mtto\n",
    "\n",
    "cumplimiento_venta_servicios_mtto['Presupuesto'] = cumplimiento_venta_servicios_mtto['Presupuesto'].transform(pd.Series.cumsum)\n",
    "cumplimiento_venta_servicios_mtto['Real'] = cumplimiento_venta_servicios_mtto['Real'].transform(pd.Series.cumsum)\n",
    "\n",
    "cumplimiento_venta_servicios_mtto['PorcentajeCumplimiento'] = cumplimiento_venta_servicios_mtto['Real'] / cumplimiento_venta_servicios_mtto['Presupuesto']\n",
    "cumplimiento_venta_servicios_mtto['PorcentajeCumplimiento'] = cumplimiento_venta_servicios_mtto['PorcentajeCumplimiento'].apply(lambda x: round(x, 2))\n",
    "cumplimiento_venta_servicios_mtto['Variable'] = 'VentaServiciosMtto'\n",
    "cumplimiento_venta_servicios_mtto['Contexto'] = 'VentaServiciosMtto'\n",
    "cumplimiento_venta_servicios_mtto = cumplimiento_venta_servicios_mtto[['Contexto', 'Variable', 'Fecha', 'Real', 'Presupuesto', 'PorcentajeCumplimiento']]\n",
    "cumplimiento_venta_servicios_mtto"
   ]
  },
  {
   "cell_type": "markdown",
   "metadata": {
    "datalore": {
     "hide_input_from_viewers": false,
     "hide_output_from_viewers": false,
     "type": "MD"
    }
   },
   "source": [
    "# Nuevos rubros 2022"
   ]
  },
  {
   "cell_type": "markdown",
   "metadata": {
    "datalore": {
     "hide_input_from_viewers": false,
     "hide_output_from_viewers": false,
     "type": "MD"
    }
   },
   "source": [
    "## 20. Venta Cobrada BBraun Cluster (UCI + OR) (VentaCobradaBraunCluster)"
   ]
  },
  {
   "cell_type": "code",
   "execution_count": null,
   "metadata": {},
   "outputs": [],
   "source": [
    "main = df_cluster_plan_real_recaudo.copy()\n",
    "main"
   ]
  },
  {
   "cell_type": "code",
   "execution_count": null,
   "metadata": {
    "datalore": {
     "hide_input_from_viewers": false,
     "hide_output_from_viewers": false,
     "type": "CODE"
    }
   },
   "outputs": [],
   "source": [
    "print(main)\n",
    "main = df_cluster_plan_real_recaudo.copy()\n",
    "# TODO Validar si se ignoran para TODOS los resultados\n",
    "\n",
    "# Calcular\n",
    "main = main.groupby(['Cluster', 'Fecha'], as_index=False)[['Real', 'Presupuesto']].apply(sum)\n",
    "\n",
    "# Variable solo de VCs #\n",
    "if len(codigos_ve_vc) > 0 and fecha_liquidacion >= '2022-03-01' and fecha_liquidacion <= '2022-12-01':\n",
    "    main.reset_index(inplace=True)\n",
    "    main = main[main['Fecha'] >= '2022-03-01']\n",
    "###\n",
    "\n",
    "main['Real'] = main.groupby(['Cluster'])['Real'].transform(pd.Series.cumsum)\n",
    "main['Presupuesto'] = main.groupby(['Cluster'])['Presupuesto'].transform(pd.Series.cumsum)\n",
    "main['PorcentajeCumplimiento'] = (main['Real'] / main['Presupuesto']).apply(lambda x: round(x, 2))\n",
    "main['Variable'] = 'VentaCobradaBraunCluster'\n",
    "\n",
    "#print(main)\n",
    "#Formatear\n",
    "main.reset_index(inplace=True)\n",
    "main.rename(columns={'Cluster': 'Contexto'}, inplace=True)\n",
    "main = main[['Contexto', 'Variable', 'Fecha', 'Real', 'Presupuesto', 'PorcentajeCumplimiento']]\n",
    "\n",
    "venta_cobrada_braun_cluster = main.copy()\n",
    "main = None\n",
    "\n",
    "venta_cobrada_braun_cluster\n",
    "\n",
    "# Contexto: Cluster"
   ]
  },
  {
   "cell_type": "code",
   "execution_count": null,
   "metadata": {},
   "outputs": [],
   "source": [
    "venta_cobrada_braun_cluster[\n",
    "    (venta_cobrada_braun_cluster['Contexto'] == '16')\n",
    "]"
   ]
  },
  {
   "cell_type": "code",
   "execution_count": null,
   "metadata": {},
   "outputs": [],
   "source": [
    "venta_cobrada_braun_cluster[\n",
    "    (venta_cobrada_braun_cluster['Contexto'] == '14')\n",
    "]"
   ]
  },
  {
   "cell_type": "markdown",
   "metadata": {
    "datalore": {
     "hide_input_from_viewers": false,
     "hide_output_from_viewers": false,
     "type": "MD"
    }
   },
   "source": [
    "## 21. Venta Cobrada Portafolio Cluster (VentaCobradaPortafolioCluster)"
   ]
  },
  {
   "cell_type": "code",
   "execution_count": null,
   "metadata": {},
   "outputs": [],
   "source": [
    "df_clusters_empleado[\n",
    "    (df_clusters_empleado['CodigoEmpleado'] == '5002899')\n",
    "]"
   ]
  },
  {
   "cell_type": "code",
   "execution_count": null,
   "metadata": {},
   "outputs": [],
   "source": [
    "drop_cols = ['Venta', 'Division', 'ZonaGeografica', 'GrupoProducto', 'Canal', 'SBA']\n",
    "real = df_venta_recaudo_real.copy().drop(columns=drop_cols)\n",
    "ppto = df_venta_recaudo_presupuesto.copy().drop(columns=drop_cols)\n",
    "\n",
    "# Sumamos los registros que tienen el mismo conexto para que exista un solo registro\n",
    "ppto = ppto.groupby(['CodigoEmpleado', 'Cluster',  'Fecha'], as_index=False)[['Recaudo']].apply(sum)\n",
    "real = real.groupby(['CodigoEmpleado', 'Cluster',  'Fecha'], as_index=False)[['Recaudo']].apply(sum)\n",
    "# ppto.reset_index(inplace=True)\n",
    "# real.reset_index(inplace=True)\n",
    "\n",
    "main = ppto.rename(columns={'Recaudo': 'Presupuesto'}).merge(\n",
    "    real.rename(columns={'Recaudo': 'Real'}),\n",
    "    on=['CodigoEmpleado', 'Cluster','Fecha'],\n",
    "    how='left'\n",
    ")\n",
    "main['Real'].fillna(0, inplace=True)\n",
    "\n",
    "\n",
    "# Traer áreas de cálculo y tipo de empleado de la maestra de empleados\n",
    "empleados = df_empleados[['TipoEmpleado', 'CodigoEmpleado', 'AreaCalculo', 'FechaIngreso']].copy()\n",
    "main = main.merge(empleados, on=['CodigoEmpleado'], how='left')\n",
    "\n",
    "main = main[main['Fecha'] >= main['FechaIngreso']]\n",
    "\n",
    "main"
   ]
  },
  {
   "cell_type": "code",
   "execution_count": null,
   "metadata": {
    "datalore": {
     "hide_input_from_viewers": false,
     "hide_output_from_viewers": false,
     "type": "CODE"
    }
   },
   "outputs": [],
   "source": [
    "# Validación. Se eliminan presupuestos  = 0\n",
    "main['Real'].fillna(0, inplace=True)\n",
    "main['AreaCalculo'].fillna(0, inplace=True)\n",
    "main = main[main.Presupuesto.notnull()]\n",
    "\n",
    "# Calcular\n",
    "main = main.groupby(['CodigoEmpleado', 'Cluster', 'Fecha'], as_index=False)[['Real', 'Presupuesto']].apply(sum)\n",
    "main.reset_index(inplace=True)\n",
    "\n",
    "### Agrupación a nivel de empleado por clusters\n",
    "main = pd.merge(\n",
    "    df_clusters_empleado[['CodigoEmpleado', 'Cluster']],\n",
    "    main,\n",
    "    on=['CodigoEmpleado', 'Cluster'],\n",
    "    how='left'\n",
    ")\n",
    "\n",
    "main = main.groupby(['CodigoEmpleado', 'Fecha'], as_index=False)[['Real', 'Presupuesto']].apply(sum)\n",
    "\n",
    "# Variable solo de VCs y VEs #\n",
    "if len(codigos_ve_vc) > 0 and fecha_liquidacion >= '2022-03-01' and fecha_liquidacion <= '2022-12-01':\n",
    "    main.reset_index(inplace=True)\n",
    "    main = main[main['Fecha'] >= '2022-03-01']\n",
    "###\n",
    "\n",
    "main['Real'] = main.groupby(['CodigoEmpleado'])['Real'].transform(pd.Series.cumsum)\n",
    "main['Presupuesto'] = main.groupby(['CodigoEmpleado'])['Presupuesto'].transform(pd.Series.cumsum)\n",
    "main.reset_index(inplace=True)\n",
    "main['PorcentajeCumplimiento'] = (main['Real']/main['Presupuesto']).apply(lambda x: round(x, 2))\n",
    "main['Variable'] = 'VentaCobradaPortafolioCluster'\n",
    "\n",
    "### Cálculo de resultados cualitativos precargados\n",
    "main = dataframe_loader.sobreescribir_resultados_cualitativos(\n",
    "    main=main,\n",
    "    variable='VentaCobradaPortafolioCluster',\n",
    "    columnas_extra=['CodigoEmpleado'],\n",
    "    columnas_extra_merge=['CodigoEmpleado']\n",
    ")\n",
    "###\n",
    "\n",
    "main['Contexto'] = main['CodigoEmpleado']\n",
    "main = main[['Contexto', 'Variable', 'Fecha', 'Real', 'Presupuesto', 'PorcentajeCumplimiento']]   \n",
    "###\n",
    "\n",
    "\n",
    "venta_cobrada_portafolio_cluster = main.copy()\n",
    "main = None\n",
    "venta_cobrada_portafolio_cluster"
   ]
  },
  {
   "cell_type": "code",
   "execution_count": null,
   "metadata": {},
   "outputs": [],
   "source": [
    "venta_cobrada_portafolio_cluster[\n",
    "    (venta_cobrada_portafolio_cluster['Contexto'] == '1111128')\n",
    "]"
   ]
  },
  {
   "cell_type": "markdown",
   "metadata": {
    "datalore": {
     "hide_input_from_viewers": false,
     "hide_output_from_viewers": false,
     "type": "MD"
    }
   },
   "source": [
    "## 22. Venta Cobrada Portafolio Cluster sub (VentaCobradaPortafolioClusterSub)"
   ]
  },
  {
   "cell_type": "code",
   "execution_count": null,
   "metadata": {},
   "outputs": [],
   "source": [
    "# VentaRecaudoPresupuesto\n",
    "# VentaRecaudoReal (recaudo)\n",
    "# Cálculo de acuerdo a SBA\n",
    "# Agrupar por División - Cluster - Grupo de Producto - SBA\n",
    "\n",
    "drop_cols = ['Venta', 'Canal', 'ZonaGeografica']\n",
    "area_calculo_sba = area_calculo_sba_completo_without_renal.copy()\n",
    "real = df_venta_recaudo_real.copy().drop(columns=drop_cols)\n",
    "ppto = df_venta_recaudo_presupuesto.copy().drop(columns=drop_cols)\n",
    "\n",
    "\n",
    "# Sumamos los registros que tienen el mismo conexto para que exista un solo registro\n",
    "ppto = ppto.groupby(['CodigoEmpleado','Division', 'Cluster', 'GrupoProducto', 'SBA', 'Fecha'], as_index=False)[['Recaudo']].apply(sum)\n",
    "real = real.groupby(['CodigoEmpleado','Division', 'Cluster', 'GrupoProducto', 'SBA', 'Fecha'], as_index=False)[['Recaudo']].apply(sum)\n",
    "# ppto.reset_index(inplace=True)\n",
    "# real.reset_index(inplace=True)\n",
    "\n",
    "main = pd.merge(\n",
    "    ppto.rename(columns={'Recaudo': 'Presupuesto'}),\n",
    "    real.rename(columns={'Recaudo': 'Real'}),\n",
    "    on=['CodigoEmpleado','Division', 'Cluster', 'GrupoProducto', 'SBA', 'Fecha'],\n",
    "    how='left'\n",
    ")\n",
    "main['Real'].fillna(0, inplace=True)\n",
    "\n",
    "main = main.merge(total_empleados, on=['CodigoEmpleado'], how='left')\n",
    "main = main[main['Fecha'] >= main['FechaIngreso']]\n",
    "\n",
    "# Traer Consecutivos\n",
    "main = main.merge(\n",
    "    area_calculo_sba,\n",
    "    on=['AreaCalculo', 'Division', 'GrupoProducto', 'SBA', 'TipoEmpleado'],\n",
    "    how='left'\n",
    ")\n",
    "main.dropna(subset=['Consecutivo'], inplace=True)\n",
    "main = main[main.Presupuesto.notnull()]\n",
    "\n",
    "### Agrupación a nivel de empleado por clusters\n",
    "main = pd.merge(\n",
    "    df_clusters_empleado[['CodigoEmpleado', 'TipoEmpleado', 'AreaCalculo', 'Cluster']],\n",
    "    main,\n",
    "#     on=['CodigoEmpleado','TipoEmpleado', 'AreaCalculo', 'Cluster'],\n",
    "    how='left'\n",
    ")\n",
    "\n",
    "main"
   ]
  },
  {
   "cell_type": "code",
   "execution_count": null,
   "metadata": {},
   "outputs": [],
   "source": [
    "calculo_centro_costo_variable = main.merge(\n",
    "    df_centros_costos_grupos_productos_divisiones.rename(columns={'ConsecutivoParrilla':'Consecutivo'}),\n",
    "    on=['Division', 'GrupoProducto'],\n",
    "    how='left'\n",
    ")\n",
    "calculo_centro_costo_variable = calculo_centro_costo_variable.groupby(['CodigoEmpleado', 'Consecutivo', 'Fecha', 'GrupoProducto', 'Division', 'CodigoCentroCosto'], as_index=False)[['Real']].apply(sum)\n",
    "calculo_centro_costo_variable['Real'] = calculo_centro_costo_variable.groupby(['CodigoEmpleado', 'Consecutivo', 'GrupoProducto', 'Division', 'CodigoCentroCosto'])['Real'].transform(pd.Series.cumsum)\n",
    "calculo_centro_costo_variable['RealTotal'] = calculo_centro_costo_variable.groupby(['CodigoEmpleado', 'Consecutivo', 'Fecha'], as_index=False)[['Real']].transform(pd.Series.sum)\n",
    "calculo_centro_costo_variable['Porcentaje Aplicado'] = calculo_centro_costo_variable['Real'] / calculo_centro_costo_variable['RealTotal']\n",
    "calculo_centro_costo_variable['Variable'] = 'VentaCobradaPortafolioClusterSub'\n",
    "calculo_centro_costo_variable"
   ]
  },
  {
   "cell_type": "code",
   "execution_count": null,
   "metadata": {},
   "outputs": [],
   "source": [
    "venta_cobrada_portafolio_cluster_sub_centro_costo = calculo_centro_costo_variable.copy()\n",
    "venta_cobrada_portafolio_cluster_sub_centro_costo = dataframe_loader.f_calculo_centro_costo_variable(main, 'VentaCobradaPortafolioClusterSub')\n",
    "venta_cobrada_portafolio_cluster_sub_centro_costo"
   ]
  },
  {
   "cell_type": "code",
   "execution_count": null,
   "metadata": {},
   "outputs": [],
   "source": [
    "main = main.groupby(['CodigoEmpleado', 'Consecutivo', 'Fecha'], as_index=False)[['Real', 'Presupuesto']].apply(sum)\n",
    "main.reset_index(inplace=True)\n",
    "\n",
    "# Variable solo de VCs y VEs #\n",
    "if len(codigos_ve_vc) > 0 and fecha_liquidacion >= '2022-03-01' and fecha_liquidacion <= '2022-12-01':\n",
    "    main = main[main['Fecha'] >= '2022-03-01']\n",
    "###\n",
    "\n",
    "main['Real'] = main.groupby(['CodigoEmpleado', 'Consecutivo'])['Real'].transform(pd.Series.cumsum)\n",
    "main['Presupuesto'] = main.groupby(['CodigoEmpleado', 'Consecutivo'])['Presupuesto'].transform(pd.Series.cumsum)\n",
    "main['PorcentajeCumplimiento'] = (main['Real'] / main['Presupuesto']).apply(lambda x: round(x, 2))\n",
    "main['Variable'] = 'VentaCobradaPortafolioClusterSub'\n",
    "\n",
    "### Cálculo de resultados cualitativos precargados\n",
    "main = dataframe_loader.sobreescribir_resultados_cualitativos(\n",
    "    main=main,\n",
    "    variable='VentaCobradaPortafolioClusterSub',\n",
    "    columnas_extra=['CodigoEmpleado', 'Consecutivo'],\n",
    "    columnas_extra_merge=['CodigoEmpleado', 'Consecutivo']\n",
    ")\n",
    "###\n",
    "\n",
    "main['Contexto'] = main['CodigoEmpleado'] + '_' + main['Consecutivo'].astype(int).astype('str')\n",
    "main = main[['Contexto', 'Variable', 'Fecha', 'Real', 'Presupuesto', 'PorcentajeCumplimiento']]\n",
    "###\n",
    "\n",
    "venta_cobrada_portafolio_cluster_sub = main.copy()\n",
    "main = None\n",
    "venta_cobrada_portafolio_cluster_sub"
   ]
  },
  {
   "cell_type": "code",
   "execution_count": null,
   "metadata": {},
   "outputs": [],
   "source": [
    "venta_cobrada_portafolio_cluster_sub[\n",
    "    (venta_cobrada_portafolio_cluster_sub['Contexto'].str.contains('1111128')) & \n",
    "    (venta_cobrada_portafolio_cluster_sub['Fecha'] == '2023-12-01')\n",
    "]"
   ]
  },
  {
   "cell_type": "markdown",
   "metadata": {},
   "source": [
    "### 22.1 Grupo Renal (Hospitalario + Ambulatorio)"
   ]
  },
  {
   "cell_type": "code",
   "execution_count": null,
   "metadata": {},
   "outputs": [],
   "source": [
    "area_calculo_sba_renal_drop_duplicates = area_calculo_sba_completo_with_renal[['AreaCalculo','Consecutivo','TipoEmpleado']].drop_duplicates(['AreaCalculo', 'Consecutivo'])\n",
    "area_calculo_sba_renal_drop_duplicates"
   ]
  },
  {
   "cell_type": "code",
   "execution_count": null,
   "metadata": {},
   "outputs": [],
   "source": [
    "area_calculo_sba_renal_vc_drop_duplicates = area_calculo_sba_renal_drop_duplicates[area_calculo_sba_renal_drop_duplicates['TipoEmpleado'] == 'VC']\n",
    "area_calculo_sba_renal_vc_drop_duplicates"
   ]
  },
  {
   "cell_type": "code",
   "execution_count": null,
   "metadata": {},
   "outputs": [],
   "source": [
    "# VentaRecaudoPresupuesto\n",
    "# VentaRecaudoReal (recaudo)\n",
    "# Cálculo de acuerdo a SBA\n",
    "# Agrupar por División - Cluster - Grupo de Producto - SBA\n",
    "\n",
    "df_renal_ambulatorio_vc = df_renal_ambulatorio[df_renal_ambulatorio['TipoEmpleado'] == 'VC']\n",
    "df_renal_ambulatorio_vc"
   ]
  },
  {
   "cell_type": "code",
   "execution_count": null,
   "metadata": {},
   "outputs": [],
   "source": [
    "# Calcular\n",
    "\n",
    "main = df_renal_ambulatorio_vc.rename(columns={'PlanVentaCobradaRenal': 'Presupuesto', 'RealVentaCobradaRenal': 'Real'})\n",
    "main = main.merge(\n",
    "    area_calculo_sba_renal_vc_drop_duplicates,\n",
    "    on=['TipoEmpleado'],\n",
    "    how='left'\n",
    ")\n",
    "main"
   ]
  },
  {
   "cell_type": "code",
   "execution_count": null,
   "metadata": {},
   "outputs": [],
   "source": [
    "main['Contexto'] = main['CodigoEmpleado'] + '_' +  main['Consecutivo'].astype(int).astype('str')\n",
    "\n",
    "main = main.groupby(['Contexto', 'Fecha'], as_index=False)[['Real', 'Presupuesto']].apply(sum)\n",
    "main['Real'] = main.groupby(['Contexto'])['Real'].transform(pd.Series.cumsum)\n",
    "main['Presupuesto'] = main.groupby(['Contexto'])['Presupuesto'].transform(pd.Series.cumsum)\n",
    "main['PorcentajeCumplimiento'] = (main['Real']/main['Presupuesto']).apply(lambda x: round(x, 2))\n",
    "main['Variable'] = 'VentaCobradaPortafolioClusterSub'\n",
    "\n",
    "\n",
    "#Formatear\n",
    "main.reset_index(inplace=True)\n",
    "main = main[['Contexto', 'Variable', 'Fecha', 'Real','Presupuesto', 'PorcentajeCumplimiento']]\n",
    "\n",
    "venta_cobrada_portafolio_cluster_sub = pd.concat([\n",
    "     venta_cobrada_portafolio_cluster_sub.copy(),\n",
    "     main.copy()\n",
    "   ], \n",
    "   ignore_index=True\n",
    " )\n",
    "# venta_cobrada_portafolio_cluster_sub = main.copy()\n",
    "main = None\n",
    "venta_cobrada_portafolio_cluster_sub\n"
   ]
  },
  {
   "cell_type": "markdown",
   "metadata": {
    "datalore": {
     "hide_input_from_viewers": false,
     "hide_output_from_viewers": false,
     "type": "MD"
    }
   },
   "source": [
    "## 23. Venta Facturada Portafolio Cluster (VentaFacturadaPortafolioCluster)"
   ]
  },
  {
   "cell_type": "code",
   "execution_count": null,
   "metadata": {
    "datalore": {
     "hide_input_from_viewers": false,
     "hide_output_from_viewers": false,
     "type": "CODE"
    }
   },
   "outputs": [],
   "source": [
    "# VentaRecaudoPresupuesto\n",
    "# VentaRecaudoReal (Venta)\n",
    "\n",
    "# Merge de tablas\n",
    "drop_cols = ['Recaudo', 'ZonaGeografica', 'Canal']\n",
    "area_calculo_sba = area_calculo_sba_completo.copy()\n",
    "real = df_venta_recaudo_real.copy().drop(columns=drop_cols)\n",
    "ppto = df_venta_recaudo_presupuesto.copy().drop(columns=drop_cols)\n",
    "\n",
    "# Sumamos los registros que tienen el mismo conexto para que exista un solo registro\n",
    "ppto = ppto.groupby(['CodigoEmpleado', 'Cluster', 'Division', 'GrupoProducto', 'SBA', 'Fecha'], as_index=False)[['Venta']].apply(sum)\n",
    "real = real.groupby(['CodigoEmpleado', 'Cluster', 'Division', 'GrupoProducto', 'SBA', 'Fecha'], as_index=False)[['Venta']].apply(sum)\n",
    "ppto.reset_index(inplace=True)\n",
    "real.reset_index(inplace=True)\n",
    "\n",
    "main = ppto.rename(columns={'Venta': 'Presupuesto'}).merge(\n",
    "    real.rename(columns={'Venta': 'Real'}),\n",
    "    on=['CodigoEmpleado', 'Cluster', 'Division', 'GrupoProducto', 'SBA', 'Fecha'],\n",
    "    how='left'\n",
    ")\n",
    "main['Real'].fillna(0, inplace=True)\n",
    "\n",
    "# Traer áreas de cálculo y tipo de empleado de la maestra de empleados\n",
    "empleados = df_empleados[['TipoEmpleado', 'CodigoEmpleado', 'AreaCalculo', 'FechaIngreso']].copy()\n",
    "main = main.merge(empleados, on=['CodigoEmpleado'], how='left')\n",
    "\n",
    "main = main[main['Fecha'] >= main['FechaIngreso']]\n",
    "\n",
    "main = main.merge(\n",
    "    area_calculo_sba,\n",
    "    on=['AreaCalculo', 'Division', 'GrupoProducto', 'SBA', 'TipoEmpleado'],\n",
    "    how='left'\n",
    ")\n",
    "main.dropna(subset=['Consecutivo'], inplace=True)\n",
    "main = main[main.Presupuesto.notnull()]\n",
    "\n",
    "main = main.groupby(['CodigoEmpleado', 'AreaCalculo', 'Cluster', 'Fecha'], as_index=False)[['Real', 'Presupuesto']].apply(sum)\n",
    "main.reset_index(inplace=True)\n",
    "\n",
    "# Validación. Se eliminan presupuestos  = 0\n",
    "main['Real'].fillna(0, inplace=True)\n",
    "main['AreaCalculo'].fillna(0, inplace=True)\n",
    "main = main[main.Presupuesto.notnull()]\n",
    "\n",
    "# Calcular\n",
    "main = main.groupby(['CodigoEmpleado', 'Cluster', 'Fecha'], as_index=False)[['Real', 'Presupuesto']].apply(sum)\n",
    "main.reset_index(inplace=True)\n",
    "\n",
    "### Agrupación a nivel de empleado por clusters\n",
    "main = pd.merge(\n",
    "    df_clusters_empleado[['CodigoEmpleado', 'Cluster']],\n",
    "    main,\n",
    "    on=['CodigoEmpleado', 'Cluster'],\n",
    "    how='left'\n",
    ")\n",
    "\n",
    "main = main.groupby(['CodigoEmpleado', 'Fecha'], as_index=False)[['Real', 'Presupuesto']].apply(sum)\n",
    "main.reset_index(inplace=True)\n",
    "\n",
    "# Variable solo de VCs y VEs #\n",
    "if len(codigos_ve_vc) > 0 and fecha_liquidacion >= '2022-03-01' and fecha_liquidacion <= '2022-12-01':\n",
    "    main = main[main['Fecha'] >= '2022-03-01']\n",
    "###\n",
    "\n",
    "main['Real'] = main.groupby(['CodigoEmpleado'])['Real'].transform(pd.Series.cumsum)\n",
    "main['Presupuesto'] = main.groupby(['CodigoEmpleado'])['Presupuesto'].transform(pd.Series.cumsum)\n",
    "main['PorcentajeCumplimiento'] = (main['Real']/main['Presupuesto']).apply(lambda x: round(x, 2))\n",
    "main['Variable'] = 'VentaFacturadaPortafolioCluster'\n",
    "main['Contexto'] = main['CodigoEmpleado']\n",
    "main = main[['Contexto', 'Variable', 'Fecha', 'Real', 'Presupuesto', 'PorcentajeCumplimiento']]   \n",
    "###\n",
    "\n",
    "\n",
    "venta_facturada_portafolio_cluster = main.copy()\n",
    "main = None\n",
    "venta_facturada_portafolio_cluster"
   ]
  },
  {
   "cell_type": "code",
   "execution_count": null,
   "metadata": {},
   "outputs": [],
   "source": [
    "venta_facturada_portafolio_cluster[\n",
    "    (venta_facturada_portafolio_cluster['Contexto'] == '1111115')\n",
    "]"
   ]
  },
  {
   "cell_type": "markdown",
   "metadata": {
    "datalore": {
     "hide_input_from_viewers": false,
     "hide_output_from_viewers": false,
     "type": "MD"
    }
   },
   "source": [
    "## 24. Venta Facturada Portafolio Cluster sub (VentaFacturadaPortafolioClusterSub)"
   ]
  },
  {
   "cell_type": "code",
   "execution_count": null,
   "metadata": {
    "datalore": {
     "hide_input_from_viewers": false,
     "hide_output_from_viewers": false,
     "type": "CODE"
    }
   },
   "outputs": [],
   "source": [
    "drop_cols = ['Recaudo', 'Canal', 'ZonaGeografica']\n",
    "area_calculo_sba = area_calculo_sba_completo.copy()\n",
    "real = df_venta_recaudo_real.copy().drop(columns=drop_cols)\n",
    "ppto = df_venta_recaudo_presupuesto.copy().drop(columns=drop_cols)\n",
    "\n",
    "\n",
    "# Sumamos los registros que tienen el mismo conexto para que exista un solo registro\n",
    "ppto = ppto.groupby(['CodigoEmpleado','Division', 'Cluster', 'GrupoProducto', 'SBA', 'Fecha'], as_index=False)[['Venta']].apply(sum)\n",
    "real = real.groupby(['CodigoEmpleado','Division', 'Cluster', 'GrupoProducto', 'SBA', 'Fecha'], as_index=False)[['Venta']].apply(sum)\n",
    "ppto.reset_index(inplace=True)\n",
    "real.reset_index(inplace=True)\n",
    "\n",
    "main = pd.merge(\n",
    "    ppto.rename(columns={'Venta': 'Presupuesto'}),\n",
    "    real.rename(columns={'Venta': 'Real'}),\n",
    "    on=['CodigoEmpleado','Division', 'Cluster', 'GrupoProducto', 'SBA', 'Fecha'],\n",
    "    how='left'\n",
    ")\n",
    "main['Real'].fillna(0, inplace=True)\n",
    "\n",
    "\n",
    "# Traer áreas de cálculo y tipo de empleado de la maestra de empleados\n",
    "empleados = df_empleados[['TipoEmpleado', 'CodigoEmpleado', 'AreaCalculo', 'FechaIngreso']].copy()\n",
    "main = main.merge(empleados, on=['CodigoEmpleado'], how='left')\n",
    "\n",
    "main = main[main['Fecha'] >= main['FechaIngreso']]\n",
    "\n",
    "# Traer Consecutivos\n",
    "main = main.merge(\n",
    "    area_calculo_sba,\n",
    "    on=['AreaCalculo', 'Division', 'GrupoProducto', 'SBA', 'TipoEmpleado'],\n",
    "    how='left'\n",
    ")\n",
    "main.dropna(subset=['Consecutivo'], inplace=True)\n",
    "main = main[main.Presupuesto.notnull()]\n",
    "\n",
    "main = main.groupby(['TipoEmpleado', 'AreaCalculo', 'Consecutivo', 'Cluster', 'Fecha'], as_index=False)[['Real', 'Presupuesto']].apply(sum)\n",
    "main.reset_index(inplace=True)\n",
    "\n",
    "### Agrupación a nivel de empleado por clusters\n",
    "main = pd.merge(\n",
    "    df_clusters_empleado[['CodigoEmpleado', 'TipoEmpleado', 'AreaCalculo', 'Cluster']],\n",
    "    main,\n",
    "    on=['TipoEmpleado', 'AreaCalculo', 'Cluster'],\n",
    "    how='left'\n",
    ")\n",
    "\n",
    "main = main.groupby(['CodigoEmpleado', 'Consecutivo', 'Fecha'], as_index=False)[['Real', 'Presupuesto']].apply(sum)\n",
    "main.reset_index(inplace=True)\n",
    "\n",
    "# Variable solo de VCs y VEs #\n",
    "if len(codigos_ve_vc) > 0 and fecha_liquidacion >= '2022-03-01' and fecha_liquidacion <= '2022-12-01':\n",
    "    main = main[main['Fecha'] >= '2022-03-01']\n",
    "###\n",
    "\n",
    "main['Real'] = main.groupby(['CodigoEmpleado', 'Consecutivo'])['Real'].transform(pd.Series.cumsum)\n",
    "main['Presupuesto'] = main.groupby(['CodigoEmpleado', 'Consecutivo'])['Presupuesto'].transform(pd.Series.cumsum)\n",
    "main['PorcentajeCumplimiento'] = (main['Real']/main['Presupuesto']).apply(lambda x: round(x, 2))\n",
    "main['Variable'] = 'VentaFacturadaPortafolioClusterSub'\n",
    "main['Contexto'] = main['CodigoEmpleado'] + '_' +  main['Consecutivo'].astype(int).astype('str')\n",
    "main = main[['Contexto', 'Variable', 'Fecha', 'Real', 'Presupuesto', 'PorcentajeCumplimiento']]   \n",
    "###\n",
    "\n",
    "\n",
    "venta_facturada_portafolio_cluster_sub = main.copy()\n",
    "main = None\n",
    "venta_facturada_portafolio_cluster_sub"
   ]
  },
  {
   "cell_type": "markdown",
   "metadata": {
    "datalore": {
     "hide_input_from_viewers": false,
     "hide_output_from_viewers": false,
     "type": "MD"
    }
   },
   "source": [
    "## 25. Venta cobrada y facturada portafolio (VentaCobradaPortafolioPais, VentaFacturadaPortafolioZonaSub, VentaCobradaPortafolioZona, VentaCobradaPortafolioClusterSub, VentaFacturadaPorfafolioCluster)"
   ]
  },
  {
   "cell_type": "code",
   "execution_count": null,
   "metadata": {
    "datalore": {
     "hide_input_from_viewers": false,
     "hide_output_from_viewers": false,
     "type": "CODE"
    }
   },
   "outputs": [],
   "source": [
    "def pre_merge_venta_cobrada_zona_hospitalaria_sub(x):\n",
    "    x['Consecutivo'] = x['Consecutivo'].astype('str')\n",
    "    return x"
   ]
  },
  {
   "cell_type": "markdown",
   "metadata": {
    "datalore": {
     "hide_input_from_viewers": false,
     "hide_output_from_viewers": false,
     "type": "MD"
    }
   },
   "source": [
    "### 25.1 Para VE"
   ]
  },
  {
   "cell_type": "code",
   "execution_count": null,
   "metadata": {
    "datalore": {
     "hide_input_from_viewers": false,
     "hide_output_from_viewers": false,
     "type": "CODE"
    }
   },
   "outputs": [],
   "source": [
    "area_calculo_sba_completo_ve = area_calculo_sba_completo[area_calculo_sba_completo['TipoEmpleado']=='VE']\n",
    "\n",
    "#Se halla la informacion de la venta y recaudo real de los representantes de ventas de los VE\n",
    "venta_recaudo_presupuesto_original_ve_real = area_calculo_sba_completo_ve.merge(\n",
    "    df_venta_recaudo_real[['Division', 'GrupoProducto', 'SBA', 'ZonaGeografica', 'Cluster', 'Canal', 'Fecha', 'Venta', 'Recaudo']],\n",
    "    on=['Division', 'GrupoProducto', 'SBA']\n",
    ")\n",
    "\n",
    "#Se halla la informacion de la venta y recaudo presupuesto de los representantes de ventas de los VE\n",
    "venta_recaudo_presupuesto_original_ve_presupuesto = area_calculo_sba_completo_ve.merge(\n",
    "    df_venta_recaudo_presupuesto[['Division', 'GrupoProducto', 'SBA', 'ZonaGeografica', 'Cluster', 'Canal', 'Fecha', 'Venta', 'Recaudo']],\n",
    "    on=['Division', 'GrupoProducto', 'SBA']\n",
    ")"
   ]
  },
  {
   "cell_type": "markdown",
   "metadata": {
    "datalore": {
     "hide_input_from_viewers": false,
     "hide_output_from_viewers": false,
     "type": "MD"
    }
   },
   "source": [
    "#### 25.1.1 VentaCobradaPortafolioPais"
   ]
  },
  {
   "cell_type": "code",
   "execution_count": null,
   "metadata": {
    "datalore": {
     "hide_input_from_viewers": false,
     "hide_output_from_viewers": false,
     "type": "CODE"
    }
   },
   "outputs": [],
   "source": [
    "recaudo_real_ve = venta_recaudo_presupuesto_original_ve_real.groupby(['AreaCalculo', 'Fecha'], as_index=False).agg({'Recaudo': 'sum'})\n",
    "recaudo_real_ve.rename(columns={'Recaudo': 'Real'}, inplace=True)\n",
    "\n",
    "recaudo_presupuesto_ve = venta_recaudo_presupuesto_original_ve_presupuesto.groupby(['AreaCalculo', 'Fecha'], as_index=False).agg({'Recaudo': 'sum'})\n",
    "recaudo_presupuesto_ve.rename(columns={'Recaudo': 'Presupuesto'}, inplace=True)\n",
    "\n",
    "main = pd.merge(\n",
    "    left=recaudo_presupuesto_ve,\n",
    "    right=recaudo_real_ve,\n",
    "    on=['AreaCalculo', 'Fecha'],\n",
    "    how='left'\n",
    ")\n",
    "\n",
    "# TODO Validar si los resultados anteriores a fecha de ingreso se ignoran para TODOS\n",
    "\n",
    "main['Real'].fillna(0.0, inplace=True)\n",
    "\n",
    "# Variable solo de VCs y VEs #\n",
    "if len(codigos_ve_vc) > 0 and fecha_liquidacion >= '2022-03-01' and fecha_liquidacion <= '2022-12-01':\n",
    "    main = main[main['Fecha'] >= '2022-03-01']\n",
    "###\n",
    "\n",
    "main['Real'] = main.groupby(['AreaCalculo'])['Real'].transform(pd.Series.cumsum)\n",
    "main['Presupuesto'] = main.groupby(['AreaCalculo'])['Presupuesto'].transform(pd.Series.cumsum)\n",
    "main['PorcentajeCumplimiento'] = main['Real'] / main['Presupuesto']\n",
    "main['PorcentajeCumplimiento'] = main['PorcentajeCumplimiento'].apply(lambda x: round(x, 2))\n",
    "\n",
    "main['AreaCalculo'] = main['AreaCalculo'].astype('str')\n",
    "main['Contexto'] = 'VE_' + main['AreaCalculo']\n",
    "main['Variable'] = 'VentaCobradaPortafolioPais'\n",
    "main = main[['Contexto', 'Variable', 'Fecha', 'Real', 'Presupuesto', 'PorcentajeCumplimiento']]\n",
    "\n",
    "venta_cobrada_portafolio_pais_ve = main.copy()\n",
    "main = None\n",
    "\n",
    "venta_cobrada_portafolio_pais_ve"
   ]
  },
  {
   "cell_type": "code",
   "execution_count": null,
   "metadata": {},
   "outputs": [],
   "source": [
    "venta_cobrada_portafolio_pais_ve[\n",
    "    (venta_cobrada_portafolio_pais_ve['Contexto'] == 'VE_4')\n",
    "]"
   ]
  },
  {
   "cell_type": "code",
   "execution_count": null,
   "metadata": {},
   "outputs": [],
   "source": [
    "venta_cobrada_portafolio_pais_ve[\n",
    "    (venta_cobrada_portafolio_pais_ve['Contexto'] == 'VE_7')\n",
    "]"
   ]
  },
  {
   "cell_type": "markdown",
   "metadata": {
    "datalore": {
     "hide_input_from_viewers": false,
     "hide_output_from_viewers": false,
     "type": "MD"
    }
   },
   "source": [
    "#### 25.1.2 VentaCobradaPortafolioZona"
   ]
  },
  {
   "cell_type": "code",
   "execution_count": null,
   "metadata": {
    "datalore": {
     "hide_input_from_viewers": false,
     "hide_output_from_viewers": false,
     "type": "CODE"
    }
   },
   "outputs": [],
   "source": [
    "print(venta_recaudo_presupuesto_original_ve_real)\n",
    "\n",
    "recaudo_real_zona_ve = venta_recaudo_presupuesto_original_ve_real.groupby(['AreaCalculo', 'ZonaGeografica', 'Fecha'], as_index=False).agg({'Recaudo': 'sum'})\n",
    "recaudo_real_zona_ve.rename(columns={'Recaudo': 'Real'}, inplace=True)\n",
    "\n",
    "recaudo_presupuesto_zona_ve = venta_recaudo_presupuesto_original_ve_presupuesto.groupby(['AreaCalculo', 'ZonaGeografica', 'Fecha'], as_index=False).agg({'Recaudo': 'sum'})\n",
    "recaudo_presupuesto_zona_ve.rename(columns={'Recaudo': 'Presupuesto'}, inplace=True)\n",
    "\n",
    "main = pd.merge(\n",
    "    left=recaudo_presupuesto_zona_ve,\n",
    "    right=recaudo_real_zona_ve,\n",
    "    on=['ZonaGeografica', 'AreaCalculo', 'Fecha'],\n",
    "    how='left'\n",
    ")\n",
    "\n",
    "main['Real'].fillna(0.0, inplace=True)\n",
    "\n",
    "main['Real'] = main.groupby(['AreaCalculo', 'ZonaGeografica', 'Fecha'])['Real'].transform(pd.Series.sum)\n",
    "main['Presupuesto'] = main.groupby(['AreaCalculo', 'ZonaGeografica', 'Fecha'])['Presupuesto'].transform(pd.Series.sum)\n",
    "\n",
    "main['TipoEmpleado'] = 'VE'\n",
    "\n",
    "### Agrupación a nivel de empleado por zonas\n",
    "main = pd.merge(\n",
    "    df_zonas_empleado[['CodigoEmpleado', 'TipoEmpleado', 'AreaCalculo', 'Zona']].rename(columns={'Zona': 'ZonaGeografica'}),\n",
    "    main,\n",
    "    on=['TipoEmpleado', 'AreaCalculo', 'ZonaGeografica'],\n",
    "    how='left'\n",
    ")\n",
    "\n",
    "main = pd.merge(\n",
    "    main,\n",
    "    df_empleados[['CodigoEmpleado', 'FechaIngreso']],\n",
    "    on='CodigoEmpleado',\n",
    "    how='left'\n",
    ")\n",
    "main = main[main['Fecha'] >= main['FechaIngreso']]\n",
    "\n",
    "main = main.groupby(['CodigoEmpleado', 'Fecha'], as_index=False)[['Real', 'Presupuesto']].apply(sum)\n",
    "main.reset_index(inplace=True)\n",
    "\n",
    "# Variable solo de VCs y VEs #\n",
    "if len(codigos_ve_vc) > 0 and fecha_liquidacion >= '2022-03-01' and fecha_liquidacion <= '2022-12-01':\n",
    "    main = main[main['Fecha'] >= '2022-03-01']\n",
    "###\n",
    "\n",
    "\n",
    "main['Real'] = main.groupby(['CodigoEmpleado'])['Real'].transform(pd.Series.cumsum)\n",
    "main['Presupuesto'] = main.groupby(['CodigoEmpleado'])['Presupuesto'].transform(pd.Series.cumsum)\n",
    "main['PorcentajeCumplimiento'] = (main['Real']/main['Presupuesto']).apply(lambda x: round(x, 2))\n",
    "main['Variable'] = 'VentaCobradaPortafolioZona'\n",
    "main['Contexto'] = main['CodigoEmpleado']\n",
    "main = main[['Contexto', 'Variable', 'Fecha', 'Real', 'Presupuesto', 'PorcentajeCumplimiento']]\n",
    "###\n",
    "\n",
    "venta_cobrada_portafolio_zona_ve = main.copy()\n",
    "main = None\n",
    "\n",
    "venta_cobrada_portafolio_zona_ve"
   ]
  },
  {
   "cell_type": "code",
   "execution_count": null,
   "metadata": {},
   "outputs": [],
   "source": [
    "def _get_or_create_zona_cluster(empleado, cluster, zona):\n",
    "    if not empleado or not (cluster or zona):\n",
    "        return False\n",
    "    return True\n",
    "\n",
    "_get_or_create_zona_cluster(True, True, None)"
   ]
  },
  {
   "cell_type": "markdown",
   "metadata": {
    "datalore": {
     "hide_input_from_viewers": false,
     "hide_output_from_viewers": false,
     "type": "MD"
    }
   },
   "source": [
    "#### 25.1.3 VentaFacturadaPortafolioZonaSub"
   ]
  },
  {
   "cell_type": "code",
   "execution_count": null,
   "metadata": {
    "datalore": {
     "hide_input_from_viewers": false,
     "hide_output_from_viewers": false,
     "type": "CODE"
    }
   },
   "outputs": [],
   "source": [
    "venta_real_zona_consecutivo_ve = venta_recaudo_presupuesto_original_ve_real.groupby(['AreaCalculo', 'ZonaGeografica', 'Consecutivo', 'Fecha'], as_index=False).agg({'Venta': 'sum'})\n",
    "venta_real_zona_consecutivo_ve.rename(columns={'Venta': 'Real'}, inplace=True)\n",
    "\n",
    "venta_presupuesto_zona_consecutivo_ve = venta_recaudo_presupuesto_original_ve_presupuesto.groupby(['AreaCalculo', 'ZonaGeografica', 'Consecutivo', 'Fecha'], as_index=False).agg({'Venta': 'sum'})\n",
    "venta_presupuesto_zona_consecutivo_ve.rename(columns={'Venta': 'Presupuesto'}, inplace=True)\n",
    "\n",
    "main = pd.merge(\n",
    "    left=venta_presupuesto_zona_consecutivo_ve,\n",
    "    right=venta_real_zona_consecutivo_ve,\n",
    "    on=['ZonaGeografica', 'AreaCalculo', 'Consecutivo', 'Fecha'],\n",
    "    how='left'\n",
    ")\n",
    "\n",
    "main['Real'].fillna(0.0, inplace=True)\n",
    "\n",
    "main['Real'] = main.groupby(['AreaCalculo', 'ZonaGeografica', 'Consecutivo', 'Fecha'])['Real'].transform(pd.Series.sum)\n",
    "main['Presupuesto'] = main.groupby(['AreaCalculo', 'ZonaGeografica', 'Consecutivo', 'Fecha'])['Presupuesto'].transform(pd.Series.sum)\n",
    "\n",
    "main['Consecutivo'] = main['Consecutivo'].astype('str')\n",
    "main['TipoEmpleado'] = 'VE'\n",
    "\n",
    "### Agrupación a nivel de empleado por zonas\n",
    "main = pd.merge(\n",
    "    df_zonas_empleado[['CodigoEmpleado', 'TipoEmpleado', 'AreaCalculo', 'Zona']].rename(columns={'Zona': 'ZonaGeografica'}),\n",
    "    main,\n",
    "    on=['TipoEmpleado', 'AreaCalculo', 'ZonaGeografica'],\n",
    "    how='left'\n",
    ")\n",
    "\n",
    "main = pd.merge(\n",
    "    main,\n",
    "    df_empleados[['CodigoEmpleado', 'FechaIngreso']],\n",
    "    on='CodigoEmpleado',\n",
    "    how='left'\n",
    ")\n",
    "main = main[main['Fecha'] >= main['FechaIngreso']]\n",
    "\n",
    "main = main.groupby(['CodigoEmpleado', 'Consecutivo', 'Fecha'], as_index=False)[['Real', 'Presupuesto']].apply(sum)\n",
    "main.reset_index(inplace=True)\n",
    "\n",
    "# Variable solo de VCs y VEs #\n",
    "if len(codigos_ve_vc) > 0 and fecha_liquidacion >= '2022-03-01' and fecha_liquidacion <= '2022-12-01':\n",
    "    main = main[main['Fecha'] >= '2022-03-01']\n",
    "###\n",
    "\n",
    "main['Real'] = main.groupby(['CodigoEmpleado', 'Consecutivo'])['Real'].transform(pd.Series.cumsum)\n",
    "main['Presupuesto'] = main.groupby(['CodigoEmpleado', 'Consecutivo'])['Presupuesto'].transform(pd.Series.cumsum)\n",
    "main['PorcentajeCumplimiento'] = (main['Real']/main['Presupuesto']).apply(lambda x: round(x, 2))\n",
    "main['Variable'] = 'VentaFacturadaPortafolioZonaSub'\n",
    "main['Contexto'] = main['CodigoEmpleado'] + '_' +  main['Consecutivo'].astype(int).astype('str')\n",
    "main = main[['Contexto', 'Variable', 'Fecha', 'Real', 'Presupuesto', 'PorcentajeCumplimiento']]\n",
    "###\n",
    "\n",
    "venta_facturada_portafolio_zona_sub_ve = main.copy()\n",
    "main = None\n",
    "\n",
    "venta_facturada_portafolio_zona_sub_ve"
   ]
  },
  {
   "cell_type": "markdown",
   "metadata": {
    "datalore": {
     "hide_input_from_viewers": false,
     "hide_output_from_viewers": false,
     "type": "MD"
    }
   },
   "source": [
    "#### 25.1.4 VentaCobradaPortafolioCluster"
   ]
  },
  {
   "cell_type": "code",
   "execution_count": null,
   "metadata": {
    "datalore": {
     "hide_input_from_viewers": false,
     "hide_output_from_viewers": false,
     "type": "CODE"
    }
   },
   "outputs": [],
   "source": [
    "recaudo_real_cluster_ve = venta_recaudo_presupuesto_original_ve_real.groupby(['AreaCalculo', 'Cluster', 'Fecha'], as_index=False).agg({'Recaudo': 'sum'})\n",
    "recaudo_real_cluster_ve.rename(columns={'Recaudo': 'Real'}, inplace=True)\n",
    "\n",
    "recaudo_presupuesto_cluster_ve = venta_recaudo_presupuesto_original_ve_presupuesto.groupby(['AreaCalculo', 'Cluster', 'Fecha'], as_index=False).agg({'Recaudo': 'sum'})\n",
    "recaudo_presupuesto_cluster_ve.rename(columns={'Recaudo': 'Presupuesto'}, inplace=True)\n",
    "\n",
    "main = pd.merge(\n",
    "    left=recaudo_presupuesto_cluster_ve,\n",
    "    right=recaudo_real_cluster_ve,\n",
    "    on=['Cluster', 'AreaCalculo', 'Fecha'],\n",
    "    how='left'\n",
    ")\n",
    "\n",
    "main['Real'].fillna(0.0, inplace=True)\n",
    "\n",
    "main['Real'] = main.groupby(['AreaCalculo', 'Cluster', 'Fecha'])['Real'].transform(pd.Series.sum)\n",
    "main['Presupuesto'] = main.groupby(['AreaCalculo', 'Cluster', 'Fecha'])['Presupuesto'].transform(pd.Series.sum)\n",
    "\n",
    "main['TipoEmpleado'] = 'VE'\n",
    "\n",
    "### Agrupación a nivel de empleado por zonas\n",
    "main = pd.merge(\n",
    "    df_clusters_empleado[['CodigoEmpleado', 'TipoEmpleado', 'AreaCalculo', 'Cluster']],\n",
    "    main,\n",
    "    on=['TipoEmpleado', 'AreaCalculo', 'Cluster'],\n",
    "    how='left'\n",
    ")\n",
    "main = main.groupby(['CodigoEmpleado', 'Fecha'], as_index=False)[['Real', 'Presupuesto']].apply(sum)\n",
    "main.reset_index(inplace=True)\n",
    "\n",
    "main = pd.merge(\n",
    "    left=main,\n",
    "    right=df_empleados[['CodigoEmpleado', 'FechaIngreso']],\n",
    "    on=['CodigoEmpleado'],\n",
    "    how='left'\n",
    ")\n",
    "main = main[main['Fecha'] >= main['FechaIngreso']]\n",
    "main.drop(columns=['FechaIngreso'], inplace=True)\n",
    "\n",
    "# Variable solo de VCs y VEs #\n",
    "if len(codigos_ve_vc) > 0 and fecha_liquidacion >= '2022-03-01' and fecha_liquidacion <= '2022-12-01':\n",
    "    main = main[main['Fecha'] >= '2022-03-01']\n",
    "###\n",
    "\n",
    "main['Real'] = main.groupby(['CodigoEmpleado'])['Real'].transform(pd.Series.cumsum)\n",
    "main['Presupuesto'] = main.groupby(['CodigoEmpleado'])['Presupuesto'].transform(pd.Series.cumsum)\n",
    "main['PorcentajeCumplimiento'] = (main['Real']/main['Presupuesto']).apply(lambda x: round(x, 2))\n",
    "main['Variable'] = 'VentaCobradaPortafolioCluster'\n",
    "\n",
    "### Cálculo de resultados cualitativos precargados\n",
    "main = dataframe_loader.sobreescribir_resultados_cualitativos(\n",
    "    main=main,\n",
    "    variable='VentaCobradaPortafolioCluster',\n",
    "    columnas_extra=['CodigoEmpleado'],\n",
    "    columnas_extra_merge=['CodigoEmpleado']\n",
    ")\n",
    "###\n",
    "\n",
    "main['Contexto'] = main['CodigoEmpleado']\n",
    "main = main[['Contexto', 'Variable', 'Fecha', 'Real', 'Presupuesto', 'PorcentajeCumplimiento']]\n",
    "###\n",
    "\n",
    "venta_cobrada_portafolio_cluster_ve = main.copy()\n",
    "main = None\n",
    "\n",
    "venta_cobrada_portafolio_cluster_ve"
   ]
  },
  {
   "cell_type": "markdown",
   "metadata": {
    "datalore": {
     "hide_input_from_viewers": false,
     "hide_output_from_viewers": false,
     "type": "MD"
    }
   },
   "source": [
    "#### 25.1.5 VentaFacturadaPortafolioClusterSub"
   ]
  },
  {
   "cell_type": "code",
   "execution_count": null,
   "metadata": {
    "datalore": {
     "hide_input_from_viewers": false,
     "hide_output_from_viewers": false,
     "type": "CODE"
    }
   },
   "outputs": [],
   "source": [
    "venta_real_cluster_consecutivo_ve = venta_recaudo_presupuesto_original_ve_real.groupby(['AreaCalculo', 'Cluster', 'Consecutivo', 'Fecha'], as_index=False).agg({'Venta': 'sum'})\n",
    "venta_real_cluster_consecutivo_ve.rename(columns={'Venta': 'Real'}, inplace=True)\n",
    "\n",
    "venta_presupuesto_cluster_consecutivo_ve = venta_recaudo_presupuesto_original_ve_presupuesto.groupby(['AreaCalculo', 'Cluster', 'Consecutivo', 'Fecha'], as_index=False).agg({'Venta': 'sum'})\n",
    "venta_presupuesto_cluster_consecutivo_ve.rename(columns={'Venta': 'Presupuesto'}, inplace=True)\n",
    "\n",
    "main = pd.merge(\n",
    "    left=venta_presupuesto_cluster_consecutivo_ve,\n",
    "    right=venta_real_cluster_consecutivo_ve,\n",
    "    on=['Cluster', 'AreaCalculo', 'Consecutivo', 'Fecha'],\n",
    "    how='left'\n",
    ")\n",
    "\n",
    "main['Real'].fillna(0.0, inplace=True)\n",
    "\n",
    "main['Real'] = main.groupby(['AreaCalculo', 'Cluster', 'Consecutivo', 'Fecha'])['Real'].transform(pd.Series.sum)\n",
    "main['Presupuesto'] = main.groupby(['AreaCalculo', 'Cluster', 'Consecutivo', 'Fecha'])['Presupuesto'].transform(pd.Series.sum)\n",
    "\n",
    "main['Consecutivo'] = main['Consecutivo'].astype('str')\n",
    "main['TipoEmpleado'] = 'VE'\n",
    "\n",
    "### Agrupación a nivel de empleado por zonas\n",
    "main = pd.merge(\n",
    "    df_clusters_empleado[['CodigoEmpleado', 'TipoEmpleado', 'AreaCalculo', 'Cluster']],\n",
    "    main,\n",
    "    on=['TipoEmpleado', 'AreaCalculo', 'Cluster'],\n",
    "    how='left'\n",
    ")\n",
    "\n",
    "main = pd.merge(\n",
    "    left=main,\n",
    "    right=df_empleados[['CodigoEmpleado', 'FechaIngreso']],\n",
    "    on=['CodigoEmpleado'],\n",
    "    how='left'\n",
    ")\n",
    "main = main[main['Fecha'] >= main['FechaIngreso']]\n",
    "main.drop(columns=['FechaIngreso'], inplace=True)\n",
    "\n",
    "main = main.groupby(['CodigoEmpleado', 'Consecutivo', 'Fecha'], as_index=False)[['Real', 'Presupuesto']].apply(sum)\n",
    "main.reset_index(inplace=True)\n",
    "\n",
    "# Variable solo de VCs y VEs #\n",
    "if len(codigos_ve_vc) > 0 and fecha_liquidacion >= '2022-03-01' and fecha_liquidacion <= '2022-12-01':\n",
    "    main = main[main['Fecha'] >= '2022-03-01']\n",
    "###\n",
    "\n",
    "main['Real'] = main.groupby(['CodigoEmpleado', 'Consecutivo'])['Real'].transform(pd.Series.cumsum)\n",
    "main['Presupuesto'] = main.groupby(['CodigoEmpleado', 'Consecutivo'])['Presupuesto'].transform(pd.Series.cumsum)\n",
    "main['PorcentajeCumplimiento'] = (main['Real']/main['Presupuesto']).apply(lambda x: round(x, 2))\n",
    "main['Variable'] = 'VentaFacturadaPortafolioClusterSub'\n",
    "\n",
    "### Cálculo de resultados cualitativos precargados\n",
    "main = dataframe_loader.sobreescribir_resultados_cualitativos(\n",
    "    main=main,\n",
    "    variable='VentaFacturadaPortafolioClusterSub',\n",
    "    columnas_extra=['CodigoEmpleado', 'Consecutivo'],\n",
    "    columnas_extra_merge=['CodigoEmpleado', 'Consecutivo']\n",
    ")\n",
    "###\n",
    "\n",
    "main['Contexto'] = main['CodigoEmpleado'] + '_' +  main['Consecutivo'].astype(int).astype('str')\n",
    "main = main[['Contexto', 'Variable', 'Fecha', 'Real', 'Presupuesto', 'PorcentajeCumplimiento']]\n",
    "###\n",
    "\n",
    "venta_facturada_portafolio_cluster_sub_ve = main.copy()\n",
    "main = None\n",
    "\n",
    "venta_facturada_portafolio_cluster_sub_ve"
   ]
  },
  {
   "cell_type": "markdown",
   "metadata": {
    "datalore": {
     "hide_input_from_viewers": false,
     "hide_output_from_viewers": false,
     "type": "MD"
    }
   },
   "source": [
    "### 25.2 Para GC "
   ]
  },
  {
   "cell_type": "code",
   "execution_count": null,
   "metadata": {
    "datalore": {
     "hide_input_from_viewers": false,
     "hide_output_from_viewers": false,
     "type": "CODE"
    }
   },
   "outputs": [],
   "source": [
    "area_calculo_sba_completo_gc = area_calculo_sba_completo[area_calculo_sba_completo['TipoEmpleado']=='GC']\n",
    "\n",
    "#Se halla la informacion de la venta y recaudo real de los representantes de ventas de los GC\n",
    "venta_recaudo_presupuesto_original_gc_real = area_calculo_sba_completo_gc.merge(\n",
    "    df_venta_recaudo_real[['Division', 'GrupoProducto', 'SBA', 'ZonaGeografica', 'Canal', 'Fecha', 'Venta', 'Recaudo']],\n",
    "    on=['Division', 'GrupoProducto', 'SBA']\n",
    ")\n",
    "\n",
    "#Se halla la informacion de la venta y recaudo presupuesto de los representantes de ventas de los GC\n",
    "venta_recaudo_presupuesto_original_gc_presupuesto = area_calculo_sba_completo_gc.merge(\n",
    "    df_venta_recaudo_presupuesto[['Division', 'GrupoProducto', 'SBA', 'ZonaGeografica', 'Canal', 'Fecha', 'Venta', 'Recaudo']],\n",
    "    on=['Division', 'GrupoProducto', 'SBA']\n",
    ")"
   ]
  },
  {
   "cell_type": "markdown",
   "metadata": {
    "datalore": {
     "hide_input_from_viewers": false,
     "hide_output_from_viewers": false,
     "type": "MD"
    }
   },
   "source": [
    "#### 25.2.1 VentaCobradaZonaHospitalarioSub"
   ]
  },
  {
   "cell_type": "code",
   "execution_count": null,
   "metadata": {
    "datalore": {
     "hide_input_from_viewers": false,
     "hide_output_from_viewers": false,
     "type": "CODE"
    }
   },
   "outputs": [],
   "source": [
    "recaudo_real_zona_sub_ch_gc = venta_recaudo_presupuesto_original_gc_real.query('Canal==\"Hospital\" or Canal==\"Distribuidor\" or Canal==\"Opl\" or Canal==\"Asegurador\" or Canal==\"Central De Mezcla\"')\n",
    "recaudo_real_zona_sub_ch_gc = recaudo_real_zona_sub_ch_gc.groupby(['AreaCalculo', 'ZonaGeografica', 'Consecutivo', 'Fecha'], as_index=False).agg({'Recaudo': 'sum'})\n",
    "recaudo_real_zona_sub_ch_gc.rename(columns={'Recaudo': 'Real'}, inplace=True)\n",
    "\n",
    "recaudo_presupuesto_zona_sub_ch_gc = venta_recaudo_presupuesto_original_gc_presupuesto.query('Canal==\"Hospital\" or Canal==\"Distribuidor\" or Canal==\"Opl\" or Canal==\"Asegurador\" or Canal==\"Central De Mezcla\"')\n",
    "recaudo_presupuesto_zona_sub_ch_gc = recaudo_presupuesto_zona_sub_ch_gc.groupby(['AreaCalculo', 'ZonaGeografica', 'Consecutivo', 'Fecha'], as_index=False).agg({'Recaudo': 'sum'})\n",
    "recaudo_presupuesto_zona_sub_ch_gc.rename(columns={'Recaudo': 'Presupuesto'}, inplace=True)\n",
    "\n",
    "main = pd.merge(\n",
    "    left=recaudo_presupuesto_zona_sub_ch_gc,\n",
    "    right=recaudo_real_zona_sub_ch_gc,\n",
    "    on=['ZonaGeografica', 'AreaCalculo', 'Consecutivo', 'Fecha'],\n",
    "    how='left'\n",
    ")\n",
    "\n",
    "main['Real'].fillna(0.0, inplace=True)\n",
    "\n",
    "main['Real'] = main.groupby(['AreaCalculo', 'ZonaGeografica', 'Consecutivo', 'Fecha'])['Real'].transform(pd.Series.sum)\n",
    "main['Presupuesto'] = main.groupby(['AreaCalculo', 'ZonaGeografica', 'Consecutivo', 'Fecha'])['Presupuesto'].transform(pd.Series.sum)\n",
    "\n",
    "main['Consecutivo'] = main['Consecutivo'].astype('str')\n",
    "main['TipoEmpleado'] = 'GC'\n",
    "\n",
    "### Agrupación a nivel de empleado por zonas\n",
    "main = pd.merge(\n",
    "    df_zonas_empleado[['CodigoEmpleado', 'TipoEmpleado', 'AreaCalculo', 'Zona']].rename(columns={'Zona': 'ZonaGeografica'}),\n",
    "    main,\n",
    "    on=['TipoEmpleado', 'AreaCalculo', 'ZonaGeografica'],\n",
    "    how='left'\n",
    ")\n",
    "main = main.groupby(['CodigoEmpleado', 'Consecutivo', 'Fecha'], as_index=False)[['Real', 'Presupuesto']].apply(sum)\n",
    "main.reset_index(inplace=True)\n",
    "main['Real'] = main.groupby(['CodigoEmpleado', 'Consecutivo'])['Real'].transform(pd.Series.cumsum)\n",
    "main['Presupuesto'] = main.groupby(['CodigoEmpleado', 'Consecutivo'])['Presupuesto'].transform(pd.Series.cumsum)\n",
    "main['PorcentajeCumplimiento'] = (main['Real']/main['Presupuesto']).apply(lambda x: round(x, 2))\n",
    "main['Variable'] = 'VentaCobradaZonaHospitalarioSub'\n",
    "###\n",
    "\n",
    "### Cálculo de resultados cualitativos precargados\n",
    "main = dataframe_loader.sobreescribir_resultados_cualitativos(\n",
    "    main=main,\n",
    "    variable='VentaCobradaZonaHospitalarioSub',\n",
    "    columnas_extra=['CodigoEmpleado', 'Consecutivo'], \n",
    "    columnas_extra_merge=['CodigoEmpleado', 'Consecutivo'],\n",
    "    pre_merge_lambda=pre_merge_venta_cobrada_zona_hospitalaria_sub\n",
    ")\n",
    "###\n",
    "\n",
    "main['Contexto'] = main['CodigoEmpleado'] + '_' +  main['Consecutivo'].astype(int).astype('str')\n",
    "main = main[['Contexto', 'Variable', 'Fecha', 'Real', 'Presupuesto', 'PorcentajeCumplimiento']]\n",
    "\n",
    "\n",
    "venta_cobrada_zona_hospitalario_sub_gc = main.copy()\n",
    "main = None\n",
    "resultado_cualitativos_variable = None\n",
    "\n",
    "venta_cobrada_zona_hospitalario_sub_gc"
   ]
  },
  {
   "cell_type": "markdown",
   "metadata": {
    "datalore": {
     "hide_input_from_viewers": false,
     "hide_output_from_viewers": false,
     "type": "MD"
    }
   },
   "source": [
    "### 25.3 Para GD"
   ]
  },
  {
   "cell_type": "code",
   "execution_count": null,
   "metadata": {
    "datalore": {
     "hide_input_from_viewers": false,
     "hide_output_from_viewers": false,
     "type": "CODE"
    }
   },
   "outputs": [],
   "source": [
    "area_calculo_sba_completo_gd = area_calculo_sba_completo[area_calculo_sba_completo['TipoEmpleado']=='GD']\n",
    "\n",
    "#Se halla la informacion de la venta y recaudo real de los representantes de ventas de los GD\n",
    "venta_recaudo_presupuesto_original_gd_real = area_calculo_sba_completo_gd.merge(\n",
    "    df_venta_recaudo_real[['Division', 'GrupoProducto', 'SBA', 'ZonaGeografica', 'Canal', 'Fecha', 'Venta', 'Recaudo']],\n",
    "    on=['Division', 'GrupoProducto', 'SBA']\n",
    ")\n",
    "\n",
    "#Se halla la informacion de la venta y recaudo presupuesto de los representantes de ventas de los GD\n",
    "venta_recaudo_presupuesto_original_gd_presupuesto = area_calculo_sba_completo_gd.merge(\n",
    "    df_venta_recaudo_presupuesto[['Division', 'GrupoProducto', 'SBA', 'ZonaGeografica', 'Canal', 'Fecha', 'Venta', 'Recaudo']],\n",
    "    on=['Division', 'GrupoProducto', 'SBA']\n",
    ")"
   ]
  },
  {
   "cell_type": "markdown",
   "metadata": {
    "datalore": {
     "hide_input_from_viewers": false,
     "hide_output_from_viewers": false,
     "type": "MD"
    }
   },
   "source": [
    "#### 25.3.1 VentaCobradaZonaHospitalarioSub"
   ]
  },
  {
   "cell_type": "code",
   "execution_count": null,
   "metadata": {
    "datalore": {
     "hide_input_from_viewers": false,
     "hide_output_from_viewers": false,
     "type": "CODE"
    }
   },
   "outputs": [],
   "source": [
    "recaudo_real_zona_sub_ch_gd = venta_recaudo_presupuesto_original_gd_real.query('Canal==\"Hospital\" or Canal==\"Distribuidor\" or Canal==\"Opl\" or Canal==\"Asegurador\" or Canal==\"Central De Mezcla\"')\n",
    "recaudo_real_zona_sub_ch_gd = recaudo_real_zona_sub_ch_gd.groupby(['AreaCalculo', 'ZonaGeografica', 'Consecutivo', 'Fecha'], as_index=False).agg({'Recaudo': 'sum'})\n",
    "recaudo_real_zona_sub_ch_gd.rename(columns={'Recaudo': 'Real'}, inplace=True)\n",
    "\n",
    "recaudo_presupuesto_zona_sub_ch_gd = venta_recaudo_presupuesto_original_gd_presupuesto.query('Canal==\"Hospital\" or Canal==\"Distribuidor\" or Canal==\"Opl\" or Canal==\"Asegurador\" or Canal==\"Central De Mezcla\"')\n",
    "recaudo_presupuesto_zona_sub_ch_gd = recaudo_presupuesto_zona_sub_ch_gd.groupby(['AreaCalculo', 'ZonaGeografica', 'Consecutivo', 'Fecha'], as_index=False).agg({'Recaudo': 'sum'})\n",
    "recaudo_presupuesto_zona_sub_ch_gd.rename(columns={'Recaudo': 'Presupuesto'}, inplace=True)\n",
    "\n",
    "main = pd.merge(\n",
    "    left=recaudo_presupuesto_zona_sub_ch_gd,\n",
    "    right=recaudo_real_zona_sub_ch_gd,\n",
    "    on=['ZonaGeografica', 'AreaCalculo', 'Consecutivo', 'Fecha'],\n",
    "    how='left'\n",
    ")\n",
    "\n",
    "main['Real'].fillna(0.0, inplace=True)\n",
    "\n",
    "main['Real'] = main.groupby(['AreaCalculo', 'ZonaGeografica', 'Consecutivo', 'Fecha'])['Real'].transform(pd.Series.sum)\n",
    "main['Presupuesto'] = main.groupby(['AreaCalculo', 'ZonaGeografica', 'Consecutivo', 'Fecha'])['Presupuesto'].transform(pd.Series.sum)\n",
    "\n",
    "main['Consecutivo'] = main['Consecutivo'].astype('str')\n",
    "main['TipoEmpleado'] = 'GD'\n",
    "\n",
    "### Agrupación a nivel de empleado por zonas\n",
    "main = pd.merge(\n",
    "    df_zonas_empleado[['CodigoEmpleado', 'TipoEmpleado', 'AreaCalculo', 'Zona']].rename(columns={'Zona': 'ZonaGeografica'}),\n",
    "    main,\n",
    "    on=['TipoEmpleado', 'AreaCalculo', 'ZonaGeografica'],\n",
    "    how='left'\n",
    ")\n",
    "main = main.groupby(['CodigoEmpleado', 'Consecutivo', 'Fecha'], as_index=False)[['Real', 'Presupuesto']].apply(sum)\n",
    "main.reset_index(inplace=True)\n",
    "main['Real'] = main.groupby(['CodigoEmpleado', 'Consecutivo'])['Real'].transform(pd.Series.cumsum)\n",
    "main['Presupuesto'] = main.groupby(['CodigoEmpleado', 'Consecutivo'])['Presupuesto'].transform(pd.Series.cumsum)\n",
    "main['PorcentajeCumplimiento'] = (main['Real']/main['Presupuesto']).apply(lambda x: round(x, 2))\n",
    "main['Variable'] = 'VentaCobradaZonaHospitalarioSub'\n",
    "###\n",
    "\n",
    "### Cálculo de resultados cualitativos precargados\n",
    "main = dataframe_loader.sobreescribir_resultados_cualitativos(\n",
    "    main=main,\n",
    "    variable='VentaCobradaZonaHospitalarioSub',\n",
    "    columnas_extra=['CodigoEmpleado', 'Consecutivo'], \n",
    "    columnas_extra_merge=['CodigoEmpleado', 'Consecutivo'],\n",
    "    pre_merge_lambda=pre_merge_venta_cobrada_zona_hospitalaria_sub\n",
    ")\n",
    "###\n",
    "\n",
    "main['Contexto'] = main['CodigoEmpleado'] + '_' +  main['Consecutivo'].astype(int).astype('str')\n",
    "main = main[['Contexto', 'Variable', 'Fecha', 'Real', 'Presupuesto', 'PorcentajeCumplimiento']]\n",
    "\n",
    "venta_cobrada_zona_hospitalario_sub_gd = main.copy()\n",
    "main = None\n",
    "\n",
    "venta_cobrada_zona_hospitalario_sub_gd"
   ]
  },
  {
   "cell_type": "markdown",
   "metadata": {
    "datalore": {
     "hide_input_from_viewers": false,
     "hide_output_from_viewers": false,
     "type": "MD"
    }
   },
   "source": [
    "\n",
    "## 26. Venta Facturada Nacional Canal Hospitalario (VentaFacturadaPaisHospitalario)"
   ]
  },
  {
   "cell_type": "code",
   "execution_count": null,
   "metadata": {
    "datalore": {
     "hide_input_from_viewers": false,
     "hide_output_from_viewers": false,
     "type": "CODE"
    }
   },
   "outputs": [],
   "source": [
    "# Preparar\n",
    "main = df_zona_plan_real_venta_ch.copy()\n",
    "main = main.drop(columns=['Zona'])\n",
    "\n",
    "# Calcular\n",
    "main = main.groupby(['Fecha'], as_index=True)[['Real', 'Presupuesto']].apply(sum)\n",
    "main['Real'] = main['Real'].transform(pd.Series.cumsum)\n",
    "main['Presupuesto'] = main['Presupuesto'].transform(pd.Series.cumsum)\n",
    "main['PorcentajeCumplimiento'] = (main['Real']/main['Presupuesto']).apply(lambda x: round(x, 2))\n",
    "main['Variable'] = 'VentaFacturadaPaisHospitalario'\n",
    "\n",
    "# Formatear\n",
    "main.reset_index(inplace=True)\n",
    "main['Contexto']= 'BBMCO'\n",
    "main = main[['Contexto', 'Variable', 'Fecha', 'Real', 'Presupuesto', 'PorcentajeCumplimiento']]\n",
    "\n",
    "# Limpiar\n",
    "venta_facturada_pais_ch = main.copy()\n",
    "main = None\n",
    "venta_facturada_pais_ch"
   ]
  },
  {
   "cell_type": "markdown",
   "metadata": {
    "datalore": {
     "hide_input_from_viewers": false,
     "hide_output_from_viewers": false,
     "type": "MD"
    }
   },
   "source": [
    "## 27. Venta Facturada Zona Hospitalario (VentaFacturadaZonaHospitalario)"
   ]
  },
  {
   "cell_type": "code",
   "execution_count": null,
   "metadata": {
    "datalore": {
     "hide_input_from_viewers": false,
     "hide_output_from_viewers": false,
     "type": "CODE"
    }
   },
   "outputs": [],
   "source": [
    "# Preparar\n",
    "main = df_zona_plan_real_venta_ch.copy()\n",
    "\n",
    "# Calcular\n",
    "main = main.groupby(['Fecha', 'Zona'], as_index=True)[['Real', 'Presupuesto']].apply(sum)\n",
    "main['Real'] = main.groupby(['Zona'])['Real'].transform(pd.Series.cumsum)\n",
    "main['Presupuesto'] = main.groupby(['Zona'])['Presupuesto'].transform(pd.Series.cumsum)\n",
    "main['PorcentajeCumplimiento'] = (main['Real']/main['Presupuesto']).apply(lambda x: round(x, 2))\n",
    "main['Variable'] = 'VentaFacturadaZonaHospitalario'\n",
    "\n",
    "# Formatear\n",
    "main.reset_index(inplace=True)\n",
    "main.rename(columns={'Zona': 'Contexto'}, inplace=True)\n",
    "main = main[['Contexto', 'Variable', 'Fecha', 'Real', 'Presupuesto', 'PorcentajeCumplimiento']]\n",
    "\n",
    "# Limpiar\n",
    "venta_facturada_zona_ch = main.copy()\n",
    "main = None\n",
    "venta_facturada_zona_ch"
   ]
  },
  {
   "cell_type": "markdown",
   "metadata": {
    "datalore": {
     "hide_input_from_viewers": false,
     "hide_output_from_viewers": false,
     "type": "MD"
    }
   },
   "source": [
    "## 28. Rentabilidad Zona Hospitalario CM2 (RentabilidadZonaHospitalarioCM2)"
   ]
  },
  {
   "cell_type": "code",
   "execution_count": null,
   "metadata": {
    "datalore": {
     "hide_input_from_viewers": false,
     "hide_output_from_viewers": false,
     "type": "CODE"
    }
   },
   "outputs": [],
   "source": [
    "main = df_rentabilidad_zona.copy()\n",
    "\n",
    "# Calcular\n",
    "main = main.groupby(['Zona', 'Fecha'], as_index =False)[['Real', 'Presupuesto']].apply(sum)\n",
    "main['PorcentajeCumplimiento'] = (main['Real'] / main['Presupuesto']).apply(lambda x: round(x, 2))\n",
    "main['Variable'] = 'RentabilidadZonaHospitalarioCM2'\n",
    "\n",
    "#Formatear\n",
    "main.reset_index(inplace=True)\n",
    "main.rename(columns={'Zona': 'Contexto'}, inplace=True)\n",
    "main = main[['Contexto', 'Variable', 'Fecha', 'Real', 'Presupuesto', 'PorcentajeCumplimiento']]\n",
    "\n",
    "# Zona - Fecha - Rentabilidad\n",
    "\n",
    "# No hay datos\n",
    "\n",
    "rentabilidad_zona_hospitalario_cm2 =  main.copy()\n",
    "main = None\n",
    "rentabilidad_zona_hospitalario_cm2"
   ]
  },
  {
   "cell_type": "markdown",
   "metadata": {
    "datalore": {
     "hide_input_from_viewers": false,
     "hide_output_from_viewers": false,
     "type": "MD"
    }
   },
   "source": [
    "## 29. Venta Facturada Braun País (VentaFacturadaBraunPais)"
   ]
  },
  {
   "cell_type": "code",
   "execution_count": null,
   "metadata": {
    "datalore": {
     "hide_input_from_viewers": false,
     "hide_output_from_viewers": false,
     "type": "CODE"
    }
   },
   "outputs": [],
   "source": [
    "# VentaRecaudoReal (venta)\n",
    "# VentaRecaudoPresupuesto (venta)\n",
    "\n",
    "# Preparar\n",
    "drop_cols = ['Recaudo', 'Division', 'Cluster','CodigoEmpleado', 'ZonaGeografica','GrupoProducto', 'Canal', 'SBA']\n",
    "real = df_venta_recaudo_real.copy().drop(columns=drop_cols)\n",
    "ppto = df_venta_recaudo_presupuesto.copy().drop(columns=drop_cols)\n",
    "\n",
    "# Sumamos los registros que tienen el mismo conexto para que exista un solo registro\n",
    "ppto = ppto.groupby(['Fecha'], as_index=True)[['Venta']].apply(sum)\n",
    "real = real.groupby(['Fecha'], as_index=True)[['Venta']].apply(sum)\n",
    "ppto.reset_index(inplace=True)\n",
    "real.reset_index(inplace=True)\n",
    "\n",
    "main = ppto.rename(columns={'Venta': 'Presupuesto'}).merge(\n",
    "    real.rename(columns={'Venta': 'Real'}),\n",
    "    on=['Fecha'],\n",
    "    how='left'\n",
    ")\n",
    "main['Real'].fillna(0, inplace=True)\n",
    "\n",
    "\n",
    "# Calcular\n",
    "main['Contexto']= 'BBMCO'\n",
    "main = main.groupby(['Contexto', 'Fecha'], as_index=False)[['Real', 'Presupuesto']].apply(sum)\n",
    "main['Real'] = main.groupby(['Contexto'])['Real'].transform(pd.Series.cumsum)\n",
    "main['Presupuesto'] = main.groupby(['Contexto'])['Presupuesto'].transform(pd.Series.cumsum)\n",
    "main['PorcentajeCumplimiento'] = (main['Real']/main['Presupuesto']).apply(lambda x: round(x, 2))\n",
    "main['Variable'] = 'VentaFacturadaBraunPais'\n",
    "\n",
    "\n",
    "#Formatear\n",
    "main.reset_index(inplace=True)\n",
    "main = main[['Contexto', 'Variable', 'Fecha', 'Real', 'Presupuesto', 'PorcentajeCumplimiento']]\n",
    "\n",
    "\n",
    "venta_facturada_braun_pais = main.copy()\n",
    "main = None\n",
    "venta_facturada_braun_pais"
   ]
  },
  {
   "cell_type": "markdown",
   "metadata": {
    "datalore": {
     "hide_input_from_viewers": false,
     "hide_output_from_viewers": false,
     "type": "MD"
    }
   },
   "source": [
    "## 30. Rentabilidad Compañía CM3 (RentabilidadCompaniaCM3)"
   ]
  },
  {
   "cell_type": "code",
   "execution_count": null,
   "metadata": {
    "datalore": {
     "hide_input_from_viewers": false,
     "hide_output_from_viewers": false,
     "type": "CODE"
    }
   },
   "outputs": [],
   "source": [
    "# Rentabilidad Real / Presupuesto\n",
    "# Filtar paras CM3 compañía BBMCO\n",
    "# Totalizar nivel país\n",
    "\n",
    "main = df_rentabilidad.copy()\n",
    "main.query('Compania == \"BBMCO\" and ClaseRentabilidad == \"CMIII\"', inplace=True)\n",
    "main.drop(columns=['GrupoProducto', 'SBA', 'ClaseRentabilidad'], inplace=True)\n",
    "main = main.groupby(['Compania', 'Fecha'], as_index=False)[['Real', 'Presupuesto']].apply(sum)\n",
    "\n",
    "main['PorcentajeCumplimiento'] = (main['Real']/main['Presupuesto']).apply(lambda x: round(x, 2))\n",
    "main['Variable'] = 'RentabilidadCompaniaCM3'\n",
    "\n",
    "\n",
    "#Formatear\n",
    "main.reset_index(inplace=True)\n",
    "main.rename(columns={'Compania':'Contexto'}, inplace=True)\n",
    "main = main[['Contexto', 'Variable', 'Fecha', 'Real', 'Presupuesto', 'PorcentajeCumplimiento']]\n",
    "\n",
    "rentabilidad_compania_cm3 = main.copy()\n",
    "main= None\n",
    "rentabilidad_compania_cm3"
   ]
  },
  {
   "cell_type": "markdown",
   "metadata": {
    "datalore": {
     "hide_input_from_viewers": false,
     "hide_output_from_viewers": false,
     "type": "MD"
    }
   },
   "source": [
    "## 31. Venta Facturada Grupo clientes (KAM) VentaFacturadaGrupoClientesKAMS "
   ]
  },
  {
   "cell_type": "code",
   "execution_count": null,
   "metadata": {},
   "outputs": [],
   "source": [
    "df_venta_recaudo_kams"
   ]
  },
  {
   "cell_type": "code",
   "execution_count": null,
   "metadata": {
    "datalore": {
     "hide_input_from_viewers": false,
     "hide_output_from_viewers": false,
     "type": "CODE"
    }
   },
   "outputs": [],
   "source": [
    "main = df_venta_recaudo_kams.drop(columns=['RecaudoReal', 'RecaudoPresupuesto'])\n",
    "main.rename(columns={'VentaReal': 'Real', 'VentaPresupuesto':'Presupuesto'}, inplace=True)\n",
    "\n",
    "main = main.groupby(['TipoEmpleado', 'AreaCalculo', 'Fecha'], as_index=False)[['Real', 'Presupuesto']].apply(sum)\n",
    "\n",
    "main.reset_index(inplace=True)\n",
    "main['Real'] = main.groupby(['TipoEmpleado', 'AreaCalculo'])['Real'].transform(pd.Series.cumsum)\n",
    "main['Presupuesto'] = main.groupby(['TipoEmpleado', 'AreaCalculo'])['Presupuesto'].transform(pd.Series.cumsum)\n",
    "\n",
    "main['Contexto'] = main['TipoEmpleado'].str.lower() + '_' +  main['AreaCalculo'].astype(int).astype('str')\n",
    "main['Variable'] = 'VentaFacturadaGrupoClientesKAMS'\n",
    "main['PorcentajeCumplimiento'] = (main['Real']/main['Presupuesto']).apply(lambda x: round(x, 2))\n",
    "main = main[['Contexto', 'Variable', 'Fecha', 'Real', 'Presupuesto', 'PorcentajeCumplimiento']]\n",
    "\n",
    "venta_facturada_grupo_clientes_kams = main\n",
    "main = None\n",
    "venta_facturada_grupo_clientes_kams\n",
    "\n",
    "# Contexto: TipoEmpleado_AreaCalculo"
   ]
  },
  {
   "cell_type": "code",
   "execution_count": null,
   "metadata": {},
   "outputs": [],
   "source": [
    "venta_facturada_grupo_clientes_kams[\n",
    "    (venta_facturada_grupo_clientes_kams['Contexto'] == 'kam_2')\n",
    "]"
   ]
  },
  {
   "cell_type": "markdown",
   "metadata": {
    "datalore": {
     "hide_input_from_viewers": false,
     "hide_output_from_viewers": false,
     "type": "MD"
    }
   },
   "source": [
    "## 32. Venta Cobrada Grupo clientes (KAM) VentaCobradaGrupoClientesKAMSSub"
   ]
  },
  {
   "cell_type": "code",
   "execution_count": null,
   "metadata": {},
   "outputs": [],
   "source": [
    "df_venta_recaudo_kams.head()"
   ]
  },
  {
   "cell_type": "code",
   "execution_count": null,
   "metadata": {
    "datalore": {
     "hide_input_from_viewers": false,
     "hide_output_from_viewers": false,
     "type": "CODE"
    }
   },
   "outputs": [],
   "source": [
    "main = df_venta_recaudo_kams.drop(columns=['VentaReal', 'VentaPresupuesto'])\n",
    "main.rename(columns={'RecaudoReal': 'Real', 'RecaudoPresupuesto':'Presupuesto'}, inplace=True)\n",
    "main"
   ]
  },
  {
   "cell_type": "code",
   "execution_count": null,
   "metadata": {},
   "outputs": [],
   "source": [
    "main = main.groupby(['TipoEmpleado', 'AreaCalculo', 'Consecutivo', 'Fecha'], as_index=False)[['Real', 'Presupuesto']].apply(sum)\n",
    "main.reset_index(inplace=True)\n",
    "main['Real'] = main.groupby(['TipoEmpleado', 'AreaCalculo', 'Consecutivo'])['Real'].transform(pd.Series.cumsum)\n",
    "main['Presupuesto'] = main.groupby(['TipoEmpleado', 'AreaCalculo', 'Consecutivo'])['Presupuesto'].transform(pd.Series.cumsum)\n",
    "\n",
    "main['Contexto'] = main['TipoEmpleado'].str.lower() + '_' +  main['AreaCalculo'].astype(int).astype('str') + '_'+ main['Consecutivo'].astype(int).astype('str')\n",
    "main['Variable'] = 'VentaCobradaGrupoClientesKAMSSub'\n",
    "main['PorcentajeCumplimiento'] = (main['Real']/main['Presupuesto']).apply(lambda x: round(x, 2))\n",
    "main = main[['Contexto', 'Variable', 'Fecha', 'Real', 'Presupuesto', 'PorcentajeCumplimiento']]\n",
    "\n",
    "venta_cobrada_grupo_clientes_kams_sub = main\n",
    "main = None\n",
    "venta_cobrada_grupo_clientes_kams_sub\n",
    "\n",
    "# Contexto: TipoEmpleado_AreaCalculo_Consecutivo"
   ]
  },
  {
   "cell_type": "markdown",
   "metadata": {
    "datalore": {
     "hide_input_from_viewers": false,
     "hide_output_from_viewers": false,
     "type": "MD"
    }
   },
   "source": [
    "## 33. KPIs Surgical"
   ]
  },
  {
   "cell_type": "code",
   "execution_count": null,
   "metadata": {
    "datalore": {
     "hide_input_from_viewers": false,
     "hide_output_from_viewers": false,
     "type": "CODE"
    }
   },
   "outputs": [],
   "source": [
    "### Cálculo de resultados cualitativos precargados\n",
    "main = df_resultados_variables_cualitativas[df_resultados_variables_cualitativas['Variable'] == 'KpisSurgical'].copy()\n",
    "main['Contexto'] = main['CodigoEmpleado'].str.lower() + '_' + main['Consecutivo'].astype(int).astype('str')\n",
    "main['Real'] = np.nan\n",
    "main['Presupuesto'] = np.nan\n",
    "main = main[['Contexto', 'Variable', 'Fecha', 'Real', 'Presupuesto', 'PorcentajeCumplimiento']]\n",
    "###\n",
    "kpis_surgical = main\n",
    "main = None\n",
    "kpis_surgical"
   ]
  },
  {
   "cell_type": "markdown",
   "metadata": {},
   "source": [
    "# Nuevos rubros 2023"
   ]
  },
  {
   "cell_type": "markdown",
   "metadata": {},
   "source": [
    "## 34. VentaCobradaPortafolioZonaClusterSub"
   ]
  },
  {
   "cell_type": "code",
   "execution_count": null,
   "metadata": {},
   "outputs": [],
   "source": [
    "df_area_calculo_sba_centros_costos_ve = df_area_calculo_sba_centros_costos[\n",
    "    df_area_calculo_sba_centros_costos['TipoEmpleado'] == 'VE'\n",
    "]\n",
    "df_area_calculo_sba_centros_costos_ve =  df_area_calculo_sba_centros_costos_ve.rename(columns={'ConsecutivoParrilla':'Consecutivo'})\n",
    "\n",
    "df_area_calculo_sba_centros_costos_ve.info()"
   ]
  },
  {
   "cell_type": "code",
   "execution_count": null,
   "metadata": {},
   "outputs": [],
   "source": [
    "area_calculo_sba_completo_ve = area_calculo_sba_completo[area_calculo_sba_completo['TipoEmpleado'] == 'VE']\n",
    "area_calculo_sba_completo_ve.info()"
   ]
  },
  {
   "cell_type": "code",
   "execution_count": null,
   "metadata": {},
   "outputs": [],
   "source": [
    "area_calculo_sba_completo_ve.merge(\n",
    "    df_area_calculo_sba_centros_costos_ve.fillna(''),\n",
    "    on=['AreaCalculo', 'Consecutivo', 'Division','GrupoProducto', 'SBA','TipoEmpleado'],\n",
    "    how='left'\n",
    ").head()"
   ]
  },
  {
   "cell_type": "code",
   "execution_count": null,
   "metadata": {},
   "outputs": [],
   "source": [
    "df_area_calculo_sba_centros_costos_ve = area_calculo_sba_completo_ve.merge(\n",
    "    df_centros_costos_grupos_productos_divisiones,\n",
    "    on=['Division','GrupoProducto'],\n",
    "    how='left'\n",
    ")\n",
    "df_area_calculo_sba_centros_costos_ve"
   ]
  },
  {
   "cell_type": "code",
   "execution_count": null,
   "metadata": {},
   "outputs": [],
   "source": [
    "venta_recaudo_presupuesto_original_ve_real.head()"
   ]
  },
  {
   "cell_type": "markdown",
   "metadata": {},
   "source": [
    "### Merge entre area de cálculo SBA y Venta Recaudo Presupuesto"
   ]
  },
  {
   "cell_type": "code",
   "execution_count": null,
   "metadata": {},
   "outputs": [],
   "source": [
    "# Se remplaza lógica de área de cálculo SBA\n",
    "# drop_cols = ['Canal', 'TipoEmpleado','Venta']\n",
    "# venta_recaudo_presupuesto_original_ve_real_zona_cluster = pd.merge(\n",
    "#     left=area_calculo_sba_completo_ve,\n",
    "#     right=venta_recaudo_presupuesto_original_ve_real,\n",
    "#     on=['AreaCalculo', 'Consecutivo', 'Division','GrupoProducto', 'SBA', 'TipoEmpleado'],\n",
    "#     how='left'\n",
    "# )\n",
    "\n",
    "# venta_recaudo_presupuesto_original_ve_real_zona_cluster"
   ]
  },
  {
   "cell_type": "code",
   "execution_count": null,
   "metadata": {},
   "outputs": [],
   "source": [
    "drop_cols = ['Canal', 'TipoEmpleado','Venta']\n",
    "venta_recaudo_presupuesto_original_ve_real_zona_cluster = pd.merge(\n",
    "    left=df_area_calculo_sba_centros_costos_ve,\n",
    "    right=venta_recaudo_presupuesto_original_ve_real,\n",
    "    on=['AreaCalculo', 'Consecutivo', 'Division','GrupoProducto', 'SBA','TipoEmpleado'],\n",
    "    how='left'\n",
    ")\n",
    "\n",
    "venta_recaudo_presupuesto_original_ve_real_zona_cluster"
   ]
  },
  {
   "cell_type": "markdown",
   "metadata": {},
   "source": [
    "### Merge entre area de cálculo SBA y Venta Recaudo Presupuesto y Empleado"
   ]
  },
  {
   "cell_type": "code",
   "execution_count": null,
   "metadata": {},
   "outputs": [],
   "source": [
    "# Se remplaza lógica de área de cálculo SBA\n",
    "# venta_recaudo_presupuesto_original_ve_presupuesto_zona_cluster = pd.merge(\n",
    "#     left=area_calculo_sba_completo_ve,\n",
    "#     right=venta_recaudo_presupuesto_original_ve_presupuesto,\n",
    "#     on=['AreaCalculo', 'Consecutivo', 'Division','GrupoProducto', 'SBA', 'TipoEmpleado'],\n",
    "#     how='left'\n",
    "# )\n",
    "# venta_recaudo_presupuesto_original_ve_presupuesto_zona_cluster"
   ]
  },
  {
   "cell_type": "code",
   "execution_count": null,
   "metadata": {},
   "outputs": [],
   "source": [
    "venta_recaudo_presupuesto_original_ve_presupuesto_zona_cluster = pd.merge(\n",
    "    left=df_area_calculo_sba_centros_costos_ve, \n",
    "    right=venta_recaudo_presupuesto_original_ve_presupuesto,\n",
    "    on=['AreaCalculo', 'Consecutivo', 'Division','GrupoProducto', 'SBA','TipoEmpleado'],\n",
    "    how='left'\n",
    ")\n",
    "venta_recaudo_presupuesto_original_ve_presupuesto_zona_cluster"
   ]
  },
  {
   "cell_type": "code",
   "execution_count": null,
   "metadata": {},
   "outputs": [],
   "source": [
    "recaudo_real_zona_ve = venta_recaudo_presupuesto_original_ve_real_zona_cluster.groupby(['AreaCalculo', 'ZonaGeografica', 'Fecha','Cluster','Consecutivo', 'Division','GrupoProducto', 'CodigoCentroCosto'], as_index=False).agg({'Recaudo': 'sum'})\n",
    "recaudo_real_zona_ve.rename(columns={'Recaudo': 'Real'}, inplace=True)\n",
    "recaudo_real_zona_ve"
   ]
  },
  {
   "cell_type": "code",
   "execution_count": null,
   "metadata": {},
   "outputs": [],
   "source": [
    "recaudo_presupuesto_zona_ve = venta_recaudo_presupuesto_original_ve_presupuesto_zona_cluster.groupby(['AreaCalculo', 'ZonaGeografica', 'Fecha','Cluster','Consecutivo', 'Division','GrupoProducto', 'CodigoCentroCosto'], as_index=False).agg({'Recaudo': 'sum'})\n",
    "recaudo_presupuesto_zona_ve.rename(columns={'Recaudo': 'Presupuesto'}, inplace=True)\n",
    "recaudo_presupuesto_zona_ve"
   ]
  },
  {
   "cell_type": "code",
   "execution_count": null,
   "metadata": {},
   "outputs": [],
   "source": [
    "# recaudo_real_zona_ve = venta_recaudo_presupuesto_original_ve_real_zona_cluster.groupby(['AreaCalculo', 'ZonaGeografica', 'Fecha','Cluster', 'Consecutivo'], as_index=False).agg({'Recaudo': 'sum'})\n",
    "# recaudo_real_zona_ve.rename(columns={'Recaudo': 'Real'}, inplace=True)\n",
    "\n",
    "# recaudo_presupuesto_zona_ve = venta_recaudo_presupuesto_original_ve_presupuesto_zona_cluster.groupby(['AreaCalculo', 'ZonaGeografica', 'Fecha','Cluster', 'Consecutivo'], as_index=False).agg({'Recaudo': 'sum'})\n",
    "# recaudo_presupuesto_zona_ve.rename(columns={'Recaudo': 'Presupuesto'}, inplace=True)\n",
    "\n",
    "main = pd.merge(\n",
    "    left=recaudo_presupuesto_zona_ve,\n",
    "    right=recaudo_real_zona_ve,\n",
    "    on=['ZonaGeografica', 'AreaCalculo', 'Fecha','Cluster', 'Consecutivo', 'GrupoProducto', 'Division', 'CodigoCentroCosto'],\n",
    "    how='left'\n",
    ")\n",
    "\n",
    "main['Real'].fillna(0.0, inplace=True)\n",
    "\n",
    "main"
   ]
  },
  {
   "cell_type": "code",
   "execution_count": null,
   "metadata": {},
   "outputs": [],
   "source": [
    "# main['Real'] = main.groupby(['AreaCalculo', 'ZonaGeografica', 'Fecha','Cluster', 'Consecutivo'])['Real'].transform(pd.Series.sum)\n",
    "# main['Presupuesto'] = main.groupby(['AreaCalculo', 'ZonaGeografica', 'Fecha','Cluster', 'Consecutivo'])['Presupuesto'].transform(pd.Series.sum)\n",
    "main['TipoEmpleado'] = 'VE'\n",
    "\n",
    "### Agrupación a nivel de empleado por zonas\n",
    "\n",
    "main = pd.merge(\n",
    "    main,\n",
    "    df_zonas_clusters_empleado[['CodigoEmpleado', 'TipoEmpleado', 'AreaCalculo', 'Zona', 'Cluster']].rename(columns={'Zona': 'ZonaGeografica'}),\n",
    "    on=['TipoEmpleado', 'AreaCalculo', 'ZonaGeografica', 'Cluster'],\n",
    "    how='left'\n",
    ")\n",
    "\n",
    "main = pd.merge(\n",
    "    main,\n",
    "    df_empleados[['CodigoEmpleado', 'FechaIngreso']],\n",
    "    on='CodigoEmpleado',\n",
    "    how='left'\n",
    ")\n",
    "\n",
    "main = main[main['Fecha'] >= main['FechaIngreso']]\n",
    "main"
   ]
  },
  {
   "cell_type": "code",
   "execution_count": null,
   "metadata": {},
   "outputs": [],
   "source": [
    "venta_cobrada_portafolio_zona_cluster_sub_centro_costo = dataframe_loader.f_calculo_centro_costo_variable(main, 'VentaCobradaPortafolioZonaClusterSub')\n",
    "venta_cobrada_portafolio_zona_cluster_sub_centro_costo"
   ]
  },
  {
   "cell_type": "code",
   "execution_count": null,
   "metadata": {},
   "outputs": [],
   "source": [
    "# main['Real'] = main.groupby(['AreaCalculo', 'ZonaGeografica', 'Fecha','Cluster', 'Consecutivo'])['Real'].transform(pd.Series.sum)\n",
    "# main['Presupuesto'] = main.groupby(['AreaCalculo', 'ZonaGeografica', 'Fecha','Cluster', 'Consecutivo'])['Presupuesto'].transform(pd.Series.sum)\n",
    "\n",
    "main = main.groupby(['CodigoEmpleado', 'Fecha', 'Consecutivo'], as_index=False)[['Real', 'Presupuesto']].apply(sum)\n",
    "main.reset_index(inplace=True)\n",
    "\n",
    "# Variable solo de VCs y VEs #\n",
    "if len(codigos_ve_vc) > 0 and fecha_liquidacion >= '2022-03-01' and fecha_liquidacion <= '2022-12-01':\n",
    "    main = main[main['Fecha'] >= '2022-03-01']\n",
    "###\n",
    "\n",
    "main['Contexto'] = main['CodigoEmpleado'] + '_' +  main['Consecutivo'].astype(int).astype('str')\n",
    "\n",
    "main['Real'] = main.groupby(['Contexto'])['Real'].transform(pd.Series.cumsum)\n",
    "main['Presupuesto'] = main.groupby(['Contexto'])['Presupuesto'].transform(pd.Series.cumsum)\n",
    "main['PorcentajeCumplimiento'] = (main['Real']/main['Presupuesto']).apply(lambda x: round(x, 2))\n",
    "main['Variable'] = 'VentaCobradaPortafolioZonaClusterSub'\n",
    "# main['Contexto'] = main['CodigoEmpleado']\n",
    "main = main[['Contexto', 'Variable', 'Fecha', 'Real', 'Presupuesto', 'PorcentajeCumplimiento']]\n",
    "###\n",
    "\n",
    "venta_cobrada_portafolio_zona_cluster_sub = main.copy()\n",
    "main = None\n",
    "\n",
    "venta_cobrada_portafolio_zona_cluster_sub.head()"
   ]
  },
  {
   "cell_type": "code",
   "execution_count": null,
   "metadata": {
    "scrolled": true
   },
   "outputs": [],
   "source": [
    "venta_cobrada_portafolio_zona_cluster_sub[\n",
    "    venta_cobrada_portafolio_zona_cluster_sub['Contexto'].str.contains('1060654227')\n",
    "]"
   ]
  },
  {
   "cell_type": "code",
   "execution_count": null,
   "metadata": {},
   "outputs": [],
   "source": []
  },
  {
   "cell_type": "code",
   "execution_count": null,
   "metadata": {},
   "outputs": [],
   "source": []
  },
  {
   "cell_type": "markdown",
   "metadata": {},
   "source": [
    "## 35. VentaCobradaUnidadNegocioSub"
   ]
  },
  {
   "cell_type": "code",
   "execution_count": null,
   "metadata": {},
   "outputs": [],
   "source": [
    "# main = None\n",
    "\n",
    "# venta_cobrada_portafolio_cluster_sub = main\n",
    "# main = None\n",
    "# venta_cobrada_portafolio_cluster_sub\n",
    "\n",
    "# # Contexto: "
   ]
  },
  {
   "cell_type": "markdown",
   "metadata": {},
   "source": [
    "## 36. VentaCobradaZonaPaisSub"
   ]
  },
  {
   "cell_type": "code",
   "execution_count": null,
   "metadata": {},
   "outputs": [],
   "source": [
    "area_calculo_sba_completo_gc = area_calculo_sba_completo[\n",
    "    (area_calculo_sba_completo['TipoEmpleado'] == 'GC') |\n",
    "    (area_calculo_sba_completo['TipoEmpleado'] == 'GD')\n",
    "]\n",
    "\n",
    "area_calculo_sba_completo_gc_without_dup = area_calculo_sba_completo_gc[['TipoEmpleado','Consecutivo', 'Division']].drop_duplicates()\n",
    "area_calculo_sba_completo_gc_without_dup.head()"
   ]
  },
  {
   "cell_type": "markdown",
   "metadata": {},
   "source": [
    "### Se hace merge entre area de cálculo por GC y Venta Recaudo"
   ]
  },
  {
   "cell_type": "code",
   "execution_count": null,
   "metadata": {},
   "outputs": [],
   "source": [
    "drop_cols = ['Venta'] #'GrupoProducto', 'SBA'\n",
    "recaudo_real_zona_gc = pd.merge(\n",
    "    left=area_calculo_sba_completo_gc_without_dup,\n",
    "    right=df_venta_recaudo_real,\n",
    "    on=['Division'],\n",
    "    how='left'\n",
    ")\n",
    "recaudo_real_zona_gc = recaudo_real_zona_gc.dropna(subset=['ZonaGeografica']).drop(columns=drop_cols)\n",
    "recaudo_real_zona_gc.rename(columns={'Recaudo': 'Real'}, inplace=True)\n",
    "recaudo_real_zona_gc"
   ]
  },
  {
   "cell_type": "code",
   "execution_count": null,
   "metadata": {},
   "outputs": [],
   "source": [
    "recaudo_presupuesto_zona_gc = pd.merge(\n",
    "    left=area_calculo_sba_completo_gc_without_dup,\n",
    "    right=df_venta_recaudo_presupuesto,\n",
    "    on=['Division'],\n",
    "    how='left'\n",
    ")\n",
    "\n",
    "recaudo_presupuesto_zona_gc = recaudo_presupuesto_zona_gc.drop(columns=drop_cols).dropna(subset=['ZonaGeografica'])\n",
    "recaudo_presupuesto_zona_gc.rename(columns={'Recaudo': 'Presupuesto'}, inplace=True)\n",
    "recaudo_presupuesto_zona_gc"
   ]
  },
  {
   "cell_type": "markdown",
   "metadata": {},
   "source": [
    "### Se hace merge entre recaudo presupuesto y recaudo real"
   ]
  },
  {
   "cell_type": "code",
   "execution_count": null,
   "metadata": {},
   "outputs": [],
   "source": [
    "main = pd.merge(\n",
    "    left=recaudo_presupuesto_zona_gc,\n",
    "    right=recaudo_real_zona_gc,\n",
    "    on=['ZonaGeografica', 'Fecha', 'Consecutivo', 'Division', 'CodigoEmpleado', 'TipoEmpleado', 'Cluster', 'GrupoProducto', 'SBA', 'Canal'],\n",
    "    how='outer'\n",
    ")\n",
    "main = main.dropna(subset=['ZonaGeografica']).drop(columns=['CodigoEmpleado'])\n",
    "main"
   ]
  },
  {
   "cell_type": "code",
   "execution_count": null,
   "metadata": {},
   "outputs": [],
   "source": [
    "df_zonas_empleado_gc = df_zonas_empleado[\n",
    "    (df_zonas_empleado['TipoEmpleado']== 'GC') |\n",
    "    (df_zonas_empleado['TipoEmpleado']== 'GD')\n",
    "]\n",
    "df_zonas_empleado_gc"
   ]
  },
  {
   "cell_type": "markdown",
   "metadata": {},
   "source": [
    "## Se hace merge entre el dataframe anterior y zonas empleados para obtener los código de los GC"
   ]
  },
  {
   "cell_type": "code",
   "execution_count": null,
   "metadata": {},
   "outputs": [],
   "source": [
    "main = main.merge(\n",
    "    df_zonas_empleado_gc.rename(columns={'Zona': 'ZonaGeografica'}),\n",
    "    on=['ZonaGeografica', 'TipoEmpleado'],\n",
    "    how='left'\n",
    ")\n",
    "main['Real'].fillna(0.0, inplace=True)\n",
    "main.dropna(subset=['CodigoEmpleado'])"
   ]
  },
  {
   "cell_type": "code",
   "execution_count": null,
   "metadata": {},
   "outputs": [],
   "source": [
    "# main[\n",
    "#     (main['CodigoEmpleado'] == '5002711') &\n",
    "#     (main['Consecutivo'] == 1)\n",
    "# ].to_excel(\"VentaCobradaZonaPaisSub.xlsx\")"
   ]
  },
  {
   "cell_type": "code",
   "execution_count": null,
   "metadata": {},
   "outputs": [],
   "source": []
  },
  {
   "cell_type": "code",
   "execution_count": null,
   "metadata": {},
   "outputs": [],
   "source": [
    "venta_cobrada_zona_pais_sub_centro_costo = dataframe_loader.f_calculo_centro_costo_variable(main=main, variable='VentaCobradaZonaPaisSub').copy()\n",
    "venta_cobrada_zona_pais_sub_centro_costo"
   ]
  },
  {
   "cell_type": "code",
   "execution_count": null,
   "metadata": {},
   "outputs": [],
   "source": [
    "# Calcular\n",
    "main['Contexto']= main['CodigoEmpleado'] + '_' +  main['Consecutivo'].astype(int).astype('str')\n",
    "\n",
    "main = main.groupby(['Contexto', 'Fecha'], as_index=False)[['Real', 'Presupuesto']].apply(sum)\n",
    "main.reset_index(inplace=True)\n",
    "\n",
    "main['Real'] = main.groupby(['Contexto'])['Real'].transform(pd.Series.cumsum)\n",
    "main['Presupuesto'] = main.groupby(['Contexto'])['Presupuesto'].transform(pd.Series.cumsum)\n",
    "main['PorcentajeCumplimiento'] = (main['Real']/main['Presupuesto']).apply(lambda x: round(x, 2))\n",
    "main['Variable'] = 'VentaCobradaZonaPaisSub'\n",
    "\n",
    "#Formatear\n",
    "main.reset_index(inplace=True)\n",
    "main = main[['Contexto', 'Variable', 'Fecha', 'Real','Presupuesto','PorcentajeCumplimiento']]\n",
    "\n",
    "venta_cobrada_zona_pais_sub = main\n",
    "main = None\n",
    "venta_cobrada_zona_pais_sub\n",
    "\n",
    "# Contexto: Código de empleado, gerentes de canal."
   ]
  },
  {
   "cell_type": "code",
   "execution_count": null,
   "metadata": {},
   "outputs": [],
   "source": [
    "venta_cobrada_zona_pais_sub[venta_cobrada_zona_pais_sub['Contexto'] == '6474959_1']"
   ]
  },
  {
   "cell_type": "code",
   "execution_count": null,
   "metadata": {},
   "outputs": [],
   "source": [
    "venta_cobrada_zona_pais_sub[venta_cobrada_zona_pais_sub['Contexto'] == '6474959_2']"
   ]
  },
  {
   "cell_type": "code",
   "execution_count": null,
   "metadata": {},
   "outputs": [],
   "source": [
    "venta_cobrada_zona_pais_sub[venta_cobrada_zona_pais_sub['Contexto'] == '5002711_3']"
   ]
  },
  {
   "cell_type": "markdown",
   "metadata": {},
   "source": [
    "## 36. VentaFacturadaPortafolioRenal"
   ]
  },
  {
   "cell_type": "code",
   "execution_count": null,
   "metadata": {},
   "outputs": [],
   "source": [
    "# Aplica VC5"
   ]
  },
  {
   "cell_type": "code",
   "execution_count": null,
   "metadata": {},
   "outputs": [],
   "source": [
    "area_calculo_sba_completo.head()"
   ]
  },
  {
   "cell_type": "code",
   "execution_count": null,
   "metadata": {},
   "outputs": [],
   "source": [
    "df_renal_ambulatorio.head()"
   ]
  },
  {
   "cell_type": "code",
   "execution_count": null,
   "metadata": {},
   "outputs": [],
   "source": []
  },
  {
   "cell_type": "code",
   "execution_count": null,
   "metadata": {},
   "outputs": [],
   "source": [
    "7.384809+1044514+8.649572"
   ]
  },
  {
   "cell_type": "code",
   "execution_count": null,
   "metadata": {},
   "outputs": [],
   "source": [
    "# Calcular\n",
    "\n",
    "main = df_renal_ambulatorio.rename(columns={'PlanVentaTotal': 'Presupuesto', 'RealVentaTotal': 'Real'})\n",
    "\n",
    "main['Contexto'] = main['CodigoEmpleado']\n",
    "\n",
    "main = main.groupby(['Contexto', 'Fecha'], as_index=False)[['Real', 'Presupuesto']].apply(sum)\n",
    "main['Real'] = main.groupby(['Contexto'])['Real'].transform(pd.Series.cumsum)\n",
    "main['Presupuesto'] = main.groupby(['Contexto'])['Presupuesto'].transform(pd.Series.cumsum)\n",
    "main['PorcentajeCumplimiento'] = (main['Real']/main['Presupuesto']).apply(lambda x: round(x, 2))\n",
    "main['Variable'] = 'VentaFacturadaPortafolioRenal'\n",
    "\n",
    "\n",
    "#Formatear\n",
    "main.reset_index(inplace=True)\n",
    "main = main[['Contexto', 'Variable', 'Fecha', 'Real','Presupuesto', 'PorcentajeCumplimiento']]\n",
    "\n",
    "\n",
    "venta_facturada_portafolio_renal = main.copy()\n",
    "main = None\n",
    "venta_facturada_portafolio_renal"
   ]
  },
  {
   "cell_type": "markdown",
   "metadata": {},
   "source": [
    "## 36.1 VentaFacturadaPortafolioRenalSub"
   ]
  },
  {
   "cell_type": "code",
   "execution_count": null,
   "metadata": {},
   "outputs": [],
   "source": [
    "df_area_calculo_sba.head()"
   ]
  },
  {
   "cell_type": "code",
   "execution_count": null,
   "metadata": {},
   "outputs": [],
   "source": [
    "renal_ambulatorio = df_renal_ambulatorio.copy()\n",
    "renal_ambulatorio['Consecutivo'] = '1'\n",
    "renal_ambulatorio"
   ]
  },
  {
   "cell_type": "code",
   "execution_count": null,
   "metadata": {},
   "outputs": [],
   "source": [
    "# Calcular\n",
    "\n",
    "main = renal_ambulatorio.rename(columns={'PlanVentaTotal': 'Presupuesto', 'RealVentaTotal': 'Real'})\n",
    "\n",
    "main['Contexto'] = main['CodigoEmpleado'].str.cat(main['Consecutivo'],sep=\"_\")\n",
    "\n",
    "main = main.groupby(['Contexto', 'Fecha'], as_index=False)[['Real', 'Presupuesto']].apply(sum)\n",
    "main['Real'] = main.groupby(['Contexto'])['Real'].transform(pd.Series.cumsum)\n",
    "main['Presupuesto'] = main.groupby(['Contexto'])['Presupuesto'].transform(pd.Series.cumsum)\n",
    "main['PorcentajeCumplimiento'] = (main['Real']/main['Presupuesto']).apply(lambda x: round(x, 2))\n",
    "main['Variable'] = 'VentaFacturadaPortafolioRenalSub'\n",
    "\n",
    "\n",
    "#Formatear\n",
    "main.reset_index(inplace=True)\n",
    "main = main[['Contexto', 'Variable', 'Fecha', 'Real','Presupuesto', 'PorcentajeCumplimiento']]\n",
    "\n",
    "\n",
    "venta_facturada_portafolio_renal_sub = main.copy()\n",
    "main = None\n",
    "venta_facturada_portafolio_renal_sub"
   ]
  },
  {
   "cell_type": "markdown",
   "metadata": {},
   "source": [
    "## 37. VentaFacturadaPortafolioZonaCluster"
   ]
  },
  {
   "cell_type": "code",
   "execution_count": null,
   "metadata": {},
   "outputs": [],
   "source": [
    "venta_recaudo_presupuesto_original_ve_real_zona_cluster.head()"
   ]
  },
  {
   "cell_type": "code",
   "execution_count": null,
   "metadata": {},
   "outputs": [],
   "source": [
    "venta_recaudo_presupuesto_original_ve_presupuesto_zona_cluster.head()"
   ]
  },
  {
   "cell_type": "code",
   "execution_count": null,
   "metadata": {},
   "outputs": [],
   "source": [
    "# VentaRecaudoReal (venta)\n",
    "# VentaRecaudoPresupuesto (venta)\n",
    "\n",
    "# Preparar\n",
    "# drop_cols = ['Recaudo', 'Division','CodigoEmpleado','GrupoProducto', 'Canal', 'SBA']\n",
    "real = venta_recaudo_presupuesto_original_ve_real_zona_cluster.copy()\n",
    "ppto = venta_recaudo_presupuesto_original_ve_presupuesto_zona_cluster.copy()\n",
    "\n",
    "# Sumamos los registros que tienen el mismo conexto para que exista un solo registro\n",
    "ppto = ppto.groupby(['AreaCalculo','Fecha', 'ZonaGeografica', 'Cluster'], as_index=True)[['Venta']].apply(sum)\n",
    "real = real.groupby(['AreaCalculo', 'Fecha', 'ZonaGeografica', 'Cluster'], as_index=True)[['Venta']].apply(sum)\n",
    "ppto.reset_index(inplace=True)\n",
    "real.reset_index(inplace=True)\n",
    "\n",
    "main = ppto.rename(columns={'Venta': 'Presupuesto'}).merge(\n",
    "    real.rename(columns={'Venta': 'Real'}),\n",
    "    on=['Fecha', 'ZonaGeografica', 'Cluster','AreaCalculo'],\n",
    "    how='left'\n",
    ")\n",
    "main = main.merge(\n",
    "    df_zonas_clusters_empleado.rename(columns={'Zona': 'ZonaGeografica'}),\n",
    "    on=['ZonaGeografica', 'Cluster','AreaCalculo'],\n",
    "    how='left'\n",
    ")\n",
    "\n",
    "# Traer áreas de cálculo y tipo de empleado de la maestra de empleados\n",
    "empleados = df_empleados[['TipoEmpleado', 'CodigoEmpleado', 'AreaCalculo', 'FechaIngreso']].copy()\n",
    "main = main.merge(empleados, on=['TipoEmpleado', 'CodigoEmpleado', 'AreaCalculo'], how='left')\n",
    "\n",
    "main = main[main['Fecha'] >= main['FechaIngreso']]\n",
    "main"
   ]
  },
  {
   "cell_type": "code",
   "execution_count": null,
   "metadata": {},
   "outputs": [],
   "source": [
    "main['Real'].fillna(0, inplace=True)\n",
    "\n",
    "# Calcular\n",
    "\n",
    "main['Contexto'] = main['CodigoEmpleado']\n",
    "# + '_' +  main['ZonaGeografica'].astype('str')\n",
    "main\n",
    "# main['Contexto']= 'VFPZ'"
   ]
  },
  {
   "cell_type": "code",
   "execution_count": null,
   "metadata": {},
   "outputs": [],
   "source": [
    "# Calcular\n",
    "\n",
    "# main['Contexto'] = main['CodigoEmpleado'] + '_' +  main['ZonaGeografica'].astype(int).astype('str')\n",
    "# main['Contexto']= 'VFPZ'\n",
    "main = main.groupby(['Contexto', 'Fecha'], as_index=False)[['Real', 'Presupuesto']].apply(sum)\n",
    "main['Real'] = main.groupby(['Contexto'])['Real'].transform(pd.Series.cumsum)\n",
    "main['Presupuesto'] = main.groupby(['Contexto'])['Presupuesto'].transform(pd.Series.cumsum)\n",
    "main['PorcentajeCumplimiento'] = (main['Real']/main['Presupuesto']).apply(lambda x: round(x, 2))\n",
    "main['Variable'] = 'VentaFacturadaPortafolioZonaCluster'\n",
    "\n",
    "\n",
    "#Formatear\n",
    "main.reset_index(inplace=True)\n",
    "main = main[['Contexto', 'Variable', 'Fecha', 'Real','Presupuesto', 'PorcentajeCumplimiento']]\n",
    "\n",
    "\n",
    "venta_facturada_portafolio_zona_cluster = main.copy()\n",
    "main = None\n",
    "venta_facturada_portafolio_zona_cluster"
   ]
  },
  {
   "cell_type": "code",
   "execution_count": null,
   "metadata": {},
   "outputs": [],
   "source": [
    "venta_facturada_portafolio_zona_cluster[venta_facturada_portafolio_zona_cluster['Contexto'].str.contains('1060654227') ]"
   ]
  },
  {
   "cell_type": "code",
   "execution_count": null,
   "metadata": {},
   "outputs": [],
   "source": [
    "venta_facturada_portafolio_zona_cluster[venta_facturada_portafolio_zona_cluster['Contexto'].str.contains('5041369') ]"
   ]
  },
  {
   "cell_type": "markdown",
   "metadata": {},
   "source": [
    "## 37.1 VentaFacturadaPortafolioZonaClusterSub"
   ]
  },
  {
   "cell_type": "code",
   "execution_count": null,
   "metadata": {},
   "outputs": [],
   "source": [
    "# VentaRecaudoReal (venta)\n",
    "# VentaRecaudoPresupuesto (venta)\n",
    "\n",
    "# Preparar\n",
    "# drop_cols = ['Recaudo', 'Division','CodigoEmpleado','GrupoProducto', 'Canal', 'SBA']\n",
    "\n",
    "ppto = venta_recaudo_presupuesto_original_ve_presupuesto_zona_cluster.copy()\n",
    "real = venta_recaudo_presupuesto_original_ve_real_zona_cluster.copy()\n",
    "\n",
    "# Sumamos los registros que tienen el mismo conexto para que exista un solo registro\n",
    "ppto = ppto.groupby(['AreaCalculo','Fecha', 'ZonaGeografica', 'Cluster', 'Consecutivo'], as_index=True)[['Venta']].apply(sum)\n",
    "real = real.groupby(['AreaCalculo', 'Fecha', 'ZonaGeografica', 'Cluster', 'Consecutivo'], as_index=True)[['Venta']].apply(sum)\n",
    "ppto.reset_index(inplace=True)\n",
    "real.reset_index(inplace=True)\n",
    "\n",
    "main = ppto.rename(columns={'Venta': 'Presupuesto'}).merge(\n",
    "    real.rename(columns={'Venta': 'Real'}),\n",
    "    on=['Fecha', 'ZonaGeografica', 'Cluster','AreaCalculo', 'Consecutivo'],\n",
    "    how='outer'\n",
    ")\n",
    "\n",
    "main = main.merge(\n",
    "    df_zonas_clusters_empleado.rename(columns={'Zona': 'ZonaGeografica'}),\n",
    "    on=['ZonaGeografica', 'Cluster','AreaCalculo'],\n",
    "    how='left'\n",
    ")\n",
    "\n",
    "# Traer áreas de cálculo y tipo de empleado de la maestra de empleados\n",
    "empleados = df_empleados[['TipoEmpleado', 'CodigoEmpleado', 'AreaCalculo', 'FechaIngreso']].copy()\n",
    "main = main.merge(empleados, on=['TipoEmpleado', 'CodigoEmpleado', 'AreaCalculo'], how='left')\n",
    "\n",
    "main = main[main['Fecha'] >= main['FechaIngreso']]\n",
    "main['Real'].fillna(0, inplace=True)\n",
    "main['Contexto']= main['CodigoEmpleado'] + '_' +  main['Consecutivo'].astype(int).astype('str')\n",
    "main\n"
   ]
  },
  {
   "cell_type": "code",
   "execution_count": null,
   "metadata": {},
   "outputs": [],
   "source": [
    "main = main.groupby(['Contexto', 'Fecha'], as_index=False)[['Real', 'Presupuesto']].apply(sum)\n",
    "main['Real'] = main.groupby(['Contexto'])['Real'].transform(pd.Series.cumsum)\n",
    "main['Presupuesto'] = main.groupby(['Contexto'])['Presupuesto'].transform(pd.Series.cumsum)\n",
    "main['PorcentajeCumplimiento'] = (main['Real']/main['Presupuesto']).apply(lambda x: round(x, 2))\n",
    "main['Variable'] = 'VentaFacturadaPortafolioZonaClusterSub'\n",
    "\n",
    "\n",
    "#Formatear\n",
    "main.reset_index(inplace=True)\n",
    "main = main[['Contexto', 'Variable', 'Fecha', 'Real','Presupuesto', 'PorcentajeCumplimiento']]\n",
    "\n",
    "\n",
    "venta_facturada_portafolio_zona_cluster_sub = main.copy()\n",
    "main = None\n",
    "venta_facturada_portafolio_zona_cluster_sub"
   ]
  },
  {
   "cell_type": "code",
   "execution_count": null,
   "metadata": {},
   "outputs": [],
   "source": []
  },
  {
   "cell_type": "markdown",
   "metadata": {},
   "source": [
    "## 38. VentaFacturadaZonaPais"
   ]
  },
  {
   "cell_type": "code",
   "execution_count": null,
   "metadata": {},
   "outputs": [],
   "source": [
    "# VentaRecaudoReal (venta)\n",
    "# VentaRecaudoPresupuesto (venta)\n",
    "\n",
    "# Preparar\n",
    "drop_cols = ['Recaudo', 'Division', 'Cluster','GrupoProducto', 'Canal', 'SBA']\n",
    "real = df_venta_recaudo_real.copy().drop(columns=drop_cols)\n",
    "ppto = df_venta_recaudo_presupuesto.copy().drop(columns=drop_cols)\n",
    "\n",
    "# Sumamos los registros que tienen el mismo conexto para que exista un solo registro\n",
    "ppto = ppto.groupby(['Fecha', 'ZonaGeografica'], as_index=True)[['Venta']].apply(sum)\n",
    "ppto.reset_index(inplace=True)\n",
    "real = real.groupby(['Fecha', 'ZonaGeografica'], as_index=True)[['Venta']].apply(sum)\n",
    "real.reset_index(inplace=True)\n",
    "\n",
    "main = ppto.rename(columns={'Venta': 'Presupuesto'}).merge(\n",
    "    real.rename(columns={'Venta': 'Real'}),\n",
    "    on=['Fecha', 'ZonaGeografica'],\n",
    "    how='left'\n",
    ")    \n",
    "\n",
    "main = main.merge(\n",
    "    df_zonas_empleado.rename(columns={'Zona': 'ZonaGeografica'}),\n",
    "    on=['ZonaGeografica'],\n",
    "    how='left'\n",
    ")\n",
    "main['Real'].fillna(0, inplace=True)\n",
    "\n",
    "# Calcular\n",
    "main['Contexto']= main['CodigoEmpleado']\n",
    "\n",
    "main = main.groupby(['Contexto', 'Fecha'], as_index=False)[['Real', 'Presupuesto']].apply(sum)\n",
    "main['Real'] = main.groupby(['Contexto'])['Real'].transform(pd.Series.cumsum)\n",
    "main['Presupuesto'] = main.groupby(['Contexto'])['Presupuesto'].transform(pd.Series.cumsum)\n",
    "main['PorcentajeCumplimiento'] = (main['Real']/main['Presupuesto']).apply(lambda x: round(x, 2))\n",
    "main['Variable'] = 'VentaFacturadaZonaPais'\n",
    "\n",
    "\n",
    "#Formatear\n",
    "main.reset_index(inplace=True)\n",
    "main = main[['Contexto', 'Variable', 'Fecha','Real','Presupuesto','PorcentajeCumplimiento']]\n",
    "\n",
    "venta_facturada_zona_pais = main.copy()\n",
    "main = None\n",
    "venta_facturada_zona_pais\n"
   ]
  },
  {
   "cell_type": "code",
   "execution_count": null,
   "metadata": {},
   "outputs": [],
   "source": [
    "venta_facturada_zona_pais[venta_facturada_zona_pais['Contexto'] == '1111115']"
   ]
  },
  {
   "cell_type": "code",
   "execution_count": null,
   "metadata": {},
   "outputs": [],
   "source": [
    "venta_facturada_zona_pais[venta_facturada_zona_pais['Contexto'] == '1111124']"
   ]
  },
  {
   "cell_type": "markdown",
   "metadata": {},
   "source": [
    "# Nuevos Rubros 2024"
   ]
  },
  {
   "cell_type": "markdown",
   "metadata": {},
   "source": [
    "## 38.1 VentaFacturadaZonaPaisSub"
   ]
  },
  {
   "cell_type": "code",
   "execution_count": 1,
   "metadata": {},
   "outputs": [
    {
     "ename": "NameError",
     "evalue": "name 'df_venta_recaudo_real' is not defined",
     "output_type": "error",
     "traceback": [
      "\u001b[1;31m---------------------------------------------------------------------------\u001b[0m",
      "\u001b[1;31mNameError\u001b[0m                                 Traceback (most recent call last)",
      "\u001b[1;32m~\\AppData\\Local\\Temp\\ipykernel_28068\\3080241176.py\u001b[0m in \u001b[0;36m<module>\u001b[1;34m\u001b[0m\n\u001b[1;32m----> 1\u001b[1;33m \u001b[0mdf_venta_recaudo_real\u001b[0m\u001b[1;33m\u001b[0m\u001b[1;33m\u001b[0m\u001b[0m\n\u001b[0m",
      "\u001b[1;31mNameError\u001b[0m: name 'df_venta_recaudo_real' is not defined"
     ]
    }
   ],
   "source": [
    "df_venta_recaudo_real"
   ]
  },
  {
   "cell_type": "code",
   "execution_count": 2,
   "metadata": {},
   "outputs": [
    {
     "ename": "NameError",
     "evalue": "name 'area_calculo_sba_completo' is not defined",
     "output_type": "error",
     "traceback": [
      "\u001b[1;31m---------------------------------------------------------------------------\u001b[0m",
      "\u001b[1;31mNameError\u001b[0m                                 Traceback (most recent call last)",
      "\u001b[1;32m~\\AppData\\Local\\Temp\\ipykernel_28068\\2813342485.py\u001b[0m in \u001b[0;36m<module>\u001b[1;34m\u001b[0m\n\u001b[1;32m----> 1\u001b[1;33m \u001b[0marea_calculo_sba_completo\u001b[0m\u001b[1;33m\u001b[0m\u001b[1;33m\u001b[0m\u001b[0m\n\u001b[0m",
      "\u001b[1;31mNameError\u001b[0m: name 'area_calculo_sba_completo' is not defined"
     ]
    }
   ],
   "source": [
    "area_calculo_sba_completo"
   ]
  },
  {
   "cell_type": "code",
   "execution_count": 3,
   "metadata": {},
   "outputs": [],
   "source": [
    "def unir_dataframes_por_columnas_comunes(df1, df2, how='inner'):\n",
    "    \"\"\"\n",
    "    Une dos DataFrames basándose en sus columnas comunes con un tipo de unión especificado.\n",
    "    \n",
    "    Parámetros:\n",
    "    - df1: Primer DataFrame.\n",
    "    - df2: Segundo DataFrame.\n",
    "    - how: Tipo de unión ('left', 'right', 'outer', 'inner'). Por defecto es 'inner'.\n",
    "    \n",
    "    Retorna:\n",
    "    - DataFrame resultante de la unión.\n",
    "    \"\"\"\n",
    "    # Encuentra las columnas comunes entre ambos DataFrames\n",
    "    columnas_comunes = df1.columns.intersection(df2.columns)\n",
    "    print(columnas_comunes)\n",
    "    # Une los DataFrames basándose en las columnas comunes y el tipo de unión especificado\n",
    "    df_unido = pd.merge(df1, df2, on=columnas_comunes.tolist(), how=how)\n",
    "    \n",
    "    return df_unido"
   ]
  },
  {
   "cell_type": "code",
   "execution_count": null,
   "metadata": {},
   "outputs": [],
   "source": []
  },
  {
   "cell_type": "code",
   "execution_count": 4,
   "metadata": {},
   "outputs": [
    {
     "ename": "NameError",
     "evalue": "name 'df_venta_recaudo_real' is not defined",
     "output_type": "error",
     "traceback": [
      "\u001b[1;31m---------------------------------------------------------------------------\u001b[0m",
      "\u001b[1;31mNameError\u001b[0m                                 Traceback (most recent call last)",
      "\u001b[1;32m~\\AppData\\Local\\Temp\\ipykernel_28068\\3867130852.py\u001b[0m in \u001b[0;36m<module>\u001b[1;34m\u001b[0m\n\u001b[0;32m      1\u001b[0m \u001b[1;31m# Preparar\u001b[0m\u001b[1;33m\u001b[0m\u001b[1;33m\u001b[0m\u001b[0m\n\u001b[0;32m      2\u001b[0m \u001b[0mdrop_cols\u001b[0m \u001b[1;33m=\u001b[0m \u001b[1;33m[\u001b[0m\u001b[1;34m'Recaudo'\u001b[0m\u001b[1;33m,\u001b[0m \u001b[1;34m'Cluster'\u001b[0m\u001b[1;33m,\u001b[0m \u001b[1;34m'Canal'\u001b[0m\u001b[1;33m]\u001b[0m\u001b[1;33m\u001b[0m\u001b[1;33m\u001b[0m\u001b[0m\n\u001b[1;32m----> 3\u001b[1;33m \u001b[0mreal\u001b[0m \u001b[1;33m=\u001b[0m \u001b[0mdf_venta_recaudo_real\u001b[0m\u001b[1;33m.\u001b[0m\u001b[0mcopy\u001b[0m\u001b[1;33m(\u001b[0m\u001b[1;33m)\u001b[0m\u001b[1;33m.\u001b[0m\u001b[0mdrop\u001b[0m\u001b[1;33m(\u001b[0m\u001b[0mcolumns\u001b[0m\u001b[1;33m=\u001b[0m\u001b[0mdrop_cols\u001b[0m\u001b[1;33m)\u001b[0m\u001b[1;33m\u001b[0m\u001b[1;33m\u001b[0m\u001b[0m\n\u001b[0m\u001b[0;32m      4\u001b[0m \u001b[1;33m\u001b[0m\u001b[0m\n\u001b[0;32m      5\u001b[0m \u001b[1;31m# real.merge(\u001b[0m\u001b[1;33m\u001b[0m\u001b[1;33m\u001b[0m\u001b[0m\n",
      "\u001b[1;31mNameError\u001b[0m: name 'df_venta_recaudo_real' is not defined"
     ]
    }
   ],
   "source": [
    "# Preparar\n",
    "drop_cols = ['Recaudo', 'Cluster', 'Canal']\n",
    "real = df_venta_recaudo_real.copy().drop(columns=drop_cols)\n",
    "\n",
    "# real.merge(\n",
    "#     area_calculo_sba_completo,\n",
    "#     on=['Division', 'GrupoProducto', 'SBA'],\n",
    "#     how='left'\n",
    "# )\n",
    "\n",
    "venta_real_area_calculo_sba = unir_dataframes_por_columnas_comunes(real, area_calculo_sba_completo, 'left')\n",
    "venta_real_area_calculo_sba"
   ]
  },
  {
   "cell_type": "code",
   "execution_count": 5,
   "metadata": {},
   "outputs": [
    {
     "ename": "NameError",
     "evalue": "name 'df_venta_recaudo_presupuesto' is not defined",
     "output_type": "error",
     "traceback": [
      "\u001b[1;31m---------------------------------------------------------------------------\u001b[0m",
      "\u001b[1;31mNameError\u001b[0m                                 Traceback (most recent call last)",
      "\u001b[1;32m~\\AppData\\Local\\Temp\\ipykernel_28068\\2236287849.py\u001b[0m in \u001b[0;36m<module>\u001b[1;34m\u001b[0m\n\u001b[1;32m----> 1\u001b[1;33m \u001b[0mppto\u001b[0m \u001b[1;33m=\u001b[0m \u001b[0mdf_venta_recaudo_presupuesto\u001b[0m\u001b[1;33m.\u001b[0m\u001b[0mcopy\u001b[0m\u001b[1;33m(\u001b[0m\u001b[1;33m)\u001b[0m\u001b[1;33m.\u001b[0m\u001b[0mdrop\u001b[0m\u001b[1;33m(\u001b[0m\u001b[0mcolumns\u001b[0m\u001b[1;33m=\u001b[0m\u001b[0mdrop_cols\u001b[0m\u001b[1;33m)\u001b[0m\u001b[1;33m\u001b[0m\u001b[1;33m\u001b[0m\u001b[0m\n\u001b[0m\u001b[0;32m      2\u001b[0m \u001b[0mventa_ppto_area_calculo_sba\u001b[0m \u001b[1;33m=\u001b[0m \u001b[0munir_dataframes_por_columnas_comunes\u001b[0m\u001b[1;33m(\u001b[0m\u001b[0mppto\u001b[0m\u001b[1;33m,\u001b[0m \u001b[0marea_calculo_sba_completo\u001b[0m\u001b[1;33m,\u001b[0m \u001b[1;34m'left'\u001b[0m\u001b[1;33m)\u001b[0m\u001b[1;33m\u001b[0m\u001b[1;33m\u001b[0m\u001b[0m\n\u001b[0;32m      3\u001b[0m \u001b[0mventa_ppto_area_calculo_sba\u001b[0m\u001b[1;33m\u001b[0m\u001b[1;33m\u001b[0m\u001b[0m\n",
      "\u001b[1;31mNameError\u001b[0m: name 'df_venta_recaudo_presupuesto' is not defined"
     ]
    }
   ],
   "source": [
    "ppto = df_venta_recaudo_presupuesto.copy().drop(columns=drop_cols)\n",
    "venta_ppto_area_calculo_sba = unir_dataframes_por_columnas_comunes(ppto, area_calculo_sba_completo, 'left')\n",
    "venta_ppto_area_calculo_sba"
   ]
  },
  {
   "cell_type": "code",
   "execution_count": null,
   "metadata": {},
   "outputs": [],
   "source": [
    "venta_area_calculo_sba = unir_dataframes_por_columnas_comunes(\n",
    "    venta_real_area_calculo_sba.rename(columns={'Venta': 'Presupuesto'}),\n",
    "    venta_ppto_area_calculo_sba.rename(columns={'Venta': 'Real'}),\n",
    "    'outer'\n",
    ")\n",
    "venta_area_calculo_sba['Real'].fillna(0.0, inplace=True)\n",
    "venta_area_calculo_sba['Presupuesto'].fillna(0.0, inplace=True)\n",
    "\n",
    "venta_area_calculo_sba['Presupuesto'] = venta_area_calculo_sba.groupby(['Fecha', 'ZonaGeografica', 'Consecutivo'])['Presupuesto'].transform(pd.Series.cumsum)\n",
    "venta_area_calculo_sba['Real'] = venta_area_calculo_sba.groupby(['Fecha', 'ZonaGeografica', 'Consecutivo'])['Real'].transform(pd.Series.cumsum)\n",
    "\n",
    "venta_area_calculo_sba['PorcentajeCumplimiento'] = venta_area_calculo_sba['Real'] / venta_area_calculo_sba['Presupuesto']\n",
    "venta_area_calculo_sba['PorcentajeCumplimiento'] = venta_area_calculo_sba['PorcentajeCumplimiento'].apply(lambda x: round(x, 2))\n",
    "venta_area_calculo_sba['PorcentajeCumplimiento'].fillna(0.0, inplace=True)\n",
    "venta_area_calculo_sba['Consecutivo'] = venta_area_calculo_sba['Consecutivo'].astype(int).astype('str')\n",
    "venta_area_calculo_sba['Contexto'] = venta_area_calculo_sba['CodigoEmpleado'].str.cat(venta_area_calculo_sba['Consecutivo'],sep=\"_\")\n",
    "venta_area_calculo_sba['Variable'] = 'VentaFacturadaZonaPaisSub'\n",
    "\n",
    "venta_area_calculo_sba = venta_area_calculo_sba[['Contexto', 'Variable', 'Fecha', 'Real', 'Presupuesto', 'PorcentajeCumplimiento']]\n",
    "\n",
    "venta_area_calculo_sba\n",
    "\n"
   ]
  },
  {
   "cell_type": "code",
   "execution_count": null,
   "metadata": {},
   "outputs": [],
   "source": [
    "# VentaRecaudoReal (venta)\n",
    "# VentaRecaudoPresupuesto (venta)\n",
    "\n",
    "# Preparar\n",
    "drop_cols = ['Recaudo', 'Cluster', 'Canal']\n",
    "\n",
    "ppto = df_venta_recaudo_presupuesto.copy().drop(columns=drop_cols)\n",
    "\n",
    "# Sumamos los registros que tienen el mismo conexto para que exista un solo registro\n",
    "ppto = ppto.groupby(['Fecha', 'ZonaGeografica', 'Division','GrupoProducto', 'SBA'], as_index=True)[['Venta']].apply(sum)\n",
    "ppto.reset_index(inplace=True)\n",
    "real = real.groupby(['Fecha', 'ZonaGeografica'], as_index=True)[['Venta']].apply(sum)\n",
    "real.reset_index(inplace=True)\n",
    "\n",
    "main = ppto.rename(columns={'Venta': 'Presupuesto'}).merge(\n",
    "    real.rename(columns={'Venta': 'Real'}),\n",
    "    on=['Fecha', 'ZonaGeografica'],\n",
    "    how='left'\n",
    ")\n",
    "main"
   ]
  },
  {
   "cell_type": "code",
   "execution_count": null,
   "metadata": {},
   "outputs": [],
   "source": [
    "\n",
    "\n",
    " \n",
    "\n",
    "main = main.merge(\n",
    "    df_zonas_empleado.rename(columns={'Zona': 'ZonaGeografica'}),\n",
    "    on=['ZonaGeografica'],\n",
    "    how='left'\n",
    ")\n",
    "main['Real'].fillna(0, inplace=True)\n",
    "main"
   ]
  },
  {
   "cell_type": "code",
   "execution_count": null,
   "metadata": {},
   "outputs": [],
   "source": [
    "\n",
    "\n",
    "# Calcular\n",
    "main['Contexto']= main['CodigoEmpleado']\n",
    "\n",
    "main = main.groupby(['Contexto', 'Fecha'], as_index=False)[['Real', 'Presupuesto']].apply(sum)\n",
    "main['Real'] = main.groupby(['Contexto'])['Real'].transform(pd.Series.cumsum)\n",
    "main['Presupuesto'] = main.groupby(['Contexto'])['Presupuesto'].transform(pd.Series.cumsum)\n",
    "main['PorcentajeCumplimiento'] = (main['Real']/main['Presupuesto']).apply(lambda x: round(x, 2))\n",
    "main['Variable'] = 'VentaFacturadaZonaPais'\n",
    "\n",
    "\n",
    "#Formatear\n",
    "main.reset_index(inplace=True)\n",
    "main = main[['Contexto', 'Variable', 'Fecha','Real','Presupuesto','PorcentajeCumplimiento']]\n",
    "\n",
    "venta_facturada_zona_pais_sub = main.copy()\n",
    "main = None\n",
    "venta_facturada_zona_pais_sub\n"
   ]
  },
  {
   "cell_type": "code",
   "execution_count": null,
   "metadata": {},
   "outputs": [],
   "source": []
  },
  {
   "cell_type": "markdown",
   "metadata": {},
   "source": [
    "## Cálculo de Maestra de Resultados"
   ]
  },
  {
   "cell_type": "code",
   "execution_count": null,
   "metadata": {
    "datalore": {
     "hide_input_from_viewers": false,
     "hide_output_from_viewers": false,
     "type": "CODE"
    }
   },
   "outputs": [],
   "source": [
    "maestra_resultados = pd.concat([\n",
    "    cumplimiento_objetivos_cualitativos, # cumplimiento_cualitativos,\n",
    "    cumplimiento_recaudo_por_zona, # cumplimiento_cobro_por_zona,\n",
    "    cumplimiento_venta_individual,\n",
    "    cumplimiento_venta_individual_sub,\n",
    "    cumplimiento_recaudo_individual,\n",
    "    cumplimiento_recaudo_individual_sub, # cumplimiento_cobro_empleado_consecutivo,\n",
    "    cumplimiento_venta_por_area_calculo, # cumplimiento_venta_por_area_calculo,\n",
    "    cumplimiento_venta_por_area_calculo_sub,\n",
    "    cumplimiento_recaudo_por_area_calculo, # cumplimiento_cobro_por_area_calculo,\n",
    "    cumplimiento_recaudo_por_area_calculo_sub,\n",
    "    cumplimiento_recaudo_nivel_pais, # cumplimiento_cobro_pais,\n",
    "    cumplimiento_venta_por_unidad_negocio_gu,\n",
    "    cumplimiento_venta_por_unidad_negocio_gu_sub,\n",
    "    cumplimiento_recaudo_por_unidad_negocio_gu, # cumplimiento_cobro_area_calculo_gu,\n",
    "    cumplimiento_recaudo_por_unidad_negocio_gu_sub,\n",
    "    cumplimiento_venta_por_unidad_negocio_mk,\n",
    "    cumplimiento_venta_por_unidad_negocio_mk_sub,\n",
    "    cumplimiento_recaudo_por_unidad_negocio_mk, # cumplimiento_cobro_area_calculo_mk,\n",
    "    cumplimiento_recaudo_por_unidad_negocio_mk_sub, # cumplimiento_cobro_area_calculo_mk,\n",
    "    cumplimiento_rentabilidad_por_unidad_negocio_cm2_gu,\n",
    "    cumplimiento_rentabilidad_por_unidad_negocio_cm3_gu,\n",
    "    cumplimiento_rentabilidad_por_unidad_negocio_cm2_mk,\n",
    "    cumplimiento_rentabilidad_por_unidad_negocio_cm3_mk,\n",
    "    cumplimiento_rentabilidad_por_unidad_negocio_cm2_gu_sub,\n",
    "    cumplimiento_rentabilidad_por_unidad_negocio_cm3_gu_sub,\n",
    "    cumplimiento_rentabilidad_por_unidad_negocio_cm2_mk_sub,\n",
    "    cumplimiento_rentabilidad_por_unidad_negocio_cm3_mk_sub,\n",
    "    cumplimiento_recaudo_por_division, # cumplimiento_cobro_division,\n",
    "    cumplimiento_recaudo_por_division_sub_mk, # cumplimiento_cobro_division_sub,\n",
    "    cumplimiento_recaudo_otras_companias_mk, # cumplimiento_cobro_compañias_mk,\n",
    "    cumplimiento_recaudo_por_division_sub_gd, cumplimiento_recaudo_otras_companias_gd, # cumplimiento_cobro_division_sub_gd,\n",
    "    cumplimiento_recaudo_por_division_sub_ad, # cumplimiento_cobro_division_sub_ad,\n",
    "    cumplimiento_recaudo_otras_companias_ad, # cumplimiento_cobro_compañias_ad,\n",
    "    cumplimiento_recaudo_por_division_sub_ad1, # cumplimiento_cobro_division_sub_ad1,\n",
    "    cumplimiento_recaudo_otras_companias_ad1, # cumplimiento_cobro_compañias_ad1,\n",
    "    cumplimiento_recaudo_por_division_sub_ad3, # cumplimiento_cobro_division_sub_ad3,\n",
    "    cumplimiento_recaudo_otras_companias_ad3, # cumplimiento_cobro_compañias_ad3,\n",
    "    cumplimiento_recaudo_por_division_sub_ad4, cumplimiento_recaudo_otras_companias_ad4, # cumplimiento_cobro_compañias_ad4,\n",
    "    cumplimiento_recaudo_por_division_sub_ad5, cumplimiento_recaudo_otras_companias_ad5, # cumplimiento_cobro_compañias_ad5,\n",
    "    cumplimiento_rentabilidad_cm5_nivel_pais, # rentabilidad_antes_de_impuestos,\n",
    "    cumplimiento_rentabilidad_cm3_grupo_clientes_sub,  # rentabilidad_division_consecutivo,\n",
    "    cumplimiento_rentabilidad_cm3_grupo_clientes, # rentabilidad_division,\n",
    "    cumplimiento_rentabilidad_cm2_grupo_clientes, # rentabilidad_kam,\n",
    "    cumplimiento_rentabilidad_cm5_ad, # rentabilidad_antes_de_impuestos_ad,\n",
    "    cumplimiento_rentabilidad_cm5_ad1, # rentabilidad_antes_de_impuestos_ad1,\n",
    "    cumplimiento_rentabilidad_cm5_ad2, # rentabilidad_antes_de_impuestos_ad2,\n",
    "    cumplimiento_rentabilidad_cm5_ad3, # rentabilidad_antes_de_impuestos_ad3,\n",
    "    cumplimiento_rentabilidad_cm5_ad4, # rentabilidad_antes_de_impuestos_ad4,\n",
    "    cumplimiento_rentabilidad_cm5_ad5, # rentabilidad_antes_de_impuestos_ad5,\n",
    "    cumplimiento_venta_previo_notas_credito_tp, # venta_credito_tp,\n",
    "    cumplimiento_venta_servicios_mtto,\n",
    "    # 2022\n",
    "    venta_cobrada_braun_cluster,\n",
    "    venta_cobrada_portafolio_cluster,    #2024  VentaCobradaPortafolioClusterSub -> VentaCobradaPortafolioCluster\n",
    "    venta_cobrada_portafolio_cluster_sub, \n",
    "    venta_facturada_portafolio_cluster, \n",
    "    venta_facturada_portafolio_cluster_sub, #2024 VentaFacturadaPortafolioCluster -> VentaFacturadaPortafolioClusterSub\n",
    "    venta_cobrada_portafolio_pais_ve,\n",
    "    venta_facturada_portafolio_zona_sub_ve,\n",
    "    venta_cobrada_portafolio_zona_ve,\n",
    "    venta_cobrada_portafolio_cluster_ve,\n",
    "    venta_facturada_portafolio_cluster_sub_ve,\n",
    "    venta_cobrada_zona_hospitalario_sub_gc,\n",
    "    venta_cobrada_zona_hospitalario_sub_gd,\n",
    "    venta_facturada_pais_ch,\n",
    "    venta_facturada_zona_ch,\n",
    "    rentabilidad_zona_hospitalario_cm2,\n",
    "    venta_facturada_braun_pais,\n",
    "    rentabilidad_compania_cm3,\n",
    "    venta_cobrada_grupo_clientes_kams_sub,\n",
    "    venta_facturada_grupo_clientes_kams,\n",
    "    kpis_surgical,\n",
    "    #2023\n",
    "    venta_cobrada_portafolio_zona_cluster_sub,\n",
    "    venta_facturada_portafolio_zona_cluster,\n",
    "    venta_facturada_zona_pais,\n",
    "    venta_cobrada_zona_pais_sub,\n",
    "    venta_facturada_portafolio_renal\n",
    "])\n",
    "maestra_resultados['Contexto'] = maestra_resultados['Contexto'].astype('str')\n",
    "maestra_resultados.drop_duplicates(['Contexto', 'Fecha', 'Variable'], inplace=True)\n",
    "maestra_resultados.head()"
   ]
  },
  {
   "cell_type": "code",
   "execution_count": null,
   "metadata": {},
   "outputs": [],
   "source": [
    "maestra_resultados[maestra_resultados['Contexto'].str.contains('1098612757')]"
   ]
  },
  {
   "cell_type": "code",
   "execution_count": null,
   "metadata": {},
   "outputs": [],
   "source": [
    "maestra_resultados.to_excel('maestra_resultados_.xlsx')"
   ]
  },
  {
   "cell_type": "code",
   "execution_count": null,
   "metadata": {},
   "outputs": [],
   "source": [
    "maestra_resultados[maestra_resultados['Variable'] == \"VentaCobradaPortafolioClusterSub\"]"
   ]
  },
  {
   "cell_type": "code",
   "execution_count": null,
   "metadata": {},
   "outputs": [],
   "source": [
    "maestra_resultados[ maestra_resultados['Contexto'].str.contains('1111117')]"
   ]
  },
  {
   "cell_type": "code",
   "execution_count": null,
   "metadata": {},
   "outputs": [],
   "source": [
    "maestra_resultados[ maestra_resultados['Contexto'].str.contains('gd_3_5')]"
   ]
  },
  {
   "cell_type": "code",
   "execution_count": null,
   "metadata": {},
   "outputs": [],
   "source": [
    "maestra_resultados[\n",
    "    (maestra_resultados['Contexto'] == '1111128')\n",
    "].head()"
   ]
  },
  {
   "cell_type": "markdown",
   "metadata": {},
   "source": [
    "### Cálculo de Maestra de Resultados Centro Costo"
   ]
  },
  {
   "cell_type": "code",
   "execution_count": null,
   "metadata": {},
   "outputs": [],
   "source": [
    "venta_cobrada_zona_pais_sub_centro_costo.head()"
   ]
  },
  {
   "cell_type": "code",
   "execution_count": null,
   "metadata": {},
   "outputs": [],
   "source": [
    "venta_cobrada_portafolio_cluster_sub_centro_costo.head()"
   ]
  },
  {
   "cell_type": "code",
   "execution_count": null,
   "metadata": {},
   "outputs": [],
   "source": [
    "venta_cobrada_portafolio_zona_cluster_sub_centro_costo.head()"
   ]
  },
  {
   "cell_type": "code",
   "execution_count": null,
   "metadata": {},
   "outputs": [],
   "source": [
    "cumplimiento_recaudo_por_division_sub_mk_centro_costo.info()"
   ]
  },
  {
   "cell_type": "code",
   "execution_count": null,
   "metadata": {},
   "outputs": [],
   "source": [
    "maestra_resultados_centro_costo = pd.concat([\n",
    "    #2023\n",
    "    venta_cobrada_zona_pais_sub_centro_costo,\n",
    "    cumplimiento_recaudo_por_division_sub_mk_centro_costo, \n",
    "    cumplimiento_recaudo_por_division_sub_gd_centro_costo,\n",
    "    cumplimiento_recaudo_por_unidad_negocio_gu_sub_centro_costo, \n",
    "    cumplimiento_recaudo_por_unidad_negocio_mk_sub_centro_costo,\n",
    "    cumplimiento_venta_por_unidad_negocio_gu_sub_centro_costo, \n",
    "    cumplimiento_venta_por_unidad_negocio_mk_sub_centro_costo,\n",
    "    cumplimiento_rentabilidad_por_unidad_negocio_cm3_gu_centro_costo, \n",
    "    cumplimiento_rentabilidad_por_unidad_negocio_cm3_mk_centro_costo,\n",
    "    cumplimiento_rentabilidad_por_unidad_negocio_cm2_gu_centro_costo, \n",
    "    cumplimiento_rentabilidad_por_unidad_negocio_cm2_mk_centro_costo,\n",
    "    venta_cobrada_portafolio_cluster_sub_centro_costo,\n",
    "    venta_cobrada_portafolio_zona_cluster_sub_centro_costo\n",
    "])\n",
    "maestra_resultados_centro_costo\n",
    "maestra_resultados_centro_costo['PorcentajeCumplimiento'] = maestra_resultados_centro_costo['Real']/maestra_resultados_centro_costo['Presupuesto']\n",
    "# maestra_resultados['Contexto'] = maestra_resultados['Contexto'].astype('str')\n",
    "# maestra_resultados.drop_duplicates(['Contexto', 'Fecha', 'Variable'], inplace=True)\n",
    "# maestra_resultados.head()"
   ]
  },
  {
   "cell_type": "code",
   "execution_count": null,
   "metadata": {},
   "outputs": [],
   "source": [
    "df_parrillas[df_parrillas['CodigoEmpleado'] == '1032450706']"
   ]
  },
  {
   "cell_type": "code",
   "execution_count": null,
   "metadata": {},
   "outputs": [],
   "source": [
    "maestra_resultados_centro_costo[maestra_resultados_centro_costo['Contexto'].str.contains('mk_9_3')]"
   ]
  },
  {
   "cell_type": "code",
   "execution_count": null,
   "metadata": {},
   "outputs": [],
   "source": [
    "maestra_resultados_centro_costo.to_excel('maestra_resultados_centro_costo_.xlsx')"
   ]
  },
  {
   "cell_type": "code",
   "execution_count": null,
   "metadata": {},
   "outputs": [],
   "source": [
    "maestra_resultados_centro_costo[\n",
    "    \n",
    "    pd.notna(maestra_resultados_centro_costo['AreaCalculo'])\n",
    "]"
   ]
  },
  {
   "cell_type": "code",
   "execution_count": null,
   "metadata": {},
   "outputs": [],
   "source": []
  },
  {
   "cell_type": "code",
   "execution_count": null,
   "metadata": {},
   "outputs": [],
   "source": [
    "maestra_resultados_centro_costo[maestra_resultados_centro_costo['Contexto'].str.contains('1032450706')]"
   ]
  },
  {
   "cell_type": "code",
   "execution_count": null,
   "metadata": {},
   "outputs": [],
   "source": [
    "maestra_resultados"
   ]
  },
  {
   "cell_type": "code",
   "execution_count": null,
   "metadata": {},
   "outputs": [],
   "source": []
  },
  {
   "cell_type": "code",
   "execution_count": null,
   "metadata": {},
   "outputs": [],
   "source": []
  },
  {
   "cell_type": "raw",
   "metadata": {},
   "source": []
  }
 ],
 "metadata": {
  "datalore": {
   "base_environment": "minimal",
   "computation_mode": "JUPYTER",
   "package_manager": "conda",
   "packages": [
    {
     "name": "xlrd",
     "source": "CONDA",
     "version": "1.2.0"
    },
    {
     "name": "openpyxl",
     "source": "PIP",
     "version": "3.0.3"
    },
    {
     "name": "pandas",
     "source": "PIP",
     "version": "1.0.3"
    },
    {
     "name": "numpy",
     "source": "PIP",
     "version": "1.18.3"
    }
   ],
   "version": 1
  },
  "kernelspec": {
   "display_name": "Python 3 (ipykernel)",
   "language": "python",
   "name": "python3"
  },
  "language_info": {
   "codemirror_mode": {
    "name": "ipython",
    "version": 3
   },
   "file_extension": ".py",
   "mimetype": "text/x-python",
   "name": "python",
   "nbconvert_exporter": "python",
   "pygments_lexer": "ipython3",
   "version": "3.9.13"
  }
 },
 "nbformat": 4,
 "nbformat_minor": 4
}
