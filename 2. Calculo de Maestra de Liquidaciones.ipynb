{
 "cells": [
  {
   "cell_type": "code",
   "execution_count": null,
   "id": "23d2f773",
   "metadata": {},
   "outputs": [],
   "source": [
    "import os\n",
    "import sys\n",
    "import pandas as pd\n",
    "import numpy as np\n",
    "from datetime import datetime\n",
    "import import_ipynb\n",
    "from shared_functions import DataframeLoader, Shared\n",
    "from libraries.DataframesUtils import CalculoDataframes\n",
    "base_dir = 'C:\\\\Users\\\\Crisp\\\\Documents\\\\QualitySoftGroup\\\\Proyectos\\\\Liquidations-Incentives-Jupyter'\n",
    "sub_direct = 'archivos-fuente-138(3)'\n",
    "folder_bbraun_source = os.path.join(base_dir, 'source', sub_direct)"
   ]
  },
  {
   "cell_type": "code",
   "execution_count": null,
   "id": "022f6901",
   "metadata": {},
   "outputs": [],
   "source": [
    "dataframe_loader = DataframeLoader(\n",
    "    base_dir=base_dir,\n",
    "    sub_direct=sub_direct\n",
    ")\n",
    "shared = Shared()\n",
    "print(dataframe_loader.cargar_dataframes)"
   ]
  },
  {
   "cell_type": "code",
   "execution_count": null,
   "id": "a925d9c5",
   "metadata": {},
   "outputs": [],
   "source": [
    "(\n",
    "        df_resultado_detallado_previo,\n",
    "        df_resultado_liquidaciones_previo,\n",
    "        df_empleados,\n",
    "        df_empleados_inactivos,\n",
    "        df_tipos_empleados,\n",
    "        df_clusters_empleado,\n",
    "        df_zonas_empleado,\n",
    "        df_salarios_variables,\n",
    "        df_parrillas,\n",
    "        df_venta_recaudo_real,\n",
    "        df_venta_recaudo_presupuesto,\n",
    "        df_venta_por_zona,\n",
    "        df_recaudo_por_zona,\n",
    "        df_rentabilidad,\n",
    "        df_venta_otras_companias,\n",
    "        df_recaudo_otras_companias,\n",
    "        df_venta_recaudo_kams,\n",
    "        df_rentabilidad_kam,\n",
    "        df_venta_servicios_mtto,\n",
    "        df_objetivos_cualitativos,\n",
    "        df_incentivos_por_empleado,\n",
    "        df_area_calculo_sba,\n",
    "        df_factores_liquidacion,\n",
    "        df_cluster_plan_real_recaudo,\n",
    "        df_zona_plan_real_venta_ch,\n",
    "        df_rentabilidad_zona,\n",
    "        df_resultados_variables_cualitativas,\n",
    "        df_zonas_clusters_empleado,\n",
    "        df_centros_costos,\n",
    "        df_empleados_centros_costos,\n",
    "        df_centros_costos_grupos_productos_divisiones,\n",
    "        df_parrillas_tipos_calculos,\n",
    "        df_area_calculo_sba_centros_costos,\n",
    "        df_renal_ambulatorio,\n",
    "        codigos_ve_vc,\n",
    "        _dataframes_entrada,\n",
    "        fecha_liquidacion,\n",
    "        meses_incentivos,\n",
    "        OUTPUT_FOLDER\n",
    "    ) = dataframe_loader.cargar_dataframes(base_dir, folder_bbraun_source)"
   ]
  },
  {
   "cell_type": "code",
   "execution_count": null,
   "id": "3dacd198",
   "metadata": {},
   "outputs": [],
   "source": [
    "fecha_liquidacion"
   ]
  },
  {
   "cell_type": "code",
   "execution_count": null,
   "id": "3bfcc145",
   "metadata": {},
   "outputs": [],
   "source": [
    "# maestra_resultados.to_excel('maestra_resultados_.xlsx')"
   ]
  },
  {
   "cell_type": "code",
   "execution_count": null,
   "id": "d66d0a8f",
   "metadata": {},
   "outputs": [],
   "source": [
    "maestra_resultados = pd.read_excel(\n",
    "        io=os.path.join('maestra_resultados_.xlsx'),\n",
    "        dtype={\n",
    "            'Contexto': str,\n",
    "            'Fecha': 'datetime64[ns]',\n",
    "            'PorcentajeCumplimiento':float ,\n",
    "            'Variable': str,\n",
    "            'Real': float,\n",
    "            'Presupuesto': float\n",
    "        }\n",
    "    )\n",
    "maestra_resultados"
   ]
  },
  {
   "cell_type": "code",
   "execution_count": null,
   "id": "c4202f5c",
   "metadata": {},
   "outputs": [],
   "source": [
    "# maestra_resultados_centro_costo.to_excel('maestra_resultados_centro_costo.xlsx')"
   ]
  },
  {
   "cell_type": "code",
   "execution_count": null,
   "id": "e5774c0c",
   "metadata": {
    "scrolled": false
   },
   "outputs": [],
   "source": [
    "maestra_resultados_centro_costo = pd.read_excel(\n",
    "        io=os.path.join('maestra_resultados_centro_costo_.xlsx'),\n",
    "        dtype={\n",
    "            'Fecha': 'datetime64[ns]',\n",
    "            'GrupoProducto': str,\n",
    "            'Division': str,\n",
    "            'CodigoCentroCosto': str,\n",
    "            'Real': float,\n",
    "            'Presupuesto': float ,\n",
    "            'Variable': str,\n",
    "            'AreaCalculo': str,\n",
    "            'Consecutivo': str,            \n",
    "            'TipoEmpleado': str\n",
    "        }\n",
    "    )\n",
    "\n",
    "maestra_resultados_centro_costo"
   ]
  },
  {
   "cell_type": "code",
   "execution_count": null,
   "id": "c35f1fbf",
   "metadata": {},
   "outputs": [],
   "source": [
    "maestra_resultados_centro_costo['AreaCalculo'].fillna(0, inplace=True)\n",
    "maestra_resultados_centro_costo['AreaCalculo'] = maestra_resultados_centro_costo['AreaCalculo'].astype(int)\n",
    "maestra_resultados_centro_costo"
   ]
  },
  {
   "cell_type": "code",
   "execution_count": null,
   "id": "c2c0c794",
   "metadata": {},
   "outputs": [],
   "source": [
    "maestra_resultados_centro_costo[maestra_resultados_centro_costo['Variable'] == 'RentabilidadUnidadNegocioCM2COGSSUB']"
   ]
  },
  {
   "cell_type": "markdown",
   "id": "42e4c644",
   "metadata": {},
   "source": [
    "## Euros"
   ]
  },
  {
   "cell_type": "code",
   "execution_count": null,
   "id": "3cafe6ff",
   "metadata": {},
   "outputs": [],
   "source": [
    "def convertir_a_euros(main):\n",
    "    # Definir las tasas de cambio\n",
    "    trm_marzo_2024 = 4253.92\n",
    "    trm_abril_2024 = 4226.47\n",
    "    trm_mayo_2024 = 4217.04\n",
    "    trm_promedio_2024 = 4652.35\n",
    "\n",
    "    # Crear una copia del DataFrame para evitar el SettingWithCopyWarning\n",
    "    main = main.copy()\n",
    "\n",
    "    # Convertir los valores de 'Real' y 'Presupuesto' a euros\n",
    "    main['RealEuros'] = main['Real'] / trm_mayo_2024\n",
    "    main['PresupuestoEuros'] = main['Presupuesto'] / trm_promedio_2024\n",
    "    main['PorcentajeCumplimientoEuros'] = (main['RealEuros']/main['PresupuestoEuros']).apply(lambda x: round(x, 2))\n",
    "\n",
    "    # Renombrar las columnas originales 'Real' y 'Presupuesto'\n",
    "    main = main.rename(columns={\n",
    "        'Real': 'RealCOP', 'Presupuesto': 'PresupuestoCOP', \n",
    "        'PorcentajeCumplimiento': 'PorcentajeCumplimientoCOP',\n",
    "        'PorcentajeCumplimientoEuros': 'PorcentajeCumplimiento'\n",
    "    })\n",
    "\n",
    "    # Renombrar las nuevas columnas para reflejar que están en euros\n",
    "    main = main.rename(columns={'RealEuros': 'Real', 'PresupuestoEuros': 'Presupuesto'})\n",
    "    return main[['Contexto', 'Variable', 'Fecha', 'Real', 'Presupuesto', 'PorcentajeCumplimiento', 'RealCOP', 'PresupuestoCOP', 'PorcentajeCumplimientoCOP']]"
   ]
  },
  {
   "cell_type": "code",
   "execution_count": null,
   "id": "8e2c5e15",
   "metadata": {},
   "outputs": [],
   "source": [
    "def unir_dataframes_por_columnas_comunes(df1, df2, how='inner'):\n",
    "    \"\"\"\n",
    "    Une dos DataFrames basándose en sus columnas comunes con un tipo de unión especificado.\n",
    "    \n",
    "    Parámetros:\n",
    "    - df1: Primer DataFrame.\n",
    "    - df2: Segundo DataFrame.\n",
    "    - how: Tipo de unión ('left', 'right', 'outer', 'inner'). Por defecto es 'inner'.\n",
    "    \n",
    "    Retorna:\n",
    "    - DataFrame resultante de la unión.\n",
    "    \"\"\"\n",
    "    # Encuentra las columnas comunes entre ambos DataFrames\n",
    "    columnas_comunes = df1.columns.intersection(df2.columns)\n",
    "    print(columnas_comunes)\n",
    "    # Une los DataFrames basándose en las columnas comunes y el tipo de unión especificado\n",
    "    df_unido = pd.merge(df1, df2, on=columnas_comunes.tolist(), how=how)\n",
    "    \n",
    "    return df_unido"
   ]
  },
  {
   "cell_type": "code",
   "execution_count": null,
   "id": "908adc91",
   "metadata": {},
   "outputs": [],
   "source": [
    "# variables_convertir_euros = ['VentaFacturadaBraunPais', 'VentaFacturadaZonaPaisSub', 'VentaFacturadaDivisionSub', 'VentaFacturadaUnidadNegocioSub', 'VentaFacturadaGrupoClientesKAMSSub']\n",
    "# variables_convertir_euros"
   ]
  },
  {
   "cell_type": "code",
   "execution_count": null,
   "id": "4f445811",
   "metadata": {},
   "outputs": [],
   "source": [
    "# maestra_resultados_aplicar_euros = maestra_resultados[maestra_resultados['Variable'].isin(variables_convertir_euros)]\n",
    "# maestra_resultados_aplicar_euros"
   ]
  },
  {
   "cell_type": "code",
   "execution_count": null,
   "id": "7c7c5988",
   "metadata": {},
   "outputs": [],
   "source": [
    "# maestra_resultados[maestra_resultados['Variable'] == 'VentaFacturadaBraunPais']"
   ]
  },
  {
   "cell_type": "code",
   "execution_count": null,
   "id": "1e1c5e10",
   "metadata": {},
   "outputs": [],
   "source": [
    "# maestra_resultados_convertido_euros = maestra_resultados.copy()\n",
    "\n",
    "# maestra_resultados_convertido_euros['RealCOP'] = 0\n",
    "# maestra_resultados_convertido_euros['PresupuestoCOP'] = 0\n",
    "# maestra_resultados_convertido_euros['PorcentajeCumplimientoCOP'] = 0\n",
    "\n",
    "# maestra_resultados_convertido_euros.update(convertir_a_euros(maestra_resultados_aplicar_euros))\n",
    "# maestra_resultados_convertido_euros"
   ]
  },
  {
   "cell_type": "code",
   "execution_count": null,
   "id": "2a2f4e30",
   "metadata": {},
   "outputs": [],
   "source": [
    "# maestra_resultados_convertido_euros[maestra_resultados_convertido_euros['Variable'] == 'VentaFacturadaBraunPais']"
   ]
  },
  {
   "cell_type": "code",
   "execution_count": null,
   "id": "4b8b7ab5",
   "metadata": {},
   "outputs": [],
   "source": [
    "# # Renombrar las nuevas columnas para reflejar que están en euros\n",
    "# main = main.rename(columns={'RealEuros': 'Real', 'PresupuestoEuros': 'Presupuesto'})"
   ]
  },
  {
   "cell_type": "code",
   "execution_count": null,
   "id": "9b47b3a9",
   "metadata": {},
   "outputs": [],
   "source": [
    "# # Renombrar las columnas originales 'Real' y 'Presupuesto'\n",
    "# main = main.rename(columns={\n",
    "#     'Real': 'RealCOP', 'Presupuesto': 'PresupuestoCOP', \n",
    "#     'PorcentajeCumplimiento': 'PorcentajeCumplimientoCOP',\n",
    "#     'PorcentajeCumplimientoEuros': 'PorcentajeCumplimiento'\n",
    "# })"
   ]
  },
  {
   "cell_type": "code",
   "execution_count": null,
   "id": "a9741e95",
   "metadata": {},
   "outputs": [],
   "source": [
    "# maestra_resultados_convertidos = maestra_resultados.drop(columns=['Unnamed: 0']).merge(\n",
    "#     maestra_resultados_convertido_euros,\n",
    "#     on = ['Contexto', 'Variable', 'Fecha'],\n",
    "#     how='left'\n",
    "# )\n",
    "# maestra_resultados_convertidos"
   ]
  },
  {
   "cell_type": "code",
   "execution_count": null,
   "id": "dd2c5007",
   "metadata": {},
   "outputs": [],
   "source": [
    "# maestra_resultados_convertidos[maestra_resultados_convertidos['Variable'] == 'VentaFacturadaBraunPais']"
   ]
  },
  {
   "cell_type": "code",
   "execution_count": null,
   "id": "057e8f54",
   "metadata": {},
   "outputs": [],
   "source": [
    "# maestra_resultados = maestra_resultados_convertido_euros.copy()\n",
    "# maestra_resultados"
   ]
  },
  {
   "cell_type": "markdown",
   "id": "cbd503a2",
   "metadata": {},
   "source": [
    "## Se recalculan los porcentajes de cumplimiento para darle manejo a negativos"
   ]
  },
  {
   "cell_type": "code",
   "execution_count": null,
   "id": "6fe2190e",
   "metadata": {},
   "outputs": [],
   "source": [
    "df_parrillas[df_parrillas['Variable'] == 'VentaCobradaBraunPais']"
   ]
  },
  {
   "cell_type": "code",
   "execution_count": null,
   "id": "6ee16e7d",
   "metadata": {},
   "outputs": [],
   "source": [
    "calculo_dataframe = CalculoDataframes()\n",
    "\n",
    "variables_convertir_euros = ['VentaFacturadaBraunPais', 'VentaFacturadaZonaPaisSub', 'VentaFacturadaDivisionSub', 'VentaFacturadaUnidadNegocioSub', 'VentaFacturadaGrupoClientesKAMSSub']\n",
    "# Convertir las variables a euros en 'maestra_resultados'\n",
    "maestra_resultados = calculo_dataframe.convertir_valores_a_euros(maestra_resultados, variables_convertir_euros)\n",
    "\n",
    "# Convertir las variables a euros en 'maestra_resultados_centro_costo'\n",
    "maestra_resultados_centro_costo = calculo_dataframe.convertir_valores_a_euros(maestra_resultados_centro_costo, variables_convertir_euros)\n",
    "\n",
    "# ## Se recalculan los porcentajes de cumplimiento para darle manejo a negativos"
   ]
  },
  {
   "cell_type": "code",
   "execution_count": null,
   "id": "5604c8dc",
   "metadata": {},
   "outputs": [],
   "source": [
    "def recalcular_porcentajes_cumplimiento(row):\n",
    "    response = row['PorcentajeCumplimiento']\n",
    "    if not pd.isnull(row['Real']) and not pd.isnull(row['Presupuesto']):\n",
    "        if row['Presupuesto'] == 0:\n",
    "            response = 0\n",
    "        elif row['Real'] - row['Presupuesto'] < 0:\n",
    "            response = 1 + ((row['Real'] - row['Presupuesto']) / abs(row['Presupuesto']))\n",
    "        elif row['Real'] - row['Presupuesto'] > 0:\n",
    "            response = 1 + abs((row['Real'] - row['Presupuesto']) / abs(row['Presupuesto']))\n",
    "    return round(response, 2)\n",
    "\n",
    "maestra_resultados['PorcentajeCumplimiento'] = maestra_resultados.apply(recalcular_porcentajes_cumplimiento, axis=1)\n",
    "maestra_resultados"
   ]
  },
  {
   "cell_type": "markdown",
   "id": "4f73ff28",
   "metadata": {},
   "source": [
    "### Se calculan los porcentajes de cumplimiento para Maestra de Centro de Costos"
   ]
  },
  {
   "cell_type": "code",
   "execution_count": null,
   "id": "54a7f697",
   "metadata": {},
   "outputs": [],
   "source": [
    "# maestra_resultados_centro_costo['PorcentajeCumplimiento'] = 0\n",
    "maestra_resultados_centro_costo['PorcentajeCumplimiento'] = maestra_resultados_centro_costo.apply(recalcular_porcentajes_cumplimiento, axis=1)\n",
    "# maestra_resultados_centro_costo.drop(columns={'AreaCalculo', 'Consecutivo', 'TipoEmpleado'})"
   ]
  },
  {
   "cell_type": "markdown",
   "id": "c34420de",
   "metadata": {},
   "source": [
    "## Se une la maestra de resultados con la parrilla"
   ]
  },
  {
   "cell_type": "code",
   "execution_count": null,
   "id": "7a6ce6ff",
   "metadata": {},
   "outputs": [],
   "source": [
    "maestra_resultados[\n",
    "     (maestra_resultados['Fecha']=='2024-05-01') &\n",
    "    (maestra_resultados['Contexto']=='1111117')\n",
    "]"
   ]
  },
  {
   "cell_type": "code",
   "execution_count": null,
   "id": "9436d064",
   "metadata": {},
   "outputs": [],
   "source": [
    "# df_parrillas[df_parrillas['Variable'] == 'RentabilidadDivisionCM2COGsSub']"
   ]
  },
  {
   "cell_type": "code",
   "execution_count": null,
   "id": "ac5c14e4",
   "metadata": {},
   "outputs": [],
   "source": [
    "df_parrillas_tipos_calculos.head()"
   ]
  },
  {
   "cell_type": "code",
   "execution_count": null,
   "id": "c1bcd8a4",
   "metadata": {},
   "outputs": [],
   "source": [
    "df_parrillas[df_parrillas['CodigoEmpleado'] == '5004523']"
   ]
  },
  {
   "cell_type": "code",
   "execution_count": null,
   "id": "048fd53c",
   "metadata": {},
   "outputs": [],
   "source": []
  },
  {
   "cell_type": "code",
   "execution_count": null,
   "id": "fb06ea83",
   "metadata": {},
   "outputs": [],
   "source": [
    "maestra_resultados[maestra_resultados['Variable'] == 'VentaCobradaBraunPais']"
   ]
  },
  {
   "cell_type": "code",
   "execution_count": null,
   "id": "01e90a0a",
   "metadata": {},
   "outputs": [],
   "source": [
    "maestra_resultados_centro_costo[maestra_resultados_centro_costo['Variable'] == 'VentaFacturadaPortafolioClusterSub']"
   ]
  },
  {
   "cell_type": "code",
   "execution_count": null,
   "id": "41a746df",
   "metadata": {},
   "outputs": [],
   "source": [
    "df_parrillas[\n",
    "     (df_parrillas['Variable'] == 'RentabilidadUnidadNegocioCM2COGSSUB') \n",
    "#     (df_parrillas['CodigoEmpleado'] == '5036358')\n",
    "]"
   ]
  },
  {
   "cell_type": "code",
   "execution_count": null,
   "id": "9c291ad4",
   "metadata": {},
   "outputs": [],
   "source": [
    "maestra_resultados[maestra_resultados['Contexto'] == '5002711_1'].merge(\n",
    "    df_parrillas[df_parrillas['Contexto'] == '5002711_1'],\n",
    "    on=['Variable', 'Contexto'],\n",
    "    how='left'\n",
    ")"
   ]
  },
  {
   "cell_type": "markdown",
   "id": "c47e6196",
   "metadata": {},
   "source": [
    "### Maestra de Resultados por Empleado"
   ]
  },
  {
   "cell_type": "code",
   "execution_count": null,
   "id": "e96d5a42",
   "metadata": {},
   "outputs": [],
   "source": [
    "maestra_resultados_por_empleado = maestra_resultados.merge(\n",
    "    df_parrillas,\n",
    "    how='left',\n",
    "    indicator=True\n",
    ")\n",
    "maestra_resultados_por_empleado"
   ]
  },
  {
   "cell_type": "code",
   "execution_count": null,
   "id": "27287935",
   "metadata": {
    "scrolled": false
   },
   "outputs": [],
   "source": [
    "maestra_resultados_por_empleado[\n",
    "     (maestra_resultados_por_empleado['Fecha']=='2024-05-01') &\n",
    "    (maestra_resultados_por_empleado['Contexto']=='1111117')\n",
    "]"
   ]
  },
  {
   "cell_type": "code",
   "execution_count": null,
   "id": "4233da00",
   "metadata": {},
   "outputs": [],
   "source": [
    "df_empleados[df_empleados['CodigoEmpleado'] == '1111117']"
   ]
  },
  {
   "cell_type": "code",
   "execution_count": null,
   "id": "e123f582",
   "metadata": {},
   "outputs": [],
   "source": [
    "maestra_resultados_por_empleado[maestra_resultados_por_empleado['Variable'] == 'VentaFacturadaGrupoClientesKAMSSub']"
   ]
  },
  {
   "cell_type": "code",
   "execution_count": null,
   "id": "e0ee7ce6",
   "metadata": {},
   "outputs": [],
   "source": [
    "maestra_resultados_por_empleado = maestra_resultados_por_empleado.merge(\n",
    "    df_empleados[['CodigoEmpleado', 'TipoEmpleado', 'AreaCalculo', 'Apellidos', 'Nombre', 'FechaIngreso']],\n",
    "    on='CodigoEmpleado',\n",
    "    how='left'\n",
    ")\n",
    "maestra_resultados_por_empleado"
   ]
  },
  {
   "cell_type": "code",
   "execution_count": null,
   "id": "9c9a50e9",
   "metadata": {},
   "outputs": [],
   "source": [
    "maestra_resultados_por_empleado[\n",
    "    (maestra_resultados_por_empleado['Variable'] == 'ObjetivosCualitativos') &\n",
    "    (maestra_resultados_por_empleado['Contexto'] == '5004293')\n",
    "]"
   ]
  },
  {
   "cell_type": "code",
   "execution_count": null,
   "id": "9a4da9c5",
   "metadata": {},
   "outputs": [],
   "source": [
    "# Se añaden líneas para filtrar registros vacíos ('Fecha' y 'CodigoEmpleado')\n",
    "maestra_resultados_por_empleado.dropna(subset=[\n",
    "        'Fecha'\n",
    "    ], inplace=True)\n",
    "maestra_resultados_por_empleado['CodigoEmpleado'] = maestra_resultados_por_empleado['CodigoEmpleado'].astype(str)\n",
    "maestra_resultados_por_empleado"
   ]
  },
  {
   "cell_type": "code",
   "execution_count": null,
   "id": "1ed3c3a9",
   "metadata": {},
   "outputs": [],
   "source": [
    "df_salarios_variables[df_salarios_variables['CodigoEmpleado'] == '16659046']"
   ]
  },
  {
   "cell_type": "code",
   "execution_count": null,
   "id": "f8ffd636",
   "metadata": {},
   "outputs": [],
   "source": [
    "maestra_resultados_por_empleado[maestra_resultados_por_empleado['CodigoEmpleado'] == '16659046']"
   ]
  },
  {
   "cell_type": "code",
   "execution_count": null,
   "id": "5dd983ce",
   "metadata": {},
   "outputs": [],
   "source": [
    "# TODO Hacer el merge con la tabla de promedio variable\n",
    "maestra_resultados_por_empleado = maestra_resultados_por_empleado.merge(\n",
    "    df_salarios_variables[['CodigoEmpleado', 'Fecha', 'PromedioSalarioVariable']].rename(\n",
    "        columns={'PromedioSalarioVariable': 'SalarioVariable'}\n",
    "    ),\n",
    "    on=['CodigoEmpleado', 'Fecha'],\n",
    "    how='left'\n",
    ")\n",
    "maestra_resultados_por_empleado"
   ]
  },
  {
   "cell_type": "code",
   "execution_count": null,
   "id": "f3ca3457",
   "metadata": {},
   "outputs": [],
   "source": [
    "maestra_resultados_por_empleado[\n",
    "     (maestra_resultados_por_empleado['Fecha']=='2024-05-01') &\n",
    "    (maestra_resultados_por_empleado['Contexto']=='1111117')\n",
    "]"
   ]
  },
  {
   "cell_type": "markdown",
   "id": "6ddef157",
   "metadata": {},
   "source": [
    "### Maestra de Resultados por Empleado y Centro de Costos"
   ]
  },
  {
   "cell_type": "code",
   "execution_count": null,
   "id": "b16873cc",
   "metadata": {},
   "outputs": [],
   "source": [
    "maestra_resultados_centro_costo.head()"
   ]
  },
  {
   "cell_type": "code",
   "execution_count": null,
   "id": "3985346d",
   "metadata": {},
   "outputs": [],
   "source": [
    "df_parrillas"
   ]
  },
  {
   "cell_type": "code",
   "execution_count": null,
   "id": "99268245",
   "metadata": {},
   "outputs": [],
   "source": [
    "maestra_resultados_por_empleado_centro_costo = maestra_resultados_centro_costo.drop(columns={'AreaCalculo', 'Consecutivo', 'TipoEmpleado', 'Unnamed: 0'})"
   ]
  },
  {
   "cell_type": "code",
   "execution_count": null,
   "id": "bbd9bcfc",
   "metadata": {},
   "outputs": [],
   "source": [
    "maestra_resultados_por_empleado_centro_costo = maestra_resultados_por_empleado_centro_costo.merge(\n",
    "    df_parrillas,\n",
    "    on=['Contexto', 'Variable'],\n",
    "    how='left'\n",
    ")\n",
    "maestra_resultados_por_empleado_centro_costo.head()"
   ]
  },
  {
   "cell_type": "code",
   "execution_count": null,
   "id": "3784385e",
   "metadata": {},
   "outputs": [],
   "source": [
    "maestra_resultados_por_empleado_centro_costo[\n",
    "    (maestra_resultados_por_empleado_centro_costo['CodigoEmpleado'] == '5002899')\n",
    "]   "
   ]
  },
  {
   "cell_type": "code",
   "execution_count": null,
   "id": "2496bb7e",
   "metadata": {},
   "outputs": [],
   "source": [
    "maestra_resultados_por_empleado_centro_costo[\n",
    "    (maestra_resultados_por_empleado_centro_costo['CodigoEmpleado'] == '1032450706') &\n",
    "    (maestra_resultados_por_empleado_centro_costo['Fecha'] == '2023-01-01')\n",
    "]"
   ]
  },
  {
   "cell_type": "code",
   "execution_count": null,
   "id": "1730b1cb",
   "metadata": {},
   "outputs": [],
   "source": [
    "# maestra_resultados_por_empleado_centro_costo = maestra_resultados_centro_costo.drop(columns=['Unnamed: 0' , 'Consecutivo']).merge(\n",
    "#     df_parrillas_tipos_calculos,\n",
    "#     on=['TipoEmpleado', 'AreaCalculo'],\n",
    "#     how='left'\n",
    "# )\n",
    "# maestra_resultados_por_empleado_centro_costo.head()"
   ]
  },
  {
   "cell_type": "code",
   "execution_count": null,
   "id": "3aae6912",
   "metadata": {},
   "outputs": [],
   "source": [
    "# maestra_resultados_por_empleado_centro_costo = maestra_resultados_por_empleado_centro_costo.merge(\n",
    "#     df_empleados_centros_costos.rename(columns={'PorcentajeAsignacion': 'Porcentaje'})\n",
    "# )"
   ]
  },
  {
   "cell_type": "code",
   "execution_count": null,
   "id": "b0266039",
   "metadata": {},
   "outputs": [],
   "source": [
    "# maestra_resultados_por_empleado_centro_costo[maestra_resultados_por_empleado_centro_costo['CodigoEmpleado'] == '1032450706']"
   ]
  },
  {
   "cell_type": "code",
   "execution_count": null,
   "id": "7d42e2b9",
   "metadata": {},
   "outputs": [],
   "source": [
    "df_empleados[['CodigoEmpleado', 'TipoEmpleado', 'AreaCalculo', 'Apellidos', 'Nombre', 'FechaIngreso', 'FechaRetiro']][df_empleados['CodigoEmpleado'] == '5005463']"
   ]
  },
  {
   "cell_type": "code",
   "execution_count": null,
   "id": "29756afa",
   "metadata": {},
   "outputs": [],
   "source": [
    "df_empleados[['CodigoEmpleado', 'TipoEmpleado', 'AreaCalculo', 'Apellidos', 'Nombre', 'FechaIngreso', 'FechaRetiro']][df_empleados['CodigoEmpleado'] == '1098612757']"
   ]
  },
  {
   "cell_type": "code",
   "execution_count": null,
   "id": "e293a5e2",
   "metadata": {},
   "outputs": [],
   "source": [
    "df_empleados_inactivos[['CodigoEmpleado', 'TipoEmpleado', 'AreaCalculo', 'Apellidos', 'Nombre', 'FechaIngreso', 'FechaRetiro']][df_empleados_inactivos['CodigoEmpleado'] == '1032450706']"
   ]
  },
  {
   "cell_type": "code",
   "execution_count": null,
   "id": "7d43b6a6",
   "metadata": {},
   "outputs": [],
   "source": [
    "df_empleados_inactivos[['CodigoEmpleado', 'TipoEmpleado', 'AreaCalculo', 'Apellidos', 'Nombre', 'FechaIngreso', 'FechaRetiro']][df_empleados_inactivos['CodigoEmpleado'] == '5005463']"
   ]
  },
  {
   "cell_type": "code",
   "execution_count": null,
   "id": "2cce6ec2",
   "metadata": {},
   "outputs": [],
   "source": [
    "df_empleados_totales = pd.concat([df_empleados, df_empleados_inactivos])"
   ]
  },
  {
   "cell_type": "code",
   "execution_count": null,
   "id": "b3c4d9bd",
   "metadata": {},
   "outputs": [],
   "source": [
    "maestra_resultados_por_empleado_centro_costo = maestra_resultados_por_empleado_centro_costo.merge(\n",
    "    df_empleados_totales[['CodigoEmpleado', 'TipoEmpleado', 'AreaCalculo', 'Apellidos', 'Nombre', 'FechaIngreso']],\n",
    "    on=['CodigoEmpleado'],\n",
    "    how='left'\n",
    ")\n",
    "maestra_resultados_por_empleado_centro_costo.head()"
   ]
  },
  {
   "cell_type": "code",
   "execution_count": null,
   "id": "39e974de",
   "metadata": {},
   "outputs": [],
   "source": [
    "# Se añaden líneas para filtrar registros vacíos ('Fecha' y 'CodigoEmpleado')\n",
    "maestra_resultados_por_empleado_centro_costo.dropna(subset=[\n",
    "        'Fecha'\n",
    "    ], inplace=True)\n",
    "maestra_resultados_por_empleado_centro_costo['CodigoEmpleado'] = maestra_resultados_por_empleado_centro_costo['CodigoEmpleado'].astype(str)\n",
    "maestra_resultados_por_empleado_centro_costo.head()"
   ]
  },
  {
   "cell_type": "code",
   "execution_count": null,
   "id": "a9a6215f",
   "metadata": {},
   "outputs": [],
   "source": [
    "# TODO Hacer el merge con la tabla de promedio variable\n",
    "maestra_resultados_por_empleado_centro_costo = maestra_resultados_por_empleado_centro_costo.merge(\n",
    "    df_salarios_variables[['CodigoEmpleado', 'Fecha', 'PromedioSalarioVariable']].rename(\n",
    "        columns={'PromedioSalarioVariable': 'SalarioVariable'}\n",
    "    ),\n",
    "    on=['CodigoEmpleado', 'Fecha'],\n",
    "    how='left'\n",
    ")\n",
    "maestra_resultados_por_empleado_centro_costo.head()"
   ]
  },
  {
   "cell_type": "code",
   "execution_count": null,
   "id": "0a48087a",
   "metadata": {
    "scrolled": false
   },
   "outputs": [],
   "source": [
    "maestra_resultados_por_empleado[\n",
    "     (maestra_resultados_por_empleado['Fecha']=='2024-05-01') &\n",
    "    (maestra_resultados_por_empleado['Contexto']=='1111117') &\n",
    "    (maestra_resultados_por_empleado['Variable']=='ObjetivosCualitativos')\n",
    "]"
   ]
  },
  {
   "cell_type": "code",
   "execution_count": null,
   "id": "03ef1cb2",
   "metadata": {},
   "outputs": [],
   "source": [
    "maestra_resultados_por_empleado_centro_costo[maestra_resultados_por_empleado_centro_costo['CodigoEmpleado'] == '1032450706']"
   ]
  },
  {
   "cell_type": "markdown",
   "id": "307d35b4",
   "metadata": {},
   "source": [
    "### Calculo sobre maestra resultados por empleado"
   ]
  },
  {
   "cell_type": "code",
   "execution_count": null,
   "id": "5ba445ab",
   "metadata": {},
   "outputs": [],
   "source": [
    "maestra_resultados_por_empleado = maestra_resultados_por_empleado.merge(\n",
    "    df_factores_liquidacion,\n",
    "    on=['TipoEmpleado', 'PorcentajeCumplimiento'],\n",
    "    how='left'\n",
    ")\n",
    "\n",
    "maestra_resultados_por_empleado['FactorIncentivo'] = np.where(\n",
    "    ((maestra_resultados_por_empleado['Fecha'] >= '2022-08-01') & \n",
    "     (maestra_resultados_por_empleado['PorcentajeCumplimiento'] == 0) & \n",
    "     (maestra_resultados_por_empleado['Presupuesto'] == 0) & \n",
    "     (maestra_resultados_por_empleado['Real'] == 0)),\n",
    "    0.25,\n",
    "    maestra_resultados_por_empleado['FactorIncentivo']\n",
    ")\n",
    "maestra_resultados_por_empleado['FactorIncentivo'] = np.where(\n",
    "    ((maestra_resultados_por_empleado['Fecha'] >= '2022-08-01') & \n",
    "     (maestra_resultados_por_empleado['PorcentajeCumplimiento'] == 0) & \n",
    "     (maestra_resultados_por_empleado['Presupuesto'] == 0) & \n",
    "     (maestra_resultados_por_empleado['Real'] > 0)),\n",
    "    0.5,\n",
    "    maestra_resultados_por_empleado['FactorIncentivo']\n",
    ")\n",
    "\n",
    "##\n",
    "_excepciones_porcentaje_cumplimiento = [\n",
    "    # {\n",
    "    #     'TipoEmpleado': 'VC',\n",
    "    #     'AreaCalculo': 7,\n",
    "    #     'Variable': 'VentaFacturadaZonaCargoIndividualSub',\n",
    "    #     'Consecutivo': 4,\n",
    "    #     'FechaInicial': '2021-02-01',\n",
    "    #     'FechaFinal': '2021-06-01',\n",
    "    #     'PorcentajeCumplimiento': 1,\n",
    "    #     'FactorIncentivo': 1,\n",
    "    #     'Codigos': ['5003527']\n",
    "    # }\n",
    "]\n",
    "\n",
    "for excepcion in _excepciones_porcentaje_cumplimiento:\n",
    "    maestra_resultados_por_empleado['PorcentajeCumplimiento'] = np.where(\n",
    "        (\n",
    "            (maestra_resultados_por_empleado['CodigoEmpleado'].isin(excepcion['Codigos'])) &\n",
    "            (maestra_resultados_por_empleado['Consecutivo'] == excepcion['Consecutivo']) &\n",
    "            (maestra_resultados_por_empleado['Variable'] == excepcion['Variable']) &\n",
    "            (maestra_resultados_por_empleado['Fecha'] >= excepcion['FechaInicial']) &\n",
    "            (maestra_resultados_por_empleado['Fecha'] <= excepcion['FechaFinal'])\n",
    "        ),\n",
    "        excepcion['PorcentajeCumplimiento'],\n",
    "        maestra_resultados_por_empleado['PorcentajeCumplimiento']\n",
    "    )\n",
    "    maestra_resultados_por_empleado['FactorIncentivo'] = np.where(\n",
    "        (\n",
    "            (maestra_resultados_por_empleado['CodigoEmpleado'].isin(excepcion['Codigos'])) &\n",
    "            (maestra_resultados_por_empleado['Consecutivo'] == excepcion['Consecutivo']) &\n",
    "            (maestra_resultados_por_empleado['Variable'] == excepcion['Variable']) &\n",
    "            (maestra_resultados_por_empleado['Fecha'] >= excepcion['FechaInicial']) &\n",
    "            (maestra_resultados_por_empleado['Fecha'] <= excepcion['FechaFinal'])\n",
    "        ),\n",
    "        excepcion['FactorIncentivo'],\n",
    "        maestra_resultados_por_empleado['FactorIncentivo']\n",
    "    )\n",
    "##\n",
    "\n",
    "maestra_resultados_por_empleado['FactorIncentivo'] = np.where(\n",
    "    (maestra_resultados_por_empleado['PorcentajeCumplimiento']<0.9) & (maestra_resultados_por_empleado['FactorIncentivo'].isnull()),\n",
    "    0,\n",
    "    maestra_resultados_por_empleado['FactorIncentivo']\n",
    ")\n",
    "maestra_resultados_por_empleado['FactorIncentivo'] = np.where(\n",
    "    (maestra_resultados_por_empleado['PorcentajeCumplimiento']>1.06) & (maestra_resultados_por_empleado['FactorIncentivo'].isnull()),\n",
    "    2.5,\n",
    "    maestra_resultados_por_empleado['FactorIncentivo']\n",
    ")\n",
    "maestra_resultados_por_empleado = maestra_resultados_por_empleado[maestra_resultados_por_empleado['Fecha'].notnull()]\n",
    "maestra_resultados_por_empleado['FactorMes'] = pd.DatetimeIndex(maestra_resultados_por_empleado['Fecha']).month\n",
    "maestra_resultados_por_empleado['FactorMes'] = maestra_resultados_por_empleado['FactorMes'].astype('int')\n",
    "maestra_resultados_por_empleado['Liquidado'] = maestra_resultados_por_empleado['SalarioVariable']*maestra_resultados_por_empleado['Porcentaje']\n",
    "maestra_resultados_por_empleado['Liquidado'] = maestra_resultados_por_empleado['Liquidado']*maestra_resultados_por_empleado['FactorIncentivo']\n",
    "\n",
    "try:\n",
    "    maestra_resultados_por_empleado['DifMonths'] = ((maestra_resultados_por_empleado.Fecha - maestra_resultados_por_empleado.FechaIngreso)/np.timedelta64(1, 'M'))\n",
    "except:\n",
    "    maestra_resultados_por_empleado['DifMonths'] = 0\n",
    "maestra_resultados_por_empleado['DifMonths'].fillna(0, inplace=True)\n",
    "maestra_resultados_por_empleado['DifMonths'] = maestra_resultados_por_empleado['DifMonths'].apply(lambda x: round(x, 0))\n",
    "maestra_resultados_por_empleado['DifMonths'] = maestra_resultados_por_empleado['DifMonths'].astype('int')\n",
    "\n",
    "maestra_resultados_por_empleado['DifMonths'] = maestra_resultados_por_empleado.groupby(['CodigoEmpleado'])['DifMonths'].transform(min)\n",
    "maestra_resultados_por_empleado['DifMonths'] = np.where(\n",
    "    maestra_resultados_por_empleado['DifMonths']>0, 0, maestra_resultados_por_empleado['DifMonths']\n",
    ")\n",
    "maestra_resultados_por_empleado['NuevoFactor'] = maestra_resultados_por_empleado['FactorMes'] + maestra_resultados_por_empleado['DifMonths']\n",
    "maestra_resultados_por_empleado['NuevoFactor'] = maestra_resultados_por_empleado['NuevoFactor'].apply(lambda x: 0 if x<0 else x)\n",
    "\n",
    "###\n",
    "_excepciones_factor_mes = [\n",
    "    # Garantizados para VEs y VCs\n",
    "    {\n",
    "        'TipoEmpleado': ['VC', 'VE'],\n",
    "        'FechaInicial': '2022-03-01',\n",
    "        'FechaFinal': '2022-12-01',\n",
    "        'SumFactorMes': -2\n",
    "    }\n",
    "]\n",
    "for excepcion in _excepciones_factor_mes:\n",
    "    maestra_resultados_por_empleado['NuevoFactor'] = np.where(\n",
    "        (\n",
    "            (maestra_resultados_por_empleado['TipoEmpleado'].isin(excepcion['TipoEmpleado'])) &\n",
    "            (maestra_resultados_por_empleado['Fecha'] >= excepcion['FechaInicial']) &\n",
    "            (maestra_resultados_por_empleado['Fecha'] <= excepcion['FechaFinal'])\n",
    "        ),\n",
    "        maestra_resultados_por_empleado['NuevoFactor'] + excepcion['SumFactorMes'],\n",
    "        maestra_resultados_por_empleado['NuevoFactor']\n",
    "    )\n",
    "\n",
    "maestra_resultados_por_empleado['NuevoFactor'] = np.where(\n",
    "    maestra_resultados_por_empleado['NuevoFactor'] < 1,\n",
    "    1,\n",
    "    maestra_resultados_por_empleado['NuevoFactor']\n",
    ")\n",
    "maestra_resultados_por_empleado['NuevoFactorBK'] = maestra_resultados_por_empleado['NuevoFactor']\n",
    "###\n",
    "\n",
    "maestra_resultados_por_empleado['Liquidado'] = maestra_resultados_por_empleado['Liquidado']*maestra_resultados_por_empleado['NuevoFactor']\n",
    "\n",
    "maestra_resultados_por_empleado = maestra_resultados_por_empleado[maestra_resultados_por_empleado['CodigoEmpleado'].notnull()]"
   ]
  },
  {
   "cell_type": "code",
   "execution_count": null,
   "id": "33c6a298",
   "metadata": {},
   "outputs": [],
   "source": [
    "maestra_resultados_por_empleado"
   ]
  },
  {
   "cell_type": "code",
   "execution_count": null,
   "id": "38f0e474",
   "metadata": {},
   "outputs": [],
   "source": [
    "maestra_resultados_por_empleado[\n",
    "     (maestra_resultados_por_empleado['Fecha']=='2024-05-01') &\n",
    "    (maestra_resultados_por_empleado['Contexto']=='291169471')\n",
    "]['Liquidado']"
   ]
  },
  {
   "cell_type": "markdown",
   "id": "74b4a5d3",
   "metadata": {},
   "source": [
    "### Calculo sobre maestra resultados por empleado centro costo"
   ]
  },
  {
   "cell_type": "code",
   "execution_count": null,
   "id": "bc043b61",
   "metadata": {},
   "outputs": [],
   "source": []
  },
  {
   "cell_type": "code",
   "execution_count": null,
   "id": "6b58efbe",
   "metadata": {},
   "outputs": [],
   "source": [
    "maestra_resultados_por_empleado_centro_costo_final = maestra_resultados_por_empleado_centro_costo.merge(\n",
    "    df_factores_liquidacion,\n",
    "    on=['TipoEmpleado', 'PorcentajeCumplimiento'],\n",
    "    how='left'\n",
    ")\n",
    "\n",
    "maestra_resultados_por_empleado_centro_costo_final['FactorIncentivo'] = np.where(\n",
    "    ((maestra_resultados_por_empleado_centro_costo_final['Fecha'] >= '2022-08-01') & \n",
    "     (maestra_resultados_por_empleado_centro_costo_final['PorcentajeCumplimiento'] == 0) & \n",
    "     (maestra_resultados_por_empleado_centro_costo_final['Presupuesto'] == 0) & \n",
    "     (maestra_resultados_por_empleado_centro_costo_final['Real'] == 0)),\n",
    "    0.25,\n",
    "    maestra_resultados_por_empleado_centro_costo_final['FactorIncentivo']\n",
    ")\n",
    "maestra_resultados_por_empleado_centro_costo_final['FactorIncentivo'] = np.where(\n",
    "    ((maestra_resultados_por_empleado_centro_costo_final['Fecha'] >= '2022-08-01') & \n",
    "     (maestra_resultados_por_empleado_centro_costo_final['PorcentajeCumplimiento'] == 0) & \n",
    "     (maestra_resultados_por_empleado_centro_costo_final['Presupuesto'] == 0) & \n",
    "     (maestra_resultados_por_empleado_centro_costo_final['Real'] > 0)),\n",
    "    0.5,\n",
    "    maestra_resultados_por_empleado_centro_costo_final['FactorIncentivo']\n",
    ")\n",
    "\n",
    "##\n",
    "_excepciones_porcentaje_cumplimiento = [\n",
    "    # {\n",
    "    #     'TipoEmpleado': 'VC',\n",
    "    #     'AreaCalculo': 7,\n",
    "    #     'Variable': 'VentaFacturadaZonaCargoIndividualSub',\n",
    "    #     'Consecutivo': 4,\n",
    "    #     'FechaInicial': '2021-02-01',\n",
    "    #     'FechaFinal': '2021-06-01',\n",
    "    #     'PorcentajeCumplimiento': 1,\n",
    "    #     'FactorIncentivo': 1,\n",
    "    #     'Codigos': ['5003527']\n",
    "    # }\n",
    "]\n",
    "\n",
    "for excepcion in _excepciones_porcentaje_cumplimiento:\n",
    "    maestra_resultados_por_empleado_centro_costo_final['PorcentajeCumplimiento'] = np.where(\n",
    "        (\n",
    "            (maestra_resultados_por_empleado_centro_costo_final['CodigoEmpleado'].isin(excepcion['Codigos'])) &\n",
    "            (maestra_resultados_por_empleado_centro_costo_final['Consecutivo'] == excepcion['Consecutivo']) &\n",
    "            (maestra_resultados_por_empleado_centro_costo_final['Variable'] == excepcion['Variable']) &\n",
    "            (maestra_resultados_por_empleado_centro_costo_final['Fecha'] >= excepcion['FechaInicial']) &\n",
    "            (maestra_resultados_por_empleado_centro_costo_final['Fecha'] <= excepcion['FechaFinal'])\n",
    "        ),\n",
    "        excepcion['PorcentajeCumplimiento'],\n",
    "        maestra_resultados_por_empleado_centro_costo_final['PorcentajeCumplimiento']\n",
    "    )\n",
    "    maestra_resultados_por_empleado_centro_costo_final['FactorIncentivo'] = np.where(\n",
    "        (\n",
    "            (maestra_resultados_por_empleado_centro_costo_final['CodigoEmpleado'].isin(excepcion['Codigos'])) &\n",
    "            (maestra_resultados_por_empleado_centro_costo_final['Consecutivo'] == excepcion['Consecutivo']) &\n",
    "            (maestra_resultados_por_empleado_centro_costo_final['Variable'] == excepcion['Variable']) &\n",
    "            (maestra_resultados_por_empleado_centro_costo_final['Fecha'] >= excepcion['FechaInicial']) &\n",
    "            (maestra_resultados_por_empleado_centro_costo_final['Fecha'] <= excepcion['FechaFinal'])\n",
    "        ),\n",
    "        excepcion['FactorIncentivo'],\n",
    "        maestra_resultados_por_empleado_centro_costo_final['FactorIncentivo']\n",
    "    )\n",
    "##\n",
    "\n",
    "maestra_resultados_por_empleado_centro_costo_final['FactorIncentivo'] = np.where(\n",
    "    (maestra_resultados_por_empleado_centro_costo_final['PorcentajeCumplimiento']<0.9) & (maestra_resultados_por_empleado_centro_costo_final['FactorIncentivo'].isnull()),\n",
    "    0,\n",
    "    maestra_resultados_por_empleado_centro_costo_final['FactorIncentivo']\n",
    ")\n",
    "maestra_resultados_por_empleado_centro_costo_final['FactorIncentivo'] = np.where(\n",
    "    (maestra_resultados_por_empleado_centro_costo_final['PorcentajeCumplimiento']>1.06) & (maestra_resultados_por_empleado_centro_costo_final['FactorIncentivo'].isnull()),\n",
    "    2.5,\n",
    "    maestra_resultados_por_empleado_centro_costo_final['FactorIncentivo']\n",
    ")\n",
    "maestra_resultados_por_empleado_centro_costo_final = maestra_resultados_por_empleado_centro_costo_final[maestra_resultados_por_empleado_centro_costo_final['Fecha'].notnull()]\n",
    "maestra_resultados_por_empleado_centro_costo_final['FactorMes'] = pd.DatetimeIndex(maestra_resultados_por_empleado_centro_costo_final['Fecha']).month\n",
    "maestra_resultados_por_empleado_centro_costo_final['FactorMes'] = maestra_resultados_por_empleado_centro_costo_final['FactorMes'].astype('int')\n",
    "maestra_resultados_por_empleado_centro_costo_final['Liquidado'] = maestra_resultados_por_empleado_centro_costo_final['SalarioVariable']*maestra_resultados_por_empleado_centro_costo_final['Porcentaje']\n",
    "maestra_resultados_por_empleado_centro_costo_final['Liquidado'] = maestra_resultados_por_empleado_centro_costo_final['Liquidado']*maestra_resultados_por_empleado_centro_costo_final['FactorIncentivo']\n",
    "\n",
    "try:\n",
    "    maestra_resultados_por_empleado_centro_costo_final['DifMonths'] = ((maestra_resultados_por_empleado_centro_costo_final.Fecha - maestra_resultados_por_empleado_centro_costo_final.FechaIngreso)/np.timedelta64(1, 'M'))\n",
    "except:\n",
    "    maestra_resultados_por_empleado_centro_costo_final['DifMonths'] = 0\n",
    "maestra_resultados_por_empleado_centro_costo_final['DifMonths'].fillna(0, inplace=True)\n",
    "maestra_resultados_por_empleado_centro_costo_final['DifMonths'] = maestra_resultados_por_empleado_centro_costo_final['DifMonths'].apply(lambda x: round(x, 0))\n",
    "maestra_resultados_por_empleado_centro_costo_final['DifMonths'] = maestra_resultados_por_empleado_centro_costo_final['DifMonths'].astype('int')\n",
    "\n",
    "maestra_resultados_por_empleado_centro_costo_final['DifMonths'] = maestra_resultados_por_empleado_centro_costo_final.groupby(['CodigoEmpleado'])['DifMonths'].transform(min)\n",
    "maestra_resultados_por_empleado_centro_costo_final['DifMonths'] = np.where(\n",
    "    maestra_resultados_por_empleado_centro_costo_final['DifMonths']>0, 0, maestra_resultados_por_empleado_centro_costo_final['DifMonths']\n",
    ")\n",
    "maestra_resultados_por_empleado_centro_costo_final['NuevoFactor'] = maestra_resultados_por_empleado_centro_costo_final['FactorMes'] + maestra_resultados_por_empleado_centro_costo_final['DifMonths']\n",
    "maestra_resultados_por_empleado_centro_costo_final['NuevoFactor'] = maestra_resultados_por_empleado_centro_costo_final['NuevoFactor'].apply(lambda x: 0 if x<0 else x)\n",
    "\n",
    "###\n",
    "_excepciones_factor_mes = [\n",
    "    # Garantizados para VEs y VCs\n",
    "    {\n",
    "        'TipoEmpleado': ['VC', 'VE'],\n",
    "        'FechaInicial': '2022-03-01',\n",
    "        'FechaFinal': '2022-12-01',\n",
    "        'SumFactorMes': -2\n",
    "    }\n",
    "]\n",
    "for excepcion in _excepciones_factor_mes:\n",
    "    maestra_resultados_por_empleado_centro_costo_final['NuevoFactor'] = np.where(\n",
    "        (\n",
    "            (maestra_resultados_por_empleado_centro_costo_final['TipoEmpleado'].isin(excepcion['TipoEmpleado'])) &\n",
    "            (maestra_resultados_por_empleado_centro_costo_final['Fecha'] >= excepcion['FechaInicial']) &\n",
    "            (maestra_resultados_por_empleado_centro_costo_final['Fecha'] <= excepcion['FechaFinal'])\n",
    "        ),\n",
    "        maestra_resultados_por_empleado_centro_costo_final['NuevoFactor'] + excepcion['SumFactorMes'],\n",
    "        maestra_resultados_por_empleado_centro_costo_final['NuevoFactor']\n",
    "    )\n",
    "\n",
    "maestra_resultados_por_empleado_centro_costo_final['NuevoFactor'] = np.where(\n",
    "    maestra_resultados_por_empleado_centro_costo_final['NuevoFactor'] < 1,\n",
    "    1,\n",
    "    maestra_resultados_por_empleado_centro_costo_final['NuevoFactor']\n",
    ")\n",
    "maestra_resultados_por_empleado_centro_costo_final['NuevoFactorBK'] = maestra_resultados_por_empleado_centro_costo_final['NuevoFactor']\n",
    "###\n",
    "\n",
    "maestra_resultados_por_empleado_centro_costo_final['Liquidado'] = maestra_resultados_por_empleado_centro_costo_final['Liquidado']*maestra_resultados_por_empleado_centro_costo_final['NuevoFactor']\n",
    "\n",
    "maestra_resultados_por_empleado_centro_costo_final = maestra_resultados_por_empleado_centro_costo_final[maestra_resultados_por_empleado_centro_costo_final['CodigoEmpleado'].notnull()]"
   ]
  },
  {
   "cell_type": "code",
   "execution_count": null,
   "id": "381c110d",
   "metadata": {},
   "outputs": [],
   "source": [
    "maestra_resultados_por_empleado_centro_costo_final.head()"
   ]
  },
  {
   "cell_type": "code",
   "execution_count": null,
   "id": "8e997585",
   "metadata": {},
   "outputs": [],
   "source": [
    "maestra_resultados_por_empleado_centro_costo_final[maestra_resultados_por_empleado_centro_costo_final['CodigoEmpleado'] == '1098612757']"
   ]
  },
  {
   "cell_type": "markdown",
   "id": "1f36794d",
   "metadata": {},
   "source": [
    "## Se calculan los resultados por mes"
   ]
  },
  {
   "cell_type": "code",
   "execution_count": null,
   "id": "0ee76a77",
   "metadata": {},
   "outputs": [],
   "source": [
    "lista_variables_rentabilidad_acumuladas = [\n",
    "    'RentabilidadBbraunPaisAntesDeImpuestos',\n",
    "    'RentabilidadDivisionGrupoClientesCM3',\n",
    "    'RentabilidadDivisionGrupoClientesCM3Sub',\n",
    "    'RentabilidadUnidadNegocioCM2',\n",
    "    'RentabilidadUnidadNegocioCM2Sub',\n",
    "    'RentabilidadUnidadNegocioCM3',\n",
    "    'RentabilidadUnidadNegocioCM3Sub',\n",
    "    'TotalRentabilidadBraunAntesDeImpuestosCM5',\n",
    "    'VentaFacturadaPrevioNotasCreditoTP',\n",
    "    # 2022\n",
    "    'RentabilidadCompaniaCM3',\n",
    "    'RentabilidadZonaHospitalarioCM2',\n",
    "    # 2024\n",
    "    'RentabilidadUnidadNegocioCM2COGSSUB',\n",
    "    'RentabilidadDivisionCM2COGsSub',\n",
    "    'EBITCOGSPais',\n",
    "    'EBITCOGSPaisSUB'\n",
    "]\n",
    "\n",
    "def calcular_resultado_mes(group):\n",
    "    valor_previo_real = 0\n",
    "    valor_previo_presupuesto = 0\n",
    "    for index, item in group.iterrows():\n",
    "        if item['Variable'] in lista_variables_rentabilidad_acumuladas:\n",
    "            resultado_real_mes = item['Real']\n",
    "            resultado_presupuesto_mes = item['Presupuesto']\n",
    "        else:\n",
    "            resultado_real_mes = item['Real'] - valor_previo_real\n",
    "            resultado_presupuesto_mes = item['Presupuesto'] - valor_previo_presupuesto\n",
    "        \n",
    "        group.at[index, 'ResultadoRealMes'] = resultado_real_mes\n",
    "        group.at[index, 'ResultadoPresupuesto'] = resultado_presupuesto_mes\n",
    "\n",
    "        porcentaje_cumplimiento_mes = 0\n",
    "        if resultado_presupuesto_mes == 0:\n",
    "            porcentaje_cumplimiento_mes = 0\n",
    "        elif resultado_real_mes - resultado_presupuesto_mes < 0:\n",
    "            porcentaje_cumplimiento_mes = 1 + ((resultado_real_mes - resultado_presupuesto_mes) / abs(resultado_presupuesto_mes))\n",
    "        elif resultado_real_mes - resultado_presupuesto_mes > 0:\n",
    "            porcentaje_cumplimiento_mes = 1 + abs((resultado_real_mes - resultado_presupuesto_mes) / abs(resultado_presupuesto_mes))\n",
    "        else:\n",
    "            porcentaje_cumplimiento_mes = resultado_real_mes / resultado_presupuesto_mes\n",
    "\n",
    "        group.at[index, 'PorcentajeCumplimientoMes'] = round(porcentaje_cumplimiento_mes, 2)\n",
    "        \n",
    "        valor_previo_real = item['Real']\n",
    "        valor_previo_presupuesto = item['Presupuesto']\n",
    "    return group\n"
   ]
  },
  {
   "cell_type": "markdown",
   "id": "3a8a0a57",
   "metadata": {},
   "source": [
    "### Maestra Resultados por Empleado vs Resultado Detallado Histórico"
   ]
  },
  {
   "cell_type": "code",
   "execution_count": null,
   "id": "64722b43",
   "metadata": {},
   "outputs": [],
   "source": [
    "maestra_resultados_por_empleado['Real'].fillna(0,inplace=True)\n",
    "maestra_resultados_por_empleado['Presupuesto'].fillna(0,inplace=True)\n",
    "maestra_resultados_por_empleado['ResultadoPresupuesto'] = 0\n",
    "maestra_resultados_por_empleado['ResultadoRealMes'] = 0\n",
    "maestra_resultados_por_empleado['PorcentajeCumplimientoMes'] = 0\n",
    "maestra_resultados_por_empleado['PorcentajeCumplimientoMes'] = maestra_resultados_por_empleado['PorcentajeCumplimientoMes'].astype('float')\n",
    "maestra_resultados_por_empleado = maestra_resultados_por_empleado.groupby(['CodigoEmpleado', 'Variable', 'Contexto'], group_keys=False).apply(calcular_resultado_mes)\n",
    "\n",
    "maestra_resultados_por_empleado"
   ]
  },
  {
   "cell_type": "code",
   "execution_count": null,
   "id": "685c6474",
   "metadata": {},
   "outputs": [],
   "source": [
    "maestra_resultados_por_empleado[\n",
    "    (maestra_resultados_por_empleado['Contexto']=='52875549')\n",
    "]"
   ]
  },
  {
   "cell_type": "code",
   "execution_count": null,
   "id": "c09282c8",
   "metadata": {},
   "outputs": [],
   "source": [
    "df_resultado_detallado_previo[df_resultado_detallado_previo['CodigoEmpleado'] == '52875549.0']"
   ]
  },
  {
   "cell_type": "code",
   "execution_count": null,
   "id": "57afb77f",
   "metadata": {},
   "outputs": [],
   "source": [
    "df_resultado_detallado_previo[\n",
    "    (df_resultado_detallado_previo['Contexto']=='1111117') &\n",
    "    (df_resultado_detallado_previo['Variable']=='ObjetivosCualitativos')\n",
    "]"
   ]
  },
  {
   "cell_type": "code",
   "execution_count": null,
   "id": "ea558fce",
   "metadata": {},
   "outputs": [],
   "source": [
    "# Se une el resultadio histórico con el actual, de tal forma que al histórico se le agregan únicamenet \n",
    "# los resultados correspondientes al mes que se está liquidando\n",
    "resultado_detallado_historico = df_resultado_detallado_previo.copy()\n",
    "# Filtrar el DataFrame para encontrar las filas donde 'CodigoEmpleado' termina con '.0'\n",
    "resultado_detallado_historico[resultado_detallado_historico['CodigoEmpleado'].astype(str).str.endswith('.0')].head()\n",
    "resultado_detallado_historico['CodigoEmpleado'] = resultado_detallado_historico['CodigoEmpleado'].astype(str).str.replace(r'(\\d+)\\.0$', r'\\1', regex=True)\n",
    "resultado_detallado_historico\n"
   ]
  },
  {
   "cell_type": "code",
   "execution_count": null,
   "id": "f85ff575",
   "metadata": {},
   "outputs": [],
   "source": [
    "# resultado_detallado_historico.info()\n",
    "# resultado_detallado_historico.to_excel('resultado_detallado_historico.xlsx')"
   ]
  },
  {
   "cell_type": "code",
   "execution_count": null,
   "id": "496d2d48",
   "metadata": {},
   "outputs": [],
   "source": [
    "resultado_detallado_historico[\n",
    "    (resultado_detallado_historico['CodigoEmpleado']== '1111135.0')\n",
    "]"
   ]
  },
  {
   "cell_type": "code",
   "execution_count": null,
   "id": "e6b7ce06",
   "metadata": {},
   "outputs": [],
   "source": [
    "last_date_historico = resultado_detallado_historico['Fecha'].max()\n",
    "last_date_historico = None if pd.isnull(last_date_historico) else last_date_historico\n",
    "\n",
    "try:\n",
    "    maestra_resultados_por_empleado = maestra_resultados_por_empleado[\n",
    "        (maestra_resultados_por_empleado['Fecha']<=fecha_liquidacion)\n",
    "    ]\n",
    "    if last_date_historico:\n",
    "        maestra_resultados_por_empleado = maestra_resultados_por_empleado[\n",
    "            maestra_resultados_por_empleado['Fecha']>last_date_historico\n",
    "        ]\n",
    "except:\n",
    "    raise"
   ]
  },
  {
   "cell_type": "code",
   "execution_count": null,
   "id": "a3c377c8",
   "metadata": {},
   "outputs": [],
   "source": [
    "maestra_resultados_por_empleado[\n",
    "    (maestra_resultados_por_empleado['Contexto']=='1111117') &\n",
    "    (maestra_resultados_por_empleado['Variable']=='ObjetivosCualitativos')\n",
    "]"
   ]
  },
  {
   "cell_type": "code",
   "execution_count": null,
   "id": "ac8a2854",
   "metadata": {},
   "outputs": [],
   "source": [
    "maestra_resultados_por_empleado = pd.concat([resultado_detallado_historico, maestra_resultados_por_empleado])\n",
    "maestra_resultados_por_empleado = maestra_resultados_por_empleado.sort_values(by=['CodigoEmpleado', 'Fecha'])\n",
    "maestra_resultados_por_empleado"
   ]
  },
  {
   "cell_type": "markdown",
   "id": "18866673",
   "metadata": {},
   "source": [
    "### Maestra Resultados por Empleado Centro Costo vs Resultado Detallado Histórico"
   ]
  },
  {
   "cell_type": "code",
   "execution_count": null,
   "id": "8f00aa3c",
   "metadata": {},
   "outputs": [],
   "source": [
    "maestra_resultados_por_empleado_centro_costo_final['Real'].fillna(0,inplace=True)\n",
    "maestra_resultados_por_empleado_centro_costo_final['Presupuesto'].fillna(0,inplace=True)\n",
    "maestra_resultados_por_empleado_centro_costo_final['ResultadoPresupuesto'] = 0\n",
    "maestra_resultados_por_empleado_centro_costo_final['ResultadoRealMes'] = 0\n",
    "maestra_resultados_por_empleado_centro_costo_final['PorcentajeCumplimientoMes'] = 0\n",
    "maestra_resultados_por_empleado_centro_costo_final['PorcentajeCumplimientoMes'] = maestra_resultados_por_empleado_centro_costo_final['PorcentajeCumplimientoMes'].astype('float')\n",
    "maestra_resultados_por_empleado_centro_costo_final = maestra_resultados_por_empleado_centro_costo_final.groupby(['CodigoEmpleado', 'Variable', 'Contexto'], group_keys=False).apply(calcular_resultado_mes)\n",
    "\n",
    "maestra_resultados_por_empleado_centro_costo_final.head()"
   ]
  },
  {
   "cell_type": "code",
   "execution_count": null,
   "id": "390e5863",
   "metadata": {},
   "outputs": [],
   "source": [
    "df_resultado_detallado_previo.copy().merge(\n",
    "    df_area_calculo_sba_centros_costos.rename(columns={'ConsecutivoParrilla':'Consecutivo'}),\n",
    "    on=['AreaCalculo', 'Consecutivo','TipoEmpleado'],\n",
    "    how='left'    \n",
    ")\n",
    "\n",
    "# Se une el resultadio histórico con el actual, de tal forma que al histórico se le agregan únicamenet \n",
    "# los resultados correspondientes al mes que se está liquidando\n",
    "resultado_detallado_historico = df_resultado_detallado_previo.copy()\n",
    "last_date_historico = resultado_detallado_historico['Fecha'].max()\n",
    "last_date_historico = None if pd.isnull(last_date_historico) else last_date_historico\n",
    "\n",
    "try:\n",
    "    maestra_resultados_por_empleado_centro_costo_final = maestra_resultados_por_empleado_centro_costo_final[\n",
    "        (maestra_resultados_por_empleado_centro_costo_final['Fecha']<=fecha_liquidacion)\n",
    "    ]\n",
    "    if last_date_historico:\n",
    "        maestra_resultados_por_empleado_centro_costo_final = maestra_resultados_por_empleado_centro_costo_final[\n",
    "            maestra_resultados_por_empleado_centro_costo_final['Fecha']>last_date_historico\n",
    "        ]\n",
    "except:\n",
    "    raise\n",
    "\n",
    "maestra_resultados_por_empleado_centro_costo_final = pd.concat([resultado_detallado_historico, maestra_resultados_por_empleado_centro_costo_final])\n",
    "maestra_resultados_por_empleado_centro_costo_final = maestra_resultados_por_empleado_centro_costo_final.sort_values(by=['CodigoEmpleado', 'Fecha'])\n",
    "maestra_resultados_por_empleado_centro_costo_final"
   ]
  },
  {
   "cell_type": "code",
   "execution_count": null,
   "id": "b95656b2",
   "metadata": {},
   "outputs": [],
   "source": [
    "maestra_resultados_por_empleado_centro_costo_final[maestra_resultados_por_empleado_centro_costo_final['CodigoEmpleado'] == '1098612757']\n"
   ]
  },
  {
   "cell_type": "code",
   "execution_count": null,
   "id": "399aacdd",
   "metadata": {},
   "outputs": [],
   "source": [
    "maestra_resultados_por_empleado[maestra_resultados_por_empleado['Variable'] == 'VentaFacturadaGrupoClientesKAMSSub']"
   ]
  },
  {
   "cell_type": "code",
   "execution_count": null,
   "id": "df009ba3",
   "metadata": {},
   "outputs": [],
   "source": [
    "maestra_resultados_por_empleado.to_excel('resultados_detallados.xlsx')"
   ]
  },
  {
   "cell_type": "code",
   "execution_count": null,
   "id": "e0036ec0",
   "metadata": {},
   "outputs": [],
   "source": [
    "maestra_resultados_por_empleado[\n",
    "    (maestra_resultados_por_empleado['CodigoEmpleado'] == '1111117') &\n",
    "     (maestra_resultados_por_empleado['Variable'] == 'ObjetivosCualitativos')\n",
    "]"
   ]
  },
  {
   "cell_type": "code",
   "execution_count": null,
   "id": "aaf28312",
   "metadata": {},
   "outputs": [],
   "source": []
  },
  {
   "cell_type": "code",
   "execution_count": null,
   "id": "e4e2cc4a",
   "metadata": {},
   "outputs": [],
   "source": [
    "maestra_resultados_por_empleado[\n",
    "    (maestra_resultados_por_empleado['TipoEmpleado'] == 'VC') |\n",
    "    (maestra_resultados_por_empleado['TipoEmpleado'] == 'VE')\n",
    "]['Variable'].drop_duplicates()"
   ]
  },
  {
   "cell_type": "code",
   "execution_count": null,
   "id": "6c2097e8",
   "metadata": {},
   "outputs": [],
   "source": [
    "maestra_resultados_por_empleado[maestra_resultados_por_empleado['Variable'] == 'RentabilidadUnidadNegocioCM2COGS']"
   ]
  },
  {
   "cell_type": "code",
   "execution_count": null,
   "id": "44c0a3a3",
   "metadata": {},
   "outputs": [],
   "source": []
  },
  {
   "cell_type": "code",
   "execution_count": null,
   "id": "fd9588e2",
   "metadata": {},
   "outputs": [],
   "source": [
    "maestra_resultados_por_empleado[\n",
    "    (maestra_resultados_por_empleado['Variable'] == 'VentaFacturadaPortafolioRenalSub')\n",
    "]"
   ]
  },
  {
   "cell_type": "markdown",
   "id": "2e1c07f3",
   "metadata": {},
   "source": [
    "## Se obtienen las liquidaciones"
   ]
  },
  {
   "cell_type": "markdown",
   "id": "93de656b",
   "metadata": {},
   "source": [
    "### Creación de resultado_liquidaciones por maestra_resultados_por_empleado"
   ]
  },
  {
   "cell_type": "code",
   "execution_count": null,
   "id": "4c02276c",
   "metadata": {},
   "outputs": [],
   "source": [
    "excepciones_pagos_acumulados = {}\n",
    "\n",
    "excepciones_diferencias = {}"
   ]
  },
  {
   "cell_type": "code",
   "execution_count": null,
   "id": "5e54e1c8",
   "metadata": {},
   "outputs": [],
   "source": [
    "maestra_resultados_por_empleado[\n",
    "    (maestra_resultados_por_empleado['CodigoEmpleado'] == '1111135') &\n",
    "    (maestra_resultados_por_empleado['Fecha'] == '2024-05-01')\n",
    "][['Contexto', 'CodigoEmpleado', 'SalarioVariable', 'Fecha', 'NuevoFactorBK', 'Liquidado']]"
   ]
  },
  {
   "cell_type": "code",
   "execution_count": null,
   "id": "aa3f0614",
   "metadata": {},
   "outputs": [],
   "source": [
    "maestra_resultados_por_empleado[\n",
    "    (maestra_resultados_por_empleado['CodigoEmpleado'] == '16659046') &\n",
    "    (maestra_resultados_por_empleado['Fecha'] == '2024-05-01')\n",
    "][['Contexto', 'CodigoEmpleado', 'SalarioVariable', 'Fecha', 'NuevoFactorBK', 'Liquidado']]['Liquidado'].sum()"
   ]
  },
  {
   "cell_type": "code",
   "execution_count": null,
   "id": "62da2ab3",
   "metadata": {},
   "outputs": [],
   "source": [
    "maestra_resultados_por_empleado[\n",
    "    (maestra_resultados_por_empleado['CodigoEmpleado'] == '1111135') &\n",
    "    (maestra_resultados_por_empleado['Fecha'] == '2024-05-01')\n",
    "][['Contexto', 'CodigoEmpleado', 'SalarioVariable', 'Fecha', 'NuevoFactorBK', 'Liquidado']]['Liquidado'].sum()"
   ]
  },
  {
   "cell_type": "code",
   "execution_count": null,
   "id": "ccd92c8b",
   "metadata": {},
   "outputs": [],
   "source": [
    "df_incentivos_por_empleado[df_incentivos_por_empleado['CodigoEmpleado'] == '16659046']"
   ]
  },
  {
   "cell_type": "code",
   "execution_count": null,
   "id": "ea30fb81",
   "metadata": {},
   "outputs": [],
   "source": [
    "df_incentivos_por_empleado[df_incentivos_por_empleado['CodigoEmpleado'] == '1111135']"
   ]
  },
  {
   "cell_type": "code",
   "execution_count": null,
   "id": "29a4c7bb",
   "metadata": {},
   "outputs": [],
   "source": [
    "df_incentivos_por_empleado[df_incentivos_por_empleado['CodigoEmpleado'] == '1111134']"
   ]
  },
  {
   "cell_type": "code",
   "execution_count": null,
   "id": "76bb577f",
   "metadata": {},
   "outputs": [],
   "source": [
    "df_incentivos_por_empleado[df_incentivos_por_empleado['CodigoEmpleado'] == '5005980']"
   ]
  },
  {
   "cell_type": "code",
   "execution_count": null,
   "id": "6bd75114",
   "metadata": {},
   "outputs": [],
   "source": [
    "resultado_liquidaciones = maestra_resultados_por_empleado.groupby(\n",
    "    ['CodigoEmpleado', 'SalarioVariable', 'Fecha', 'NuevoFactorBK'],\n",
    "    as_index=False\n",
    ").Liquidado.agg({'Liquidado': 'sum'})\n",
    "resultado_liquidaciones.rename(columns={'NuevoFactorBK': 'NuevoFactor'}, inplace=True)\n",
    "resultado_liquidaciones.head()\n",
    "resultado_liquidaciones = resultado_liquidaciones.merge(\n",
    "    df_incentivos_por_empleado.rename(columns={'Valor': 'PagoReal'}),\n",
    "    on = ['CodigoEmpleado', 'Fecha'],\n",
    "    how = 'right'\n",
    ")\n",
    "resultado_liquidaciones.head()"
   ]
  },
  {
   "cell_type": "code",
   "execution_count": null,
   "id": "51347e3a",
   "metadata": {},
   "outputs": [],
   "source": [
    "resultado_liquidaciones[resultado_liquidaciones['CodigoEmpleado'] == '79539822']"
   ]
  },
  {
   "cell_type": "code",
   "execution_count": null,
   "id": "57757b50",
   "metadata": {},
   "outputs": [],
   "source": [
    "resultado_liquidaciones[\n",
    "    (resultado_liquidaciones['CodigoEmpleado'] == '16659046')\n",
    "]"
   ]
  },
  {
   "cell_type": "code",
   "execution_count": null,
   "id": "a0340c8f",
   "metadata": {},
   "outputs": [],
   "source": [
    "resultado_liquidaciones[\n",
    "    (resultado_liquidaciones['CodigoEmpleado'] == '1111135')\n",
    "]"
   ]
  },
  {
   "cell_type": "code",
   "execution_count": null,
   "id": "6be6947c",
   "metadata": {},
   "outputs": [],
   "source": [
    "resultado_liquidaciones = pd.merge(\n",
    "    left=resultado_liquidaciones,\n",
    "    right=df_empleados[['CodigoEmpleado', 'FechaIngreso']].drop_duplicates(['CodigoEmpleado']),\n",
    "    how='left',\n",
    "    on=['CodigoEmpleado']\n",
    ")\n",
    "\n",
    "# Filtro resultado liquidaciones SIN GARANTIZADO\n",
    "resultado_liquidaciones = resultado_liquidaciones[resultado_liquidaciones['Fecha'] >= resultado_liquidaciones['FechaIngreso']]\n",
    "resultado_liquidaciones.drop(columns=['FechaIngreso'], inplace=True)\n",
    "resultado_liquidaciones.head()\n",
    "\n",
    "# Cálculo de garantizado (100%) para VEs y VCs, Anticipos (85%) para el resto de empleados\n",
    "resultado_liquidaciones = resultado_liquidaciones.merge(\n",
    "    df_empleados[['CodigoEmpleado', 'TipoEmpleado']],\n",
    "    on='CodigoEmpleado',\n",
    "    how='left'\n",
    ")\n",
    "\n",
    "def calcular_liquidacion_mes(g):\n",
    "    pago_acumulado = 0\n",
    "    for i, row in g.iterrows():\n",
    "        print(\"mes actual:\", row['Fecha'].month)\n",
    "        if row['Fecha'].month in meses_incentivos:\n",
    "            print(\"Pago Real\", g.at[i, 'PagoReal'])\n",
    "            if g.at[i, 'PagoReal'] == 0:\n",
    "                print(\"Pago Real es 0\", g.at[i, 'PagoReal'])\n",
    "                if i == 0:\n",
    "                    print(\"i es igual a 0\")\n",
    "                    g.at[i, 'PagoReal'] = g.at[i, 'Liquidado']\n",
    "                else:\n",
    "                    print(\"i no es igual a 0\")\n",
    "                    g.at[i, 'PagoReal'] = g.at[i, 'Liquidado'] - pago_acumulado\n",
    "                print(\"Pago Real actualizado\", g.at[i, 'PagoReal'])\n",
    "            if g.at[i, 'PagoReal'] < 0:\n",
    "                g.at[i, 'PagoReal'] = 0.0\n",
    "        print(\"pago_acumuladol_antes:\", pago_acumulado)\n",
    "        pago_acumulado += g.at[i, 'PagoReal']\n",
    "        print(\"pago_acumuladol_después:\", pago_acumulado)\n",
    "        \n",
    "        excepcion = excepciones_pagos_acumulados.get(row['CodigoEmpleado'], None)\n",
    "        if excepcion and row['Fecha'] == excepcion['Fecha']:\n",
    "            pago_acumulado = excepcion['ValorPagoAcumulado']\n",
    "        \n",
    "        excepcion_diferencia = excepciones_diferencias.get(row['CodigoEmpleado'], None)\n",
    "        if excepcion_diferencia and row['Fecha'] == excepcion_diferencia['Fecha']:\n",
    "            pago_acumulado = pago_acumulado + excepcion_diferencia['ValorDiferencia']\n",
    "        \n",
    "    return g\n",
    "resultado_liquidaciones = resultado_liquidaciones.sort_values(by=['CodigoEmpleado', 'Fecha'])\n",
    "resultado_liquidaciones.reset_index(inplace=True, drop=True)\n",
    "resultado_liquidaciones['PagoReal'].fillna(0.0, inplace=True)\n",
    "resultado_liquidaciones['Liquidado'].fillna(0.0, inplace=True)\n",
    "resultado_liquidaciones"
   ]
  },
  {
   "cell_type": "code",
   "execution_count": null,
   "id": "953f0253",
   "metadata": {},
   "outputs": [],
   "source": [
    "resultado_liquidaciones[resultado_liquidaciones['CodigoEmpleado'] == '16659046']"
   ]
  },
  {
   "cell_type": "code",
   "execution_count": null,
   "id": "4e532002",
   "metadata": {},
   "outputs": [],
   "source": [
    "resultado_liquidaciones[\n",
    "    (resultado_liquidaciones['CodigoEmpleado'] == '1111135')\n",
    "]"
   ]
  },
  {
   "cell_type": "code",
   "execution_count": null,
   "id": "c5dde40a",
   "metadata": {
    "scrolled": true
   },
   "outputs": [],
   "source": [
    "# resultado_liquidaciones_copy = resultado_liquidaciones[\n",
    "#     (resultado_liquidaciones['CodigoEmpleado'] == '16659046')\n",
    "# ].groupby(['CodigoEmpleado'], group_keys=False).apply(calcular_liquidacion_mes)\n",
    "# resultado_liquidaciones_copy[resultado_liquidaciones_copy['CodigoEmpleado'] == '16659046']"
   ]
  },
  {
   "cell_type": "code",
   "execution_count": null,
   "id": "b4823966",
   "metadata": {},
   "outputs": [],
   "source": [
    "# resultado_liquidaciones_copy = resultado_liquidaciones[\n",
    "#     (resultado_liquidaciones['CodigoEmpleado'] == '1111135') &  (resultado_liquidaciones['PagoGarantizado'] == 'NO')\n",
    "# ].groupby(['CodigoEmpleado'], group_keys=False).apply(calcular_liquidacion_mes)\n",
    "# resultado_liquidaciones_copy[resultado_liquidaciones_copy['CodigoEmpleado'] == '1111135']"
   ]
  },
  {
   "cell_type": "code",
   "execution_count": null,
   "id": "88292f0a",
   "metadata": {},
   "outputs": [],
   "source": [
    "# resultado_liquidaciones = resultado_liquidaciones.groupby(['CodigoEmpleado'], group_keys=False).apply(calcular_liquidacion_mes)\n",
    "resultado_liquidaciones.rename(columns={'NuevoFactor': 'FactorMes'}, inplace=True)\n",
    "resultado_liquidaciones['PagoGarantizado'] = 'NO'\n",
    "\n",
    "resultado_liquidaciones['PagoReal'] = np.where(\n",
    "    (\n",
    "        (resultado_liquidaciones['Fecha'] >= '2022-01-01') &\n",
    "        (resultado_liquidaciones['Fecha'] <= '2022-02-01') &\n",
    "        (resultado_liquidaciones['TipoEmpleado'].isin(['VE', 'VC']))\n",
    "    ),\n",
    "    resultado_liquidaciones['SalarioVariable'],\n",
    "    resultado_liquidaciones['PagoReal']\n",
    ")\n",
    "resultado_liquidaciones['PagoReal'] = np.where(\n",
    "    (\n",
    "        (resultado_liquidaciones['Fecha'] >= '2022-01-01') &\n",
    "        (resultado_liquidaciones['Fecha'] <= '2022-02-01') &\n",
    "        (resultado_liquidaciones['TipoEmpleado'].isin(['AD', 'AD1', 'AD2', 'AD3', 'AD4', 'AD5', 'GC', 'GD', 'GU', 'KAM', 'MK']))\n",
    "    ),\n",
    "    resultado_liquidaciones['SalarioVariable'] * 0.85,\n",
    "    resultado_liquidaciones['PagoReal']\n",
    ")\n",
    "resultado_liquidaciones.drop(columns=['TipoEmpleado'], inplace=True)\n",
    "\n",
    "resultado_liquidaciones.head(12)"
   ]
  },
  {
   "cell_type": "code",
   "execution_count": null,
   "id": "b121d0ab",
   "metadata": {},
   "outputs": [],
   "source": [
    "resultado_liquidaciones[resultado_liquidaciones['CodigoEmpleado'] == '16659046']"
   ]
  },
  {
   "cell_type": "code",
   "execution_count": null,
   "id": "0156a40f",
   "metadata": {},
   "outputs": [],
   "source": [
    "resultado_liquidaciones[resultado_liquidaciones['CodigoEmpleado'] == '1111135']"
   ]
  },
  {
   "cell_type": "code",
   "execution_count": null,
   "id": "9d05a978",
   "metadata": {},
   "outputs": [],
   "source": [
    "resultado_liquidaciones[resultado_liquidaciones['CodigoEmpleado'] == '79539822']"
   ]
  },
  {
   "cell_type": "markdown",
   "id": "4e844807",
   "metadata": {},
   "source": [
    "### Creación de resultado_liquidaciones por maestra_resultados_por_empleado_centro_costo"
   ]
  },
  {
   "cell_type": "code",
   "execution_count": null,
   "id": "8a235925",
   "metadata": {},
   "outputs": [],
   "source": [
    "# resultado_liquidaciones_centro_costo = maestra_resultados_por_empleado_centro_costo_final.groupby(\n",
    "#     ['CodigoEmpleado', 'CodigoCentroCosto','SalarioVariable', 'Fecha', 'NuevoFactorBK'],\n",
    "#     as_index=False\n",
    "# ).Liquidado.agg({'Liquidado': 'sum'})\n",
    "# resultado_liquidaciones_centro_costo.rename(columns={'NuevoFactorBK': 'NuevoFactor'}, inplace=True)\n",
    "# resultado_liquidaciones_centro_costo.head()\n",
    "# resultado_liquidaciones_centro_costo = resultado_liquidaciones_centro_costo.merge(\n",
    "#     df_incentivos_por_empleado.rename(columns={'Valor': 'PagoReal'}),\n",
    "#     on = ['CodigoEmpleado', 'Fecha'],\n",
    "#     how = 'right'\n",
    "# )\n",
    "\n",
    "# resultado_liquidaciones_centro_costo = pd.merge(\n",
    "#     left=resultado_liquidaciones_centro_costo,\n",
    "#     right=df_empleados[['CodigoEmpleado', 'FechaIngreso']].drop_duplicates(['CodigoEmpleado']),\n",
    "#     how='left',\n",
    "#     on=['CodigoEmpleado']\n",
    "# )\n",
    "\n",
    "# resultado_liquidaciones_centro_costo.head()"
   ]
  },
  {
   "cell_type": "code",
   "execution_count": null,
   "id": "48eda660",
   "metadata": {},
   "outputs": [],
   "source": [
    "# resultado_liquidaciones_centro_costo = resultado_liquidaciones_centro_costo[resultado_liquidaciones_centro_costo['Fecha'] >= resultado_liquidaciones_centro_costo['FechaIngreso']]\n",
    "# resultado_liquidaciones_centro_costo.drop(columns=['FechaIngreso'], inplace=True)\n",
    "# resultado_liquidaciones_centro_costo.head()\n",
    "\n",
    "# # Cálculo de garantizado (100%) para VEs y VCs, Anticipos (85%) para el resto de empleados\n",
    "# resultado_liquidaciones_centro_costo = resultado_liquidaciones_centro_costo.merge(\n",
    "#     df_empleados[['CodigoEmpleado', 'TipoEmpleado']],\n",
    "#     on='CodigoEmpleado',\n",
    "#     how='left'\n",
    "# )\n",
    "\n",
    "# def calcular_liquidacion_mes(g):\n",
    "#     pago_acumulado = 0\n",
    "#     for i, row in g.iterrows():\n",
    "#         if row['Fecha'].month in meses_incentivos:\n",
    "#             if g.at[i, 'PagoReal'] == 0:\n",
    "#                 if i == 0:\n",
    "#                     g.at[i, 'PagoReal'] = g.at[i, 'Liquidado']\n",
    "#                 else:\n",
    "#                     g.at[i, 'PagoReal'] = g.at[i, 'Liquidado'] - pago_acumulado\n",
    "            \n",
    "#             if g.at[i, 'PagoReal'] < 0:\n",
    "#                 g.at[i, 'PagoReal'] = 0.0\n",
    "#         pago_acumulado += g.at[i, 'PagoReal']\n",
    "        \n",
    "#         excepcion = excepciones_pagos_acumulados.get(row['CodigoEmpleado'], None)\n",
    "#         if excepcion and row['Fecha'] == excepcion['Fecha']:\n",
    "#             pago_acumulado = excepcion['ValorPagoAcumulado']\n",
    "        \n",
    "#         excepcion_diferencia = excepciones_diferencias.get(row['CodigoEmpleado'], None)\n",
    "#         if excepcion_diferencia and row['Fecha'] == excepcion_diferencia['Fecha']:\n",
    "#             pago_acumulado = pago_acumulado + excepcion_diferencia['ValorDiferencia']\n",
    "        \n",
    "#     return g\n",
    "# resultado_liquidaciones_centro_costo = resultado_liquidaciones_centro_costo.sort_values(by=['CodigoEmpleado', 'Fecha'])\n",
    "# resultado_liquidaciones_centro_costo.reset_index(inplace=True, drop=True)\n",
    "# resultado_liquidaciones_centro_costo[a'PagoReal'].fillna(0.0, inplace=True)\n",
    "# resultado_liquidaciones_centro_costo['Liquidado'].fillna(0.0, inplace=True)\n",
    "# resultado_liquidaciones_centro_costo['PagoGarantizado'] = 'NO'\n",
    "# resultado_liquidaciones_centro_costo"
   ]
  },
  {
   "cell_type": "code",
   "execution_count": null,
   "id": "d1640c39",
   "metadata": {},
   "outputs": [],
   "source": [
    "# resultado_liquidaciones_centro_costo = resultado_liquidaciones_centro_costo.groupby(['CodigoEmpleado'], group_keys=False).apply(calcular_liquidacion_mes)\n",
    "# resultado_liquidaciones_centro_costo.rename(columns={'NuevoFactor': 'FactorMes'}, inplace=True)\n",
    "# resultado_liquidaciones_centro_costo['PagoGarantizado'] = 'NO'\n",
    "\n",
    "# resultado_liquidaciones_centro_costo['PagoReal'] = np.where(\n",
    "#     (\n",
    "#         (resultado_liquidaciones_centro_costo['Fecha'] >= '2022-01-01') &\n",
    "#         (resultado_liquidaciones_centro_costo['Fecha'] <= '2022-02-01') &\n",
    "#         (resultado_liquidaciones_centro_costo['TipoEmpleado'].isin(['VE', 'VC']))\n",
    "#     ),\n",
    "#     resultado_liquidaciones_centro_costo['SalarioVariable'],\n",
    "#     resultado_liquidaciones_centro_costo['PagoReal']\n",
    "# )\n",
    "# resultado_liquidaciones_centro_costo['PagoReal'] = np.where(\n",
    "#     (\n",
    "#         (resultado_liquidaciones_centro_costo['Fecha'] >= '2022-01-01') &\n",
    "#         (resultado_liquidaciones_centro_costo['Fecha'] <= '2022-02-01') &\n",
    "#         (resultado_liquidaciones_centro_costo['TipoEmpleado'].isin(['AD', 'AD1', 'AD2', 'AD3', 'AD4', 'AD5', 'GC', 'GD', 'GU', 'KAM', 'MK']))\n",
    "#     ),\n",
    "#     resultado_liquidaciones_centro_costo['SalarioVariable'] * 0.85,\n",
    "#     resultado_liquidaciones_centro_costo['PagoReal']\n",
    "# )\n",
    "# resultado_liquidaciones_centro_costo.drop(columns=['TipoEmpleado'], inplace=True)\n",
    "\n",
    "# resultado_liquidaciones_centro_costo.head(12)"
   ]
  },
  {
   "cell_type": "markdown",
   "id": "dbc60927",
   "metadata": {},
   "source": [
    "## Se obtienen los garantizados"
   ]
  },
  {
   "cell_type": "markdown",
   "id": "cec74214",
   "metadata": {},
   "source": [
    "### Sin centro de costo"
   ]
  },
  {
   "cell_type": "code",
   "execution_count": null,
   "id": "4c1f45e9",
   "metadata": {},
   "outputs": [],
   "source": [
    "empleados_garantizado = df_empleados[df_empleados['FechaIngreso'] > fecha_liquidacion][['CodigoEmpleado', 'SalarioVariable', 'FechaIngreso']]\n",
    "empleados_garantizado"
   ]
  },
  {
   "cell_type": "code",
   "execution_count": null,
   "id": "222e2060",
   "metadata": {},
   "outputs": [],
   "source": [
    "fechas_resultado_liquidaciones = resultado_liquidaciones[['Fecha']].drop_duplicates()"
   ]
  },
  {
   "cell_type": "code",
   "execution_count": null,
   "id": "e4fb2dd0",
   "metadata": {},
   "outputs": [],
   "source": [
    "empleados_garantizado = df_empleados[df_empleados['FechaIngreso'] > fecha_liquidacion][['CodigoEmpleado', 'SalarioVariable', 'FechaIngreso']]\n",
    "fechas_resultado_liquidaciones = resultado_liquidaciones[['Fecha']].drop_duplicates()\n",
    "\n",
    "empleados_garantizado['Key'] = 1\n",
    "fechas_resultado_liquidaciones['Key'] = 1\n",
    "\n",
    "liquidaciones_garantizados = pd.merge(\n",
    "    left=fechas_resultado_liquidaciones.sort_values(['Fecha']),\n",
    "    right=empleados_garantizado,\n",
    "    how='outer',\n",
    "    on=['Key']\n",
    ").drop(columns=['Key'])\n",
    "\n",
    "liquidaciones_garantizados = liquidaciones_garantizados[liquidaciones_garantizados['CodigoEmpleado'].notnull()]\n",
    "\n",
    "liquidaciones_garantizados['DifMonths'] = ((liquidaciones_garantizados.FechaIngreso - liquidaciones_garantizados.Fecha)/np.timedelta64(1, 'M'))\n",
    "liquidaciones_garantizados['DifMonths'] = liquidaciones_garantizados['DifMonths'].apply(lambda x: round(x, 0))\n",
    "liquidaciones_garantizados['DifMonths'] = liquidaciones_garantizados['DifMonths'].astype('int')\n",
    "liquidaciones_garantizados = liquidaciones_garantizados[liquidaciones_garantizados['DifMonths'] <= 4]\n",
    "\n",
    "liquidaciones_garantizados['FactorMes'] = 0\n",
    "liquidaciones_garantizados['Liquidado'] = liquidaciones_garantizados['SalarioVariable']\n",
    "liquidaciones_garantizados['PagoReal'] = liquidaciones_garantizados['SalarioVariable']\n",
    "liquidaciones_garantizados['PagoGarantizado'] = 'SI'\n",
    "\n",
    "liquidaciones_garantizados.drop(columns=['DifMonths', 'FechaIngreso'], inplace=True)\n",
    "\n",
    "liquidaciones_garantizados.head()"
   ]
  },
  {
   "cell_type": "code",
   "execution_count": null,
   "id": "ad64ea69",
   "metadata": {},
   "outputs": [],
   "source": [
    "liquidaciones_garantizados[liquidaciones_garantizados['CodigoEmpleado'] == '16659046']"
   ]
  },
  {
   "cell_type": "code",
   "execution_count": null,
   "id": "1d1361ae",
   "metadata": {},
   "outputs": [],
   "source": [
    "liquidaciones_garantizados[liquidaciones_garantizados['CodigoEmpleado'] == '1111135']"
   ]
  },
  {
   "cell_type": "markdown",
   "id": "850109e6",
   "metadata": {},
   "source": [
    "### Con centro de costo"
   ]
  },
  {
   "cell_type": "code",
   "execution_count": null,
   "id": "7f8fab5a",
   "metadata": {},
   "outputs": [],
   "source": [
    "# empleados_garantizado = df_empleados[df_empleados['FechaIngreso'] > fecha_liquidacion][['CodigoEmpleado', 'SalarioVariable', 'FechaIngreso']]\n",
    "# fechas_resultado_liquidaciones_centro_costo = resultado_liquidaciones_centro_costo[['Fecha']].drop_duplicates()\n",
    "\n",
    "# empleados_garantizado['Key'] = 1\n",
    "# fechas_resultado_liquidaciones_centro_costo['Key'] = 1\n",
    "\n",
    "# liquidaciones_garantizados_centro_costo = pd.merge(\n",
    "#     left=fechas_resultado_liquidaciones_centro_costo.sort_values(['Fecha']),\n",
    "#     right=empleados_garantizado,\n",
    "#     how='outer',\n",
    "#     on=['Key']\n",
    "# ).drop(columns=['Key'])\n",
    "\n",
    "# liquidaciones_garantizados_centro_costo = liquidaciones_garantizados_centro_costo[liquidaciones_garantizados_centro_costo['CodigoEmpleado'].notnull()]\n",
    "\n",
    "# liquidaciones_garantizados_centro_costo['DifMonths'] = ((liquidaciones_garantizados_centro_costo.FechaIngreso - liquidaciones_garantizados_centro_costo.Fecha)/np.timedelta64(1, 'M'))\n",
    "# liquidaciones_garantizados_centro_costo['DifMonths'] = liquidaciones_garantizados_centro_costo['DifMonths'].apply(lambda x: round(x, 0))\n",
    "# liquidaciones_garantizados_centro_costo['DifMonths'] = liquidaciones_garantizados_centro_costo['DifMonths'].astype('int')\n",
    "# liquidaciones_garantizados_centro_costo = liquidaciones_garantizados_centro_costo[liquidaciones_garantizados_centro_costo['DifMonths'] <= 4]\n",
    "\n",
    "# liquidaciones_garantizados_centro_costo['FactorMes'] = 0\n",
    "# liquidaciones_garantizados_centro_costo['Liquidado'] = liquidaciones_garantizados_centro_costo['SalarioVariable']\n",
    "# liquidaciones_garantizados_centro_costo['PagoReal'] = liquidaciones_garantizados_centro_costo['SalarioVariable']\n",
    "# liquidaciones_garantizados_centro_costo['PagoGarantizado'] = 'SI'\n",
    "\n",
    "# liquidaciones_garantizados_centro_costo.drop(columns=['DifMonths', 'FechaIngreso'], inplace=True)\n",
    "\n",
    "# liquidaciones_garantizados_centro_costo.head()"
   ]
  },
  {
   "cell_type": "markdown",
   "id": "e75f687f",
   "metadata": {},
   "source": [
    "## Se unen las liquidaciones de garantizados con las demás"
   ]
  },
  {
   "cell_type": "markdown",
   "id": "41f6e4b2",
   "metadata": {},
   "source": [
    "### Sin centro de costo"
   ]
  },
  {
   "cell_type": "code",
   "execution_count": null,
   "id": "36ec52a5",
   "metadata": {},
   "outputs": [],
   "source": [
    "resultado_liquidaciones = pd.concat([resultado_liquidaciones, liquidaciones_garantizados])\n",
    "resultado_liquidaciones.reset_index(drop=True, inplace=True)\n",
    "resultado_liquidaciones"
   ]
  },
  {
   "cell_type": "code",
   "execution_count": null,
   "id": "dae55291",
   "metadata": {},
   "outputs": [],
   "source": [
    "resultado_liquidaciones[resultado_liquidaciones['CodigoEmpleado'] == '1111135']"
   ]
  },
  {
   "cell_type": "code",
   "execution_count": null,
   "id": "d3d40caa",
   "metadata": {},
   "outputs": [],
   "source": [
    "resultado_liquidaciones[resultado_liquidaciones['CodigoEmpleado'] == '16659046']"
   ]
  },
  {
   "cell_type": "markdown",
   "id": "4fdcfc32",
   "metadata": {},
   "source": [
    "### Con centro de costo"
   ]
  },
  {
   "cell_type": "code",
   "execution_count": null,
   "id": "9e31e897",
   "metadata": {},
   "outputs": [],
   "source": [
    "# resultado_liquidaciones_centro_costo = pd.concat([resultado_liquidaciones_centro_costo, liquidaciones_garantizados_centro_costo])\n",
    "# resultado_liquidaciones_centro_costo.reset_index(drop=True, inplace=True)\n",
    "# resultado_liquidaciones_centro_costo"
   ]
  },
  {
   "cell_type": "markdown",
   "id": "9ad1eff8",
   "metadata": {},
   "source": [
    "## Se conserva la información del histórico y se le añade la nueva información hasta la fecha de liquidación"
   ]
  },
  {
   "cell_type": "markdown",
   "id": "f763f67e",
   "metadata": {},
   "source": [
    "### Sin centro de costo"
   ]
  },
  {
   "cell_type": "code",
   "execution_count": null,
   "id": "f297f09d",
   "metadata": {},
   "outputs": [],
   "source": [
    "df_resultado_liquidaciones_previo[df_resultado_liquidaciones_previo['CodigoEmpleado'] == '79539822']"
   ]
  },
  {
   "cell_type": "code",
   "execution_count": null,
   "id": "b0202b78",
   "metadata": {},
   "outputs": [],
   "source": [
    "df_resultado_liquidaciones_previo[df_resultado_liquidaciones_previo['CodigoEmpleado'] == '16659046']"
   ]
  },
  {
   "cell_type": "code",
   "execution_count": null,
   "id": "955b6463",
   "metadata": {},
   "outputs": [],
   "source": [
    "df_resultado_liquidaciones_previo[df_resultado_liquidaciones_previo['CodigoEmpleado'] == '5005980']"
   ]
  },
  {
   "cell_type": "code",
   "execution_count": null,
   "id": "352cb54c",
   "metadata": {},
   "outputs": [],
   "source": [
    "meses_incentivos"
   ]
  },
  {
   "cell_type": "code",
   "execution_count": null,
   "id": "2a850b3e",
   "metadata": {},
   "outputs": [],
   "source": [
    "resultado_liquidaciones[resultado_liquidaciones['CodigoEmpleado'] == '1111135']"
   ]
  },
  {
   "cell_type": "code",
   "execution_count": null,
   "id": "40a34bd6",
   "metadata": {},
   "outputs": [],
   "source": [
    "# # Función para combinar valores de columnas _x y _y\n",
    "# def combinar_valores(row, columna_base):\n",
    "#     valor_x = row[f'{columna_base}_x']\n",
    "#     valor_y = row[f'{columna_base}_y']\n",
    "    \n",
    "#     if valor_x != 0.0:\n",
    "#         return valor_x\n",
    "#     elif valor_y != 0.0:\n",
    "#         return valor_y\n",
    "#     else:\n",
    "#         return 0"
   ]
  },
  {
   "cell_type": "code",
   "execution_count": null,
   "id": "514d7b49",
   "metadata": {},
   "outputs": [],
   "source": [
    "# resultado_liquidaciones[resultado_liquidaciones['CodigoEmpleado'] == '1111135'].merge(\n",
    "#     resultado_liquidaciones_historico[resultado_liquidaciones_historico['CodigoEmpleado'] == '1111135'],\n",
    "#     on=['CodigoEmpleado', 'Fecha'],\n",
    "#     how='outer'\n",
    "# ).fillna(0)"
   ]
  },
  {
   "cell_type": "code",
   "execution_count": null,
   "id": "12433a90",
   "metadata": {},
   "outputs": [],
   "source": [
    "resultado_liquidaciones.columns"
   ]
  },
  {
   "cell_type": "code",
   "execution_count": null,
   "id": "7174bd8a",
   "metadata": {},
   "outputs": [],
   "source": [
    "# prueba = resultado_liquidaciones[resultado_liquidaciones['CodigoEmpleado'] == '1111135'].merge(\n",
    "#     resultado_liquidaciones_historico[resultado_liquidaciones_historico['CodigoEmpleado'] == '1111135'],\n",
    "#     on=['CodigoEmpleado', 'Fecha'],\n",
    "#     how='outer'\n",
    "# ).fillna(0).sort_values(by=['CodigoEmpleado', 'Fecha'])\n",
    "\n",
    "# prueba['SalarioVariable'] = prueba.apply(lambda row: combinar_valores(row, 'SalarioVariable'), axis=1)\n",
    "# prueba['Liquidado'] = prueba.apply(lambda row: combinar_valores(row, 'Liquidado'), axis=1)\n",
    "# prueba['FactorMes'] = prueba.apply(lambda row: combinar_valores(row, 'FactorMes'), axis=1)\n",
    "# prueba['PagoReal'] = prueba.apply(lambda row: combinar_valores(row, 'PagoReal'), axis=1)\n",
    "# prueba['PagoGarantizado'] = prueba.apply(lambda row: combinar_valores(row, 'PagoGarantizado'), axis=1)\n",
    "# prueba = prueba[resultado_liquidaciones.columns]\n",
    "# prueba"
   ]
  },
  {
   "cell_type": "code",
   "execution_count": null,
   "id": "78fb91b0",
   "metadata": {},
   "outputs": [],
   "source": [
    "# prueba = resultado_liquidaciones.merge(\n",
    "#     resultado_liquidaciones_historico,\n",
    "#     on=['CodigoEmpleado', 'Fecha'],\n",
    "#     how='outer'\n",
    "# ).fillna(0).sort_values(by=['CodigoEmpleado', 'Fecha'])\n",
    "\n",
    "# prueba['SalarioVariable'] = prueba.apply(lambda row: combinar_valores(row, 'SalarioVariable'), axis=1)\n",
    "# prueba['Liquidado'] = prueba.apply(lambda row: combinar_valores(row, 'Liquidado'), axis=1)\n",
    "# prueba['FactorMes'] = prueba.apply(lambda row: combinar_valores(row, 'FactorMes'), axis=1)\n",
    "# prueba['PagoReal'] = prueba.apply(lambda row: combinar_valores(row, 'PagoReal'), axis=1)\n",
    "# prueba['PagoGarantizado'] = prueba.apply(lambda row: combinar_valores(row, 'PagoGarantizado'), axis=1)\n",
    "# prueba = prueba[resultado_liquidaciones.columns]\n",
    "\n",
    "# resultado_liquidaciones = prueba.copy()\n",
    "# resultado_liquidaciones"
   ]
  },
  {
   "cell_type": "code",
   "execution_count": null,
   "id": "a8ecaca3",
   "metadata": {},
   "outputs": [],
   "source": [
    "# def calcular_liquidacion_mes(g):\n",
    "#     pago_acumulado = 0\n",
    "#     suma_anticipos = 0\n",
    "#     for i, row in g.iterrows():\n",
    "# #         print(row)\n",
    "# #         print(f\"Liquidado: {row['Liquidado']} PagoReal: {row['PagoReal']} PagadoFecha:{row['PagadoFecha']}\")\n",
    "# #         print(\"mes actual:\", row['Fecha'].month)\n",
    "#         if row['Fecha'].month in meses_incentivos:\n",
    "# #             print(\"Pago Real\", g.at[i, 'PagoReal'])\n",
    "#             if g.at[i, 'PagoReal'] == 0:\n",
    "# #                 print(\"Pago Real es 0\", g.at[i, 'PagoReal'])\n",
    "#                 if i == 0:\n",
    "# #                     print(\"i es igual a 0\")\n",
    "#                     g.at[i, 'PagoReal'] = g.at[i, 'Liquidado']\n",
    "# #                     print(f\"Pago Real {g.at[i, 'PagoReal']} igual a liquidado = {g.at[i, 'Liquidado']}\")\n",
    "#                 else:\n",
    "# #                     print(\"i no es igual a 0\")\n",
    "#                     g.at[i, 'PagoReal'] = g.at[i, 'Liquidado'] - pago_acumulado\n",
    "# #                     print(f\"Pago Real {g.at[i, 'PagoReal']} igual a liquidado = {g.at[i, 'Liquidado']} - pago acumulado {pago_acumulado}\")\n",
    "# #                 print(\"Pago Real actualizado\", g.at[i, 'PagoReal'])\n",
    "#             if g.at[i, 'PagoReal'] < 0:\n",
    "#                 g.at[i, 'PagoReal'] = 0.0\n",
    "                \n",
    "# #         print(row['Fecha'].month, type(row['Fecha'].month), g.at[i, 'PagoReal'])\n",
    "#         if row['Fecha'].month not in meses_incentivos:\n",
    "#             if g.at[i, 'PagoGarantizado'] == \"NO\":\n",
    "# #                 print(\"Pago Real\", g.at[i, 'PagoReal'])\n",
    "#                 suma_anticipos += g.at[i, 'PagoReal']\n",
    "        \n",
    "#         if row['Fecha'].month == 4:\n",
    "# #             print(\"Abril\", suma_anticipos)\n",
    "#             g.at[i, 'PagoReal'] = suma_anticipos + g.at[i, 'PagoReal']\n",
    "        \n",
    "# #         print(\"pago_acumuladol_antes:\", pago_acumulado)\n",
    "#         pago_acumulado += g.at[i, 'PagoReal']\n",
    "# #         print(\"pago_acumuladol_después:\", pago_acumulado)\n",
    "        \n",
    "#         g.at[i, 'PagadoFecha'] = pago_acumulado\n",
    "        \n",
    "#         excepcion = excepciones_pagos_acumulados.get(row['CodigoEmpleado'], None)\n",
    "#         if excepcion and row['Fecha'] == excepcion['Fecha']:\n",
    "#             pago_acumulado = excepcion['ValorPagoAcumulado']\n",
    "        \n",
    "#         excepcion_diferencia = excepciones_diferencias.get(row['CodigoEmpleado'], None)\n",
    "#         if excepcion_diferencia and row['Fecha'] == excepcion_diferencia['Fecha']:\n",
    "#             pago_acumulado = pago_acumulado + excepcion_diferencia['ValorDiferencia']\n",
    "# #         print(\"----+++++++++++++++++++++++++++++-----\")\n",
    "#     return g"
   ]
  },
  {
   "cell_type": "code",
   "execution_count": null,
   "id": "d314917c",
   "metadata": {},
   "outputs": [],
   "source": [
    "def calcular_liquidacion_mes_corregido(g):\n",
    "    pago_acumulado = 0\n",
    "    suma_anticipos = 0\n",
    "    for i, row in g.iterrows():\n",
    "        if row['Fecha'].month in meses_incentivos:\n",
    "            if g.at[i, 'PagoReal'] == 0:\n",
    "                if i == 0:\n",
    "\n",
    "                    g.at[i, 'PagoReal'] = g.at[i, 'Liquidado']\n",
    "                else:\n",
    "                    g.at[i, 'PagoReal'] = g.at[i, 'Liquidado'] - pago_acumulado\n",
    "            if g.at[i, 'PagoReal'] < 0:\n",
    "                g.at[i, 'PagoReal'] = 0.0\n",
    "                    \n",
    "#         if row['Fecha'].month not in meses_incentivos:\n",
    "#             if g.at[i, 'PagoGarantizado'] == \"NO\":\n",
    "#                 suma_anticipos = suma_anticipos + g.at[i, 'PagoReal']\n",
    "\n",
    "#         if row['Fecha'].month == 4:\n",
    "#             g.at[i, 'PagoReal'] = suma_anticipos + g.at[i, 'PagoReal']\n",
    "        \n",
    "\n",
    "        \n",
    "        try:\n",
    "            if g.at[i, 'PagoGarantizado'] == \"NO\":\n",
    "                pago_acumulado += g.at[i, 'PagoReal']\n",
    "        except Exception as e:\n",
    "            print(row)\n",
    "            print(\"+++++++++++++++++++++++\")\n",
    "            print(g.at[i, 'PagoGarantizado'])\n",
    "            print(\"-----------\")\n",
    "            print(type(g.at[i, 'PagoGarantizado']))\n",
    "            print(e)\n",
    "        g.at[i, 'PagadoFecha'] = pago_acumulado\n",
    "        excepcion = excepciones_pagos_acumulados.get(row['CodigoEmpleado'], None)\n",
    "        if excepcion and row['Fecha'] == excepcion['Fecha']:\n",
    "            pago_acumulado = excepcion['ValorPagoAcumulado']\n",
    "        \n",
    "        excepcion_diferencia = excepciones_diferencias.get(row['CodigoEmpleado'], None)\n",
    "        if excepcion_diferencia and row['Fecha'] == excepcion_diferencia['Fecha']:\n",
    "            pago_acumulado = pago_acumulado + excepcion_diferencia['ValorDiferencia']\n",
    "    return g"
   ]
  },
  {
   "cell_type": "code",
   "execution_count": null,
   "id": "323ffe15",
   "metadata": {},
   "outputs": [],
   "source": [
    "resultado_liquidaciones_copy = resultado_liquidaciones.copy()\n",
    "resultado_liquidaciones = resultado_liquidaciones_copy\n",
    "resultado_liquidaciones"
   ]
  },
  {
   "cell_type": "code",
   "execution_count": null,
   "id": "a9799833",
   "metadata": {},
   "outputs": [],
   "source": [
    "resultado_liquidaciones[resultado_liquidaciones['CodigoEmpleado'] == '1060654227']"
   ]
  },
  {
   "cell_type": "code",
   "execution_count": null,
   "id": "ba17f8ab",
   "metadata": {},
   "outputs": [],
   "source": [
    "resultado_liquidaciones_historico = df_resultado_liquidaciones_previo.copy()\n",
    "resultado_liquidaciones_historico['PagoGarantizado'] = resultado_liquidaciones_historico['PagoGarantizado'].fillna('NO')\n",
    "last_date_historico = resultado_liquidaciones_historico['Fecha'].max()\n",
    "last_date_historico = None if pd.isnull(last_date_historico) else last_date_historico\n",
    "\n",
    "try:\n",
    "    resultado_liquidaciones = resultado_liquidaciones[\n",
    "        resultado_liquidaciones['Fecha']<=fecha_liquidacion\n",
    "    ]\n",
    "    if last_date_historico:\n",
    "        resultado_liquidaciones = resultado_liquidaciones[\n",
    "            resultado_liquidaciones['Fecha']>last_date_historico\n",
    "        ]\n",
    "except:\n",
    "    pass\n",
    "\n",
    "resultado_liquidaciones = pd.concat([resultado_liquidaciones_historico, resultado_liquidaciones]).reset_index(drop=True)\n",
    "resultado_liquidaciones = resultado_liquidaciones.sort_values(by=['CodigoEmpleado', 'Fecha'])\n",
    "\n",
    "for codigo_empleado_excepcion in excepciones_pagos_acumulados:\n",
    "    excepcion = excepciones_pagos_acumulados[codigo_empleado_excepcion]\n",
    "    resultado_liquidaciones['PagoReal'] = np.where(\n",
    "        (\n",
    "            (resultado_liquidaciones['CodigoEmpleado'] == codigo_empleado_excepcion) &\n",
    "            (resultado_liquidaciones['Fecha'] <= excepcion['Fecha'])\n",
    "        ),\n",
    "        excepcion['ValorPagoAcumulado'],\n",
    "        resultado_liquidaciones['PagoReal']\n",
    "    )\n",
    "\n",
    "for codigo_empleado_excepcion in excepciones_diferencias:\n",
    "    excepcion = excepciones_diferencias[codigo_empleado_excepcion]\n",
    "    resultado_liquidaciones['PagoReal'] = np.where(\n",
    "        (\n",
    "            (resultado_liquidaciones['CodigoEmpleado'] == codigo_empleado_excepcion) &\n",
    "            (resultado_liquidaciones['Fecha'] == excepcion['Fecha'])\n",
    "        ),\n",
    "        resultado_liquidaciones['PagoReal'] + excepcion['ValorDiferencia'],\n",
    "        resultado_liquidaciones['PagoReal']\n",
    "    )\n",
    "    \n",
    "resultado_liquidaciones['PagadoFecha'] = 0\n",
    "\n",
    "resultado_liquidaciones = resultado_liquidaciones.groupby(['CodigoEmpleado'], group_keys=False).apply(calcular_liquidacion_mes_corregido)\n",
    "resultado_liquidaciones.head()\n"
   ]
  },
  {
   "cell_type": "code",
   "execution_count": null,
   "id": "5a1a6933",
   "metadata": {
    "scrolled": false
   },
   "outputs": [],
   "source": [
    "resultado_liquidaciones[\n",
    "    (resultado_liquidaciones['CodigoEmpleado'] == '16659046') | \n",
    "    (resultado_liquidaciones['CodigoEmpleado'] == '1111135')|\n",
    "     (resultado_liquidaciones['CodigoEmpleado'] == '79539822')\n",
    "]"
   ]
  },
  {
   "cell_type": "code",
   "execution_count": null,
   "id": "b015b545",
   "metadata": {},
   "outputs": [],
   "source": []
  },
  {
   "cell_type": "code",
   "execution_count": null,
   "id": "588619fc",
   "metadata": {},
   "outputs": [],
   "source": [
    "resultado_liquidaciones['PagadoFecha'] = resultado_liquidaciones.apply(\n",
    "    lambda row: row['PagadoFecha'] - row['PagoReal'] if row['PagoGarantizado'] == 'NO' else row['PagadoFecha'], axis=1\n",
    ")"
   ]
  },
  {
   "cell_type": "code",
   "execution_count": null,
   "id": "775f4664",
   "metadata": {},
   "outputs": [],
   "source": [
    "resultado_liquidaciones[\n",
    "#     (resultado_liquidaciones['CodigoEmpleado'] == '16659046') | \n",
    "    (resultado_liquidaciones['CodigoEmpleado'] == '1111135') |\n",
    "#     (resultado_liquidaciones['CodigoEmpleado'] == '1018451704') |\n",
    "    (resultado_liquidaciones['CodigoEmpleado'] == '79539822')\n",
    "]"
   ]
  },
  {
   "cell_type": "code",
   "execution_count": null,
   "id": "c4b7b2f9",
   "metadata": {},
   "outputs": [],
   "source": [
    "resultado_liquidaciones.drop_duplicates(['CodigoEmpleado', 'Fecha'], inplace=True)\n",
    "\n",
    "resultado_final = pd.merge(\n",
    "    left=resultado_liquidaciones[['CodigoEmpleado', 'Fecha', 'PagoGarantizado', 'Liquidado', 'PagoReal', 'PagadoFecha', 'FactorMes']],\n",
    "    right=df_empleados,\n",
    "    on=['CodigoEmpleado'],\n",
    "    how='left'\n",
    ")\n",
    "resultado_final = resultado_final[['Identificacion', 'Nombre', 'Apellidos', 'CodigoEmpleado', 'TipoEmpleado', 'AreaCalculo', 'Fecha', 'SalarioVariable', 'PagoGarantizado', 'FactorMes', 'Liquidado', 'PagoReal', 'PagadoFecha']]\n",
    "resultado_final = resultado_final.sort_values(by=['TipoEmpleado', 'AreaCalculo', 'CodigoEmpleado', 'Fecha'])\n",
    "\n",
    "resultado_final.rename(columns={\n",
    "    'Identificacion': 'Cédula',\n",
    "    'CodigoEmpleado': 'Código',\n",
    "    'TipoEmpleado': 'Tipo Empleado',\n",
    "    'AreaCalculo': 'Área de cálculo',\n",
    "    'Liquidado': 'Valor liquidado',\n",
    "    'PagoReal': 'Valor neto a pagar',\n",
    "    'PagadoFecha': 'Pagado a la fecha',\n",
    "    'SalarioVariable': 'Salario variable',\n",
    "    'FactorMes': 'Factor mes',\n",
    "    'PagoGarantizado': '¿Pago garantizado?'\n",
    "}, inplace=True)\n",
    "resultado_final.head()"
   ]
  },
  {
   "cell_type": "markdown",
   "id": "96a40c48",
   "metadata": {},
   "source": [
    "### Con centro de costo"
   ]
  },
  {
   "cell_type": "code",
   "execution_count": null,
   "id": "51260d39",
   "metadata": {},
   "outputs": [],
   "source": [
    "# resultado_liquidaciones_historico_centro_costo = df_resultado_liquidaciones_previo.copy()\n",
    "# resultado_liquidaciones_historico_centro_costo['PagoGarantizado'] = resultado_liquidaciones_historico_centro_costo['PagoGarantizado'].fillna('NO')\n",
    "# last_date_historico = resultado_liquidaciones_historico_centro_costo['Fecha'].max()\n",
    "# last_date_historico = None if pd.isnull(last_date_historico) else last_date_historico\n",
    "\n",
    "# try:\n",
    "#     resultado_liquidaciones_centro_costo = resultado_liquidaciones_centro_costo[\n",
    "#         resultado_liquidaciones['Fecha']<=fecha_liquidacion\n",
    "#     ]\n",
    "#     if last_date_historico:\n",
    "#         resultado_liquidaciones_centro_costo = resultado_liquidaciones_centro_costo[\n",
    "#             resultado_liquidaciones_centro_costo['Fecha']>last_date_historico\n",
    "#         ]\n",
    "# except:\n",
    "#     pass\n",
    "\n",
    "# resultado_liquidaciones_centro_costo = pd.concat([resultado_liquidaciones_historico_centro_costo, resultado_liquidaciones_centro_costo])\n",
    "# resultado_liquidaciones_centro_costo = resultado_liquidaciones_centro_costo.sort_values(by=['CodigoEmpleado', 'Fecha'])\n",
    "\n",
    "# for codigo_empleado_excepcion in excepciones_pagos_acumulados:\n",
    "#     excepcion = excepciones_pagos_acumulados[codigo_empleado_excepcion]\n",
    "#     resultado_liquidaciones_centro_costo['PagoReal'] = np.where(\n",
    "#         (\n",
    "#             (resultado_liquidaciones_centro_costo['CodigoEmpleado'] == codigo_empleado_excepcion) &\n",
    "#             (resultado_liquidaciones_centro_costo['Fecha'] <= excepcion['Fecha'])\n",
    "#         ),\n",
    "#         excepcion['ValorPagoAcumulado'],\n",
    "#         resultado_liquidaciones_centro_costo['PagoReal']\n",
    "#     )\n",
    "\n",
    "# for codigo_empleado_excepcion in excepciones_diferencias:\n",
    "#     excepcion = excepciones_diferencias[codigo_empleado_excepcion]\n",
    "#     resultado_liquidaciones_centro_costo['PagoReal'] = np.where(\n",
    "#         (\n",
    "#             (resultado_liquidaciones_centro_costo['CodigoEmpleado'] == codigo_empleado_excepcion) &\n",
    "#             (resultado_liquidaciones_centro_costo['Fecha'] == excepcion['Fecha'])\n",
    "#         ),\n",
    "#         resultado_liquidaciones_centro_costo['PagoReal'] + excepcion['ValorDiferencia'],\n",
    "#         resultado_liquidaciones_centro_costo['PagoReal']\n",
    "#     )\n",
    "\n",
    "# resultado_liquidaciones_centro_costo['PagadoFecha'] = resultado_liquidaciones_centro_costo.groupby(['CodigoEmpleado'])['PagoReal'].transform(pd.Series.cumsum)\n",
    "# resultado_liquidaciones_centro_costo['PagadoFecha'] = resultado_liquidaciones_centro_costo['PagadoFecha'] - resultado_liquidaciones_centro_costo['PagoReal']\n",
    "# resultado_liquidaciones_centro_costo"
   ]
  },
  {
   "cell_type": "code",
   "execution_count": null,
   "id": "41967692",
   "metadata": {},
   "outputs": [],
   "source": [
    "# resultado_liquidaciones_centro_costo.drop_duplicates(['CodigoEmpleado', 'Fecha'], inplace=True)\n",
    "\n",
    "# resultado_final_centro_costo = pd.merge(\n",
    "#     left=resultado_liquidaciones_centro_costo[['CodigoEmpleado', 'Fecha', 'PagoGarantizado', 'Liquidado', 'PagoReal','PagadoFecha', 'FactorMes', 'CodigoCentroCosto']],\n",
    "#     right=df_empleados,\n",
    "#     on=['CodigoEmpleado'],\n",
    "#     how='left'\n",
    "# )\n",
    "# resultado_final_centro_costo = resultado_final_centro_costo[['Identificacion', 'Nombre', 'Apellidos', 'CodigoEmpleado', 'TipoEmpleado', 'AreaCalculo', 'Fecha', 'SalarioVariable', 'PagoGarantizado', 'FactorMes', 'Liquidado', 'PagoReal', 'PagadoFecha', 'CodigoCentroCosto']]\n",
    "# resultado_final_centro_costo = resultado_final_centro_costo.sort_values(by=['TipoEmpleado', 'AreaCalculo', 'CodigoEmpleado', 'Fecha', 'CodigoCentroCosto'])\n",
    "\n",
    "# resultado_final_centro_costo.rename(columns={\n",
    "#     'Identificacion': 'Cédula',\n",
    "#     'CodigoEmpleado': 'Código',\n",
    "#     'TipoEmpleado': 'Tipo Empleado',\n",
    "#     'AreaCalculo': 'Área de cálculo',\n",
    "#     'Liquidado': 'Valor liquidado',\n",
    "#     'PagoReal': 'Valor neto a pagar',\n",
    "#     'PagadoFecha': 'Pagado a la fecha',\n",
    "#     'SalarioVariable': 'Salario variable',\n",
    "#     'FactorMes': 'Factor mes',\n",
    "#     'PagoGarantizado': '¿Pago garantizado?'\n",
    "# }, inplace=True)\n",
    "# resultado_final_centro_costo.head()"
   ]
  },
  {
   "cell_type": "code",
   "execution_count": null,
   "id": "83c9836d",
   "metadata": {},
   "outputs": [],
   "source": [
    "resultado_liquidaciones[resultado_liquidaciones['CodigoEmpleado'] == '16659046']"
   ]
  },
  {
   "cell_type": "code",
   "execution_count": null,
   "id": "9f137753",
   "metadata": {},
   "outputs": [],
   "source": [
    "resultado_liquidaciones[resultado_liquidaciones['CodigoEmpleado'] == '1111135'] "
   ]
  },
  {
   "cell_type": "code",
   "execution_count": null,
   "id": "895fcdc6",
   "metadata": {},
   "outputs": [],
   "source": [
    "resultado_liquidaciones[resultado_liquidaciones['CodigoEmpleado'] == '79539822'] "
   ]
  },
  {
   "cell_type": "code",
   "execution_count": null,
   "id": "db42a92a",
   "metadata": {},
   "outputs": [],
   "source": [
    "resultado_liquidaciones_mayo = resultado_liquidaciones[resultado_liquidaciones['Fecha'] == '2024-05-01']"
   ]
  },
  {
   "cell_type": "code",
   "execution_count": null,
   "id": "326fd388",
   "metadata": {},
   "outputs": [],
   "source": [
    "# resultado_final_centro_costo.to_excel(os.path.join(OUTPUT_FOLDER, 'resultado_final_centro_costo.xlsx'))\n",
    "maestra_resultados_por_empleado.to_excel(os.path.join(OUTPUT_FOLDER, 'maestra_resultados_por_empleado.xlsx'))\n",
    "# maestra_resultados_por_empleado_centro_costo.to_excel(os.path.join(OUTPUT_FOLDER, 'maestra_resultados_por_empleado_centro_costo.xlsx'))\n",
    "resultado_liquidaciones.to_excel(os.path.join(OUTPUT_FOLDER, 'resultado_liquidaciones.xlsx'))\n",
    "resultado_final.to_excel(os.path.join(OUTPUT_FOLDER, 'resultado_final.xlsx'))\n",
    "maestra_resultados.to_excel(os.path.join(OUTPUT_FOLDER, 'maestra_resultados.xlsx'))"
   ]
  },
  {
   "cell_type": "code",
   "execution_count": null,
   "id": "b30513c3",
   "metadata": {},
   "outputs": [],
   "source": [
    "# resultado_liquidaciones = resultado_liquidaciones.reset_index()\n",
    "# resultados_comparacion_nomina = resultados_comparacion_nomina.reset_index()"
   ]
  },
  {
   "cell_type": "code",
   "execution_count": null,
   "id": "cab35ef6",
   "metadata": {},
   "outputs": [],
   "source": [
    "resultados_comparacion_nomina = pd.read_excel(\n",
    "        io=os.path.join('C:\\\\Users\\\\Crisp\\\\Documents\\\\QualitySoftGroup\\\\Empresas\\\\Complemento360\\\\NR - Cambio de Parrillas','Relacion Compara datos de liquidacion 29jun2024 vs reportados a Nomina.xlsx'),\n",
    "        dtype={\n",
    "            'Código': str,\n",
    "            'Fecha': 'datetime64[ns]',\n",
    "            '¿Pago garantizado?': str,\n",
    "            'Valor liquidado reportado a Nomina':float ,\n",
    "            'Valor Neto a Pagar Reportado a Nomina': float,\n",
    "            'Pagado a la fecha Reportado a Nomina': float,\n",
    "        }\n",
    "    )\n",
    "resultados_comparacion_nomina.rename(columns={'Código':'CodigoEmpleado'}, inplace=True)"
   ]
  },
  {
   "cell_type": "code",
   "execution_count": null,
   "id": "e6b80ff3",
   "metadata": {},
   "outputs": [],
   "source": [
    "resultados_comparacion_nomina = resultados_comparacion_nomina.merge(\n",
    "    resultado_liquidaciones_mayo,\n",
    "    on=['CodigoEmpleado', 'Fecha'],\n",
    "    how='left'\n",
    ")"
   ]
  },
  {
   "cell_type": "code",
   "execution_count": null,
   "id": "437f4403",
   "metadata": {},
   "outputs": [],
   "source": [
    "resultados_comparacion_nomina.columns"
   ]
  },
  {
   "cell_type": "code",
   "execution_count": null,
   "id": "8b750356",
   "metadata": {},
   "outputs": [],
   "source": [
    "# resultados_comparacion_nomina['Valor liquidado'] = resultados_comparacion_nomina['Liquidado']\n",
    "# resultados_comparacion_nomina['Valor neto a pagar'] = resultados_comparacion_nomina['PagoReal']\n",
    "# resultados_comparacion_nomina['Pagado a la fecha'] = resultados_comparacion_nomina['PagadoFecha']"
   ]
  },
  {
   "cell_type": "code",
   "execution_count": null,
   "id": "b2701e39",
   "metadata": {},
   "outputs": [],
   "source": [
    "resultados_comparacion_nomina['Nueva Diferencia Valor Liquidado'] = resultados_comparacion_nomina['Valor liquidado reportado a Nomina'] - resultados_comparacion_nomina['Liquidado']\n",
    "resultados_comparacion_nomina['Nueva Diferencia Valor Neto a Pagar'] = resultados_comparacion_nomina['Valor Neto a Pagar Reportado a Nomina'] - resultados_comparacion_nomina['PagoReal']\n",
    "resultados_comparacion_nomina['Nueva Diferencia Pagado a la fecha'] = resultados_comparacion_nomina['Pagado a la fecha Reportado a Nomina'] - resultados_comparacion_nomina['PagadoFecha']\n",
    "resultados_comparacion_nomina"
   ]
  },
  {
   "cell_type": "code",
   "execution_count": null,
   "id": "a5bcd8c2",
   "metadata": {},
   "outputs": [],
   "source": [
    "resultados_comparacion_nomina[resultados_comparacion_nomina['CodigoEmpleado'] == '1111135']"
   ]
  },
  {
   "cell_type": "code",
   "execution_count": null,
   "id": "3baaa3a3",
   "metadata": {},
   "outputs": [],
   "source": [
    "resultados_comparacion_nomina.to_excel(os.path.join(OUTPUT_FOLDER, 'resultados_comparacion_nomina.xlsx'))"
   ]
  },
  {
   "cell_type": "code",
   "execution_count": null,
   "id": "88013544",
   "metadata": {},
   "outputs": [],
   "source": [
    "resultados_comparacion_nomina[resultados_comparacion_nomina['Nueva Diferencia Valor Liquidado'] > 1]"
   ]
  },
  {
   "cell_type": "code",
   "execution_count": null,
   "id": "aea5019b",
   "metadata": {},
   "outputs": [],
   "source": [
    "resultados_comparacion_nomina[resultados_comparacion_nomina['Nueva Diferencia Valor Liquidado'] < -1]"
   ]
  },
  {
   "cell_type": "markdown",
   "id": "79e90a3f",
   "metadata": {},
   "source": [
    "## Generación de PDFs"
   ]
  },
  {
   "cell_type": "code",
   "execution_count": null,
   "id": "6222d851",
   "metadata": {},
   "outputs": [],
   "source": [
    "def get_dataframes(\n",
    "        df_resultado_detallado,\n",
    "        df_resultado_liquidaciones\n",
    "):\n",
    "    resultado_liquidaciones = df_resultado_liquidaciones.set_index(['CodigoEmpleado', 'Fecha'])\n",
    "    resultado_liquidaciones.fillna(value={\n",
    "        'PagoReal': 0,\n",
    "        'Liquidacion': 0\n",
    "    }, inplace=True)\n",
    "\n",
    "    resultado_detallado = df_resultado_detallado.fillna(value={\n",
    "        'FactorIncentivo': 0,\n",
    "        'PorcentajeCumplimiento': 0,\n",
    "        'Presupuesto': 0,\n",
    "        'Real': 0,\n",
    "        'Liquidado': 0,\n",
    "        'ResultadoPresupuesto': 0,\n",
    "        'ResultadoRealMes': 0,\n",
    "        'PorcentajeCumplimientoMes': 0\n",
    "    })\n",
    "\n",
    "    return resultado_detallado, resultado_liquidaciones"
   ]
  },
  {
   "cell_type": "code",
   "execution_count": null,
   "id": "cf873b47",
   "metadata": {},
   "outputs": [],
   "source": [
    "df_detalles_para_pdf, df_liquidaciones_para_pdf = get_dataframes(\n",
    "    df_resultado_detallado=maestra_resultados_por_empleado,\n",
    "    df_resultado_liquidaciones=resultado_liquidaciones\n",
    ")"
   ]
  },
  {
   "cell_type": "code",
   "execution_count": null,
   "id": "c1cc8679",
   "metadata": {},
   "outputs": [],
   "source": []
  },
  {
   "cell_type": "code",
   "execution_count": null,
   "id": "182d72e5",
   "metadata": {},
   "outputs": [],
   "source": []
  }
 ],
 "metadata": {
  "kernelspec": {
   "display_name": "Python 3 (ipykernel)",
   "language": "python",
   "name": "python3"
  },
  "language_info": {
   "codemirror_mode": {
    "name": "ipython",
    "version": 3
   },
   "file_extension": ".py",
   "mimetype": "text/x-python",
   "name": "python",
   "nbconvert_exporter": "python",
   "pygments_lexer": "ipython3",
   "version": "3.9.13"
  }
 },
 "nbformat": 4,
 "nbformat_minor": 5
}
