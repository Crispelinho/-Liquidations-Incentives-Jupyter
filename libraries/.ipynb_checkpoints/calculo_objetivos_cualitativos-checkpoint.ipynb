{
 "cells": [
  {
   "cell_type": "markdown",
   "id": "1324b846",
   "metadata": {},
   "source": [
    "# Calculo Objetivos Cualitativos"
   ]
  },
  {
   "cell_type": "code",
   "execution_count": 2,
   "id": "347e1e1e",
   "metadata": {},
   "outputs": [],
   "source": [
    "import os\n",
    "import sys\n",
    "import pandas as pd\n",
    "import numpy as np\n",
    "\n",
    "def calculo_cumplimiento_objetivos_cualitativos(df_objetivos_cualitativos, df_empleados, df_venta_recaudo_real):\n",
    "    cumplimiento_objetivos_cualitativos = pd.DataFrame()\n",
    "    cumplimiento_objetivos_cualitativos['CodigoEmpleado'] = df_empleados['CodigoEmpleado']\n",
    "    cumplimiento_objetivos_cualitativos['merge'] = 1\n",
    "    ##\n",
    "    fechas = pd.DataFrame(df_venta_recaudo_real['Fecha'].drop_duplicates())\n",
    "    fechas['merge'] = 1\n",
    "    ##\n",
    "    cumplimiento_objetivos_cualitativos = cumplimiento_objetivos_cualitativos.merge(\n",
    "        fechas,\n",
    "        on='merge',\n",
    "        how='left'\n",
    "    )\n",
    "    cumplimiento_objetivos_cualitativos.drop(columns='merge', inplace=True)\n",
    "\n",
    "    cumplimiento_objetivos_cualitativos = pd.merge(\n",
    "        left=cumplimiento_objetivos_cualitativos,\n",
    "        right=df_objetivos_cualitativos,\n",
    "        on=['CodigoEmpleado', 'Fecha'],\n",
    "        how='left'\n",
    "    )\n",
    "\n",
    "    cumplimiento_objetivos_cualitativos['Variable'] = 'ObjetivosCualitativos'\n",
    "    cumplimiento_objetivos_cualitativos['PorcentajeCumplimiento'].fillna(0.94, inplace=True)\n",
    "    cumplimiento_objetivos_cualitativos.rename(columns={'CodigoEmpleado': 'Contexto'}, inplace=True)\n",
    "    return cumplimiento_objetivos_cualitativos"
   ]
  },
  {
   "cell_type": "code",
   "execution_count": null,
   "id": "070d8455",
   "metadata": {},
   "outputs": [],
   "source": []
  }
 ],
 "metadata": {
  "kernelspec": {
   "display_name": "Python 3 (ipykernel)",
   "language": "python",
   "name": "python3"
  },
  "language_info": {
   "codemirror_mode": {
    "name": "ipython",
    "version": 3
   },
   "file_extension": ".py",
   "mimetype": "text/x-python",
   "name": "python",
   "nbconvert_exporter": "python",
   "pygments_lexer": "ipython3",
   "version": "3.9.13"
  }
 },
 "nbformat": 4,
 "nbformat_minor": 5
}
