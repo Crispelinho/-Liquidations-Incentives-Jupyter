{
 "cells": [
  {
   "cell_type": "markdown",
   "id": "cc9c9814",
   "metadata": {},
   "source": [
    "# Merge de SBA con Área de Cálculo"
   ]
  },
  {
   "cell_type": "code",
   "execution_count": 3,
   "id": "2dcd9da5",
   "metadata": {},
   "outputs": [],
   "source": [
    "import os\n",
    "import sys\n",
    "import pandas as pd\n",
    "import numpy as np"
   ]
  },
  {
   "cell_type": "code",
   "execution_count": 5,
   "id": "31e7ade7",
   "metadata": {},
   "outputs": [],
   "source": [
    "class AreaCalculoSBA:\n",
    "    \n",
    "    area_calculo_sba_completo = None\n",
    "    df_venta_recaudo_real = None\n",
    "    df_venta_recaudo_presupuesto = None\n",
    "    df_area_calculo_sba = None\n",
    "    \n",
    "    def __init__(self, dataframe_loader):\n",
    "        self.df_venta_recaudo_real = dataframe_loader.df_venta_recaudo_real\n",
    "        self.df_venta_recaudo_presupuesto = dataframe_loader.df_venta_recaudo_presupuesto\n",
    "        self.df_area_calculo_sba = dataframe_loader.df_area_calculo_sba\n",
    "    \n",
    "    def area_calculo_calculate(self, df_venta_recaudo_real, df_venta_recaudo_presupuesto, df_area_calculo_sba):\n",
    "        productos_venta = df_venta_recaudo_real[['Division', 'GrupoProducto', 'SBA']]\n",
    "        productos_presupuesto = df_venta_recaudo_presupuesto[['Division', 'GrupoProducto', 'SBA']]\n",
    "        productos = pd.concat([productos_venta, productos_presupuesto])\n",
    "        productos = productos.drop_duplicates()\n",
    "\n",
    "        ##\n",
    "        _area_calculo_sba_notnull = df_area_calculo_sba[\n",
    "            (df_area_calculo_sba['SBA'].notnull()) |\n",
    "            (df_area_calculo_sba['SBA'] != '')\n",
    "        ]\n",
    "        ##\n",
    "        _area_calculo_sba_por_grupo = df_area_calculo_sba[\n",
    "            (df_area_calculo_sba['GrupoProducto'].isnull()) |\n",
    "            (df_area_calculo_sba['GrupoProducto'] == '')\n",
    "        ]\n",
    "        _area_calculo_sba_por_grupo = pd.merge(\n",
    "            left=_area_calculo_sba_por_grupo[['TipoEmpleado', 'AreaCalculo', 'Consecutivo', 'Division']],\n",
    "            right=productos,\n",
    "            on='Division',\n",
    "            how='left'\n",
    "        )\n",
    "        ##\n",
    "        _area_calculo_sba_por_sba = df_area_calculo_sba[\n",
    "            (\n",
    "                (df_area_calculo_sba['SBA'].isnull()) |\n",
    "                (df_area_calculo_sba['SBA'] == '')\n",
    "            ) &\n",
    "            (\n",
    "                (df_area_calculo_sba['GrupoProducto'].notnull()) |\n",
    "                (df_area_calculo_sba['GrupoProducto'] != '')\n",
    "            )\n",
    "        ]\n",
    "        _area_calculo_sba_por_sba = pd.merge(\n",
    "            left=_area_calculo_sba_por_sba[['TipoEmpleado', 'AreaCalculo', 'GrupoProducto', 'Consecutivo', 'Division']],\n",
    "            right=productos[['GrupoProducto', 'SBA']],\n",
    "            on='GrupoProducto',\n",
    "            how='left'\n",
    "        )\n",
    "\n",
    "        area_calculo_sba_completo = pd.concat([\n",
    "            _area_calculo_sba_notnull,\n",
    "            _area_calculo_sba_por_grupo,\n",
    "            _area_calculo_sba_por_sba\n",
    "        ])\n",
    "        area_calculo_sba_completo = area_calculo_sba_completo[['AreaCalculo', 'Consecutivo', 'Division', 'GrupoProducto', 'SBA', 'TipoEmpleado']]\n",
    "        area_calculo_sba_completo.fillna('', inplace=True)\n",
    "        area_calculo_sba_completo.drop_duplicates(inplace=True, subset=area_calculo_sba_completo.columns)\n",
    "        self.area_calculo_sba_completo = area_calculo_sba_completo\n",
    "        return self.area_calculo_sba_completo\n",
    "    \n",
    "    def get_area_calculo_sba_completo(self):\n",
    "        return self.area_calculo_calculate(self.df_venta_recaudo_real, self.df_venta_recaudo_presupuesto, self.df_area_calculo_sba)\n",
    "    \n",
    "    def get_area_calculo_sba_completo_by_tipo_empleado(self, tipo_empleado):\n",
    "        return self.area_calculo_sba_completo[(self.area_calculo_sba_completo['TipoEmpleado'] == tipo_empleado)]"
   ]
  },
  {
   "cell_type": "code",
   "execution_count": null,
   "id": "7462b8f1",
   "metadata": {},
   "outputs": [],
   "source": []
  }
 ],
 "metadata": {
  "kernelspec": {
   "display_name": "Python 3 (ipykernel)",
   "language": "python",
   "name": "python3"
  },
  "language_info": {
   "codemirror_mode": {
    "name": "ipython",
    "version": 3
   },
   "file_extension": ".py",
   "mimetype": "text/x-python",
   "name": "python",
   "nbconvert_exporter": "python",
   "pygments_lexer": "ipython3",
   "version": "3.9.13"
  }
 },
 "nbformat": 4,
 "nbformat_minor": 5
}
