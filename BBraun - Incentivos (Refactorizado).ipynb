{
 "cells": [
  {
   "cell_type": "markdown",
   "metadata": {
    "datalore": {
     "hide_input_from_viewers": false,
     "hide_output_from_viewers": false,
     "type": "MD"
    }
   },
   "source": [
    "# INICIO"
   ]
  },
  {
   "cell_type": "code",
   "execution_count": 2,
   "metadata": {
    "datalore": {
     "hide_input_from_viewers": false,
     "hide_output_from_viewers": false,
     "type": "CODE"
    }
   },
   "outputs": [
    {
     "name": "stdout",
     "output_type": "stream",
     "text": [
      "importing Jupyter notebook from C:\\Users\\Crisp\\Documents\\QualitySoftGroup\\Proyectos\\Liquidations-Incentives-Jupyter\\libraries\\calculosba_areacalculo.ipynb\n",
      "importing Jupyter notebook from C:\\Users\\Crisp\\Documents\\QualitySoftGroup\\Proyectos\\Liquidations-Incentives-Jupyter\\libraries\\calculo_objetivos_cualitativos.ipynb\n",
      "C:\\Users\\Crisp\\Documents\\QualitySoftGroup\\Proyectos\\Liquidations-Incentives-Jupyter\n",
      "C:\\Users\\Crisp\\Documents\\QualitySoftGroup\\Proyectos\\Liquidations-Incentives-Jupyter\\source\\archivos-fuente-76\n"
     ]
    }
   ],
   "source": [
    "import os\n",
    "import sys\n",
    "import pandas as pd\n",
    "import numpy as np\n",
    "from datetime import datetime\n",
    "from shared_functions import DataframeLoader, Shared\n",
    "import import_ipynb\n",
    "from libraries.calculosba_areacalculo import area_calculo_calculate\n",
    "from libraries.calculo_objetivos_cualitativos import calculo_cumplimiento_objetivos_cualitativos\n",
    "base_dir = 'C:\\\\Users\\\\Crisp\\\\Documents\\\\QualitySoftGroup\\\\Proyectos\\\\Liquidations-Incentives-Jupyter'\n",
    "print(base_dir)\n",
    "#base_dir = '/data/notebook_files/'\n",
    "sub_direct = ''\n",
    "sub_direct = 'archivos-fuente-76'\n",
    "folder_bbraun_source = os.path.join(base_dir, 'source', sub_direct)\n",
    "print(folder_bbraun_source)\n"
   ]
  },
  {
   "cell_type": "code",
   "execution_count": 3,
   "metadata": {},
   "outputs": [],
   "source": [
    "# pip install import-ipynb\n",
    "# shared = Shared()"
   ]
  },
  {
   "cell_type": "code",
   "execution_count": 4,
   "metadata": {},
   "outputs": [
    {
     "name": "stdout",
     "output_type": "stream",
     "text": [
      "<bound method DataframeLoader.cargar_dataframes of <shared_functions.DataframeLoader object at 0x000001389E7AE700>>\n"
     ]
    }
   ],
   "source": [
    "dataframe_loader = DataframeLoader(\n",
    "    base_dir=base_dir,\n",
    "    sub_direct=sub_direct\n",
    ")\n",
    "shared = Shared()\n",
    "print(dataframe_loader.cargar_dataframes)"
   ]
  },
  {
   "cell_type": "code",
   "execution_count": 5,
   "metadata": {},
   "outputs": [],
   "source": [
    "(\n",
    "        df_resultado_detallado_previo,\n",
    "        df_resultado_liquidaciones_previo,\n",
    "        df_empleados,\n",
    "        df_tipos_empleados,\n",
    "        df_clusters_empleado,\n",
    "        df_zonas_empleado,\n",
    "        df_salarios_variables,\n",
    "        df_parrillas,\n",
    "        df_venta_recaudo_real,\n",
    "        df_venta_recaudo_presupuesto,\n",
    "        df_venta_por_zona,\n",
    "        df_recaudo_por_zona,\n",
    "        df_rentabilidad,\n",
    "        df_venta_otras_companias,\n",
    "        df_recaudo_otras_companias,\n",
    "        df_venta_recaudo_kams,\n",
    "        df_rentabilidad_kam,\n",
    "        df_venta_servicios_mtto,\n",
    "        df_objetivos_cualitativos,\n",
    "        df_incentivos_por_empleado,\n",
    "        df_area_calculo_sba,\n",
    "        df_factores_liquidacion,\n",
    "        df_cluster_plan_real_recaudo,\n",
    "        df_zona_plan_real_venta_ch,\n",
    "        df_rentabilidad_zona,\n",
    "        df_resultados_variables_cualitativas,\n",
    "        df_zonas_clusters_empleado,\n",
    "        df_centros_costos,\n",
    "        df_empleados_centros_costos,\n",
    "        df_centros_costos_grupos_productos_divisiones,\n",
    "        df_parrillas_tipos_calculos,\n",
    "        df_area_calculo_sba_centros_costos,\n",
    "        df_renal_ambulatorio,\n",
    "        codigos_ve_vc,\n",
    "        _dataframes_entrada,\n",
    "        fecha_liquidacion,\n",
    "        meses_incentivos,\n",
    "        OUTPUT_FOLDER\n",
    "    ) = dataframe_loader.cargar_dataframes(base_dir, folder_bbraun_source)"
   ]
  },
  {
   "cell_type": "markdown",
   "metadata": {
    "datalore": {
     "hide_input_from_viewers": false,
     "hide_output_from_viewers": false,
     "type": "MD"
    }
   },
   "source": [
    "### Se validan los dataframes de entrada"
   ]
  },
  {
   "cell_type": "code",
   "execution_count": 6,
   "metadata": {
    "datalore": {
     "hide_input_from_viewers": false,
     "hide_output_from_viewers": false,
     "type": "CODE"
    }
   },
   "outputs": [
    {
     "name": "stdout",
     "output_type": "stream",
     "text": [
      "*** Empleados.xlsx ***\n",
      " - Head:\n",
      "  TipoEmpleado CodigoEmpleado Identificacion            CorreoElectronico  \\\n",
      "0           VC        5004523       36952327    sobeyda.acosta@bbraun.com   \n",
      "1           VC        1111128     1144160710    lizeth.ahumada@bbraun.com   \n",
      "2           GU       53069050       53069050   sylvia.altahona@bbraun.com   \n",
      "3           VE        5004589       43876232  catalina.alvarez@bbraun.com   \n",
      "4           VE        5004287     1073600365     diana.alvarez@bbraun.com   \n",
      "\n",
      "                Nombre         Apellidos  SalarioVariable FechaIngreso  \\\n",
      "0  SOBEYDA DEL SOCORRO   ACOSTA PORTILLO        2000000.0   2014-10-01   \n",
      "1           Ana Lizeth     Ahumada Eraso        2200000.0   2023-06-01   \n",
      "2      SYLVIA CRISTINA  ALTAHONA BARRERA        3000000.0   2021-03-01   \n",
      "3       CATALINA MARIA   ALVAREZ CAICEDO        2200000.0   2018-11-01   \n",
      "4        DIANA MARCELA   ALVAREZ SALCEDO        2000000.0   2013-05-17   \n",
      "\n",
      "   FechaRetiro  AreaCalculo  \n",
      "0          NaN            3  \n",
      "1          NaN            4  \n",
      "2          NaN            7  \n",
      "3          NaN            7  \n",
      "4          NaN            4  \n",
      "\n",
      "*** ClustersEmpleado.xlsx ***\n",
      " - Head:\n",
      "  Cluster CodigoEmpleado TipoEmpleado  AreaCalculo\n",
      "0       6        5004523           VC            3\n",
      "1      11        1111128           VC            4\n",
      "2      15        5004589           VE            7\n",
      "3      16        5004589           VE            7\n",
      "4      17        5004589           VE            7\n",
      "\n",
      "*** ZonasEmpleado.xlsx ***\n",
      " - Head:\n",
      "           Zona CodigoEmpleado TipoEmpleado  AreaCalculo\n",
      "0        Centro        5004523           VC            3\n",
      "1  Suroccidente        1111128           VC            4\n",
      "2         Norte        5004589           VE            7\n",
      "3        Centro        5004287           VE            4\n",
      "4        Centro        5002697           VE            5\n",
      "\n",
      "*** ZonasClustersEmpleado.xlsx ***\n",
      " - Head:\n",
      "  TipoEmpleado CodigoEmpleado  AreaCalculo    Zona Cluster\n",
      "0           VE        5004287            4  Centro       0\n",
      "1           VE        5004287            4  Centro      20\n",
      "2           VE        5004287            4  Centro      21\n",
      "3           VE        5004287            4  Centro       1\n",
      "4           VE        5004287            4  Centro       2\n",
      "\n",
      "*** SalariosVariables.xlsx ***\n",
      " - Head:\n",
      "  CodigoEmpleado      Fecha  SalarioVariable  PromedioSalarioVariable\n",
      "0        5004523 2023-01-01        2000000.0                2000000.0\n",
      "1        5004523 2023-02-01        2000000.0                2000000.0\n",
      "2        5004523 2023-03-01        2000000.0                2000000.0\n",
      "3        5004523 2023-04-01        2000000.0                2000000.0\n",
      "4        5004523 2023-05-01        2000000.0                2000000.0\n",
      "\n",
      "*** Parrillas.xlsx ***\n",
      " - Head:\n",
      "  CodigoEmpleado                          Variable   Contexto  Porcentaje  \\\n",
      "0        5004523            VentaFacturadaZonaPais    5004523        0.10   \n",
      "1        5004523   VentaFacturadaPortafolioCluster    5004523        0.30   \n",
      "2        5004523  VentaCobradaPortafolioClusterSub  5004523_1        0.08   \n",
      "3        5004523  VentaCobradaPortafolioClusterSub  5004523_2        0.08   \n",
      "4        5004523  VentaCobradaPortafolioClusterSub  5004523_3        0.08   \n",
      "\n",
      "   Consecutivo                                    Nombre variable  \\\n",
      "0            0                             VentaFacturadaZonaPais   \n",
      "1            0  Venta Facturada portafolio asignado en su cluster   \n",
      "2            1  Venta cobrada total en el portafolio asignado ...   \n",
      "3            2  Venta cobrada total en el portafolio asignado ...   \n",
      "4            3  Venta cobrada total en el portafolio asignado ...   \n",
      "\n",
      "                          Nombre consecutivo  \n",
      "0                                        NaN  \n",
      "1                                        NaN  \n",
      "2            Surgery & Interventions (Neuro)  \n",
      "3            Surgery & Interventions (Ortho)  \n",
      "4  Surgery & Interventions (Surgical Assets)  \n",
      "\n",
      "*** VentaRecaudoReal.xlsx ***\n",
      " - Head:\n",
      "  CodigoEmpleado Division Cluster ZonaGeografica       Canal GrupoProducto  \\\n",
      "0        1111111       AE      16          Norte  Asegurador           005   \n",
      "1        1111111       AE      16          Norte  Asegurador           005   \n",
      "2        1111111       AE      16          Norte  Asegurador           005   \n",
      "3        1111111       AE      16          Norte  Asegurador           005   \n",
      "4        1111111       AE      16          Norte  Asegurador           005   \n",
      "\n",
      "  SBA      Fecha      Venta    Recaudo  \n",
      "0  33 2023-01-01   494325.0   834860.0  \n",
      "1  33 2023-02-01  2603445.0   626145.0  \n",
      "2  33 2023-03-01  3337645.0  2823145.0  \n",
      "3  33 2023-04-01   787895.0  1727195.0  \n",
      "4  33 2023-05-01  1720575.0   604175.0  \n",
      "\n",
      "*** VentaRecaudoPresupuesto.xlsx ***\n",
      " - Head:\n",
      "  CodigoEmpleado Division Cluster ZonaGeografica GrupoProducto         Canal  \\\n",
      "0        1111111       AE      16          Norte           001  Distribuidor   \n",
      "1        1111111       AE      16          Norte           001  Distribuidor   \n",
      "2        1111111       AE      16          Norte           001      Hospital   \n",
      "3        1111111       AE      16          Norte           001      Hospital   \n",
      "4        1111111       AE      16          Norte           001      Hospital   \n",
      "\n",
      "  SBA      Fecha       Venta     Recaudo  \n",
      "0  30 2023-02-01        0.00        0.00  \n",
      "1  30 2023-06-01        0.00        0.00  \n",
      "2  30 2023-01-01  1445832.73  2602498.91  \n",
      "3  30 2023-02-01  2530207.27  3469998.54  \n",
      "4  30 2023-03-01  3253123.63  3122998.69  \n",
      "\n",
      "*** VentaPorZona.xlsx ***\n",
      " - Head:\n",
      "Empty DataFrame\n",
      "Columns: [Zona, Fecha, Real, Presupuesto]\n",
      "Index: []\n",
      "\n",
      "*** RecaudoPorZona.xlsx ***\n",
      " - Head:\n",
      "Empty DataFrame\n",
      "Columns: [Zona, Fecha, Real, Presupuesto]\n",
      "Index: []\n",
      "\n",
      "*** Rentabilidad.xlsx ***\n",
      " - Head:\n",
      "  Compania GrupoProducto SBA ClaseRentabilidad      Fecha          Real  \\\n",
      "0    BBMCO           001  30              CMII 2023-03-01  5.733133e+08   \n",
      "1    BBMCO           001  30              CMII 2023-04-01  1.141104e+09   \n",
      "2    BBMCO           001  30              CMII 2023-05-01  1.374842e+09   \n",
      "3    BBMCO           001  30              CMII 2023-06-01  1.614389e+09   \n",
      "4    BBMCO           001  30             CMIII 2023-03-01  1.208661e+08   \n",
      "\n",
      "    Presupuesto  \n",
      "0  6.637632e+08  \n",
      "1  9.292685e+08  \n",
      "2  1.194774e+09  \n",
      "3  1.460279e+09  \n",
      "4  3.988639e+07  \n",
      "\n",
      "*** VentaOtrasCompanias.xlsx ***\n",
      " - Head:\n",
      "Empty DataFrame\n",
      "Columns: [Compania, Fecha, Real, Presupuesto]\n",
      "Index: []\n",
      "\n",
      "*** RecaudoOtrasCompanias.xlsx ***\n",
      " - Head:\n",
      "  Compania      Fecha          Real   Presupuesto\n",
      "0    BBACO 2023-03-01  0.000000e+00  0.000000e+00\n",
      "1    BBACO 2023-04-01  0.000000e+00  0.000000e+00\n",
      "2    BBMCO 2023-03-01  3.992673e+10  4.648396e+10\n",
      "3    BBMCO 2023-04-01  5.525573e+10  6.067049e+10\n",
      "4    BBMCO 2023-05-01  7.298270e+10  7.454188e+10\n",
      "\n",
      "*** VentaRecaudoKAMS.xlsx ***\n",
      " - Head:\n",
      "  TipoEmpleado  AreaCalculo  Consecutivo      Fecha  VentaReal  \\\n",
      "0          KAM            1            1 2023-04-01        0.0   \n",
      "1          KAM            1            1 2023-05-01        0.0   \n",
      "2          KAM            1            1 2023-06-01        0.0   \n",
      "3          KAM            1            2 2023-04-01        0.0   \n",
      "4          KAM            1            2 2023-05-01        0.0   \n",
      "\n",
      "   VentaPresupuesto  RecaudoReal  RecaudoPresupuesto  \n",
      "0               0.0          0.0                 0.0  \n",
      "1               0.0          0.0                 0.0  \n",
      "2               0.0          0.0                 0.0  \n",
      "3               0.0          0.0                 0.0  \n",
      "4               0.0          0.0                 0.0  \n",
      "\n",
      "*** RentabilidadKAM.xlsx ***\n",
      " - Head:\n",
      "  Division      Fecha          Real   Presupuesto\n",
      "0    BBMCO 2023-03-01  4.685733e+09  3.741742e+09\n",
      "1    BBMCO 2023-04-01  1.001818e+09  1.371244e+09\n",
      "2    BBMCO 2023-05-01  1.709344e+09  1.499185e+09\n",
      "3    BBMCO 2023-06-01  1.755026e+09  1.475316e+09\n",
      "4   GRPCLI 2023-03-01  0.000000e+00  0.000000e+00\n",
      "\n",
      "*** ObjetivosCualitativos.xlsx ***\n",
      " - Head:\n",
      "Empty DataFrame\n",
      "Columns: [Fecha, CodigoEmpleado, PorcentajeCumplimiento]\n",
      "Index: []\n",
      "\n",
      "*** VentaServiciosMtto.xlsx ***\n",
      " - Head:\n",
      "Empty DataFrame\n",
      "Columns: [Fecha, Real, Presupuesto]\n",
      "Index: []\n",
      "\n",
      "*** IncentivosPorEmpleado.xlsx ***\n",
      " - Head:\n",
      "  CodigoEmpleado      Fecha       Valor\n",
      "0     1013583607 2023-01-01   1545000.0\n",
      "1     1013583607 2023-02-01   3555000.0\n",
      "2     1013583607 2023-03-01   7797000.0\n",
      "3     1013583607 2023-04-01   8211000.0\n",
      "4     1013583607 2023-05-01  11517000.0\n",
      "\n",
      "*** AreaCalculoSBA.xlsx ***\n",
      " - Head:\n",
      "  TipoEmpleado  AreaCalculo  Consecutivo Division GrupoProducto    SBA\n",
      "0           AD            1            1    BBMCO           NaN    NaN\n",
      "1           AD            1            1       HC           NaN    NaN\n",
      "2           AD            1            2       AE           NaN    NaN\n",
      "3           AD            1            2    BBSCO         BBSCO  BBSCO\n",
      "4           AD            1            2       OK           NaN    NaN\n",
      "\n",
      "*** FactoresLiquidacion.xlsx ***\n",
      " - Head:\n",
      "  TipoEmpleado  PorcentajeCumplimiento  FactorIncentivo\n",
      "0           AD                    0.89             0.00\n",
      "1           AD                    0.90             0.50\n",
      "2           AD                    0.91             0.53\n",
      "3           AD                    0.92             0.55\n",
      "4           AD                    0.93             0.58\n",
      "\n",
      "*** ClusterPlanRealRecaudo.xlsx ***\n",
      " - Head:\n",
      "  Cluster      Fecha         Real   Presupuesto\n",
      "0       0 2023-01-01  322176439.0  3.466814e+08\n",
      "1       0 2023-02-01  242055516.0  3.645657e+08\n",
      "2       0 2023-03-01  393631023.0  3.590231e+08\n",
      "3       0 2023-04-01  390524759.1  3.221738e+08\n",
      "4       0 2023-05-01  400812766.9  3.171875e+08\n",
      "\n",
      "*** ZonaPlanRealVentaCH.xlsx ***\n",
      " - Head:\n",
      "           Zona      Fecha          Real   Presupuesto\n",
      "0        Centro 2023-01-01  9.662169e+09  9.707739e+09\n",
      "1         Norte 2023-01-01  9.662169e+09  9.707739e+09\n",
      "2         Norte 2023-02-01  2.659550e+10  2.435526e+10\n",
      "3         Norte 2023-03-01  1.751581e+10  1.509334e+10\n",
      "4  Suroccidente 2023-01-01  9.662169e+09  9.707739e+09\n",
      "\n",
      "*** RentabilidadZona.xlsx ***\n",
      " - Head:\n",
      "     Zona      Fecha          Real   Presupuesto\n",
      "0  Centro 2023-03-01  5.655265e+09  5.488745e+09\n",
      "1  Centro 2023-04-01  7.878331e+09  7.443486e+09\n",
      "2  Centro 2023-05-01  1.055209e+10  9.698511e+09\n",
      "3  Centro 2023-06-01  1.316727e+10  1.191287e+10\n",
      "4   Norte 2023-03-01  3.918208e+09  3.708745e+09\n",
      "\n",
      "*** ResultadosVariablesCualitativas.xlsx ***\n",
      " - Head:\n",
      "       Variable CodigoEmpleado TipoEmpleado  AreaCalculo  Consecutivo  \\\n",
      "0  KpisSurgical       51790647           AD            1            1   \n",
      "1  KpisSurgical       51790647           AD            1            2   \n",
      "2  KpisSurgical       51790647           AD            1            3   \n",
      "3  KpisSurgical       52875549           AD            2            1   \n",
      "4  KpisSurgical       52057371           AD            2            1   \n",
      "\n",
      "   PorcentajeCumplimiento      Fecha  \n",
      "0                    0.94 2023-03-01  \n",
      "1                    1.13 2023-03-01  \n",
      "2                    1.09 2023-03-01  \n",
      "3                    0.94 2023-03-01  \n",
      "4                    0.94 2023-03-01  \n",
      "\n"
     ]
    }
   ],
   "source": [
    "for df in _dataframes_entrada:\n",
    "    print(f'*** {df[\"name\"]} ***')\n",
    "    print(' - Head:')\n",
    "    print(df['df'].head())\n",
    "    print('')"
   ]
  },
  {
   "cell_type": "markdown",
   "metadata": {
    "datalore": {
     "hide_input_from_viewers": false,
     "hide_output_from_viewers": false,
     "type": "MD"
    }
   },
   "source": [
    "### Funciones útiles"
   ]
  },
  {
   "cell_type": "code",
   "execution_count": null,
   "metadata": {},
   "outputs": [],
   "source": []
  },
  {
   "cell_type": "markdown",
   "metadata": {
    "datalore": {
     "hide_input_from_viewers": false,
     "hide_output_from_viewers": false,
     "type": "MD"
    }
   },
   "source": [
    "### Completamos el dataframe de SBAs y Áreas de cálculo"
   ]
  },
  {
   "cell_type": "code",
   "execution_count": 7,
   "metadata": {},
   "outputs": [
    {
     "data": {
      "text/html": [
       "<div>\n",
       "<style scoped>\n",
       "    .dataframe tbody tr th:only-of-type {\n",
       "        vertical-align: middle;\n",
       "    }\n",
       "\n",
       "    .dataframe tbody tr th {\n",
       "        vertical-align: top;\n",
       "    }\n",
       "\n",
       "    .dataframe thead th {\n",
       "        text-align: right;\n",
       "    }\n",
       "</style>\n",
       "<table border=\"1\" class=\"dataframe\">\n",
       "  <thead>\n",
       "    <tr style=\"text-align: right;\">\n",
       "      <th></th>\n",
       "      <th>AreaCalculo</th>\n",
       "      <th>Consecutivo</th>\n",
       "      <th>Division</th>\n",
       "      <th>GrupoProducto</th>\n",
       "      <th>SBA</th>\n",
       "      <th>TipoEmpleado</th>\n",
       "    </tr>\n",
       "  </thead>\n",
       "  <tbody>\n",
       "    <tr>\n",
       "      <th>0</th>\n",
       "      <td>1</td>\n",
       "      <td>1</td>\n",
       "      <td>BBMCO</td>\n",
       "      <td></td>\n",
       "      <td></td>\n",
       "      <td>AD</td>\n",
       "    </tr>\n",
       "    <tr>\n",
       "      <th>1</th>\n",
       "      <td>1</td>\n",
       "      <td>1</td>\n",
       "      <td>HC</td>\n",
       "      <td></td>\n",
       "      <td></td>\n",
       "      <td>AD</td>\n",
       "    </tr>\n",
       "    <tr>\n",
       "      <th>2</th>\n",
       "      <td>1</td>\n",
       "      <td>2</td>\n",
       "      <td>AE</td>\n",
       "      <td></td>\n",
       "      <td></td>\n",
       "      <td>AD</td>\n",
       "    </tr>\n",
       "    <tr>\n",
       "      <th>3</th>\n",
       "      <td>1</td>\n",
       "      <td>2</td>\n",
       "      <td>BBSCO</td>\n",
       "      <td>BBSCO</td>\n",
       "      <td>BBSCO</td>\n",
       "      <td>AD</td>\n",
       "    </tr>\n",
       "    <tr>\n",
       "      <th>4</th>\n",
       "      <td>1</td>\n",
       "      <td>2</td>\n",
       "      <td>OK</td>\n",
       "      <td></td>\n",
       "      <td></td>\n",
       "      <td>AD</td>\n",
       "    </tr>\n",
       "  </tbody>\n",
       "</table>\n",
       "</div>"
      ],
      "text/plain": [
       "   AreaCalculo  Consecutivo Division GrupoProducto    SBA TipoEmpleado\n",
       "0            1            1    BBMCO                                AD\n",
       "1            1            1       HC                                AD\n",
       "2            1            2       AE                                AD\n",
       "3            1            2    BBSCO         BBSCO  BBSCO           AD\n",
       "4            1            2       OK                                AD"
      ]
     },
     "execution_count": 7,
     "metadata": {},
     "output_type": "execute_result"
    }
   ],
   "source": [
    "area_calculo_sba_completo = area_calculo_calculate(df_venta_recaudo_real, df_venta_recaudo_presupuesto, df_area_calculo_sba)\n",
    "area_calculo_sba_completo.head()"
   ]
  },
  {
   "cell_type": "code",
   "execution_count": 8,
   "metadata": {},
   "outputs": [],
   "source": [
    "columns_dict_search = {\n",
    "    'TipoEmpleado': 'GD', \n",
    "    'AreaCalculo': 3, \n",
    "    'Consecutivo': 5\n",
    "}"
   ]
  },
  {
   "cell_type": "code",
   "execution_count": 9,
   "metadata": {},
   "outputs": [
    {
     "data": {
      "text/html": [
       "<div>\n",
       "<style scoped>\n",
       "    .dataframe tbody tr th:only-of-type {\n",
       "        vertical-align: middle;\n",
       "    }\n",
       "\n",
       "    .dataframe tbody tr th {\n",
       "        vertical-align: top;\n",
       "    }\n",
       "\n",
       "    .dataframe thead th {\n",
       "        text-align: right;\n",
       "    }\n",
       "</style>\n",
       "<table border=\"1\" class=\"dataframe\">\n",
       "  <thead>\n",
       "    <tr style=\"text-align: right;\">\n",
       "      <th></th>\n",
       "      <th>AreaCalculo</th>\n",
       "      <th>Consecutivo</th>\n",
       "      <th>Division</th>\n",
       "      <th>GrupoProducto</th>\n",
       "      <th>SBA</th>\n",
       "      <th>TipoEmpleado</th>\n",
       "    </tr>\n",
       "  </thead>\n",
       "  <tbody>\n",
       "    <tr>\n",
       "      <th>143</th>\n",
       "      <td>3</td>\n",
       "      <td>5</td>\n",
       "      <td></td>\n",
       "      <td></td>\n",
       "      <td></td>\n",
       "      <td>GD</td>\n",
       "    </tr>\n",
       "  </tbody>\n",
       "</table>\n",
       "</div>"
      ],
      "text/plain": [
       "     AreaCalculo  Consecutivo Division GrupoProducto SBA TipoEmpleado\n",
       "143            3            5                                      GD"
      ]
     },
     "execution_count": 9,
     "metadata": {},
     "output_type": "execute_result"
    }
   ],
   "source": [
    "result = shared.dataframe_search_filter(\n",
    "    main=area_calculo_sba_completo,\n",
    "    columns_dict_search=columns_dict_search\n",
    ")\n",
    "result"
   ]
  },
  {
   "cell_type": "code",
   "execution_count": 10,
   "metadata": {},
   "outputs": [],
   "source": [
    "# area_calculo_sba_completo[\n",
    "#     (area_calculo_sba_completo['TipoEmpleado'] == 'GD') &\n",
    "#     (area_calculo_sba_completo['AreaCalculo'] == 3) &\n",
    "#     (area_calculo_sba_completo['Consecutivo'] == 5)\n",
    "# ]"
   ]
  },
  {
   "cell_type": "markdown",
   "metadata": {
    "datalore": {
     "hide_input_from_viewers": false,
     "hide_output_from_viewers": false,
     "type": "MD"
    }
   },
   "source": [
    "# Se calculan los resultados para la maestra de resultados"
   ]
  },
  {
   "cell_type": "markdown",
   "metadata": {
    "datalore": {
     "hide_input_from_viewers": false,
     "hide_output_from_viewers": false,
     "type": "MD"
    }
   },
   "source": [
    "## 1. Objetivos cualitativos (ObjetivosCualitativos)"
   ]
  },
  {
   "cell_type": "code",
   "execution_count": 11,
   "metadata": {
    "datalore": {
     "hide_input_from_viewers": false,
     "hide_output_from_viewers": false,
     "type": "CODE"
    }
   },
   "outputs": [
    {
     "data": {
      "text/html": [
       "<div>\n",
       "<style scoped>\n",
       "    .dataframe tbody tr th:only-of-type {\n",
       "        vertical-align: middle;\n",
       "    }\n",
       "\n",
       "    .dataframe tbody tr th {\n",
       "        vertical-align: top;\n",
       "    }\n",
       "\n",
       "    .dataframe thead th {\n",
       "        text-align: right;\n",
       "    }\n",
       "</style>\n",
       "<table border=\"1\" class=\"dataframe\">\n",
       "  <thead>\n",
       "    <tr style=\"text-align: right;\">\n",
       "      <th></th>\n",
       "      <th>Contexto</th>\n",
       "      <th>Fecha</th>\n",
       "      <th>PorcentajeCumplimiento</th>\n",
       "      <th>Variable</th>\n",
       "    </tr>\n",
       "  </thead>\n",
       "  <tbody>\n",
       "    <tr>\n",
       "      <th>0</th>\n",
       "      <td>5004523</td>\n",
       "      <td>2023-01-01</td>\n",
       "      <td>0.94</td>\n",
       "      <td>ObjetivosCualitativos</td>\n",
       "    </tr>\n",
       "    <tr>\n",
       "      <th>1</th>\n",
       "      <td>5004523</td>\n",
       "      <td>2023-02-01</td>\n",
       "      <td>0.94</td>\n",
       "      <td>ObjetivosCualitativos</td>\n",
       "    </tr>\n",
       "    <tr>\n",
       "      <th>2</th>\n",
       "      <td>5004523</td>\n",
       "      <td>2023-03-01</td>\n",
       "      <td>0.94</td>\n",
       "      <td>ObjetivosCualitativos</td>\n",
       "    </tr>\n",
       "    <tr>\n",
       "      <th>3</th>\n",
       "      <td>5004523</td>\n",
       "      <td>2023-04-01</td>\n",
       "      <td>0.94</td>\n",
       "      <td>ObjetivosCualitativos</td>\n",
       "    </tr>\n",
       "    <tr>\n",
       "      <th>4</th>\n",
       "      <td>5004523</td>\n",
       "      <td>2023-05-01</td>\n",
       "      <td>0.94</td>\n",
       "      <td>ObjetivosCualitativos</td>\n",
       "    </tr>\n",
       "  </tbody>\n",
       "</table>\n",
       "</div>"
      ],
      "text/plain": [
       "  Contexto      Fecha  PorcentajeCumplimiento               Variable\n",
       "0  5004523 2023-01-01                    0.94  ObjetivosCualitativos\n",
       "1  5004523 2023-02-01                    0.94  ObjetivosCualitativos\n",
       "2  5004523 2023-03-01                    0.94  ObjetivosCualitativos\n",
       "3  5004523 2023-04-01                    0.94  ObjetivosCualitativos\n",
       "4  5004523 2023-05-01                    0.94  ObjetivosCualitativos"
      ]
     },
     "execution_count": 11,
     "metadata": {},
     "output_type": "execute_result"
    }
   ],
   "source": [
    "cumplimiento_objetivos_cualitativos = calculo_cumplimiento_objetivos_cualitativos(\n",
    "    df_objetivos_cualitativos,\n",
    "    df_empleados,\n",
    "    df_venta_recaudo_real\n",
    ")\n",
    "cumplimiento_objetivos_cualitativos.head()"
   ]
  },
  {
   "cell_type": "code",
   "execution_count": 12,
   "metadata": {},
   "outputs": [
    {
     "data": {
      "text/html": [
       "<div>\n",
       "<style scoped>\n",
       "    .dataframe tbody tr th:only-of-type {\n",
       "        vertical-align: middle;\n",
       "    }\n",
       "\n",
       "    .dataframe tbody tr th {\n",
       "        vertical-align: top;\n",
       "    }\n",
       "\n",
       "    .dataframe thead th {\n",
       "        text-align: right;\n",
       "    }\n",
       "</style>\n",
       "<table border=\"1\" class=\"dataframe\">\n",
       "  <thead>\n",
       "    <tr style=\"text-align: right;\">\n",
       "      <th></th>\n",
       "      <th>Contexto</th>\n",
       "      <th>Fecha</th>\n",
       "      <th>PorcentajeCumplimiento</th>\n",
       "      <th>Variable</th>\n",
       "    </tr>\n",
       "  </thead>\n",
       "  <tbody>\n",
       "    <tr>\n",
       "      <th>612</th>\n",
       "      <td>5004293</td>\n",
       "      <td>2023-01-01</td>\n",
       "      <td>0.94</td>\n",
       "      <td>ObjetivosCualitativos</td>\n",
       "    </tr>\n",
       "    <tr>\n",
       "      <th>613</th>\n",
       "      <td>5004293</td>\n",
       "      <td>2023-02-01</td>\n",
       "      <td>0.94</td>\n",
       "      <td>ObjetivosCualitativos</td>\n",
       "    </tr>\n",
       "    <tr>\n",
       "      <th>614</th>\n",
       "      <td>5004293</td>\n",
       "      <td>2023-03-01</td>\n",
       "      <td>0.94</td>\n",
       "      <td>ObjetivosCualitativos</td>\n",
       "    </tr>\n",
       "    <tr>\n",
       "      <th>615</th>\n",
       "      <td>5004293</td>\n",
       "      <td>2023-04-01</td>\n",
       "      <td>0.94</td>\n",
       "      <td>ObjetivosCualitativos</td>\n",
       "    </tr>\n",
       "    <tr>\n",
       "      <th>616</th>\n",
       "      <td>5004293</td>\n",
       "      <td>2023-05-01</td>\n",
       "      <td>0.94</td>\n",
       "      <td>ObjetivosCualitativos</td>\n",
       "    </tr>\n",
       "    <tr>\n",
       "      <th>617</th>\n",
       "      <td>5004293</td>\n",
       "      <td>2023-06-01</td>\n",
       "      <td>0.94</td>\n",
       "      <td>ObjetivosCualitativos</td>\n",
       "    </tr>\n",
       "  </tbody>\n",
       "</table>\n",
       "</div>"
      ],
      "text/plain": [
       "    Contexto      Fecha  PorcentajeCumplimiento               Variable\n",
       "612  5004293 2023-01-01                    0.94  ObjetivosCualitativos\n",
       "613  5004293 2023-02-01                    0.94  ObjetivosCualitativos\n",
       "614  5004293 2023-03-01                    0.94  ObjetivosCualitativos\n",
       "615  5004293 2023-04-01                    0.94  ObjetivosCualitativos\n",
       "616  5004293 2023-05-01                    0.94  ObjetivosCualitativos\n",
       "617  5004293 2023-06-01                    0.94  ObjetivosCualitativos"
      ]
     },
     "execution_count": 12,
     "metadata": {},
     "output_type": "execute_result"
    }
   ],
   "source": [
    "cumplimiento_objetivos_cualitativos[\n",
    "    cumplimiento_objetivos_cualitativos['Contexto'] == '5004293'\n",
    "]"
   ]
  },
  {
   "cell_type": "markdown",
   "metadata": {
    "datalore": {
     "hide_input_from_viewers": false,
     "hide_output_from_viewers": false,
     "type": "MD"
    }
   },
   "source": [
    "## 2. Objetivos de recaudo por zona (VentaCobradaZonaBraunCrossDivisional)\n",
    "### TODO: Ahora el empleado tiene varias zonas"
   ]
  },
  {
   "cell_type": "code",
   "execution_count": 13,
   "metadata": {
    "datalore": {
     "hide_input_from_viewers": false,
     "hide_output_from_viewers": false,
     "type": "CODE"
    }
   },
   "outputs": [
    {
     "data": {
      "text/html": [
       "<div>\n",
       "<style scoped>\n",
       "    .dataframe tbody tr th:only-of-type {\n",
       "        vertical-align: middle;\n",
       "    }\n",
       "\n",
       "    .dataframe tbody tr th {\n",
       "        vertical-align: top;\n",
       "    }\n",
       "\n",
       "    .dataframe thead th {\n",
       "        text-align: right;\n",
       "    }\n",
       "</style>\n",
       "<table border=\"1\" class=\"dataframe\">\n",
       "  <thead>\n",
       "    <tr style=\"text-align: right;\">\n",
       "      <th></th>\n",
       "      <th>Contexto</th>\n",
       "      <th>Variable</th>\n",
       "      <th>Fecha</th>\n",
       "      <th>Real</th>\n",
       "      <th>Presupuesto</th>\n",
       "      <th>PorcentajeCumplimiento</th>\n",
       "    </tr>\n",
       "  </thead>\n",
       "  <tbody>\n",
       "  </tbody>\n",
       "</table>\n",
       "</div>"
      ],
      "text/plain": [
       "Empty DataFrame\n",
       "Columns: [Contexto, Variable, Fecha, Real, Presupuesto, PorcentajeCumplimiento]\n",
       "Index: []"
      ]
     },
     "execution_count": 13,
     "metadata": {},
     "output_type": "execute_result"
    }
   ],
   "source": [
    "cumplimiento_recaudo_por_zona = df_recaudo_por_zona.copy()\n",
    "\n",
    "cumplimiento_recaudo_por_zona['Real'] = cumplimiento_recaudo_por_zona.groupby(['Zona'])['Real'].transform(pd.Series.cumsum)\n",
    "cumplimiento_recaudo_por_zona['Presupuesto'] = cumplimiento_recaudo_por_zona.groupby(['Zona'])['Presupuesto'].transform(pd.Series.cumsum)\n",
    "\n",
    "cumplimiento_recaudo_por_zona['PorcentajeCumplimiento'] = cumplimiento_recaudo_por_zona['Real'] / cumplimiento_recaudo_por_zona['Presupuesto']\n",
    "cumplimiento_recaudo_por_zona['PorcentajeCumplimiento'] = cumplimiento_recaudo_por_zona['PorcentajeCumplimiento'].apply(lambda x: round(x, 2))\n",
    "\n",
    "cumplimiento_recaudo_por_zona['Variable'] = 'VentaCobradaZonaBraunCrossDivisional'\n",
    "cumplimiento_recaudo_por_zona.rename(columns={'Zona': 'Contexto'}, inplace=True)\n",
    "\n",
    "cumplimiento_recaudo_por_zona = cumplimiento_recaudo_por_zona[['Contexto', 'Variable', 'Fecha', 'Real', 'Presupuesto', 'PorcentajeCumplimiento']]\n",
    "\n",
    "cumplimiento_recaudo_por_zona.head()"
   ]
  },
  {
   "cell_type": "code",
   "execution_count": null,
   "metadata": {},
   "outputs": [],
   "source": []
  },
  {
   "cell_type": "code",
   "execution_count": null,
   "metadata": {},
   "outputs": [],
   "source": []
  },
  {
   "cell_type": "markdown",
   "metadata": {
    "datalore": {
     "hide_input_from_viewers": false,
     "hide_output_from_viewers": false,
     "type": "MD"
    }
   },
   "source": [
    "## 3. Objetivos de venta individuales (VentaFacturadaZonaCargoIndividual y VentaFacturadaZonaCargoIndividualSub)"
   ]
  },
  {
   "cell_type": "code",
   "execution_count": 14,
   "metadata": {
    "datalore": {
     "hide_input_from_viewers": false,
     "hide_output_from_viewers": false,
     "type": "CODE"
    }
   },
   "outputs": [],
   "source": [
    "# # venta real con información\n",
    "# venta_recaudo_real_info = df_venta_recaudo_real.merge(\n",
    "#     df_empleados[['CodigoEmpleado', 'TipoEmpleado', 'AreaCalculo', 'FechaIngreso']],\n",
    "#     on='CodigoEmpleado',\n",
    "#     how='left'\n",
    "# ).merge(\n",
    "#     area_calculo_sba_completo,\n",
    "#     on=['Division', 'GrupoProducto', 'SBA', 'TipoEmpleado', 'AreaCalculo'],\n",
    "#     how='left'\n",
    "# )\n",
    "\n",
    "# # venta presupuesto con información\n",
    "# venta_recaudo_presupuesto_info = df_venta_recaudo_presupuesto.merge(\n",
    "#     df_empleados[['CodigoEmpleado', 'TipoEmpleado', 'AreaCalculo', 'FechaIngreso']],\n",
    "#     on='CodigoEmpleado',\n",
    "#     how='left'\n",
    "# ).merge(\n",
    "#     area_calculo_sba_completo,\n",
    "#     on=['Division', 'GrupoProducto', 'SBA', 'TipoEmpleado', 'AreaCalculo'],\n",
    "#     how='left'\n",
    "# )"
   ]
  },
  {
   "cell_type": "code",
   "execution_count": 15,
   "metadata": {},
   "outputs": [],
   "source": [
    "def fusionar_informacion_ventas(df_ventas, df_empleados, area_calculo_sba_completo):\n",
    "    df_ventas_info = df_ventas.merge(\n",
    "        df_empleados[['CodigoEmpleado', 'TipoEmpleado', 'AreaCalculo', 'FechaIngreso']],\n",
    "        on='CodigoEmpleado',\n",
    "        how='left'\n",
    "    ).merge(\n",
    "        area_calculo_sba_completo,\n",
    "        on=['Division', 'GrupoProducto', 'SBA', 'TipoEmpleado', 'AreaCalculo'],\n",
    "        how='left'\n",
    "    )\n",
    "    \n",
    "    return df_ventas_info\n",
    "\n",
    "# Luego, llamar la función para obtener la información de ventas real y presupuesto:\n",
    "venta_recaudo_real_info = fusionar_informacion_ventas(\n",
    "    df_venta_recaudo_real,\n",
    "    df_empleados,\n",
    "    area_calculo_sba_completo\n",
    ")\n",
    "venta_recaudo_presupuesto_info = fusionar_informacion_ventas(\n",
    "    df_venta_recaudo_presupuesto,\n",
    "    df_empleados,\n",
    "    area_calculo_sba_completo\n",
    ")"
   ]
  },
  {
   "cell_type": "code",
   "execution_count": 5,
   "metadata": {},
   "outputs": [],
   "source": [
    "class ExceptionDataframeValidateBase:\n",
    "    \n",
    "    \n",
    "    def __init__(self, dataframe, exceptions, columns_A, operators, columns_B):\n",
    "        self.dataframe = dataframe\n",
    "        self.exceptions = exceptions\n",
    "        self.columns_A = columns_A\n",
    "        self.operators = operators\n",
    "        self.columns_B = columns_B\n",
    "    \n",
    "    def createExceptionList(self, exception):\n",
    "        columns_A_list = []\n",
    "        columns_B_list = []\n",
    "\n",
    "        for (colA, colB) in zip(self.columns_A, self.columns_B):\n",
    "            columns_A_list.append(self.dataframe[colA])\n",
    "            columns_B_list.append(exception[colB])\n",
    "\n",
    "        return columns_A_list, columns_B_list\n",
    "\n",
    "    def createCondition(self, columns_A, columns_B, operators):\n",
    "        if not operators:\n",
    "            operators = self.operators\n",
    "        condition = True\n",
    "        for col_A, operator, col_B in zip(columns_A, operators, columns_B):\n",
    "            if operator == '==':\n",
    "                condition &= (col_A == col_B)\n",
    "            elif operator == '!=':\n",
    "                condition &= (col_A != col_B)\n",
    "            elif operator == '<':\n",
    "                condition &= (col_A < col_B)\n",
    "            elif operator == '>':\n",
    "                condition &= (col_A > col_B)\n",
    "            # Add more conditions as needed\n",
    "\n",
    "        return condition\n",
    "\n",
    "    def applyExceptionValidation(self):\n",
    "        conditions = []\n",
    "        for exception in self.exceptions:\n",
    "            condition = self.createCondition(\n",
    "                *self.createExceptionList(exception)\n",
    "            )\n",
    "            conditions.append(condition)\n",
    "\n",
    "        final_condition = pd.concat(conditions, axis=1).any(axis=1)\n",
    "        return self.dataframe[final_condition]\n",
    "\n",
    "class ExceptionDataframeValidateAD3(ExceptionDataframeValidateBase):\n",
    "    def __init__(self, dataframe, exceptions):\n",
    "        columns_A = ['CodigoEmpleado', 'AreaCalculo', 'Consecutivo', 'Fecha', 'Fecha']\n",
    "        operators = ['!=', '!=', '!=', '<', '>']\n",
    "        columns_B = ['CodigoEmpleado', 'AreaCalculo', 'Consecutivo', 'FechaInicio', 'FechaFin']\n",
    "        super().__init__(dataframe, exceptions, columns_A, operators, columns_B)\n",
    "\n",
    "class ExceptionDataframeValidateAD4(ExceptionDataframeValidateBase):\n",
    "    def __init__(self, dataframe, exceptions):\n",
    "        columns_A = ['CodigoEmpleado', 'AreaCalculo', 'Consecutivo', 'Fecha', 'Fecha']\n",
    "        operators = ['!=', '!=', '!=', '<', '>']\n",
    "        columns_B = ['CodigoEmpleado', 'AreaCalculo', 'Consecutivo', 'FechaInicio', 'FechaFin']\n",
    "        super().__init__(dataframe, exceptions, columns_A, operators, columns_B)\n"
   ]
  },
  {
   "cell_type": "code",
   "execution_count": null,
   "metadata": {
    "datalore": {
     "hide_input_from_viewers": false,
     "hide_output_from_viewers": false,
     "type": "CODE"
    }
   },
   "outputs": [],
   "source": [
    "_excepciones_venta_facturada = [\n",
    "    # {\n",
    "    #     'CodigoEmpleado': '5003527',\n",
    "    #     'AreaCalculo': 7,\n",
    "    #     'Consecutivo': 4,\n",
    "    #     'FechaInicio': '2021-02-01',\n",
    "    #     'FechaFin': '2021-06-01'\n",
    "    # }\n",
    "]\n",
    "\n",
    "# venta real por empleado por area de calculo por fecha acumulada\n",
    "venta_recaudo_real_empleado_sub = venta_recaudo_real_info[\n",
    "    venta_recaudo_real_info['Fecha'] >= venta_recaudo_real_info['FechaIngreso']\n",
    "]\n",
    "\n",
    "for excepcion in _excepciones_venta_facturada:\n",
    "    venta_recaudo_real_empleado_sub = venta_recaudo_real_empleado_sub[\n",
    "        (venta_recaudo_real_empleado_sub['CodigoEmpleado'] != excepcion['CodigoEmpleado']) |\n",
    "        (venta_recaudo_real_empleado_sub['AreaCalculo'] != excepcion['AreaCalculo']) |\n",
    "        (venta_recaudo_real_empleado_sub['Consecutivo'] != excepcion['Consecutivo']) |\n",
    "        (venta_recaudo_real_empleado_sub['Fecha'] < excepcion['FechaInicio']) |\n",
    "        (venta_recaudo_real_empleado_sub['Fecha'] > excepcion['FechaFin'])\n",
    "    ]\n",
    "\n",
    "venta_recaudo_real_empleado_sub_1 = venta_recaudo_real_empleado_sub.copy()[\n",
    "    (venta_recaudo_real_empleado_sub['CodigoEmpleado'] == '5004563') &\n",
    "    (venta_recaudo_real_empleado_sub['SBA'] == '84')\n",
    "]\n",
    "venta_recaudo_real_empleado_sub_1['CodigoEmpleado'] = '5005371'\n",
    "venta_recaudo_real_empleado_sub_1['AreaCalculo'] = 14\n",
    "venta_recaudo_real_empleado_sub_1['Consecutivo'] = 2\n",
    "\n",
    "venta_recaudo_real_empleado_sub_2 = venta_recaudo_real_empleado_sub.copy()[\n",
    "    (venta_recaudo_real_empleado_sub['CodigoEmpleado'] == '5004563') &\n",
    "    (venta_recaudo_real_empleado_sub['SBA'] == '84')\n",
    "]\n",
    "venta_recaudo_real_empleado_sub_2['CodigoEmpleado'] = '5039251'\n",
    "venta_recaudo_real_empleado_sub_2['AreaCalculo'] = 15\n",
    "venta_recaudo_real_empleado_sub_2['Consecutivo'] = 2\n",
    "\n",
    "venta_recaudo_real_empleado_sub_3 = venta_recaudo_real_empleado_sub.copy()[\n",
    "    (venta_recaudo_real_empleado_sub['CodigoEmpleado'] == '5018231') & \n",
    "    (venta_recaudo_real_empleado_sub['Fecha'] >= '2021-08-01')\n",
    "]\n",
    "venta_recaudo_real_empleado_sub_3['CodigoEmpleado'] = '1128448666'\n",
    "venta_recaudo_real_empleado_sub_3['AreaCalculo'] = 9\n",
    "\n",
    "\n",
    "venta_recaudo_real_empleado_sub = pd.concat([\n",
    "    venta_recaudo_real_empleado_sub,\n",
    "    venta_recaudo_real_empleado_sub_1,\n",
    "    venta_recaudo_real_empleado_sub_2,\n",
    "    venta_recaudo_real_empleado_sub_3\n",
    "])\n",
    "venta_recaudo_real_empleado_sub = venta_recaudo_real_empleado_sub.groupby(['CodigoEmpleado', 'AreaCalculo',\n",
    "                                                                           'Consecutivo', 'Fecha'], as_index=False).agg({'Venta': 'sum'})\n",
    "venta_recaudo_real_empleado_sub['Real'] = venta_recaudo_real_empleado_sub['Venta']\n",
    "venta_recaudo_real_empleado_sub.drop(columns=['Venta'], inplace=True)\n",
    "venta_recaudo_real_empleado = venta_recaudo_real_empleado_sub.groupby(['CodigoEmpleado', 'AreaCalculo', 'Fecha'], as_index=False).agg({'Real': 'sum'})\n",
    "\n",
    "# venta presupuesto por empleado por area de calculo por fecha acumulada\n",
    "venta_recaudo_presupuesto_empleado_sub = venta_recaudo_presupuesto_info[venta_recaudo_presupuesto_info['Fecha'] >= venta_recaudo_presupuesto_info['FechaIngreso']]\n",
    "\n",
    "for excepcion in _excepciones_venta_facturada:\n",
    "    venta_recaudo_presupuesto_empleado_sub = venta_recaudo_presupuesto_empleado_sub[\n",
    "        (venta_recaudo_presupuesto_empleado_sub['CodigoEmpleado'] != excepcion['CodigoEmpleado']) |\n",
    "        (venta_recaudo_presupuesto_empleado_sub['AreaCalculo'] != excepcion['AreaCalculo']) |\n",
    "        (venta_recaudo_presupuesto_empleado_sub['Consecutivo'] != excepcion['Consecutivo']) |\n",
    "        (venta_recaudo_presupuesto_empleado_sub['Fecha'] < excepcion['FechaInicio']) |\n",
    "        (venta_recaudo_presupuesto_empleado_sub['Fecha'] > excepcion['FechaFin'])\n",
    "    ]\n",
    "\n",
    "venta_recaudo_presupuesto_empleado_sub_1 = venta_recaudo_presupuesto_empleado_sub.copy()[\n",
    "    (venta_recaudo_presupuesto_empleado_sub['CodigoEmpleado'] == '5004563') &\n",
    "    (venta_recaudo_presupuesto_empleado_sub['SBA'] == '84')\n",
    "]\n",
    "venta_recaudo_presupuesto_empleado_sub_1['CodigoEmpleado'] = '5005371'\n",
    "venta_recaudo_presupuesto_empleado_sub_1['AreaCalculo'] = 14\n",
    "venta_recaudo_presupuesto_empleado_sub_1['Consecutivo'] = 2\n",
    "\n",
    "venta_recaudo_presupuesto_empleado_sub_2 = venta_recaudo_presupuesto_empleado_sub.copy()[\n",
    "    (venta_recaudo_presupuesto_empleado_sub['CodigoEmpleado'] == '5004563') &\n",
    "    (venta_recaudo_presupuesto_empleado_sub['SBA'] == '84')\n",
    "]\n",
    "venta_recaudo_presupuesto_empleado_sub_2['CodigoEmpleado'] = '5039251'\n",
    "venta_recaudo_presupuesto_empleado_sub_2['AreaCalculo'] = 15\n",
    "venta_recaudo_presupuesto_empleado_sub_2['Consecutivo'] = 2\n",
    "\n",
    "venta_recaudo_presupuesto_empleado_sub_3 = venta_recaudo_presupuesto_empleado_sub.copy()[\n",
    "    (venta_recaudo_presupuesto_empleado_sub['CodigoEmpleado'] == '5018231') & \n",
    "    (venta_recaudo_presupuesto_empleado_sub['Fecha'] >= '2021-08-01')\n",
    "]\n",
    "venta_recaudo_presupuesto_empleado_sub_3['CodigoEmpleado'] = '1128448666'\n",
    "venta_recaudo_presupuesto_empleado_sub_3['AreaCalculo'] = 9\n",
    "\n",
    "venta_recaudo_presupuesto_empleado_sub = pd.concat([\n",
    "    venta_recaudo_presupuesto_empleado_sub,\n",
    "    venta_recaudo_presupuesto_empleado_sub_1,\n",
    "    venta_recaudo_presupuesto_empleado_sub_2,\n",
    "    venta_recaudo_presupuesto_empleado_sub_3\n",
    "])\n",
    "venta_recaudo_presupuesto_empleado_sub = venta_recaudo_presupuesto_empleado_sub.groupby(['CodigoEmpleado', 'AreaCalculo', 'Consecutivo', 'Fecha'], as_index=False).agg({'Venta': 'sum'})\n",
    "venta_recaudo_presupuesto_empleado_sub['Presupuesto'] = venta_recaudo_presupuesto_empleado_sub['Venta']\n",
    "venta_recaudo_presupuesto_empleado_sub.drop(columns=['Venta'], inplace=True)\n",
    "venta_recaudo_presupuesto_empleado = venta_recaudo_presupuesto_empleado_sub.groupby(['CodigoEmpleado', 'AreaCalculo', 'Fecha'], as_index=False).agg({'Presupuesto': 'sum'})\n",
    "\n",
    "\n",
    "## VentaFacturadaZonaCargoIndividual\n",
    "cumplimiento_venta_individual = pd.merge(\n",
    "    left=venta_recaudo_presupuesto_empleado,\n",
    "    right=venta_recaudo_real_empleado,\n",
    "    on=['CodigoEmpleado', 'AreaCalculo', 'Fecha'],\n",
    "    how='outer'\n",
    ")\n",
    "cumplimiento_venta_individual['Presupuesto'].fillna(0.0, inplace=True)\n",
    "cumplimiento_venta_individual['Real'].fillna(0.0, inplace=True)\n",
    "cumplimiento_venta_individual['Presupuesto'] = cumplimiento_venta_individual.groupby(['CodigoEmpleado', 'AreaCalculo'])['Presupuesto'].transform(pd.Series.cumsum)\n",
    "cumplimiento_venta_individual['Real'] = cumplimiento_venta_individual.groupby(['CodigoEmpleado', 'AreaCalculo'])['Real'].transform(pd.Series.cumsum)\n",
    "cumplimiento_venta_individual['PorcentajeCumplimiento'] = cumplimiento_venta_individual['Real'] / cumplimiento_venta_individual['Presupuesto']\n",
    "cumplimiento_venta_individual['PorcentajeCumplimiento'] = cumplimiento_venta_individual['PorcentajeCumplimiento'].apply(lambda x: round(x, 2))\n",
    "cumplimiento_venta_individual.rename(columns={'CodigoEmpleado': 'Contexto'}, inplace=True)\n",
    "cumplimiento_venta_individual['Variable'] = 'VentaFacturadaZonaCargoIndividual'\n",
    "cumplimiento_venta_individual = cumplimiento_venta_individual[['Contexto', 'Variable', 'Fecha', 'Real', 'Presupuesto', 'PorcentajeCumplimiento']]\n",
    "\n",
    "cumplimiento_venta_individual.head()\n",
    "\n",
    "## VentaFacturadaZonaCargoIndividualSub\n",
    "cumplimiento_venta_individual_sub = pd.merge(\n",
    "    left=venta_recaudo_presupuesto_empleado_sub,\n",
    "    right=venta_recaudo_real_empleado_sub,\n",
    "    on=['CodigoEmpleado', 'AreaCalculo', 'Consecutivo', 'Fecha'],\n",
    "    how='outer'\n",
    ")\n",
    "cumplimiento_venta_individual_sub['Real'].fillna(0.0, inplace=True)\n",
    "cumplimiento_venta_individual_sub['Presupuesto'].fillna(0.0, inplace=True)\n",
    "\n",
    "cumplimiento_venta_individual_sub['Presupuesto'] = cumplimiento_venta_individual_sub.groupby(['CodigoEmpleado', 'AreaCalculo', 'Consecutivo'])['Presupuesto'].transform(pd.Series.cumsum)\n",
    "cumplimiento_venta_individual_sub['Real'] = cumplimiento_venta_individual_sub.groupby(['CodigoEmpleado', 'AreaCalculo', 'Consecutivo'])['Real'].transform(pd.Series.cumsum)\n",
    "cumplimiento_venta_individual_sub['PorcentajeCumplimiento'] = cumplimiento_venta_individual_sub['Real'] / cumplimiento_venta_individual_sub['Presupuesto']\n",
    "cumplimiento_venta_individual_sub['PorcentajeCumplimiento'] = cumplimiento_venta_individual_sub['PorcentajeCumplimiento'].apply(lambda x: round(x, 2))\n",
    "cumplimiento_venta_individual_sub['PorcentajeCumplimiento'].fillna(0.0, inplace=True)\n",
    "cumplimiento_venta_individual_sub['Consecutivo'] = cumplimiento_venta_individual_sub['Consecutivo'].astype(int).astype('str')\n",
    "cumplimiento_venta_individual_sub['Contexto'] = cumplimiento_venta_individual_sub['CodigoEmpleado'].str.cat(cumplimiento_venta_individual_sub['Consecutivo'],sep=\"_\")\n",
    "cumplimiento_venta_individual_sub['Variable'] = 'VentaFacturadaZonaCargoIndividualSub'\n",
    "\n",
    "cumplimiento_venta_individual_sub = cumplimiento_venta_individual_sub[['Contexto', 'Variable', 'Fecha', 'Real', 'Presupuesto', 'PorcentajeCumplimiento']]\n",
    "\n",
    "cumplimiento_venta_individual_sub.head()"
   ]
  },
  {
   "cell_type": "markdown",
   "metadata": {
    "datalore": {
     "hide_input_from_viewers": false,
     "hide_output_from_viewers": false,
     "type": "MD"
    }
   },
   "source": [
    "## 4. Objetivos de recaudo individuales (VentasCobradaZonaCargoIndividual y VentasCobradaZonaCargoIndividualSub)"
   ]
  },
  {
   "cell_type": "code",
   "execution_count": null,
   "metadata": {
    "datalore": {
     "hide_input_from_viewers": false,
     "hide_output_from_viewers": false,
     "type": "CODE"
    }
   },
   "outputs": [],
   "source": [
    "_excepciones_venta_recaudo = [\n",
    "    # {\n",
    "    #     'CodigoEmpleado': '5003527',\n",
    "    #     'AreaCalculo': 7,\n",
    "    #     'Consecutivo': 4,\n",
    "    #     'FechaInicio': '2021-02-01',\n",
    "    #     'FechaFin': '2021-06-01'\n",
    "    # }\n",
    "]\n",
    "\n",
    "# recaudo real por empleado por area de calculo y consecutivo por fecha acumulada\n",
    "venta_recaudo_real_empleado_sub = venta_recaudo_real_info[venta_recaudo_real_info['Fecha'] >= venta_recaudo_real_info['FechaIngreso']]\n",
    "\n",
    "for excepcion in _excepciones_venta_recaudo:\n",
    "    venta_recaudo_real_empleado_sub = venta_recaudo_real_empleado_sub[\n",
    "        (venta_recaudo_real_empleado_sub['CodigoEmpleado'] != excepcion['CodigoEmpleado']) |\n",
    "        (venta_recaudo_real_empleado_sub['AreaCalculo'] != excepcion['AreaCalculo']) |\n",
    "        (venta_recaudo_real_empleado_sub['Consecutivo'] != excepcion['Consecutivo']) |\n",
    "        (venta_recaudo_real_empleado_sub['Fecha'] < excepcion['FechaInicio']) |\n",
    "        (venta_recaudo_real_empleado_sub['Fecha'] > excepcion['FechaFin'])\n",
    "    ]\n",
    "\n",
    "venta_recaudo_real_empleado_sub_1 = venta_recaudo_real_empleado_sub.copy()[\n",
    "    (venta_recaudo_real_empleado_sub['CodigoEmpleado'] == '5004563') &\n",
    "    (venta_recaudo_real_empleado_sub['SBA'] == '84')\n",
    "]\n",
    "venta_recaudo_real_empleado_sub_1['CodigoEmpleado'] = '5005371'\n",
    "venta_recaudo_real_empleado_sub_1['AreaCalculo'] = 14\n",
    "venta_recaudo_real_empleado_sub_1['Consecutivo'] = 2\n",
    "\n",
    "venta_recaudo_real_empleado_sub_2 = venta_recaudo_real_empleado_sub.copy()[\n",
    "    (venta_recaudo_real_empleado_sub['CodigoEmpleado'] == '5004563') &\n",
    "    (venta_recaudo_real_empleado_sub['SBA'] == '84')\n",
    "]\n",
    "venta_recaudo_real_empleado_sub_2['CodigoEmpleado'] = '5039251'\n",
    "venta_recaudo_real_empleado_sub_2['AreaCalculo'] = 15\n",
    "venta_recaudo_real_empleado_sub_2['Consecutivo'] = 2\n",
    "\n",
    "venta_recaudo_real_empleado_sub_3 = venta_recaudo_real_empleado_sub.copy()[\n",
    "    (venta_recaudo_real_empleado_sub['CodigoEmpleado'] == '5018231') & \n",
    "    (venta_recaudo_real_empleado_sub['Fecha'] >= '2021-08-01')\n",
    "]\n",
    "venta_recaudo_real_empleado_sub_3['CodigoEmpleado'] = '1128448666'\n",
    "venta_recaudo_real_empleado_sub_3['AreaCalculo'] = 9\n",
    "\n",
    "venta_recaudo_real_empleado_sub = pd.concat([\n",
    "    venta_recaudo_real_empleado_sub,\n",
    "    venta_recaudo_real_empleado_sub_1,\n",
    "    venta_recaudo_real_empleado_sub_2,\n",
    "    venta_recaudo_real_empleado_sub_3\n",
    "])\n",
    "\n",
    "venta_recaudo_real_empleado_sub = venta_recaudo_real_empleado_sub.groupby(['CodigoEmpleado', 'AreaCalculo', 'Consecutivo', 'Fecha'], as_index=False).agg({'Recaudo': 'sum'})\n",
    "venta_recaudo_real_empleado_sub['Real'] = venta_recaudo_real_empleado_sub['Recaudo']\n",
    "venta_recaudo_real_empleado_sub.drop(columns=['Recaudo'], inplace=True)\n",
    "venta_recaudo_real_empleado = venta_recaudo_real_empleado_sub.groupby(['CodigoEmpleado', 'AreaCalculo', 'Fecha'], as_index=False).agg({'Real': 'sum'})\n",
    "\n",
    "# recaudo presupuesto por empleado por area de calculo y consecutivo por fecha acumulada\n",
    "venta_recaudo_presupuesto_empleado_sub = venta_recaudo_presupuesto_info[venta_recaudo_presupuesto_info['Fecha'] >= venta_recaudo_presupuesto_info['FechaIngreso']]\n",
    "\n",
    "for excepcion in _excepciones_venta_recaudo:\n",
    "    venta_recaudo_presupuesto_empleado_sub = venta_recaudo_presupuesto_empleado_sub[\n",
    "        (venta_recaudo_presupuesto_empleado_sub['CodigoEmpleado'] != excepcion['CodigoEmpleado']) |\n",
    "        (venta_recaudo_presupuesto_empleado_sub['AreaCalculo'] != excepcion['AreaCalculo']) |\n",
    "        (venta_recaudo_presupuesto_empleado_sub['Consecutivo'] != excepcion['Consecutivo']) |\n",
    "        (venta_recaudo_presupuesto_empleado_sub['Fecha'] < excepcion['FechaInicio']) |\n",
    "        (venta_recaudo_presupuesto_empleado_sub['Fecha'] > excepcion['FechaFin'])\n",
    "    ]\n",
    "\n",
    "venta_recaudo_presupuesto_empleado_sub_1 = venta_recaudo_presupuesto_empleado_sub.copy()[\n",
    "    (venta_recaudo_presupuesto_empleado_sub['CodigoEmpleado'] == '5004563') &\n",
    "    (venta_recaudo_presupuesto_empleado_sub['SBA'] == '84')\n",
    "]\n",
    "venta_recaudo_presupuesto_empleado_sub_1['CodigoEmpleado'] = '5005371'\n",
    "venta_recaudo_presupuesto_empleado_sub_1['AreaCalculo'] = 14\n",
    "venta_recaudo_presupuesto_empleado_sub_1['Consecutivo'] = 2\n",
    "\n",
    "venta_recaudo_presupuesto_empleado_sub_2 = venta_recaudo_presupuesto_empleado_sub.copy()[\n",
    "    (venta_recaudo_presupuesto_empleado_sub['CodigoEmpleado'] == '5004563') &\n",
    "    (venta_recaudo_presupuesto_empleado_sub['SBA'] == '84')\n",
    "]\n",
    "venta_recaudo_presupuesto_empleado_sub_2['CodigoEmpleado'] = '5039251'\n",
    "venta_recaudo_presupuesto_empleado_sub_2['AreaCalculo'] = 15\n",
    "venta_recaudo_presupuesto_empleado_sub_2['Consecutivo'] = 2\n",
    "\n",
    "venta_recaudo_presupuesto_empleado_sub_3 = venta_recaudo_presupuesto_empleado_sub.copy()[\n",
    "    (venta_recaudo_presupuesto_empleado_sub['CodigoEmpleado'] == '5018231') & \n",
    "    (venta_recaudo_presupuesto_empleado_sub['Fecha'] >= '2021-08-01')\n",
    "]\n",
    "venta_recaudo_presupuesto_empleado_sub_3['CodigoEmpleado'] = '1128448666'\n",
    "venta_recaudo_presupuesto_empleado_sub_3['AreaCalculo'] = 9\n",
    "\n",
    "venta_recaudo_presupuesto_empleado_sub = pd.concat([\n",
    "    venta_recaudo_presupuesto_empleado_sub,\n",
    "    venta_recaudo_presupuesto_empleado_sub_1,\n",
    "    venta_recaudo_presupuesto_empleado_sub_2,\n",
    "    venta_recaudo_presupuesto_empleado_sub_3\n",
    "])\n",
    "\n",
    "venta_recaudo_presupuesto_empleado_sub = venta_recaudo_presupuesto_empleado_sub.groupby(['CodigoEmpleado', 'AreaCalculo', 'Consecutivo', 'Fecha'], as_index=False).agg({'Recaudo': 'sum'})\n",
    "venta_recaudo_presupuesto_empleado_sub['Presupuesto'] = venta_recaudo_presupuesto_empleado_sub['Recaudo']\n",
    "venta_recaudo_presupuesto_empleado_sub.drop(columns=['Recaudo'], inplace=True)\n",
    "venta_recaudo_presupuesto_empleado = venta_recaudo_presupuesto_empleado_sub.groupby(['CodigoEmpleado', 'AreaCalculo', 'Fecha'], as_index=False).agg({'Presupuesto': 'sum'})\n",
    "\n",
    "## VentasCobradaZonaCargoIndividual\n",
    "cumplimiento_recaudo_individual = pd.merge(\n",
    "    left=venta_recaudo_presupuesto_empleado,\n",
    "    right=venta_recaudo_real_empleado,\n",
    "    on=['CodigoEmpleado', 'AreaCalculo', 'Fecha'],\n",
    "    how='outer'\n",
    ")\n",
    "cumplimiento_recaudo_individual['Real'].fillna(0.0, inplace=True)\n",
    "cumplimiento_recaudo_individual['Presupuesto'] = cumplimiento_recaudo_individual.groupby(['CodigoEmpleado', 'AreaCalculo'])['Presupuesto'].transform(pd.Series.cumsum)\n",
    "cumplimiento_recaudo_individual['Real'] = cumplimiento_recaudo_individual.groupby(['CodigoEmpleado', 'AreaCalculo'])['Real'].transform(pd.Series.cumsum)\n",
    "cumplimiento_recaudo_individual['PorcentajeCumplimiento'] = cumplimiento_recaudo_individual['Real'] / cumplimiento_recaudo_individual['Presupuesto']\n",
    "cumplimiento_recaudo_individual['PorcentajeCumplimiento'] = cumplimiento_recaudo_individual['PorcentajeCumplimiento'].apply(lambda x: round(x, 2))\n",
    "cumplimiento_recaudo_individual.rename(columns={'CodigoEmpleado': 'Contexto'}, inplace=True)\n",
    "cumplimiento_recaudo_individual['Variable'] = 'VentasCobradaZonaCargoIndividual'\n",
    "cumplimiento_recaudo_individual = cumplimiento_recaudo_individual[['Contexto', 'Variable', 'Fecha', 'Real', 'Presupuesto', 'PorcentajeCumplimiento']]\n",
    "\n",
    "cumplimiento_recaudo_individual.head()\n",
    "\n",
    "\n",
    "## VentasCobradaZonaCargoIndividualSub\n",
    "cumplimiento_recaudo_individual_sub = pd.merge(\n",
    "    left=venta_recaudo_presupuesto_empleado_sub,\n",
    "    right=venta_recaudo_real_empleado_sub,\n",
    "    on=['CodigoEmpleado', 'AreaCalculo', 'Consecutivo', 'Fecha'],\n",
    "    how='outer'\n",
    ")\n",
    "cumplimiento_recaudo_individual_sub['Real'].fillna(0.0, inplace=True)\n",
    "cumplimiento_recaudo_individual_sub['Presupuesto'].fillna(0.0, inplace=True)\n",
    "\n",
    "_excepciones_recaudo_sub = []\n",
    "\n",
    "for excepcion in _excepciones_recaudo_sub:\n",
    "    cumplimiento_recaudo_individual_sub['Presupuesto'] = np.where(\n",
    "        (\n",
    "            (cumplimiento_recaudo_individual_sub['CodigoEmpleado'].isin(excepcion['Codigos'])) &\n",
    "            (cumplimiento_recaudo_individual_sub['Consecutivo'] == excepcion['Consecutivo']) &\n",
    "            # (cumplimiento_recaudo_individual_sub['Variable'] == 'VentasCobradaZonaCargoIndividualSub') &\n",
    "            (cumplimiento_recaudo_individual_sub['Fecha'] >= excepcion['FechaInicial']) &\n",
    "            (cumplimiento_recaudo_individual_sub['Fecha'] <= excepcion['FechaFinal'])\n",
    "        ),\n",
    "        excepcion['ValorPresupuesto'],\n",
    "        cumplimiento_recaudo_individual_sub['Presupuesto']\n",
    "    )\n",
    "    cumplimiento_recaudo_individual_sub['Real'] = np.where(\n",
    "        (\n",
    "            (cumplimiento_recaudo_individual_sub['CodigoEmpleado'].isin(excepcion['Codigos'])) &\n",
    "            (cumplimiento_recaudo_individual_sub['Consecutivo'] == excepcion['Consecutivo']) &\n",
    "            # (cumplimiento_recaudo_individual_sub['Variable'] == 'VentasCobradaZonaCargoIndividualSub') &\n",
    "            (cumplimiento_recaudo_individual_sub['Fecha'] >= excepcion['FechaInicial']) &\n",
    "            (cumplimiento_recaudo_individual_sub['Fecha'] <= excepcion['FechaFinal'])\n",
    "        ),\n",
    "        excepcion['ValorReal'],\n",
    "        cumplimiento_recaudo_individual_sub['Real']\n",
    "    )\n",
    "\n",
    "\n",
    "cumplimiento_recaudo_individual_sub['Presupuesto'] = cumplimiento_recaudo_individual_sub.groupby(['CodigoEmpleado', 'AreaCalculo', 'Consecutivo'])['Presupuesto'].transform(pd.Series.cumsum)\n",
    "cumplimiento_recaudo_individual_sub['Real'] = cumplimiento_recaudo_individual_sub.groupby(['CodigoEmpleado', 'AreaCalculo', 'Consecutivo'])['Real'].transform(pd.Series.cumsum)\n",
    "cumplimiento_recaudo_individual_sub['PorcentajeCumplimiento'] = cumplimiento_recaudo_individual_sub['Real'] / cumplimiento_recaudo_individual_sub['Presupuesto']\n",
    "cumplimiento_recaudo_individual_sub['PorcentajeCumplimiento'] = cumplimiento_recaudo_individual_sub['PorcentajeCumplimiento'].apply(lambda x: round(x, 2))\n",
    "cumplimiento_recaudo_individual_sub['PorcentajeCumplimiento'].fillna(0.0, inplace=True)\n",
    "cumplimiento_recaudo_individual_sub['Consecutivo'] = cumplimiento_recaudo_individual_sub['Consecutivo'].astype(int).astype('str')\n",
    "cumplimiento_recaudo_individual_sub['Contexto'] = cumplimiento_recaudo_individual_sub['CodigoEmpleado'].str.cat(cumplimiento_recaudo_individual_sub['Consecutivo'],sep=\"_\")\n",
    "cumplimiento_recaudo_individual_sub['Variable'] = 'VentasCobradaZonaCargoIndividualSub'\n",
    "cumplimiento_recaudo_individual_sub = cumplimiento_recaudo_individual_sub[['Contexto', 'Variable', 'Fecha', 'Real', 'Presupuesto', 'PorcentajeCumplimiento']]\n",
    "\n",
    "cumplimiento_recaudo_individual_sub.head()"
   ]
  },
  {
   "cell_type": "markdown",
   "metadata": {
    "datalore": {
     "hide_input_from_viewers": false,
     "hide_output_from_viewers": false,
     "type": "MD"
    }
   },
   "source": [
    "## 5. Objetivos de venta por área de cálculo (VentaFacturadaPorAreaCalculo y VentaFacturadaPorAreaCalculoSub)"
   ]
  },
  {
   "cell_type": "code",
   "execution_count": null,
   "metadata": {
    "datalore": {
     "hide_input_from_viewers": false,
     "hide_output_from_viewers": false,
     "type": "CODE"
    }
   },
   "outputs": [],
   "source": [
    "area_calculo_sba_completo_ve7 = area_calculo_sba_completo[\n",
    "    (area_calculo_sba_completo['TipoEmpleado'] == 'VE')&\n",
    "    (area_calculo_sba_completo['AreaCalculo'] == 7)\n",
    "][['TipoEmpleado', 'AreaCalculo', 'Consecutivo', 'GrupoProducto', 'SBA']]"
   ]
  },
  {
   "cell_type": "code",
   "execution_count": null,
   "metadata": {
    "datalore": {
     "hide_input_from_viewers": false,
     "hide_output_from_viewers": false,
     "type": "CODE"
    }
   },
   "outputs": [],
   "source": [
    "resultados_venta_area_calculo_real = pd.merge(\n",
    "    left=venta_recaudo_real_info[[\n",
    "        'GrupoProducto', \n",
    "        'SBA', \n",
    "        'Fecha',\n",
    "        'Venta'\n",
    "    ]],\n",
    "    right=area_calculo_sba_completo_ve7,\n",
    "    on=['GrupoProducto', 'SBA']\n",
    ")\n",
    "resultados_venta_area_calculo_real_sub = resultados_venta_area_calculo_real.groupby(\n",
    "    ['TipoEmpleado', 'AreaCalculo', 'Consecutivo', 'Fecha'],\n",
    "    as_index=False\n",
    ").agg({'Venta': 'sum'})\n",
    "resultados_venta_area_calculo_real = resultados_venta_area_calculo_real.groupby(\n",
    "    ['TipoEmpleado', 'AreaCalculo', 'Fecha'],\n",
    "    as_index=False\n",
    ").agg({'Venta': 'sum'})\n",
    "\n",
    "\n",
    "resultados_venta_area_calculo_presupuesto = pd.merge(\n",
    "    left=venta_recaudo_presupuesto_info[[\n",
    "        'GrupoProducto', \n",
    "        'SBA', \n",
    "        'Fecha',\n",
    "        'Venta'\n",
    "    ]],\n",
    "    right=area_calculo_sba_completo_ve7,\n",
    "    on=['GrupoProducto', 'SBA']\n",
    ")\n",
    "resultados_venta_area_calculo_presupuesto_sub = resultados_venta_area_calculo_presupuesto.groupby(\n",
    "    ['TipoEmpleado', 'AreaCalculo', 'Consecutivo', 'Fecha'],\n",
    "    as_index=False\n",
    ").agg({'Venta': 'sum'})\n",
    "resultados_venta_area_calculo_presupuesto = resultados_venta_area_calculo_presupuesto.groupby(\n",
    "    ['TipoEmpleado', 'AreaCalculo', 'Fecha'],\n",
    "    as_index=False\n",
    ").agg({'Venta': 'sum'})\n",
    "\n",
    "## VentaFacturadaPorAreaCalculo\n",
    "cumplimiento_venta_por_area_calculo = pd.merge(\n",
    "    left=resultados_venta_area_calculo_presupuesto.rename(columns={'Venta': 'Presupuesto'}),\n",
    "    right=resultados_venta_area_calculo_real.rename(columns={'Venta': 'Real'}),\n",
    "    on=['TipoEmpleado', 'AreaCalculo', 'Fecha'],\n",
    "    how='left'\n",
    ")\n",
    "cumplimiento_venta_por_area_calculo['Real'].fillna(0.0, inplace=True)\n",
    "\n",
    "cumplimiento_venta_por_area_calculo['Variable'] = 'VentaFacturadaPorAreaCalculo'\n",
    "cumplimiento_venta_por_area_calculo['Contexto'] = cumplimiento_venta_por_area_calculo['TipoEmpleado'].str.cat(cumplimiento_venta_por_area_calculo['AreaCalculo'].astype('str'),sep=\"_\")\n",
    "cumplimiento_venta_por_area_calculo['Real'] = cumplimiento_venta_por_area_calculo.groupby(['Contexto'])['Real'].transform(pd.Series.cumsum)\n",
    "cumplimiento_venta_por_area_calculo['Presupuesto'] = cumplimiento_venta_por_area_calculo.groupby(['Contexto'])['Presupuesto'].transform(pd.Series.cumsum)\n",
    "cumplimiento_venta_por_area_calculo['PorcentajeCumplimiento'] = cumplimiento_venta_por_area_calculo['Real'] / cumplimiento_venta_por_area_calculo['Presupuesto']\n",
    "\n",
    "cumplimiento_venta_por_area_calculo = cumplimiento_venta_por_area_calculo[[\n",
    "    'Contexto',\n",
    "    'Variable',\n",
    "    'Fecha',\n",
    "    'Real',\n",
    "    'Presupuesto',\n",
    "    'PorcentajeCumplimiento'\n",
    "]]\n",
    "\n",
    "cumplimiento_venta_por_area_calculo.head()\n",
    "\n",
    "## VentaFacturadaPorAreaCalculoSub\n",
    "cumplimiento_venta_por_area_calculo_sub = pd.merge(\n",
    "    left=resultados_venta_area_calculo_presupuesto_sub.rename(columns={'Venta': 'Presupuesto'}),\n",
    "    right=resultados_venta_area_calculo_real_sub.rename(columns={'Venta': 'Real'}),\n",
    "    on=['TipoEmpleado', 'AreaCalculo', 'Consecutivo', 'Fecha'],\n",
    "    how='left'\n",
    ")\n",
    "cumplimiento_venta_por_area_calculo_sub['Real'].fillna(0.0, inplace=True)\n",
    "\n",
    "\n",
    "cumplimiento_venta_por_area_calculo_sub['Variable'] = 'VentaFacturadaPorAreaCalculoSub'\n",
    "cumplimiento_venta_por_area_calculo_sub['Contexto'] = cumplimiento_venta_por_area_calculo_sub['TipoEmpleado'].str.cat(cumplimiento_venta_por_area_calculo_sub['AreaCalculo'].astype('str'),sep=\"_\")\n",
    "cumplimiento_venta_por_area_calculo_sub['Contexto'] = cumplimiento_venta_por_area_calculo_sub['Contexto'].str.cat(cumplimiento_venta_por_area_calculo_sub['Consecutivo'].astype('str'), sep='_')\n",
    "cumplimiento_venta_por_area_calculo_sub['Real'] = cumplimiento_venta_por_area_calculo_sub.groupby(['Contexto'])['Real'].transform(pd.Series.cumsum)\n",
    "cumplimiento_venta_por_area_calculo_sub['Presupuesto'] = cumplimiento_venta_por_area_calculo_sub.groupby(['Contexto'])['Presupuesto'].transform(pd.Series.cumsum)\n",
    "cumplimiento_venta_por_area_calculo_sub['PorcentajeCumplimiento'] = cumplimiento_venta_por_area_calculo_sub['Real'] / cumplimiento_venta_por_area_calculo_sub['Presupuesto']\n",
    "\n",
    "cumplimiento_venta_por_area_calculo_sub = cumplimiento_venta_por_area_calculo_sub[[\n",
    "    'Contexto',\n",
    "    'Variable',\n",
    "    'Fecha',\n",
    "    'Real',\n",
    "    'Presupuesto',\n",
    "    'PorcentajeCumplimiento'\n",
    "]]\n",
    "\n",
    "cumplimiento_venta_por_area_calculo_sub.head()"
   ]
  },
  {
   "cell_type": "markdown",
   "metadata": {
    "datalore": {
     "hide_input_from_viewers": false,
     "hide_output_from_viewers": false,
     "type": "MD"
    }
   },
   "source": [
    "## 6. Objetivos de recaudo por área de cálculo (VentasCobradaPorAreaCalculo y VentasCobradaPorAreaCalculoSub)"
   ]
  },
  {
   "cell_type": "code",
   "execution_count": null,
   "metadata": {
    "datalore": {
     "hide_input_from_viewers": false,
     "hide_output_from_viewers": false,
     "type": "CODE"
    }
   },
   "outputs": [],
   "source": [
    "resultados_recaudo_area_calculo_real = pd.merge(\n",
    "    left=venta_recaudo_real_info[[\n",
    "        'GrupoProducto', \n",
    "        'SBA', \n",
    "        'Fecha',\n",
    "        'Recaudo'\n",
    "    ]],\n",
    "    right=area_calculo_sba_completo_ve7,\n",
    "    on=['GrupoProducto', 'SBA']\n",
    ")\n",
    "resultados_recaudo_area_calculo_real_sub = resultados_recaudo_area_calculo_real.groupby(\n",
    "    ['TipoEmpleado', 'AreaCalculo', 'Consecutivo', 'Fecha'],\n",
    "    as_index=False\n",
    ").agg({'Recaudo': 'sum'})\n",
    "resultados_recaudo_area_calculo_real = resultados_recaudo_area_calculo_real.groupby(\n",
    "    ['TipoEmpleado', 'AreaCalculo', 'Fecha'],\n",
    "    as_index=False\n",
    ").agg({'Recaudo': 'sum'})\n",
    "\n",
    "\n",
    "resultados_recaudo_area_calculo_presupuesto = pd.merge(\n",
    "    left=venta_recaudo_presupuesto_info[[\n",
    "        'GrupoProducto', \n",
    "        'SBA', \n",
    "        'Fecha',\n",
    "        'Recaudo'\n",
    "    ]],\n",
    "    right=area_calculo_sba_completo_ve7,\n",
    "    on=['GrupoProducto', 'SBA']\n",
    ")\n",
    "resultados_recaudo_area_calculo_presupuesto_sub = resultados_recaudo_area_calculo_presupuesto.groupby(\n",
    "    ['TipoEmpleado', 'AreaCalculo', 'Consecutivo', 'Fecha'],\n",
    "    as_index=False\n",
    ").agg({'Recaudo': 'sum'})\n",
    "resultados_recaudo_area_calculo_presupuesto = resultados_recaudo_area_calculo_presupuesto.groupby(\n",
    "    ['TipoEmpleado', 'AreaCalculo', 'Fecha'],\n",
    "    as_index=False\n",
    ").agg({'Recaudo': 'sum'})\n",
    "\n",
    "## VentasCobradaPorAreaCalculo\n",
    "cumplimiento_recaudo_por_area_calculo = pd.merge(\n",
    "    left=resultados_recaudo_area_calculo_presupuesto.rename(columns={'Recaudo': 'Presupuesto'}),\n",
    "    right=resultados_recaudo_area_calculo_real.rename(columns={'Recaudo': 'Real'}),\n",
    "    on=['TipoEmpleado', 'AreaCalculo', 'Fecha'],\n",
    "    how='left'\n",
    ")\n",
    "cumplimiento_recaudo_por_area_calculo['Real'].fillna(0.0, inplace=True)\n",
    "\n",
    "cumplimiento_recaudo_por_area_calculo['Variable'] = 'VentasCobradaPorAreaCalculo'\n",
    "cumplimiento_recaudo_por_area_calculo['Contexto'] = cumplimiento_recaudo_por_area_calculo['TipoEmpleado'].str.cat(cumplimiento_recaudo_por_area_calculo['AreaCalculo'].astype('str'),sep=\"_\")\n",
    "cumplimiento_recaudo_por_area_calculo['Real'] = cumplimiento_recaudo_por_area_calculo.groupby(['Contexto'])['Real'].transform(pd.Series.cumsum)\n",
    "cumplimiento_recaudo_por_area_calculo['Presupuesto'] = cumplimiento_recaudo_por_area_calculo.groupby(['Contexto'])['Presupuesto'].transform(pd.Series.cumsum)\n",
    "cumplimiento_recaudo_por_area_calculo['PorcentajeCumplimiento'] = cumplimiento_recaudo_por_area_calculo['Real'] / cumplimiento_venta_por_area_calculo['Presupuesto']\n",
    "\n",
    "cumplimiento_recaudo_por_area_calculo = cumplimiento_recaudo_por_area_calculo[[\n",
    "    'Contexto',\n",
    "    'Variable',\n",
    "    'Fecha',\n",
    "    'Real',\n",
    "    'Presupuesto',\n",
    "    'PorcentajeCumplimiento'\n",
    "]]\n",
    "\n",
    "## VentasCobradaPorAreaCalculoSub\n",
    "cumplimiento_recaudo_por_area_calculo_sub = pd.merge(\n",
    "    left=resultados_recaudo_area_calculo_presupuesto_sub.rename(columns={'Recaudo': 'Presupuesto'}),\n",
    "    right=resultados_recaudo_area_calculo_real_sub.rename(columns={'Recaudo': 'Real'}),\n",
    "    on=['TipoEmpleado', 'AreaCalculo', 'Consecutivo', 'Fecha'],\n",
    "    how='left'\n",
    ")\n",
    "cumplimiento_recaudo_por_area_calculo_sub['Real'].fillna(0.0, inplace=True)\n",
    "\n",
    "cumplimiento_recaudo_por_area_calculo_sub['Variable'] = 'VentasCobradaPorAreaCalculoSub'\n",
    "cumplimiento_recaudo_por_area_calculo_sub['Contexto'] = cumplimiento_recaudo_por_area_calculo_sub['TipoEmpleado'].str.cat(cumplimiento_recaudo_por_area_calculo_sub['AreaCalculo'].astype('str'),sep=\"_\")\n",
    "cumplimiento_recaudo_por_area_calculo_sub['Contexto'] = cumplimiento_recaudo_por_area_calculo_sub['Contexto'].str.cat(cumplimiento_recaudo_por_area_calculo_sub['Consecutivo'].astype('str'), sep='_')\n",
    "cumplimiento_recaudo_por_area_calculo_sub['Real'] = cumplimiento_recaudo_por_area_calculo_sub.groupby(['Contexto'])['Real'].transform(pd.Series.cumsum)\n",
    "cumplimiento_recaudo_por_area_calculo_sub['Presupuesto'] = cumplimiento_recaudo_por_area_calculo_sub.groupby(['Contexto'])['Presupuesto'].transform(pd.Series.cumsum)\n",
    "cumplimiento_recaudo_por_area_calculo_sub['PorcentajeCumplimiento'] = cumplimiento_recaudo_por_area_calculo_sub['Real'] / cumplimiento_recaudo_por_area_calculo_sub['Presupuesto']\n",
    "\n",
    "cumplimiento_recaudo_por_area_calculo_sub = cumplimiento_recaudo_por_area_calculo_sub[[\n",
    "    'Contexto',\n",
    "    'Variable',\n",
    "    'Fecha',\n",
    "    'Real',\n",
    "    'Presupuesto',\n",
    "    'PorcentajeCumplimiento'\n",
    "]]\n",
    "\n",
    "cumplimiento_recaudo_por_area_calculo_sub.head()"
   ]
  },
  {
   "cell_type": "markdown",
   "metadata": {
    "datalore": {
     "hide_input_from_viewers": false,
     "hide_output_from_viewers": false,
     "type": "MD"
    }
   },
   "source": [
    "## 7. Objetivos de recaudo a nivel país (VentaCobradaBraunPais)"
   ]
  },
  {
   "cell_type": "code",
   "execution_count": null,
   "metadata": {
    "datalore": {
     "hide_input_from_viewers": false,
     "hide_output_from_viewers": false,
     "type": "CODE"
    }
   },
   "outputs": [],
   "source": [
    "# recaudo real pais\n",
    "venta_recaudo_real_pais = df_venta_recaudo_real.groupby(['Fecha'], as_index=False).agg({'Recaudo': 'sum'})\n",
    "venta_recaudo_real_pais['Real'] = venta_recaudo_real_pais['Recaudo']\n",
    "venta_recaudo_real_pais.drop(columns=['Recaudo'], inplace=True)\n",
    "\n",
    "# recaudo presupuesto pais\n",
    "venta_recaudo_presupuesto_pais = df_venta_recaudo_presupuesto.groupby(['Fecha'], as_index=False).agg({'Recaudo': 'sum'})\n",
    "venta_recaudo_presupuesto_pais['Presupuesto'] = venta_recaudo_presupuesto_pais['Recaudo']\n",
    "venta_recaudo_presupuesto_pais.drop(columns=['Recaudo'], inplace=True)\n",
    "\n",
    "##\n",
    "cumplimiento_recaudo_nivel_pais = pd.merge(\n",
    "    left=venta_recaudo_presupuesto_pais,\n",
    "    right=venta_recaudo_real_pais,\n",
    "    on=['Fecha'],\n",
    "    how='left'\n",
    ")\n",
    "cumplimiento_recaudo_nivel_pais['Real'].fillna(0.0, inplace=True)\n",
    "cumplimiento_recaudo_nivel_pais['Real'] = cumplimiento_recaudo_nivel_pais['Real'].transform(pd.Series.cumsum)\n",
    "cumplimiento_recaudo_nivel_pais['Presupuesto'] = cumplimiento_recaudo_nivel_pais['Presupuesto'].transform(pd.Series.cumsum)\n",
    "cumplimiento_recaudo_nivel_pais['PorcentajeCumplimiento'] = cumplimiento_recaudo_nivel_pais['Real'] / cumplimiento_recaudo_nivel_pais['Presupuesto']\n",
    "cumplimiento_recaudo_nivel_pais['PorcentajeCumplimiento'] = cumplimiento_recaudo_nivel_pais['PorcentajeCumplimiento'].apply(lambda x: round(x, 2))\n",
    "\n",
    "cumplimiento_recaudo_nivel_pais['Contexto'] = 'Pais'\n",
    "cumplimiento_recaudo_nivel_pais['Variable'] = 'VentaCobradaBraunPais'\n",
    "cumplimiento_recaudo_nivel_pais = cumplimiento_recaudo_nivel_pais[['Contexto', 'Variable', 'Fecha', 'Real', 'Presupuesto', 'PorcentajeCumplimiento']]\n",
    "\n",
    "cumplimiento_recaudo_nivel_pais.head()"
   ]
  },
  {
   "cell_type": "markdown",
   "metadata": {
    "datalore": {
     "hide_input_from_viewers": false,
     "hide_output_from_viewers": false,
     "type": "MD"
    }
   },
   "source": [
    "## 8. Objetivos de recaudo por unidad de negocio (VentaCobradaUnidadNegocio y VentaCobradaUnidadNegocioSub)"
   ]
  },
  {
   "cell_type": "markdown",
   "metadata": {
    "datalore": {
     "hide_input_from_viewers": false,
     "hide_output_from_viewers": false,
     "type": "MD"
    }
   },
   "source": [
    "### 8.1. Para GU (VentaFacturadaUnidadNegocio - VentaFacturadaUnidadNegocioSub y VentaCobradaUnidadNegocio - VentaCobradaUnidadNegocioSub)"
   ]
  },
  {
   "cell_type": "code",
   "execution_count": null,
   "metadata": {
    "datalore": {
     "hide_input_from_viewers": false,
     "hide_output_from_viewers": false,
     "type": "CODE"
    }
   },
   "outputs": [],
   "source": [
    "area_calculo_sba_completo_gu = area_calculo_sba_completo[area_calculo_sba_completo['TipoEmpleado']=='GU']\n",
    "\n",
    "#Se halla la informacion de la venta y recaudo real de los representantes de ventas de los GU\n",
    "venta_recaudo_presupuesto_original_gu_real = area_calculo_sba_completo_gu.merge(\n",
    "    df_venta_recaudo_real[['Division', 'GrupoProducto', 'SBA', 'Fecha', 'Venta', 'Recaudo']],\n",
    "    on=['Division', 'GrupoProducto', 'SBA']\n",
    ")\n",
    "\n",
    "#Se halla la informacion de la venta y recaudo presupuesto de los representantes de ventas de los GU\n",
    "venta_recaudo_presupuesto_original_gu_presupuesto = area_calculo_sba_completo_gu.merge(\n",
    "    df_venta_recaudo_presupuesto[['Division', 'GrupoProducto', 'SBA', 'Fecha', 'Venta', 'Recaudo']],\n",
    "    on=['Division', 'GrupoProducto', 'SBA']\n",
    ")"
   ]
  },
  {
   "cell_type": "markdown",
   "metadata": {
    "datalore": {
     "hide_input_from_viewers": false,
     "hide_output_from_viewers": false,
     "type": "MD"
    }
   },
   "source": [
    "#### 8.2.1 VentaFacturadaUnidadNegocio - VentaFacturadaUnidadNegocioSub"
   ]
  },
  {
   "cell_type": "markdown",
   "metadata": {},
   "source": [
    "##### VentaFacturadaUnidadNegocio"
   ]
  },
  {
   "cell_type": "code",
   "execution_count": null,
   "metadata": {},
   "outputs": [],
   "source": [
    "venta_real_area_calculo_gu = venta_recaudo_presupuesto_original_gu_real.groupby(['AreaCalculo', 'Fecha'], as_index=False).agg({'Venta': 'sum'})\n",
    "venta_real_area_calculo_gu['Real'] = venta_real_area_calculo_gu['Venta']\n",
    "venta_real_area_calculo_gu.drop(columns=['Venta'], inplace=True)\n",
    "\n",
    "venta_presupuesto_area_calculo_gu = venta_recaudo_presupuesto_original_gu_presupuesto.groupby(['AreaCalculo', 'Fecha'], as_index=False).agg({'Venta': 'sum'})\n",
    "venta_presupuesto_area_calculo_gu['Presupuesto'] = venta_presupuesto_area_calculo_gu['Venta']\n",
    "venta_presupuesto_area_calculo_gu.drop(columns=['Venta'], inplace=True)\n",
    "\n",
    "cumplimiento_venta_por_unidad_negocio_gu = pd.merge(\n",
    "    left=venta_presupuesto_area_calculo_gu,\n",
    "    right=venta_real_area_calculo_gu,\n",
    "    on=['AreaCalculo', 'Fecha'],\n",
    "    how='left'\n",
    ")\n",
    "cumplimiento_venta_por_unidad_negocio_gu['Real'].fillna(0.0, inplace=True)\n",
    "cumplimiento_venta_por_unidad_negocio_gu['Real'] = cumplimiento_venta_por_unidad_negocio_gu.groupby(['AreaCalculo'])['Real'].transform(pd.Series.cumsum)\n",
    "cumplimiento_venta_por_unidad_negocio_gu['Presupuesto'] = cumplimiento_venta_por_unidad_negocio_gu.groupby(['AreaCalculo'])['Presupuesto'].transform(pd.Series.cumsum)\n",
    "cumplimiento_venta_por_unidad_negocio_gu['PorcentajeCumplimiento'] = cumplimiento_venta_por_unidad_negocio_gu['Real'] / cumplimiento_venta_por_unidad_negocio_gu['Presupuesto']\n",
    "cumplimiento_venta_por_unidad_negocio_gu['PorcentajeCumplimiento'] = cumplimiento_venta_por_unidad_negocio_gu['PorcentajeCumplimiento'].apply(lambda x: round(x, 2))\n",
    "cumplimiento_venta_por_unidad_negocio_gu['Variable'] = 'VentaFacturadaUnidadNegocio'\n",
    "\n",
    "### Cálculo de resultados cualitativos precargados\n",
    "cumplimiento_venta_por_unidad_negocio_gu = dataframe_loader.sobreescribir_resultados_cualitativos(\n",
    "    main=cumplimiento_venta_por_unidad_negocio_gu,\n",
    "    df_resultados_variables_cualitativas=df_resultados_variables_cualitativas,\n",
    "    variable='VentaFacturadaUnidadNegocio',\n",
    "    columnas_extra=['TipoEmpleado', 'AreaCalculo'], \n",
    "    columnas_extra_merge=['AreaCalculo'],\n",
    "    pre_merge_lambda=lambda x: x[x['TipoEmpleado'] == 'GU']\n",
    ")\n",
    "###\n",
    "\n",
    "cumplimiento_venta_por_unidad_negocio_gu['AreaCalculo'] = cumplimiento_venta_por_unidad_negocio_gu['AreaCalculo'].astype('str')\n",
    "cumplimiento_venta_por_unidad_negocio_gu['Contexto'] = 'gu_' + cumplimiento_venta_por_unidad_negocio_gu['AreaCalculo']\n",
    "cumplimiento_venta_por_unidad_negocio_gu = cumplimiento_venta_por_unidad_negocio_gu[['Contexto', 'Variable', 'Fecha', 'Real', 'Presupuesto', 'PorcentajeCumplimiento']]\n",
    "\n",
    "cumplimiento_venta_por_unidad_negocio_gu.head()"
   ]
  },
  {
   "cell_type": "markdown",
   "metadata": {},
   "source": [
    "##### VentaFacturadaUnidadNegocioSub"
   ]
  },
  {
   "cell_type": "code",
   "execution_count": null,
   "metadata": {},
   "outputs": [],
   "source": [
    "venta_real_area_calculo_gu_sub = venta_recaudo_presupuesto_original_gu_real.groupby(['AreaCalculo', 'Consecutivo', 'Fecha', 'Division', 'GrupoProducto'], as_index=False).agg({'Venta': 'sum'})\n",
    "venta_real_area_calculo_gu_sub['Real'] = venta_real_area_calculo_gu_sub['Venta']\n",
    "venta_real_area_calculo_gu_sub.drop(columns=['Venta'], inplace=True)\n",
    "\n",
    "venta_presupuesto_area_calculo_gu_sub = venta_recaudo_presupuesto_original_gu_presupuesto.groupby(['AreaCalculo', 'Consecutivo', 'Fecha', 'Division', 'GrupoProducto'], as_index=False).agg({'Venta': 'sum'})\n",
    "venta_presupuesto_area_calculo_gu_sub['Presupuesto'] = venta_presupuesto_area_calculo_gu_sub['Venta']\n",
    "venta_presupuesto_area_calculo_gu_sub.drop(columns=['Venta'], inplace=True)\n",
    "\n",
    "cumplimiento_venta_por_unidad_negocio_gu_sub = pd.merge(\n",
    "    left=venta_presupuesto_area_calculo_gu_sub,\n",
    "    right=venta_real_area_calculo_gu_sub,\n",
    "    on=['AreaCalculo', 'Consecutivo', 'Fecha', 'Division', 'GrupoProducto'],\n",
    "    how='left'\n",
    ")\n",
    "cumplimiento_venta_por_unidad_negocio_gu_sub['Real'].fillna(0.0, inplace=True)\n",
    "cumplimiento_venta_por_unidad_negocio_gu_sub"
   ]
  },
  {
   "cell_type": "code",
   "execution_count": null,
   "metadata": {},
   "outputs": [],
   "source": [
    "cumplimiento_venta_por_unidad_negocio_gu_sub_centro_costo = (\n",
    "    dataframe_loader.f_calculo_centro_costo_variable_tipo_empleado(\n",
    "        main=cumplimiento_venta_por_unidad_negocio_gu_sub,\n",
    "        variable='VentaFacturadaUnidadNegocioSub',\n",
    "        tipo_empleado='GU'\n",
    "    )\n",
    ")\n",
    "cumplimiento_venta_por_unidad_negocio_gu_sub_centro_costo.head(20)"
   ]
  },
  {
   "cell_type": "code",
   "execution_count": null,
   "metadata": {
    "datalore": {
     "hide_input_from_viewers": false,
     "hide_output_from_viewers": false,
     "type": "CODE"
    }
   },
   "outputs": [],
   "source": [
    "cumplimiento_venta_por_unidad_negocio_gu_sub['Real'] = cumplimiento_venta_por_unidad_negocio_gu_sub.groupby(['AreaCalculo', 'Consecutivo'])['Real'].transform(pd.Series.cumsum)\n",
    "cumplimiento_venta_por_unidad_negocio_gu_sub['Presupuesto'] = cumplimiento_venta_por_unidad_negocio_gu_sub.groupby(['AreaCalculo', 'Consecutivo'])['Presupuesto'].transform(pd.Series.cumsum)\n",
    "cumplimiento_venta_por_unidad_negocio_gu_sub['PorcentajeCumplimiento'] = cumplimiento_venta_por_unidad_negocio_gu_sub['Real'] / cumplimiento_venta_por_unidad_negocio_gu_sub['Presupuesto']\n",
    "cumplimiento_venta_por_unidad_negocio_gu_sub['PorcentajeCumplimiento'] = cumplimiento_venta_por_unidad_negocio_gu_sub['PorcentajeCumplimiento'].apply(lambda x: round(x, 2))\n",
    "\n",
    "cumplimiento_venta_por_unidad_negocio_gu_sub['Variable'] = 'VentaFacturadaUnidadNegocioSub'\n",
    "\n",
    "### Cálculo de resultados cualitativos precargados\n",
    "cumplimiento_venta_por_unidad_negocio_gu_sub = dataframe_loader.sobreescribir_resultados_cualitativos(\n",
    "    df_resultados_variables_cualitativas=df_resultados_variables_cualitativas,\n",
    "    main=cumplimiento_venta_por_unidad_negocio_gu_sub,\n",
    "    variable='VentaFacturadaUnidadNegocioSub',\n",
    "    columnas_extra=['TipoEmpleado', 'AreaCalculo', 'Consecutivo'], \n",
    "    columnas_extra_merge=['AreaCalculo', 'Consecutivo'],\n",
    "    pre_merge_lambda=lambda x: x[x['TipoEmpleado'] == 'GU']\n",
    ")\n",
    "###\n",
    "\n",
    "cumplimiento_venta_por_unidad_negocio_gu_sub['Consecutivo'] = cumplimiento_venta_por_unidad_negocio_gu_sub['Consecutivo'].astype('str')\n",
    "cumplimiento_venta_por_unidad_negocio_gu_sub['AreaCalculo'] = cumplimiento_venta_por_unidad_negocio_gu_sub['AreaCalculo'].astype('str')\n",
    "cumplimiento_venta_por_unidad_negocio_gu_sub['Contexto'] = 'gu_' + cumplimiento_venta_por_unidad_negocio_gu_sub['AreaCalculo'].str.cat(cumplimiento_venta_por_unidad_negocio_gu_sub['Consecutivo'],sep=\"_\")\n",
    "cumplimiento_venta_por_unidad_negocio_gu_sub = cumplimiento_venta_por_unidad_negocio_gu_sub[['Contexto', 'Variable', 'Fecha', 'Real', 'Presupuesto', 'PorcentajeCumplimiento']]\n",
    "\n",
    "cumplimiento_venta_por_unidad_negocio_gu_sub.head()"
   ]
  },
  {
   "cell_type": "markdown",
   "metadata": {
    "datalore": {
     "hide_input_from_viewers": false,
     "hide_output_from_viewers": false,
     "type": "MD"
    }
   },
   "source": [
    "#### 8.2.2 VentaCobradaUnidadNegocio - VentaCobradaUnidadNegocioSub"
   ]
  },
  {
   "cell_type": "markdown",
   "metadata": {},
   "source": [
    "##### VentaCobradaUnidadNegocio"
   ]
  },
  {
   "cell_type": "code",
   "execution_count": null,
   "metadata": {
    "datalore": {
     "hide_input_from_viewers": false,
     "hide_output_from_viewers": false,
     "type": "CODE"
    }
   },
   "outputs": [],
   "source": [
    "recaudo_real_area_calculo_gu = venta_recaudo_presupuesto_original_gu_real.groupby(['AreaCalculo', 'Fecha'], as_index=False).agg({'Recaudo': 'sum'})\n",
    "recaudo_real_area_calculo_gu['Real'] = recaudo_real_area_calculo_gu['Recaudo']\n",
    "recaudo_real_area_calculo_gu.drop(columns=['Recaudo'], inplace=True)\n",
    "\n",
    "recaudo_presupuesto_area_calculo_gu = venta_recaudo_presupuesto_original_gu_presupuesto.groupby(['AreaCalculo', 'Fecha'], as_index=False).agg({'Recaudo': 'sum'})\n",
    "recaudo_presupuesto_area_calculo_gu['Presupuesto'] = recaudo_presupuesto_area_calculo_gu['Recaudo']\n",
    "recaudo_presupuesto_area_calculo_gu.drop(columns=['Recaudo'], inplace=True)\n",
    "\n",
    "cumplimiento_recaudo_por_unidad_negocio_gu = pd.merge(\n",
    "    left=recaudo_presupuesto_area_calculo_gu,\n",
    "    right=recaudo_real_area_calculo_gu,\n",
    "    on=['AreaCalculo', 'Fecha'],\n",
    "    how='left'\n",
    ")\n",
    "cumplimiento_recaudo_por_unidad_negocio_gu['Real'].fillna(0.0, inplace=True)\n",
    "cumplimiento_recaudo_por_unidad_negocio_gu['Real'] = cumplimiento_recaudo_por_unidad_negocio_gu.groupby(['AreaCalculo'])['Real'].transform(pd.Series.cumsum)\n",
    "cumplimiento_recaudo_por_unidad_negocio_gu['Presupuesto'] = cumplimiento_recaudo_por_unidad_negocio_gu.groupby(['AreaCalculo'])['Presupuesto'].transform(pd.Series.cumsum)\n",
    "cumplimiento_recaudo_por_unidad_negocio_gu['PorcentajeCumplimiento'] = cumplimiento_recaudo_por_unidad_negocio_gu['Real'] / cumplimiento_recaudo_por_unidad_negocio_gu['Presupuesto']\n",
    "cumplimiento_recaudo_por_unidad_negocio_gu['PorcentajeCumplimiento'] = cumplimiento_recaudo_por_unidad_negocio_gu['PorcentajeCumplimiento'].apply(lambda x: round(x, 2))\n",
    "cumplimiento_recaudo_por_unidad_negocio_gu['Variable'] = 'VentaCobradaUnidadNegocio'\n",
    "\n",
    "### Cálculo de resultados cualitativos precargados\n",
    "cumplimiento_recaudo_por_unidad_negocio_gu = dataframe_loader.sobreescribir_resultados_cualitativos(\n",
    "    df_resultados_variables_cualitativas=df_resultados_variables_cualitativas,\n",
    "    main=cumplimiento_recaudo_por_unidad_negocio_gu,\n",
    "    variable='VentaCobradaUnidadNegocio',\n",
    "    columnas_extra=['TipoEmpleado', 'AreaCalculo'], \n",
    "    columnas_extra_merge=['AreaCalculo'],\n",
    "    pre_merge_lambda=lambda x: x[x['TipoEmpleado'] == 'GU']\n",
    ")\n",
    "###\n",
    "\n",
    "cumplimiento_recaudo_por_unidad_negocio_gu['AreaCalculo'] = cumplimiento_recaudo_por_unidad_negocio_gu['AreaCalculo'].astype('str')\n",
    "cumplimiento_recaudo_por_unidad_negocio_gu['Contexto'] = 'gu_' + cumplimiento_recaudo_por_unidad_negocio_gu['AreaCalculo']\n",
    "cumplimiento_recaudo_por_unidad_negocio_gu = cumplimiento_recaudo_por_unidad_negocio_gu[['Contexto', 'Variable', 'Fecha', 'Real', 'Presupuesto', 'PorcentajeCumplimiento']]\n",
    "\n",
    "cumplimiento_recaudo_por_unidad_negocio_gu.head()"
   ]
  },
  {
   "cell_type": "markdown",
   "metadata": {},
   "source": [
    "##### VentaCobradaUnidadNegocioSub"
   ]
  },
  {
   "cell_type": "code",
   "execution_count": null,
   "metadata": {},
   "outputs": [],
   "source": [
    "recaudo_real_area_calculo_gu_sub = venta_recaudo_presupuesto_original_gu_real.groupby(['AreaCalculo', 'Consecutivo', 'Fecha', 'Division', 'GrupoProducto'], as_index=False).agg({'Recaudo': 'sum'})\n",
    "recaudo_real_area_calculo_gu_sub['Real'] = recaudo_real_area_calculo_gu_sub['Recaudo']\n",
    "recaudo_real_area_calculo_gu_sub.drop(columns=['Recaudo'], inplace=True)\n",
    "\n",
    "recaudo_presupuesto_area_calculo_gu_sub = venta_recaudo_presupuesto_original_gu_presupuesto.groupby(['AreaCalculo', 'Consecutivo', 'Fecha', 'Division', 'GrupoProducto'], as_index=False).agg({'Recaudo': 'sum'})\n",
    "recaudo_presupuesto_area_calculo_gu_sub['Presupuesto'] = recaudo_presupuesto_area_calculo_gu_sub['Recaudo']\n",
    "recaudo_presupuesto_area_calculo_gu_sub.drop(columns=['Recaudo'], inplace=True)\n",
    "\n",
    "cumplimiento_recaudo_por_unidad_negocio_gu_sub = pd.merge(\n",
    "    left=recaudo_presupuesto_area_calculo_gu_sub,\n",
    "    right=recaudo_real_area_calculo_gu_sub,\n",
    "    on=['AreaCalculo', 'Consecutivo', 'Fecha', 'Division', 'GrupoProducto'],\n",
    "    how='left'\n",
    ")\n",
    "cumplimiento_recaudo_por_unidad_negocio_gu_sub['Real'].fillna(0.0, inplace=True)\n",
    "cumplimiento_recaudo_por_unidad_negocio_gu_sub"
   ]
  },
  {
   "cell_type": "code",
   "execution_count": null,
   "metadata": {},
   "outputs": [],
   "source": [
    "cumplimiento_recaudo_por_unidad_negocio_gu_sub_centro_costo = (\n",
    "    dataframe_loader.f_calculo_centro_costo_variable_tipo_empleado(\n",
    "        main=cumplimiento_recaudo_por_unidad_negocio_gu_sub,\n",
    "        variable='VentaCobradaUnidadNegocioSub', \n",
    "        tipo_empleado='GU'\n",
    "    )\n",
    ")\n",
    "cumplimiento_recaudo_por_unidad_negocio_gu_sub_centro_costo.head(20)"
   ]
  },
  {
   "cell_type": "code",
   "execution_count": null,
   "metadata": {},
   "outputs": [],
   "source": [
    "cumplimiento_recaudo_por_unidad_negocio_gu_sub = cumplimiento_recaudo_por_unidad_negocio_gu_sub.groupby(['AreaCalculo', 'Consecutivo', 'Fecha'], as_index=False)[['Real', 'Presupuesto']].apply(sum)\n",
    "cumplimiento_recaudo_por_unidad_negocio_gu_sub['Real'] = cumplimiento_recaudo_por_unidad_negocio_gu_sub.groupby(['AreaCalculo', 'Consecutivo'])['Real'].transform(pd.Series.cumsum)\n",
    "cumplimiento_recaudo_por_unidad_negocio_gu_sub['Presupuesto'] = cumplimiento_recaudo_por_unidad_negocio_gu_sub.groupby(['AreaCalculo', 'Consecutivo'])['Presupuesto'].transform(pd.Series.cumsum)\n",
    "cumplimiento_recaudo_por_unidad_negocio_gu_sub['PorcentajeCumplimiento'] = cumplimiento_recaudo_por_unidad_negocio_gu_sub['Real'] / cumplimiento_recaudo_por_unidad_negocio_gu_sub['Presupuesto']\n",
    "cumplimiento_recaudo_por_unidad_negocio_gu_sub['PorcentajeCumplimiento'] = cumplimiento_recaudo_por_unidad_negocio_gu_sub['PorcentajeCumplimiento'].apply(lambda x: round(x, 2))\n",
    "cumplimiento_recaudo_por_unidad_negocio_gu_sub['Variable'] = 'VentaCobradaUnidadNegocioSub'\n",
    "\n",
    "### Cálculo de resultados cualitativos precargados\n",
    "cumplimiento_recaudo_por_unidad_negocio_gu_sub = dataframe_loader.sobreescribir_resultados_cualitativos(\n",
    "    df_resultados_variables_cualitativas=df_resultados_variables_cualitativas,\n",
    "    main=cumplimiento_recaudo_por_unidad_negocio_gu_sub,\n",
    "    variable='VentaCobradaUnidadNegocioSub',\n",
    "    columnas_extra=['TipoEmpleado', 'AreaCalculo', 'Consecutivo'], \n",
    "    columnas_extra_merge=['AreaCalculo', 'Consecutivo'],\n",
    "    pre_merge_lambda=lambda x: x[x['TipoEmpleado'] == 'GU']\n",
    ")\n",
    "###\n",
    "\n",
    "cumplimiento_recaudo_por_unidad_negocio_gu_sub['Consecutivo'] = cumplimiento_recaudo_por_unidad_negocio_gu_sub['Consecutivo'].astype('str')\n",
    "cumplimiento_recaudo_por_unidad_negocio_gu_sub['AreaCalculo'] = cumplimiento_recaudo_por_unidad_negocio_gu_sub['AreaCalculo'].astype('str')\n",
    "cumplimiento_recaudo_por_unidad_negocio_gu_sub['Contexto'] = 'gu_' + cumplimiento_recaudo_por_unidad_negocio_gu_sub['AreaCalculo'].str.cat(cumplimiento_recaudo_por_unidad_negocio_gu_sub['Consecutivo'],sep=\"_\")\n",
    "cumplimiento_recaudo_por_unidad_negocio_gu_sub = cumplimiento_recaudo_por_unidad_negocio_gu_sub[['Contexto', 'Variable', 'Fecha', 'Real', 'Presupuesto', 'PorcentajeCumplimiento']]\n",
    "\n",
    "cumplimiento_recaudo_por_unidad_negocio_gu_sub.head()"
   ]
  },
  {
   "cell_type": "code",
   "execution_count": null,
   "metadata": {},
   "outputs": [],
   "source": [
    "cumplimiento_recaudo_por_unidad_negocio_gu_sub[\n",
    "    (cumplimiento_recaudo_por_unidad_negocio_gu_sub['Fecha'] == '2023-01-01') &\n",
    "     (cumplimiento_recaudo_por_unidad_negocio_gu_sub['Contexto'] == 'gu_8_3')\n",
    "]"
   ]
  },
  {
   "cell_type": "code",
   "execution_count": null,
   "metadata": {},
   "outputs": [],
   "source": [
    "cumplimiento_recaudo_por_unidad_negocio_gu_sub[\n",
    "    (cumplimiento_recaudo_por_unidad_negocio_gu_sub['Fecha'] == '2023-01-01') &\n",
    "     (cumplimiento_recaudo_por_unidad_negocio_gu_sub['Contexto'] == 'gu_1_1')\n",
    "]"
   ]
  },
  {
   "cell_type": "markdown",
   "metadata": {
    "datalore": {
     "hide_input_from_viewers": false,
     "hide_output_from_viewers": false,
     "type": "MD"
    }
   },
   "source": [
    "### 8.2. Para MK (VentaFacturadaUnidadNegocio - VentaFacturadaUnidadNegocioSub y VentaCobradaUnidadNegocio - VentaCobradaUnidadNegocioSub)"
   ]
  },
  {
   "cell_type": "code",
   "execution_count": null,
   "metadata": {
    "datalore": {
     "hide_input_from_viewers": false,
     "hide_output_from_viewers": false,
     "type": "CODE"
    }
   },
   "outputs": [],
   "source": [
    "area_calculo_sba_completo_mk = area_calculo_sba_completo[area_calculo_sba_completo['TipoEmpleado']=='MK']\n",
    "\n",
    "#Se halla la informacion de la venta y recaudo real de los representantes de ventas de los MK\n",
    "venta_recaudo_presupuesto_original_mk_real = area_calculo_sba_completo_mk.merge(\n",
    "    df_venta_recaudo_real[['Division', 'GrupoProducto', 'SBA', 'Fecha', 'Venta', 'Recaudo']],\n",
    "    on=['Division', 'GrupoProducto', 'SBA']\n",
    ")\n",
    "\n",
    "#Se halla la informacion de la venta y recaudo presupuesto de los representantes de ventas de los MK\n",
    "venta_recaudo_presupuesto_original_mk_presupuesto = area_calculo_sba_completo_mk.merge(\n",
    "    df_venta_recaudo_presupuesto[['Division', 'GrupoProducto', 'SBA', 'Fecha', 'Venta', 'Recaudo']],\n",
    "    on=['Division', 'GrupoProducto', 'SBA']\n",
    ")"
   ]
  },
  {
   "cell_type": "markdown",
   "metadata": {
    "datalore": {
     "hide_input_from_viewers": false,
     "hide_output_from_viewers": false,
     "type": "MD"
    }
   },
   "source": [
    "#### 8.2.1 VentaFacturadaUnidadNegocio - VentaFacturadaUnidadNegocioSub"
   ]
  },
  {
   "cell_type": "markdown",
   "metadata": {},
   "source": [
    "##### VentaFacturadaUnidadNegocio"
   ]
  },
  {
   "cell_type": "code",
   "execution_count": null,
   "metadata": {
    "datalore": {
     "hide_input_from_viewers": false,
     "hide_output_from_viewers": false,
     "type": "CODE"
    }
   },
   "outputs": [],
   "source": [
    "venta_real_area_calculo_mk = venta_recaudo_presupuesto_original_mk_real.groupby(['AreaCalculo', 'Fecha'], as_index=False).agg({'Venta': 'sum'})\n",
    "venta_real_area_calculo_mk['Real'] = venta_real_area_calculo_mk['Venta']\n",
    "venta_real_area_calculo_mk.drop(columns=['Venta'], inplace=True)\n",
    "\n",
    "venta_presupuesto_area_calculo_mk = venta_recaudo_presupuesto_original_mk_presupuesto.groupby(['AreaCalculo', 'Fecha'], as_index=False).agg({'Venta': 'sum'})\n",
    "venta_presupuesto_area_calculo_mk['Presupuesto'] = venta_presupuesto_area_calculo_mk['Venta']\n",
    "venta_presupuesto_area_calculo_mk.drop(columns=['Venta'], inplace=True)\n",
    "\n",
    "cumplimiento_venta_por_unidad_negocio_mk = pd.merge(\n",
    "    left=venta_presupuesto_area_calculo_mk,\n",
    "    right=venta_real_area_calculo_mk,\n",
    "    on=['AreaCalculo', 'Fecha'],\n",
    "    how='left'\n",
    ")\n",
    "cumplimiento_venta_por_unidad_negocio_mk['Real'].fillna(0.0, inplace=True)\n",
    "cumplimiento_venta_por_unidad_negocio_mk['Real'] = cumplimiento_venta_por_unidad_negocio_mk.groupby(['AreaCalculo'])['Real'].transform(pd.Series.cumsum)\n",
    "cumplimiento_venta_por_unidad_negocio_mk['Presupuesto'] = cumplimiento_venta_por_unidad_negocio_mk.groupby(['AreaCalculo'])['Presupuesto'].transform(pd.Series.cumsum)\n",
    "cumplimiento_venta_por_unidad_negocio_mk['PorcentajeCumplimiento'] = cumplimiento_venta_por_unidad_negocio_mk['Real'] / cumplimiento_venta_por_unidad_negocio_mk['Presupuesto']\n",
    "cumplimiento_venta_por_unidad_negocio_mk['PorcentajeCumplimiento'] = cumplimiento_venta_por_unidad_negocio_mk['PorcentajeCumplimiento'].apply(lambda x: round(x, 2))\n",
    "cumplimiento_venta_por_unidad_negocio_mk['Variable'] = 'VentaFacturadaUnidadNegocio'\n",
    "#areas de calculo son unidades de negocio\n",
    "\n",
    "### Cálculo de resultados cualitativos precargados\n",
    "cumplimiento_venta_por_unidad_negocio_mk = dataframe_loader.sobreescribir_resultados_cualitativos(\n",
    "    df_resultados_variables_cualitativas=df_resultados_variables_cualitativas,\n",
    "    main=cumplimiento_venta_por_unidad_negocio_mk,\n",
    "    variable='VentaFacturadaUnidadNegocio',\n",
    "    columnas_extra=['TipoEmpleado', 'AreaCalculo'], \n",
    "    columnas_extra_merge=['AreaCalculo'],\n",
    "    pre_merge_lambda=lambda x: x[x['TipoEmpleado'] == 'MK']\n",
    ")\n",
    "###\n",
    "\n",
    "cumplimiento_venta_por_unidad_negocio_mk['AreaCalculo'] = cumplimiento_venta_por_unidad_negocio_mk['AreaCalculo'].astype('str')\n",
    "cumplimiento_venta_por_unidad_negocio_mk['Contexto'] = 'mk_' + cumplimiento_venta_por_unidad_negocio_mk['AreaCalculo']\n",
    "cumplimiento_venta_por_unidad_negocio_mk = cumplimiento_venta_por_unidad_negocio_mk[['Contexto', 'Variable', 'Fecha', 'Real', 'Presupuesto', 'PorcentajeCumplimiento']]\n",
    "\n",
    "cumplimiento_venta_por_unidad_negocio_mk.head()"
   ]
  },
  {
   "cell_type": "markdown",
   "metadata": {},
   "source": [
    "##### VentaFacturadaUnidadNegocioSub"
   ]
  },
  {
   "cell_type": "code",
   "execution_count": null,
   "metadata": {},
   "outputs": [],
   "source": [
    "venta_real_area_calculo_mk_sub = venta_recaudo_presupuesto_original_mk_real.groupby(['AreaCalculo', 'Division', 'GrupoProducto','Consecutivo', 'Fecha'], as_index=False).agg({'Venta': 'sum'})\n",
    "venta_real_area_calculo_mk_sub['Real'] = venta_real_area_calculo_mk_sub['Venta']\n",
    "venta_real_area_calculo_mk_sub.drop(columns=['Venta'], inplace=True)\n",
    "\n",
    "venta_presupuesto_area_calculo_mk_sub = venta_recaudo_presupuesto_original_mk_presupuesto.groupby(['AreaCalculo', 'Division', 'GrupoProducto', 'Consecutivo', 'Fecha'], as_index=False).agg({'Venta': 'sum'})\n",
    "venta_presupuesto_area_calculo_mk_sub['Presupuesto'] = venta_presupuesto_area_calculo_mk_sub['Venta']\n",
    "venta_presupuesto_area_calculo_mk_sub.drop(columns=['Venta'], inplace=True)\n",
    "\n",
    "cumplimiento_venta_por_unidad_negocio_mk_sub = pd.merge(\n",
    "    left=venta_presupuesto_area_calculo_mk_sub,\n",
    "    right=venta_real_area_calculo_mk_sub,\n",
    "    on=['AreaCalculo', 'Division', 'GrupoProducto' ,'Consecutivo', 'Fecha'],\n",
    "    how='left'\n",
    ")\n",
    "cumplimiento_venta_por_unidad_negocio_mk_sub['Real'].fillna(0.0, inplace=True)\n",
    "cumplimiento_venta_por_unidad_negocio_mk_sub"
   ]
  },
  {
   "cell_type": "code",
   "execution_count": null,
   "metadata": {},
   "outputs": [],
   "source": [
    "cumplimiento_venta_por_unidad_negocio_mk_sub_centro_costo = (\n",
    "    dataframe_loader.f_calculo_centro_costo_variable_tipo_empleado(\n",
    "        main=cumplimiento_venta_por_unidad_negocio_mk_sub,\n",
    "        variable='VentaFacturadaUnidadNegocioSub',\n",
    "        tipo_empleado='MK'\n",
    "    )\n",
    ")\n",
    "cumplimiento_venta_por_unidad_negocio_mk_sub_centro_costo.head()"
   ]
  },
  {
   "cell_type": "code",
   "execution_count": null,
   "metadata": {},
   "outputs": [],
   "source": [
    "cumplimiento_venta_por_unidad_negocio_mk_sub_centro_costo[\n",
    "    (cumplimiento_venta_por_unidad_negocio_mk_sub_centro_costo['Contexto'] == 'mk_1_1') &\n",
    "    (cumplimiento_venta_por_unidad_negocio_mk_sub_centro_costo['Fecha'] == '2023-01-01')\n",
    "]"
   ]
  },
  {
   "cell_type": "code",
   "execution_count": null,
   "metadata": {},
   "outputs": [],
   "source": [
    "dataframe_loader.validar_calculo_centro_costo(\n",
    "    main=cumplimiento_venta_por_unidad_negocio_mk_sub_centro_costo,\n",
    "    contexto='mk_1_1', \n",
    "    fecha='2023-01-01'\n",
    ")"
   ]
  },
  {
   "cell_type": "code",
   "execution_count": null,
   "metadata": {},
   "outputs": [],
   "source": [
    "cumplimiento_venta_por_unidad_negocio_mk_sub = cumplimiento_venta_por_unidad_negocio_mk_sub.groupby(\n",
    "    ['AreaCalculo' ,'Consecutivo', 'Fecha'], as_index=False)[['Real', 'Presupuesto']].apply(sum)\n",
    "cumplimiento_venta_por_unidad_negocio_mk_sub['Real'] = cumplimiento_venta_por_unidad_negocio_mk_sub.groupby(['AreaCalculo', 'Consecutivo'])['Real'].transform(pd.Series.cumsum)\n",
    "cumplimiento_venta_por_unidad_negocio_mk_sub['Presupuesto'] = cumplimiento_venta_por_unidad_negocio_mk_sub.groupby(['AreaCalculo', 'Consecutivo'])['Presupuesto'].transform(pd.Series.cumsum)\n",
    "cumplimiento_venta_por_unidad_negocio_mk_sub['PorcentajeCumplimiento'] = cumplimiento_venta_por_unidad_negocio_mk_sub['Real'] / cumplimiento_venta_por_unidad_negocio_mk_sub['Presupuesto']\n",
    "cumplimiento_venta_por_unidad_negocio_mk_sub['PorcentajeCumplimiento'] = cumplimiento_venta_por_unidad_negocio_mk_sub['PorcentajeCumplimiento'].apply(lambda x: round(x, 2))\n",
    "cumplimiento_venta_por_unidad_negocio_mk_sub['Variable'] = 'VentaFacturadaUnidadNegocioSub'\n",
    "#areas de calculo son unidades de negocio\n",
    "\n",
    "### Cálculo de resultados cualitativos precargados\n",
    "cumplimiento_venta_por_unidad_negocio_mk_sub = dataframe_loader.sobreescribir_resultados_cualitativos(\n",
    "    df_resultados_variables_cualitativas=df_resultados_variables_cualitativas,\n",
    "    main=cumplimiento_venta_por_unidad_negocio_mk_sub,\n",
    "    variable='VentaFacturadaUnidadNegocioSub',\n",
    "    columnas_extra=['TipoEmpleado', 'AreaCalculo', 'Consecutivo'], \n",
    "    columnas_extra_merge=['AreaCalculo', 'Consecutivo'],\n",
    "    pre_merge_lambda=lambda x: x[x['TipoEmpleado'] == 'MK']\n",
    ")\n",
    "###\n",
    "\n",
    "cumplimiento_venta_por_unidad_negocio_mk_sub['Consecutivo'] = cumplimiento_venta_por_unidad_negocio_mk_sub['Consecutivo'].astype('str')\n",
    "cumplimiento_venta_por_unidad_negocio_mk_sub['AreaCalculo'] = cumplimiento_venta_por_unidad_negocio_mk_sub['AreaCalculo'].astype('str')\n",
    "cumplimiento_venta_por_unidad_negocio_mk_sub['Contexto'] = 'mk_' + cumplimiento_venta_por_unidad_negocio_mk_sub['AreaCalculo'].str.cat(cumplimiento_venta_por_unidad_negocio_mk_sub['Consecutivo'],sep=\"_\")\n",
    "cumplimiento_venta_por_unidad_negocio_mk_sub = cumplimiento_venta_por_unidad_negocio_mk_sub[['Contexto', 'Variable', 'Fecha', 'Real', 'Presupuesto', 'PorcentajeCumplimiento']]\n",
    "\n",
    "cumplimiento_venta_por_unidad_negocio_mk_sub[\n",
    "    (cumplimiento_venta_por_unidad_negocio_mk_sub['Contexto'] == 'mk_1_1')\n",
    "]"
   ]
  },
  {
   "cell_type": "markdown",
   "metadata": {
    "datalore": {
     "hide_input_from_viewers": false,
     "hide_output_from_viewers": false,
     "type": "MD"
    }
   },
   "source": [
    "#### 8.2.2 VentaCobradaUnidadNegocio - VentaCobradaUnidadNegocioSub"
   ]
  },
  {
   "cell_type": "markdown",
   "metadata": {},
   "source": [
    "##### VentaCobradaUnidadNegocio"
   ]
  },
  {
   "cell_type": "code",
   "execution_count": null,
   "metadata": {},
   "outputs": [],
   "source": [
    "recaudo_real_area_calculo_mk = venta_recaudo_presupuesto_original_mk_real.groupby(['AreaCalculo', 'Fecha'], as_index=False).agg({'Recaudo': 'sum'})\n",
    "recaudo_real_area_calculo_mk['Real'] = recaudo_real_area_calculo_mk['Recaudo']\n",
    "recaudo_real_area_calculo_mk.drop(columns=['Recaudo'], inplace=True)\n",
    "\n",
    "recaudo_presupuesto_area_calculo_mk = venta_recaudo_presupuesto_original_mk_presupuesto.groupby(['AreaCalculo', 'Fecha'], as_index=False).agg({'Recaudo': 'sum'})\n",
    "recaudo_presupuesto_area_calculo_mk['Presupuesto'] = recaudo_presupuesto_area_calculo_mk['Recaudo']\n",
    "recaudo_presupuesto_area_calculo_mk.drop(columns=['Recaudo'], inplace=True)\n",
    "\n",
    "cumplimiento_recaudo_por_unidad_negocio_mk = pd.merge(\n",
    "    left=recaudo_presupuesto_area_calculo_mk,\n",
    "    right=recaudo_real_area_calculo_mk,\n",
    "    on=['AreaCalculo', 'Fecha'],\n",
    "    how='left'\n",
    ")\n",
    "cumplimiento_recaudo_por_unidad_negocio_mk['Real'].fillna(0.0, inplace=True)\n",
    "cumplimiento_recaudo_por_unidad_negocio_mk['Real'] = cumplimiento_recaudo_por_unidad_negocio_mk.groupby(['AreaCalculo'])['Real'].transform(pd.Series.cumsum)\n",
    "cumplimiento_recaudo_por_unidad_negocio_mk['Presupuesto'] = cumplimiento_recaudo_por_unidad_negocio_mk.groupby(['AreaCalculo'])['Presupuesto'].transform(pd.Series.cumsum)\n",
    "cumplimiento_recaudo_por_unidad_negocio_mk['PorcentajeCumplimiento'] = cumplimiento_recaudo_por_unidad_negocio_mk['Real'] / cumplimiento_recaudo_por_unidad_negocio_mk['Presupuesto']\n",
    "cumplimiento_recaudo_por_unidad_negocio_mk['PorcentajeCumplimiento'] = cumplimiento_recaudo_por_unidad_negocio_mk['PorcentajeCumplimiento'].apply(lambda x: round(x, 2))\n",
    "cumplimiento_recaudo_por_unidad_negocio_mk['Variable'] = 'VentaCobradaUnidadNegocio'\n",
    "#areas de calculo son unidades de negocio\n",
    "\n",
    "### Cálculo de resultados cualitativos precargados\n",
    "cumplimiento_recaudo_por_unidad_negocio_mk = dataframe_loader.sobreescribir_resultados_cualitativos(\n",
    "    df_resultados_variables_cualitativas=df_resultados_variables_cualitativas,\n",
    "    main=cumplimiento_recaudo_por_unidad_negocio_mk,\n",
    "    variable='VentaCobradaUnidadNegocio',\n",
    "    columnas_extra=['TipoEmpleado', 'AreaCalculo'], \n",
    "    columnas_extra_merge=['AreaCalculo'],\n",
    "    pre_merge_lambda=lambda x: x[x['TipoEmpleado'] == 'MK']\n",
    ")\n",
    "###\n",
    "\n",
    "cumplimiento_recaudo_por_unidad_negocio_mk['AreaCalculo'] = cumplimiento_recaudo_por_unidad_negocio_mk['AreaCalculo'].astype('str')\n",
    "cumplimiento_recaudo_por_unidad_negocio_mk['Contexto'] = 'mk_' + cumplimiento_recaudo_por_unidad_negocio_mk['AreaCalculo']\n",
    "cumplimiento_recaudo_por_unidad_negocio_mk = cumplimiento_recaudo_por_unidad_negocio_mk[['Contexto', 'Variable', 'Fecha', 'Real', 'Presupuesto', 'PorcentajeCumplimiento']]\n",
    "\n",
    "cumplimiento_recaudo_por_unidad_negocio_mk.head()"
   ]
  },
  {
   "cell_type": "markdown",
   "metadata": {},
   "source": [
    "##### VentaCobradaUnidadNegocioSub"
   ]
  },
  {
   "cell_type": "code",
   "execution_count": null,
   "metadata": {},
   "outputs": [],
   "source": [
    "recaudo_real_area_calculo_mk_sub = venta_recaudo_presupuesto_original_mk_real.groupby(['AreaCalculo', 'Division', 'GrupoProducto','Consecutivo', 'Fecha'], as_index=False).agg({'Recaudo': 'sum'})\n",
    "recaudo_real_area_calculo_mk_sub['Real'] = recaudo_real_area_calculo_mk_sub['Recaudo']\n",
    "recaudo_real_area_calculo_mk_sub.drop(columns=['Recaudo'], inplace=True)\n",
    "\n",
    "recaudo_presupuesto_area_calculo_mk_sub = venta_recaudo_presupuesto_original_mk_presupuesto.groupby(['AreaCalculo', 'Division', 'GrupoProducto', 'Consecutivo', 'Fecha'], as_index=False).agg({'Recaudo': 'sum'})\n",
    "recaudo_presupuesto_area_calculo_mk_sub['Presupuesto'] = recaudo_presupuesto_area_calculo_mk_sub['Recaudo']\n",
    "recaudo_presupuesto_area_calculo_mk_sub.drop(columns=['Recaudo'], inplace=True)\n",
    "\n",
    "cumplimiento_recaudo_por_unidad_negocio_mk_sub = pd.merge(\n",
    "    left=recaudo_presupuesto_area_calculo_mk_sub,\n",
    "    right=recaudo_real_area_calculo_mk_sub,\n",
    "    on=['AreaCalculo', 'Consecutivo', 'Fecha', 'Division', 'GrupoProducto'],\n",
    "    how='left'\n",
    ")\n",
    "cumplimiento_recaudo_por_unidad_negocio_mk_sub['Real'].fillna(0.0, inplace=True)\n",
    "cumplimiento_recaudo_por_unidad_negocio_mk_sub"
   ]
  },
  {
   "cell_type": "code",
   "execution_count": null,
   "metadata": {},
   "outputs": [],
   "source": [
    "cumplimiento_recaudo_por_unidad_negocio_mk_sub_centro_costo = (\n",
    "    dataframe_loader.f_calculo_centro_costo_variable_tipo_empleado(\n",
    "        main=cumplimiento_recaudo_por_unidad_negocio_mk_sub,\n",
    "        variable='VentaCobradaUnidadNegocioSub',\n",
    "        tipo_empleado='MK'\n",
    "    )\n",
    ")\n",
    "cumplimiento_recaudo_por_unidad_negocio_mk_sub_centro_costo"
   ]
  },
  {
   "cell_type": "code",
   "execution_count": null,
   "metadata": {},
   "outputs": [],
   "source": [
    "dataframe_loader.validar_calculo_centro_costo(cumplimiento_recaudo_por_unidad_negocio_mk_sub_centro_costo, 'mk_1_1', '2023-02-01')"
   ]
  },
  {
   "cell_type": "code",
   "execution_count": null,
   "metadata": {},
   "outputs": [],
   "source": [
    "cumplimiento_recaudo_por_unidad_negocio_mk_sub = (\n",
    "    cumplimiento_recaudo_por_unidad_negocio_mk_sub.groupby(\n",
    "        ['AreaCalculo', 'Consecutivo', 'Fecha'], as_index=False\n",
    "    )[['Real', 'Presupuesto']].apply(sum)\n",
    ")\n",
    "cumplimiento_recaudo_por_unidad_negocio_mk_sub['Real'] = cumplimiento_recaudo_por_unidad_negocio_mk_sub.groupby(['AreaCalculo', 'Consecutivo'])['Real'].transform(pd.Series.cumsum)\n",
    "cumplimiento_recaudo_por_unidad_negocio_mk_sub['Presupuesto'] = cumplimiento_recaudo_por_unidad_negocio_mk_sub.groupby(['AreaCalculo', 'Consecutivo'])['Presupuesto'].transform(pd.Series.cumsum)\n",
    "cumplimiento_recaudo_por_unidad_negocio_mk_sub['PorcentajeCumplimiento'] = cumplimiento_recaudo_por_unidad_negocio_mk_sub['Real'] / cumplimiento_recaudo_por_unidad_negocio_mk_sub['Presupuesto']\n",
    "cumplimiento_recaudo_por_unidad_negocio_mk_sub['PorcentajeCumplimiento'] = cumplimiento_recaudo_por_unidad_negocio_mk_sub['PorcentajeCumplimiento'].apply(lambda x: round(x, 2))\n",
    "cumplimiento_recaudo_por_unidad_negocio_mk_sub['Variable'] = 'VentaCobradaUnidadNegocioSub'\n",
    "#areas de calculo son unidades de negocio\n",
    "\n",
    "### Cálculo de resultados cualitativos precargados\n",
    "cumplimiento_recaudo_por_unidad_negocio_mk_sub = dataframe_loader.sobreescribir_resultados_cualitativos(\n",
    "    df_resultados_variables_cualitativas=df_resultados_variables_cualitativas,\n",
    "    main=cumplimiento_recaudo_por_unidad_negocio_mk_sub,\n",
    "    variable='VentaCobradaUnidadNegocioSub',\n",
    "    columnas_extra=['TipoEmpleado', 'AreaCalculo', 'Consecutivo'], \n",
    "    columnas_extra_merge=['AreaCalculo', 'Consecutivo'],\n",
    "    pre_merge_lambda=lambda x: x[x['TipoEmpleado'] == 'MK']\n",
    ")\n",
    "###\n",
    "\n",
    "cumplimiento_recaudo_por_unidad_negocio_mk_sub['Consecutivo'] = cumplimiento_recaudo_por_unidad_negocio_mk_sub['Consecutivo'].astype('str')\n",
    "cumplimiento_recaudo_por_unidad_negocio_mk_sub['AreaCalculo'] = cumplimiento_recaudo_por_unidad_negocio_mk_sub['AreaCalculo'].astype('str')\n",
    "cumplimiento_recaudo_por_unidad_negocio_mk_sub['Contexto'] = 'mk_' + cumplimiento_recaudo_por_unidad_negocio_mk_sub['AreaCalculo'].str.cat(cumplimiento_recaudo_por_unidad_negocio_mk_sub['Consecutivo'],sep=\"_\")\n",
    "cumplimiento_recaudo_por_unidad_negocio_mk_sub = cumplimiento_recaudo_por_unidad_negocio_mk_sub[['Contexto', 'Variable', 'Fecha', 'Real', 'Presupuesto', 'PorcentajeCumplimiento']]\n",
    "\n",
    "cumplimiento_recaudo_por_unidad_negocio_mk_sub.head()"
   ]
  },
  {
   "cell_type": "markdown",
   "metadata": {
    "datalore": {
     "hide_input_from_viewers": false,
     "hide_output_from_viewers": false,
     "type": "MD"
    }
   },
   "source": [
    "## 9. Objetivos de rentabilidad por unidad de negocio (RentabilidadUnidadNegocioCM2 y RentabilidadUnidadNegocioCM3)"
   ]
  },
  {
   "cell_type": "markdown",
   "metadata": {
    "datalore": {
     "hide_input_from_viewers": false,
     "hide_output_from_viewers": false,
     "type": "MD"
    }
   },
   "source": [
    "### 9.1. Para GU (RentabilidadUnidadNegocioCM2 y RentabilidadUnidadNegocioCM3)"
   ]
  },
  {
   "cell_type": "code",
   "execution_count": null,
   "metadata": {},
   "outputs": [],
   "source": [
    "rentabilidad_gu = df_rentabilidad.copy()\n",
    "rentabilidad_gu['TipoEmpleado'] = 'GU'\n",
    "rentabilidad_gu = rentabilidad_gu.merge(\n",
    "    area_calculo_sba_completo[['TipoEmpleado', 'AreaCalculo', 'GrupoProducto', 'SBA']],\n",
    "    on=['TipoEmpleado', 'GrupoProducto', 'SBA'],\n",
    "    how='left'\n",
    ")\n",
    "rentabilidad_gu = rentabilidad_gu.groupby(\n",
    "    ['TipoEmpleado', 'ClaseRentabilidad', 'Fecha', 'AreaCalculo'],\n",
    "    as_index=False\n",
    ").agg({'Real': 'sum', 'Presupuesto': 'sum'})\n",
    "\n",
    "rentabilidad_gu['PorcentajeCumplimiento'] = rentabilidad_gu['Real'] / rentabilidad_gu['Presupuesto']\n",
    "rentabilidad_gu['PorcentajeCumplimiento'] = rentabilidad_gu['PorcentajeCumplimiento'].apply(lambda x: round(x, 2))\n",
    "rentabilidad_gu.head()"
   ]
  },
  {
   "cell_type": "code",
   "execution_count": null,
   "metadata": {},
   "outputs": [],
   "source": [
    "cumplimiento_rentabilidad_por_unidad_negocio_cm2_gu = rentabilidad_gu[\n",
    "    rentabilidad_gu['ClaseRentabilidad'] == 'CMII']\n",
    "cumplimiento_rentabilidad_por_unidad_negocio_cm2_gu.drop(columns='ClaseRentabilidad', inplace=True)\n",
    "\n",
    "cumplimiento_rentabilidad_por_unidad_negocio_cm2_gu['Variable'] = 'RentabilidadUnidadNegocioCM2'\n",
    "### Cálculo de resultados cualitativos precargados\n",
    "cumplimiento_rentabilidad_por_unidad_negocio_cm2_gu = dataframe_loader.sobreescribir_resultados_cualitativos(\n",
    "    df_resultados_variables_cualitativas=df_resultados_variables_cualitativas,\n",
    "    main=cumplimiento_rentabilidad_por_unidad_negocio_cm2_gu,\n",
    "    variable='RentabilidadUnidadNegocioCM2',\n",
    "    columnas_extra=['TipoEmpleado', 'AreaCalculo'],\n",
    "    columnas_extra_merge=['TipoEmpleado', 'AreaCalculo'],\n",
    "    pre_merge_lambda=lambda x: x[x['TipoEmpleado'] == 'GU']\n",
    ")\n",
    "###\n",
    "cumplimiento_rentabilidad_por_unidad_negocio_cm2_gu['AreaCalculo'] = \\\n",
    "cumplimiento_rentabilidad_por_unidad_negocio_cm2_gu['AreaCalculo'].astype(int).astype('str')\n",
    "cumplimiento_rentabilidad_por_unidad_negocio_cm2_gu['Contexto'] = 'gu_' + \\\n",
    "                                                                  cumplimiento_rentabilidad_por_unidad_negocio_cm2_gu[\n",
    "                                                                      'AreaCalculo']\n",
    "cumplimiento_rentabilidad_por_unidad_negocio_cm2_gu = cumplimiento_rentabilidad_por_unidad_negocio_cm2_gu[\n",
    "    ['Contexto', 'Variable', 'Fecha', 'Real', 'Presupuesto', 'PorcentajeCumplimiento']]\n",
    "\n",
    "cumplimiento_rentabilidad_por_unidad_negocio_cm2_gu.head()"
   ]
  },
  {
   "cell_type": "code",
   "execution_count": null,
   "metadata": {},
   "outputs": [],
   "source": [
    "cumplimiento_rentabilidad_por_unidad_negocio_cm3_gu = rentabilidad_gu[\n",
    "    rentabilidad_gu['ClaseRentabilidad'] == 'CMIII']\n",
    "cumplimiento_rentabilidad_por_unidad_negocio_cm3_gu.drop(columns='ClaseRentabilidad', inplace=True)\n",
    "\n",
    "cumplimiento_rentabilidad_por_unidad_negocio_cm3_gu['Variable'] = 'RentabilidadUnidadNegocioCM3'\n",
    "### Cálculo de resultados cualitativos precargados\n",
    "cumplimiento_rentabilidad_por_unidad_negocio_cm3_gu = dataframe_loader.sobreescribir_resultados_cualitativos(\n",
    "    df_resultados_variables_cualitativas=df_resultados_variables_cualitativas,\n",
    "    main=cumplimiento_rentabilidad_por_unidad_negocio_cm3_gu,\n",
    "    variable='RentabilidadUnidadNegocioCM3',\n",
    "    columnas_extra=['TipoEmpleado', 'AreaCalculo'],\n",
    "    columnas_extra_merge=['TipoEmpleado', 'AreaCalculo'],\n",
    "    pre_merge_lambda=lambda x: x[x['TipoEmpleado'] == 'GU']\n",
    ")\n",
    "###\n",
    "cumplimiento_rentabilidad_por_unidad_negocio_cm3_gu['AreaCalculo'] = \\\n",
    "cumplimiento_rentabilidad_por_unidad_negocio_cm3_gu['AreaCalculo'].astype(int).astype('str')\n",
    "cumplimiento_rentabilidad_por_unidad_negocio_cm3_gu['Contexto'] = 'gu_' + \\\n",
    "                                                                  cumplimiento_rentabilidad_por_unidad_negocio_cm3_gu[\n",
    "                                                                      'AreaCalculo']\n",
    "cumplimiento_rentabilidad_por_unidad_negocio_cm3_gu = cumplimiento_rentabilidad_por_unidad_negocio_cm3_gu[\n",
    "    ['Contexto', 'Variable', 'Fecha', 'Real', 'Presupuesto', 'PorcentajeCumplimiento']]\n",
    "cumplimiento_rentabilidad_por_unidad_negocio_cm3_gu.head()"
   ]
  },
  {
   "cell_type": "markdown",
   "metadata": {
    "datalore": {
     "hide_input_from_viewers": false,
     "hide_output_from_viewers": false,
     "type": "MD"
    }
   },
   "source": [
    "### 9.2. Para MK (RentabilidadUnidadNegocioCM2 y RentabilidadUnidadNegocioCM3)"
   ]
  },
  {
   "cell_type": "code",
   "execution_count": null,
   "metadata": {
    "datalore": {
     "hide_input_from_viewers": false,
     "hide_output_from_viewers": false,
     "type": "CODE"
    }
   },
   "outputs": [],
   "source": [
    "rentabilidad_mk = df_rentabilidad.copy()\n",
    "rentabilidad_mk['TipoEmpleado'] = 'MK'\n",
    "rentabilidad_mk = rentabilidad_mk.merge(\n",
    "    area_calculo_sba_completo[['TipoEmpleado', 'AreaCalculo', 'GrupoProducto', 'SBA']],\n",
    "    on=['TipoEmpleado', 'GrupoProducto', 'SBA'],\n",
    "    how='left'\n",
    ")\n",
    "rentabilidad_mk = rentabilidad_mk.groupby(\n",
    "    ['TipoEmpleado', 'ClaseRentabilidad', 'Fecha', 'AreaCalculo'],\n",
    "    as_index=False\n",
    ").agg({'Real': 'sum', 'Presupuesto': 'sum'})\n",
    "\n",
    "# rentabilidad_mk_sub['Presupuesto'] = rentabilidad_mk_sub.groupby(['ClaseRentabilidad', 'AreaCalculo', 'Consecutivo'])['Presupuesto'].transform(pd.Series.cumsum)\n",
    "# rentabilidad_mk_sub['Real'] = rentabilidad_mk_sub.groupby(['ClaseRentabilidad', 'AreaCalculo', 'Consecutivo'])['Real'].transform(pd.Series.cumsum)\n",
    "rentabilidad_mk['PorcentajeCumplimiento'] = rentabilidad_mk['Real']/rentabilidad_mk['Presupuesto']\n",
    "rentabilidad_mk['PorcentajeCumplimiento'] = rentabilidad_mk['PorcentajeCumplimiento'].apply(lambda x: round(x, 2))\n",
    "\n",
    "cumplimiento_rentabilidad_por_unidad_negocio_cm2_mk = rentabilidad_mk[rentabilidad_mk['ClaseRentabilidad']=='CMII']\n",
    "cumplimiento_rentabilidad_por_unidad_negocio_cm2_mk.drop(columns='ClaseRentabilidad', inplace=True)\n",
    "cumplimiento_rentabilidad_por_unidad_negocio_cm3_mk = rentabilidad_mk[rentabilidad_mk['ClaseRentabilidad']=='CMIII']\n",
    "cumplimiento_rentabilidad_por_unidad_negocio_cm3_mk.drop(columns='ClaseRentabilidad', inplace=True)\n",
    "\n",
    "cumplimiento_rentabilidad_por_unidad_negocio_cm2_mk['Variable'] = 'RentabilidadUnidadNegocioCM2'\n",
    "### Cálculo de resultados cualitativos precargados\n",
    "cumplimiento_rentabilidad_por_unidad_negocio_cm2_mk = dataframe_loader.sobreescribir_resultados_cualitativos(\n",
    "    df_resultados_variables_cualitativas=df_resultados_variables_cualitativas,\n",
    "    main=cumplimiento_rentabilidad_por_unidad_negocio_cm2_mk,\n",
    "    variable='RentabilidadUnidadNegocioCM2',\n",
    "    columnas_extra=['TipoEmpleado', 'AreaCalculo'], \n",
    "    columnas_extra_merge=['TipoEmpleado', 'AreaCalculo'],\n",
    "    pre_merge_lambda=lambda x: x[x['TipoEmpleado'] == 'MK']\n",
    ")\n",
    "###\n",
    "cumplimiento_rentabilidad_por_unidad_negocio_cm2_mk['AreaCalculo'] = cumplimiento_rentabilidad_por_unidad_negocio_cm2_mk['AreaCalculo'].astype(int).astype('str')\n",
    "cumplimiento_rentabilidad_por_unidad_negocio_cm2_mk['Contexto'] = 'mk_' + cumplimiento_rentabilidad_por_unidad_negocio_cm2_mk['AreaCalculo']\n",
    "cumplimiento_rentabilidad_por_unidad_negocio_cm2_mk = cumplimiento_rentabilidad_por_unidad_negocio_cm2_mk[['Contexto', 'Variable', 'Fecha', 'Real', 'Presupuesto', 'PorcentajeCumplimiento']]\n",
    "\n",
    "cumplimiento_rentabilidad_por_unidad_negocio_cm3_mk['Variable'] = 'RentabilidadUnidadNegocioCM3'\n",
    "### Cálculo de resultados cualitativos precargados\n",
    "cumplimiento_rentabilidad_por_unidad_negocio_cm3_mk = dataframe_loader.sobreescribir_resultados_cualitativos(\n",
    "    df_resultados_variables_cualitativas=df_resultados_variables_cualitativas,\n",
    "    main=cumplimiento_rentabilidad_por_unidad_negocio_cm3_mk,\n",
    "    variable='RentabilidadUnidadNegocioCM3',\n",
    "    columnas_extra=['TipoEmpleado', 'AreaCalculo'], \n",
    "    columnas_extra_merge=['TipoEmpleado', 'AreaCalculo'],\n",
    "    pre_merge_lambda=lambda x: x[x['TipoEmpleado'] == 'MK']\n",
    ")\n",
    "###\n",
    "cumplimiento_rentabilidad_por_unidad_negocio_cm3_mk['AreaCalculo'] = cumplimiento_rentabilidad_por_unidad_negocio_cm3_mk['AreaCalculo'].astype(int).astype('str')\n",
    "cumplimiento_rentabilidad_por_unidad_negocio_cm3_mk['Contexto'] = 'mk_' + cumplimiento_rentabilidad_por_unidad_negocio_cm3_mk['AreaCalculo']\n",
    "cumplimiento_rentabilidad_por_unidad_negocio_cm3_mk = cumplimiento_rentabilidad_por_unidad_negocio_cm3_mk[['Contexto', 'Variable', 'Fecha', 'Real', 'Presupuesto', 'PorcentajeCumplimiento']]\n",
    "cumplimiento_rentabilidad_por_unidad_negocio_cm3_mk.head()"
   ]
  },
  {
   "cell_type": "markdown",
   "metadata": {
    "datalore": {
     "hide_input_from_viewers": false,
     "hide_output_from_viewers": false,
     "type": "MD"
    }
   },
   "source": [
    "## 10. Objetivos de rentabilidad por unidad de negocio (RentabilidadUnidadNegocioCM2Sub y RentabilidadUnidadNegocioCM3Sub)"
   ]
  },
  {
   "cell_type": "markdown",
   "metadata": {
    "datalore": {
     "hide_input_from_viewers": false,
     "hide_output_from_viewers": false,
     "type": "MD"
    }
   },
   "source": [
    "### 10.1. Para GU (RentabilidadUnidadNegocioCM2Sub y RentabilidadUnidadNegocioCM3Sub)"
   ]
  },
  {
   "cell_type": "code",
   "execution_count": null,
   "metadata": {},
   "outputs": [],
   "source": [
    "def calculo_porcentaje_cumplimiento(main, variable, tipo_empleado):\n",
    "\n",
    "    main = main.groupby(\n",
    "        ['TipoEmpleado', 'Fecha', 'AreaCalculo', 'Consecutivo', 'Variable'],\n",
    "        as_index=False\n",
    "    ).agg({'Real': 'sum', 'Presupuesto': 'sum'})\n",
    "    \n",
    "    main['PorcentajeCumplimiento'] = (\n",
    "        main['Real']/\n",
    "        main['Presupuesto'])\n",
    "    main['PorcentajeCumplimiento'] = (\n",
    "        main['PorcentajeCumplimiento'].apply(lambda x: round(x, 2))\n",
    "    )\n",
    "    ### Cálculo de resultados cualitativos precargados\n",
    "    main = dataframe_loader.sobreescribir_resultados_cualitativos(\n",
    "        main=main,\n",
    "        df_resultados_variables_cualitativas=df_resultados_variables_cualitativas,\n",
    "        variable=variable,\n",
    "        columnas_extra=['TipoEmpleado', 'AreaCalculo'], \n",
    "        columnas_extra_merge=['TipoEmpleado', 'AreaCalculo'],\n",
    "        pre_merge_lambda=lambda x: x[x['TipoEmpleado'] == tipo_empleado]\n",
    "    )\n",
    "    ###\n",
    "    main['Consecutivo'] = main['Consecutivo'].astype(int).astype('str')\n",
    "    main['AreaCalculo'] = main['AreaCalculo'].astype(int).astype('str')\n",
    "    \n",
    "    main['Contexto'] = tipo_empleado.lower()+'_' + main['AreaCalculo'] + '_' +main['Consecutivo']\n",
    "    main = main[['Contexto', 'Variable', 'Fecha', 'Real', 'Presupuesto', 'PorcentajeCumplimiento']]\n",
    "    return main"
   ]
  },
  {
   "cell_type": "code",
   "execution_count": null,
   "metadata": {},
   "outputs": [],
   "source": [
    "#Calculamos la rentabilidad para GU adicionando toda la info de area_calculo_sba_completo\n",
    "rentabilidad_gu_sub = df_rentabilidad.copy()\n",
    "rentabilidad_gu_sub['TipoEmpleado'] = 'GU'\n",
    "rentabilidad_gu_sub = rentabilidad_gu_sub.merge(\n",
    "    area_calculo_sba_completo[['TipoEmpleado', 'AreaCalculo', 'GrupoProducto', 'Division', 'Consecutivo', 'SBA']],\n",
    "    on=['TipoEmpleado', 'GrupoProducto', 'SBA'],\n",
    "    how='left'\n",
    ")\n",
    "rentabilidad_gu_sub = rentabilidad_gu_sub.groupby(\n",
    "    ['TipoEmpleado', 'ClaseRentabilidad', 'Fecha', 'AreaCalculo', 'GrupoProducto', 'Division', 'Consecutivo'],\n",
    "    as_index=False\n",
    ").agg({'Real': 'sum', 'Presupuesto': 'sum'})\n",
    "rentabilidad_gu_sub"
   ]
  },
  {
   "cell_type": "code",
   "execution_count": null,
   "metadata": {},
   "outputs": [],
   "source": [
    "cumplimiento_rentabilidad_por_unidad_negocio_cm2_gu_centro_costo = (\n",
    "    dataframe_loader.f_calculo_centro_costo_variable_rentabilidad(\n",
    "        main=rentabilidad_gu_sub,\n",
    "        variable='RentabilidadUnidadNegocioCM2',\n",
    "        clase_rentabilidad='CMII', \n",
    "        tipo_empleado='GU'\n",
    "    )\n",
    ")\n",
    "cumplimiento_rentabilidad_por_unidad_negocio_cm2_gu_centro_costo"
   ]
  },
  {
   "cell_type": "code",
   "execution_count": null,
   "metadata": {},
   "outputs": [],
   "source": [
    "cumplimiento_rentabilidad_por_unidad_negocio_cm2_gu_centro_costo[\n",
    "    cumplimiento_rentabilidad_por_unidad_negocio_cm2_gu_centro_costo['Contexto'] == 'gu_2_3'\n",
    "]"
   ]
  },
  {
   "cell_type": "code",
   "execution_count": null,
   "metadata": {},
   "outputs": [],
   "source": [
    "dataframe_loader.validar_calculo_centro_costo(cumplimiento_rentabilidad_por_unidad_negocio_cm2_gu_centro_costo, 'gu_2_3', '2023-03-01')"
   ]
  },
  {
   "cell_type": "code",
   "execution_count": null,
   "metadata": {},
   "outputs": [],
   "source": [
    "cumplimiento_rentabilidad_por_unidad_negocio_cm3_gu_centro_costo = (\n",
    "    dataframe_loader.f_calculo_centro_costo_variable_rentabilidad(\n",
    "        main=rentabilidad_gu_sub,\n",
    "        variable='RentabilidadUnidadNegocioCM3',\n",
    "        clase_rentabilidad='CMIII',\n",
    "        tipo_empleado='GU'\n",
    "    )\n",
    ")\n",
    "cumplimiento_rentabilidad_por_unidad_negocio_cm3_gu_centro_costo"
   ]
  },
  {
   "cell_type": "code",
   "execution_count": null,
   "metadata": {},
   "outputs": [],
   "source": [
    "dataframe_loader.validar_calculo_centro_costo(cumplimiento_rentabilidad_por_unidad_negocio_cm3_gu_centro_costo, 'gu_2_3', '2023-03-01')"
   ]
  },
  {
   "cell_type": "code",
   "execution_count": null,
   "metadata": {},
   "outputs": [],
   "source": [
    "cumplimiento_rentabilidad_por_unidad_negocio_cm2_gu_sub = (\n",
    "    calculo_porcentaje_cumplimiento(cumplimiento_rentabilidad_por_unidad_negocio_cm2_gu_centro_costo, 'RentabilidadUnidadNegocioCM2', 'GU')\n",
    ")\n",
    "cumplimiento_rentabilidad_por_unidad_negocio_cm2_gu_sub.head()"
   ]
  },
  {
   "cell_type": "code",
   "execution_count": null,
   "metadata": {},
   "outputs": [],
   "source": [
    "cumplimiento_rentabilidad_por_unidad_negocio_cm3_gu_sub = (\n",
    "    calculo_porcentaje_cumplimiento(cumplimiento_rentabilidad_por_unidad_negocio_cm3_gu_centro_costo, 'RentabilidadUnidadNegocioCM3', 'GU')\n",
    ")\n",
    "cumplimiento_rentabilidad_por_unidad_negocio_cm3_gu_sub.head()"
   ]
  },
  {
   "cell_type": "code",
   "execution_count": null,
   "metadata": {},
   "outputs": [],
   "source": []
  },
  {
   "cell_type": "code",
   "execution_count": null,
   "metadata": {},
   "outputs": [],
   "source": []
  },
  {
   "cell_type": "markdown",
   "metadata": {
    "datalore": {
     "hide_input_from_viewers": false,
     "hide_output_from_viewers": false,
     "type": "MD"
    }
   },
   "source": [
    "### 10.2. Para MK (RentabilidadUnidadNegocioCM2Sub y RentabilidadUnidadNegocioCM3Sub)"
   ]
  },
  {
   "cell_type": "code",
   "execution_count": null,
   "metadata": {},
   "outputs": [],
   "source": []
  },
  {
   "cell_type": "code",
   "execution_count": null,
   "metadata": {},
   "outputs": [],
   "source": [
    "#Calculamos la rentabilidad para MK adicionando toda la info de area_calculo_sba_completo\n",
    "rentabilidad_mk_sub = df_rentabilidad.copy()\n",
    "rentabilidad_mk_sub['TipoEmpleado'] = 'MK'\n",
    "rentabilidad_mk_sub = rentabilidad_mk_sub.merge(\n",
    "    area_calculo_sba_completo[['TipoEmpleado', 'AreaCalculo', 'GrupoProducto', 'Division', 'Consecutivo', 'SBA']],\n",
    "    on=['TipoEmpleado', 'GrupoProducto', 'SBA'],\n",
    "    how='left'\n",
    ")\n",
    "rentabilidad_mk_sub = rentabilidad_mk_sub.groupby(\n",
    "    ['TipoEmpleado', 'ClaseRentabilidad', 'Fecha', 'AreaCalculo', 'GrupoProducto', 'Division','Consecutivo'],\n",
    "    as_index=False\n",
    ").agg({'Real': 'sum', 'Presupuesto': 'sum'})\n",
    "rentabilidad_mk_sub"
   ]
  },
  {
   "cell_type": "code",
   "execution_count": null,
   "metadata": {},
   "outputs": [],
   "source": [
    "cumplimiento_rentabilidad_por_unidad_negocio_cm2_mk_centro_costo = (\n",
    "    dataframe_loader.f_calculo_centro_costo_variable_rentabilidad(\n",
    "        main=rentabilidad_mk_sub,\n",
    "        variable='RentabilidadUnidadNegocioCM2',\n",
    "        clase_rentabilidad='CMII',\n",
    "        tipo_empleado='MK'\n",
    "    )\n",
    ")\n",
    "cumplimiento_rentabilidad_por_unidad_negocio_cm2_mk_centro_costo"
   ]
  },
  {
   "cell_type": "code",
   "execution_count": null,
   "metadata": {},
   "outputs": [],
   "source": [
    "cumplimiento_rentabilidad_por_unidad_negocio_cm3_mk_centro_costo = (\n",
    "    dataframe_loader.f_calculo_centro_costo_variable_rentabilidad(\n",
    "        main=rentabilidad_mk_sub,\n",
    "        variable='RentabilidadUnidadNegocioCM3',\n",
    "        clase_rentabilidad='CMIII',\n",
    "        tipo_empleado='MK'\n",
    "    )\n",
    ")\n",
    "cumplimiento_rentabilidad_por_unidad_negocio_cm3_mk_centro_costo"
   ]
  },
  {
   "cell_type": "code",
   "execution_count": null,
   "metadata": {},
   "outputs": [],
   "source": [
    "cumplimiento_rentabilidad_por_unidad_negocio_cm2_mk_sub = (\n",
    "    calculo_porcentaje_cumplimiento(cumplimiento_rentabilidad_por_unidad_negocio_cm2_mk_centro_costo, 'RentabilidadUnidadNegocioCM2', 'MK')\n",
    ")\n",
    "cumplimiento_rentabilidad_por_unidad_negocio_cm2_mk_sub.head()"
   ]
  },
  {
   "cell_type": "code",
   "execution_count": null,
   "metadata": {},
   "outputs": [],
   "source": [
    "cumplimiento_rentabilidad_por_unidad_negocio_cm3_mk_sub = (\n",
    "    calculo_porcentaje_cumplimiento(cumplimiento_rentabilidad_por_unidad_negocio_cm3_mk_centro_costo, 'RentabilidadUnidadNegocioCM3', 'MK')\n",
    ")\n",
    "cumplimiento_rentabilidad_por_unidad_negocio_cm3_mk_sub.head()"
   ]
  },
  {
   "cell_type": "markdown",
   "metadata": {
    "datalore": {
     "hide_input_from_viewers": false,
     "hide_output_from_viewers": false,
     "type": "MD"
    }
   },
   "source": [
    "## 11. Objetivos de recaudo por división (VentaCobradaDivision)"
   ]
  },
  {
   "cell_type": "code",
   "execution_count": null,
   "metadata": {
    "datalore": {
     "hide_input_from_viewers": false,
     "hide_output_from_viewers": false,
     "type": "CODE"
    }
   },
   "outputs": [],
   "source": [
    "recaudo_real_por_division = df_venta_recaudo_real[['Division', 'Fecha', 'Recaudo']]\n",
    "recaudo_real_por_division = recaudo_real_por_division.groupby(['Division', 'Fecha'], as_index=False).agg({'Recaudo': 'sum'})\n",
    "recaudo_real_por_division['Real'] = recaudo_real_por_division['Recaudo']\n",
    "recaudo_real_por_division.drop(columns=['Recaudo'], inplace=True)\n",
    "recaudo_real_por_division\n",
    "\n",
    "recaudo_presupuesto_por_division = df_venta_recaudo_presupuesto[['Division', 'Fecha', 'Recaudo']]\n",
    "recaudo_presupuesto_por_division = recaudo_presupuesto_por_division.groupby(['Division', 'Fecha'], as_index=False).agg({'Recaudo': 'sum'})\n",
    "recaudo_presupuesto_por_division['Presupuesto'] = recaudo_presupuesto_por_division['Recaudo']\n",
    "recaudo_presupuesto_por_division.drop(columns=['Recaudo'], inplace=True)\n",
    "recaudo_presupuesto_por_division\n",
    "\n",
    "cumplimiento_recaudo_por_division = pd.merge(\n",
    "    left=recaudo_presupuesto_por_division,\n",
    "    right=recaudo_real_por_division,\n",
    "    on=['Division', 'Fecha'],\n",
    "    how='left'\n",
    ")\n",
    "cumplimiento_recaudo_por_division['Real'].fillna(0.0, inplace=True)\n",
    "cumplimiento_recaudo_por_division['Real'] = cumplimiento_recaudo_por_division.groupby(['Division'])['Real'].transform(pd.Series.cumsum)\n",
    "cumplimiento_recaudo_por_division['Presupuesto'] = cumplimiento_recaudo_por_division.groupby(['Division'])['Presupuesto'].transform(pd.Series.cumsum)\n",
    "cumplimiento_recaudo_por_division['PorcentajeCumplimiento'] = cumplimiento_recaudo_por_division['Real'] / cumplimiento_recaudo_por_division['Presupuesto']\n",
    "cumplimiento_recaudo_por_division['PorcentajeCumplimiento'] = cumplimiento_recaudo_por_division['PorcentajeCumplimiento'].apply(lambda x: round(x, 2))\n",
    "\n",
    "cumplimiento_recaudo_por_division['Contexto'] = cumplimiento_recaudo_por_division['Division']\n",
    "cumplimiento_recaudo_por_division['Variable'] = 'VentaCobradaDivision'\n",
    "cumplimiento_recaudo_por_division = cumplimiento_recaudo_por_division[['Contexto', 'Variable', 'Fecha', 'Real', 'Presupuesto', 'PorcentajeCumplimiento']]\n",
    "cumplimiento_recaudo_por_division.head()"
   ]
  },
  {
   "cell_type": "markdown",
   "metadata": {
    "datalore": {
     "hide_input_from_viewers": false,
     "hide_output_from_viewers": false,
     "type": "MD"
    }
   },
   "source": [
    "## 12. Objetivos de recaudo por division con consecutivos (VentaCobradaDivisionSub)"
   ]
  },
  {
   "cell_type": "code",
   "execution_count": null,
   "metadata": {},
   "outputs": [],
   "source": [
    "area_calculo_sba_completo_renal_vc_gd = area_calculo_sba_completo[\n",
    "    (\n",
    "        (area_calculo_sba_completo['TipoEmpleado'] == 'VC') &\n",
    "        (area_calculo_sba_completo['Consecutivo'] == 1) &\n",
    "        (area_calculo_sba_completo['AreaCalculo'] == 5) \n",
    "    ) \n",
    "    |\n",
    "    (\n",
    "        (area_calculo_sba_completo['TipoEmpleado'] == 'GD') &\n",
    "        (area_calculo_sba_completo['Consecutivo'] == 5) &\n",
    "        (area_calculo_sba_completo['AreaCalculo'] == 3) \n",
    "    )\n",
    "]\n",
    "\n",
    "area_calculo_sba_completo_renal_vc_gd"
   ]
  },
  {
   "cell_type": "code",
   "execution_count": null,
   "metadata": {},
   "outputs": [],
   "source": [
    "df_merged = area_calculo_sba_completo.merge(\n",
    "    area_calculo_sba_completo_renal_vc_gd,\n",
    "    how='left',\n",
    "    indicator=True\n",
    ").drop_duplicates()\n",
    "\n",
    "area_calculo_sba_completo_without_renal = df_merged[df_merged['_merge'] == 'left_only']\n",
    "area_calculo_sba_completo_without_renal"
   ]
  },
  {
   "cell_type": "code",
   "execution_count": null,
   "metadata": {},
   "outputs": [],
   "source": [
    "area_calculo_sba_completo_with_renal = df_merged[df_merged['_merge'] == 'both']\n",
    "area_calculo_sba_completo_with_renal"
   ]
  },
  {
   "cell_type": "markdown",
   "metadata": {
    "datalore": {
     "hide_input_from_viewers": false,
     "hide_output_from_viewers": false,
     "type": "MD"
    }
   },
   "source": [
    "### 12.1. Para MK (VentaCobradaDivisionSub)"
   ]
  },
  {
   "cell_type": "code",
   "execution_count": null,
   "metadata": {},
   "outputs": [],
   "source": [
    "\n"
   ]
  },
  {
   "cell_type": "code",
   "execution_count": null,
   "metadata": {
    "datalore": {
     "hide_input_from_viewers": false,
     "hide_output_from_viewers": false,
     "type": "CODE"
    }
   },
   "outputs": [],
   "source": [
    "cumplimiento_recaudo_por_division_sub_mk = pd.merge(\n",
    "    left=recaudo_presupuesto_area_calculo_mk_sub,\n",
    "    right=recaudo_real_area_calculo_mk_sub,\n",
    "    on=['AreaCalculo', 'Consecutivo', 'Fecha', 'Division', 'GrupoProducto'],\n",
    "    how='left'\n",
    ")\n",
    "cumplimiento_recaudo_por_division_sub_mk['Real'].fillna(0.0, inplace=True)\n",
    "cumplimiento_recaudo_por_division_sub_mk"
   ]
  },
  {
   "cell_type": "code",
   "execution_count": null,
   "metadata": {},
   "outputs": [],
   "source": [
    "cumplimiento_recaudo_por_division_sub_mk_centro_costo = (\n",
    "    dataframe_loader.f_calculo_centro_costo_variable_division_sub(\n",
    "        main=cumplimiento_recaudo_por_division_sub_mk, \n",
    "        variable='VentaCobradaDivisionSub', \n",
    "        tipo_empleado='MK'\n",
    "    )\n",
    ")\n",
    "cumplimiento_recaudo_por_division_sub_mk_centro_costo"
   ]
  },
  {
   "cell_type": "code",
   "execution_count": null,
   "metadata": {},
   "outputs": [],
   "source": []
  },
  {
   "cell_type": "code",
   "execution_count": null,
   "metadata": {},
   "outputs": [],
   "source": [
    "cumplimiento_recaudo_por_division_sub_mk_centro_costo[\n",
    "    (cumplimiento_recaudo_por_division_sub_mk_centro_costo['Contexto'] == 'mk_9_3') &\n",
    "    (cumplimiento_recaudo_por_division_sub_mk_centro_costo['Fecha'] == '2023-01-01')\n",
    "]"
   ]
  },
  {
   "cell_type": "code",
   "execution_count": null,
   "metadata": {},
   "outputs": [],
   "source": [
    "cumplimiento_recaudo_por_division_sub_mk_centro_costo[\n",
    "    (cumplimiento_recaudo_por_division_sub_mk_centro_costo['Contexto'] == 'mk_9_3') &\n",
    "    (cumplimiento_recaudo_por_division_sub_mk_centro_costo['Fecha'] == '2023-01-01')\n",
    "].groupby(['AreaCalculo', 'Consecutivo', 'Variable'])['Real'].transform(pd.Series.cumsum)"
   ]
  },
  {
   "cell_type": "code",
   "execution_count": null,
   "metadata": {},
   "outputs": [],
   "source": [
    "cumplimiento_recaudo_por_division_sub_mk_centro_costo[\n",
    "    (cumplimiento_recaudo_por_division_sub_mk_centro_costo['Contexto'] == 'mk_1_2') &\n",
    "    (cumplimiento_recaudo_por_division_sub_mk_centro_costo['Fecha'] == '2023-01-01')\n",
    "].groupby(['AreaCalculo', 'Consecutivo', 'Variable'])['Presupuesto'].transform(pd.Series.cumsum)"
   ]
  },
  {
   "cell_type": "code",
   "execution_count": null,
   "metadata": {},
   "outputs": [],
   "source": [
    "dataframe_loader.validar_calculo_centro_costo(\n",
    "    main=cumplimiento_recaudo_por_division_sub_mk_centro_costo,\n",
    "    contexto='mk_1_2', \n",
    "    fecha='2023-01-01'\n",
    ")"
   ]
  },
  {
   "cell_type": "code",
   "execution_count": null,
   "metadata": {},
   "outputs": [],
   "source": [
    "dataframe_loader.validar_calculo_centro_costo(\n",
    "    main=cumplimiento_recaudo_por_division_sub_mk_centro_costo,\n",
    "    contexto='mk_9_3',\n",
    "    fecha='2023-01-01'\n",
    ")"
   ]
  },
  {
   "cell_type": "code",
   "execution_count": null,
   "metadata": {},
   "outputs": [],
   "source": [
    "cumplimiento_recaudo_por_division_sub_mk = cumplimiento_recaudo_por_division_sub_mk.groupby(['AreaCalculo', 'Consecutivo', 'Fecha'], as_index=False)[['Real', 'Presupuesto']].apply(sum)\n",
    "cumplimiento_recaudo_por_division_sub_mk['Real'] = cumplimiento_recaudo_por_division_sub_mk.groupby(['AreaCalculo', 'Consecutivo'])['Real'].transform(pd.Series.cumsum)\n",
    "cumplimiento_recaudo_por_division_sub_mk['Presupuesto'] = cumplimiento_recaudo_por_division_sub_mk.groupby(['AreaCalculo', 'Consecutivo'])['Presupuesto'].transform(pd.Series.cumsum)\n",
    "cumplimiento_recaudo_por_division_sub_mk['PorcentajeCumplimiento'] = cumplimiento_recaudo_por_division_sub_mk['Real'] / cumplimiento_recaudo_por_division_sub_mk['Presupuesto']\n",
    "cumplimiento_recaudo_por_division_sub_mk['PorcentajeCumplimiento'] = cumplimiento_recaudo_por_division_sub_mk['PorcentajeCumplimiento'].apply(lambda x: round(x, 2))\n",
    "cumplimiento_recaudo_por_division_sub_mk['Variable'] = 'VentaCobradaDivisionSub'\n",
    "\n",
    "### Cálculo de resultados cualitativos precargados\n",
    "cumplimiento_recaudo_por_division_sub_mk = dataframe_loader.sobreescribir_resultados_cualitativos(\n",
    "    main=cumplimiento_recaudo_por_division_sub_mk,\n",
    "    df_resultados_variables_cualitativas=df_resultados_variables_cualitativas,\n",
    "    variable='VentaCobradaDivisionSub',\n",
    "    columnas_extra=['TipoEmpleado', 'AreaCalculo', 'Consecutivo'], \n",
    "    columnas_extra_merge=['AreaCalculo', 'Consecutivo'],\n",
    "    pre_merge_lambda=lambda x: x[x['TipoEmpleado'] == 'MK'].drop(columns=['TipoEmpleado'])\n",
    ")\n",
    "###\n",
    "\n",
    "cumplimiento_recaudo_por_division_sub_mk['Contexto'] = 'mk_' + cumplimiento_recaudo_por_division_sub_mk['AreaCalculo'].astype('str').str.cat(cumplimiento_recaudo_por_division_sub_mk['Consecutivo'].astype('str'), sep=\"_\")\n",
    "cumplimiento_recaudo_por_division_sub_mk = cumplimiento_recaudo_por_division_sub_mk[['Contexto', 'Variable', 'Fecha', 'Real', 'Presupuesto', 'PorcentajeCumplimiento']]\n",
    "\n",
    "cumplimiento_recaudo_por_division_sub_mk.head()"
   ]
  },
  {
   "cell_type": "code",
   "execution_count": null,
   "metadata": {},
   "outputs": [],
   "source": [
    "cumplimiento_recaudo_por_division_sub_mk[\n",
    "    (cumplimiento_recaudo_por_division_sub_mk['Contexto'] == 'mk_9_3') &\n",
    "    (cumplimiento_recaudo_por_division_sub_mk['Fecha'] == '2023-01-01')\n",
    "]"
   ]
  },
  {
   "cell_type": "code",
   "execution_count": null,
   "metadata": {},
   "outputs": [],
   "source": [
    "cumplimiento_recaudo_por_division_sub_mk[\n",
    "    (cumplimiento_recaudo_por_division_sub_mk['Contexto'] == 'mk_9_1') &\n",
    "    (cumplimiento_recaudo_por_division_sub_mk['Fecha'] == '2023-01-01')\n",
    "]"
   ]
  },
  {
   "cell_type": "code",
   "execution_count": null,
   "metadata": {},
   "outputs": [],
   "source": [
    "cumplimiento_recaudo_por_division_sub_mk[\n",
    "    (cumplimiento_recaudo_por_division_sub_mk['Contexto'] == 'mk_7_3') &\n",
    "    (cumplimiento_recaudo_por_division_sub_mk['Fecha'] == '2023-01-01')\n",
    "]"
   ]
  },
  {
   "cell_type": "code",
   "execution_count": null,
   "metadata": {},
   "outputs": [],
   "source": [
    "cumplimiento_recaudo_por_division_sub_mk[\n",
    "    (cumplimiento_recaudo_por_division_sub_mk['Contexto'].str.contains('mk_1_1')) &\n",
    "    (cumplimiento_recaudo_por_division_sub_mk['Fecha'] == '2023-01-01')\n",
    "]"
   ]
  },
  {
   "cell_type": "code",
   "execution_count": null,
   "metadata": {
    "datalore": {
     "hide_input_from_viewers": false,
     "hide_output_from_viewers": false,
     "type": "CODE"
    }
   },
   "outputs": [],
   "source": [
    "cumplimiento_recaudo_otras_companias_mk = pd.merge(\n",
    "    left=area_calculo_sba_completo_mk,\n",
    "    right=df_recaudo_otras_companias.rename(columns={'Compania': 'Division'}),\n",
    "    on=['Division']\n",
    ")\n",
    "cumplimiento_recaudo_otras_companias_mk['PorcentajeCumplimiento'] = cumplimiento_recaudo_otras_companias_mk['Real']/cumplimiento_recaudo_otras_companias_mk['Presupuesto']\n",
    "cumplimiento_recaudo_otras_companias_mk['PorcentajeCumplimiento'] = cumplimiento_recaudo_otras_companias_mk['PorcentajeCumplimiento'].apply(lambda x: round(x, 2))\n",
    "cumplimiento_recaudo_otras_companias_mk['Variable'] = 'VentaCobradaDivisionSub'\n",
    "cumplimiento_recaudo_otras_companias_mk['Contexto'] = 'mk_' + cumplimiento_recaudo_otras_companias_mk['AreaCalculo'].astype('str').str.cat(cumplimiento_recaudo_otras_companias_mk['Consecutivo'].astype('str'), sep=\"_\")\n",
    "cumplimiento_recaudo_otras_companias_mk = cumplimiento_recaudo_otras_companias_mk[['Contexto', 'Variable', 'Fecha', 'Real', 'Presupuesto', 'PorcentajeCumplimiento']]\n",
    "\n",
    "cumplimiento_recaudo_otras_companias_mk.head()"
   ]
  },
  {
   "cell_type": "markdown",
   "metadata": {
    "datalore": {
     "hide_input_from_viewers": false,
     "hide_output_from_viewers": false,
     "type": "MD"
    }
   },
   "source": [
    "### 12.2. Para GD (VentaCobradaDivisionSub)"
   ]
  },
  {
   "cell_type": "markdown",
   "metadata": {},
   "source": [
    "#### Cálculo sin Renal Ambulatorio"
   ]
  },
  {
   "cell_type": "code",
   "execution_count": null,
   "metadata": {},
   "outputs": [],
   "source": [
    "# area_calculo_sba_completo_gd = area_calculo_sba_completo[area_calculo_sba_completo['TipoEmpleado']=='GD']\n",
    "area_calculo_sba_completo_gd = area_calculo_sba_completo_without_renal[area_calculo_sba_completo_without_renal['TipoEmpleado']=='GD']\n",
    "area_calculo_sba_completo_gd"
   ]
  },
  {
   "cell_type": "code",
   "execution_count": null,
   "metadata": {},
   "outputs": [],
   "source": [
    "#Se halla la informacion de la venta y recaudo real de los representantes de ventas de los GD\n",
    "venta_recaudo_presupuesto_original_gd_real = area_calculo_sba_completo_gd.merge(\n",
    "    df_venta_recaudo_real[['Division', 'GrupoProducto', 'SBA', 'Fecha', 'Venta', 'Recaudo']],\n",
    "    on=['Division', 'GrupoProducto', 'SBA']\n",
    ")\n",
    "\n",
    "#Se halla la informacion de la venta y recaudo presupuesto de los representantes de ventas de los GD\n",
    "venta_recaudo_presupuesto_original_gd_presupuesto = area_calculo_sba_completo_gd.merge(\n",
    "    df_venta_recaudo_presupuesto[['Division', 'GrupoProducto', 'SBA', 'Fecha', 'Venta', 'Recaudo']],\n",
    "    on=['Division', 'GrupoProducto', 'SBA']\n",
    ")\n",
    "\n",
    "venta_recaudo_real_area_calculo_gd = venta_recaudo_presupuesto_original_gd_real.groupby(['AreaCalculo', 'Consecutivo', 'GrupoProducto', 'Division', 'Fecha'], as_index=False).agg({'Recaudo': 'sum'})\n",
    "venta_recaudo_real_area_calculo_gd['Real'] = venta_recaudo_real_area_calculo_gd['Recaudo']\n",
    "venta_recaudo_real_area_calculo_gd.drop(columns=['Recaudo'], inplace=True)\n",
    "\n",
    "venta_recaudo_presupuesto_area_calculo_gd = venta_recaudo_presupuesto_original_gd_presupuesto.groupby(['AreaCalculo', 'Consecutivo', 'GrupoProducto', 'Division', 'Fecha'], as_index=False).agg({'Recaudo': 'sum'})\n",
    "venta_recaudo_presupuesto_area_calculo_gd['Presupuesto'] = venta_recaudo_presupuesto_area_calculo_gd['Recaudo']\n",
    "venta_recaudo_presupuesto_area_calculo_gd.drop(columns=['Recaudo'], inplace=True)\n",
    "\n",
    "cumplimiento_recaudo_por_division_sub_gd = pd.merge(\n",
    "    left=venta_recaudo_presupuesto_area_calculo_gd,\n",
    "    right=venta_recaudo_real_area_calculo_gd,\n",
    "    on=['AreaCalculo', 'Consecutivo', 'GrupoProducto', 'Division', 'Fecha'],\n",
    "    how='left'\n",
    ")\n",
    "cumplimiento_recaudo_por_division_sub_gd"
   ]
  },
  {
   "cell_type": "code",
   "execution_count": null,
   "metadata": {},
   "outputs": [],
   "source": [
    "cumplimiento_recaudo_por_division_sub_gd_centro_costo = (\n",
    "    dataframe_loader.f_calculo_centro_costo_variable_division_sub(\n",
    "        main=cumplimiento_recaudo_por_division_sub_gd,\n",
    "        variable='VentaCobradaDivisionSub',\n",
    "        tipo_empleado='GD'\n",
    "    )\n",
    ")\n",
    "cumplimiento_recaudo_por_division_sub_gd_centro_costo"
   ]
  },
  {
   "cell_type": "code",
   "execution_count": null,
   "metadata": {},
   "outputs": [],
   "source": [
    "cumplimiento_recaudo_por_division_sub_gd = cumplimiento_recaudo_por_division_sub_gd.groupby(['AreaCalculo', 'Consecutivo', 'Fecha'], as_index=False)[['Real', 'Presupuesto']].apply(sum)\n",
    "cumplimiento_recaudo_por_division_sub_gd['Real'].fillna(0.0, inplace=True)\n",
    "cumplimiento_recaudo_por_division_sub_gd['Real'] = cumplimiento_recaudo_por_division_sub_gd.groupby(['AreaCalculo', 'Consecutivo'])['Real'].transform(pd.Series.cumsum)\n",
    "cumplimiento_recaudo_por_division_sub_gd['Presupuesto'] = cumplimiento_recaudo_por_division_sub_gd.groupby(['AreaCalculo', 'Consecutivo'])['Presupuesto'].transform(pd.Series.cumsum)\n",
    "cumplimiento_recaudo_por_division_sub_gd['PorcentajeCumplimiento'] = cumplimiento_recaudo_por_division_sub_gd['Real'] / cumplimiento_recaudo_por_division_sub_gd['Presupuesto']\n",
    "cumplimiento_recaudo_por_division_sub_gd['PorcentajeCumplimiento'] = cumplimiento_recaudo_por_division_sub_gd['PorcentajeCumplimiento'].apply(lambda x: round(x, 2))\n",
    "cumplimiento_recaudo_por_division_sub_gd['Variable'] = 'VentaCobradaDivisionSub'\n",
    "\n",
    "### Cálculo de resultados cualitativos precargados\n",
    "cumplimiento_recaudo_por_division_sub_gd = dataframe_loader.sobreescribir_resultados_cualitativos(\n",
    "    main=cumplimiento_recaudo_por_division_sub_gd,\n",
    "    df_resultados_variables_cualitativas=df_resultados_variables_cualitativas,\n",
    "    variable='VentaCobradaDivisionSub',\n",
    "    columnas_extra=['TipoEmpleado', 'AreaCalculo', 'Consecutivo'], \n",
    "    columnas_extra_merge=['AreaCalculo', 'Consecutivo'],\n",
    "    pre_merge_lambda=lambda x: x[x['TipoEmpleado'] == 'GD'].drop(columns=['TipoEmpleado'])\n",
    ")\n",
    "###\n",
    "\n",
    "cumplimiento_recaudo_por_division_sub_gd['Contexto'] = 'gd_' + cumplimiento_recaudo_por_division_sub_gd['AreaCalculo'].astype('str').str.cat(cumplimiento_recaudo_por_division_sub_gd['Consecutivo'].astype('str'), sep=\"_\")\n",
    "cumplimiento_recaudo_por_division_sub_gd = cumplimiento_recaudo_por_division_sub_gd[['Contexto', 'Variable', 'Fecha', 'Real', 'Presupuesto', 'PorcentajeCumplimiento']]\n",
    "cumplimiento_recaudo_por_division_sub_gd"
   ]
  },
  {
   "cell_type": "markdown",
   "metadata": {},
   "source": [
    "#### Cálculo con Renal Ambulatorio"
   ]
  },
  {
   "cell_type": "code",
   "execution_count": null,
   "metadata": {},
   "outputs": [],
   "source": [
    "area_calculo_sba_completo_gd_with_renal = area_calculo_sba_completo_with_renal[area_calculo_sba_completo_with_renal['TipoEmpleado']=='GD']\n",
    "area_calculo_sba_completo_gd_with_renal"
   ]
  },
  {
   "cell_type": "code",
   "execution_count": null,
   "metadata": {},
   "outputs": [],
   "source": [
    "df_renal_ambulatorio_gd = df_renal_ambulatorio[df_renal_ambulatorio['TipoEmpleado'] == 'GD']\n",
    "df_renal_ambulatorio_gd"
   ]
  },
  {
   "cell_type": "code",
   "execution_count": null,
   "metadata": {},
   "outputs": [],
   "source": [
    "area_calculo_sba_completo_gd_with_renal"
   ]
  },
  {
   "cell_type": "code",
   "execution_count": null,
   "metadata": {},
   "outputs": [],
   "source": [
    "renal_ambulatorio_gd = df_renal_ambulatorio_gd.merge(\n",
    "    area_calculo_sba_completo_gd_with_renal,\n",
    "    on=['TipoEmpleado'],\n",
    "    how='left'\n",
    ")\n",
    "renal_ambulatorio_gd"
   ]
  },
  {
   "cell_type": "code",
   "execution_count": null,
   "metadata": {},
   "outputs": [],
   "source": [
    "# Calcular\n",
    "\n",
    "main = renal_ambulatorio_gd.rename(columns={'PlanVentaCobradaRenal': 'Presupuesto', 'RealVentaCobradaRenal': 'Real'})\n",
    "\n",
    "main['Contexto'] = 'gd_' + main['AreaCalculo'].astype('str').str.cat(main['Consecutivo'].astype('str'), sep=\"_\")\n",
    "\n",
    "# main['Contexto'] = main['CodigoEmpleado']\n",
    "\n",
    "main = main.groupby(['Contexto', 'Fecha'], as_index=False)[['Real', 'Presupuesto']].apply(sum)\n",
    "main['Real'] = main.groupby(['Contexto'])['Real'].transform(pd.Series.cumsum)\n",
    "main['Presupuesto'] = main.groupby(['Contexto'])['Presupuesto'].transform(pd.Series.cumsum)\n",
    "main['PorcentajeCumplimiento'] = (main['Real']/main['Presupuesto']).apply(lambda x: round(x, 2))\n",
    "main['Variable'] = 'VentaCobradaDivisionSub'\n",
    "\n",
    "\n",
    "#Formatear\n",
    "main.reset_index(inplace=True)\n",
    "main = main[['Contexto', 'Variable', 'Fecha', 'Real','Presupuesto', 'PorcentajeCumplimiento']]\n",
    "\n",
    "\n",
    "cumplimiento_recaudo_por_division_sub_gd = pd.concat(\n",
    "    [\n",
    "        cumplimiento_recaudo_por_division_sub_gd.copy(),\n",
    "        main.copy()\n",
    "    ],\n",
    "    ignore_index=True\n",
    ")\n",
    "\n",
    "\n",
    "main = None\n",
    "cumplimiento_recaudo_por_division_sub_gd"
   ]
  },
  {
   "cell_type": "code",
   "execution_count": null,
   "metadata": {},
   "outputs": [],
   "source": []
  },
  {
   "cell_type": "code",
   "execution_count": null,
   "metadata": {
    "datalore": {
     "hide_input_from_viewers": false,
     "hide_output_from_viewers": false,
     "type": "CODE"
    }
   },
   "outputs": [],
   "source": [
    "cumplimiento_recaudo_otras_companias_gd = pd.merge(\n",
    "    left=area_calculo_sba_completo_gd,\n",
    "    right=df_recaudo_otras_companias.rename(columns={'Compania': 'Division'}),\n",
    "    on=['Division']\n",
    ")\n",
    "cumplimiento_recaudo_otras_companias_gd['PorcentajeCumplimiento'] = cumplimiento_recaudo_otras_companias_gd['Real']/cumplimiento_recaudo_otras_companias_gd['Presupuesto']\n",
    "cumplimiento_recaudo_otras_companias_gd['PorcentajeCumplimiento'] = cumplimiento_recaudo_otras_companias_gd['PorcentajeCumplimiento'].apply(lambda x: round(x, 2))\n",
    "cumplimiento_recaudo_otras_companias_gd['Contexto'] = 'gd_' + cumplimiento_recaudo_otras_companias_gd['AreaCalculo'].astype('str').str.cat(cumplimiento_recaudo_otras_companias_gd['Consecutivo'].astype('str'), sep=\"_\")\n",
    "cumplimiento_recaudo_otras_companias_gd['Variable'] = 'VentaCobradaDivisionSub'\n",
    "cumplimiento_recaudo_otras_companias_gd = cumplimiento_recaudo_otras_companias_gd[['Contexto', 'Variable', 'Fecha', 'Real', 'Presupuesto', 'PorcentajeCumplimiento']]\n",
    "\n",
    "cumplimiento_recaudo_otras_companias_gd.head()"
   ]
  },
  {
   "cell_type": "markdown",
   "metadata": {
    "datalore": {
     "hide_input_from_viewers": false,
     "hide_output_from_viewers": false,
     "type": "MD"
    }
   },
   "source": [
    "### 12.3. Para AD (VentaCobradaDivisionSub)"
   ]
  },
  {
   "cell_type": "code",
   "execution_count": null,
   "metadata": {
    "datalore": {
     "hide_input_from_viewers": false,
     "hide_output_from_viewers": false,
     "type": "CODE"
    }
   },
   "outputs": [],
   "source": [
    "area_calculo_sba_completo_ad = area_calculo_sba_completo[area_calculo_sba_completo['TipoEmpleado']=='AD']\n",
    "\n",
    "#Se halla la informacion de la venta y recaudo real de los representantes de ventas de los AD\n",
    "venta_recaudo_presupuesto_original_ad_real = area_calculo_sba_completo_ad.merge(\n",
    "    df_venta_recaudo_real[['Division', 'GrupoProducto', 'SBA', 'Fecha', 'Venta', 'Recaudo']],\n",
    "    on=['Division', 'GrupoProducto', 'SBA']\n",
    ")\n",
    "\n",
    "#Se halla la informacion de la venta y recaudo presupuesto de los representantes de ventas de los AD\n",
    "venta_recaudo_presupuesto_original_ad_presupuesto = area_calculo_sba_completo_ad.merge(\n",
    "    df_venta_recaudo_presupuesto[['Division', 'GrupoProducto', 'SBA', 'Fecha', 'Venta', 'Recaudo']],\n",
    "    on=['Division', 'GrupoProducto', 'SBA']\n",
    ")\n",
    "\n",
    "venta_recaudo_real_area_calculo_ad = venta_recaudo_presupuesto_original_ad_real.groupby(['AreaCalculo', 'Consecutivo', 'Fecha'], as_index=False).agg({'Recaudo': 'sum'})\n",
    "venta_recaudo_real_area_calculo_ad['Real'] = venta_recaudo_real_area_calculo_ad['Recaudo']\n",
    "venta_recaudo_real_area_calculo_ad.drop(columns=['Recaudo'], inplace=True)\n",
    "\n",
    "venta_recaudo_presupuesto_area_calculo_ad = venta_recaudo_presupuesto_original_ad_presupuesto.groupby(['AreaCalculo', 'Consecutivo', 'Fecha'], as_index=False).agg({'Recaudo': 'sum'})\n",
    "venta_recaudo_presupuesto_area_calculo_ad['Presupuesto'] = venta_recaudo_presupuesto_area_calculo_ad['Recaudo']\n",
    "venta_recaudo_presupuesto_area_calculo_ad.drop(columns=['Recaudo'], inplace=True)\n",
    "\n",
    "cumplimiento_recaudo_por_division_sub_ad = pd.merge(\n",
    "    left=venta_recaudo_presupuesto_area_calculo_ad,\n",
    "    right=venta_recaudo_real_area_calculo_ad,\n",
    "    on=['AreaCalculo', 'Consecutivo', 'Fecha'],\n",
    "    how='left'\n",
    ")\n",
    "cumplimiento_recaudo_por_division_sub_ad['Real'].fillna(0.0, inplace=True)\n",
    "cumplimiento_recaudo_por_division_sub_ad['Real'] = cumplimiento_recaudo_por_division_sub_ad.groupby(['AreaCalculo', 'Consecutivo'])['Real'].transform(pd.Series.cumsum)\n",
    "cumplimiento_recaudo_por_division_sub_ad['Presupuesto'] = cumplimiento_recaudo_por_division_sub_ad.groupby(['AreaCalculo', 'Consecutivo'])['Presupuesto'].transform(pd.Series.cumsum)\n",
    "cumplimiento_recaudo_por_division_sub_ad['PorcentajeCumplimiento'] = cumplimiento_recaudo_por_division_sub_ad['Real'] / cumplimiento_recaudo_por_division_sub_ad['Presupuesto']\n",
    "cumplimiento_recaudo_por_division_sub_ad['PorcentajeCumplimiento'] = cumplimiento_recaudo_por_division_sub_ad['PorcentajeCumplimiento'].apply(lambda x: round(x, 2))\n",
    "cumplimiento_recaudo_por_division_sub_ad['Variable'] = 'VentaCobradaDivisionSub'\n",
    "\n",
    "### Cálculo de resultados cualitativos precargados\n",
    "cumplimiento_recaudo_por_division_sub_ad = dataframe_loader.sobreescribir_resultados_cualitativos(\n",
    "    main=cumplimiento_recaudo_por_division_sub_ad,\n",
    "    df_resultados_variables_cualitativas=df_resultados_variables_cualitativas,\n",
    "    variable='VentaCobradaDivisionSub',\n",
    "    columnas_extra=['TipoEmpleado', 'AreaCalculo', 'Consecutivo'], \n",
    "    columnas_extra_merge=['AreaCalculo', 'Consecutivo'],\n",
    "    pre_merge_lambda=lambda x: x[x['TipoEmpleado'] == 'AD'].drop(columns=['TipoEmpleado'])\n",
    ")\n",
    "###\n",
    "\n",
    "cumplimiento_recaudo_por_division_sub_ad['Contexto'] = 'ad_' + cumplimiento_recaudo_por_division_sub_ad['AreaCalculo'].astype('str').str.cat(cumplimiento_recaudo_por_division_sub_ad['Consecutivo'].astype('str'), sep=\"_\")\n",
    "cumplimiento_recaudo_por_division_sub_ad = cumplimiento_recaudo_por_division_sub_ad[['Contexto', 'Variable', 'Fecha', 'Real', 'Presupuesto', 'PorcentajeCumplimiento']]\n",
    "cumplimiento_recaudo_por_division_sub_ad.head()"
   ]
  },
  {
   "cell_type": "code",
   "execution_count": null,
   "metadata": {},
   "outputs": [],
   "source": [
    "cumplimiento_recaudo_por_division_sub_ad[cumplimiento_recaudo_por_division_sub_ad['Contexto'] == 'ad_3_1']"
   ]
  },
  {
   "cell_type": "code",
   "execution_count": null,
   "metadata": {
    "datalore": {
     "hide_input_from_viewers": false,
     "hide_output_from_viewers": false,
     "type": "CODE"
    }
   },
   "outputs": [],
   "source": [
    "cumplimiento_recaudo_otras_companias_ad = pd.merge(\n",
    "    left=area_calculo_sba_completo_ad,\n",
    "    right=df_recaudo_otras_companias.rename(columns={'Compania': 'Division'}),\n",
    "    on=['Division']\n",
    ")\n",
    "cumplimiento_recaudo_otras_companias_ad['PorcentajeCumplimiento'] = cumplimiento_recaudo_otras_companias_ad['Real']/cumplimiento_recaudo_otras_companias_ad['Presupuesto']\n",
    "cumplimiento_recaudo_otras_companias_ad['PorcentajeCumplimiento'] = cumplimiento_recaudo_otras_companias_ad['PorcentajeCumplimiento'].apply(lambda x: round(x, 2))\n",
    "cumplimiento_recaudo_otras_companias_ad['Contexto'] = 'ad_' + cumplimiento_recaudo_otras_companias_ad['AreaCalculo'].astype('str').str.cat(cumplimiento_recaudo_otras_companias_ad['Consecutivo'].astype('str'), sep=\"_\")\n",
    "cumplimiento_recaudo_otras_companias_ad['Variable'] = 'VentaCobradaDivisionSub'\n",
    "cumplimiento_recaudo_otras_companias_ad = cumplimiento_recaudo_otras_companias_ad[['Contexto', 'Variable', 'Fecha', 'Real', 'Presupuesto', 'PorcentajeCumplimiento']]\n",
    "\n",
    "cumplimiento_recaudo_otras_companias_ad"
   ]
  },
  {
   "cell_type": "markdown",
   "metadata": {
    "datalore": {
     "hide_input_from_viewers": false,
     "hide_output_from_viewers": false,
     "type": "MD"
    }
   },
   "source": [
    "### 12.4. Para AD1 (VentaCobradaDivisionSub)"
   ]
  },
  {
   "cell_type": "code",
   "execution_count": null,
   "metadata": {
    "datalore": {
     "hide_input_from_viewers": false,
     "hide_output_from_viewers": false,
     "type": "CODE"
    }
   },
   "outputs": [],
   "source": [
    "area_calculo_sba_completo_ad1 = area_calculo_sba_completo[area_calculo_sba_completo['TipoEmpleado']=='AD1']\n",
    "\n",
    "#Se halla la informacion de la venta y recaudo real de los representantes de ventas de los AD1\n",
    "venta_recaudo_presupuesto_original_ad1_real = area_calculo_sba_completo_ad1.merge(\n",
    "    df_venta_recaudo_real[['Division', 'GrupoProducto', 'SBA', 'Fecha', 'Venta', 'Recaudo']],\n",
    "    on=['Division', 'GrupoProducto', 'SBA']\n",
    ")\n",
    "\n",
    "#Se halla la informacion de la venta y recaudo presupuesto de los representantes de ventas de los AD1\n",
    "venta_recaudo_presupuesto_original_ad1_presupuesto = area_calculo_sba_completo_ad1.merge(\n",
    "    df_venta_recaudo_presupuesto[['Division', 'GrupoProducto', 'SBA', 'Fecha', 'Venta', 'Recaudo']],\n",
    "    on=['Division', 'GrupoProducto', 'SBA']\n",
    ")\n",
    "\n",
    "venta_recaudo_real_area_calculo_ad1 = venta_recaudo_presupuesto_original_ad1_real.groupby(['AreaCalculo', 'Consecutivo', 'Fecha'], as_index=False).agg({'Recaudo': 'sum'})\n",
    "venta_recaudo_real_area_calculo_ad1['Real'] = venta_recaudo_real_area_calculo_ad1['Recaudo']\n",
    "venta_recaudo_real_area_calculo_ad1.drop(columns=['Recaudo'], inplace=True)\n",
    "\n",
    "venta_recaudo_presupuesto_area_calculo_ad1 = venta_recaudo_presupuesto_original_ad1_presupuesto.groupby(['AreaCalculo', 'Consecutivo', 'Fecha'], as_index=False).agg({'Recaudo': 'sum'})\n",
    "venta_recaudo_presupuesto_area_calculo_ad1['Presupuesto'] = venta_recaudo_presupuesto_area_calculo_ad1['Recaudo']\n",
    "venta_recaudo_presupuesto_area_calculo_ad1.drop(columns=['Recaudo'], inplace=True)\n",
    "\n",
    "cumplimiento_recaudo_por_division_sub_ad1 = pd.merge(\n",
    "    left=venta_recaudo_presupuesto_area_calculo_ad1,\n",
    "    right=venta_recaudo_real_area_calculo_ad1,\n",
    "    on=['AreaCalculo', 'Consecutivo', 'Fecha'],\n",
    "    how='left'\n",
    ")\n",
    "cumplimiento_recaudo_por_division_sub_ad1['Real'].fillna(0.0, inplace=True)\n",
    "cumplimiento_recaudo_por_division_sub_ad1['Real'] = cumplimiento_recaudo_por_division_sub_ad1.groupby(['AreaCalculo', 'Consecutivo'])['Real'].transform(pd.Series.cumsum)\n",
    "cumplimiento_recaudo_por_division_sub_ad1['Presupuesto'] = cumplimiento_recaudo_por_division_sub_ad1.groupby(['AreaCalculo', 'Consecutivo'])['Presupuesto'].transform(pd.Series.cumsum)\n",
    "cumplimiento_recaudo_por_division_sub_ad1['PorcentajeCumplimiento'] = cumplimiento_recaudo_por_division_sub_ad1['Real'] / cumplimiento_recaudo_por_division_sub_ad1['Presupuesto']\n",
    "cumplimiento_recaudo_por_division_sub_ad1['PorcentajeCumplimiento'] = cumplimiento_recaudo_por_division_sub_ad1['PorcentajeCumplimiento'].apply(lambda x: round(x, 2))\n",
    "cumplimiento_recaudo_por_division_sub_ad1['Variable'] = 'VentaCobradaDivisionSub'\n",
    "\n",
    "### Cálculo de resultados cualitativos precargados\n",
    "cumplimiento_recaudo_por_division_sub_ad1 = dataframe_loader.sobreescribir_resultados_cualitativos(\n",
    "    main=cumplimiento_recaudo_por_division_sub_ad1,\n",
    "    df_resultados_variables_cualitativas=df_resultados_variables_cualitativas,\n",
    "    variable='VentaCobradaDivisionSub',\n",
    "    columnas_extra=['TipoEmpleado', 'AreaCalculo', 'Consecutivo'], \n",
    "    columnas_extra_merge=['AreaCalculo', 'Consecutivo'],\n",
    "    pre_merge_lambda=lambda x: x[x['TipoEmpleado'] == 'AD1'].drop(columns=['TipoEmpleado'])\n",
    ")\n",
    "###\n",
    "\n",
    "cumplimiento_recaudo_por_division_sub_ad1['Contexto'] = 'ad1_' + cumplimiento_recaudo_por_division_sub_ad1['AreaCalculo'].astype('str').str.cat(cumplimiento_recaudo_por_division_sub_ad1['Consecutivo'].astype('str'), sep=\"_\")\n",
    "cumplimiento_recaudo_por_division_sub_ad1 = cumplimiento_recaudo_por_division_sub_ad1[['Contexto', 'Variable', 'Fecha', 'Real', 'Presupuesto', 'PorcentajeCumplimiento']]\n",
    "cumplimiento_recaudo_por_division_sub_ad1.head()"
   ]
  },
  {
   "cell_type": "code",
   "execution_count": null,
   "metadata": {
    "datalore": {
     "hide_input_from_viewers": false,
     "hide_output_from_viewers": false,
     "type": "CODE"
    }
   },
   "outputs": [],
   "source": [
    "cumplimiento_recaudo_otras_companias_ad1 = pd.merge(\n",
    "    left=area_calculo_sba_completo_ad1,\n",
    "    right=df_recaudo_otras_companias.rename(columns={'Compania': 'Division'}),\n",
    "    on=['Division']\n",
    ")\n",
    "cumplimiento_recaudo_otras_companias_ad1['PorcentajeCumplimiento'] = cumplimiento_recaudo_otras_companias_ad1['Real']/cumplimiento_recaudo_otras_companias_ad1['Presupuesto']\n",
    "cumplimiento_recaudo_otras_companias_ad1['PorcentajeCumplimiento'] = cumplimiento_recaudo_otras_companias_ad1['PorcentajeCumplimiento'].apply(lambda x: round(x, 2))\n",
    "cumplimiento_recaudo_otras_companias_ad1['Contexto'] = 'ad1_' + cumplimiento_recaudo_otras_companias_ad1['AreaCalculo'].astype('str').str.cat(cumplimiento_recaudo_otras_companias_ad1['Consecutivo'].astype('str'), sep=\"_\")\n",
    "cumplimiento_recaudo_otras_companias_ad1['Variable'] = 'VentaCobradaDivisionSub'\n",
    "cumplimiento_recaudo_otras_companias_ad1 = cumplimiento_recaudo_otras_companias_ad1[['Contexto', 'Variable', 'Fecha', 'Real', 'Presupuesto', 'PorcentajeCumplimiento']]\n",
    "\n",
    "cumplimiento_recaudo_otras_companias_ad1"
   ]
  },
  {
   "cell_type": "markdown",
   "metadata": {
    "datalore": {
     "hide_input_from_viewers": false,
     "hide_output_from_viewers": false,
     "type": "MD"
    }
   },
   "source": [
    "### 12.5. Para AD3 (VentaCobradaDivisionSub)"
   ]
  },
  {
   "cell_type": "code",
   "execution_count": null,
   "metadata": {
    "datalore": {
     "hide_input_from_viewers": false,
     "hide_output_from_viewers": false,
     "type": "CODE"
    }
   },
   "outputs": [],
   "source": [
    "area_calculo_sba_completo_ad3 = area_calculo_sba_completo[area_calculo_sba_completo['TipoEmpleado']=='AD3']\n",
    "\n",
    "#Se halla la informacion de la venta y recaudo real de los representantes de ventas de los AD3\n",
    "venta_recaudo_presupuesto_original_ad3_real = area_calculo_sba_completo_ad3.merge(\n",
    "    df_venta_recaudo_real[['Division', 'GrupoProducto', 'SBA', 'Fecha', 'Venta', 'Recaudo']],\n",
    "    on=['Division', 'GrupoProducto', 'SBA']\n",
    ")\n",
    "\n",
    "#Se halla la informacion de la venta y recaudo presupuesto de los representantes de ventas de los AD3\n",
    "venta_recaudo_presupuesto_original_ad3_presupuesto = area_calculo_sba_completo_ad3.merge(\n",
    "    df_venta_recaudo_presupuesto[['Division', 'GrupoProducto', 'SBA', 'Fecha', 'Venta', 'Recaudo']],\n",
    "    on=['Division', 'GrupoProducto', 'SBA']\n",
    ")\n",
    "\n",
    "venta_recaudo_real_area_calculo_ad3 = venta_recaudo_presupuesto_original_ad3_real.groupby(['AreaCalculo', 'Consecutivo', 'Fecha'], as_index=False).agg({'Recaudo': 'sum'})\n",
    "venta_recaudo_real_area_calculo_ad3['Real'] = venta_recaudo_real_area_calculo_ad3['Recaudo']\n",
    "venta_recaudo_real_area_calculo_ad3.drop(columns=['Recaudo'], inplace=True)\n",
    "\n",
    "venta_recaudo_presupuesto_area_calculo_ad3 = venta_recaudo_presupuesto_original_ad3_presupuesto.groupby(['AreaCalculo', 'Consecutivo', 'Fecha'], as_index=False).agg({'Recaudo': 'sum'})\n",
    "venta_recaudo_presupuesto_area_calculo_ad3['Presupuesto'] = venta_recaudo_presupuesto_area_calculo_ad3['Recaudo']\n",
    "venta_recaudo_presupuesto_area_calculo_ad3.drop(columns=['Recaudo'], inplace=True)\n",
    "\n",
    "cumplimiento_recaudo_por_division_sub_ad3 = pd.merge(\n",
    "    left=venta_recaudo_presupuesto_area_calculo_ad3,\n",
    "    right=venta_recaudo_real_area_calculo_ad3,\n",
    "    on=['AreaCalculo', 'Consecutivo', 'Fecha'],\n",
    "    how='left'\n",
    ")\n",
    "cumplimiento_recaudo_por_division_sub_ad3['Real'].fillna(0.0, inplace=True)\n",
    "cumplimiento_recaudo_por_division_sub_ad3['Real'] = cumplimiento_recaudo_por_division_sub_ad3.groupby(['AreaCalculo', 'Consecutivo'])['Real'].transform(pd.Series.cumsum)\n",
    "cumplimiento_recaudo_por_division_sub_ad3['Presupuesto'] = cumplimiento_recaudo_por_division_sub_ad3.groupby(['AreaCalculo', 'Consecutivo'])['Presupuesto'].transform(pd.Series.cumsum)\n",
    "cumplimiento_recaudo_por_division_sub_ad3['PorcentajeCumplimiento'] = cumplimiento_recaudo_por_division_sub_ad3['Real'] / cumplimiento_recaudo_por_division_sub_ad3['Presupuesto']\n",
    "cumplimiento_recaudo_por_division_sub_ad3['PorcentajeCumplimiento'] = cumplimiento_recaudo_por_division_sub_ad3['PorcentajeCumplimiento'].apply(lambda x: round(x, 2))\n",
    "cumplimiento_recaudo_por_division_sub_ad3['Variable'] = 'VentaCobradaDivisionSub'\n",
    "\n",
    "### Cálculo de resultados cualitativos precargados\n",
    "cumplimiento_recaudo_por_division_sub_ad3 = dataframe_loader.sobreescribir_resultados_cualitativos(\n",
    "    main=cumplimiento_recaudo_por_division_sub_ad3,\n",
    "    df_resultados_variables_cualitativas=df_resultados_variables_cualitativas,\n",
    "    variable='VentaCobradaDivisionSub',\n",
    "    columnas_extra=['TipoEmpleado', 'AreaCalculo', 'Consecutivo'], \n",
    "    columnas_extra_merge=['AreaCalculo', 'Consecutivo'],\n",
    "    pre_merge_lambda=lambda x: x[x['TipoEmpleado'] == 'AD3'].drop(columns=['TipoEmpleado'])\n",
    ")\n",
    "###\n",
    "\n",
    "cumplimiento_recaudo_por_division_sub_ad3['Contexto'] = 'ad3_' + cumplimiento_recaudo_por_division_sub_ad3['AreaCalculo'].astype('str').str.cat(cumplimiento_recaudo_por_division_sub_ad3['Consecutivo'].astype('str'), sep=\"_\")\n",
    "cumplimiento_recaudo_por_division_sub_ad3 = cumplimiento_recaudo_por_division_sub_ad3[['Contexto', 'Variable', 'Fecha', 'Real', 'Presupuesto', 'PorcentajeCumplimiento']]\n",
    "cumplimiento_recaudo_por_division_sub_ad3.head()"
   ]
  },
  {
   "cell_type": "code",
   "execution_count": null,
   "metadata": {
    "datalore": {
     "hide_input_from_viewers": false,
     "hide_output_from_viewers": false,
     "type": "CODE"
    }
   },
   "outputs": [],
   "source": [
    "cumplimiento_recaudo_otras_companias_ad3 = pd.merge(\n",
    "    left=area_calculo_sba_completo_ad3,\n",
    "    right=df_recaudo_otras_companias.rename(columns={'Compania': 'Division'}),\n",
    "    on=['Division']\n",
    ")\n",
    "cumplimiento_recaudo_otras_companias_ad3['PorcentajeCumplimiento'] = cumplimiento_recaudo_otras_companias_ad3['Real']/cumplimiento_recaudo_otras_companias_ad3['Presupuesto']\n",
    "cumplimiento_recaudo_otras_companias_ad3['PorcentajeCumplimiento'] = cumplimiento_recaudo_otras_companias_ad3['PorcentajeCumplimiento'].apply(lambda x: round(x, 2))\n",
    "cumplimiento_recaudo_otras_companias_ad3['Contexto'] = 'ad3_' + cumplimiento_recaudo_otras_companias_ad3['AreaCalculo'].astype('str').str.cat(cumplimiento_recaudo_otras_companias_ad3['Consecutivo'].astype('str'), sep=\"_\")\n",
    "cumplimiento_recaudo_otras_companias_ad3['Variable'] = 'VentaCobradaDivisionSub'\n",
    "cumplimiento_recaudo_otras_companias_ad3 = cumplimiento_recaudo_otras_companias_ad3[['Contexto', 'Variable', 'Fecha', 'Real', 'Presupuesto', 'PorcentajeCumplimiento']]\n",
    "\n",
    "cumplimiento_recaudo_otras_companias_ad3"
   ]
  },
  {
   "cell_type": "markdown",
   "metadata": {
    "datalore": {
     "hide_input_from_viewers": false,
     "hide_output_from_viewers": false,
     "type": "MD"
    }
   },
   "source": [
    "### 12.6. Para AD4 (VentaCobradaDivisionSub)"
   ]
  },
  {
   "cell_type": "code",
   "execution_count": null,
   "metadata": {
    "datalore": {
     "hide_input_from_viewers": false,
     "hide_output_from_viewers": false,
     "type": "CODE"
    }
   },
   "outputs": [],
   "source": [
    "area_calculo_sba_completo_ad4 = area_calculo_sba_completo[area_calculo_sba_completo['TipoEmpleado']=='AD4']\n",
    "\n",
    "#Se halla la informacion de la venta y recaudo real de los representantes de ventas de los AD4\n",
    "venta_recaudo_presupuesto_original_ad4_real = area_calculo_sba_completo_ad4.merge(\n",
    "    df_venta_recaudo_real[['Division', 'GrupoProducto', 'SBA', 'Fecha', 'Venta', 'Recaudo']],\n",
    "    on=['Division', 'GrupoProducto', 'SBA']\n",
    ")\n",
    "\n",
    "#Se halla la informacion de la venta y recaudo presupuesto de los representantes de ventas de los AD4\n",
    "venta_recaudo_presupuesto_original_ad4_presupuesto = area_calculo_sba_completo_ad4.merge(\n",
    "    df_venta_recaudo_presupuesto[['Division', 'GrupoProducto', 'SBA', 'Fecha', 'Venta', 'Recaudo']],\n",
    "    on=['Division', 'GrupoProducto', 'SBA']\n",
    ")\n",
    "\n",
    "venta_recaudo_real_area_calculo_ad4 = venta_recaudo_presupuesto_original_ad4_real.groupby(['AreaCalculo', 'Consecutivo', 'Fecha'], as_index=False).agg({'Recaudo': 'sum'})\n",
    "venta_recaudo_real_area_calculo_ad4['Real'] = venta_recaudo_real_area_calculo_ad4['Recaudo']\n",
    "venta_recaudo_real_area_calculo_ad4.drop(columns=['Recaudo'], inplace=True)\n",
    "\n",
    "venta_recaudo_presupuesto_area_calculo_ad4 = venta_recaudo_presupuesto_original_ad4_presupuesto.groupby(['AreaCalculo', 'Consecutivo', 'Fecha'], as_index=False).agg({'Recaudo': 'sum'})\n",
    "venta_recaudo_presupuesto_area_calculo_ad4['Presupuesto'] = venta_recaudo_presupuesto_area_calculo_ad4['Recaudo']\n",
    "venta_recaudo_presupuesto_area_calculo_ad4.drop(columns=['Recaudo'], inplace=True)\n",
    "\n",
    "cumplimiento_recaudo_por_division_sub_ad4 = pd.merge(\n",
    "    left=venta_recaudo_presupuesto_area_calculo_ad4,\n",
    "    right=venta_recaudo_real_area_calculo_ad4,\n",
    "    on=['AreaCalculo', 'Consecutivo', 'Fecha'],\n",
    "    how='left'\n",
    ")\n",
    "cumplimiento_recaudo_por_division_sub_ad4['Real'].fillna(0.0, inplace=True)\n",
    "cumplimiento_recaudo_por_division_sub_ad4['Real'] = cumplimiento_recaudo_por_division_sub_ad4.groupby(['AreaCalculo', 'Consecutivo'])['Real'].transform(pd.Series.cumsum)\n",
    "cumplimiento_recaudo_por_division_sub_ad4['Presupuesto'] = cumplimiento_recaudo_por_division_sub_ad4.groupby(['AreaCalculo', 'Consecutivo'])['Presupuesto'].transform(pd.Series.cumsum)\n",
    "cumplimiento_recaudo_por_division_sub_ad4['PorcentajeCumplimiento'] = cumplimiento_recaudo_por_division_sub_ad4['Real'] / cumplimiento_recaudo_por_division_sub_ad4['Presupuesto']\n",
    "cumplimiento_recaudo_por_division_sub_ad4['PorcentajeCumplimiento'] = cumplimiento_recaudo_por_division_sub_ad4['PorcentajeCumplimiento'].apply(lambda x: round(x, 2))\n",
    "cumplimiento_recaudo_por_division_sub_ad4['Variable'] = 'VentaCobradaDivisionSub'\n",
    "\n",
    "### Cálculo de resultados cualitativos precargados\n",
    "cumplimiento_recaudo_por_division_sub_ad4 = dataframe_loader.sobreescribir_resultados_cualitativos(\n",
    "    main=cumplimiento_recaudo_por_division_sub_ad4,\n",
    "    df_resultados_variables_cualitativas=df_resultados_variables_cualitativas,\n",
    "    variable='VentaCobradaDivisionSub',\n",
    "    columnas_extra=['TipoEmpleado', 'AreaCalculo', 'Consecutivo'], \n",
    "    columnas_extra_merge=['AreaCalculo', 'Consecutivo'],\n",
    "    pre_merge_lambda=lambda x: x[x['TipoEmpleado'] == 'AD4'].drop(columns=['TipoEmpleado'])\n",
    ")\n",
    "###\n",
    "\n",
    "cumplimiento_recaudo_por_division_sub_ad4['Contexto'] = 'ad4_' + cumplimiento_recaudo_por_division_sub_ad4['AreaCalculo'].astype('str').str.cat(cumplimiento_recaudo_por_division_sub_ad4['Consecutivo'].astype('str'), sep=\"_\")\n",
    "cumplimiento_recaudo_por_division_sub_ad4 = cumplimiento_recaudo_por_division_sub_ad4[['Contexto', 'Variable', 'Fecha', 'Real', 'Presupuesto', 'PorcentajeCumplimiento']]\n",
    "cumplimiento_recaudo_por_division_sub_ad4.head()"
   ]
  },
  {
   "cell_type": "code",
   "execution_count": null,
   "metadata": {
    "datalore": {
     "hide_input_from_viewers": false,
     "hide_output_from_viewers": false,
     "type": "CODE"
    }
   },
   "outputs": [],
   "source": [
    "cumplimiento_recaudo_otras_companias_ad4 = pd.merge(\n",
    "    left=area_calculo_sba_completo_ad4,\n",
    "    right=df_recaudo_otras_companias.rename(columns={'Compania': 'Division'}),\n",
    "    on=['Division']\n",
    ")\n",
    "cumplimiento_recaudo_otras_companias_ad4['PorcentajeCumplimiento'] = cumplimiento_recaudo_otras_companias_ad4['Real']/cumplimiento_recaudo_otras_companias_ad4['Presupuesto']\n",
    "cumplimiento_recaudo_otras_companias_ad4['PorcentajeCumplimiento'] = cumplimiento_recaudo_otras_companias_ad4['PorcentajeCumplimiento'].apply(lambda x: round(x, 2))\n",
    "cumplimiento_recaudo_otras_companias_ad4['Contexto'] = 'ad4_' + cumplimiento_recaudo_otras_companias_ad4['AreaCalculo'].astype('str').str.cat(cumplimiento_recaudo_otras_companias_ad4['Consecutivo'].astype('str'), sep=\"_\")\n",
    "cumplimiento_recaudo_otras_companias_ad4['Variable'] = 'VentaCobradaDivisionSub'\n",
    "cumplimiento_recaudo_otras_companias_ad4 = cumplimiento_recaudo_otras_companias_ad4[['Contexto', 'Variable', 'Fecha', 'Real', 'Presupuesto', 'PorcentajeCumplimiento']]\n",
    "\n",
    "cumplimiento_recaudo_otras_companias_ad4"
   ]
  },
  {
   "cell_type": "markdown",
   "metadata": {
    "datalore": {
     "hide_input_from_viewers": false,
     "hide_output_from_viewers": false,
     "type": "MD"
    }
   },
   "source": [
    "### 12.7. Para AD5 (VentaCobradaDivisionSub)"
   ]
  },
  {
   "cell_type": "code",
   "execution_count": null,
   "metadata": {
    "datalore": {
     "hide_input_from_viewers": false,
     "hide_output_from_viewers": false,
     "type": "CODE"
    }
   },
   "outputs": [],
   "source": [
    "area_calculo_sba_completo_ad5 = area_calculo_sba_completo[area_calculo_sba_completo['TipoEmpleado']=='AD5']\n",
    "\n",
    "#Se halla la informacion de la venta y recaudo real de los representantes de ventas de los AD5\n",
    "venta_recaudo_presupuesto_original_ad5_real = area_calculo_sba_completo_ad5.merge(\n",
    "    df_venta_recaudo_real[['Division', 'GrupoProducto', 'SBA', 'Fecha', 'Venta', 'Recaudo']],\n",
    "    on=['Division', 'GrupoProducto', 'SBA']\n",
    ")\n",
    "\n",
    "#Se halla la informacion de la venta y recaudo presupuesto de los representantes de ventas de los AD5\n",
    "venta_recaudo_presupuesto_original_ad5_presupuesto = area_calculo_sba_completo_ad5.merge(\n",
    "    df_venta_recaudo_presupuesto[['Division', 'GrupoProducto', 'SBA', 'Fecha', 'Venta', 'Recaudo']],\n",
    "    on=['Division', 'GrupoProducto', 'SBA']\n",
    ")\n",
    "\n",
    "venta_recaudo_real_area_calculo_ad5 = venta_recaudo_presupuesto_original_ad5_real.groupby(['AreaCalculo', 'Consecutivo', 'Fecha'], as_index=False).agg({'Recaudo': 'sum'})\n",
    "venta_recaudo_real_area_calculo_ad5['Real'] = venta_recaudo_real_area_calculo_ad5['Recaudo']\n",
    "venta_recaudo_real_area_calculo_ad5.drop(columns=['Recaudo'], inplace=True)\n",
    "\n",
    "venta_recaudo_presupuesto_area_calculo_ad5 = venta_recaudo_presupuesto_original_ad5_presupuesto.groupby(['AreaCalculo', 'Consecutivo', 'Fecha'], as_index=False).agg({'Recaudo': 'sum'})\n",
    "venta_recaudo_presupuesto_area_calculo_ad5['Presupuesto'] = venta_recaudo_presupuesto_area_calculo_ad5['Recaudo']\n",
    "venta_recaudo_presupuesto_area_calculo_ad5.drop(columns=['Recaudo'], inplace=True)\n",
    "\n",
    "cumplimiento_recaudo_por_division_sub_ad5 = pd.merge(\n",
    "    left=venta_recaudo_presupuesto_area_calculo_ad5,\n",
    "    right=venta_recaudo_real_area_calculo_ad5,\n",
    "    on=['AreaCalculo', 'Consecutivo', 'Fecha'],\n",
    "    how='left'\n",
    ")\n",
    "cumplimiento_recaudo_por_division_sub_ad5['Real'].fillna(0.0, inplace=True)\n",
    "cumplimiento_recaudo_por_division_sub_ad5['Real'] = cumplimiento_recaudo_por_division_sub_ad5.groupby(['AreaCalculo', 'Consecutivo'])['Real'].transform(pd.Series.cumsum)\n",
    "cumplimiento_recaudo_por_division_sub_ad5['Presupuesto'] = cumplimiento_recaudo_por_division_sub_ad5.groupby(['AreaCalculo', 'Consecutivo'])['Presupuesto'].transform(pd.Series.cumsum)\n",
    "cumplimiento_recaudo_por_division_sub_ad5['PorcentajeCumplimiento'] = cumplimiento_recaudo_por_division_sub_ad5['Real'] / cumplimiento_recaudo_por_division_sub_ad5['Presupuesto']\n",
    "cumplimiento_recaudo_por_division_sub_ad5['PorcentajeCumplimiento'] = cumplimiento_recaudo_por_division_sub_ad5['PorcentajeCumplimiento'].apply(lambda x: round(x, 2))\n",
    "cumplimiento_recaudo_por_division_sub_ad5['Variable'] = 'VentaCobradaDivisionSub'\n",
    "\n",
    "### Cálculo de resultados cualitativos precargados\n",
    "cumplimiento_recaudo_por_division_sub_ad5 = dataframe_loader.sobreescribir_resultados_cualitativos(\n",
    "    main=cumplimiento_recaudo_por_division_sub_ad5,\n",
    "    df_resultados_variables_cualitativas=df_resultados_variables_cualitativas,\n",
    "    variable='VentaCobradaDivisionSub',\n",
    "    columnas_extra=['TipoEmpleado', 'AreaCalculo', 'Consecutivo'], \n",
    "    columnas_extra_merge=['AreaCalculo', 'Consecutivo'],\n",
    "    pre_merge_lambda=lambda x: x[x['TipoEmpleado'] == 'AD5'].drop(columns=['TipoEmpleado'])\n",
    ")\n",
    "###\n",
    "\n",
    "cumplimiento_recaudo_por_division_sub_ad5['Contexto'] = 'ad5_' + cumplimiento_recaudo_por_division_sub_ad5['AreaCalculo'].astype('str').str.cat(cumplimiento_recaudo_por_division_sub_ad5['Consecutivo'].astype('str'), sep=\"_\")\n",
    "cumplimiento_recaudo_por_division_sub_ad5 = cumplimiento_recaudo_por_division_sub_ad5[['Contexto', 'Variable', 'Fecha', 'Real', 'Presupuesto', 'PorcentajeCumplimiento']]\n",
    "cumplimiento_recaudo_por_division_sub_ad5.head()"
   ]
  },
  {
   "cell_type": "code",
   "execution_count": null,
   "metadata": {
    "datalore": {
     "hide_input_from_viewers": false,
     "hide_output_from_viewers": false,
     "type": "CODE"
    }
   },
   "outputs": [],
   "source": [
    "cumplimiento_recaudo_otras_companias_ad5 = pd.merge(\n",
    "    left=area_calculo_sba_completo_ad5,\n",
    "    right=df_recaudo_otras_companias.rename(columns={'Compania': 'Division'}),\n",
    "    on=['Division']\n",
    ")\n",
    "cumplimiento_recaudo_otras_companias_ad5['PorcentajeCumplimiento'] = cumplimiento_recaudo_otras_companias_ad5['Real']/cumplimiento_recaudo_otras_companias_ad5['Presupuesto']\n",
    "cumplimiento_recaudo_otras_companias_ad5['PorcentajeCumplimiento'] = cumplimiento_recaudo_otras_companias_ad5['PorcentajeCumplimiento'].apply(lambda x: round(x, 2))\n",
    "cumplimiento_recaudo_otras_companias_ad5['Contexto'] = 'ad5_' + cumplimiento_recaudo_otras_companias_ad5['AreaCalculo'].astype('str').str.cat(cumplimiento_recaudo_otras_companias_ad5['Consecutivo'].astype('str'), sep=\"_\")\n",
    "cumplimiento_recaudo_otras_companias_ad5['Variable'] = 'VentaCobradaDivisionSub'\n",
    "cumplimiento_recaudo_otras_companias_ad5 = cumplimiento_recaudo_otras_companias_ad5[['Contexto', 'Variable', 'Fecha', 'Real', 'Presupuesto', 'PorcentajeCumplimiento']]\n",
    "\n",
    "cumplimiento_recaudo_otras_companias_ad5"
   ]
  },
  {
   "cell_type": "markdown",
   "metadata": {
    "datalore": {
     "hide_input_from_viewers": false,
     "hide_output_from_viewers": false,
     "type": "MD"
    }
   },
   "source": [
    "## 13. Objetivos de rentabilidad CM5 a nivel país (RentabilidadBbraunPaisAntesDeImpuestos)"
   ]
  },
  {
   "cell_type": "code",
   "execution_count": null,
   "metadata": {
    "datalore": {
     "hide_input_from_viewers": false,
     "hide_output_from_viewers": false,
     "type": "CODE"
    }
   },
   "outputs": [],
   "source": [
    "cumplimiento_rentabilidad_cm5_nivel_pais = df_rentabilidad[(df_rentabilidad['Compania']=='BBMCO')&(df_rentabilidad['ClaseRentabilidad']=='CMV')]\n",
    "\n",
    "cumplimiento_rentabilidad_cm5_nivel_pais = cumplimiento_rentabilidad_cm5_nivel_pais.groupby(\n",
    "    ['Fecha'],\n",
    "    as_index=False\n",
    ").agg({'Real': 'sum', 'Presupuesto': 'sum'})\n",
    "\n",
    "# cumplimiento_rentabilidad_cm5_nivel_pais['Presupuesto'] = cumplimiento_rentabilidad_cm5_nivel_pais['Presupuesto'].transform(pd.Series.cumsum)\n",
    "# cumplimiento_rentabilidad_cm5_nivel_pais['Real'] = cumplimiento_rentabilidad_cm5_nivel_pais['Real'].transform(pd.Series.cumsum)\n",
    "\n",
    "cumplimiento_rentabilidad_cm5_nivel_pais['PorcentajeCumplimiento'] = cumplimiento_rentabilidad_cm5_nivel_pais['Real'] / cumplimiento_rentabilidad_cm5_nivel_pais['Presupuesto']\n",
    "cumplimiento_rentabilidad_cm5_nivel_pais['PorcentajeCumplimiento'] = cumplimiento_rentabilidad_cm5_nivel_pais['PorcentajeCumplimiento'].apply(lambda x: round(x, 2))\n",
    "cumplimiento_rentabilidad_cm5_nivel_pais['Contexto'] = 'CM5'\n",
    "cumplimiento_rentabilidad_cm5_nivel_pais['Variable'] = 'RentabilidadBbraunPaisAntesDeImpuestos'\n",
    "\n",
    "cumplimiento_rentabilidad_cm5_nivel_pais.head()"
   ]
  },
  {
   "cell_type": "markdown",
   "metadata": {
    "datalore": {
     "hide_input_from_viewers": false,
     "hide_output_from_viewers": false,
     "type": "MD"
    }
   },
   "source": [
    "## 14. Objetivos de rentabilidad CM3 por grupo clientes con consecutivos (RentabilidadDivisionGrupoClientesCM3Sub)"
   ]
  },
  {
   "cell_type": "code",
   "execution_count": null,
   "metadata": {
    "datalore": {
     "hide_input_from_viewers": false,
     "hide_output_from_viewers": false,
     "type": "CODE"
    }
   },
   "outputs": [],
   "source": [
    "rentabilidad_division_cm3_gd = pd.merge(\n",
    "    left=df_rentabilidad[(df_rentabilidad['ClaseRentabilidad']=='CMIII')],\n",
    "    right=area_calculo_sba_completo_gd,\n",
    "    on=['GrupoProducto', 'SBA'],\n",
    "    how='left'\n",
    ")\n",
    "cumplimiento_rentabilidad_cm3_grupo_clientes_sub = rentabilidad_division_cm3_gd.groupby(\n",
    "    ['Division', 'Consecutivo', 'Fecha'],\n",
    "    as_index=False\n",
    ").agg({'Real': 'sum', 'Presupuesto': 'sum'})\n",
    "\n",
    "cumplimiento_rentabilidad_cm3_grupo_clientes_sub['PorcentajeCumplimiento'] = cumplimiento_rentabilidad_cm3_grupo_clientes_sub['Real']/cumplimiento_rentabilidad_cm3_grupo_clientes_sub['Presupuesto']\n",
    "cumplimiento_rentabilidad_cm3_grupo_clientes_sub['PorcentajeCumplimiento'] = cumplimiento_rentabilidad_cm3_grupo_clientes_sub['PorcentajeCumplimiento'].apply(lambda x: round(x, 2))\n",
    "\n",
    "cumplimiento_rentabilidad_cm3_grupo_clientes_sub['Contexto'] = 'gd_' + cumplimiento_rentabilidad_cm3_grupo_clientes_sub['Division'].astype('str').str.cat(cumplimiento_rentabilidad_cm3_grupo_clientes_sub['Consecutivo'].astype('str'), sep=\"_\")\n",
    "cumplimiento_rentabilidad_cm3_grupo_clientes_sub['Variable'] = 'RentabilidadDivisionGrupoClientesCM3Sub'\n",
    "cumplimiento_rentabilidad_cm3_grupo_clientes_sub = cumplimiento_rentabilidad_cm3_grupo_clientes_sub[['Contexto', 'Variable', 'Fecha', 'Real', 'Presupuesto', 'PorcentajeCumplimiento']]\n",
    "\n",
    "cumplimiento_rentabilidad_cm3_grupo_clientes_sub"
   ]
  },
  {
   "cell_type": "markdown",
   "metadata": {
    "datalore": {
     "hide_input_from_viewers": false,
     "hide_output_from_viewers": false,
     "type": "MD"
    }
   },
   "source": [
    "## 15. Objetivos de rentabilidad CM3 por grupo clientes (RentabilidadDivisionGrupoClientesCM3)"
   ]
  },
  {
   "cell_type": "code",
   "execution_count": null,
   "metadata": {
    "datalore": {
     "hide_input_from_viewers": false,
     "hide_output_from_viewers": false,
     "type": "CODE"
    }
   },
   "outputs": [],
   "source": [
    "cumplimiento_rentabilidad_cm3_grupo_clientes = pd.merge(\n",
    "    left=df_rentabilidad[(df_rentabilidad['ClaseRentabilidad']=='CMIII')],\n",
    "    right=area_calculo_sba_completo_gd[['GrupoProducto', 'SBA', 'Division', 'AreaCalculo']].drop_duplicates(['GrupoProducto', 'SBA', 'AreaCalculo', 'Division']),\n",
    "    on=['GrupoProducto', 'SBA'],\n",
    "    how='left'\n",
    ")\n",
    "\n",
    "cumplimiento_rentabilidad_cm3_grupo_clientes = cumplimiento_rentabilidad_cm3_grupo_clientes.groupby(\n",
    "    ['AreaCalculo', 'Division', 'Fecha'],\n",
    "    as_index=False\n",
    ").agg({'Real': 'sum', 'Presupuesto': 'sum'})\n",
    "cumplimiento_rentabilidad_cm3_grupo_clientes['AreaCalculo'] = cumplimiento_rentabilidad_cm3_grupo_clientes['AreaCalculo'].astype(int).astype(str)\n",
    "\n",
    "cumplimiento_rentabilidad_cm3_grupo_clientes['PorcentajeCumplimiento'] = cumplimiento_rentabilidad_cm3_grupo_clientes['Real']/cumplimiento_rentabilidad_cm3_grupo_clientes['Presupuesto']\n",
    "cumplimiento_rentabilidad_cm3_grupo_clientes['PorcentajeCumplimiento'] = cumplimiento_rentabilidad_cm3_grupo_clientes['PorcentajeCumplimiento'].apply(lambda x: round(x, 2))\n",
    "\n",
    "cumplimiento_rentabilidad_cm3_grupo_clientes['Contexto'] = 'gd_' + cumplimiento_rentabilidad_cm3_grupo_clientes['AreaCalculo'] + '_' + cumplimiento_rentabilidad_cm3_grupo_clientes['Division']\n",
    "cumplimiento_rentabilidad_cm3_grupo_clientes['Variable'] = 'RentabilidadDivisionGrupoClientesCM3'\n",
    "cumplimiento_rentabilidad_cm3_grupo_clientes = cumplimiento_rentabilidad_cm3_grupo_clientes[['Contexto', 'Variable', 'Fecha', 'Real', 'Presupuesto', 'PorcentajeCumplimiento']]\n",
    "\n",
    "cumplimiento_rentabilidad_cm3_grupo_clientes"
   ]
  },
  {
   "cell_type": "markdown",
   "metadata": {
    "datalore": {
     "hide_input_from_viewers": false,
     "hide_output_from_viewers": false,
     "type": "MD"
    }
   },
   "source": [
    "## 16. Objetivos de rentabilidad por grupo clientes (RentabilidadGrupoClientesCM2)"
   ]
  },
  {
   "cell_type": "code",
   "execution_count": null,
   "metadata": {},
   "outputs": [],
   "source": [
    "area_calculo_sba_completo"
   ]
  },
  {
   "cell_type": "code",
   "execution_count": null,
   "metadata": {},
   "outputs": [],
   "source": []
  },
  {
   "cell_type": "code",
   "execution_count": null,
   "metadata": {
    "datalore": {
     "hide_input_from_viewers": false,
     "hide_output_from_viewers": false,
     "type": "CODE"
    }
   },
   "outputs": [],
   "source": [
    "area_calculo_sba_completo_kam = area_calculo_sba_completo[area_calculo_sba_completo['TipoEmpleado'] == 'KAM']\n",
    "\n",
    "cumplimiento_rentabilidad_cm2_grupo_clientes = pd.merge(\n",
    "    left=area_calculo_sba_completo_kam[['Division', 'AreaCalculo', 'Consecutivo']].drop_duplicates(),\n",
    "    right=df_rentabilidad_kam,\n",
    "    on='Division',\n",
    "    how='left'\n",
    ")\n",
    "cumplimiento_rentabilidad_cm2_grupo_clientes['Presupuesto'] = cumplimiento_rentabilidad_cm2_grupo_clientes.groupby(['Division', 'AreaCalculo', 'Consecutivo'])['Presupuesto'].transform(pd.Series.cumsum)\n",
    "cumplimiento_rentabilidad_cm2_grupo_clientes['Real'] = cumplimiento_rentabilidad_cm2_grupo_clientes.groupby(['Division', 'AreaCalculo', 'Consecutivo'])['Real'].transform(pd.Series.cumsum)\n",
    "\n",
    "cumplimiento_rentabilidad_cm2_grupo_clientes['PorcentajeCumplimiento'] = cumplimiento_rentabilidad_cm2_grupo_clientes['Real']/cumplimiento_rentabilidad_cm2_grupo_clientes['Presupuesto']\n",
    "cumplimiento_rentabilidad_cm2_grupo_clientes['PorcentajeCumplimiento'] = cumplimiento_rentabilidad_cm2_grupo_clientes['PorcentajeCumplimiento'].apply(lambda x: round(x, 2))\n",
    "\n",
    "cumplimiento_rentabilidad_cm2_grupo_clientes['Contexto'] = 'kam_' + cumplimiento_rentabilidad_cm2_grupo_clientes['AreaCalculo'].astype('str').str.cat(cumplimiento_rentabilidad_cm2_grupo_clientes['Consecutivo'].astype('str'), sep=\"_\")\n",
    "cumplimiento_rentabilidad_cm2_grupo_clientes['Variable'] = 'RentabilidadGrupoClientesCM2'\n",
    "cumplimiento_rentabilidad_cm2_grupo_clientes = cumplimiento_rentabilidad_cm2_grupo_clientes[['Contexto', 'Variable', 'Fecha', 'Real', 'Presupuesto', 'PorcentajeCumplimiento']]\n",
    "\n",
    "cumplimiento_rentabilidad_cm2_grupo_clientes"
   ]
  },
  {
   "cell_type": "markdown",
   "metadata": {
    "datalore": {
     "hide_input_from_viewers": false,
     "hide_output_from_viewers": false,
     "type": "MD"
    }
   },
   "source": [
    "## 17. Objetivos de rentabilidad antes de impuestos CM5 (TotalRentabilidadBraunAntesDeImpuestosCM5)"
   ]
  },
  {
   "cell_type": "code",
   "execution_count": null,
   "metadata": {
    "datalore": {
     "hide_input_from_viewers": false,
     "hide_output_from_viewers": false,
     "type": "CODE"
    }
   },
   "outputs": [],
   "source": [
    "rentabilidad_antes_de_impuestos_cm5 = df_rentabilidad[(df_rentabilidad['ClaseRentabilidad']=='CMV')]\n",
    "rentabilidad_antes_de_impuestos_cm5.rename(columns={'Compania': 'Division'}, inplace=True)\n",
    "rentabilidad_antes_de_impuestos_cm5 = rentabilidad_antes_de_impuestos_cm5.groupby(\n",
    "    ['Division', 'Fecha'],\n",
    "    as_index=False\n",
    ").agg({'Real': 'sum', 'Presupuesto': 'sum'})\n",
    "\n",
    "# rentabilidad_antes_de_impuestos_cm5['Presupuesto'] = rentabilidad_antes_de_impuestos_cm5.groupby(['Division'])['Presupuesto'].transform(pd.Series.cumsum)\n",
    "# rentabilidad_antes_de_impuestos_cm5['Real'] = rentabilidad_antes_de_impuestos_cm5.groupby(['Division'])['Real'].transform(pd.Series.cumsum)\n",
    "rentabilidad_antes_de_impuestos_cm5['PorcentajeCumplimiento'] = rentabilidad_antes_de_impuestos_cm5['Real'] / rentabilidad_antes_de_impuestos_cm5['Presupuesto']\n",
    "rentabilidad_antes_de_impuestos_cm5['PorcentajeCumplimiento'] = rentabilidad_antes_de_impuestos_cm5['PorcentajeCumplimiento'].apply(lambda x: round(x, 2))\n",
    "rentabilidad_antes_de_impuestos_cm5['Variable'] = 'TotalRentabilidadBraunAntesDeImpuestosCM5'\n",
    "\n",
    "rentabilidad_antes_de_impuestos_cm5"
   ]
  },
  {
   "cell_type": "markdown",
   "metadata": {
    "datalore": {
     "hide_input_from_viewers": false,
     "hide_output_from_viewers": false,
     "type": "MD"
    }
   },
   "source": [
    "### 17.1. Para AD (TotalRentabilidadBraunAntesDeImpuestosCM5)"
   ]
  },
  {
   "cell_type": "code",
   "execution_count": null,
   "metadata": {
    "datalore": {
     "hide_input_from_viewers": false,
     "hide_output_from_viewers": false,
     "type": "CODE"
    }
   },
   "outputs": [],
   "source": [
    "cumplimiento_rentabilidad_cm5_ad = pd.merge(\n",
    "    left=area_calculo_sba_completo[area_calculo_sba_completo['TipoEmpleado']=='AD'],\n",
    "    right=rentabilidad_antes_de_impuestos_cm5,\n",
    "    on=['Division'],\n",
    "    how='left'\n",
    ")\n",
    "\n",
    "### Cálculo de resultados cualitativos precargados\n",
    "cumplimiento_rentabilidad_cm5_ad = dataframe_loader.sobreescribir_resultados_cualitativos(\n",
    "    main=cumplimiento_rentabilidad_cm5_ad,\n",
    "    df_resultados_variables_cualitativas=df_resultados_variables_cualitativas,\n",
    "    variable='TotalRentabilidadBraunAntesDeImpuestosCM5',\n",
    "    columnas_extra=['TipoEmpleado', 'AreaCalculo', 'Consecutivo'], \n",
    "    columnas_extra_merge=['AreaCalculo', 'Consecutivo'],\n",
    "    pre_merge_lambda=lambda x: x[x['TipoEmpleado'] == 'AD'].drop(columns=['TipoEmpleado'])\n",
    ")\n",
    "###\n",
    "\n",
    "cumplimiento_rentabilidad_cm5_ad['Contexto'] = 'ad_' + cumplimiento_rentabilidad_cm5_ad['AreaCalculo'].astype('str').str.cat(cumplimiento_rentabilidad_cm5_ad['Consecutivo'].astype('str'), sep=\"_\")\n",
    "cumplimiento_rentabilidad_cm5_ad = cumplimiento_rentabilidad_cm5_ad[['Contexto', 'Variable', 'Fecha', 'Real', 'Presupuesto', 'PorcentajeCumplimiento']]\n",
    "cumplimiento_rentabilidad_cm5_ad"
   ]
  },
  {
   "cell_type": "markdown",
   "metadata": {
    "datalore": {
     "hide_input_from_viewers": false,
     "hide_output_from_viewers": false,
     "type": "MD"
    }
   },
   "source": [
    "### 17.2. Para AD1 (TotalRentabilidadBraunAntesDeImpuestosCM5)"
   ]
  },
  {
   "cell_type": "code",
   "execution_count": null,
   "metadata": {
    "datalore": {
     "hide_input_from_viewers": false,
     "hide_output_from_viewers": false,
     "type": "CODE"
    }
   },
   "outputs": [],
   "source": [
    "cumplimiento_rentabilidad_cm5_ad1 = pd.merge(\n",
    "    left=area_calculo_sba_completo[area_calculo_sba_completo['TipoEmpleado']=='AD1'],\n",
    "    right=rentabilidad_antes_de_impuestos_cm5,\n",
    "    on=['Division'],\n",
    "    how='left'\n",
    ")\n",
    "\n",
    "### Cálculo de resultados cualitativos precargados\n",
    "cumplimiento_rentabilidad_cm5_ad1 = dataframe_loader.sobreescribir_resultados_cualitativos(\n",
    "    main=cumplimiento_rentabilidad_cm5_ad1,\n",
    "    df_resultados_variables_cualitativas=df_resultados_variables_cualitativas,\n",
    "    variable='TotalRentabilidadBraunAntesDeImpuestosCM5',\n",
    "    columnas_extra=['TipoEmpleado', 'AreaCalculo', 'Consecutivo'], \n",
    "    columnas_extra_merge=['AreaCalculo', 'Consecutivo'],\n",
    "    pre_merge_lambda=lambda x: x[x['TipoEmpleado'] == 'AD1'].drop(columns=['TipoEmpleado'])\n",
    ")\n",
    "###\n",
    "\n",
    "cumplimiento_rentabilidad_cm5_ad1['Contexto'] = 'ad1_' + cumplimiento_rentabilidad_cm5_ad1['AreaCalculo'].astype('str').str.cat(cumplimiento_rentabilidad_cm5_ad1['Consecutivo'].astype('str'), sep=\"_\")\n",
    "cumplimiento_rentabilidad_cm5_ad1 = cumplimiento_rentabilidad_cm5_ad1[['Contexto', 'Variable', 'Fecha', 'Real', 'Presupuesto', 'PorcentajeCumplimiento']]\n",
    "cumplimiento_rentabilidad_cm5_ad1"
   ]
  },
  {
   "cell_type": "markdown",
   "metadata": {
    "datalore": {
     "hide_input_from_viewers": false,
     "hide_output_from_viewers": false,
     "type": "MD"
    }
   },
   "source": [
    "### 17.3. Para AD2 (TotalRentabilidadBraunAntesDeImpuestosCM5)"
   ]
  },
  {
   "cell_type": "code",
   "execution_count": null,
   "metadata": {
    "datalore": {
     "hide_input_from_viewers": false,
     "hide_output_from_viewers": false,
     "type": "CODE"
    }
   },
   "outputs": [],
   "source": [
    "cumplimiento_rentabilidad_cm5_ad2 = pd.merge(\n",
    "    left=area_calculo_sba_completo[area_calculo_sba_completo['TipoEmpleado']=='AD2'],\n",
    "    right=rentabilidad_antes_de_impuestos_cm5,\n",
    "    on=['Division'],\n",
    "    how='left'\n",
    ")\n",
    "\n",
    "### Cálculo de resultados cualitativos precargados\n",
    "cumplimiento_rentabilidad_cm5_ad2 = dataframe_loader.sobreescribir_resultados_cualitativos(\n",
    "    main=cumplimiento_rentabilidad_cm5_ad2,\n",
    "    df_resultados_variables_cualitativas=df_resultados_variables_cualitativas,\n",
    "    variable='TotalRentabilidadBraunAntesDeImpuestosCM5',\n",
    "    columnas_extra=['TipoEmpleado', 'AreaCalculo', 'Consecutivo'], \n",
    "    columnas_extra_merge=['AreaCalculo', 'Consecutivo'],\n",
    "    pre_merge_lambda=lambda x: x[x['TipoEmpleado'] == 'AD2'].drop(columns=['TipoEmpleado'])\n",
    ")\n",
    "###\n",
    "\n",
    "cumplimiento_rentabilidad_cm5_ad2['Contexto'] = 'ad2_' + cumplimiento_rentabilidad_cm5_ad2['AreaCalculo'].astype('str').str.cat(cumplimiento_rentabilidad_cm5_ad2['Consecutivo'].astype('str'), sep=\"_\")\n",
    "cumplimiento_rentabilidad_cm5_ad2 = cumplimiento_rentabilidad_cm5_ad2[['Contexto', 'Variable', 'Fecha', 'Real', 'Presupuesto', 'PorcentajeCumplimiento']]\n",
    "cumplimiento_rentabilidad_cm5_ad2"
   ]
  },
  {
   "cell_type": "markdown",
   "metadata": {
    "datalore": {
     "hide_input_from_viewers": false,
     "hide_output_from_viewers": false,
     "type": "MD"
    }
   },
   "source": [
    "### 17.4. Para AD3 (TotalRentabilidadBraunAntesDeImpuestosCM5)"
   ]
  },
  {
   "cell_type": "code",
   "execution_count": null,
   "metadata": {
    "datalore": {
     "hide_input_from_viewers": false,
     "hide_output_from_viewers": false,
     "type": "CODE"
    }
   },
   "outputs": [],
   "source": [
    "cumplimiento_rentabilidad_cm5_ad3 = pd.merge(\n",
    "    left=area_calculo_sba_completo[area_calculo_sba_completo['TipoEmpleado']=='AD3'],\n",
    "    right=rentabilidad_antes_de_impuestos_cm5,\n",
    "    on=['Division'],\n",
    "    how='left'\n",
    ")\n",
    "\n",
    "### Cálculo de resultados cualitativos precargados\n",
    "cumplimiento_rentabilidad_cm5_ad3 = dataframe_loader.sobreescribir_resultados_cualitativos(\n",
    "    main=cumplimiento_rentabilidad_cm5_ad3,\n",
    "    df_resultados_variables_cualitativas=df_resultados_variables_cualitativas,\n",
    "    variable='TotalRentabilidadBraunAntesDeImpuestosCM5',\n",
    "    columnas_extra=['TipoEmpleado', 'AreaCalculo', 'Consecutivo'], \n",
    "    columnas_extra_merge=['AreaCalculo', 'Consecutivo'],\n",
    "    pre_merge_lambda=lambda x: x[x['TipoEmpleado'] == 'AD3'].drop(columns=['TipoEmpleado'])\n",
    ")\n",
    "###\n",
    "\n",
    "cumplimiento_rentabilidad_cm5_ad3['Contexto'] = 'ad3_' + cumplimiento_rentabilidad_cm5_ad3['AreaCalculo'].astype('str').str.cat(cumplimiento_rentabilidad_cm5_ad3['Consecutivo'].astype('str'), sep=\"_\")\n",
    "cumplimiento_rentabilidad_cm5_ad3 = cumplimiento_rentabilidad_cm5_ad3[['Contexto', 'Variable', 'Fecha', 'Real', 'Presupuesto', 'PorcentajeCumplimiento']]\n",
    "cumplimiento_rentabilidad_cm5_ad3"
   ]
  },
  {
   "cell_type": "markdown",
   "metadata": {
    "datalore": {
     "hide_input_from_viewers": false,
     "hide_output_from_viewers": false,
     "type": "MD"
    }
   },
   "source": [
    "### 17.5. Para AD4 (TotalRentabilidadBraunAntesDeImpuestosCM5)"
   ]
  },
  {
   "cell_type": "code",
   "execution_count": null,
   "metadata": {
    "datalore": {
     "hide_input_from_viewers": false,
     "hide_output_from_viewers": false,
     "type": "CODE"
    }
   },
   "outputs": [],
   "source": [
    "cumplimiento_rentabilidad_cm5_ad4 = pd.merge(\n",
    "    left=area_calculo_sba_completo[area_calculo_sba_completo['TipoEmpleado']=='AD4'],\n",
    "    right=rentabilidad_antes_de_impuestos_cm5,\n",
    "    on=['Division'],\n",
    "    how='left'\n",
    ")\n",
    "\n",
    "### Cálculo de resultados cualitativos precargados\n",
    "cumplimiento_rentabilidad_cm5_ad4 = dataframe_loader.sobreescribir_resultados_cualitativos(\n",
    "    main=cumplimiento_rentabilidad_cm5_ad4,\n",
    "    df_resultados_variables_cualitativas=df_resultados_variables_cualitativas,\n",
    "    variable='TotalRentabilidadBraunAntesDeImpuestosCM5',\n",
    "    columnas_extra=['TipoEmpleado', 'AreaCalculo', 'Consecutivo'], \n",
    "    columnas_extra_merge=['AreaCalculo', 'Consecutivo'],\n",
    "    pre_merge_lambda=lambda x: x[x['TipoEmpleado'] == 'AD4'].drop(columns=['TipoEmpleado'])\n",
    ")\n",
    "###\n",
    "\n",
    "cumplimiento_rentabilidad_cm5_ad4['Contexto'] = 'ad4_' + cumplimiento_rentabilidad_cm5_ad4['AreaCalculo'].astype('str').str.cat(cumplimiento_rentabilidad_cm5_ad4['Consecutivo'].astype('str'), sep=\"_\")\n",
    "cumplimiento_rentabilidad_cm5_ad4 = cumplimiento_rentabilidad_cm5_ad4[['Contexto', 'Variable', 'Fecha', 'Real', 'Presupuesto', 'PorcentajeCumplimiento']]\n",
    "cumplimiento_rentabilidad_cm5_ad4"
   ]
  },
  {
   "cell_type": "markdown",
   "metadata": {
    "datalore": {
     "hide_input_from_viewers": false,
     "hide_output_from_viewers": false,
     "type": "MD"
    }
   },
   "source": [
    "### 17.6. Para AD5 (TotalRentabilidadBraunAntesDeImpuestosCM5)"
   ]
  },
  {
   "cell_type": "code",
   "execution_count": null,
   "metadata": {
    "datalore": {
     "hide_input_from_viewers": false,
     "hide_output_from_viewers": false,
     "type": "CODE"
    }
   },
   "outputs": [],
   "source": [
    "cumplimiento_rentabilidad_cm5_ad5 = pd.merge(\n",
    "    left=area_calculo_sba_completo[area_calculo_sba_completo['TipoEmpleado']=='AD5'],\n",
    "    right=rentabilidad_antes_de_impuestos_cm5,\n",
    "    on=['Division'],\n",
    "    how='left'\n",
    ")\n",
    "\n",
    "### Cálculo de resultados cualitativos precargados\n",
    "cumplimiento_rentabilidad_cm5_ad5 = dataframe_loader.sobreescribir_resultados_cualitativos(\n",
    "    main=cumplimiento_rentabilidad_cm5_ad5,\n",
    "    df_resultados_variables_cualitativas=df_resultados_variables_cualitativas,\n",
    "    variable='TotalRentabilidadBraunAntesDeImpuestosCM5',\n",
    "    columnas_extra=['TipoEmpleado', 'AreaCalculo', 'Consecutivo'], \n",
    "    columnas_extra_merge=['AreaCalculo', 'Consecutivo'],\n",
    "    pre_merge_lambda=lambda x: x[x['TipoEmpleado'] == 'AD5'].drop(columns=['TipoEmpleado'])\n",
    ")\n",
    "###\n",
    "\n",
    "cumplimiento_rentabilidad_cm5_ad5['Contexto'] = 'ad5_' + cumplimiento_rentabilidad_cm5_ad5['AreaCalculo'].astype('str').str.cat(cumplimiento_rentabilidad_cm5_ad5['Consecutivo'].astype('str'), sep=\"_\")\n",
    "cumplimiento_rentabilidad_cm5_ad5 = cumplimiento_rentabilidad_cm5_ad5[['Contexto', 'Variable', 'Fecha', 'Real', 'Presupuesto', 'PorcentajeCumplimiento']]\n",
    "cumplimiento_rentabilidad_cm5_ad5"
   ]
  },
  {
   "cell_type": "markdown",
   "metadata": {
    "datalore": {
     "hide_input_from_viewers": false,
     "hide_output_from_viewers": false,
     "type": "MD"
    }
   },
   "source": [
    "## 18. Objetivos de venta facturada previo notas crédito TP (VentaFacturadaPrevioNotasCreditoTP)"
   ]
  },
  {
   "cell_type": "code",
   "execution_count": null,
   "metadata": {
    "datalore": {
     "hide_input_from_viewers": false,
     "hide_output_from_viewers": false,
     "type": "CODE"
    }
   },
   "outputs": [],
   "source": [
    "cumplimiento_venta_previo_notas_credito_tp = pd.merge(\n",
    "    left=area_calculo_sba_completo[area_calculo_sba_completo['TipoEmpleado']=='AD2'],\n",
    "    right=df_venta_otras_companias.rename(columns={'Compania': 'Division'}),\n",
    "    on=['Division'],\n",
    "    how='left'\n",
    ")\n",
    "\n",
    "# cumplimiento_venta_previo_notas_credito_tp['Presupuesto'] = cumplimiento_venta_previo_notas_credito_tp.groupby(['Division', 'AreaCalculo', 'Consecutivo'])['Presupuesto'].transform(pd.Series.cumsum)\n",
    "# cumplimiento_venta_previo_notas_credito_tp['Real'] = cumplimiento_venta_previo_notas_credito_tp.groupby(['Division', 'AreaCalculo', 'Consecutivo'])['Real'].transform(pd.Series.cumsum)\n",
    "\n",
    "cumplimiento_venta_previo_notas_credito_tp['PorcentajeCumplimiento'] = cumplimiento_venta_previo_notas_credito_tp['Real'] / cumplimiento_venta_previo_notas_credito_tp['Presupuesto']\n",
    "cumplimiento_venta_previo_notas_credito_tp['PorcentajeCumplimiento'] = cumplimiento_venta_previo_notas_credito_tp['PorcentajeCumplimiento'].apply(lambda x: round(x, 2))\n",
    "\n",
    "cumplimiento_venta_previo_notas_credito_tp['Variable'] = 'VentaFacturadaPrevioNotasCreditoTP'\n",
    "cumplimiento_venta_previo_notas_credito_tp['Contexto'] = 'ad2_' + cumplimiento_venta_previo_notas_credito_tp['AreaCalculo'].astype('str').str.cat(cumplimiento_venta_previo_notas_credito_tp['Consecutivo'].astype('str'), sep=\"_\")\n",
    "cumplimiento_venta_previo_notas_credito_tp = cumplimiento_venta_previo_notas_credito_tp[['Contexto', 'Variable', 'Fecha', 'Real', 'Presupuesto', 'PorcentajeCumplimiento']]\n",
    "cumplimiento_venta_previo_notas_credito_tp"
   ]
  },
  {
   "cell_type": "markdown",
   "metadata": {
    "datalore": {
     "hide_input_from_viewers": false,
     "hide_output_from_viewers": false,
     "type": "MD"
    }
   },
   "source": [
    "## 19. Venta de servicios Mtto (VentaServiciosMtto)"
   ]
  },
  {
   "cell_type": "code",
   "execution_count": null,
   "metadata": {
    "datalore": {
     "hide_input_from_viewers": false,
     "hide_output_from_viewers": false,
     "type": "CODE"
    }
   },
   "outputs": [],
   "source": [
    "cumplimiento_venta_servicios_mtto = df_venta_servicios_mtto\n",
    "\n",
    "cumplimiento_venta_servicios_mtto['Presupuesto'] = cumplimiento_venta_servicios_mtto['Presupuesto'].transform(pd.Series.cumsum)\n",
    "cumplimiento_venta_servicios_mtto['Real'] = cumplimiento_venta_servicios_mtto['Real'].transform(pd.Series.cumsum)\n",
    "\n",
    "cumplimiento_venta_servicios_mtto['PorcentajeCumplimiento'] = cumplimiento_venta_servicios_mtto['Real'] / cumplimiento_venta_servicios_mtto['Presupuesto']\n",
    "cumplimiento_venta_servicios_mtto['PorcentajeCumplimiento'] = cumplimiento_venta_servicios_mtto['PorcentajeCumplimiento'].apply(lambda x: round(x, 2))\n",
    "cumplimiento_venta_servicios_mtto['Variable'] = 'VentaServiciosMtto'\n",
    "cumplimiento_venta_servicios_mtto['Contexto'] = 'VentaServiciosMtto'\n",
    "cumplimiento_venta_servicios_mtto = cumplimiento_venta_servicios_mtto[['Contexto', 'Variable', 'Fecha', 'Real', 'Presupuesto', 'PorcentajeCumplimiento']]\n",
    "cumplimiento_venta_servicios_mtto"
   ]
  },
  {
   "cell_type": "markdown",
   "metadata": {
    "datalore": {
     "hide_input_from_viewers": false,
     "hide_output_from_viewers": false,
     "type": "MD"
    }
   },
   "source": [
    "# Nuevos rubros 2022"
   ]
  },
  {
   "cell_type": "markdown",
   "metadata": {
    "datalore": {
     "hide_input_from_viewers": false,
     "hide_output_from_viewers": false,
     "type": "MD"
    }
   },
   "source": [
    "## 20. Venta Cobrada BBraun Cluster (UCI + OR) (VentaCobradaBraunCluster)"
   ]
  },
  {
   "cell_type": "code",
   "execution_count": null,
   "metadata": {},
   "outputs": [],
   "source": [
    "main = df_cluster_plan_real_recaudo.copy()\n",
    "main"
   ]
  },
  {
   "cell_type": "code",
   "execution_count": null,
   "metadata": {
    "datalore": {
     "hide_input_from_viewers": false,
     "hide_output_from_viewers": false,
     "type": "CODE"
    }
   },
   "outputs": [],
   "source": [
    "print(main)\n",
    "main = df_cluster_plan_real_recaudo.copy()\n",
    "# TODO Validar si se ignoran para TODOS los resultados\n",
    "\n",
    "# Calcular\n",
    "main = main.groupby(['Cluster', 'Fecha'], as_index=False)[['Real', 'Presupuesto']].apply(sum)\n",
    "\n",
    "# Variable solo de VCs #\n",
    "if len(codigos_ve_vc) > 0 and fecha_liquidacion >= '2022-03-01' and fecha_liquidacion <= '2022-12-01':\n",
    "    main.reset_index(inplace=True)\n",
    "    main = main[main['Fecha'] >= '2022-03-01']\n",
    "###\n",
    "\n",
    "main['Real'] = main.groupby(['Cluster'])['Real'].transform(pd.Series.cumsum)\n",
    "main['Presupuesto'] = main.groupby(['Cluster'])['Presupuesto'].transform(pd.Series.cumsum)\n",
    "main['PorcentajeCumplimiento'] = (main['Real'] / main['Presupuesto']).apply(lambda x: round(x, 2))\n",
    "main['Variable'] = 'VentaCobradaBraunCluster'\n",
    "\n",
    "#print(main)\n",
    "#Formatear\n",
    "main.reset_index(inplace=True)\n",
    "main.rename(columns={'Cluster': 'Contexto'}, inplace=True)\n",
    "main = main[['Contexto', 'Variable', 'Fecha', 'Real', 'Presupuesto', 'PorcentajeCumplimiento']]\n",
    "\n",
    "venta_cobrada_braun_cluster = main.copy()\n",
    "main = None\n",
    "\n",
    "venta_cobrada_braun_cluster\n",
    "\n",
    "# Contexto: Cluster"
   ]
  },
  {
   "cell_type": "code",
   "execution_count": null,
   "metadata": {},
   "outputs": [],
   "source": [
    "venta_cobrada_braun_cluster[\n",
    "    (venta_cobrada_braun_cluster['Contexto'] == '16')\n",
    "]"
   ]
  },
  {
   "cell_type": "code",
   "execution_count": null,
   "metadata": {},
   "outputs": [],
   "source": [
    "venta_cobrada_braun_cluster[\n",
    "    (venta_cobrada_braun_cluster['Contexto'] == '14')\n",
    "]"
   ]
  },
  {
   "cell_type": "markdown",
   "metadata": {
    "datalore": {
     "hide_input_from_viewers": false,
     "hide_output_from_viewers": false,
     "type": "MD"
    }
   },
   "source": [
    "## 21. Venta Cobrada Portafolio Cluster (VentaCobradaPortafolioCluster)"
   ]
  },
  {
   "cell_type": "code",
   "execution_count": null,
   "metadata": {
    "datalore": {
     "hide_input_from_viewers": false,
     "hide_output_from_viewers": false,
     "type": "CODE"
    }
   },
   "outputs": [],
   "source": [
    "drop_cols = ['Venta', 'Division', 'ZonaGeografica', 'GrupoProducto', 'Canal', 'SBA']\n",
    "real = df_venta_recaudo_real.copy().drop(columns=drop_cols)\n",
    "ppto = df_venta_recaudo_presupuesto.copy().drop(columns=drop_cols)\n",
    "\n",
    "# Sumamos los registros que tienen el mismo conexto para que exista un solo registro\n",
    "ppto = ppto.groupby(['CodigoEmpleado', 'Cluster',  'Fecha'], as_index=False)[['Recaudo']].apply(sum)\n",
    "real = real.groupby(['CodigoEmpleado', 'Cluster',  'Fecha'], as_index=False)[['Recaudo']].apply(sum)\n",
    "ppto.reset_index(inplace=True)\n",
    "real.reset_index(inplace=True)\n",
    "\n",
    "main = ppto.rename(columns={'Recaudo': 'Presupuesto'}).merge(\n",
    "    real.rename(columns={'Recaudo': 'Real'}),\n",
    "    on=['CodigoEmpleado', 'Cluster','Fecha'],\n",
    "    how='left'\n",
    ")\n",
    "main['Real'].fillna(0, inplace=True)\n",
    "\n",
    "# Traer áreas de cálculo y tipo de empleado de la maestra de empleados\n",
    "empleados = df_empleados[['TipoEmpleado', 'CodigoEmpleado', 'AreaCalculo', 'FechaIngreso']].copy()\n",
    "main = main.merge(empleados, on=['CodigoEmpleado'], how='left')\n",
    "\n",
    "main = main[main['Fecha'] >= main['FechaIngreso']]\n",
    "\n",
    "# Validación. Se eliminan presupuestos  = 0\n",
    "main['Real'].fillna(0, inplace=True)\n",
    "main['AreaCalculo'].fillna(0, inplace=True)\n",
    "main = main[main.Presupuesto.notnull()]\n",
    "\n",
    "# Calcular\n",
    "main = main.groupby(['CodigoEmpleado', 'Cluster', 'Fecha'], as_index=False)[['Real', 'Presupuesto']].apply(sum)\n",
    "main.reset_index(inplace=True)\n",
    "\n",
    "### Agrupación a nivel de empleado por clusters\n",
    "main = pd.merge(\n",
    "    df_clusters_empleado[['CodigoEmpleado', 'Cluster']],\n",
    "    main,\n",
    "    on=['CodigoEmpleado', 'Cluster'],\n",
    "    how='left'\n",
    ")\n",
    "\n",
    "main = main.groupby(['CodigoEmpleado', 'Fecha'], as_index=False)[['Real', 'Presupuesto']].apply(sum)\n",
    "\n",
    "# Variable solo de VCs y VEs #\n",
    "if len(codigos_ve_vc) > 0 and fecha_liquidacion >= '2022-03-01' and fecha_liquidacion <= '2022-12-01':\n",
    "    main.reset_index(inplace=True)\n",
    "    main = main[main['Fecha'] >= '2022-03-01']\n",
    "###\n",
    "\n",
    "main['Real'] = main.groupby(['CodigoEmpleado'])['Real'].transform(pd.Series.cumsum)\n",
    "main['Presupuesto'] = main.groupby(['CodigoEmpleado'])['Presupuesto'].transform(pd.Series.cumsum)\n",
    "main.reset_index(inplace=True)\n",
    "main['PorcentajeCumplimiento'] = (main['Real']/main['Presupuesto']).apply(lambda x: round(x, 2))\n",
    "main['Variable'] = 'VentaCobradaPortafolioCluster'\n",
    "\n",
    "### Cálculo de resultados cualitativos precargados\n",
    "main = dataframe_loader.sobreescribir_resultados_cualitativos(\n",
    "    main=main,\n",
    "    df_resultados_variables_cualitativas=df_resultados_variables_cualitativas,\n",
    "    variable='VentaCobradaPortafolioCluster',\n",
    "    columnas_extra=['CodigoEmpleado'],\n",
    "    columnas_extra_merge=['CodigoEmpleado']\n",
    ")\n",
    "###\n",
    "\n",
    "main['Contexto'] = main['CodigoEmpleado']\n",
    "main = main[['Contexto', 'Variable', 'Fecha', 'Real', 'Presupuesto', 'PorcentajeCumplimiento']]   \n",
    "###\n",
    "\n",
    "\n",
    "venta_cobrada_portafolio_cluster = main.copy()\n",
    "main = None\n",
    "venta_cobrada_portafolio_cluster"
   ]
  },
  {
   "cell_type": "code",
   "execution_count": null,
   "metadata": {},
   "outputs": [],
   "source": [
    "venta_cobrada_portafolio_cluster[\n",
    "    (venta_cobrada_portafolio_cluster['Contexto'] == 1111128)\n",
    "]"
   ]
  },
  {
   "cell_type": "markdown",
   "metadata": {
    "datalore": {
     "hide_input_from_viewers": false,
     "hide_output_from_viewers": false,
     "type": "MD"
    }
   },
   "source": [
    "## 22. Venta Cobrada Portafolio Cluster sub (VentaCobradaPortafolioClusterSub)"
   ]
  },
  {
   "cell_type": "code",
   "execution_count": null,
   "metadata": {},
   "outputs": [],
   "source": [
    "# VentaRecaudoPresupuesto\n",
    "# VentaRecaudoReal (recaudo)\n",
    "# Cálculo de acuerdo a SBA\n",
    "# Agrupar por División - Cluster - Grupo de Producto - SBA\n",
    "\n",
    "drop_cols = ['Venta', 'Canal', 'ZonaGeografica']\n",
    "area_calculo_sba = area_calculo_sba_completo_without_renal.copy()\n",
    "real = df_venta_recaudo_real.copy().drop(columns=drop_cols)\n",
    "ppto = df_venta_recaudo_presupuesto.copy().drop(columns=drop_cols)\n",
    "\n",
    "\n",
    "# Sumamos los registros que tienen el mismo conexto para que exista un solo registro\n",
    "ppto = ppto.groupby(['CodigoEmpleado','Division', 'Cluster', 'GrupoProducto', 'SBA', 'Fecha'], as_index=False)[['Recaudo']].apply(sum)\n",
    "real = real.groupby(['CodigoEmpleado','Division', 'Cluster', 'GrupoProducto', 'SBA', 'Fecha'], as_index=False)[['Recaudo']].apply(sum)\n",
    "# ppto.reset_index(inplace=True)\n",
    "# real.reset_index(inplace=True)\n",
    "\n",
    "main = pd.merge(\n",
    "    ppto.rename(columns={'Recaudo': 'Presupuesto'}),\n",
    "    real.rename(columns={'Recaudo': 'Real'}),\n",
    "    on=['CodigoEmpleado','Division', 'Cluster', 'GrupoProducto', 'SBA', 'Fecha'],\n",
    "    how='left'\n",
    ")\n",
    "main['Real'].fillna(0, inplace=True)\n",
    "\n",
    "\n",
    "# Traer áreas de cálculo y tipo de empleado de la maestra de empleados\n",
    "empleados = df_empleados[['TipoEmpleado', 'CodigoEmpleado', 'AreaCalculo', 'FechaIngreso']].copy()\n",
    "main = main.merge(empleados, on=['CodigoEmpleado'], how='left')\n",
    "\n",
    "main = main[main['Fecha'] >= main['FechaIngreso']]\n",
    "\n",
    "# Traer Consecutivos\n",
    "main = main.merge(\n",
    "    area_calculo_sba,\n",
    "    on=['AreaCalculo', 'Division', 'GrupoProducto', 'SBA', 'TipoEmpleado'],\n",
    "    how='left'\n",
    ")\n",
    "main.dropna(subset=['Consecutivo'], inplace=True)\n",
    "main = main[main.Presupuesto.notnull()]\n",
    "\n",
    "### Agrupación a nivel de empleado por clusters\n",
    "main = pd.merge(\n",
    "    df_clusters_empleado[['CodigoEmpleado', 'TipoEmpleado', 'AreaCalculo', 'Cluster']],\n",
    "    main,\n",
    "    on=['CodigoEmpleado','TipoEmpleado', 'AreaCalculo', 'Cluster'],\n",
    "    how='left'\n",
    ")\n",
    "\n",
    "main"
   ]
  },
  {
   "cell_type": "code",
   "execution_count": null,
   "metadata": {},
   "outputs": [],
   "source": [
    "df_area_calculo_sba_centros_costos.head()"
   ]
  },
  {
   "cell_type": "code",
   "execution_count": null,
   "metadata": {},
   "outputs": [],
   "source": [
    "df_centros_costos_grupos_productos_divisiones.head()"
   ]
  },
  {
   "cell_type": "code",
   "execution_count": null,
   "metadata": {},
   "outputs": [],
   "source": [
    "calculo_centro_costo_variable = main.merge(\n",
    "    df_centros_costos_grupos_productos_divisiones.rename(columns={'ConsecutivoParrilla':'Consecutivo'}),\n",
    "    on=['Division', 'GrupoProducto'],\n",
    "    how='left'\n",
    ")\n",
    "calculo_centro_costo_variable"
   ]
  },
  {
   "cell_type": "code",
   "execution_count": null,
   "metadata": {},
   "outputs": [],
   "source": [
    "calculo_centro_costo_variable = calculo_centro_costo_variable.groupby(['CodigoEmpleado', 'Consecutivo', 'Fecha', 'GrupoProducto', 'Division', 'CodigoCentroCosto'], as_index=False)[['Real']].apply(sum)\n",
    "calculo_centro_costo_variable"
   ]
  },
  {
   "cell_type": "code",
   "execution_count": null,
   "metadata": {},
   "outputs": [],
   "source": [
    "calculo_centro_costo_variable['Real'] = calculo_centro_costo_variable.groupby(['CodigoEmpleado', 'Consecutivo', 'GrupoProducto', 'Division', 'CodigoCentroCosto'])['Real'].transform(pd.Series.cumsum)\n",
    "calculo_centro_costo_variable"
   ]
  },
  {
   "cell_type": "code",
   "execution_count": null,
   "metadata": {},
   "outputs": [],
   "source": [
    "calculo_centro_costo_variable[\n",
    "    (calculo_centro_costo_variable['Fecha'] == '2023-05-01') &\n",
    "    (calculo_centro_costo_variable['Consecutivo'] == 4) &\n",
    "    (calculo_centro_costo_variable['CodigoEmpleado'] == '5002700')\n",
    "\n",
    "]['Real'].sum()"
   ]
  },
  {
   "cell_type": "code",
   "execution_count": null,
   "metadata": {},
   "outputs": [],
   "source": [
    "calculo_centro_costo_variable[\n",
    "    (calculo_centro_costo_variable['Fecha'] == '2023-05-01') &\n",
    "    (calculo_centro_costo_variable['Consecutivo'] == '')\n",
    "]['Real'].sum()\n"
   ]
  },
  {
   "cell_type": "code",
   "execution_count": null,
   "metadata": {},
   "outputs": [],
   "source": [
    "calculo_centro_costo_variable['RealTotal'] = calculo_centro_costo_variable.groupby(['CodigoEmpleado', 'Consecutivo', 'Fecha'], as_index=False)[['Real']].transform(pd.Series.sum)\n",
    "calculo_centro_costo_variable"
   ]
  },
  {
   "cell_type": "code",
   "execution_count": null,
   "metadata": {},
   "outputs": [],
   "source": [
    "calculo_centro_costo_variable['Porcentaje Aplicado'] = calculo_centro_costo_variable['Real'] / calculo_centro_costo_variable['RealTotal']\n",
    "calculo_centro_costo_variable['Variable'] = 'VentaCobradaPortafolioClusterSub'\n",
    "calculo_centro_costo_variable"
   ]
  },
  {
   "cell_type": "code",
   "execution_count": null,
   "metadata": {},
   "outputs": [],
   "source": [
    "venta_cobrada_portafolio_cluster_sub_centro_costo = calculo_centro_costo_variable.copy()\n",
    "venta_cobrada_portafolio_cluster_sub_centro_costo"
   ]
  },
  {
   "cell_type": "code",
   "execution_count": null,
   "metadata": {},
   "outputs": [],
   "source": [
    "venta_cobrada_portafolio_cluster_sub_centro_costo[\n",
    "    (venta_cobrada_portafolio_cluster_sub_centro_costo['Fecha'] == '2023-05-01') &\n",
    "    (venta_cobrada_portafolio_cluster_sub_centro_costo['CodigoEmpleado'] == '5002700') &\n",
    "    (venta_cobrada_portafolio_cluster_sub_centro_costo['Consecutivo'] == 4.0)\n",
    "#     (venta_cobrada_portafolio_cluster_sub_centro_costo['Fecha'] == '2023-05-01') &\n",
    "]"
   ]
  },
  {
   "cell_type": "code",
   "execution_count": null,
   "metadata": {},
   "outputs": [],
   "source": [
    "2.856901e+08 + 3.863236e+07 + 4.323667e+08"
   ]
  },
  {
   "cell_type": "code",
   "execution_count": null,
   "metadata": {},
   "outputs": [],
   "source": [
    "venta_cobrada_portafolio_cluster_sub_centro_costo[\n",
    "    (venta_cobrada_portafolio_cluster_sub_centro_costo['Fecha'] == '2023-05-01')\n",
    "]['Real'].sum()\n"
   ]
  },
  {
   "cell_type": "code",
   "execution_count": null,
   "metadata": {},
   "outputs": [],
   "source": [
    "venta_cobrada_portafolio_cluster_sub_centro_costo = dataframe_loader.f_calculo_centro_costo_variable(\n",
    "    main=main,\n",
    "    variable='VentaCobradaPortafolioClusterSub'\n",
    ")\n",
    "venta_cobrada_portafolio_cluster_sub_centro_costo"
   ]
  },
  {
   "cell_type": "code",
   "execution_count": null,
   "metadata": {},
   "outputs": [],
   "source": [
    "venta_cobrada_portafolio_cluster_sub_centro_costo[\n",
    "    (venta_cobrada_portafolio_cluster_sub_centro_costo['Fecha'] == '2023-06-01') &\n",
    "#     (venta_cobrada_portafolio_cluster_sub_centro_costo['CodigoEmpleado'] == '5002700')\n",
    "#     (venta_cobrada_portafolio_cluster_sub_centro_costo['Fecha'] == '2023-05-01') &\n",
    "      (venta_cobrada_portafolio_cluster_sub_centro_costo['Contexto'].str.contains('1111115'))\n",
    "]"
   ]
  },
  {
   "cell_type": "code",
   "execution_count": null,
   "metadata": {},
   "outputs": [],
   "source": [
    "venta_cobrada_portafolio_cluster_sub_centro_costo[\n",
    "    (venta_cobrada_portafolio_cluster_sub_centro_costo['Fecha'] == '2023-05-01')\n",
    "]['Real'].sum()\n"
   ]
  },
  {
   "cell_type": "code",
   "execution_count": null,
   "metadata": {},
   "outputs": [],
   "source": [
    "# main = main.groupby(['TipoEmpleado', 'AreaCalculo', 'Consecutivo', 'Cluster', 'Fecha'], as_index=False)[\n",
    "#     ['Real', 'Presupuesto']].apply(sum)\n",
    "# main.reset_index(inplace=True)\n",
    "main = main.groupby(['CodigoEmpleado', 'Consecutivo', 'Fecha'], as_index=False)[['Real', 'Presupuesto']].apply(sum)\n",
    "main.reset_index(inplace=True)\n",
    "\n",
    "# Variable solo de VCs y VEs #\n",
    "if len(codigos_ve_vc) > 0 and fecha_liquidacion >= '2022-03-01' and fecha_liquidacion <= '2022-12-01':\n",
    "    main = main[main['Fecha'] >= '2022-03-01']\n",
    "###\n",
    "\n",
    "main['Real'] = main.groupby(['CodigoEmpleado', 'Consecutivo'])['Real'].transform(pd.Series.cumsum)\n",
    "main['Presupuesto'] = main.groupby(['CodigoEmpleado', 'Consecutivo'])['Presupuesto'].transform(pd.Series.cumsum)\n",
    "main['PorcentajeCumplimiento'] = (main['Real'] / main['Presupuesto']).apply(lambda x: round(x, 2))\n",
    "main['Variable'] = 'VentaCobradaPortafolioClusterSub'\n",
    "\n",
    "### Cálculo de resultados cualitativos precargados\n",
    "main = dataframe_loader.sobreescribir_resultados_cualitativos(\n",
    "    main=main,\n",
    "    df_resultados_variables_cualitativas=df_resultados_variables_cualitativas,\n",
    "    variable='VentaCobradaPortafolioClusterSub',\n",
    "    columnas_extra=['CodigoEmpleado', 'Consecutivo'],\n",
    "    columnas_extra_merge=['CodigoEmpleado', 'Consecutivo']\n",
    ")\n",
    "###\n",
    "\n",
    "main['Contexto'] = main['CodigoEmpleado'] + '_' + main['Consecutivo'].astype(int).astype('str')\n",
    "main = main[['Contexto', 'Variable', 'Fecha', 'Real', 'Presupuesto', 'PorcentajeCumplimiento']]\n",
    "###\n",
    "\n",
    "venta_cobrada_portafolio_cluster_sub = main.copy()\n",
    "# main = None\n",
    "venta_cobrada_portafolio_cluster_sub\n"
   ]
  },
  {
   "cell_type": "code",
   "execution_count": null,
   "metadata": {},
   "outputs": [],
   "source": [
    "venta_cobrada_portafolio_cluster_sub[\n",
    "    (venta_cobrada_portafolio_cluster_sub['Contexto'].str.contains('1111115')) &\n",
    "    (venta_cobrada_portafolio_cluster_sub['Fecha'] == '2023-01-01')\n",
    "]"
   ]
  },
  {
   "cell_type": "markdown",
   "metadata": {},
   "source": [
    "### 22.1 Grupo Renal (Hospitalario + Ambulatorio)"
   ]
  },
  {
   "cell_type": "code",
   "execution_count": null,
   "metadata": {},
   "outputs": [],
   "source": [
    "area_calculo_sba_renal_drop_duplicates = area_calculo_sba_completo_with_renal[['AreaCalculo','Consecutivo','TipoEmpleado']].drop_duplicates(['AreaCalculo', 'Consecutivo'])\n",
    "area_calculo_sba_renal_drop_duplicates"
   ]
  },
  {
   "cell_type": "code",
   "execution_count": null,
   "metadata": {},
   "outputs": [],
   "source": [
    "area_calculo_sba_renal_vc_drop_duplicates = area_calculo_sba_renal_drop_duplicates[area_calculo_sba_renal_drop_duplicates['TipoEmpleado'] == 'VC']\n",
    "area_calculo_sba_renal_vc_drop_duplicates"
   ]
  },
  {
   "cell_type": "code",
   "execution_count": null,
   "metadata": {},
   "outputs": [],
   "source": [
    "# VentaRecaudoPresupuesto\n",
    "# VentaRecaudoReal (recaudo)\n",
    "# Cálculo de acuerdo a SBA\n",
    "# Agrupar por División - Cluster - Grupo de Producto - SBA\n",
    "\n",
    "df_renal_ambulatorio_vc = df_renal_ambulatorio[df_renal_ambulatorio['TipoEmpleado'] == 'VC']\n",
    "df_renal_ambulatorio_vc"
   ]
  },
  {
   "cell_type": "code",
   "execution_count": null,
   "metadata": {},
   "outputs": [],
   "source": [
    "# Calcular\n",
    "\n",
    "main = df_renal_ambulatorio_vc.rename(columns={'PlanVentaCobradaRenal': 'Presupuesto', 'RealVentaCobradaRenal': 'Real'})\n",
    "main = main.merge(\n",
    "    area_calculo_sba_renal_vc_drop_duplicates,\n",
    "    on=['TipoEmpleado'],\n",
    "    how='left'\n",
    ")\n",
    "main"
   ]
  },
  {
   "cell_type": "code",
   "execution_count": null,
   "metadata": {},
   "outputs": [],
   "source": [
    "main['Contexto'] = main['CodigoEmpleado'] + '_' +  main['Consecutivo'].astype(int).astype('str')\n",
    "\n",
    "main = main.groupby(['Contexto', 'Fecha'], as_index=False)[['Real', 'Presupuesto']].apply(sum)\n",
    "main['Real'] = main.groupby(['Contexto'])['Real'].transform(pd.Series.cumsum)\n",
    "main['Presupuesto'] = main.groupby(['Contexto'])['Presupuesto'].transform(pd.Series.cumsum)\n",
    "main['PorcentajeCumplimiento'] = (main['Real']/main['Presupuesto']).apply(lambda x: round(x, 2))\n",
    "main['Variable'] = 'VentaCobradaPortafolioClusterSub'\n",
    "\n",
    "\n",
    "#Formatear\n",
    "main.reset_index(inplace=True)\n",
    "main = main[['Contexto', 'Variable', 'Fecha', 'Real','Presupuesto', 'PorcentajeCumplimiento']]\n",
    "\n",
    "venta_cobrada_portafolio_cluster_sub = pd.concat([\n",
    "     venta_cobrada_portafolio_cluster_sub.copy(),\n",
    "     main.copy()\n",
    "   ], \n",
    "   ignore_index=True\n",
    " )\n",
    "# venta_cobrada_portafolio_cluster_sub = main.copy()\n",
    "main = None\n",
    "venta_cobrada_portafolio_cluster_sub\n"
   ]
  },
  {
   "cell_type": "code",
   "execution_count": null,
   "metadata": {},
   "outputs": [],
   "source": []
  },
  {
   "cell_type": "markdown",
   "metadata": {
    "datalore": {
     "hide_input_from_viewers": false,
     "hide_output_from_viewers": false,
     "type": "MD"
    }
   },
   "source": [
    "## 23. Venta Facturada Portafolio Cluster (VentaFacturadaPortafolioCluster)"
   ]
  },
  {
   "cell_type": "code",
   "execution_count": null,
   "metadata": {
    "datalore": {
     "hide_input_from_viewers": false,
     "hide_output_from_viewers": false,
     "type": "CODE"
    }
   },
   "outputs": [],
   "source": [
    "# VentaRecaudoPresupuesto\n",
    "# VentaRecaudoReal (Venta)\n",
    "\n",
    "# Merge de tablas\n",
    "drop_cols = ['Recaudo', 'ZonaGeografica', 'Canal']\n",
    "area_calculo_sba = area_calculo_sba_completo.copy()\n",
    "real = df_venta_recaudo_real.copy().drop(columns=drop_cols)\n",
    "ppto = df_venta_recaudo_presupuesto.copy().drop(columns=drop_cols)\n",
    "\n",
    "# Sumamos los registros que tienen el mismo conexto para que exista un solo registro\n",
    "ppto = ppto.groupby(['CodigoEmpleado', 'Cluster', 'Division', 'GrupoProducto', 'SBA', 'Fecha'], as_index=False)[['Venta']].apply(sum)\n",
    "real = real.groupby(['CodigoEmpleado', 'Cluster', 'Division', 'GrupoProducto', 'SBA', 'Fecha'], as_index=False)[['Venta']].apply(sum)\n",
    "ppto.reset_index(inplace=True)\n",
    "real.reset_index(inplace=True)\n",
    "\n",
    "main = ppto.rename(columns={'Venta': 'Presupuesto'}).merge(\n",
    "    real.rename(columns={'Venta': 'Real'}),\n",
    "    on=['CodigoEmpleado', 'Cluster', 'Division', 'GrupoProducto', 'SBA', 'Fecha'],\n",
    "    how='left'\n",
    ")\n",
    "main['Real'].fillna(0, inplace=True)\n",
    "\n",
    "# Traer áreas de cálculo y tipo de empleado de la maestra de empleados\n",
    "empleados = df_empleados[['TipoEmpleado', 'CodigoEmpleado', 'AreaCalculo', 'FechaIngreso']].copy()\n",
    "main = main.merge(empleados, on=['CodigoEmpleado'], how='left')\n",
    "\n",
    "main = main[main['Fecha'] >= main['FechaIngreso']]\n",
    "\n",
    "main = main.merge(\n",
    "    area_calculo_sba,\n",
    "    on=['AreaCalculo', 'Division', 'GrupoProducto', 'SBA', 'TipoEmpleado'],\n",
    "    how='left'\n",
    ")\n",
    "main.dropna(subset=['Consecutivo'], inplace=True)\n",
    "main = main[main.Presupuesto.notnull()]\n",
    "\n",
    "main = main.groupby(['CodigoEmpleado', 'AreaCalculo', 'Cluster', 'Fecha'], as_index=False)[['Real', 'Presupuesto']].apply(sum)\n",
    "main.reset_index(inplace=True)\n",
    "\n",
    "# Validación. Se eliminan presupuestos  = 0\n",
    "main['Real'].fillna(0, inplace=True)\n",
    "main['AreaCalculo'].fillna(0, inplace=True)\n",
    "main = main[main.Presupuesto.notnull()]\n",
    "\n",
    "# Calcular\n",
    "main = main.groupby(['CodigoEmpleado', 'Cluster', 'Fecha'], as_index=False)[['Real', 'Presupuesto']].apply(sum)\n",
    "main.reset_index(inplace=True)\n",
    "\n",
    "### Agrupación a nivel de empleado por clusters\n",
    "main = pd.merge(\n",
    "    df_clusters_empleado[['CodigoEmpleado', 'Cluster']],\n",
    "    main,\n",
    "    on=['CodigoEmpleado', 'Cluster'],\n",
    "    how='left'\n",
    ")\n",
    "\n",
    "main = main.groupby(['CodigoEmpleado', 'Fecha'], as_index=False)[['Real', 'Presupuesto']].apply(sum)\n",
    "main.reset_index(inplace=True)\n",
    "\n",
    "# Variable solo de VCs y VEs #\n",
    "if len(codigos_ve_vc) > 0 and fecha_liquidacion >= '2022-03-01' and fecha_liquidacion <= '2022-12-01':\n",
    "    main = main[main['Fecha'] >= '2022-03-01']\n",
    "###\n",
    "\n",
    "main['Real'] = main.groupby(['CodigoEmpleado'])['Real'].transform(pd.Series.cumsum)\n",
    "main['Presupuesto'] = main.groupby(['CodigoEmpleado'])['Presupuesto'].transform(pd.Series.cumsum)\n",
    "main['PorcentajeCumplimiento'] = (main['Real']/main['Presupuesto']).apply(lambda x: round(x, 2))\n",
    "main['Variable'] = 'VentaFacturadaPortafolioCluster'\n",
    "main['Contexto'] = main['CodigoEmpleado']\n",
    "main = main[['Contexto', 'Variable', 'Fecha', 'Real', 'Presupuesto', 'PorcentajeCumplimiento']]   \n",
    "###\n",
    "\n",
    "\n",
    "venta_facturada_portafolio_cluster = main.copy()\n",
    "main = None\n",
    "venta_facturada_portafolio_cluster"
   ]
  },
  {
   "cell_type": "code",
   "execution_count": null,
   "metadata": {},
   "outputs": [],
   "source": [
    "venta_facturada_portafolio_cluster[\n",
    "    (venta_facturada_portafolio_cluster['Contexto'] == '1111115')\n",
    "]"
   ]
  },
  {
   "cell_type": "markdown",
   "metadata": {
    "datalore": {
     "hide_input_from_viewers": false,
     "hide_output_from_viewers": false,
     "type": "MD"
    }
   },
   "source": [
    "## 24. Venta Facturada Portafolio Cluster sub (VentaFacturadaPortafolioClusterSub)"
   ]
  },
  {
   "cell_type": "code",
   "execution_count": null,
   "metadata": {
    "datalore": {
     "hide_input_from_viewers": false,
     "hide_output_from_viewers": false,
     "type": "CODE"
    }
   },
   "outputs": [],
   "source": [
    "drop_cols = ['Recaudo', 'Canal', 'ZonaGeografica']\n",
    "area_calculo_sba = area_calculo_sba_completo.copy()\n",
    "real = df_venta_recaudo_real.copy().drop(columns=drop_cols)\n",
    "ppto = df_venta_recaudo_presupuesto.copy().drop(columns=drop_cols)\n",
    "\n",
    "\n",
    "# Sumamos los registros que tienen el mismo conexto para que exista un solo registro\n",
    "ppto = ppto.groupby(['CodigoEmpleado','Division', 'Cluster', 'GrupoProducto', 'SBA', 'Fecha'], as_index=False)[['Venta']].apply(sum)\n",
    "real = real.groupby(['CodigoEmpleado','Division', 'Cluster', 'GrupoProducto', 'SBA', 'Fecha'], as_index=False)[['Venta']].apply(sum)\n",
    "ppto.reset_index(inplace=True)\n",
    "real.reset_index(inplace=True)\n",
    "\n",
    "main = pd.merge(\n",
    "    ppto.rename(columns={'Venta': 'Presupuesto'}),\n",
    "    real.rename(columns={'Venta': 'Real'}),\n",
    "    on=['CodigoEmpleado','Division', 'Cluster', 'GrupoProducto', 'SBA', 'Fecha'],\n",
    "    how='left'\n",
    ")\n",
    "main['Real'].fillna(0, inplace=True)\n",
    "\n",
    "\n",
    "# Traer áreas de cálculo y tipo de empleado de la maestra de empleados\n",
    "empleados = df_empleados[['TipoEmpleado', 'CodigoEmpleado', 'AreaCalculo', 'FechaIngreso']].copy()\n",
    "main = main.merge(empleados, on=['CodigoEmpleado'], how='left')\n",
    "\n",
    "main = main[main['Fecha'] >= main['FechaIngreso']]\n",
    "\n",
    "# Traer Consecutivos\n",
    "main = main.merge(\n",
    "    area_calculo_sba,\n",
    "    on=['AreaCalculo', 'Division', 'GrupoProducto', 'SBA', 'TipoEmpleado'],\n",
    "    how='left'\n",
    ")\n",
    "main.dropna(subset=['Consecutivo'], inplace=True)\n",
    "main = main[main.Presupuesto.notnull()]\n",
    "\n",
    "main = main.groupby(['TipoEmpleado', 'AreaCalculo', 'Consecutivo', 'Cluster', 'Fecha'], as_index=False)[['Real', 'Presupuesto']].apply(sum)\n",
    "main.reset_index(inplace=True)\n",
    "\n",
    "### Agrupación a nivel de empleado por clusters\n",
    "main = pd.merge(\n",
    "    df_clusters_empleado[['CodigoEmpleado', 'TipoEmpleado', 'AreaCalculo', 'Cluster']],\n",
    "    main,\n",
    "    on=['TipoEmpleado', 'AreaCalculo', 'Cluster'],\n",
    "    how='left'\n",
    ")\n",
    "\n",
    "main = main.groupby(['CodigoEmpleado', 'Consecutivo', 'Fecha'], as_index=False)[['Real', 'Presupuesto']].apply(sum)\n",
    "main.reset_index(inplace=True)\n",
    "\n",
    "# Variable solo de VCs y VEs #\n",
    "if len(codigos_ve_vc) > 0 and fecha_liquidacion >= '2022-03-01' and fecha_liquidacion <= '2022-12-01':\n",
    "    main = main[main['Fecha'] >= '2022-03-01']\n",
    "###\n",
    "\n",
    "main['Real'] = main.groupby(['CodigoEmpleado', 'Consecutivo'])['Real'].transform(pd.Series.cumsum)\n",
    "main['Presupuesto'] = main.groupby(['CodigoEmpleado', 'Consecutivo'])['Presupuesto'].transform(pd.Series.cumsum)\n",
    "main['PorcentajeCumplimiento'] = (main['Real']/main['Presupuesto']).apply(lambda x: round(x, 2))\n",
    "main['Variable'] = 'VentaFacturadaPortafolioClusterSub'\n",
    "main['Contexto'] = main['CodigoEmpleado'] + '_' +  main['Consecutivo'].astype(int).astype('str')\n",
    "main = main[['Contexto', 'Variable', 'Fecha', 'Real', 'Presupuesto', 'PorcentajeCumplimiento']]   \n",
    "###\n",
    "\n",
    "\n",
    "venta_facturada_portafolio_cluster_sub = main.copy()\n",
    "main = None\n",
    "venta_facturada_portafolio_cluster_sub"
   ]
  },
  {
   "cell_type": "markdown",
   "metadata": {
    "datalore": {
     "hide_input_from_viewers": false,
     "hide_output_from_viewers": false,
     "type": "MD"
    }
   },
   "source": [
    "## 25. Venta cobrada y facturada portafolio (VentaCobradaPortafolioPais, VentaFacturadaPortafolioZonaSub, VentaCobradaPortafolioZona, VentaCobradaPortafolioClusterSub, VentaFacturadaPorfafolioCluster)"
   ]
  },
  {
   "cell_type": "code",
   "execution_count": null,
   "metadata": {
    "datalore": {
     "hide_input_from_viewers": false,
     "hide_output_from_viewers": false,
     "type": "CODE"
    }
   },
   "outputs": [],
   "source": [
    "def pre_merge_venta_cobrada_zona_hospitalaria_sub(x):\n",
    "    x['Consecutivo'] = x['Consecutivo'].astype('str')\n",
    "    return x"
   ]
  },
  {
   "cell_type": "markdown",
   "metadata": {
    "datalore": {
     "hide_input_from_viewers": false,
     "hide_output_from_viewers": false,
     "type": "MD"
    }
   },
   "source": [
    "### 25.1 Para VE"
   ]
  },
  {
   "cell_type": "code",
   "execution_count": null,
   "metadata": {
    "datalore": {
     "hide_input_from_viewers": false,
     "hide_output_from_viewers": false,
     "type": "CODE"
    }
   },
   "outputs": [],
   "source": [
    "area_calculo_sba_completo_ve = area_calculo_sba_completo[area_calculo_sba_completo['TipoEmpleado']=='VE']\n",
    "\n",
    "#Se halla la informacion de la venta y recaudo real de los representantes de ventas de los VE\n",
    "venta_recaudo_presupuesto_original_ve_real = area_calculo_sba_completo_ve.merge(\n",
    "    df_venta_recaudo_real[['Division', 'GrupoProducto', 'SBA', 'ZonaGeografica', 'Cluster', 'Canal', 'Fecha', 'Venta', 'Recaudo']],\n",
    "    on=['Division', 'GrupoProducto', 'SBA']\n",
    ")\n",
    "\n",
    "#Se halla la informacion de la venta y recaudo presupuesto de los representantes de ventas de los VE\n",
    "venta_recaudo_presupuesto_original_ve_presupuesto = area_calculo_sba_completo_ve.merge(\n",
    "    df_venta_recaudo_presupuesto[['Division', 'GrupoProducto', 'SBA', 'ZonaGeografica', 'Cluster', 'Canal', 'Fecha', 'Venta', 'Recaudo']],\n",
    "    on=['Division', 'GrupoProducto', 'SBA']\n",
    ")"
   ]
  },
  {
   "cell_type": "markdown",
   "metadata": {
    "datalore": {
     "hide_input_from_viewers": false,
     "hide_output_from_viewers": false,
     "type": "MD"
    }
   },
   "source": [
    "#### 25.1.1 VentaCobradaPortafolioPais"
   ]
  },
  {
   "cell_type": "code",
   "execution_count": null,
   "metadata": {
    "datalore": {
     "hide_input_from_viewers": false,
     "hide_output_from_viewers": false,
     "type": "CODE"
    }
   },
   "outputs": [],
   "source": [
    "recaudo_real_ve = venta_recaudo_presupuesto_original_ve_real.groupby(['AreaCalculo', 'Fecha'], as_index=False).agg({'Recaudo': 'sum'})\n",
    "recaudo_real_ve.rename(columns={'Recaudo': 'Real'}, inplace=True)\n",
    "\n",
    "recaudo_presupuesto_ve = venta_recaudo_presupuesto_original_ve_presupuesto.groupby(['AreaCalculo', 'Fecha'], as_index=False).agg({'Recaudo': 'sum'})\n",
    "recaudo_presupuesto_ve.rename(columns={'Recaudo': 'Presupuesto'}, inplace=True)\n",
    "\n",
    "main = pd.merge(\n",
    "    left=recaudo_presupuesto_ve,\n",
    "    right=recaudo_real_ve,\n",
    "    on=['AreaCalculo', 'Fecha'],\n",
    "    how='left'\n",
    ")\n",
    "\n",
    "# TODO Validar si los resultados anteriores a fecha de ingreso se ignoran para TODOS\n",
    "\n",
    "main['Real'].fillna(0.0, inplace=True)\n",
    "\n",
    "# Variable solo de VCs y VEs #\n",
    "if len(codigos_ve_vc) > 0 and fecha_liquidacion >= '2022-03-01' and fecha_liquidacion <= '2022-12-01':\n",
    "    main = main[main['Fecha'] >= '2022-03-01']\n",
    "###\n",
    "\n",
    "main['Real'] = main.groupby(['AreaCalculo'])['Real'].transform(pd.Series.cumsum)\n",
    "main['Presupuesto'] = main.groupby(['AreaCalculo'])['Presupuesto'].transform(pd.Series.cumsum)\n",
    "main['PorcentajeCumplimiento'] = main['Real'] / main['Presupuesto']\n",
    "main['PorcentajeCumplimiento'] = main['PorcentajeCumplimiento'].apply(lambda x: round(x, 2))\n",
    "\n",
    "main['AreaCalculo'] = main['AreaCalculo'].astype('str')\n",
    "main['Contexto'] = 'VE_' + main['AreaCalculo']\n",
    "main['Variable'] = 'VentaCobradaPortafolioPais'\n",
    "main = main[['Contexto', 'Variable', 'Fecha', 'Real', 'Presupuesto', 'PorcentajeCumplimiento']]\n",
    "\n",
    "venta_cobrada_portafolio_pais_ve = main.copy()\n",
    "main = None\n",
    "\n",
    "venta_cobrada_portafolio_pais_ve"
   ]
  },
  {
   "cell_type": "code",
   "execution_count": null,
   "metadata": {},
   "outputs": [],
   "source": [
    "venta_cobrada_portafolio_pais_ve[\n",
    "    (venta_cobrada_portafolio_pais_ve['Contexto'] == 'VE_4')\n",
    "]"
   ]
  },
  {
   "cell_type": "code",
   "execution_count": null,
   "metadata": {},
   "outputs": [],
   "source": [
    "venta_cobrada_portafolio_pais_ve[\n",
    "    (venta_cobrada_portafolio_pais_ve['Contexto'] == 'VE_7')\n",
    "]"
   ]
  },
  {
   "cell_type": "markdown",
   "metadata": {
    "datalore": {
     "hide_input_from_viewers": false,
     "hide_output_from_viewers": false,
     "type": "MD"
    }
   },
   "source": [
    "#### 25.1.2 VentaCobradaPortafolioZona"
   ]
  },
  {
   "cell_type": "code",
   "execution_count": null,
   "metadata": {
    "datalore": {
     "hide_input_from_viewers": false,
     "hide_output_from_viewers": false,
     "type": "CODE"
    }
   },
   "outputs": [],
   "source": [
    "print(venta_recaudo_presupuesto_original_ve_real)\n",
    "\n",
    "recaudo_real_zona_ve = venta_recaudo_presupuesto_original_ve_real.groupby(['AreaCalculo', 'ZonaGeografica', 'Fecha'], as_index=False).agg({'Recaudo': 'sum'})\n",
    "recaudo_real_zona_ve.rename(columns={'Recaudo': 'Real'}, inplace=True)\n",
    "\n",
    "recaudo_presupuesto_zona_ve = venta_recaudo_presupuesto_original_ve_presupuesto.groupby(['AreaCalculo', 'ZonaGeografica', 'Fecha'], as_index=False).agg({'Recaudo': 'sum'})\n",
    "recaudo_presupuesto_zona_ve.rename(columns={'Recaudo': 'Presupuesto'}, inplace=True)\n",
    "\n",
    "main = pd.merge(\n",
    "    left=recaudo_presupuesto_zona_ve,\n",
    "    right=recaudo_real_zona_ve,\n",
    "    on=['ZonaGeografica', 'AreaCalculo', 'Fecha'],\n",
    "    how='left'\n",
    ")\n",
    "\n",
    "main['Real'].fillna(0.0, inplace=True)\n",
    "\n",
    "main['Real'] = main.groupby(['AreaCalculo', 'ZonaGeografica', 'Fecha'])['Real'].transform(pd.Series.sum)\n",
    "main['Presupuesto'] = main.groupby(['AreaCalculo', 'ZonaGeografica', 'Fecha'])['Presupuesto'].transform(pd.Series.sum)\n",
    "\n",
    "main['TipoEmpleado'] = 'VE'\n",
    "\n",
    "### Agrupación a nivel de empleado por zonas\n",
    "main = pd.merge(\n",
    "    df_zonas_empleado[['CodigoEmpleado', 'TipoEmpleado', 'AreaCalculo', 'Zona']].rename(columns={'Zona': 'ZonaGeografica'}),\n",
    "    main,\n",
    "    on=['TipoEmpleado', 'AreaCalculo', 'ZonaGeografica'],\n",
    "    how='left'\n",
    ")\n",
    "\n",
    "main = pd.merge(\n",
    "    main,\n",
    "    df_empleados[['CodigoEmpleado', 'FechaIngreso']],\n",
    "    on='CodigoEmpleado',\n",
    "    how='left'\n",
    ")\n",
    "main = main[main['Fecha'] >= main['FechaIngreso']]\n",
    "\n",
    "main = main.groupby(['CodigoEmpleado', 'Fecha'], as_index=False)[['Real', 'Presupuesto']].apply(sum)\n",
    "main.reset_index(inplace=True)\n",
    "\n",
    "# Variable solo de VCs y VEs #\n",
    "if len(codigos_ve_vc) > 0 and fecha_liquidacion >= '2022-03-01' and fecha_liquidacion <= '2022-12-01':\n",
    "    main = main[main['Fecha'] >= '2022-03-01']\n",
    "###\n",
    "\n",
    "\n",
    "main['Real'] = main.groupby(['CodigoEmpleado'])['Real'].transform(pd.Series.cumsum)\n",
    "main['Presupuesto'] = main.groupby(['CodigoEmpleado'])['Presupuesto'].transform(pd.Series.cumsum)\n",
    "main['PorcentajeCumplimiento'] = (main['Real']/main['Presupuesto']).apply(lambda x: round(x, 2))\n",
    "main['Variable'] = 'VentaCobradaPortafolioZona'\n",
    "main['Contexto'] = main['CodigoEmpleado']\n",
    "main = main[['Contexto', 'Variable', 'Fecha', 'Real', 'Presupuesto', 'PorcentajeCumplimiento']]\n",
    "###\n",
    "\n",
    "venta_cobrada_portafolio_zona_ve = main.copy()\n",
    "main = None\n",
    "\n",
    "venta_cobrada_portafolio_zona_ve"
   ]
  },
  {
   "cell_type": "code",
   "execution_count": null,
   "metadata": {},
   "outputs": [],
   "source": [
    "def _get_or_create_zona_cluster(empleado, cluster, zona):\n",
    "    if not empleado or not (cluster or zona):\n",
    "        return False\n",
    "    return True\n",
    "\n",
    "_get_or_create_zona_cluster(True, True, None)"
   ]
  },
  {
   "cell_type": "markdown",
   "metadata": {
    "datalore": {
     "hide_input_from_viewers": false,
     "hide_output_from_viewers": false,
     "type": "MD"
    }
   },
   "source": [
    "#### 25.1.3 VentaFacturadaPortafolioZonaSub"
   ]
  },
  {
   "cell_type": "code",
   "execution_count": null,
   "metadata": {
    "datalore": {
     "hide_input_from_viewers": false,
     "hide_output_from_viewers": false,
     "type": "CODE"
    }
   },
   "outputs": [],
   "source": [
    "venta_real_zona_consecutivo_ve = venta_recaudo_presupuesto_original_ve_real.groupby(['AreaCalculo', 'ZonaGeografica', 'Consecutivo', 'Fecha'], as_index=False).agg({'Venta': 'sum'})\n",
    "venta_real_zona_consecutivo_ve.rename(columns={'Venta': 'Real'}, inplace=True)\n",
    "\n",
    "venta_presupuesto_zona_consecutivo_ve = venta_recaudo_presupuesto_original_ve_presupuesto.groupby(['AreaCalculo', 'ZonaGeografica', 'Consecutivo', 'Fecha'], as_index=False).agg({'Venta': 'sum'})\n",
    "venta_presupuesto_zona_consecutivo_ve.rename(columns={'Venta': 'Presupuesto'}, inplace=True)\n",
    "\n",
    "main = pd.merge(\n",
    "    left=venta_presupuesto_zona_consecutivo_ve,\n",
    "    right=venta_real_zona_consecutivo_ve,\n",
    "    on=['ZonaGeografica', 'AreaCalculo', 'Consecutivo', 'Fecha'],\n",
    "    how='left'\n",
    ")\n",
    "\n",
    "main['Real'].fillna(0.0, inplace=True)\n",
    "\n",
    "main['Real'] = main.groupby(['AreaCalculo', 'ZonaGeografica', 'Consecutivo', 'Fecha'])['Real'].transform(pd.Series.sum)\n",
    "main['Presupuesto'] = main.groupby(['AreaCalculo', 'ZonaGeografica', 'Consecutivo', 'Fecha'])['Presupuesto'].transform(pd.Series.sum)\n",
    "\n",
    "main['Consecutivo'] = main['Consecutivo'].astype('str')\n",
    "main['TipoEmpleado'] = 'VE'\n",
    "\n",
    "### Agrupación a nivel de empleado por zonas\n",
    "main = pd.merge(\n",
    "    df_zonas_empleado[['CodigoEmpleado', 'TipoEmpleado', 'AreaCalculo', 'Zona']].rename(columns={'Zona': 'ZonaGeografica'}),\n",
    "    main,\n",
    "    on=['TipoEmpleado', 'AreaCalculo', 'ZonaGeografica'],\n",
    "    how='left'\n",
    ")\n",
    "\n",
    "main = pd.merge(\n",
    "    main,\n",
    "    df_empleados[['CodigoEmpleado', 'FechaIngreso']],\n",
    "    on='CodigoEmpleado',\n",
    "    how='left'\n",
    ")\n",
    "main = main[main['Fecha'] >= main['FechaIngreso']]\n",
    "\n",
    "main = main.groupby(['CodigoEmpleado', 'Consecutivo', 'Fecha'], as_index=False)[['Real', 'Presupuesto']].apply(sum)\n",
    "main.reset_index(inplace=True)\n",
    "\n",
    "# Variable solo de VCs y VEs #\n",
    "if len(codigos_ve_vc) > 0 and fecha_liquidacion >= '2022-03-01' and fecha_liquidacion <= '2022-12-01':\n",
    "    main = main[main['Fecha'] >= '2022-03-01']\n",
    "###\n",
    "\n",
    "main['Real'] = main.groupby(['CodigoEmpleado', 'Consecutivo'])['Real'].transform(pd.Series.cumsum)\n",
    "main['Presupuesto'] = main.groupby(['CodigoEmpleado', 'Consecutivo'])['Presupuesto'].transform(pd.Series.cumsum)\n",
    "main['PorcentajeCumplimiento'] = (main['Real']/main['Presupuesto']).apply(lambda x: round(x, 2))\n",
    "main['Variable'] = 'VentaFacturadaPortafolioZonaSub'\n",
    "main['Contexto'] = main['CodigoEmpleado'] + '_' +  main['Consecutivo'].astype(int).astype('str')\n",
    "main = main[['Contexto', 'Variable', 'Fecha', 'Real', 'Presupuesto', 'PorcentajeCumplimiento']]\n",
    "###\n",
    "\n",
    "venta_facturada_portafolio_zona_sub_ve = main.copy()\n",
    "main = None\n",
    "\n",
    "venta_facturada_portafolio_zona_sub_ve"
   ]
  },
  {
   "cell_type": "markdown",
   "metadata": {
    "datalore": {
     "hide_input_from_viewers": false,
     "hide_output_from_viewers": false,
     "type": "MD"
    }
   },
   "source": [
    "#### 25.1.4 VentaCobradaPortafolioCluster"
   ]
  },
  {
   "cell_type": "code",
   "execution_count": null,
   "metadata": {
    "datalore": {
     "hide_input_from_viewers": false,
     "hide_output_from_viewers": false,
     "type": "CODE"
    }
   },
   "outputs": [],
   "source": [
    "recaudo_real_cluster_ve = venta_recaudo_presupuesto_original_ve_real.groupby(['AreaCalculo', 'Cluster', 'Fecha'], as_index=False).agg({'Recaudo': 'sum'})\n",
    "recaudo_real_cluster_ve.rename(columns={'Recaudo': 'Real'}, inplace=True)\n",
    "\n",
    "recaudo_presupuesto_cluster_ve = venta_recaudo_presupuesto_original_ve_presupuesto.groupby(['AreaCalculo', 'Cluster', 'Fecha'], as_index=False).agg({'Recaudo': 'sum'})\n",
    "recaudo_presupuesto_cluster_ve.rename(columns={'Recaudo': 'Presupuesto'}, inplace=True)\n",
    "\n",
    "main = pd.merge(\n",
    "    left=recaudo_presupuesto_cluster_ve,\n",
    "    right=recaudo_real_cluster_ve,\n",
    "    on=['Cluster', 'AreaCalculo', 'Fecha'],\n",
    "    how='left'\n",
    ")\n",
    "\n",
    "main['Real'].fillna(0.0, inplace=True)\n",
    "\n",
    "main['Real'] = main.groupby(['AreaCalculo', 'Cluster', 'Fecha'])['Real'].transform(pd.Series.sum)\n",
    "main['Presupuesto'] = main.groupby(['AreaCalculo', 'Cluster', 'Fecha'])['Presupuesto'].transform(pd.Series.sum)\n",
    "\n",
    "main['TipoEmpleado'] = 'VE'\n",
    "\n",
    "### Agrupación a nivel de empleado por zonas\n",
    "main = pd.merge(\n",
    "    df_clusters_empleado[['CodigoEmpleado', 'TipoEmpleado', 'AreaCalculo', 'Cluster']],\n",
    "    main,\n",
    "    on=['TipoEmpleado', 'AreaCalculo', 'Cluster'],\n",
    "    how='left'\n",
    ")\n",
    "main = main.groupby(['CodigoEmpleado', 'Fecha'], as_index=False)[['Real', 'Presupuesto']].apply(sum)\n",
    "main.reset_index(inplace=True)\n",
    "\n",
    "main = pd.merge(\n",
    "    left=main,\n",
    "    right=df_empleados[['CodigoEmpleado', 'FechaIngreso']],\n",
    "    on=['CodigoEmpleado'],\n",
    "    how='left'\n",
    ")\n",
    "main = main[main['Fecha'] >= main['FechaIngreso']]\n",
    "main.drop(columns=['FechaIngreso'], inplace=True)\n",
    "\n",
    "# Variable solo de VCs y VEs #\n",
    "if len(codigos_ve_vc) > 0 and fecha_liquidacion >= '2022-03-01' and fecha_liquidacion <= '2022-12-01':\n",
    "    main = main[main['Fecha'] >= '2022-03-01']\n",
    "###\n",
    "\n",
    "main['Real'] = main.groupby(['CodigoEmpleado'])['Real'].transform(pd.Series.cumsum)\n",
    "main['Presupuesto'] = main.groupby(['CodigoEmpleado'])['Presupuesto'].transform(pd.Series.cumsum)\n",
    "main['PorcentajeCumplimiento'] = (main['Real']/main['Presupuesto']).apply(lambda x: round(x, 2))\n",
    "main['Variable'] = 'VentaCobradaPortafolioCluster'\n",
    "\n",
    "### Cálculo de resultados cualitativos precargados\n",
    "main = dataframe_loader.sobreescribir_resultados_cualitativos(\n",
    "    main=main,\n",
    "    df_resultados_variables_cualitativas=df_resultados_variables_cualitativas,\n",
    "    variable='VentaCobradaPortafolioCluster',\n",
    "    columnas_extra=['CodigoEmpleado'],\n",
    "    columnas_extra_merge=['CodigoEmpleado']\n",
    ")\n",
    "###\n",
    "\n",
    "main['Contexto'] = main['CodigoEmpleado']\n",
    "main = main[['Contexto', 'Variable', 'Fecha', 'Real', 'Presupuesto', 'PorcentajeCumplimiento']]\n",
    "###\n",
    "\n",
    "venta_cobrada_portafolio_cluster_ve = main.copy()\n",
    "main = None\n",
    "\n",
    "venta_cobrada_portafolio_cluster_ve"
   ]
  },
  {
   "cell_type": "markdown",
   "metadata": {
    "datalore": {
     "hide_input_from_viewers": false,
     "hide_output_from_viewers": false,
     "type": "MD"
    }
   },
   "source": [
    "#### 25.1.5 VentaFacturadaPortafolioClusterSub"
   ]
  },
  {
   "cell_type": "code",
   "execution_count": null,
   "metadata": {
    "datalore": {
     "hide_input_from_viewers": false,
     "hide_output_from_viewers": false,
     "type": "CODE"
    }
   },
   "outputs": [],
   "source": [
    "venta_real_cluster_consecutivo_ve = venta_recaudo_presupuesto_original_ve_real.groupby(['AreaCalculo', 'Cluster', 'Consecutivo', 'Fecha'], as_index=False).agg({'Venta': 'sum'})\n",
    "venta_real_cluster_consecutivo_ve.rename(columns={'Venta': 'Real'}, inplace=True)\n",
    "\n",
    "venta_presupuesto_cluster_consecutivo_ve = venta_recaudo_presupuesto_original_ve_presupuesto.groupby(['AreaCalculo', 'Cluster', 'Consecutivo', 'Fecha'], as_index=False).agg({'Venta': 'sum'})\n",
    "venta_presupuesto_cluster_consecutivo_ve.rename(columns={'Venta': 'Presupuesto'}, inplace=True)\n",
    "\n",
    "main = pd.merge(\n",
    "    left=venta_presupuesto_cluster_consecutivo_ve,\n",
    "    right=venta_real_cluster_consecutivo_ve,\n",
    "    on=['Cluster', 'AreaCalculo', 'Consecutivo', 'Fecha'],\n",
    "    how='left'\n",
    ")\n",
    "\n",
    "main['Real'].fillna(0.0, inplace=True)\n",
    "\n",
    "main['Real'] = main.groupby(['AreaCalculo', 'Cluster', 'Consecutivo', 'Fecha'])['Real'].transform(pd.Series.sum)\n",
    "main['Presupuesto'] = main.groupby(['AreaCalculo', 'Cluster', 'Consecutivo', 'Fecha'])['Presupuesto'].transform(pd.Series.sum)\n",
    "\n",
    "main['Consecutivo'] = main['Consecutivo'].astype('str')\n",
    "main['TipoEmpleado'] = 'VE'\n",
    "\n",
    "### Agrupación a nivel de empleado por zonas\n",
    "main = pd.merge(\n",
    "    df_clusters_empleado[['CodigoEmpleado', 'TipoEmpleado', 'AreaCalculo', 'Cluster']],\n",
    "    main,\n",
    "    on=['TipoEmpleado', 'AreaCalculo', 'Cluster'],\n",
    "    how='left'\n",
    ")\n",
    "\n",
    "main = pd.merge(\n",
    "    left=main,\n",
    "    right=df_empleados[['CodigoEmpleado', 'FechaIngreso']],\n",
    "    on=['CodigoEmpleado'],\n",
    "    how='left'\n",
    ")\n",
    "main = main[main['Fecha'] >= main['FechaIngreso']]\n",
    "main.drop(columns=['FechaIngreso'], inplace=True)\n",
    "\n",
    "main = main.groupby(['CodigoEmpleado', 'Consecutivo', 'Fecha'], as_index=False)[['Real', 'Presupuesto']].apply(sum)\n",
    "main.reset_index(inplace=True)\n",
    "\n",
    "# Variable solo de VCs y VEs #\n",
    "if len(codigos_ve_vc) > 0 and fecha_liquidacion >= '2022-03-01' and fecha_liquidacion <= '2022-12-01':\n",
    "    main = main[main['Fecha'] >= '2022-03-01']\n",
    "###\n",
    "\n",
    "main['Real'] = main.groupby(['CodigoEmpleado', 'Consecutivo'])['Real'].transform(pd.Series.cumsum)\n",
    "main['Presupuesto'] = main.groupby(['CodigoEmpleado', 'Consecutivo'])['Presupuesto'].transform(pd.Series.cumsum)\n",
    "main['PorcentajeCumplimiento'] = (main['Real']/main['Presupuesto']).apply(lambda x: round(x, 2))\n",
    "main['Variable'] = 'VentaFacturadaPortafolioClusterSub'\n",
    "\n",
    "### Cálculo de resultados cualitativos precargados\n",
    "main = dataframe_loader.sobreescribir_resultados_cualitativos(\n",
    "    main=main,\n",
    "    df_resultados_variables_cualitativas=df_resultados_variables_cualitativas,\n",
    "    variable='VentaFacturadaPortafolioClusterSub',\n",
    "    columnas_extra=['CodigoEmpleado', 'Consecutivo'],\n",
    "    columnas_extra_merge=['CodigoEmpleado', 'Consecutivo']\n",
    ")\n",
    "###\n",
    "\n",
    "main['Contexto'] = main['CodigoEmpleado'] + '_' +  main['Consecutivo'].astype(int).astype('str')\n",
    "main = main[['Contexto', 'Variable', 'Fecha', 'Real', 'Presupuesto', 'PorcentajeCumplimiento']]\n",
    "###\n",
    "\n",
    "venta_facturada_portafolio_cluster_sub_ve = main.copy()\n",
    "main = None\n",
    "\n",
    "venta_facturada_portafolio_cluster_sub_ve"
   ]
  },
  {
   "cell_type": "markdown",
   "metadata": {
    "datalore": {
     "hide_input_from_viewers": false,
     "hide_output_from_viewers": false,
     "type": "MD"
    }
   },
   "source": [
    "### 25.2 Para GC "
   ]
  },
  {
   "cell_type": "code",
   "execution_count": null,
   "metadata": {
    "datalore": {
     "hide_input_from_viewers": false,
     "hide_output_from_viewers": false,
     "type": "CODE"
    }
   },
   "outputs": [],
   "source": [
    "area_calculo_sba_completo_gc = area_calculo_sba_completo[area_calculo_sba_completo['TipoEmpleado']=='GC']\n",
    "\n",
    "#Se halla la informacion de la venta y recaudo real de los representantes de ventas de los GC\n",
    "venta_recaudo_presupuesto_original_gc_real = area_calculo_sba_completo_gc.merge(\n",
    "    df_venta_recaudo_real[['Division', 'GrupoProducto', 'SBA', 'ZonaGeografica', 'Canal', 'Fecha', 'Venta', 'Recaudo']],\n",
    "    on=['Division', 'GrupoProducto', 'SBA']\n",
    ")\n",
    "\n",
    "#Se halla la informacion de la venta y recaudo presupuesto de los representantes de ventas de los GC\n",
    "venta_recaudo_presupuesto_original_gc_presupuesto = area_calculo_sba_completo_gc.merge(\n",
    "    df_venta_recaudo_presupuesto[['Division', 'GrupoProducto', 'SBA', 'ZonaGeografica', 'Canal', 'Fecha', 'Venta', 'Recaudo']],\n",
    "    on=['Division', 'GrupoProducto', 'SBA']\n",
    ")"
   ]
  },
  {
   "cell_type": "markdown",
   "metadata": {
    "datalore": {
     "hide_input_from_viewers": false,
     "hide_output_from_viewers": false,
     "type": "MD"
    }
   },
   "source": [
    "#### 25.2.1 VentaCobradaZonaHospitalarioSub"
   ]
  },
  {
   "cell_type": "code",
   "execution_count": null,
   "metadata": {
    "datalore": {
     "hide_input_from_viewers": false,
     "hide_output_from_viewers": false,
     "type": "CODE"
    }
   },
   "outputs": [],
   "source": [
    "recaudo_real_zona_sub_ch_gc = venta_recaudo_presupuesto_original_gc_real.query('Canal==\"Hospital\" or Canal==\"Distribuidor\" or Canal==\"Opl\" or Canal==\"Asegurador\" or Canal==\"Central De Mezcla\"')\n",
    "recaudo_real_zona_sub_ch_gc = recaudo_real_zona_sub_ch_gc.groupby(['AreaCalculo', 'ZonaGeografica', 'Consecutivo', 'Fecha'], as_index=False).agg({'Recaudo': 'sum'})\n",
    "recaudo_real_zona_sub_ch_gc.rename(columns={'Recaudo': 'Real'}, inplace=True)\n",
    "\n",
    "recaudo_presupuesto_zona_sub_ch_gc = venta_recaudo_presupuesto_original_gc_presupuesto.query('Canal==\"Hospital\" or Canal==\"Distribuidor\" or Canal==\"Opl\" or Canal==\"Asegurador\" or Canal==\"Central De Mezcla\"')\n",
    "recaudo_presupuesto_zona_sub_ch_gc = recaudo_presupuesto_zona_sub_ch_gc.groupby(['AreaCalculo', 'ZonaGeografica', 'Consecutivo', 'Fecha'], as_index=False).agg({'Recaudo': 'sum'})\n",
    "recaudo_presupuesto_zona_sub_ch_gc.rename(columns={'Recaudo': 'Presupuesto'}, inplace=True)\n",
    "\n",
    "main = pd.merge(\n",
    "    left=recaudo_presupuesto_zona_sub_ch_gc,\n",
    "    right=recaudo_real_zona_sub_ch_gc,\n",
    "    on=['ZonaGeografica', 'AreaCalculo', 'Consecutivo', 'Fecha'],\n",
    "    how='left'\n",
    ")\n",
    "\n",
    "main['Real'].fillna(0.0, inplace=True)\n",
    "\n",
    "main['Real'] = main.groupby(['AreaCalculo', 'ZonaGeografica', 'Consecutivo', 'Fecha'])['Real'].transform(pd.Series.sum)\n",
    "main['Presupuesto'] = main.groupby(['AreaCalculo', 'ZonaGeografica', 'Consecutivo', 'Fecha'])['Presupuesto'].transform(pd.Series.sum)\n",
    "\n",
    "main['Consecutivo'] = main['Consecutivo'].astype('str')\n",
    "main['TipoEmpleado'] = 'GC'\n",
    "\n",
    "### Agrupación a nivel de empleado por zonas\n",
    "main = pd.merge(\n",
    "    df_zonas_empleado[['CodigoEmpleado', 'TipoEmpleado', 'AreaCalculo', 'Zona']].rename(columns={'Zona': 'ZonaGeografica'}),\n",
    "    main,\n",
    "    on=['TipoEmpleado', 'AreaCalculo', 'ZonaGeografica'],\n",
    "    how='left'\n",
    ")\n",
    "main = main.groupby(['CodigoEmpleado', 'Consecutivo', 'Fecha'], as_index=False)[['Real', 'Presupuesto']].apply(sum)\n",
    "main.reset_index(inplace=True)\n",
    "main['Real'] = main.groupby(['CodigoEmpleado', 'Consecutivo'])['Real'].transform(pd.Series.cumsum)\n",
    "main['Presupuesto'] = main.groupby(['CodigoEmpleado', 'Consecutivo'])['Presupuesto'].transform(pd.Series.cumsum)\n",
    "main['PorcentajeCumplimiento'] = (main['Real']/main['Presupuesto']).apply(lambda x: round(x, 2))\n",
    "main['Variable'] = 'VentaCobradaZonaHospitalarioSub'\n",
    "###\n",
    "\n",
    "### Cálculo de resultados cualitativos precargados\n",
    "main = dataframe_loader.sobreescribir_resultados_cualitativos(\n",
    "    main=main,\n",
    "    df_resultados_variables_cualitativas=df_resultados_variables_cualitativas,\n",
    "    variable='VentaCobradaZonaHospitalarioSub',\n",
    "    columnas_extra=['CodigoEmpleado', 'Consecutivo'], \n",
    "    columnas_extra_merge=['CodigoEmpleado', 'Consecutivo'],\n",
    "    pre_merge_lambda=pre_merge_venta_cobrada_zona_hospitalaria_sub\n",
    ")\n",
    "###\n",
    "\n",
    "main['Contexto'] = main['CodigoEmpleado'] + '_' +  main['Consecutivo'].astype(int).astype('str')\n",
    "main = main[['Contexto', 'Variable', 'Fecha', 'Real', 'Presupuesto', 'PorcentajeCumplimiento']]\n",
    "\n",
    "\n",
    "venta_cobrada_zona_hospitalario_sub_gc = main.copy()\n",
    "main = None\n",
    "resultado_cualitativos_variable = None\n",
    "\n",
    "venta_cobrada_zona_hospitalario_sub_gc"
   ]
  },
  {
   "cell_type": "markdown",
   "metadata": {
    "datalore": {
     "hide_input_from_viewers": false,
     "hide_output_from_viewers": false,
     "type": "MD"
    }
   },
   "source": [
    "### 25.3 Para GD"
   ]
  },
  {
   "cell_type": "code",
   "execution_count": null,
   "metadata": {
    "datalore": {
     "hide_input_from_viewers": false,
     "hide_output_from_viewers": false,
     "type": "CODE"
    }
   },
   "outputs": [],
   "source": [
    "area_calculo_sba_completo_gd = area_calculo_sba_completo[area_calculo_sba_completo['TipoEmpleado']=='GD']\n",
    "\n",
    "#Se halla la informacion de la venta y recaudo real de los representantes de ventas de los GD\n",
    "venta_recaudo_presupuesto_original_gd_real = area_calculo_sba_completo_gd.merge(\n",
    "    df_venta_recaudo_real[['Division', 'GrupoProducto', 'SBA', 'ZonaGeografica', 'Canal', 'Fecha', 'Venta', 'Recaudo']],\n",
    "    on=['Division', 'GrupoProducto', 'SBA']\n",
    ")\n",
    "\n",
    "#Se halla la informacion de la venta y recaudo presupuesto de los representantes de ventas de los GD\n",
    "venta_recaudo_presupuesto_original_gd_presupuesto = area_calculo_sba_completo_gd.merge(\n",
    "    df_venta_recaudo_presupuesto[['Division', 'GrupoProducto', 'SBA', 'ZonaGeografica', 'Canal', 'Fecha', 'Venta', 'Recaudo']],\n",
    "    on=['Division', 'GrupoProducto', 'SBA']\n",
    ")"
   ]
  },
  {
   "cell_type": "markdown",
   "metadata": {
    "datalore": {
     "hide_input_from_viewers": false,
     "hide_output_from_viewers": false,
     "type": "MD"
    }
   },
   "source": [
    "#### 25.3.1 VentaCobradaZonaHospitalarioSub"
   ]
  },
  {
   "cell_type": "code",
   "execution_count": null,
   "metadata": {
    "datalore": {
     "hide_input_from_viewers": false,
     "hide_output_from_viewers": false,
     "type": "CODE"
    }
   },
   "outputs": [],
   "source": [
    "recaudo_real_zona_sub_ch_gd = venta_recaudo_presupuesto_original_gd_real.query('Canal==\"Hospital\" or Canal==\"Distribuidor\" or Canal==\"Opl\" or Canal==\"Asegurador\" or Canal==\"Central De Mezcla\"')\n",
    "recaudo_real_zona_sub_ch_gd = recaudo_real_zona_sub_ch_gd.groupby(['AreaCalculo', 'ZonaGeografica', 'Consecutivo', 'Fecha'], as_index=False).agg({'Recaudo': 'sum'})\n",
    "recaudo_real_zona_sub_ch_gd.rename(columns={'Recaudo': 'Real'}, inplace=True)\n",
    "\n",
    "recaudo_presupuesto_zona_sub_ch_gd = venta_recaudo_presupuesto_original_gd_presupuesto.query('Canal==\"Hospital\" or Canal==\"Distribuidor\" or Canal==\"Opl\" or Canal==\"Asegurador\" or Canal==\"Central De Mezcla\"')\n",
    "recaudo_presupuesto_zona_sub_ch_gd = recaudo_presupuesto_zona_sub_ch_gd.groupby(['AreaCalculo', 'ZonaGeografica', 'Consecutivo', 'Fecha'], as_index=False).agg({'Recaudo': 'sum'})\n",
    "recaudo_presupuesto_zona_sub_ch_gd.rename(columns={'Recaudo': 'Presupuesto'}, inplace=True)\n",
    "\n",
    "main = pd.merge(\n",
    "    left=recaudo_presupuesto_zona_sub_ch_gd,\n",
    "    right=recaudo_real_zona_sub_ch_gd,\n",
    "    on=['ZonaGeografica', 'AreaCalculo', 'Consecutivo', 'Fecha'],\n",
    "    how='left'\n",
    ")\n",
    "\n",
    "main['Real'].fillna(0.0, inplace=True)\n",
    "\n",
    "main['Real'] = main.groupby(['AreaCalculo', 'ZonaGeografica', 'Consecutivo', 'Fecha'])['Real'].transform(pd.Series.sum)\n",
    "main['Presupuesto'] = main.groupby(['AreaCalculo', 'ZonaGeografica', 'Consecutivo', 'Fecha'])['Presupuesto'].transform(pd.Series.sum)\n",
    "\n",
    "main['Consecutivo'] = main['Consecutivo'].astype('str')\n",
    "main['TipoEmpleado'] = 'GD'\n",
    "\n",
    "### Agrupación a nivel de empleado por zonas\n",
    "main = pd.merge(\n",
    "    df_zonas_empleado[['CodigoEmpleado', 'TipoEmpleado', 'AreaCalculo', 'Zona']].rename(columns={'Zona': 'ZonaGeografica'}),\n",
    "    main,\n",
    "    on=['TipoEmpleado', 'AreaCalculo', 'ZonaGeografica'],\n",
    "    how='left'\n",
    ")\n",
    "main = main.groupby(['CodigoEmpleado', 'Consecutivo', 'Fecha'], as_index=False)[['Real', 'Presupuesto']].apply(sum)\n",
    "main.reset_index(inplace=True)\n",
    "main['Real'] = main.groupby(['CodigoEmpleado', 'Consecutivo'])['Real'].transform(pd.Series.cumsum)\n",
    "main['Presupuesto'] = main.groupby(['CodigoEmpleado', 'Consecutivo'])['Presupuesto'].transform(pd.Series.cumsum)\n",
    "main['PorcentajeCumplimiento'] = (main['Real']/main['Presupuesto']).apply(lambda x: round(x, 2))\n",
    "main['Variable'] = 'VentaCobradaZonaHospitalarioSub'\n",
    "###\n",
    "\n",
    "### Cálculo de resultados cualitativos precargados\n",
    "main = dataframe_loader.sobreescribir_resultados_cualitativos(\n",
    "    main=main,\n",
    "    df_resultados_variables_cualitativas=df_resultados_variables_cualitativas,\n",
    "    variable='VentaCobradaZonaHospitalarioSub',\n",
    "    columnas_extra=['CodigoEmpleado', 'Consecutivo'], \n",
    "    columnas_extra_merge=['CodigoEmpleado', 'Consecutivo'],\n",
    "    pre_merge_lambda=pre_merge_venta_cobrada_zona_hospitalaria_sub\n",
    ")\n",
    "###\n",
    "\n",
    "main['Contexto'] = main['CodigoEmpleado'] + '_' +  main['Consecutivo'].astype(int).astype('str')\n",
    "main = main[['Contexto', 'Variable', 'Fecha', 'Real', 'Presupuesto', 'PorcentajeCumplimiento']]\n",
    "\n",
    "venta_cobrada_zona_hospitalario_sub_gd = main.copy()\n",
    "main = None\n",
    "\n",
    "venta_cobrada_zona_hospitalario_sub_gd"
   ]
  },
  {
   "cell_type": "markdown",
   "metadata": {
    "datalore": {
     "hide_input_from_viewers": false,
     "hide_output_from_viewers": false,
     "type": "MD"
    }
   },
   "source": [
    "\n",
    "## 26. Venta Facturada Nacional Canal Hospitalario (VentaFacturadaPaisHospitalario)"
   ]
  },
  {
   "cell_type": "code",
   "execution_count": null,
   "metadata": {
    "datalore": {
     "hide_input_from_viewers": false,
     "hide_output_from_viewers": false,
     "type": "CODE"
    }
   },
   "outputs": [],
   "source": [
    "# Preparar\n",
    "main = df_zona_plan_real_venta_ch.copy()\n",
    "main = main.drop(columns=['Zona'])\n",
    "\n",
    "# Calcular\n",
    "main = main.groupby(['Fecha'], as_index=True)[['Real', 'Presupuesto']].apply(sum)\n",
    "main['Real'] = main['Real'].transform(pd.Series.cumsum)\n",
    "main['Presupuesto'] = main['Presupuesto'].transform(pd.Series.cumsum)\n",
    "main['PorcentajeCumplimiento'] = (main['Real']/main['Presupuesto']).apply(lambda x: round(x, 2))\n",
    "main['Variable'] = 'VentaFacturadaPaisHospitalario'\n",
    "\n",
    "# Formatear\n",
    "main.reset_index(inplace=True)\n",
    "main['Contexto']= 'BBMCO'\n",
    "main = main[['Contexto', 'Variable', 'Fecha', 'Real', 'Presupuesto', 'PorcentajeCumplimiento']]\n",
    "\n",
    "# Limpiar\n",
    "venta_facturada_pais_ch = main.copy()\n",
    "main = None\n",
    "venta_facturada_pais_ch"
   ]
  },
  {
   "cell_type": "markdown",
   "metadata": {
    "datalore": {
     "hide_input_from_viewers": false,
     "hide_output_from_viewers": false,
     "type": "MD"
    }
   },
   "source": [
    "## 27. Venta Facturada Zona Hospitalario (VentaFacturadaZonaHospitalario)"
   ]
  },
  {
   "cell_type": "code",
   "execution_count": null,
   "metadata": {
    "datalore": {
     "hide_input_from_viewers": false,
     "hide_output_from_viewers": false,
     "type": "CODE"
    }
   },
   "outputs": [],
   "source": [
    "# Preparar\n",
    "main = df_zona_plan_real_venta_ch.copy()\n",
    "\n",
    "# Calcular\n",
    "main = main.groupby(['Fecha', 'Zona'], as_index=True)[['Real', 'Presupuesto']].apply(sum)\n",
    "main['Real'] = main.groupby(['Zona'])['Real'].transform(pd.Series.cumsum)\n",
    "main['Presupuesto'] = main.groupby(['Zona'])['Presupuesto'].transform(pd.Series.cumsum)\n",
    "main['PorcentajeCumplimiento'] = (main['Real']/main['Presupuesto']).apply(lambda x: round(x, 2))\n",
    "main['Variable'] = 'VentaFacturadaZonaHospitalario'\n",
    "\n",
    "# Formatear\n",
    "main.reset_index(inplace=True)\n",
    "main.rename(columns={'Zona': 'Contexto'}, inplace=True)\n",
    "main = main[['Contexto', 'Variable', 'Fecha', 'Real', 'Presupuesto', 'PorcentajeCumplimiento']]\n",
    "\n",
    "# Limpiar\n",
    "venta_facturada_zona_ch = main.copy()\n",
    "main = None\n",
    "venta_facturada_zona_ch"
   ]
  },
  {
   "cell_type": "markdown",
   "metadata": {
    "datalore": {
     "hide_input_from_viewers": false,
     "hide_output_from_viewers": false,
     "type": "MD"
    }
   },
   "source": [
    "## 28. Rentabilidad Zona Hospitalario CM2 (RentabilidadZonaHospitalarioCM2)"
   ]
  },
  {
   "cell_type": "code",
   "execution_count": null,
   "metadata": {
    "datalore": {
     "hide_input_from_viewers": false,
     "hide_output_from_viewers": false,
     "type": "CODE"
    }
   },
   "outputs": [],
   "source": [
    "main = df_rentabilidad_zona.copy()\n",
    "\n",
    "# Calcular\n",
    "main = main.groupby(['Zona', 'Fecha'], as_index =False)[['Real', 'Presupuesto']].apply(sum)\n",
    "main['PorcentajeCumplimiento'] = (main['Real'] / main['Presupuesto']).apply(lambda x: round(x, 2))\n",
    "main['Variable'] = 'RentabilidadZonaHospitalarioCM2'\n",
    "\n",
    "#Formatear\n",
    "main.reset_index(inplace=True)\n",
    "main.rename(columns={'Zona': 'Contexto'}, inplace=True)\n",
    "main = main[['Contexto', 'Variable', 'Fecha', 'Real', 'Presupuesto', 'PorcentajeCumplimiento']]\n",
    "\n",
    "# Zona - Fecha - Rentabilidad\n",
    "\n",
    "# No hay datos\n",
    "\n",
    "rentabilidad_zona_hospitalario_cm2 =  main.copy()\n",
    "main = None\n",
    "rentabilidad_zona_hospitalario_cm2"
   ]
  },
  {
   "cell_type": "markdown",
   "metadata": {
    "datalore": {
     "hide_input_from_viewers": false,
     "hide_output_from_viewers": false,
     "type": "MD"
    }
   },
   "source": [
    "## 29. Venta Facturada Braun País (VentaFacturadaBraunPais)"
   ]
  },
  {
   "cell_type": "code",
   "execution_count": null,
   "metadata": {
    "datalore": {
     "hide_input_from_viewers": false,
     "hide_output_from_viewers": false,
     "type": "CODE"
    }
   },
   "outputs": [],
   "source": [
    "# VentaRecaudoReal (venta)\n",
    "# VentaRecaudoPresupuesto (venta)\n",
    "\n",
    "# Preparar\n",
    "drop_cols = ['Recaudo', 'Division', 'Cluster','CodigoEmpleado', 'ZonaGeografica','GrupoProducto', 'Canal', 'SBA']\n",
    "real = df_venta_recaudo_real.copy().drop(columns=drop_cols)\n",
    "ppto = df_venta_recaudo_presupuesto.copy().drop(columns=drop_cols)\n",
    "\n",
    "# Sumamos los registros que tienen el mismo conexto para que exista un solo registro\n",
    "ppto = ppto.groupby(['Fecha'], as_index=True)[['Venta']].apply(sum)\n",
    "real = real.groupby(['Fecha'], as_index=True)[['Venta']].apply(sum)\n",
    "ppto.reset_index(inplace=True)\n",
    "real.reset_index(inplace=True)\n",
    "\n",
    "main = ppto.rename(columns={'Venta': 'Presupuesto'}).merge(\n",
    "    real.rename(columns={'Venta': 'Real'}),\n",
    "    on=['Fecha'],\n",
    "    how='left'\n",
    ")\n",
    "main['Real'].fillna(0, inplace=True)\n",
    "\n",
    "\n",
    "# Calcular\n",
    "main['Contexto']= 'BBMCO'\n",
    "main = main.groupby(['Contexto', 'Fecha'], as_index=False)[['Real', 'Presupuesto']].apply(sum)\n",
    "main['Real'] = main.groupby(['Contexto'])['Real'].transform(pd.Series.cumsum)\n",
    "main['Presupuesto'] = main.groupby(['Contexto'])['Presupuesto'].transform(pd.Series.cumsum)\n",
    "main['PorcentajeCumplimiento'] = (main['Real']/main['Presupuesto']).apply(lambda x: round(x, 2))\n",
    "main['Variable'] = 'VentaFacturadaBraunPais'\n",
    "\n",
    "\n",
    "#Formatear\n",
    "main.reset_index(inplace=True)\n",
    "main = main[['Contexto', 'Variable', 'Fecha', 'Real', 'Presupuesto', 'PorcentajeCumplimiento']]\n",
    "\n",
    "\n",
    "venta_facturada_braun_pais = main.copy()\n",
    "main = None\n",
    "venta_facturada_braun_pais"
   ]
  },
  {
   "cell_type": "markdown",
   "metadata": {
    "datalore": {
     "hide_input_from_viewers": false,
     "hide_output_from_viewers": false,
     "type": "MD"
    }
   },
   "source": [
    "## 30. Rentabilidad Compañía CM3 (RentabilidadCompaniaCM3)"
   ]
  },
  {
   "cell_type": "code",
   "execution_count": null,
   "metadata": {
    "datalore": {
     "hide_input_from_viewers": false,
     "hide_output_from_viewers": false,
     "type": "CODE"
    }
   },
   "outputs": [],
   "source": [
    "# Rentabilidad Real / Presupuesto\n",
    "# Filtar paras CM3 compañía BBMCO\n",
    "# Totalizar nivel país\n",
    "\n",
    "main = df_rentabilidad.copy()\n",
    "main.query('Compania == \"BBMCO\" and ClaseRentabilidad == \"CMIII\"', inplace=True)\n",
    "main.drop(columns=['GrupoProducto', 'SBA', 'ClaseRentabilidad'], inplace=True)\n",
    "main = main.groupby(['Compania', 'Fecha'], as_index=False)[['Real', 'Presupuesto']].apply(sum)\n",
    "\n",
    "main['PorcentajeCumplimiento'] = (main['Real']/main['Presupuesto']).apply(lambda x: round(x, 2))\n",
    "main['Variable'] = 'RentabilidadCompaniaCM3'\n",
    "\n",
    "\n",
    "#Formatear\n",
    "main.reset_index(inplace=True)\n",
    "main.rename(columns={'Compania':'Contexto'}, inplace=True)\n",
    "main = main[['Contexto', 'Variable', 'Fecha', 'Real', 'Presupuesto', 'PorcentajeCumplimiento']]\n",
    "\n",
    "rentabilidad_compania_cm3 = main.copy()\n",
    "main= None\n",
    "rentabilidad_compania_cm3"
   ]
  },
  {
   "cell_type": "markdown",
   "metadata": {
    "datalore": {
     "hide_input_from_viewers": false,
     "hide_output_from_viewers": false,
     "type": "MD"
    }
   },
   "source": [
    "## 31. Venta Facturada Grupo clientes (KAM) VentaFacturadaGrupoClientesKAMS "
   ]
  },
  {
   "cell_type": "code",
   "execution_count": null,
   "metadata": {
    "datalore": {
     "hide_input_from_viewers": false,
     "hide_output_from_viewers": false,
     "type": "CODE"
    }
   },
   "outputs": [],
   "source": [
    "main = df_venta_recaudo_kams.drop(columns=['RecaudoReal', 'RecaudoPresupuesto'])\n",
    "main.rename(columns={'VentaReal': 'Real', 'VentaPresupuesto':'Presupuesto'}, inplace=True)\n",
    "\n",
    "main = main.groupby(['TipoEmpleado', 'AreaCalculo', 'Fecha'], as_index=False)[['Real', 'Presupuesto']].apply(sum)\n",
    "\n",
    "main.reset_index(inplace=True)\n",
    "main['Real'] = main.groupby(['TipoEmpleado', 'AreaCalculo'])['Real'].transform(pd.Series.cumsum)\n",
    "main['Presupuesto'] = main.groupby(['TipoEmpleado', 'AreaCalculo'])['Presupuesto'].transform(pd.Series.cumsum)\n",
    "\n",
    "main['Contexto'] = main['TipoEmpleado'].str.lower() + '_' +  main['AreaCalculo'].astype(int).astype('str')\n",
    "main['Variable'] = 'VentaFacturadaGrupoClientesKAMS'\n",
    "main['PorcentajeCumplimiento'] = (main['Real']/main['Presupuesto']).apply(lambda x: round(x, 2))\n",
    "main = main[['Contexto', 'Variable', 'Fecha', 'Real', 'Presupuesto', 'PorcentajeCumplimiento']]\n",
    "\n",
    "venta_facturada_grupo_clientes_kams = main\n",
    "main = None\n",
    "venta_facturada_grupo_clientes_kams\n",
    "\n",
    "# Contexto: TipoEmpleado_AreaCalculo"
   ]
  },
  {
   "cell_type": "code",
   "execution_count": null,
   "metadata": {},
   "outputs": [],
   "source": [
    "venta_facturada_grupo_clientes_kams[\n",
    "    (venta_facturada_grupo_clientes_kams['Contexto'] == 'kam_2')\n",
    "]"
   ]
  },
  {
   "cell_type": "markdown",
   "metadata": {
    "datalore": {
     "hide_input_from_viewers": false,
     "hide_output_from_viewers": false,
     "type": "MD"
    }
   },
   "source": [
    "## 32. Venta Cobrada Grupo clientes (KAM) VentaCobradaGrupoClientesKAMSSub"
   ]
  },
  {
   "cell_type": "code",
   "execution_count": null,
   "metadata": {},
   "outputs": [],
   "source": [
    "df_venta_recaudo_kams.head()"
   ]
  },
  {
   "cell_type": "code",
   "execution_count": null,
   "metadata": {
    "datalore": {
     "hide_input_from_viewers": false,
     "hide_output_from_viewers": false,
     "type": "CODE"
    }
   },
   "outputs": [],
   "source": [
    "main = df_venta_recaudo_kams.drop(columns=['VentaReal', 'VentaPresupuesto'])\n",
    "main.rename(columns={'RecaudoReal': 'Real', 'RecaudoPresupuesto':'Presupuesto'}, inplace=True)\n",
    "main"
   ]
  },
  {
   "cell_type": "code",
   "execution_count": null,
   "metadata": {},
   "outputs": [],
   "source": [
    "main = main.groupby(['TipoEmpleado', 'AreaCalculo', 'Consecutivo', 'Fecha'], as_index=False)[['Real', 'Presupuesto']].apply(sum)\n",
    "main.reset_index(inplace=True)\n",
    "main['Real'] = main.groupby(['TipoEmpleado', 'AreaCalculo', 'Consecutivo'])['Real'].transform(pd.Series.cumsum)\n",
    "main['Presupuesto'] = main.groupby(['TipoEmpleado', 'AreaCalculo', 'Consecutivo'])['Presupuesto'].transform(pd.Series.cumsum)\n",
    "\n",
    "main['Contexto'] = main['TipoEmpleado'].str.lower() + '_' +  main['AreaCalculo'].astype(int).astype('str') + '_'+ main['Consecutivo'].astype(int).astype('str')\n",
    "main['Variable'] = 'VentaCobradaGrupoClientesKAMSSub'\n",
    "main['PorcentajeCumplimiento'] = (main['Real']/main['Presupuesto']).apply(lambda x: round(x, 2))\n",
    "main = main[['Contexto', 'Variable', 'Fecha', 'Real', 'Presupuesto', 'PorcentajeCumplimiento']]\n",
    "\n",
    "venta_cobrada_grupo_clientes_kams_sub = main\n",
    "main = None\n",
    "venta_cobrada_grupo_clientes_kams_sub\n",
    "\n",
    "# Contexto: TipoEmpleado_AreaCalculo_Consecutivo"
   ]
  },
  {
   "cell_type": "markdown",
   "metadata": {
    "datalore": {
     "hide_input_from_viewers": false,
     "hide_output_from_viewers": false,
     "type": "MD"
    }
   },
   "source": [
    "## 33. KPIs Surgical"
   ]
  },
  {
   "cell_type": "code",
   "execution_count": null,
   "metadata": {
    "datalore": {
     "hide_input_from_viewers": false,
     "hide_output_from_viewers": false,
     "type": "CODE"
    }
   },
   "outputs": [],
   "source": [
    "### Cálculo de resultados cualitativos precargados\n",
    "main = df_resultados_variables_cualitativas[df_resultados_variables_cualitativas['Variable'] == 'KpisSurgical'].copy()\n",
    "main['Contexto'] = main['CodigoEmpleado'].str.lower() + '_' + main['Consecutivo'].astype(int).astype('str')\n",
    "main['Real'] = np.nan\n",
    "main['Presupuesto'] = np.nan\n",
    "main = main[['Contexto', 'Variable', 'Fecha', 'Real', 'Presupuesto', 'PorcentajeCumplimiento']]\n",
    "###\n",
    "kpis_surgical = main\n",
    "main = None\n",
    "kpis_surgical"
   ]
  },
  {
   "cell_type": "markdown",
   "metadata": {},
   "source": [
    "# Nuevos rubros 2023"
   ]
  },
  {
   "cell_type": "markdown",
   "metadata": {},
   "source": [
    "## 34. VentaCobradaPortafolioZonaClusterSub"
   ]
  },
  {
   "cell_type": "code",
   "execution_count": null,
   "metadata": {},
   "outputs": [],
   "source": [
    "df_area_calculo_sba_centros_costos_ve = df_area_calculo_sba_centros_costos[\n",
    "    df_area_calculo_sba_centros_costos['TipoEmpleado'] == 'VE'\n",
    "]\n",
    "df_area_calculo_sba_centros_costos_ve =  df_area_calculo_sba_centros_costos_ve.rename(columns={'ConsecutivoParrilla':'Consecutivo'})\n",
    "\n",
    "df_area_calculo_sba_centros_costos_ve.info()"
   ]
  },
  {
   "cell_type": "code",
   "execution_count": null,
   "metadata": {},
   "outputs": [],
   "source": [
    "area_calculo_sba_completo_ve = area_calculo_sba_completo[area_calculo_sba_completo['TipoEmpleado'] == 'VE']\n",
    "area_calculo_sba_completo_ve.info()"
   ]
  },
  {
   "cell_type": "code",
   "execution_count": null,
   "metadata": {},
   "outputs": [],
   "source": [
    "area_calculo_sba_completo_ve.merge(\n",
    "    df_area_calculo_sba_centros_costos_ve.fillna(''),\n",
    "    on=['AreaCalculo', 'Consecutivo', 'Division','GrupoProducto', 'SBA','TipoEmpleado'],\n",
    "    how='left'\n",
    ").head()"
   ]
  },
  {
   "cell_type": "code",
   "execution_count": null,
   "metadata": {},
   "outputs": [],
   "source": [
    "df_area_calculo_sba_centros_costos_ve = area_calculo_sba_completo_ve.merge(\n",
    "    df_centros_costos_grupos_productos_divisiones,\n",
    "    on=['Division','GrupoProducto'],\n",
    "    how='left'\n",
    ")\n",
    "df_area_calculo_sba_centros_costos_ve"
   ]
  },
  {
   "cell_type": "code",
   "execution_count": null,
   "metadata": {},
   "outputs": [],
   "source": [
    "venta_recaudo_presupuesto_original_ve_real.head()"
   ]
  },
  {
   "cell_type": "markdown",
   "metadata": {},
   "source": [
    "### Merge entre area de cálculo SBA y Venta Recaudo Presupuesto"
   ]
  },
  {
   "cell_type": "code",
   "execution_count": null,
   "metadata": {},
   "outputs": [],
   "source": [
    "# Se remplaza lógica de área de cálculo SBA\n",
    "# drop_cols = ['Canal', 'TipoEmpleado','Venta']\n",
    "# venta_recaudo_presupuesto_original_ve_real_zona_cluster = pd.merge(\n",
    "#     left=area_calculo_sba_completo_ve,\n",
    "#     right=venta_recaudo_presupuesto_original_ve_real,\n",
    "#     on=['AreaCalculo', 'Consecutivo', 'Division','GrupoProducto', 'SBA', 'TipoEmpleado'],\n",
    "#     how='left'\n",
    "# )\n",
    "\n",
    "# venta_recaudo_presupuesto_original_ve_real_zona_cluster"
   ]
  },
  {
   "cell_type": "code",
   "execution_count": null,
   "metadata": {},
   "outputs": [],
   "source": [
    "drop_cols = ['Canal', 'TipoEmpleado','Venta']\n",
    "venta_recaudo_presupuesto_original_ve_real_zona_cluster = pd.merge(\n",
    "    left=df_area_calculo_sba_centros_costos_ve,\n",
    "    right=venta_recaudo_presupuesto_original_ve_real,\n",
    "    on=['AreaCalculo', 'Consecutivo', 'Division','GrupoProducto', 'SBA','TipoEmpleado'],\n",
    "    how='left'\n",
    ")\n",
    "\n",
    "venta_recaudo_presupuesto_original_ve_real_zona_cluster"
   ]
  },
  {
   "cell_type": "markdown",
   "metadata": {},
   "source": [
    "### Merge entre area de cálculo SBA y Venta Recaudo Presupuesto y Empleado"
   ]
  },
  {
   "cell_type": "code",
   "execution_count": null,
   "metadata": {},
   "outputs": [],
   "source": [
    "# Se remplaza lógica de área de cálculo SBA\n",
    "# venta_recaudo_presupuesto_original_ve_presupuesto_zona_cluster = pd.merge(\n",
    "#     left=area_calculo_sba_completo_ve,\n",
    "#     right=venta_recaudo_presupuesto_original_ve_presupuesto,\n",
    "#     on=['AreaCalculo', 'Consecutivo', 'Division','GrupoProducto', 'SBA', 'TipoEmpleado'],\n",
    "#     how='left'\n",
    "# )\n",
    "# venta_recaudo_presupuesto_original_ve_presupuesto_zona_cluster"
   ]
  },
  {
   "cell_type": "code",
   "execution_count": null,
   "metadata": {},
   "outputs": [],
   "source": [
    "venta_recaudo_presupuesto_original_ve_presupuesto_zona_cluster = pd.merge(\n",
    "    left=df_area_calculo_sba_centros_costos_ve, \n",
    "    right=venta_recaudo_presupuesto_original_ve_presupuesto,\n",
    "    on=['AreaCalculo', 'Consecutivo', 'Division','GrupoProducto', 'SBA','TipoEmpleado'],\n",
    "    how='left'\n",
    ")\n",
    "venta_recaudo_presupuesto_original_ve_presupuesto_zona_cluster"
   ]
  },
  {
   "cell_type": "code",
   "execution_count": null,
   "metadata": {},
   "outputs": [],
   "source": [
    "recaudo_real_zona_ve = venta_recaudo_presupuesto_original_ve_real_zona_cluster.groupby(['AreaCalculo', 'ZonaGeografica', 'Fecha','Cluster','Consecutivo', 'Division','GrupoProducto', 'CodigoCentroCosto'], as_index=False).agg({'Recaudo': 'sum'})\n",
    "recaudo_real_zona_ve.rename(columns={'Recaudo': 'Real'}, inplace=True)\n",
    "recaudo_real_zona_ve"
   ]
  },
  {
   "cell_type": "code",
   "execution_count": null,
   "metadata": {},
   "outputs": [],
   "source": [
    "recaudo_presupuesto_zona_ve = venta_recaudo_presupuesto_original_ve_presupuesto_zona_cluster.groupby(['AreaCalculo', 'ZonaGeografica', 'Fecha','Cluster','Consecutivo', 'Division','GrupoProducto', 'CodigoCentroCosto'], as_index=False).agg({'Recaudo': 'sum'})\n",
    "recaudo_presupuesto_zona_ve.rename(columns={'Recaudo': 'Presupuesto'}, inplace=True)\n",
    "recaudo_presupuesto_zona_ve"
   ]
  },
  {
   "cell_type": "code",
   "execution_count": null,
   "metadata": {},
   "outputs": [],
   "source": [
    "# recaudo_real_zona_ve = venta_recaudo_presupuesto_original_ve_real_zona_cluster.groupby(['AreaCalculo', 'ZonaGeografica', 'Fecha','Cluster', 'Consecutivo'], as_index=False).agg({'Recaudo': 'sum'})\n",
    "# recaudo_real_zona_ve.rename(columns={'Recaudo': 'Real'}, inplace=True)\n",
    "\n",
    "# recaudo_presupuesto_zona_ve = venta_recaudo_presupuesto_original_ve_presupuesto_zona_cluster.groupby(['AreaCalculo', 'ZonaGeografica', 'Fecha','Cluster', 'Consecutivo'], as_index=False).agg({'Recaudo': 'sum'})\n",
    "# recaudo_presupuesto_zona_ve.rename(columns={'Recaudo': 'Presupuesto'}, inplace=True)\n",
    "\n",
    "main = pd.merge(\n",
    "    left=recaudo_presupuesto_zona_ve,\n",
    "    right=recaudo_real_zona_ve,\n",
    "    on=['ZonaGeografica', 'AreaCalculo', 'Fecha','Cluster', 'Consecutivo', 'GrupoProducto', 'Division', 'CodigoCentroCosto'],\n",
    "    how='left'\n",
    ")\n",
    "\n",
    "main['Real'].fillna(0.0, inplace=True)\n",
    "\n",
    "main"
   ]
  },
  {
   "cell_type": "code",
   "execution_count": null,
   "metadata": {},
   "outputs": [],
   "source": [
    "# main['Real'] = main.groupby(['AreaCalculo', 'ZonaGeografica', 'Fecha','Cluster', 'Consecutivo'])['Real'].transform(pd.Series.sum)\n",
    "# main['Presupuesto'] = main.groupby(['AreaCalculo', 'ZonaGeografica', 'Fecha','Cluster', 'Consecutivo'])['Presupuesto'].transform(pd.Series.sum)\n",
    "main['TipoEmpleado'] = 'VE'\n",
    "\n",
    "### Agrupación a nivel de empleado por zonas\n",
    "\n",
    "main = pd.merge(\n",
    "    main,\n",
    "    df_zonas_clusters_empleado[['CodigoEmpleado', 'TipoEmpleado', 'AreaCalculo', 'Zona', 'Cluster']].rename(columns={'Zona': 'ZonaGeografica'}),\n",
    "    on=['TipoEmpleado', 'AreaCalculo', 'ZonaGeografica', 'Cluster'],\n",
    "    how='left'\n",
    ")\n",
    "\n",
    "main = pd.merge(\n",
    "    main,\n",
    "    df_empleados[['CodigoEmpleado', 'FechaIngreso']],\n",
    "    on='CodigoEmpleado',\n",
    "    how='left'\n",
    ")\n",
    "\n",
    "main = main[main['Fecha'] >= main['FechaIngreso']]\n",
    "main"
   ]
  },
  {
   "cell_type": "code",
   "execution_count": null,
   "metadata": {},
   "outputs": [],
   "source": [
    "venta_cobrada_portafolio_zona_cluster_sub_centro_costo = dataframe_loader.f_calculo_centro_costo_variable(\n",
    "    main=main,\n",
    "    variable='VentaCobradaPortafolioZonaClusterSub'\n",
    ")\n",
    "venta_cobrada_portafolio_zona_cluster_sub_centro_costo"
   ]
  },
  {
   "cell_type": "code",
   "execution_count": null,
   "metadata": {},
   "outputs": [],
   "source": [
    "# main['Real'] = main.groupby(['AreaCalculo', 'ZonaGeografica', 'Fecha','Cluster', 'Consecutivo'])['Real'].transform(pd.Series.sum)\n",
    "# main['Presupuesto'] = main.groupby(['AreaCalculo', 'ZonaGeografica', 'Fecha','Cluster', 'Consecutivo'])['Presupuesto'].transform(pd.Series.sum)\n",
    "\n",
    "main = main.groupby(['CodigoEmpleado', 'Fecha', 'Consecutivo'], as_index=False)[['Real', 'Presupuesto']].apply(sum)\n",
    "main.reset_index(inplace=True)\n",
    "\n",
    "# Variable solo de VCs y VEs #\n",
    "if len(codigos_ve_vc) > 0 and fecha_liquidacion >= '2022-03-01' and fecha_liquidacion <= '2022-12-01':\n",
    "    main = main[main['Fecha'] >= '2022-03-01']\n",
    "###\n",
    "\n",
    "main['Contexto'] = main['CodigoEmpleado'] + '_' +  main['Consecutivo'].astype(int).astype('str')\n",
    "\n",
    "main['Real'] = main.groupby(['Contexto'])['Real'].transform(pd.Series.cumsum)\n",
    "main['Presupuesto'] = main.groupby(['Contexto'])['Presupuesto'].transform(pd.Series.cumsum)\n",
    "main['PorcentajeCumplimiento'] = (main['Real']/main['Presupuesto']).apply(lambda x: round(x, 2))\n",
    "main['Variable'] = 'VentaCobradaPortafolioZonaClusterSub'\n",
    "# main['Contexto'] = main['CodigoEmpleado']\n",
    "main = main[['Contexto', 'Variable', 'Fecha', 'Real', 'Presupuesto', 'PorcentajeCumplimiento']]\n",
    "###\n",
    "\n",
    "venta_cobrada_portafolio_zona_cluster_sub = main.copy()\n",
    "main = None\n",
    "\n",
    "venta_cobrada_portafolio_zona_cluster_sub.head()"
   ]
  },
  {
   "cell_type": "code",
   "execution_count": null,
   "metadata": {
    "scrolled": true
   },
   "outputs": [],
   "source": [
    "venta_cobrada_portafolio_zona_cluster_sub[\n",
    "    venta_cobrada_portafolio_zona_cluster_sub['Contexto'].str.contains('1060654227')\n",
    "]"
   ]
  },
  {
   "cell_type": "code",
   "execution_count": null,
   "metadata": {},
   "outputs": [],
   "source": []
  },
  {
   "cell_type": "code",
   "execution_count": null,
   "metadata": {},
   "outputs": [],
   "source": []
  },
  {
   "cell_type": "markdown",
   "metadata": {},
   "source": [
    "## 35. VentaCobradaUnidadNegocioSub"
   ]
  },
  {
   "cell_type": "code",
   "execution_count": null,
   "metadata": {},
   "outputs": [],
   "source": [
    "# main = None\n",
    "\n",
    "# venta_cobrada_portafolio_cluster_sub = main\n",
    "# main = None\n",
    "# venta_cobrada_portafolio_cluster_sub\n",
    "\n",
    "# # Contexto: "
   ]
  },
  {
   "cell_type": "markdown",
   "metadata": {},
   "source": [
    "## 36. VentaCobradaZonaPaisSub"
   ]
  },
  {
   "cell_type": "code",
   "execution_count": null,
   "metadata": {},
   "outputs": [],
   "source": [
    "area_calculo_sba_completo_gc = area_calculo_sba_completo[\n",
    "    (area_calculo_sba_completo['TipoEmpleado'] == 'GC') |\n",
    "    (area_calculo_sba_completo['TipoEmpleado'] == 'GD')\n",
    "]\n",
    "\n",
    "area_calculo_sba_completo_gc_without_dup = area_calculo_sba_completo_gc[['TipoEmpleado','Consecutivo', 'Division']].drop_duplicates()\n",
    "area_calculo_sba_completo_gc_without_dup.head()"
   ]
  },
  {
   "cell_type": "markdown",
   "metadata": {},
   "source": [
    "### Se hace merge entre area de cálculo por GC y Venta Recaudo"
   ]
  },
  {
   "cell_type": "code",
   "execution_count": null,
   "metadata": {},
   "outputs": [],
   "source": [
    "drop_cols = ['Venta'] #'GrupoProducto', 'SBA'\n",
    "recaudo_real_zona_gc = pd.merge(\n",
    "    left=area_calculo_sba_completo_gc_without_dup,\n",
    "    right=df_venta_recaudo_real,\n",
    "    on=['Division'],\n",
    "    how='left'\n",
    ")\n",
    "recaudo_real_zona_gc = recaudo_real_zona_gc.dropna(subset=['ZonaGeografica']).drop(columns=drop_cols)\n",
    "recaudo_real_zona_gc.rename(columns={'Recaudo': 'Real'}, inplace=True)\n",
    "recaudo_real_zona_gc"
   ]
  },
  {
   "cell_type": "code",
   "execution_count": null,
   "metadata": {},
   "outputs": [],
   "source": [
    "recaudo_presupuesto_zona_gc = pd.merge(\n",
    "    left=area_calculo_sba_completo_gc_without_dup,\n",
    "    right=df_venta_recaudo_presupuesto,\n",
    "    on=['Division'],\n",
    "    how='left'\n",
    ")\n",
    "\n",
    "recaudo_presupuesto_zona_gc = recaudo_presupuesto_zona_gc.drop(columns=drop_cols).dropna(subset=['ZonaGeografica'])\n",
    "recaudo_presupuesto_zona_gc.rename(columns={'Recaudo': 'Presupuesto'}, inplace=True)\n",
    "recaudo_presupuesto_zona_gc"
   ]
  },
  {
   "cell_type": "markdown",
   "metadata": {},
   "source": [
    "### Se hace merge entre recaudo presupuesto y recaudo real"
   ]
  },
  {
   "cell_type": "code",
   "execution_count": null,
   "metadata": {},
   "outputs": [],
   "source": [
    "main = pd.merge(\n",
    "    left=recaudo_presupuesto_zona_gc,\n",
    "    right=recaudo_real_zona_gc,\n",
    "    on=['ZonaGeografica', 'Fecha', 'Consecutivo', 'Division', 'CodigoEmpleado', 'TipoEmpleado', 'Cluster', 'GrupoProducto', 'SBA', 'Canal'],\n",
    "    how='left'\n",
    ")\n",
    "main = main.dropna(subset=['ZonaGeografica']).drop(columns=['CodigoEmpleado'])\n",
    "main"
   ]
  },
  {
   "cell_type": "code",
   "execution_count": null,
   "metadata": {},
   "outputs": [],
   "source": [
    "df_zonas_empleado_gc = df_zonas_empleado[\n",
    "    (df_zonas_empleado['TipoEmpleado']== 'GC') |\n",
    "    (df_zonas_empleado['TipoEmpleado']== 'GD')\n",
    "]\n",
    "df_zonas_empleado_gc"
   ]
  },
  {
   "cell_type": "markdown",
   "metadata": {},
   "source": [
    "## Se hace merge entre el dataframe anterior y zonas empleados para obtener los código de los GC"
   ]
  },
  {
   "cell_type": "code",
   "execution_count": null,
   "metadata": {},
   "outputs": [],
   "source": [
    "main = main.merge(\n",
    "    df_zonas_empleado_gc.rename(columns={'Zona': 'ZonaGeografica'}),\n",
    "    on=['ZonaGeografica', 'TipoEmpleado'],\n",
    "    how='left'\n",
    ")\n",
    "main['Real'].fillna(0.0, inplace=True)\n",
    "main.dropna(subset=['CodigoEmpleado'])"
   ]
  },
  {
   "cell_type": "code",
   "execution_count": null,
   "metadata": {},
   "outputs": [],
   "source": [
    "main[main['CodigoEmpleado'] == '1111111']"
   ]
  },
  {
   "cell_type": "code",
   "execution_count": null,
   "metadata": {},
   "outputs": [],
   "source": [
    "venta_cobrada_zona_pais_sub_centro_costo = dataframe_loader.f_calculo_centro_costo_variable(\n",
    "    main=main,\n",
    "    variable='VentaCobradaZonaPaisSub'\n",
    ").copy()\n",
    "venta_cobrada_zona_pais_sub_centro_costo"
   ]
  },
  {
   "cell_type": "code",
   "execution_count": null,
   "metadata": {},
   "outputs": [],
   "source": [
    "# Calcular\n",
    "main['Contexto']= main['CodigoEmpleado'] + '_' +  main['Consecutivo'].astype(int).astype('str')\n",
    "\n",
    "main = main.groupby(['Contexto', 'Fecha'], as_index=False)[['Real', 'Presupuesto']].apply(sum)\n",
    "main.reset_index(inplace=True)\n",
    "\n",
    "main['Real'] = main.groupby(['Contexto'])['Real'].transform(pd.Series.cumsum)\n",
    "main['Presupuesto'] = main.groupby(['Contexto'])['Presupuesto'].transform(pd.Series.cumsum)\n",
    "main['PorcentajeCumplimiento'] = (main['Real']/main['Presupuesto']).apply(lambda x: round(x, 2))\n",
    "main['Variable'] = 'VentaCobradaZonaPaisSub'\n",
    "\n",
    "#Formatear\n",
    "main.reset_index(inplace=True)\n",
    "main = main[['Contexto', 'Variable', 'Fecha', 'Real','Presupuesto','PorcentajeCumplimiento']]\n",
    "\n",
    "venta_cobrada_zona_pais_sub = main\n",
    "main = None\n",
    "venta_cobrada_zona_pais_sub\n",
    "\n",
    "# Contexto: Código de empleado, gerentes de canal."
   ]
  },
  {
   "cell_type": "code",
   "execution_count": null,
   "metadata": {},
   "outputs": [],
   "source": [
    "venta_cobrada_zona_pais_sub[venta_cobrada_zona_pais_sub['Contexto'] == '5002711_1']"
   ]
  },
  {
   "cell_type": "code",
   "execution_count": null,
   "metadata": {},
   "outputs": [],
   "source": [
    "venta_cobrada_zona_pais_sub[venta_cobrada_zona_pais_sub['Contexto'] == '5002711_2']"
   ]
  },
  {
   "cell_type": "code",
   "execution_count": null,
   "metadata": {},
   "outputs": [],
   "source": [
    "venta_cobrada_zona_pais_sub[venta_cobrada_zona_pais_sub['Contexto'] == '5002711_3']"
   ]
  },
  {
   "cell_type": "markdown",
   "metadata": {},
   "source": [
    "## 36. VentaFacturadaPortafolioRenal"
   ]
  },
  {
   "cell_type": "code",
   "execution_count": null,
   "metadata": {},
   "outputs": [],
   "source": [
    "# Aplica VC5"
   ]
  },
  {
   "cell_type": "code",
   "execution_count": null,
   "metadata": {},
   "outputs": [],
   "source": [
    "area_calculo_sba_completo.head()"
   ]
  },
  {
   "cell_type": "code",
   "execution_count": null,
   "metadata": {},
   "outputs": [],
   "source": [
    "df_renal_ambulatorio"
   ]
  },
  {
   "cell_type": "code",
   "execution_count": null,
   "metadata": {},
   "outputs": [],
   "source": [
    "7.384809+1044514+8.649572"
   ]
  },
  {
   "cell_type": "code",
   "execution_count": null,
   "metadata": {},
   "outputs": [],
   "source": [
    "# Calcular\n",
    "\n",
    "main = df_renal_ambulatorio.rename(columns={'PlanVentaTotal': 'Presupuesto', 'RealVentaTotal': 'Real'})\n",
    "\n",
    "main['Contexto'] = main['CodigoEmpleado']\n",
    "\n",
    "main = main.groupby(['Contexto', 'Fecha'], as_index=False)[['Real', 'Presupuesto']].apply(sum)\n",
    "main['Real'] = main.groupby(['Contexto'])['Real'].transform(pd.Series.cumsum)\n",
    "main['Presupuesto'] = main.groupby(['Contexto'])['Presupuesto'].transform(pd.Series.cumsum)\n",
    "main['PorcentajeCumplimiento'] = (main['Real']/main['Presupuesto']).apply(lambda x: round(x, 2))\n",
    "main['Variable'] = 'VentaFacturadaPortafolioRenal'\n",
    "\n",
    "\n",
    "#Formatear\n",
    "main.reset_index(inplace=True)\n",
    "main = main[['Contexto', 'Variable', 'Fecha', 'Real','Presupuesto', 'PorcentajeCumplimiento']]\n",
    "\n",
    "\n",
    "venta_facturada_portafolio_renal = main.copy()\n",
    "main = None\n",
    "venta_facturada_portafolio_renal"
   ]
  },
  {
   "cell_type": "markdown",
   "metadata": {},
   "source": [
    "## 37. VentaFacturadaPortafolioZonaCluster"
   ]
  },
  {
   "cell_type": "code",
   "execution_count": null,
   "metadata": {},
   "outputs": [],
   "source": [
    "venta_recaudo_presupuesto_original_ve_real_zona_cluster.head()"
   ]
  },
  {
   "cell_type": "code",
   "execution_count": null,
   "metadata": {},
   "outputs": [],
   "source": [
    "venta_recaudo_presupuesto_original_ve_presupuesto_zona_cluster.head()"
   ]
  },
  {
   "cell_type": "code",
   "execution_count": null,
   "metadata": {},
   "outputs": [],
   "source": [
    "# VentaRecaudoReal (venta)\n",
    "# VentaRecaudoPresupuesto (venta)\n",
    "\n",
    "# Preparar\n",
    "# drop_cols = ['Recaudo', 'Division','CodigoEmpleado','GrupoProducto', 'Canal', 'SBA']\n",
    "real = venta_recaudo_presupuesto_original_ve_real_zona_cluster.copy()\n",
    "ppto = venta_recaudo_presupuesto_original_ve_presupuesto_zona_cluster.copy()\n",
    "\n",
    "# Sumamos los registros que tienen el mismo conexto para que exista un solo registro\n",
    "ppto = ppto.groupby(['AreaCalculo','Fecha', 'ZonaGeografica', 'Cluster'], as_index=True)[['Venta']].apply(sum)\n",
    "real = real.groupby(['AreaCalculo', 'Fecha', 'ZonaGeografica', 'Cluster'], as_index=True)[['Venta']].apply(sum)\n",
    "ppto.reset_index(inplace=True)\n",
    "real.reset_index(inplace=True)\n",
    "\n",
    "main = ppto.rename(columns={'Venta': 'Presupuesto'}).merge(\n",
    "    real.rename(columns={'Venta': 'Real'}),\n",
    "    on=['Fecha', 'ZonaGeografica', 'Cluster','AreaCalculo'],\n",
    "    how='left'\n",
    ")\n",
    "main = main.merge(\n",
    "    df_zonas_clusters_empleado.rename(columns={'Zona': 'ZonaGeografica'}),\n",
    "    on=['ZonaGeografica', 'Cluster','AreaCalculo'],\n",
    "    how='left'\n",
    ")\n",
    "\n",
    "# Traer áreas de cálculo y tipo de empleado de la maestra de empleados\n",
    "empleados = df_empleados[['TipoEmpleado', 'CodigoEmpleado', 'AreaCalculo', 'FechaIngreso']].copy()\n",
    "main = main.merge(empleados, on=['TipoEmpleado', 'CodigoEmpleado', 'AreaCalculo'], how='left')\n",
    "\n",
    "main = main[main['Fecha'] >= main['FechaIngreso']]\n",
    "main"
   ]
  },
  {
   "cell_type": "code",
   "execution_count": null,
   "metadata": {},
   "outputs": [],
   "source": [
    "main['Real'].fillna(0, inplace=True)\n",
    "\n",
    "# Calcular\n",
    "\n",
    "main['Contexto'] = main['CodigoEmpleado']\n",
    "# + '_' +  main['ZonaGeografica'].astype('str')\n",
    "main\n",
    "# main['Contexto']= 'VFPZ'"
   ]
  },
  {
   "cell_type": "code",
   "execution_count": null,
   "metadata": {},
   "outputs": [],
   "source": [
    "# Calcular\n",
    "\n",
    "# main['Contexto'] = main['CodigoEmpleado'] + '_' +  main['ZonaGeografica'].astype(int).astype('str')\n",
    "# main['Contexto']= 'VFPZ'\n",
    "main = main.groupby(['Contexto', 'Fecha'], as_index=False)[['Real', 'Presupuesto']].apply(sum)\n",
    "main['Real'] = main.groupby(['Contexto'])['Real'].transform(pd.Series.cumsum)\n",
    "main['Presupuesto'] = main.groupby(['Contexto'])['Presupuesto'].transform(pd.Series.cumsum)\n",
    "main['PorcentajeCumplimiento'] = (main['Real']/main['Presupuesto']).apply(lambda x: round(x, 2))\n",
    "main['Variable'] = 'VentaFacturadaPortafolioZonaCluster'\n",
    "\n",
    "\n",
    "#Formatear\n",
    "main.reset_index(inplace=True)\n",
    "main = main[['Contexto', 'Variable', 'Fecha', 'Real','Presupuesto', 'PorcentajeCumplimiento']]\n",
    "\n",
    "\n",
    "venta_facturada_portafolio_zona_cluster = main.copy()\n",
    "main = None\n",
    "venta_facturada_portafolio_zona_cluster"
   ]
  },
  {
   "cell_type": "code",
   "execution_count": null,
   "metadata": {},
   "outputs": [],
   "source": [
    "venta_facturada_portafolio_zona_cluster[venta_facturada_portafolio_zona_cluster['Contexto'].str.contains('1060654227') ]"
   ]
  },
  {
   "cell_type": "code",
   "execution_count": null,
   "metadata": {},
   "outputs": [],
   "source": [
    "venta_facturada_portafolio_zona_cluster[venta_facturada_portafolio_zona_cluster['Contexto'].str.contains('5041369') ]"
   ]
  },
  {
   "cell_type": "markdown",
   "metadata": {},
   "source": [
    "## 38. VentaFacturadaZonaPais"
   ]
  },
  {
   "cell_type": "code",
   "execution_count": null,
   "metadata": {},
   "outputs": [],
   "source": [
    "# VentaRecaudoReal (venta)\n",
    "# VentaRecaudoPresupuesto (venta)\n",
    "\n",
    "# Preparar\n",
    "drop_cols = ['Recaudo', 'Division', 'Cluster','GrupoProducto', 'Canal', 'SBA']\n",
    "real = df_venta_recaudo_real.copy().drop(columns=drop_cols)\n",
    "ppto = df_venta_recaudo_presupuesto.copy().drop(columns=drop_cols)\n",
    "\n",
    "# Sumamos los registros que tienen el mismo conexto para que exista un solo registro\n",
    "ppto = ppto.groupby(['Fecha', 'ZonaGeografica'], as_index=True)[['Venta']].apply(sum)\n",
    "ppto.reset_index(inplace=True)\n",
    "real = real.groupby(['Fecha', 'ZonaGeografica'], as_index=True)[['Venta']].apply(sum)\n",
    "real.reset_index(inplace=True)\n",
    "\n",
    "main = ppto.rename(columns={'Venta': 'Presupuesto'}).merge(\n",
    "    real.rename(columns={'Venta': 'Real'}),\n",
    "    on=['Fecha', 'ZonaGeografica'],\n",
    "    how='left'\n",
    ")    \n",
    "\n",
    "main = main.merge(\n",
    "    df_zonas_empleado.rename(columns={'Zona': 'ZonaGeografica'}),\n",
    "    on=['ZonaGeografica'],\n",
    "    how='left'\n",
    ")\n",
    "main['Real'].fillna(0, inplace=True)\n",
    "\n",
    "# Calcular\n",
    "main['Contexto']= main['CodigoEmpleado']\n",
    "\n",
    "main = main.groupby(['Contexto', 'Fecha'], as_index=False)[['Real', 'Presupuesto']].apply(sum)\n",
    "main['Real'] = main.groupby(['Contexto'])['Real'].transform(pd.Series.cumsum)\n",
    "main['Presupuesto'] = main.groupby(['Contexto'])['Presupuesto'].transform(pd.Series.cumsum)\n",
    "main['PorcentajeCumplimiento'] = (main['Real']/main['Presupuesto']).apply(lambda x: round(x, 2))\n",
    "main['Variable'] = 'VentaFacturadaZonaPais'\n",
    "\n",
    "\n",
    "#Formatear\n",
    "main.reset_index(inplace=True)\n",
    "main = main[['Contexto', 'Variable', 'Fecha','Real','Presupuesto','PorcentajeCumplimiento']]\n",
    "\n",
    "venta_facturada_zona_pais = main.copy()\n",
    "main = None\n",
    "venta_facturada_zona_pais\n"
   ]
  },
  {
   "cell_type": "code",
   "execution_count": null,
   "metadata": {},
   "outputs": [],
   "source": [
    "venta_facturada_zona_pais[venta_facturada_zona_pais['Contexto'] == '1111115']"
   ]
  },
  {
   "cell_type": "code",
   "execution_count": null,
   "metadata": {},
   "outputs": [],
   "source": [
    "venta_facturada_zona_pais[venta_facturada_zona_pais['Contexto'] == '1111124']"
   ]
  },
  {
   "cell_type": "markdown",
   "metadata": {},
   "source": [
    "## Cálculo de Maestra de Resultados"
   ]
  },
  {
   "cell_type": "code",
   "execution_count": null,
   "metadata": {
    "datalore": {
     "hide_input_from_viewers": false,
     "hide_output_from_viewers": false,
     "type": "CODE"
    }
   },
   "outputs": [],
   "source": [
    "maestra_resultados = pd.concat([\n",
    "    cumplimiento_objetivos_cualitativos, # cumplimiento_cualitativos,\n",
    "    cumplimiento_recaudo_por_zona, # cumplimiento_cobro_por_zona,\n",
    "    cumplimiento_venta_individual,\n",
    "    cumplimiento_venta_individual_sub,\n",
    "    cumplimiento_recaudo_individual,\n",
    "    cumplimiento_recaudo_individual_sub, # cumplimiento_cobro_empleado_consecutivo,\n",
    "    cumplimiento_venta_por_area_calculo, # cumplimiento_venta_por_area_calculo,\n",
    "    cumplimiento_venta_por_area_calculo_sub,\n",
    "    cumplimiento_recaudo_por_area_calculo, # cumplimiento_cobro_por_area_calculo,\n",
    "    cumplimiento_recaudo_por_area_calculo_sub,\n",
    "    cumplimiento_recaudo_nivel_pais, # cumplimiento_cobro_pais,\n",
    "    cumplimiento_venta_por_unidad_negocio_gu,\n",
    "    cumplimiento_venta_por_unidad_negocio_gu_sub,\n",
    "    cumplimiento_recaudo_por_unidad_negocio_gu, # cumplimiento_cobro_area_calculo_gu,\n",
    "    cumplimiento_recaudo_por_unidad_negocio_gu_sub,\n",
    "    cumplimiento_venta_por_unidad_negocio_mk,\n",
    "    cumplimiento_venta_por_unidad_negocio_mk_sub,\n",
    "    cumplimiento_recaudo_por_unidad_negocio_mk, # cumplimiento_cobro_area_calculo_mk,\n",
    "    cumplimiento_recaudo_por_unidad_negocio_mk_sub, # cumplimiento_cobro_area_calculo_mk,\n",
    "    cumplimiento_rentabilidad_por_unidad_negocio_cm2_gu,\n",
    "    cumplimiento_rentabilidad_por_unidad_negocio_cm3_gu,\n",
    "    cumplimiento_rentabilidad_por_unidad_negocio_cm2_mk,\n",
    "    cumplimiento_rentabilidad_por_unidad_negocio_cm3_mk,\n",
    "    cumplimiento_rentabilidad_por_unidad_negocio_cm2_gu_sub,\n",
    "    cumplimiento_rentabilidad_por_unidad_negocio_cm3_gu_sub,\n",
    "    cumplimiento_rentabilidad_por_unidad_negocio_cm2_mk_sub,\n",
    "    cumplimiento_rentabilidad_por_unidad_negocio_cm3_mk_sub,\n",
    "    cumplimiento_recaudo_por_division, # cumplimiento_cobro_division,\n",
    "    cumplimiento_recaudo_por_division_sub_mk, # cumplimiento_cobro_division_sub,\n",
    "    cumplimiento_recaudo_otras_companias_mk, # cumplimiento_cobro_compañias_mk,\n",
    "    cumplimiento_recaudo_por_division_sub_gd, cumplimiento_recaudo_otras_companias_gd, # cumplimiento_cobro_division_sub_gd,\n",
    "    cumplimiento_recaudo_por_division_sub_ad, # cumplimiento_cobro_division_sub_ad,\n",
    "    cumplimiento_recaudo_otras_companias_ad, # cumplimiento_cobro_compañias_ad,\n",
    "    cumplimiento_recaudo_por_division_sub_ad1, # cumplimiento_cobro_division_sub_ad1,\n",
    "    cumplimiento_recaudo_otras_companias_ad1, # cumplimiento_cobro_compañias_ad1,\n",
    "    cumplimiento_recaudo_por_division_sub_ad3, # cumplimiento_cobro_division_sub_ad3,\n",
    "    cumplimiento_recaudo_otras_companias_ad3, # cumplimiento_cobro_compañias_ad3,\n",
    "    cumplimiento_recaudo_por_division_sub_ad4, cumplimiento_recaudo_otras_companias_ad4, # cumplimiento_cobro_compañias_ad4,\n",
    "    cumplimiento_recaudo_por_division_sub_ad5, cumplimiento_recaudo_otras_companias_ad5, # cumplimiento_cobro_compañias_ad5,\n",
    "    cumplimiento_rentabilidad_cm5_nivel_pais, # rentabilidad_antes_de_impuestos,\n",
    "    cumplimiento_rentabilidad_cm3_grupo_clientes_sub,  # rentabilidad_division_consecutivo,\n",
    "    cumplimiento_rentabilidad_cm3_grupo_clientes, # rentabilidad_division,\n",
    "    cumplimiento_rentabilidad_cm2_grupo_clientes, # rentabilidad_kam,\n",
    "    cumplimiento_rentabilidad_cm5_ad, # rentabilidad_antes_de_impuestos_ad,\n",
    "    cumplimiento_rentabilidad_cm5_ad1, # rentabilidad_antes_de_impuestos_ad1,\n",
    "    cumplimiento_rentabilidad_cm5_ad2, # rentabilidad_antes_de_impuestos_ad2,\n",
    "    cumplimiento_rentabilidad_cm5_ad3, # rentabilidad_antes_de_impuestos_ad3,\n",
    "    cumplimiento_rentabilidad_cm5_ad4, # rentabilidad_antes_de_impuestos_ad4,\n",
    "    cumplimiento_rentabilidad_cm5_ad5, # rentabilidad_antes_de_impuestos_ad5,\n",
    "    cumplimiento_venta_previo_notas_credito_tp, # venta_credito_tp,\n",
    "    cumplimiento_venta_servicios_mtto,\n",
    "    # 2022\n",
    "    venta_cobrada_braun_cluster,\n",
    "    venta_cobrada_portafolio_cluster,\n",
    "    venta_cobrada_portafolio_cluster_sub,\n",
    "    venta_facturada_portafolio_cluster,\n",
    "    venta_facturada_portafolio_cluster_sub,\n",
    "    venta_cobrada_portafolio_pais_ve,\n",
    "    venta_facturada_portafolio_zona_sub_ve,\n",
    "    venta_cobrada_portafolio_zona_ve,\n",
    "    venta_cobrada_portafolio_cluster_ve,\n",
    "    venta_facturada_portafolio_cluster_sub_ve,\n",
    "    venta_cobrada_zona_hospitalario_sub_gc,\n",
    "    venta_cobrada_zona_hospitalario_sub_gd,\n",
    "    venta_facturada_pais_ch,\n",
    "    venta_facturada_zona_ch,\n",
    "    rentabilidad_zona_hospitalario_cm2,\n",
    "    venta_facturada_braun_pais,\n",
    "    rentabilidad_compania_cm3,\n",
    "    venta_cobrada_grupo_clientes_kams_sub,\n",
    "    venta_facturada_grupo_clientes_kams,\n",
    "    kpis_surgical,\n",
    "    #2023\n",
    "    venta_cobrada_portafolio_zona_cluster_sub,\n",
    "    venta_facturada_portafolio_zona_cluster,\n",
    "    venta_facturada_zona_pais,\n",
    "    venta_cobrada_zona_pais_sub,\n",
    "    venta_facturada_portafolio_renal\n",
    "])\n",
    "maestra_resultados['Contexto'] = maestra_resultados['Contexto'].astype('str')\n",
    "maestra_resultados.drop_duplicates(['Contexto', 'Fecha', 'Variable'], inplace=True)\n",
    "maestra_resultados.head()"
   ]
  },
  {
   "cell_type": "code",
   "execution_count": null,
   "metadata": {},
   "outputs": [],
   "source": [
    "maestra_resultados[maestra_resultados['Variable'] == \"VentaCobradaPortafolioClusterSub\"]"
   ]
  },
  {
   "cell_type": "code",
   "execution_count": null,
   "metadata": {},
   "outputs": [],
   "source": [
    "maestra_resultados[ maestra_resultados['Contexto'].str.contains('1111117')]"
   ]
  },
  {
   "cell_type": "code",
   "execution_count": null,
   "metadata": {},
   "outputs": [],
   "source": [
    "maestra_resultados[ maestra_resultados['Contexto'].str.contains('gd_3_5')]"
   ]
  },
  {
   "cell_type": "markdown",
   "metadata": {},
   "source": [
    "### Cálculo de Maestra de Resultados Centro Costo"
   ]
  },
  {
   "cell_type": "code",
   "execution_count": null,
   "metadata": {},
   "outputs": [],
   "source": [
    "venta_cobrada_zona_pais_sub_centro_costo.head()"
   ]
  },
  {
   "cell_type": "code",
   "execution_count": null,
   "metadata": {},
   "outputs": [],
   "source": [
    "venta_cobrada_portafolio_cluster_sub_centro_costo.head()"
   ]
  },
  {
   "cell_type": "code",
   "execution_count": null,
   "metadata": {},
   "outputs": [],
   "source": [
    "venta_cobrada_portafolio_zona_cluster_sub_centro_costo.head()"
   ]
  },
  {
   "cell_type": "code",
   "execution_count": null,
   "metadata": {},
   "outputs": [],
   "source": [
    "maestra_resultados_centro_costo = pd.concat([\n",
    "    #2023\n",
    "    venta_cobrada_zona_pais_sub_centro_costo,\n",
    "    cumplimiento_recaudo_por_division_sub_mk_centro_costo, \n",
    "    cumplimiento_recaudo_por_division_sub_gd_centro_costo,\n",
    "    cumplimiento_recaudo_por_unidad_negocio_gu_sub_centro_costo, \n",
    "    cumplimiento_recaudo_por_unidad_negocio_mk_sub_centro_costo,\n",
    "    cumplimiento_venta_por_unidad_negocio_gu_sub_centro_costo, \n",
    "    cumplimiento_venta_por_unidad_negocio_mk_sub_centro_costo,\n",
    "    cumplimiento_rentabilidad_por_unidad_negocio_cm3_gu_centro_costo, \n",
    "    cumplimiento_rentabilidad_por_unidad_negocio_cm3_mk_centro_costo,\n",
    "    cumplimiento_rentabilidad_por_unidad_negocio_cm2_gu_centro_costo, \n",
    "    cumplimiento_rentabilidad_por_unidad_negocio_cm2_mk_centro_costo,\n",
    "    venta_cobrada_portafolio_cluster_sub_centro_costo,\n",
    "    venta_cobrada_portafolio_zona_cluster_sub_centro_costo\n",
    "])\n",
    "maestra_resultados_centro_costo\n",
    "# maestra_resultados['Contexto'] = maestra_resultados['Contexto'].astype('str')\n",
    "# maestra_resultados.drop_duplicates(['Contexto', 'Fecha', 'Variable'], inplace=True)\n",
    "# maestra_resultados.head()"
   ]
  },
  {
   "cell_type": "code",
   "execution_count": null,
   "metadata": {},
   "outputs": [],
   "source": [
    "maestra_resultados_centro_costo.to_excel('maestra_resultados_centro_costo.xlsx')"
   ]
  },
  {
   "cell_type": "code",
   "execution_count": null,
   "metadata": {},
   "outputs": [],
   "source": [
    "maestra_resultados_centro_costo[\n",
    "    \n",
    "    pd.notna(maestra_resultados_centro_costo['AreaCalculo'])\n",
    "]"
   ]
  },
  {
   "cell_type": "markdown",
   "metadata": {
    "datalore": {
     "hide_input_from_viewers": false,
     "hide_output_from_viewers": false,
     "type": "MD"
    }
   },
   "source": [
    "## Se recalculan los porcentajes de cumplimiento para darle manejo a negativos"
   ]
  },
  {
   "cell_type": "code",
   "execution_count": null,
   "metadata": {},
   "outputs": [],
   "source": []
  },
  {
   "cell_type": "code",
   "execution_count": null,
   "metadata": {
    "datalore": {
     "hide_input_from_viewers": false,
     "hide_output_from_viewers": false,
     "type": "CODE"
    }
   },
   "outputs": [],
   "source": [
    "def recalcular_porcentajes_cumplimiento(row):\n",
    "    response = row['PorcentajeCumplimiento']\n",
    "    if not pd.isnull(row['Real']) and not pd.isnull(row['Presupuesto']):\n",
    "        if row['Presupuesto'] == 0:\n",
    "            response = 0\n",
    "        elif row['Real'] - row['Presupuesto'] < 0:\n",
    "            response = 1 + ((row['Real'] - row['Presupuesto']) / abs(row['Presupuesto']))\n",
    "        elif row['Real'] - row['Presupuesto'] > 0:\n",
    "            response = 1 + abs((row['Real'] - row['Presupuesto']) / abs(row['Presupuesto']))\n",
    "    return round(response, 2)\n",
    "\n",
    "maestra_resultados['PorcentajeCumplimiento'] = maestra_resultados.apply(recalcular_porcentajes_cumplimiento, axis=1)"
   ]
  },
  {
   "cell_type": "markdown",
   "metadata": {},
   "source": [
    "### Se calculan los porcentajes de cumplimiento para Maestra de Centro de Costos"
   ]
  },
  {
   "cell_type": "code",
   "execution_count": null,
   "metadata": {},
   "outputs": [],
   "source": [
    "maestra_resultados_centro_costo['PorcentajeCumplimiento'] = 0\n",
    "maestra_resultados_centro_costo['PorcentajeCumplimiento'] = maestra_resultados_centro_costo.apply(recalcular_porcentajes_cumplimiento, axis=1)\n",
    "maestra_resultados_centro_costo.drop(columns={'AreaCalculo', 'Consecutivo', 'TipoEmpleado'})"
   ]
  },
  {
   "cell_type": "markdown",
   "metadata": {
    "datalore": {
     "hide_input_from_viewers": false,
     "hide_output_from_viewers": false,
     "type": "MD"
    }
   },
   "source": [
    "## Se une la maestra de resultados con la parrilla"
   ]
  },
  {
   "cell_type": "markdown",
   "metadata": {},
   "source": [
    "### Maestra de Resultados por Empleado"
   ]
  },
  {
   "cell_type": "code",
   "execution_count": null,
   "metadata": {},
   "outputs": [],
   "source": [
    "maestra_resultados.head()"
   ]
  },
  {
   "cell_type": "code",
   "execution_count": null,
   "metadata": {},
   "outputs": [],
   "source": [
    "df_parrillas[df_parrillas['Variable'] == 'VentaFacturadaZonaPais'].head()"
   ]
  },
  {
   "cell_type": "code",
   "execution_count": null,
   "metadata": {},
   "outputs": [],
   "source": [
    "maestra_resultados_por_empleado = maestra_resultados.merge(\n",
    "    df_parrillas,\n",
    "    on=['Contexto', 'Variable'],\n",
    "    how='left'\n",
    ")\n",
    "maestra_resultados_por_empleado.head()"
   ]
  },
  {
   "cell_type": "code",
   "execution_count": null,
   "metadata": {},
   "outputs": [],
   "source": [
    "maestra_resultados_por_empleado = maestra_resultados_por_empleado.merge(\n",
    "    df_empleados[['CodigoEmpleado', 'TipoEmpleado', 'AreaCalculo', 'Apellidos', 'Nombre', 'FechaIngreso']],\n",
    "    on='CodigoEmpleado',\n",
    "    how='left'\n",
    ")\n",
    "maestra_resultados_por_empleado.head()"
   ]
  },
  {
   "cell_type": "code",
   "execution_count": null,
   "metadata": {},
   "outputs": [],
   "source": [
    "df_salarios_variables.head()"
   ]
  },
  {
   "cell_type": "code",
   "execution_count": null,
   "metadata": {},
   "outputs": [],
   "source": [
    "# Se añaden líneas para filtrar registros vacíos ('Fecha' y 'CodigoEmpleado')\n",
    "maestra_resultados_por_empleado.dropna(subset=[\n",
    "        'Fecha'\n",
    "    ], inplace=True)\n",
    "maestra_resultados_por_empleado['CodigoEmpleado'] = maestra_resultados_por_empleado['CodigoEmpleado'].astype(str)\n",
    "maestra_resultados_por_empleado"
   ]
  },
  {
   "cell_type": "code",
   "execution_count": null,
   "metadata": {},
   "outputs": [],
   "source": [
    "# TODO Hacer el merge con la tabla de promedio variable\n",
    "maestra_resultados_por_empleado = maestra_resultados_por_empleado.merge(\n",
    "    df_salarios_variables[['CodigoEmpleado', 'Fecha', 'PromedioSalarioVariable']].rename(\n",
    "        columns={'PromedioSalarioVariable': 'SalarioVariable'}\n",
    "    ),\n",
    "    on=['CodigoEmpleado', 'Fecha'],\n",
    "    how='left'\n",
    ")\n",
    "maestra_resultados_por_empleado.head()"
   ]
  },
  {
   "cell_type": "markdown",
   "metadata": {},
   "source": [
    "### Maestra de Resultados por Empleado y Centro de Costos"
   ]
  },
  {
   "cell_type": "code",
   "execution_count": null,
   "metadata": {},
   "outputs": [],
   "source": [
    "maestra_resultados_por_empleado_centro_costo = maestra_resultados_centro_costo.drop(columns={'AreaCalculo', 'Consecutivo', 'TipoEmpleado'})\n",
    "maestra_resultados_por_empleado_centro_costo = maestra_resultados_por_empleado_centro_costo.merge(\n",
    "    df_parrillas,\n",
    "    on=['Contexto', 'Variable'],\n",
    "    how='left'\n",
    ")\n",
    "maestra_resultados_por_empleado_centro_costo.head()"
   ]
  },
  {
   "cell_type": "code",
   "execution_count": null,
   "metadata": {},
   "outputs": [],
   "source": [
    "maestra_resultados_por_empleado_centro_costo = maestra_resultados_por_empleado_centro_costo.merge(\n",
    "    df_empleados[['CodigoEmpleado', 'TipoEmpleado', 'AreaCalculo', 'Apellidos', 'Nombre', 'FechaIngreso']],\n",
    "    on='CodigoEmpleado',\n",
    "    how='left'\n",
    ")\n",
    "maestra_resultados_por_empleado_centro_costo.head()"
   ]
  },
  {
   "cell_type": "code",
   "execution_count": null,
   "metadata": {},
   "outputs": [],
   "source": [
    "# Se añaden líneas para filtrar registros vacíos ('Fecha' y 'CodigoEmpleado')\n",
    "maestra_resultados_por_empleado_centro_costo.dropna(subset=[\n",
    "        'Fecha'\n",
    "    ], inplace=True)\n",
    "maestra_resultados_por_empleado_centro_costo['CodigoEmpleado'] = maestra_resultados_por_empleado_centro_costo['CodigoEmpleado'].astype(str)\n",
    "maestra_resultados_por_empleado_centro_costo.head()"
   ]
  },
  {
   "cell_type": "code",
   "execution_count": null,
   "metadata": {},
   "outputs": [],
   "source": [
    "# TODO Hacer el merge con la tabla de promedio variable\n",
    "maestra_resultados_por_empleado_centro_costo = maestra_resultados_por_empleado_centro_costo.merge(\n",
    "    df_salarios_variables[['CodigoEmpleado', 'Fecha', 'PromedioSalarioVariable']].rename(\n",
    "        columns={'PromedioSalarioVariable': 'SalarioVariable'}\n",
    "    ),\n",
    "    on=['CodigoEmpleado', 'Fecha'],\n",
    "    how='left'\n",
    ")\n",
    "maestra_resultados_por_empleado_centro_costo.head()"
   ]
  },
  {
   "cell_type": "code",
   "execution_count": null,
   "metadata": {
    "datalore": {
     "hide_input_from_viewers": false,
     "hide_output_from_viewers": false,
     "type": "CODE"
    }
   },
   "outputs": [],
   "source": [
    "# maestra_resultados_por_empleado = maestra_resultados.merge(\n",
    "#     df_parrillas,\n",
    "#     on=['Contexto', 'Variable'],\n",
    "#     how='left'\n",
    "# )\n",
    "\n",
    "# maestra_resultados_por_empleado = maestra_resultados_por_empleado.merge(\n",
    "#     df_empleados[['CodigoEmpleado', 'TipoEmpleado', 'AreaCalculo', 'Apellidos', 'Nombre', 'FechaIngreso']],\n",
    "#     on='CodigoEmpleado',\n",
    "#     how='left'\n",
    "# )\n",
    "\n",
    "# maestra_resultados_por_empleado.dropna(subset=[\n",
    "#     'Fecha'\n",
    "# ], inplace=True)\n",
    "# maestra_resultados_por_empleado['CodigoEmpleado'] = maestra_resultados_por_empleado['CodigoEmpleado'].astype(str)\n",
    "\n",
    "# # TODO Hacer el merge con la tabla de promedio variable\n",
    "# maestra_resultados_por_empleado = maestra_resultados_por_empleado.merge(\n",
    "#     df_salarios_variables[['CodigoEmpleado', 'Fecha', 'PromedioSalarioVariable']].rename(\n",
    "#         columns={'PromedioSalarioVariable': 'SalarioVariable'}\n",
    "#     ),\n",
    "#     on=['CodigoEmpleado', 'Fecha'],\n",
    "#     how='left'\n",
    "# )\n",
    "\n",
    "maestra_resultados_por_empleado = maestra_resultados_por_empleado.merge(\n",
    "    df_factores_liquidacion,\n",
    "    on=['TipoEmpleado', 'PorcentajeCumplimiento'],\n",
    "    how='left'\n",
    ")\n",
    "\n",
    "maestra_resultados_por_empleado['FactorIncentivo'] = np.where(\n",
    "    ((maestra_resultados_por_empleado['Fecha'] >= '2022-08-01') & \n",
    "     (maestra_resultados_por_empleado['PorcentajeCumplimiento'] == 0) & \n",
    "     (maestra_resultados_por_empleado['Presupuesto'] == 0) & \n",
    "     (maestra_resultados_por_empleado['Real'] == 0)),\n",
    "    0.25,\n",
    "    maestra_resultados_por_empleado['FactorIncentivo']\n",
    ")\n",
    "maestra_resultados_por_empleado['FactorIncentivo'] = np.where(\n",
    "    ((maestra_resultados_por_empleado['Fecha'] >= '2022-08-01') & \n",
    "     (maestra_resultados_por_empleado['PorcentajeCumplimiento'] == 0) & \n",
    "     (maestra_resultados_por_empleado['Presupuesto'] == 0) & \n",
    "     (maestra_resultados_por_empleado['Real'] > 0)),\n",
    "    0.5,\n",
    "    maestra_resultados_por_empleado['FactorIncentivo']\n",
    ")\n",
    "\n",
    "##\n",
    "_excepciones_porcentaje_cumplimiento = [\n",
    "    # {\n",
    "    #     'TipoEmpleado': 'VC',\n",
    "    #     'AreaCalculo': 7,\n",
    "    #     'Variable': 'VentaFacturadaZonaCargoIndividualSub',\n",
    "    #     'Consecutivo': 4,\n",
    "    #     'FechaInicial': '2021-02-01',\n",
    "    #     'FechaFinal': '2021-06-01',\n",
    "    #     'PorcentajeCumplimiento': 1,\n",
    "    #     'FactorIncentivo': 1,\n",
    "    #     'Codigos': ['5003527']\n",
    "    # }\n",
    "]\n",
    "\n",
    "for excepcion in _excepciones_porcentaje_cumplimiento:\n",
    "    maestra_resultados_por_empleado['PorcentajeCumplimiento'] = np.where(\n",
    "        (\n",
    "            (maestra_resultados_por_empleado['CodigoEmpleado'].isin(excepcion['Codigos'])) &\n",
    "            (maestra_resultados_por_empleado['Consecutivo'] == excepcion['Consecutivo']) &\n",
    "            (maestra_resultados_por_empleado['Variable'] == excepcion['Variable']) &\n",
    "            (maestra_resultados_por_empleado['Fecha'] >= excepcion['FechaInicial']) &\n",
    "            (maestra_resultados_por_empleado['Fecha'] <= excepcion['FechaFinal'])\n",
    "        ),\n",
    "        excepcion['PorcentajeCumplimiento'],\n",
    "        maestra_resultados_por_empleado['PorcentajeCumplimiento']\n",
    "    )\n",
    "    maestra_resultados_por_empleado['FactorIncentivo'] = np.where(\n",
    "        (\n",
    "            (maestra_resultados_por_empleado['CodigoEmpleado'].isin(excepcion['Codigos'])) &\n",
    "            (maestra_resultados_por_empleado['Consecutivo'] == excepcion['Consecutivo']) &\n",
    "            (maestra_resultados_por_empleado['Variable'] == excepcion['Variable']) &\n",
    "            (maestra_resultados_por_empleado['Fecha'] >= excepcion['FechaInicial']) &\n",
    "            (maestra_resultados_por_empleado['Fecha'] <= excepcion['FechaFinal'])\n",
    "        ),\n",
    "        excepcion['FactorIncentivo'],\n",
    "        maestra_resultados_por_empleado['FactorIncentivo']\n",
    "    )\n",
    "##\n",
    "\n",
    "maestra_resultados_por_empleado['FactorIncentivo'] = np.where(\n",
    "    (maestra_resultados_por_empleado['PorcentajeCumplimiento']<0.9) & (maestra_resultados_por_empleado['FactorIncentivo'].isnull()),\n",
    "    0,\n",
    "    maestra_resultados_por_empleado['FactorIncentivo']\n",
    ")\n",
    "maestra_resultados_por_empleado['FactorIncentivo'] = np.where(\n",
    "    (maestra_resultados_por_empleado['PorcentajeCumplimiento']>1.06) & (maestra_resultados_por_empleado['FactorIncentivo'].isnull()),\n",
    "    2.5,\n",
    "    maestra_resultados_por_empleado['FactorIncentivo']\n",
    ")\n",
    "maestra_resultados_por_empleado = maestra_resultados_por_empleado[maestra_resultados_por_empleado['Fecha'].notnull()]\n",
    "maestra_resultados_por_empleado['FactorMes'] = pd.DatetimeIndex(maestra_resultados_por_empleado['Fecha']).month\n",
    "maestra_resultados_por_empleado['FactorMes'] = maestra_resultados_por_empleado['FactorMes'].astype('int')\n",
    "maestra_resultados_por_empleado['Liquidado'] = maestra_resultados_por_empleado['SalarioVariable']*maestra_resultados_por_empleado['Porcentaje']\n",
    "maestra_resultados_por_empleado['Liquidado'] = maestra_resultados_por_empleado['Liquidado']*maestra_resultados_por_empleado['FactorIncentivo']\n",
    "\n",
    "try:\n",
    "    maestra_resultados_por_empleado['DifMonths'] = ((maestra_resultados_por_empleado.Fecha - maestra_resultados_por_empleado.FechaIngreso)/np.timedelta64(1, 'M'))\n",
    "except:\n",
    "    maestra_resultados_por_empleado['DifMonths'] = 0\n",
    "maestra_resultados_por_empleado['DifMonths'].fillna(0, inplace=True)\n",
    "maestra_resultados_por_empleado['DifMonths'] = maestra_resultados_por_empleado['DifMonths'].apply(lambda x: round(x, 0))\n",
    "maestra_resultados_por_empleado['DifMonths'] = maestra_resultados_por_empleado['DifMonths'].astype('int')\n",
    "\n",
    "maestra_resultados_por_empleado['DifMonths'] = maestra_resultados_por_empleado.groupby(['CodigoEmpleado'])['DifMonths'].transform(min)\n",
    "maestra_resultados_por_empleado['DifMonths'] = np.where(\n",
    "    maestra_resultados_por_empleado['DifMonths']>0, 0, maestra_resultados_por_empleado['DifMonths']\n",
    ")\n",
    "maestra_resultados_por_empleado['NuevoFactor'] = maestra_resultados_por_empleado['FactorMes'] + maestra_resultados_por_empleado['DifMonths']\n",
    "maestra_resultados_por_empleado['NuevoFactor'] = maestra_resultados_por_empleado['NuevoFactor'].apply(lambda x: 0 if x<0 else x)\n",
    "\n",
    "###\n",
    "_excepciones_factor_mes = [\n",
    "    # Garantizados para VEs y VCs\n",
    "    {\n",
    "        'TipoEmpleado': ['VC', 'VE'],\n",
    "        'FechaInicial': '2022-03-01',\n",
    "        'FechaFinal': '2022-12-01',\n",
    "        'SumFactorMes': -2\n",
    "    }\n",
    "]\n",
    "for excepcion in _excepciones_factor_mes:\n",
    "    maestra_resultados_por_empleado['NuevoFactor'] = np.where(\n",
    "        (\n",
    "            (maestra_resultados_por_empleado['TipoEmpleado'].isin(excepcion['TipoEmpleado'])) &\n",
    "            (maestra_resultados_por_empleado['Fecha'] >= excepcion['FechaInicial']) &\n",
    "            (maestra_resultados_por_empleado['Fecha'] <= excepcion['FechaFinal'])\n",
    "        ),\n",
    "        maestra_resultados_por_empleado['NuevoFactor'] + excepcion['SumFactorMes'],\n",
    "        maestra_resultados_por_empleado['NuevoFactor']\n",
    "    )\n",
    "\n",
    "maestra_resultados_por_empleado['NuevoFactor'] = np.where(\n",
    "    maestra_resultados_por_empleado['NuevoFactor'] < 1,\n",
    "    1,\n",
    "    maestra_resultados_por_empleado['NuevoFactor']\n",
    ")\n",
    "maestra_resultados_por_empleado['NuevoFactorBK'] = maestra_resultados_por_empleado['NuevoFactor']\n",
    "###\n",
    "\n",
    "maestra_resultados_por_empleado['Liquidado'] = maestra_resultados_por_empleado['Liquidado']*maestra_resultados_por_empleado['NuevoFactor']\n",
    "\n",
    "maestra_resultados_por_empleado = maestra_resultados_por_empleado[maestra_resultados_por_empleado['CodigoEmpleado'].notnull()]"
   ]
  },
  {
   "cell_type": "code",
   "execution_count": null,
   "metadata": {},
   "outputs": [],
   "source": [
    "maestra_resultados_por_empleado.head()"
   ]
  },
  {
   "cell_type": "code",
   "execution_count": null,
   "metadata": {},
   "outputs": [],
   "source": [
    "maestra_resultados_por_empleado[maestra_resultados_por_empleado['Contexto'] == 'gd_3_5']"
   ]
  },
  {
   "cell_type": "markdown",
   "metadata": {
    "datalore": {
     "hide_input_from_viewers": false,
     "hide_output_from_viewers": false,
     "type": "MD"
    }
   },
   "source": [
    "## Se calculan los resultados por mes"
   ]
  },
  {
   "cell_type": "code",
   "execution_count": null,
   "metadata": {
    "datalore": {
     "hide_input_from_viewers": false,
     "hide_output_from_viewers": false,
     "type": "CODE"
    }
   },
   "outputs": [],
   "source": [
    "lista_variables_rentabilidad_acumuladas = [\n",
    "    'RentabilidadBbraunPaisAntesDeImpuestos',\n",
    "    'RentabilidadDivisionGrupoClientesCM3',\n",
    "    'RentabilidadDivisionGrupoClientesCM3Sub',\n",
    "    'RentabilidadUnidadNegocioCM2',\n",
    "    'RentabilidadUnidadNegocioCM2Sub',\n",
    "    'RentabilidadUnidadNegocioCM3',\n",
    "    'RentabilidadUnidadNegocioCM3Sub',\n",
    "    'TotalRentabilidadBraunAntesDeImpuestosCM5',\n",
    "    'VentaFacturadaPrevioNotasCreditoTP',\n",
    "    # 2022\n",
    "    'RentabilidadCompaniaCM3',\n",
    "    'RentabilidadZonaHospitalarioCM2'\n",
    "]\n",
    "\n",
    "def calcular_resultado_mes(group):\n",
    "    valor_previo_real = 0\n",
    "    valor_previo_presupuesto = 0\n",
    "    for index, item in group.iterrows():\n",
    "        if item['Variable'] in lista_variables_rentabilidad_acumuladas:\n",
    "            resultado_real_mes = item['Real']\n",
    "            resultado_presupuesto_mes = item['Presupuesto']\n",
    "        else:\n",
    "            resultado_real_mes = item['Real'] - valor_previo_real\n",
    "            resultado_presupuesto_mes = item['Presupuesto'] - valor_previo_presupuesto\n",
    "        \n",
    "        group.at[index, 'ResultadoRealMes'] = resultado_real_mes\n",
    "        group.at[index, 'ResultadoPresupuesto'] = resultado_presupuesto_mes\n",
    "\n",
    "        porcentaje_cumplimiento_mes = 0\n",
    "        if resultado_presupuesto_mes == 0:\n",
    "            porcentaje_cumplimiento_mes = 0\n",
    "        elif resultado_real_mes - resultado_presupuesto_mes < 0:\n",
    "            porcentaje_cumplimiento_mes = 1 + ((resultado_real_mes - resultado_presupuesto_mes) / abs(resultado_presupuesto_mes))\n",
    "        elif resultado_real_mes - resultado_presupuesto_mes > 0:\n",
    "            porcentaje_cumplimiento_mes = 1 + abs((resultado_real_mes - resultado_presupuesto_mes) / abs(resultado_presupuesto_mes))\n",
    "        else:\n",
    "            porcentaje_cumplimiento_mes = resultado_real_mes / resultado_presupuesto_mes\n",
    "\n",
    "        group.at[index, 'PorcentajeCumplimientoMes'] = round(porcentaje_cumplimiento_mes, 2)\n",
    "        \n",
    "        valor_previo_real = item['Real']\n",
    "        valor_previo_presupuesto = item['Presupuesto']\n",
    "    return group\n",
    "\n",
    "maestra_resultados_por_empleado['Real'].fillna(0,inplace=True)\n",
    "maestra_resultados_por_empleado['Presupuesto'].fillna(0,inplace=True)\n",
    "maestra_resultados_por_empleado['ResultadoPresupuesto'] = 0\n",
    "maestra_resultados_por_empleado['ResultadoRealMes'] = 0\n",
    "maestra_resultados_por_empleado['PorcentajeCumplimientoMes'] = 0\n",
    "maestra_resultados_por_empleado['PorcentajeCumplimientoMes'] = maestra_resultados_por_empleado['PorcentajeCumplimientoMes'].astype('float')\n",
    "maestra_resultados_por_empleado = maestra_resultados_por_empleado.groupby(['CodigoEmpleado', 'Variable', 'Contexto'], group_keys=False).apply(calcular_resultado_mes)\n",
    "\n",
    "maestra_resultados_por_empleado.head()"
   ]
  },
  {
   "cell_type": "code",
   "execution_count": null,
   "metadata": {
    "datalore": {
     "hide_input_from_viewers": false,
     "hide_output_from_viewers": false,
     "type": "CODE"
    }
   },
   "outputs": [],
   "source": [
    "# Se une el resultadio histórico con el actual, de tal forma que al histórico se le agregan únicamenet \n",
    "# los resultados correspondientes al mes que se está liquidando\n",
    "resultado_detallado_historico = df_resultado_detallado_previo.copy()\n",
    "last_date_historico = resultado_detallado_historico['Fecha'].max()\n",
    "last_date_historico = None if pd.isnull(last_date_historico) else last_date_historico\n",
    "\n",
    "try:\n",
    "    maestra_resultados_por_empleado = maestra_resultados_por_empleado[\n",
    "        (maestra_resultados_por_empleado['Fecha']<=fecha_liquidacion)\n",
    "    ]\n",
    "    if last_date_historico:\n",
    "        maestra_resultados_por_empleado = maestra_resultados_por_empleado[\n",
    "            maestra_resultados_por_empleado['Fecha']>last_date_historico\n",
    "        ]\n",
    "except:\n",
    "    raise\n",
    "\n",
    "maestra_resultados_por_empleado = pd.concat([resultado_detallado_historico, maestra_resultados_por_empleado])\n",
    "maestra_resultados_por_empleado = maestra_resultados_por_empleado.sort_values(by=['CodigoEmpleado', 'Fecha'])\n",
    "maestra_resultados_por_empleado"
   ]
  },
  {
   "cell_type": "code",
   "execution_count": null,
   "metadata": {},
   "outputs": [],
   "source": [
    "maestra_resultados_por_empleado[maestra_resultados_por_empleado['Contexto'] == 'gd_3_5']"
   ]
  },
  {
   "cell_type": "markdown",
   "metadata": {
    "datalore": {
     "hide_input_from_viewers": false,
     "hide_output_from_viewers": false,
     "type": "MD"
    }
   },
   "source": [
    "## Se obtienen las liquidaciones"
   ]
  },
  {
   "cell_type": "code",
   "execution_count": null,
   "metadata": {
    "datalore": {
     "hide_input_from_viewers": false,
     "hide_output_from_viewers": false,
     "type": "CODE"
    }
   },
   "outputs": [],
   "source": [
    "excepciones_pagos_acumulados = {}\n",
    "\n",
    "excepciones_diferencias = {}"
   ]
  },
  {
   "cell_type": "code",
   "execution_count": null,
   "metadata": {},
   "outputs": [],
   "source": [
    "maestra_resultados_por_empleado[maestra_resultados_por_empleado['Fecha'] >= '2023-04-01']"
   ]
  },
  {
   "cell_type": "code",
   "execution_count": null,
   "metadata": {},
   "outputs": [],
   "source": [
    "df_incentivos_por_empleado"
   ]
  },
  {
   "cell_type": "code",
   "execution_count": null,
   "metadata": {},
   "outputs": [],
   "source": []
  },
  {
   "cell_type": "code",
   "execution_count": null,
   "metadata": {},
   "outputs": [],
   "source": [
    "resultado_liquidaciones = maestra_resultados_por_empleado.groupby(\n",
    "    ['CodigoEmpleado', 'SalarioVariable', 'Fecha', 'NuevoFactorBK'],\n",
    "    as_index=False\n",
    ").Liquidado.agg({'Liquidado': 'sum'})\n",
    "resultado_liquidaciones.rename(columns={'NuevoFactorBK': 'NuevoFactor'}, inplace=True)\n",
    "resultado_liquidaciones.head()\n",
    "resultado_liquidaciones = resultado_liquidaciones.merge(\n",
    "    df_incentivos_por_empleado.rename(columns={'Valor': 'PagoReal'}),\n",
    "    on = ['CodigoEmpleado', 'Fecha'],\n",
    "    how = 'right'\n",
    ")\n",
    "resultado_liquidaciones.head()"
   ]
  },
  {
   "cell_type": "code",
   "execution_count": null,
   "metadata": {},
   "outputs": [],
   "source": [
    "resultado_liquidaciones[resultado_liquidaciones['Fecha'] >= '2023-05-01']"
   ]
  },
  {
   "cell_type": "code",
   "execution_count": null,
   "metadata": {},
   "outputs": [],
   "source": [
    "resultado_liquidaciones = pd.merge(\n",
    "    left=resultado_liquidaciones,\n",
    "    right=df_empleados[['CodigoEmpleado', 'FechaIngreso']].drop_duplicates(['CodigoEmpleado']),\n",
    "    how='left',\n",
    "    on=['CodigoEmpleado']\n",
    ")\n",
    "resultado_liquidaciones[resultado_liquidaciones['Fecha'] >= '2023-05-01']"
   ]
  },
  {
   "cell_type": "code",
   "execution_count": null,
   "metadata": {
    "datalore": {
     "hide_input_from_viewers": false,
     "hide_output_from_viewers": false,
     "type": "CODE"
    }
   },
   "outputs": [],
   "source": [
    "resultado_liquidaciones = resultado_liquidaciones[resultado_liquidaciones['Fecha'] >= resultado_liquidaciones['FechaIngreso']]\n",
    "resultado_liquidaciones.drop(columns=['FechaIngreso'], inplace=True)\n",
    "resultado_liquidaciones.head()\n",
    "\n",
    "# Cálculo de garantizado (100%) para VEs y VCs, Anticipos (85%) para el resto de empleados\n",
    "resultado_liquidaciones = resultado_liquidaciones.merge(\n",
    "    df_empleados[['CodigoEmpleado', 'TipoEmpleado']],\n",
    "    on='CodigoEmpleado',\n",
    "    how='left'\n",
    ")\n",
    "\n",
    "def calcular_liquidacion_mes(g):\n",
    "    pago_acumulado = 0\n",
    "    for i, row in g.iterrows():\n",
    "        if row['Fecha'].month in meses_incentivos:\n",
    "            if g.at[i, 'PagoReal'] == 0:\n",
    "                if i == 0:\n",
    "                    g.at[i, 'PagoReal'] = g.at[i, 'Liquidado']\n",
    "                else:\n",
    "                    g.at[i, 'PagoReal'] = g.at[i, 'Liquidado'] - pago_acumulado\n",
    "            \n",
    "            if g.at[i, 'PagoReal'] < 0:\n",
    "                g.at[i, 'PagoReal'] = 0.0\n",
    "        pago_acumulado += g.at[i, 'PagoReal']\n",
    "        \n",
    "        excepcion = excepciones_pagos_acumulados.get(row['CodigoEmpleado'], None)\n",
    "        if excepcion and row['Fecha'] == excepcion['Fecha']:\n",
    "            pago_acumulado = excepcion['ValorPagoAcumulado']\n",
    "        \n",
    "        excepcion_diferencia = excepciones_diferencias.get(row['CodigoEmpleado'], None)\n",
    "        if excepcion_diferencia and row['Fecha'] == excepcion_diferencia['Fecha']:\n",
    "            pago_acumulado = pago_acumulado + excepcion_diferencia['ValorDiferencia']\n",
    "        \n",
    "    return g\n",
    "resultado_liquidaciones = resultado_liquidaciones.sort_values(by=['CodigoEmpleado', 'Fecha'])\n",
    "resultado_liquidaciones.reset_index(inplace=True, drop=True)\n",
    "resultado_liquidaciones['PagoReal'].fillna(0.0, inplace=True)\n",
    "resultado_liquidaciones['Liquidado'].fillna(0.0, inplace=True)\n",
    "resultado_liquidaciones"
   ]
  },
  {
   "cell_type": "code",
   "execution_count": null,
   "metadata": {},
   "outputs": [],
   "source": [
    "resultado_liquidaciones[resultado_liquidaciones['Fecha'] >= '2023-05-01']"
   ]
  },
  {
   "cell_type": "code",
   "execution_count": null,
   "metadata": {},
   "outputs": [],
   "source": [
    "resultado_liquidaciones = resultado_liquidaciones.groupby(['CodigoEmpleado'], group_keys=False).apply(calcular_liquidacion_mes)\n",
    "resultado_liquidaciones.rename(columns={'NuevoFactor': 'FactorMes'}, inplace=True)\n",
    "resultado_liquidaciones['PagoGarantizado'] = 'NO'\n",
    "\n",
    "resultado_liquidaciones['PagoReal'] = np.where(\n",
    "    (\n",
    "        (resultado_liquidaciones['Fecha'] >= '2022-01-01') &\n",
    "        (resultado_liquidaciones['Fecha'] <= '2022-02-01') &\n",
    "        (resultado_liquidaciones['TipoEmpleado'].isin(['VE', 'VC']))\n",
    "    ),\n",
    "    resultado_liquidaciones['SalarioVariable'],\n",
    "    resultado_liquidaciones['PagoReal']\n",
    ")\n",
    "resultado_liquidaciones['PagoReal'] = np.where(\n",
    "    (\n",
    "        (resultado_liquidaciones['Fecha'] >= '2022-01-01') &\n",
    "        (resultado_liquidaciones['Fecha'] <= '2022-02-01') &\n",
    "        (resultado_liquidaciones['TipoEmpleado'].isin(['AD', 'AD1', 'AD2', 'AD3', 'AD4', 'AD5', 'GC', 'GD', 'GU', 'KAM', 'MK']))\n",
    "    ),\n",
    "    resultado_liquidaciones['SalarioVariable'] * 0.85,\n",
    "    resultado_liquidaciones['PagoReal']\n",
    ")\n",
    "resultado_liquidaciones.drop(columns=['TipoEmpleado'], inplace=True)\n",
    "\n",
    "resultado_liquidaciones.head(12)"
   ]
  },
  {
   "cell_type": "markdown",
   "metadata": {
    "datalore": {
     "hide_input_from_viewers": false,
     "hide_output_from_viewers": false,
     "type": "MD"
    }
   },
   "source": [
    "## Se obtienen los garantizados"
   ]
  },
  {
   "cell_type": "code",
   "execution_count": null,
   "metadata": {
    "datalore": {
     "hide_input_from_viewers": false,
     "hide_output_from_viewers": false,
     "type": "CODE"
    }
   },
   "outputs": [],
   "source": [
    "empleados_garantizado = df_empleados[df_empleados['FechaIngreso'] > fecha_liquidacion][['CodigoEmpleado', 'SalarioVariable', 'FechaIngreso']]\n",
    "fechas_resultado_liquidaciones = resultado_liquidaciones[['Fecha']].drop_duplicates()\n",
    "\n",
    "empleados_garantizado['Key'] = 1\n",
    "fechas_resultado_liquidaciones['Key'] = 1\n",
    "\n",
    "liquidaciones_garantizados = pd.merge(\n",
    "    left=fechas_resultado_liquidaciones.sort_values(['Fecha']),\n",
    "    right=empleados_garantizado,\n",
    "    how='outer',\n",
    "    on=['Key']\n",
    ").drop(columns=['Key'])\n",
    "\n",
    "liquidaciones_garantizados = liquidaciones_garantizados[liquidaciones_garantizados['CodigoEmpleado'].notnull()]\n",
    "\n",
    "liquidaciones_garantizados['DifMonths'] = ((liquidaciones_garantizados.FechaIngreso - liquidaciones_garantizados.Fecha)/np.timedelta64(1, 'M'))\n",
    "liquidaciones_garantizados['DifMonths'] = liquidaciones_garantizados['DifMonths'].apply(lambda x: round(x, 0))\n",
    "liquidaciones_garantizados['DifMonths'] = liquidaciones_garantizados['DifMonths'].astype('int')\n",
    "liquidaciones_garantizados = liquidaciones_garantizados[liquidaciones_garantizados['DifMonths'] <= 4]\n",
    "\n",
    "liquidaciones_garantizados['FactorMes'] = 0\n",
    "liquidaciones_garantizados['Liquidado'] = liquidaciones_garantizados['SalarioVariable']\n",
    "liquidaciones_garantizados['PagoReal'] = liquidaciones_garantizados['SalarioVariable']\n",
    "liquidaciones_garantizados['PagoGarantizado'] = 'SI'\n",
    "\n",
    "liquidaciones_garantizados.drop(columns=['DifMonths', 'FechaIngreso'], inplace=True)\n",
    "\n",
    "liquidaciones_garantizados.head()"
   ]
  },
  {
   "cell_type": "markdown",
   "metadata": {
    "datalore": {
     "hide_input_from_viewers": false,
     "hide_output_from_viewers": false,
     "type": "MD"
    }
   },
   "source": [
    "## Se unen las liquidaciones de garantizados con las demás"
   ]
  },
  {
   "cell_type": "code",
   "execution_count": null,
   "metadata": {
    "datalore": {
     "hide_input_from_viewers": false,
     "hide_output_from_viewers": false,
     "type": "CODE"
    }
   },
   "outputs": [],
   "source": [
    "resultado_liquidaciones = pd.concat([resultado_liquidaciones, liquidaciones_garantizados])\n",
    "resultado_liquidaciones.reset_index(drop=True, inplace=True)\n",
    "resultado_liquidaciones"
   ]
  },
  {
   "cell_type": "markdown",
   "metadata": {
    "datalore": {
     "hide_input_from_viewers": false,
     "hide_output_from_viewers": false,
     "type": "MD"
    }
   },
   "source": [
    "## Se conserva la información del histórico y se le añade la nueva información hasta la fecha de liquidación"
   ]
  },
  {
   "cell_type": "code",
   "execution_count": null,
   "metadata": {
    "datalore": {
     "hide_input_from_viewers": false,
     "hide_output_from_viewers": false,
     "type": "CODE"
    }
   },
   "outputs": [],
   "source": [
    "resultado_liquidaciones_historico = df_resultado_liquidaciones_previo.copy()\n",
    "resultado_liquidaciones_historico['PagoGarantizado'] = resultado_liquidaciones_historico['PagoGarantizado'].fillna('NO')\n",
    "last_date_historico = resultado_liquidaciones_historico['Fecha'].max()\n",
    "last_date_historico = None if pd.isnull(last_date_historico) else last_date_historico\n",
    "\n",
    "try:\n",
    "    resultado_liquidaciones = resultado_liquidaciones[\n",
    "        resultado_liquidaciones['Fecha']<=fecha_liquidacion\n",
    "    ]\n",
    "    if last_date_historico:\n",
    "        resultado_liquidaciones = resultado_liquidaciones[\n",
    "            resultado_liquidaciones['Fecha']>last_date_historico\n",
    "        ]\n",
    "except:\n",
    "    pass\n",
    "\n",
    "resultado_liquidaciones = pd.concat([resultado_liquidaciones_historico, resultado_liquidaciones])\n",
    "resultado_liquidaciones = resultado_liquidaciones.sort_values(by=['CodigoEmpleado', 'Fecha'])\n",
    "\n",
    "for codigo_empleado_excepcion in excepciones_pagos_acumulados:\n",
    "    excepcion = excepciones_pagos_acumulados[codigo_empleado_excepcion]\n",
    "    resultado_liquidaciones['PagoReal'] = np.where(\n",
    "        (\n",
    "            (resultado_liquidaciones['CodigoEmpleado'] == codigo_empleado_excepcion) &\n",
    "            (resultado_liquidaciones['Fecha'] <= excepcion['Fecha'])\n",
    "        ),\n",
    "        excepcion['ValorPagoAcumulado'],\n",
    "        resultado_liquidaciones['PagoReal']\n",
    "    )\n",
    "\n",
    "for codigo_empleado_excepcion in excepciones_diferencias:\n",
    "    excepcion = excepciones_diferencias[codigo_empleado_excepcion]\n",
    "    resultado_liquidaciones['PagoReal'] = np.where(\n",
    "        (\n",
    "            (resultado_liquidaciones['CodigoEmpleado'] == codigo_empleado_excepcion) &\n",
    "            (resultado_liquidaciones['Fecha'] == excepcion['Fecha'])\n",
    "        ),\n",
    "        resultado_liquidaciones['PagoReal'] + excepcion['ValorDiferencia'],\n",
    "        resultado_liquidaciones['PagoReal']\n",
    "    )\n",
    "\n",
    "resultado_liquidaciones['PagadoFecha'] = resultado_liquidaciones.groupby(['CodigoEmpleado'])['PagoReal'].transform(pd.Series.cumsum)\n",
    "resultado_liquidaciones['PagadoFecha'] = resultado_liquidaciones['PagadoFecha'] - resultado_liquidaciones['PagoReal']\n",
    "resultado_liquidaciones"
   ]
  },
  {
   "cell_type": "code",
   "execution_count": null,
   "metadata": {
    "datalore": {
     "hide_input_from_viewers": false,
     "hide_output_from_viewers": false,
     "type": "CODE"
    }
   },
   "outputs": [],
   "source": [
    "resultado_liquidaciones.drop_duplicates(['CodigoEmpleado', 'Fecha'], inplace=True)\n",
    "\n",
    "resultado_final = pd.merge(\n",
    "    left=resultado_liquidaciones[['CodigoEmpleado', 'Fecha', 'PagoGarantizado', 'Liquidado', 'PagoReal', 'PagadoFecha', 'FactorMes']],\n",
    "    right=df_empleados,\n",
    "    on=['CodigoEmpleado'],\n",
    "    how='left'\n",
    ")\n",
    "resultado_final = resultado_final[['Identificacion', 'Nombre', 'Apellidos', 'CodigoEmpleado', 'TipoEmpleado', 'AreaCalculo', 'Fecha', 'SalarioVariable', 'PagoGarantizado', 'FactorMes', 'Liquidado', 'PagoReal', 'PagadoFecha']]\n",
    "resultado_final = resultado_final.sort_values(by=['TipoEmpleado', 'AreaCalculo', 'CodigoEmpleado', 'Fecha'])\n",
    "\n",
    "resultado_final.rename(columns={\n",
    "    'Identificacion': 'Cédula',\n",
    "    'CodigoEmpleado': 'Código',\n",
    "    'TipoEmpleado': 'Tipo Empleado',\n",
    "    'AreaCalculo': 'Área de cálculo',\n",
    "    'Liquidado': 'Valor liquidado',\n",
    "    'PagoReal': 'Valor neto a pagar',\n",
    "    'PagadoFecha': 'Pagado a la fecha',\n",
    "    'SalarioVariable': 'Salario variable',\n",
    "    'FactorMes': 'Factor mes',\n",
    "    'PagoGarantizado': '¿Pago garantizado?'\n",
    "}, inplace=True)\n",
    "resultado_final.head()"
   ]
  },
  {
   "cell_type": "code",
   "execution_count": null,
   "metadata": {
    "datalore": {
     "hide_input_from_viewers": false,
     "hide_output_from_viewers": false,
     "type": "CODE"
    }
   },
   "outputs": [],
   "source": [
    "# return maestra_resultados_por_empleado, resultado_liquidaciones, resultado_final"
   ]
  },
  {
   "cell_type": "code",
   "execution_count": null,
   "metadata": {
    "datalore": {
     "hide_input_from_viewers": false,
     "hide_output_from_viewers": false,
     "type": "CODE"
    }
   },
   "outputs": [],
   "source": [
    "maestra_resultados_por_empleado.to_excel(os.path.join(OUTPUT_FOLDER, 'maestra_resultados_por_empleado.xlsx'))\n",
    "resultado_liquidaciones.to_excel(os.path.join(OUTPUT_FOLDER, 'resultado_liquidaciones.xlsx'))\n",
    "resultado_final.to_excel(os.path.join(OUTPUT_FOLDER, 'resultado_final.xlsx'))"
   ]
  },
  {
   "cell_type": "code",
   "execution_count": null,
   "metadata": {
    "datalore": {
     "hide_input_from_viewers": false,
     "hide_output_from_viewers": false,
     "type": "CODE"
    }
   },
   "outputs": [],
   "source": [
    "maestra_resultados.to_excel(os.path.join(OUTPUT_FOLDER, 'maestra_resultados.xlsx'))"
   ]
  },
  {
   "cell_type": "code",
   "execution_count": null,
   "metadata": {
    "datalore": {
     "hide_input_from_viewers": false,
     "hide_output_from_viewers": false,
     "type": "CODE"
    }
   },
   "outputs": [],
   "source": [
    "maestra_resultados_por_empleado[maestra_resultados_por_empleado['Variable'] == 'RentabilidadDivisionGrupoClientesCM3']"
   ]
  },
  {
   "cell_type": "code",
   "execution_count": null,
   "metadata": {
    "scrolled": true
   },
   "outputs": [],
   "source": [
    "maestra_resultados_por_empleado[maestra_resultados_por_empleado['Contexto'] == 'gd_3_5']"
   ]
  },
  {
   "cell_type": "markdown",
   "metadata": {},
   "source": [
    "## Se realizan las liquidaciones por Centros de Costos según el Tipo de Cálculo de las Variables"
   ]
  },
  {
   "cell_type": "code",
   "execution_count": null,
   "metadata": {},
   "outputs": [],
   "source": [
    "df_parrillas_tipos_calculos"
   ]
  },
  {
   "cell_type": "code",
   "execution_count": null,
   "metadata": {},
   "outputs": [],
   "source": [
    "maestra_resultados_por_empleado[\n",
    "    (maestra_resultados_por_empleado['AreaCalculo'] == 9) &\n",
    "    (maestra_resultados_por_empleado['Consecutivo'] == 3) &\n",
    "    (maestra_resultados_por_empleado['CodigoEmpleado'] == '1032450706')\n",
    "]"
   ]
  },
  {
   "cell_type": "code",
   "execution_count": null,
   "metadata": {},
   "outputs": [],
   "source": [
    "# maestra_resultados_por_empleado_test = maestra_resultados_por_empleado[\n",
    "#     (maestra_resultados_por_empleado['CodigoEmpleado'] == '5004523') &\n",
    "#     (maestra_resultados_por_empleado['Fecha'] == '2023-04-01')\n",
    "# ]\n",
    "\n",
    "maestra_resultados_por_empleado_test = maestra_resultados_por_empleado\n",
    "maestra_resultados_por_empleado_test.head()"
   ]
  },
  {
   "cell_type": "code",
   "execution_count": null,
   "metadata": {},
   "outputs": [],
   "source": [
    "maestra_resultados_por_empleado_test[\n",
    "    (maestra_resultados_por_empleado_test['Variable'] == 'VentaCobradaDivisionSub') &\n",
    "    (maestra_resultados_por_empleado_test['CodigoEmpleado'] == '1032450706') & \n",
    "    (maestra_resultados_por_empleado_test['Fecha'] == '2023-06-01')\n",
    "]"
   ]
  },
  {
   "cell_type": "code",
   "execution_count": null,
   "metadata": {},
   "outputs": [],
   "source": [
    "maestra_resultados_por_empleado_test[\n",
    "#     (maestra_resultados_por_empleado_test['Variable'] == 'VentaCobradaPortafolioClusterSub') &\n",
    "    (maestra_resultados_por_empleado_test['CodigoEmpleado'] == '5004293') & \n",
    "    (maestra_resultados_por_empleado_test['Fecha'] == '2023-06-01')\n",
    "#     (maestra_resultados_por_empleado_test['TipoEmpleado'] == 'VC') & \n",
    "#     (maestra_resultados_por_empleado_test['Consecutivo'] == 4)\n",
    "]"
   ]
  },
  {
   "cell_type": "code",
   "execution_count": null,
   "metadata": {},
   "outputs": [],
   "source": [
    "main = maestra_resultados_por_empleado_test.merge(\n",
    "    right=df_parrillas_tipos_calculos.rename(columns={'NombreRubro': 'Variable'}),\n",
    "    on=['TipoEmpleado', 'AreaCalculo', 'Variable'],\n",
    "    how='left'\n",
    ")\n",
    "main = main[['Contexto', 'Fecha', 'Variable', 'PorcentajeCumplimiento', 'CodigoEmpleado', 'Porcentaje', 'Consecutivo', 'TipoEmpleado', 'AreaCalculo', 'Liquidado','CodigoRubro', 'TipoCalculo']]\n",
    "main"
   ]
  },
  {
   "cell_type": "markdown",
   "metadata": {},
   "source": [
    "### Tipo de Cálculo Fijo"
   ]
  },
  {
   "cell_type": "code",
   "execution_count": null,
   "metadata": {},
   "outputs": [],
   "source": [
    "# Filtrar las filas donde 'Variable' es igual a 'VentaCobradaGrupoClientesKAMSSub'\n",
    "filtro = main['Variable'] == 'VentaCobradaGrupoClientesKAMSSub'\n",
    "\n",
    "# Usar loc o iloc para asignar el valor 'F' a la columna 'TipoCalculo' para las filas que cumplen la condición\n",
    "main.loc[filtro, 'TipoCalculo'] = 'F'\n",
    "main"
   ]
  },
  {
   "cell_type": "code",
   "execution_count": null,
   "metadata": {},
   "outputs": [],
   "source": [
    "main[\n",
    "    main['Variable'] == 'VentaCobradaGrupoClientesKAMSSub'\n",
    "]"
   ]
  },
  {
   "cell_type": "code",
   "execution_count": null,
   "metadata": {},
   "outputs": [],
   "source": [
    "calculo_fijo = main[main['TipoCalculo']== 'F']\n",
    "calculo_fijo"
   ]
  },
  {
   "cell_type": "code",
   "execution_count": null,
   "metadata": {},
   "outputs": [],
   "source": [
    "calculo_fijo[\n",
    "    (calculo_fijo['CodigoEmpleado'] == '5004293') &\n",
    "    (calculo_fijo['Fecha'] == '2023-06-01')\n",
    "]"
   ]
  },
  {
   "cell_type": "code",
   "execution_count": null,
   "metadata": {},
   "outputs": [],
   "source": [
    "calculo_fijo = calculo_fijo.groupby(['Fecha', 'CodigoEmpleado', 'TipoCalculo', 'Consecutivo'], as_index=False)[['Liquidado']].apply(sum)\n",
    "calculo_fijo"
   ]
  },
  {
   "cell_type": "code",
   "execution_count": null,
   "metadata": {},
   "outputs": [],
   "source": [
    "calculo_fijo[\n",
    "    (calculo_fijo['CodigoEmpleado'] == '5004293') &\n",
    "    (calculo_fijo['Fecha'] == '2023-06-01')\n",
    "]"
   ]
  },
  {
   "cell_type": "code",
   "execution_count": null,
   "metadata": {},
   "outputs": [],
   "source": [
    "calculo_fijo.to_excel('calculo_fijo.xlsx')"
   ]
  },
  {
   "cell_type": "code",
   "execution_count": null,
   "metadata": {},
   "outputs": [],
   "source": [
    "df_empleados_centros_costos"
   ]
  },
  {
   "cell_type": "code",
   "execution_count": null,
   "metadata": {},
   "outputs": [],
   "source": [
    "# calculo_fijo = main[main['TipoCalculo']== 'F']\n",
    "final_calculo_fijo = calculo_fijo.merge(\n",
    "    df_empleados_centros_costos,\n",
    "    on=['CodigoEmpleado'],\n",
    "    how='left'\n",
    ").rename(columns={\n",
    "    'Fecha': 'Fecha Proceso',\n",
    "    'Liquidado':'Valor Base Cálculo',\n",
    "     'PorcentajeAsignacion': 'Porcentaje Aplicado'\n",
    "})\n",
    "final_calculo_fijo"
   ]
  },
  {
   "cell_type": "code",
   "execution_count": null,
   "metadata": {},
   "outputs": [],
   "source": [
    "final_calculo_fijo[\n",
    "    (final_calculo_fijo['CodigoEmpleado'] == '1060654227')\n",
    "]"
   ]
  },
  {
   "cell_type": "code",
   "execution_count": null,
   "metadata": {},
   "outputs": [],
   "source": [
    "final_calculo_fijo[\n",
    "    (final_calculo_fijo['CodigoEmpleado'] == '5004293') &\n",
    "    (final_calculo_fijo['Fecha Proceso'] == '2023-06-01')\n",
    "]"
   ]
  },
  {
   "cell_type": "code",
   "execution_count": null,
   "metadata": {},
   "outputs": [],
   "source": [
    "final_calculo_fijo[\n",
    "    (final_calculo_fijo['CodigoEmpleado'] == '5004293') &\n",
    "    (final_calculo_fijo['Fecha Proceso'] == '2023-06-01')\n",
    "]['Valor Base Cálculo'].sum()"
   ]
  },
  {
   "cell_type": "code",
   "execution_count": null,
   "metadata": {},
   "outputs": [],
   "source": [
    "final_calculo_fijo[\n",
    "    (final_calculo_fijo['CodigoEmpleado'] == '80220240') &\n",
    "    (final_calculo_fijo['Fecha Proceso'] == '2023-06-01')\n",
    "]"
   ]
  },
  {
   "cell_type": "code",
   "execution_count": null,
   "metadata": {},
   "outputs": [],
   "source": [
    "final_calculo_fijo[\n",
    "    (final_calculo_fijo['CodigoEmpleado'] == '1111129') &\n",
    "    (final_calculo_fijo['Fecha Proceso'] == '2023-06-01')\n",
    "]"
   ]
  },
  {
   "cell_type": "code",
   "execution_count": null,
   "metadata": {},
   "outputs": [],
   "source": [
    "df_empleados_centros_costos[\n",
    "    (df_empleados_centros_costos['CodigoEmpleado'] == '1111125')\n",
    "]"
   ]
  },
  {
   "cell_type": "code",
   "execution_count": null,
   "metadata": {},
   "outputs": [],
   "source": [
    "# # final_calculo_fijo = final_calculo_fijo.groupby(['Fecha', 'CodigoEmpleado', 'TipoCalculo', 'CodigoCentroCosto', 'Consecutivo'], as_index=False)[['Liquidado']].apply(sum)\n",
    "# final_calculo_fijo = final_calculo_fijo\n",
    "# final_calculo_fijo"
   ]
  },
  {
   "cell_type": "code",
   "execution_count": null,
   "metadata": {},
   "outputs": [],
   "source": [
    "final_calculo_fijo['Valor Calculado'] = final_calculo_fijo['Valor Base Cálculo'] * final_calculo_fijo['Porcentaje Aplicado']\n",
    "final_calculo_fijo"
   ]
  },
  {
   "cell_type": "code",
   "execution_count": null,
   "metadata": {},
   "outputs": [],
   "source": [
    "final_calculo_fijo[\n",
    "#     (final_calculo_variable['Variable'] == 'VentaCobradaPortafolioClusterSub') &\n",
    "    (final_calculo_fijo['CodigoEmpleado'] == '5002700') & \n",
    "#     (final_calculo_variable['Consecutivo'] == 4) &\n",
    "    (final_calculo_fijo['Fecha Proceso'] == '2023-05-01') \n",
    "]"
   ]
  },
  {
   "cell_type": "code",
   "execution_count": null,
   "metadata": {},
   "outputs": [],
   "source": [
    "final_calculo_fijo[\n",
    "#     (final_calculo_variable['Variable'] == 'VentaCobradaPortafolioClusterSub') &\n",
    "    (final_calculo_fijo['CodigoEmpleado'] == '5002700') & \n",
    "#     (final_calculo_variable['Consecutivo'] == 4) &\n",
    "    (final_calculo_fijo['Fecha Proceso'] == '2023-05-01') \n",
    "]['Porcentaje Aplicado'].sum()"
   ]
  },
  {
   "cell_type": "code",
   "execution_count": null,
   "metadata": {},
   "outputs": [],
   "source": [
    "final_calculo_fijo.to_excel('final_calculo_fijo.xlsx')"
   ]
  },
  {
   "cell_type": "markdown",
   "metadata": {},
   "source": [
    "### Tipo de Cálculo Variable"
   ]
  },
  {
   "cell_type": "code",
   "execution_count": null,
   "metadata": {},
   "outputs": [],
   "source": [
    "main.head()"
   ]
  },
  {
   "cell_type": "code",
   "execution_count": null,
   "metadata": {},
   "outputs": [],
   "source": [
    "calculo_variable = main[main['TipoCalculo']== 'V']\n",
    "calculo_variable.head()"
   ]
  },
  {
   "cell_type": "code",
   "execution_count": null,
   "metadata": {},
   "outputs": [],
   "source": [
    "# calculo_variable = calculo_variable.groupby(['Fecha', 'CodigoEmpleado', 'TipoCalculo', 'TipoEmpleado','AreaCalculo','CodigoRubro'], as_index=False)[['Liquidado']].apply(sum)\n",
    "# calculo_variable"
   ]
  },
  {
   "cell_type": "code",
   "execution_count": null,
   "metadata": {},
   "outputs": [],
   "source": [
    "maestra_resultados_por_empleado_centro_costo[\n",
    "#     (maestra_resultados_por_empleado_centro_costo['Variable'] == 'VentaCobradaPortafolioClusterSub') &\n",
    "    (maestra_resultados_por_empleado_centro_costo['CodigoEmpleado'] == '1032450706') & \n",
    "    (maestra_resultados_por_empleado_centro_costo['Fecha'] == '2023-06-01') \n",
    "    & (maestra_resultados_por_empleado_centro_costo['Consecutivo'] == 3) &\n",
    "    (maestra_resultados_por_empleado_centro_costo['AreaCalculo'] == 9)\n",
    "]"
   ]
  },
  {
   "cell_type": "code",
   "execution_count": null,
   "metadata": {},
   "outputs": [],
   "source": [
    "calculo_variable[\n",
    "#     (calculo_variable['CodigoEmpleado'] == '1032450706') &\n",
    "    (calculo_variable['Contexto'] == 'mk_9_3') &\n",
    "    (calculo_variable['Consecutivo'] == 3) &\n",
    "    (calculo_variable['AreaCalculo'] == 9) &\n",
    "    (calculo_variable['Fecha'] == '2023-06-01')\n",
    "]"
   ]
  },
  {
   "cell_type": "code",
   "execution_count": null,
   "metadata": {},
   "outputs": [],
   "source": [
    "final_calculo_variable = calculo_variable.merge(\n",
    "    right=maestra_resultados_por_empleado_centro_costo.rename(columns={'NombreRubro': 'Variable'}),\n",
    "    on=['Fecha', 'Contexto', 'CodigoEmpleado', 'Variable', 'Porcentaje', 'Consecutivo','TipoEmpleado', 'AreaCalculo'],\n",
    "    how='left'\n",
    ")[['Fecha', 'Contexto', 'CodigoEmpleado', 'TipoEmpleado','TipoCalculo', 'GrupoProducto', 'Division', 'Consecutivo', 'CodigoCentroCosto', 'Real','Variable', 'Liquidado']]\n",
    "final_calculo_variable.head()"
   ]
  },
  {
   "cell_type": "code",
   "execution_count": null,
   "metadata": {},
   "outputs": [],
   "source": [
    "final_calculo_variable[\n",
    "    (final_calculo_variable['Variable'] == 'VentaCobradaPortafolioClusterSub') &\n",
    "    (final_calculo_variable['CodigoEmpleado'] == '5002723') & \n",
    "    (final_calculo_variable['Fecha'] == '2023-06-01') &\n",
    "    (final_calculo_variable['TipoEmpleado'] == 'VC') \n",
    "    & (final_calculo_variable['Consecutivo'] == 1)\n",
    "]"
   ]
  },
  {
   "cell_type": "code",
   "execution_count": null,
   "metadata": {},
   "outputs": [],
   "source": [
    "2.856901e+08 + 3.863236e+07 + 4.323667e+08"
   ]
  },
  {
   "cell_type": "code",
   "execution_count": null,
   "metadata": {},
   "outputs": [],
   "source": [
    "# final_calculo_variable['Real'] = final_calculo_variable.groupby(\n",
    "#     ['Fecha', 'CodigoEmpleado', 'TipoCalculo', 'CodigoCentroCosto'], as_index=False\n",
    "# )['Real'].transform(pd.Series.sum)\n",
    "\n",
    "final_calculo_variable = final_calculo_variable.groupby(['Fecha', 'CodigoEmpleado', 'TipoCalculo', 'CodigoCentroCosto', 'Consecutivo', 'Liquidado'], as_index=False)[['Real']].apply(sum)\n",
    "\n",
    "final_calculo_variable.head()"
   ]
  },
  {
   "cell_type": "code",
   "execution_count": null,
   "metadata": {},
   "outputs": [],
   "source": [
    "# final_calculo_variable[\n",
    "# #     (final_calculo_variable['Variable'] == 'VentaCobradaPortafolioClusterSub') &\n",
    "#     (final_calculo_variable['CodigoEmpleado'] == '5002723') & \n",
    "# #     (final_calculo_variable['Consecutivo'] == 4) &\n",
    "#     (final_calculo_variable['Fecha'] == '2023-06-01') \n",
    "# ]"
   ]
  },
  {
   "cell_type": "code",
   "execution_count": null,
   "metadata": {},
   "outputs": [],
   "source": [
    "13.52648 + 7.751609"
   ]
  },
  {
   "cell_type": "code",
   "execution_count": null,
   "metadata": {},
   "outputs": [],
   "source": [
    "# final_calculo_variable['RealTotal'] = final_calculo_variable.groupby(\n",
    "#     ['Fecha', 'CodigoEmpleado', 'TipoCalculo', 'Consecutivo'], as_index=False\n",
    "# )['Real'].transform(pd.Series.sum)\n",
    "# final_calculo_variable"
   ]
  },
  {
   "cell_type": "code",
   "execution_count": null,
   "metadata": {},
   "outputs": [],
   "source": [
    "# final_calculo_variable[\n",
    "# #     (final_calculo_variable['Variable'] == 'VentaCobradaPortafolioClusterSub') &\n",
    "#     (final_calculo_variable['CodigoEmpleado'] == '5002723') & \n",
    "# #     (final_calculo_variable['Consecutivo'] == 4) &\n",
    "#     (final_calculo_variable['Fecha'] == '2023-06-01')\n",
    "# ]"
   ]
  },
  {
   "cell_type": "code",
   "execution_count": 5,
   "metadata": {},
   "outputs": [],
   "source": [
    "# # final_calculo_variable = final_calculo_variable.groupby(['Fecha', 'CodigoEmpleado', 'TipoCalculo'], as_index=False)[['Liquidado']].apply(sum)\n",
    "\n",
    "# final_calculo_variable['Porcentaje Aplicado'] = final_calculo_variable['Real']/final_calculo_variable['RealTotal']\n",
    "# final_calculo_variable = final_calculo_variable.rename(columns={\n",
    "#     'Fecha': 'Fecha Proceso',\n",
    "#     'Liquidado':'Valor Base Cálculo'\n",
    "# })\n",
    "# final_calculo_variable['Valor Calculado'] = final_calculo_variable['Valor Base Cálculo'] * final_calculo_variable['Porcentaje Aplicado']\n",
    "# final_calculo_variable\n"
   ]
  },
  {
   "cell_type": "code",
   "execution_count": 6,
   "metadata": {},
   "outputs": [],
   "source": [
    "# final_calculo_variable[\n",
    "# #     (final_calculo_variable['Variable'] == 'VentaCobradaPortafolioClusterSub') &\n",
    "#     (final_calculo_variable['CodigoEmpleado'] == '5002723') & \n",
    "    \n",
    "# #     (final_calculo_variable['Consecutivo'] == 4)&\n",
    "#     (final_calculo_variable['Fecha Proceso'] == '2023-05-01') \n",
    "# ]"
   ]
  },
  {
   "cell_type": "code",
   "execution_count": 7,
   "metadata": {},
   "outputs": [],
   "source": [
    "# final_calculo_variable = final_calculo_variable[\n",
    "#     ['Fecha Proceso', 'CodigoEmpleado', 'TipoCalculo', 'Consecutivo', 'CodigoCentroCosto', 'Valor Base Cálculo', 'Porcentaje Aplicado', 'Valor Calculado']\n",
    "# ]\n",
    "# final_calculo_variable"
   ]
  },
  {
   "cell_type": "code",
   "execution_count": 8,
   "metadata": {},
   "outputs": [],
   "source": [
    "# final_calculo_variable[\n",
    "# #     (final_calculo_variable['Variable'] == 'VentaCobradaPortafolioClusterSub') &\n",
    "#     (final_calculo_variable['CodigoEmpleado'] == '5002723') & \n",
    "    \n",
    "# #     (final_calculo_variable['Consecutivo'] == 4) &\n",
    "#     (final_calculo_variable['Fecha Proceso'] == '2023-06-01')\n",
    "# ]"
   ]
  },
  {
   "cell_type": "code",
   "execution_count": 9,
   "metadata": {},
   "outputs": [],
   "source": [
    "# final_calculo_variable[\n",
    "# #     (final_calculo_variable['Variable'] == 'VentaCobradaPortafolioClusterSub') &\n",
    "#     (final_calculo_variable['CodigoEmpleado'] == '5002723') & \n",
    "    \n",
    "#     (final_calculo_variable['Consecutivo'] == 4) &\n",
    "#     (final_calculo_variable['Fecha Proceso'] == '2023-05-01')\n",
    "# ]['Porcentaje Aplicado'].sum()"
   ]
  },
  {
   "cell_type": "code",
   "execution_count": 10,
   "metadata": {},
   "outputs": [],
   "source": [
    "# final_calculo_variable[\n",
    "# #     (final_calculo_variable['Variable'] == 'VentaCobradaPortafolioClusterSub') &\n",
    "#     (final_calculo_variable['CodigoEmpleado'] == '1013583607') & \n",
    "    \n",
    "# #     (final_calculo_variable['Consecutivo'] == 4) &\n",
    "#     (final_calculo_variable['Fecha Proceso'] == '2023-05-01')\n",
    "# ]"
   ]
  },
  {
   "cell_type": "code",
   "execution_count": 11,
   "metadata": {},
   "outputs": [],
   "source": [
    "# final_calculo_variable.to_excel('final_calculo_variable.xlsx')"
   ]
  },
  {
   "cell_type": "code",
   "execution_count": 12,
   "metadata": {},
   "outputs": [],
   "source": [
    "# final_calculo_variable[\n",
    "#     (final_calculo_variable['CodigoCentroCosto'] == '323007270')\n",
    "# ]"
   ]
  },
  {
   "cell_type": "markdown",
   "metadata": {},
   "source": [
    "### Se unifican Tipo Cálculo Fijo y Variable"
   ]
  },
  {
   "cell_type": "code",
   "execution_count": 13,
   "metadata": {},
   "outputs": [
    {
     "ename": "NameError",
     "evalue": "name 'final_calculo_fijo' is not defined",
     "output_type": "error",
     "traceback": [
      "\u001b[1;31m---------------------------------------------------------------------------\u001b[0m",
      "\u001b[1;31mNameError\u001b[0m                                 Traceback (most recent call last)",
      "\u001b[1;32m~\\AppData\\Local\\Temp\\ipykernel_64816\\2032025650.py\u001b[0m in \u001b[0;36m<module>\u001b[1;34m\u001b[0m\n\u001b[1;32m----> 1\u001b[1;33m \u001b[0mfinal_calculo_fijo\u001b[0m\u001b[1;33m.\u001b[0m\u001b[0mhead\u001b[0m\u001b[1;33m(\u001b[0m\u001b[1;33m)\u001b[0m\u001b[1;33m\u001b[0m\u001b[1;33m\u001b[0m\u001b[0m\n\u001b[0m",
      "\u001b[1;31mNameError\u001b[0m: name 'final_calculo_fijo' is not defined"
     ]
    }
   ],
   "source": [
    "final_calculo_fijo.head()"
   ]
  },
  {
   "cell_type": "code",
   "execution_count": null,
   "metadata": {},
   "outputs": [],
   "source": [
    "final_calculo_variable.head()"
   ]
  },
  {
   "cell_type": "code",
   "execution_count": null,
   "metadata": {},
   "outputs": [],
   "source": [
    "resultado_liquidaciones_centro_costo = pd.concat(\n",
    "    [ final_calculo_fijo,\n",
    "     final_calculo_variable\n",
    "    ]\n",
    ")\n",
    "resultado_liquidaciones_centro_costo"
   ]
  },
  {
   "cell_type": "code",
   "execution_count": null,
   "metadata": {},
   "outputs": [],
   "source": [
    "resultado_liquidaciones_centro_costo[\n",
    "    (resultado_liquidaciones_centro_costo['CodigoEmpleado'] == '5002723') &\n",
    "    (resultado_liquidaciones_centro_costo['Consecutivo'] == 3)\n",
    "]"
   ]
  },
  {
   "cell_type": "code",
   "execution_count": null,
   "metadata": {},
   "outputs": [],
   "source": [
    "resultado_liquidaciones_centro_costo.to_excel(\"resultado_liquidaciones_centro_costo.xlsx\")"
   ]
  },
  {
   "cell_type": "code",
   "execution_count": null,
   "metadata": {},
   "outputs": [],
   "source": [
    "# df_area_calculo_sba_centros_costos[df_area_calculo_sba_centros_costos['TipoEmpleado'] == 'VC']"
   ]
  },
  {
   "cell_type": "code",
   "execution_count": null,
   "metadata": {},
   "outputs": [],
   "source": [
    "# df_area_calculo_sba_centros_costos[\n",
    "#     (df_area_calculo_sba_centros_costos['AreaCalculo'] == 3.0) &\n",
    "#     (df_area_calculo_sba_centros_costos['TipoEmpleado'] == 'VC')\n",
    "# ]"
   ]
  },
  {
   "cell_type": "code",
   "execution_count": null,
   "metadata": {},
   "outputs": [],
   "source": [
    "# calculo_variable['CodigoRubro'] = calculo_variable['CodigoRubro'].astype(int)\n",
    "# calculo_variable.merge(\n",
    "#     df_area_calculo_sba_centros_costos.rename(columns={'ConsecutivoParrilla':'CodigoRubro'}),\n",
    "#     on=['TipoEmpleado', 'AreaCalculo', 'CodigoRubro'],\n",
    "#     how='left'    \n",
    "# )"
   ]
  },
  {
   "cell_type": "code",
   "execution_count": null,
   "metadata": {},
   "outputs": [],
   "source": [
    "# main = main.groupby(['Contexto', 'Fecha'], as_index=False)[['Real', 'Presupuesto']].apply(sum)\n",
    "# main['Real'] = main.groupby(['Contexto'])['Real'].transform(pd.Series.cumsum)\n",
    "# main['Presupuesto'] = main.groupby(['Contexto'])['Presupuesto'].transform(pd.Series.cumsum)\n",
    "# main['PorcentajeCumplimiento'] = (main['Real']/main['Presupuesto']).apply(lambda x: round(x, 2))\n",
    "# main['Variable'] = 'VentaFacturadaZonaPais'"
   ]
  },
  {
   "cell_type": "code",
   "execution_count": null,
   "metadata": {},
   "outputs": [],
   "source": [
    "# main = df_parrillas.merge(\n",
    "#     right=df_parrillas_tipos_calculos.rename(columns={'NombreRubro': 'Variable'}),\n",
    "#     on=['TipoEmpleado', 'AreaCalculo', 'Variable'],\n",
    "#     how='left'\n",
    "# )"
   ]
  },
  {
   "cell_type": "markdown",
   "metadata": {},
   "source": [
    "## Archivo de Texto Centro de Costo"
   ]
  },
  {
   "cell_type": "code",
   "execution_count": null,
   "metadata": {},
   "outputs": [],
   "source": [
    "resultado_liquidaciones_centro_costo"
   ]
  },
  {
   "cell_type": "code",
   "execution_count": null,
   "metadata": {},
   "outputs": [],
   "source": [
    "df_empleados[['TipoEmpleado', 'CodigoEmpleado']].rename(columns={'TipoEmpleado': 'CodigoTipoEmpleado'}).merge(\n",
    "    df_tipos_empleados,\n",
    "    on=['CodigoTipoEmpleado'],\n",
    "    how='left'    \n",
    ").drop(columns=['TextoPDF'])"
   ]
  },
  {
   "cell_type": "code",
   "execution_count": null,
   "metadata": {},
   "outputs": [],
   "source": [
    "consolidado_centro_costo = resultado_liquidaciones_centro_costo.merge(\n",
    "df_empleados[['TipoEmpleado', 'CodigoEmpleado']].rename(columns={'TipoEmpleado': 'CodigoTipoEmpleado'}).merge(\n",
    "    df_tipos_empleados,\n",
    "    on=['CodigoTipoEmpleado'],\n",
    "    how='left'    \n",
    ").drop(columns=['TextoPDF']),\n",
    "    on=['CodigoEmpleado'],\n",
    "    how='left'    \n",
    ")\n",
    "consolidado_centro_costo"
   ]
  },
  {
   "cell_type": "code",
   "execution_count": null,
   "metadata": {},
   "outputs": [],
   "source": [
    "consolidado_centro_costo[['CodigoCentroCosto', 'Valor Calculado']][\n",
    "    (consolidado_centro_costo['CodigoCentroCosto'] == '323007290')\n",
    "]"
   ]
  },
  {
   "cell_type": "code",
   "execution_count": null,
   "metadata": {},
   "outputs": [],
   "source": [
    "consolidado_centro_costo.columns"
   ]
  },
  {
   "cell_type": "code",
   "execution_count": null,
   "metadata": {},
   "outputs": [],
   "source": []
  },
  {
   "cell_type": "code",
   "execution_count": null,
   "metadata": {},
   "outputs": [],
   "source": [
    "# Eliminar filas con valores NaN en la columna 'CodigoCentroCosto'\n",
    "consolidado_centro_costo_limpios = consolidado_centro_costo.dropna(subset=['CodigoCentroCosto', 'CodigoTipoEmpleado'])\n",
    "# Asignar 0 a los valores NaN en la columna 'Valor Calculado'\n",
    "consolidado_centro_costo_limpios['Valor Calculado'] = consolidado_centro_costo_limpios['Valor Calculado'].fillna(0)\n",
    "consolidado_centro_costo_limpios"
   ]
  },
  {
   "cell_type": "code",
   "execution_count": null,
   "metadata": {},
   "outputs": [],
   "source": [
    "consolidado_centro_costo[\n",
    "    (consolidado_centro_costo['CategoriaTipoEmpleado'] != 'Comercial') & \n",
    "    (consolidado_centro_costo['CategoriaTipoEmpleado'] != 'Administrativo') \n",
    "]"
   ]
  },
  {
   "cell_type": "code",
   "execution_count": null,
   "metadata": {},
   "outputs": [],
   "source": [
    "consolidado_centro_costo_limpios[\n",
    "    (consolidado_centro_costo_limpios['CategoriaTipoEmpleado'] != 'Comercial') & \n",
    "    (consolidado_centro_costo_limpios['CategoriaTipoEmpleado'] != 'Administrativo') \n",
    "]"
   ]
  },
  {
   "cell_type": "code",
   "execution_count": null,
   "metadata": {},
   "outputs": [],
   "source": [
    "consolidado_centro_costo_limpios[\n",
    "    (consolidado_centro_costo_limpios['CodigoCentroCosto'] == '323007270') &\n",
    "    (consolidado_centro_costo_limpios['CategoriaTipoEmpleado'].isna())\n",
    "][['CodigoCentroCosto', 'CodigoTipoEmpleado', 'CategoriaTipoEmpleado']]"
   ]
  },
  {
   "cell_type": "code",
   "execution_count": null,
   "metadata": {},
   "outputs": [],
   "source": [
    "consolidado_centro_costo_limpios['CategoriaTipoEmpleado'].map({'Administrativo': '63200020', 'Comercial': '62200020'}).fillna('')"
   ]
  },
  {
   "cell_type": "code",
   "execution_count": null,
   "metadata": {},
   "outputs": [],
   "source": [
    "# Supongamos que tienes el DataFrame consolidado_centro_costo con las columnas mencionadas\n",
    "# y lo has asignado a la variable df_acumulado.\n",
    "\n",
    "# 1. Obtener el valor total por centro de costo\n",
    "# df_acumulado = consolidado_centro_costo_limpios.groupby('CodigoCentroCosto')['Valor Calculado'].sum().reset_index()\n",
    "\n",
    "df_acumulado = consolidado_centro_costo_limpios[['CategoriaTipoEmpleado', 'Valor Calculado', 'CodigoCentroCosto']]\n",
    "df_acumulado"
   ]
  },
  {
   "cell_type": "code",
   "execution_count": null,
   "metadata": {},
   "outputs": [],
   "source": [
    "# df_acumulado['CodigoCentroCosto'] = df_acumulado['CodigoCentroCosto'].apply(lambda x: int(x))\n",
    "\n",
    "# Empresa: Valor fijo 0323\n",
    "df_acumulado['Valor fijo'] = '0323'\n",
    "df_acumulado = df_acumulado[['CategoriaTipoEmpleado', 'Valor Calculado', 'Valor fijo', 'CodigoCentroCosto']]\n",
    "df_acumulado"
   ]
  },
  {
   "cell_type": "code",
   "execution_count": null,
   "metadata": {},
   "outputs": [],
   "source": [
    "# Supongamos que tienes el DataFrame consolidado_centro_costo con las columnas mencionadas\n",
    "# y lo has asignado a la variable df_acumulado.\n",
    "\n",
    "# 1. Obtener el valor total por centro de costo\n",
    "# df_acumulado = consolidado_centro_costo_limpios.groupby('CodigoCentroCosto')['Valor Calculado'].sum().reset_index()\n",
    "\n",
    "df_acumulado_centro_costo = consolidado_centro_costo_limpios[['CategoriaTipoEmpleado', 'Valor Calculado', 'CodigoCentroCosto']]\n",
    "\n",
    "# Empresa: Valor fijo 0323\n",
    "df_acumulado_centro_costo['Valor fijo'] = '0323'\n",
    "df_acumulado_centro_costo = df_acumulado_centro_costo[['CategoriaTipoEmpleado', 'Valor Calculado', 'Valor fijo', 'CodigoCentroCosto']]\n",
    "\n",
    "# # CodigoCentroCosto: Primer valor en 0 el resto Código Centro de Costo. Diez posiciones.\n",
    "df_acumulado_centro_costo.loc[0, 'CodigoCentroCosto'] = str('0').zfill(10) # Primer valor en la fila es 0\n",
    "df_acumulado_centro_costo.loc[1:, 'CodigoCentroCosto'] = df_acumulado_centro_costo['CodigoCentroCosto'].apply(lambda x: str(int(x)).zfill(10))\n",
    "\n",
    "# Cod.00: Valor fijo 00\n",
    "df_acumulado_centro_costo['Cod.00'] = '00'\n",
    "\n",
    "# Cuenta: 63200020 (Para CategoriaTipoEmpleado: Administrativos) o 62200020 (Para CategoriaTipoEmpleado: Comerciales).\n",
    "# El primer valor en la fila uno siempre es 48510020, las demás dependiendo la cuenta del empleado.\n",
    "df_acumulado_centro_costo.loc[0, 'Cuenta'] = '48510020'  # Primer valor en la fila uno siempre es 48510020\n",
    "df_acumulado_centro_costo.loc[1:, 'Cuenta'] = df_acumulado['CategoriaTipoEmpleado'].map({'Administrativo': '63200020', 'Comercial': '62200020'}).fillna('')\n",
    "# df_acumulado.loc[0:, 'Columna4'] = consolidado_centro_costo_limpios['CategoriaTipoEmpleado']\n",
    "\n",
    "# Clave movimiento: Primera fila toma el valor 50 (Movimiento Crédito), luego todos son 40 (Movimiento Débido).\n",
    "df_acumulado_centro_costo.loc[0, 'Clave Movimiento'] = '50'  # Primera fila toma el valor 50 (Movimiento Crédito)\n",
    "df_acumulado_centro_costo.loc[1:, 'Clave Movimiento'] = '40'  # Luego todos son 40 (Movimiento Débido)\n",
    "\n",
    "# Valor: Acumulado por centro de costo. (15 posiciones, se completa el valor con 0).\n",
    "# Traído de la columna Valor Calculado por Centro de Costo. El primer valor siempre es la suma total de los demás valores.\n",
    "df_acumulado_centro_costo.loc[0, 'Acumulado Centro Costo'] = str(df_acumulado['Valor Calculado'].apply(lambda x: int(x)).sum()).zfill(15) # Primer valor en la fila siempre es la suma del total de la fila.\n",
    "df_acumulado_centro_costo.loc[1:, 'Acumulado Centro Costo'] = df_acumulado['Valor Calculado'].astype(int).astype(str).str.zfill(15)\n",
    "\n",
    "df_acumulado_centro_costo"
   ]
  },
  {
   "cell_type": "code",
   "execution_count": null,
   "metadata": {},
   "outputs": [],
   "source": [
    "df_acumulado_centro_costo.columns"
   ]
  },
  {
   "cell_type": "code",
   "execution_count": null,
   "metadata": {},
   "outputs": [],
   "source": [
    "df_acumulado_centro_costo.to_excel('acumulado_centro_costo.xlsx')"
   ]
  },
  {
   "cell_type": "code",
   "execution_count": null,
   "metadata": {},
   "outputs": [],
   "source": [
    "# Crear el DataFrame df_final a partir de las columnas de df_acumulado\n",
    "df_acumulado_centro_costo_final = pd.DataFrame()\n",
    "df_acumulado_centro_costo_final['Columna1'] = df_acumulado_centro_costo['Valor fijo'] + df_acumulado_centro_costo['CodigoCentroCosto'] + df_acumulado_centro_costo['Cod.00'] + df_acumulado_centro_costo['Cuenta']+ df_acumulado_centro_costo['Clave Movimiento']\n",
    "df_acumulado_centro_costo_final['Columna2'] = df_acumulado_centro_costo['Acumulado Centro Costo']\n",
    "\n",
    "# Visualizar el DataFrame final\n",
    "df_acumulado_centro_costo_final"
   ]
  },
  {
   "cell_type": "code",
   "execution_count": null,
   "metadata": {},
   "outputs": [],
   "source": [
    "# Suponiendo que ya tienes el DataFrame df_acumulado con las columnas 'Columna1' y 'Columna2'\n",
    "\n",
    "# Especifica el nombre del archivo de texto donde deseas guardar los datos\n",
    "nombre_archivo = 'acumulado_centro_costo.txt'\n",
    "\n",
    "# Guarda el DataFrame como un archivo de texto separado por tabulaciones\n",
    "df_acumulado_centro_costo_final.to_csv(nombre_archivo, sep=' ',  header=False, index=False)\n",
    "\n",
    "print(\"El archivo de texto se ha guardado exitosamente.\")"
   ]
  },
  {
   "cell_type": "code",
   "execution_count": null,
   "metadata": {},
   "outputs": [],
   "source": [
    "df_acumulado['Valor Calculado'].sum()"
   ]
  },
  {
   "cell_type": "code",
   "execution_count": null,
   "metadata": {},
   "outputs": [],
   "source": [
    " consolidado_centro_costo['CategoriaTipoEmpleado'].map({'Administrativo': '63200020', 'Comercial': '62200020'}).fillna('')"
   ]
  },
  {
   "cell_type": "markdown",
   "metadata": {},
   "source": [
    "## Prueba"
   ]
  },
  {
   "cell_type": "code",
   "execution_count": null,
   "metadata": {},
   "outputs": [],
   "source": [
    "maestra_resultados_por_empleado.head()"
   ]
  },
  {
   "cell_type": "code",
   "execution_count": null,
   "metadata": {},
   "outputs": [],
   "source": [
    "resultado_liquidaciones.head()"
   ]
  },
  {
   "cell_type": "code",
   "execution_count": null,
   "metadata": {},
   "outputs": [],
   "source": [
    "def get_dataframes(\n",
    "        df_resultado_detallado,\n",
    "        df_resultado_liquidaciones\n",
    "):\n",
    "    resultado_liquidaciones = df_resultado_liquidaciones.set_index(['CodigoEmpleado', 'Fecha'])\n",
    "    resultado_liquidaciones.fillna(value={\n",
    "        'PagoReal': 0,\n",
    "        'Liquidacion': 0\n",
    "    }, inplace=True)\n",
    "\n",
    "    resultado_detallado = df_resultado_detallado.fillna(value={\n",
    "        'FactorIncentivo': 0,\n",
    "        'PorcentajeCumplimiento': 0,\n",
    "        'Presupuesto': 0,\n",
    "        'Real': 0,\n",
    "        'Liquidado': 0,\n",
    "        'ResultadoPresupuesto': 0,\n",
    "        'ResultadoRealMes': 0,\n",
    "        'PorcentajeCumplimientoMes': 0\n",
    "    })\n",
    "\n",
    "    return resultado_detallado, resultado_liquidaciones"
   ]
  },
  {
   "cell_type": "code",
   "execution_count": null,
   "metadata": {},
   "outputs": [],
   "source": [
    "df_detalles_para_pdf, df_liquidaciones_para_pdf = get_dataframes(\n",
    "    df_resultado_detallado=maestra_resultados_por_empleado,\n",
    "    df_resultado_liquidaciones=resultado_liquidaciones\n",
    ")"
   ]
  },
  {
   "cell_type": "code",
   "execution_count": null,
   "metadata": {},
   "outputs": [],
   "source": [
    "df_detalles_para_pdf.head()"
   ]
  },
  {
   "cell_type": "code",
   "execution_count": null,
   "metadata": {},
   "outputs": [],
   "source": [
    "df_liquidaciones_para_pdf.head()"
   ]
  },
  {
   "cell_type": "code",
   "execution_count": null,
   "metadata": {},
   "outputs": [],
   "source": [
    "base_archivo = 'C:\\\\Users\\\\Crisp\\\\Documents\\\\QualitySoftGroup\\\\Proyectos\\\\BBraun\\\\GITHUB\\\\Liquidations-IncentiveS'"
   ]
  },
  {
   "cell_type": "code",
   "execution_count": null,
   "metadata": {},
   "outputs": [],
   "source": [
    "df_empleados_liquidacion = pd.read_excel(os.path.join(base_archivo, 'empleados.xlsx'))\n",
    "\n",
    "df_empleados_liquidacion.head()"
   ]
  },
  {
   "cell_type": "code",
   "execution_count": null,
   "metadata": {},
   "outputs": [],
   "source": [
    "df_empleados_liquidacion[df_empleados_liquidacion['codigo'] == 5004523]"
   ]
  },
  {
   "cell_type": "code",
   "execution_count": null,
   "metadata": {},
   "outputs": [],
   "source": [
    "df_qs_salarios_variables_liquidacion = pd.read_excel(os.path.join(base_archivo, 'qs_salarios_variables.xlsx'))\n",
    "df_qs_salarios_variables_liquidacion.head()"
   ]
  },
  {
   "cell_type": "code",
   "execution_count": null,
   "metadata": {},
   "outputs": [],
   "source": [
    "def post_save_ejecucion_liquidacion(\n",
    "    maestra_resultados_por_empleado,\n",
    "    resultado_liquidaciones,\n",
    "    df_empleados_liquidacion,\n",
    "    df_qs_salarios_variables_liquidacion\n",
    "):\n",
    "    df_detalles_para_pdf, df_liquidaciones_para_pdf = get_dataframes(\n",
    "        df_resultado_detallado=maestra_resultados_por_empleado,\n",
    "        df_resultado_liquidaciones=resultado_liquidaciones\n",
    "    )\n",
    "    empleados = df_empleados_liquidacion\n",
    "#     print(\"empleados\", empleados)\n",
    "    qs_salarios_variables = df_qs_salarios_variables_liquidacion\n",
    "    for index, row in empleados.iterrows():\n",
    "#         print(row)\n",
    "        pdf_context = get_pdf_context(\n",
    "            empleado=row,\n",
    "            df=df_detalles_para_pdf,\n",
    "            df_liquidaciones=df_liquidaciones_para_pdf,\n",
    "            qs_salarios_variables=qs_salarios_variables\n",
    "        )\n",
    "#         if pdf_context:\n",
    "#             pdf = ArchivoPDF(empleado=empleado, ejecucion=instance)\n",
    "#             pdf.archivo.save(\n",
    "#                 f'{empleado.tipo_empleado.codigo}_{empleado.area_calculo.consecutivo}_{empleado.codigo}.pdf',\n",
    "#                 File(generate_pdf(context={'data': pdf_context})),\n",
    "#                 save=True\n",
    "#             )"
   ]
  },
  {
   "cell_type": "code",
   "execution_count": null,
   "metadata": {},
   "outputs": [],
   "source": [
    "MAPPER_TEXTO_MESES = {\n",
    "    1: 'Enero',\n",
    "    2: 'Febrero',\n",
    "    3: 'Marzo',\n",
    "    4: 'Abril',\n",
    "    5: 'Mayo',\n",
    "    6: 'Junio',\n",
    "    7: 'Julio',\n",
    "    8: 'Agosto',\n",
    "    9: 'Septiembre',\n",
    "    10: 'Octubre',\n",
    "    11: 'Noviembre',\n",
    "    12: 'Diciembre'\n",
    "}"
   ]
  },
  {
   "cell_type": "code",
   "execution_count": null,
   "metadata": {},
   "outputs": [],
   "source": [
    "def get_ultimo_salario_promediado(self, year: int, month: int, qs_salarios_variables):\n",
    "    salarios_variables = get_promedios_salarios_variables(year, month, qs_salarios_variables)\n",
    "    if len(salarios_variables) > 0:\n",
    "        return salarios_variables[-1].get('PromedioSalarioVariable', self.salario_variable)\n",
    "    else:\n",
    "        return salario_variable\n",
    "    \n",
    "def get_promedios_salarios_variables(empleado, year: int, month: int, qs_salarios_variables=None) -> list:\n",
    "#     if qs_salarios_variables is None:\n",
    "#         qs_salarios_variables = salariovariableempleado_set.all()\n",
    "\n",
    "    response = []\n",
    "\n",
    "    meses_ano_actual = []\n",
    "    for i in range(1, month + 1):\n",
    "        i_str = f'0{i}' if i < 10 else f'{i}'\n",
    "        fecha_str = f'{year}-{i_str}-01'\n",
    "        fecha_datetime = datetime.strptime(fecha_str, '%Y-%m-%d').date()\n",
    "        if fecha_datetime >= self.fecha_ingreso_incentivos:\n",
    "            meses_ano_actual.append(fecha_str)\n",
    "\n",
    "    if len(meses_ano_actual) > 0:\n",
    "        salarios_variables = qs_salarios_variables.filter(fk_empleado_id=self.id)\n",
    "\n",
    "        primer_registro_anio_actual: SalarioVariableEmpleado = salarios_variables.filter(\n",
    "            mes_inicio__lte=meses_ano_actual[0]\n",
    "        ).order_by('-mes_inicio').first()\n",
    "        if primer_registro_anio_actual:\n",
    "            salario_variable_inicial = primer_registro_anio_actual.salario_variable\n",
    "        else:\n",
    "            salario_variable_inicial = empleado.salario_variable\n",
    "\n",
    "        ultimo_salario = salario_variable_inicial\n",
    "        num_mes_actual = 1\n",
    "        suma_salarios = 0\n",
    "        for mes in meses_ano_actual:\n",
    "            salario_mes_actual: SalarioVariableEmpleado = salarios_variables.filter(mes_inicio=mes).first()\n",
    "            if salario_mes_actual:\n",
    "                ultimo_salario = salario_mes_actual.salario_variable\n",
    "\n",
    "            response.append({\n",
    "                'CodigoEmpleado': self.codigo,\n",
    "                'Fecha': mes,\n",
    "                'SalarioVariable': ultimo_salario,\n",
    "                'PromedioSalarioVariable': (ultimo_salario + suma_salarios) / num_mes_actual\n",
    "            })\n",
    "\n",
    "            suma_salarios += ultimo_salario\n",
    "            num_mes_actual += 1\n",
    "    else:\n",
    "        for i in range(1, month + 1):\n",
    "            i_str = f'0{i}' if i < 10 else f'{i}'\n",
    "            response.append({\n",
    "                'CodigoEmpleado': self.codigo,\n",
    "                'Fecha': f'{year}-{i_str}-01',\n",
    "                'SalarioVariable': self.salario_variable,\n",
    "                'PromedioSalarioVariable': self.salario_variable\n",
    "            })\n",
    "\n",
    "    return response"
   ]
  },
  {
   "cell_type": "code",
   "execution_count": null,
   "metadata": {},
   "outputs": [],
   "source": [
    "def get_pdf_context(empleado, df, df_liquidaciones, qs_salarios_variables=None):\n",
    "#     empleado = Empleado.objects.filter(codigo=codigo_empleado).first()\n",
    "    fecha_ejecucion = '2023-07-16'\n",
    "    fecha_ejecucion = datetime.strptime(fecha_ejecucion, \"%Y-%m-%d\").date()\n",
    "#     print(empleado.fecha_ingreso_incentivos)\n",
    "    es_empleado_garantizado = empleado.fecha_ingreso_incentivos.date() > fecha_ejecucion\n",
    "\n",
    "#     promedios_salarios_variables = get_promedios_salarios_variables(\n",
    "#         empleado=empleado,\n",
    "#         year=2023,\n",
    "#         month='Junio',\n",
    "#         qs_salarios_variables=qs_salarios_variables\n",
    "#     )\n",
    "#     len_promedios_salarios_variables = len(promedios_salarios_variables)\n",
    "#     if len_promedios_salarios_variables > 0:\n",
    "#         salario_variable_empleado = promedios_salarios_variables[-1].get('PromedioSalarioVariable', empleado.salario_variable)\n",
    "#         ultimo_salario_variable = promedios_salarios_variables[-1].get('SalarioVariable', empleado.salario_variable)\n",
    "#         salario_variable_acumulado = sum(x['SalarioVariable'] for x in promedios_salarios_variables)\n",
    "#     else:\n",
    "#         salario_variable_empleado = empleado.salario_variable\n",
    "#         ultimo_salario_variable = empleado.salario_variable\n",
    "#         salario_variable_acumulado = empleado.salario_variable\n",
    "\n",
    "#     tabla_salarios_dict = {}\n",
    "#     i_salarios = 0\n",
    "#     salario_variable_acum = 0\n",
    "#     while i_salarios < len_promedios_salarios_variables:\n",
    "#         x = promedios_salarios_variables[i_salarios]\n",
    "#         fecha_salario_variable = datetime.strptime(x['Fecha'], '%Y-%m-%d')\n",
    "\n",
    "#         salario_variable_acum += x['SalarioVariable']\n",
    "#         try:\n",
    "#             df_liquidacion_empleado = df_liquidaciones.loc[codigo_empleado].loc[fecha_salario_variable]\n",
    "#         except:\n",
    "#             df_liquidacion_empleado = None\n",
    "#         tabla_salarios_dict[fecha_salario_variable.month] = ({\n",
    "#             'mes': MAPPER_TEXTO_MESES[fecha_salario_variable.month][:3].upper(),\n",
    "#             'num_mes': fecha_salario_variable.month,\n",
    "#             'salario_variable': x['SalarioVariable'],\n",
    "#             'salario_variable_acum': salario_variable_acum,\n",
    "#             'valor_liquidado_acum': df_liquidacion_empleado.Liquidado if df_liquidacion_empleado is not None else '',\n",
    "#             'valor_pagado_acum': (df_liquidacion_empleado.PagadoFecha + df_liquidacion_empleado.PagoReal) if df_liquidacion_empleado is not None else '',\n",
    "#             'valor_pago_mes': df_liquidacion_empleado.PagoReal if df_liquidacion_empleado is not None else ''\n",
    "#         })\n",
    "\n",
    "#         i_salarios += 1\n",
    "\n",
    "#     tabla_salarios = []\n",
    "#     for x in MAPPER_TEXTO_MESES:\n",
    "#         if x in tabla_salarios_dict:\n",
    "#             tabla_salarios.append(tabla_salarios_dict[x])\n",
    "#         else:\n",
    "#             ultimo_registro = tabla_salarios[-1] if len(tabla_salarios) > 0 else None\n",
    "#             tabla_salarios.append({\n",
    "#                 'mes': MAPPER_TEXTO_MESES[x][:3].upper(),\n",
    "#                 'num_mes': x,\n",
    "#                 'salario_variable': ultimo_registro['salario_variable'] if ultimo_registro else '',\n",
    "#                 'salario_variable_acum': (ultimo_registro['salario_variable_acum'] + ultimo_registro['salario_variable']) if ultimo_registro else '',\n",
    "#                 'valor_liquidado_acum': '',\n",
    "#                 'valor_pagado_acum': '',\n",
    "#                 'valor_pago_mes': ''\n",
    "#             })\n",
    "    \n",
    "#     print('empleado.codigo',empleado.codigo,'type(empleado.codigo)', type(empleado.codigo))\n",
    "    empleado_df = df[df.CodigoEmpleado == str(empleado.codigo)]\n",
    "#     print('empleado_df', empleado_df)\n",
    "    if not empleado_df.empty:\n",
    "        fecha_max = empleado_df.Fecha.max()\n",
    "    else:\n",
    "        fecha_max = pd.to_datetime(fecha_ejecucion)\n",
    "\n",
    "    fecha_min = empleado.fecha_ingreso_incentivos.date()\n",
    "#     print(type(fecha_min), type(datetime(2023, 1, 1).date()))\n",
    "    if fecha_min < datetime(2023, 1, 1).date():\n",
    "        fecha_min = empleado_df.Fecha.min()\n",
    "    \n",
    "#     try:\n",
    "#     print(df_liquidaciones.index)\n",
    "    df_liquidaciones_empleado = df_liquidaciones.loc[str(empleado.codigo)]\n",
    "    df_liquidaciones_empleado_mes = df_liquidaciones_empleado.loc[fecha_max]\n",
    "#     except KeyError:\n",
    "#         print(\"XXXXXXXXXXXXXXXXXXXXXXXXXX\")\n",
    "#         return {}\n",
    "    \n",
    "    liquidacion_total_acum = df_liquidaciones_empleado_mes.Liquidado\n",
    "    valor_a_pagar = df_liquidaciones_empleado_mes.PagoReal\n",
    "    pago_acum = df_liquidaciones_empleado[\n",
    "        (df_liquidaciones_empleado.index < fecha_max) &\n",
    "        (df_liquidaciones_empleado.index >= empleado_df.FechaIngreso.max())\n",
    "    ].sum().PagoReal\n",
    "    print('df_liquidaciones_empleado_mes', df_liquidaciones_empleado_mes)\n",
    "    factor_mes = int(df_liquidaciones_empleado_mes.FactorMes)\n"
   ]
  },
  {
   "cell_type": "code",
   "execution_count": null,
   "metadata": {},
   "outputs": [],
   "source": [
    "post_save_ejecucion_liquidacion(\n",
    "    maestra_resultados_por_empleado,\n",
    "    resultado_liquidaciones,\n",
    "    df_empleados_liquidacion,\n",
    "    df_qs_salarios_variables_liquidacion\n",
    ")"
   ]
  },
  {
   "cell_type": "code",
   "execution_count": null,
   "metadata": {},
   "outputs": [],
   "source": []
  },
  {
   "cell_type": "code",
   "execution_count": null,
   "metadata": {},
   "outputs": [],
   "source": []
  }
 ],
 "metadata": {
  "datalore": {
   "base_environment": "minimal",
   "computation_mode": "JUPYTER",
   "package_manager": "conda",
   "packages": [
    {
     "name": "xlrd",
     "source": "CONDA",
     "version": "1.2.0"
    },
    {
     "name": "openpyxl",
     "source": "PIP",
     "version": "3.0.3"
    },
    {
     "name": "pandas",
     "source": "PIP",
     "version": "1.0.3"
    },
    {
     "name": "numpy",
     "source": "PIP",
     "version": "1.18.3"
    }
   ],
   "version": 1
  },
  "kernelspec": {
   "display_name": "Python 3 (ipykernel)",
   "language": "python",
   "name": "python3"
  },
  "language_info": {
   "codemirror_mode": {
    "name": "ipython",
    "version": 3
   },
   "file_extension": ".py",
   "mimetype": "text/x-python",
   "name": "python",
   "nbconvert_exporter": "python",
   "pygments_lexer": "ipython3",
   "version": "3.9.13"
  }
 },
 "nbformat": 4,
 "nbformat_minor": 4
}
