{
 "cells": [
  {
   "cell_type": "code",
   "execution_count": 1,
   "id": "def42c65",
   "metadata": {},
   "outputs": [
    {
     "name": "stdout",
     "output_type": "stream",
     "text": [
      "C:\\Users\\Crisp\\Documents\\QualitySoftGroup\\Proyectos\\Liquidations-Incentives-Jupyter\\source\\archivos-fuente-136\n"
     ]
    }
   ],
   "source": [
    "import os\n",
    "import sys\n",
    "import pandas as pd\n",
    "import numpy as np\n",
    "from datetime import datetime\n",
    "import import_ipynb\n",
    "from shared_functions import DataframeLoader, Shared\n",
    "base_dir = 'C:\\\\Users\\\\Crisp\\\\Documents\\\\QualitySoftGroup\\\\Proyectos\\\\Liquidations-Incentives-Jupyter'\n",
    "sub_direct = 'archivos-fuente-136'\n",
    "folder_bbraun_source = os.path.join(base_dir, 'source', sub_direct)\n",
    "folder_bbraun_output = os.path.join(base_dir, 'output')\n",
    "print(folder_bbraun_source)"
   ]
  },
  {
   "cell_type": "code",
   "execution_count": 2,
   "id": "123c902f",
   "metadata": {},
   "outputs": [
    {
     "name": "stdout",
     "output_type": "stream",
     "text": [
      "<bound method DataframeLoader.cargar_dataframes of <shared_functions.DataframeLoader object at 0x00000119C4660D00>>\n"
     ]
    }
   ],
   "source": [
    "dataframe_loader = DataframeLoader(\n",
    "    base_dir=base_dir,\n",
    "    sub_direct=sub_direct\n",
    ")\n",
    "shared = Shared()\n",
    "print(dataframe_loader.cargar_dataframes)"
   ]
  },
  {
   "cell_type": "code",
   "execution_count": 3,
   "id": "7af5576e",
   "metadata": {},
   "outputs": [],
   "source": [
    "(\n",
    "        df_resultado_detallado_previo,\n",
    "        df_resultado_liquidaciones_previo,\n",
    "        df_empleados,\n",
    "        df_empleados_inactivos,\n",
    "        df_tipos_empleados,\n",
    "        df_clusters_empleado,\n",
    "        df_zonas_empleado,\n",
    "        df_salarios_variables,\n",
    "        df_parrillas,\n",
    "        df_venta_recaudo_real,\n",
    "        df_venta_recaudo_presupuesto,\n",
    "        df_venta_por_zona,\n",
    "        df_recaudo_por_zona,\n",
    "        df_rentabilidad,\n",
    "        df_venta_otras_companias,\n",
    "        df_recaudo_otras_companias,\n",
    "        df_venta_recaudo_kams,\n",
    "        df_rentabilidad_kam,\n",
    "        df_venta_servicios_mtto,\n",
    "        df_objetivos_cualitativos,\n",
    "        df_incentivos_por_empleado,\n",
    "        df_area_calculo_sba,\n",
    "        df_factores_liquidacion,\n",
    "        df_cluster_plan_real_recaudo,\n",
    "        df_zona_plan_real_venta_ch,\n",
    "        df_rentabilidad_zona,\n",
    "        df_resultados_variables_cualitativas,\n",
    "        df_zonas_clusters_empleado,\n",
    "        df_centros_costos,\n",
    "        df_empleados_centros_costos,\n",
    "        df_centros_costos_grupos_productos_divisiones,\n",
    "        df_parrillas_tipos_calculos,\n",
    "        df_area_calculo_sba_centros_costos,\n",
    "        df_renal_ambulatorio,\n",
    "        codigos_ve_vc,\n",
    "        _dataframes_entrada,\n",
    "        fecha_liquidacion,\n",
    "        meses_incentivos,\n",
    "        OUTPUT_FOLDER\n",
    "    ) = dataframe_loader.cargar_dataframes(base_dir, folder_bbraun_source)"
   ]
  },
  {
   "cell_type": "code",
   "execution_count": null,
   "id": "51e95b5c",
   "metadata": {},
   "outputs": [],
   "source": [
    "maestra_resultados_por_empleado = pd.read_excel(\n",
    "        io=os.path.join(folder_bbraun_output, 'maestra_resultados_por_empleado.xlsx'),\n",
    "        dtype={\n",
    "            'Contexto': str,\n",
    "            'Fecha': 'datetime64[ns]',\n",
    "            'Variable': str,\n",
    "            'PorcentajeCumplimiento':float ,\n",
    "            'Real': float,\n",
    "            'Presupuesto': float,\n",
    "            'CodigoEmpleado': str\n",
    "        }\n",
    "    )\n",
    "maestra_resultados_por_empleado"
   ]
  },
  {
   "cell_type": "code",
   "execution_count": null,
   "id": "fcdfddd3",
   "metadata": {},
   "outputs": [],
   "source": [
    "# maestra_resultados_por_empleado = pd.read_excel(io=os.path.join(folder_bbraun_output, 'maestra_resultados_por_empleado.xlsx'))\n",
    "# maestra_resultados_por_empleado['CodigoEmpleado'] = maestra_resultados_por_empleado['CodigoEmpleado'].astype(str)\n",
    "# maestra_resultados_por_empleado"
   ]
  },
  {
   "cell_type": "code",
   "execution_count": null,
   "id": "56bbec53",
   "metadata": {},
   "outputs": [],
   "source": []
  },
  {
   "cell_type": "code",
   "execution_count": null,
   "id": "f06ca6ee",
   "metadata": {},
   "outputs": [],
   "source": [
    "maestra_resultados_por_empleado_centro_costo = pd.read_excel(\n",
    "        io=os.path.join(folder_bbraun_output, 'maestra_resultados_por_empleado_centro_costo.xlsx'),\n",
    "        dtype={\n",
    "            'Contexto': str,\n",
    "            'Fecha': 'datetime64[ns]',\n",
    "            'Variable': str,\n",
    "            'PorcentajeCumplimiento':float ,\n",
    "            'Real': float,\n",
    "            'Presupuesto': float,\n",
    "            'CodigoEmpleado': str,\n",
    "            'CodigoCentroCosto': str\n",
    "        }\n",
    "    )\n",
    "maestra_resultados_por_empleado_centro_costo.drop(columns=['Unnamed: 0'], inplace=True)\n",
    "maestra_resultados_por_empleado_centro_costo"
   ]
  },
  {
   "cell_type": "code",
   "execution_count": null,
   "id": "2b940171",
   "metadata": {},
   "outputs": [],
   "source": [
    "maestra_resultados_por_empleado_centro_costo[maestra_resultados_por_empleado_centro_costo['Variable'] == 'RentabilidadUnidadNegocioCM2COGSSUB']"
   ]
  },
  {
   "cell_type": "code",
   "execution_count": null,
   "id": "e7be13e7",
   "metadata": {},
   "outputs": [],
   "source": [
    "maestra_resultados_por_empleado_centro_costo[\n",
    "    (maestra_resultados_por_empleado_centro_costo['CodigoEmpleado'] == '1032450706') &\n",
    "    (maestra_resultados_por_empleado_centro_costo['Fecha'] == '2023-01-01')\n",
    "]"
   ]
  },
  {
   "cell_type": "code",
   "execution_count": null,
   "id": "f7e176ae",
   "metadata": {},
   "outputs": [],
   "source": [
    "# maestra_resultados_por_empleado_centro_costo = pd.read_excel(io=os.path.join(folder_bbraun_output, 'maestra_resultados_por_empleado_centro_costo.xlsx'))\n",
    "# maestra_resultados_por_empleado_centro_costo"
   ]
  },
  {
   "cell_type": "code",
   "execution_count": null,
   "id": "0bad292b",
   "metadata": {},
   "outputs": [],
   "source": [
    "resultado_final = pd.read_excel(io=os.path.join(folder_bbraun_output, 'resultado_final.xlsx'))\n",
    "resultado_final"
   ]
  },
  {
   "cell_type": "markdown",
   "id": "e7178a6a",
   "metadata": {},
   "source": [
    "## Casos Liquidación Centro de Costo"
   ]
  },
  {
   "cell_type": "code",
   "execution_count": null,
   "id": "fa4c5cbb",
   "metadata": {},
   "outputs": [],
   "source": [
    "# Convertir las columnas a str\n",
    "resultado_final['Código'] = resultado_final['Código'].astype(str)\n",
    "df_empleados_centros_costos['CodigoEmpleado'] = df_empleados_centros_costos['CodigoEmpleado'].astype(str)"
   ]
  },
  {
   "cell_type": "code",
   "execution_count": null,
   "id": "b7da058b",
   "metadata": {},
   "outputs": [],
   "source": [
    "resultado_final_liquidacion_centro_costo = resultado_final.rename(columns={'Código': 'CodigoEmpleado'}).merge(\n",
    "    df_empleados_centros_costos,\n",
    "    on=['CodigoEmpleado'],\n",
    "    how='left'\n",
    ").rename(columns={\n",
    "    'Fecha': 'Fecha Proceso',\n",
    "    'PorcentajeAsignacion': 'Porcentaje Aplicado'\n",
    "})\n",
    "resultado_final_liquidacion_centro_costo.fillna(0, inplace=True)\n",
    "resultado_final_liquidacion_centro_costo"
   ]
  },
  {
   "cell_type": "code",
   "execution_count": null,
   "id": "db8c41c2",
   "metadata": {},
   "outputs": [],
   "source": [
    "resultado_final_liquidacion_centro_costo[resultado_final_liquidacion_centro_costo['CodigoEmpleado'] == '80220240']"
   ]
  },
  {
   "cell_type": "code",
   "execution_count": null,
   "id": "2768e23c",
   "metadata": {},
   "outputs": [],
   "source": [
    "resultado_final_liquidacion_centro_costo.to_excel('resultado_final_liquidacion_centro_costo.xlsx')"
   ]
  },
  {
   "cell_type": "code",
   "execution_count": null,
   "id": "c73f727b",
   "metadata": {},
   "outputs": [],
   "source": [
    "# resultado_final_liquidacion_centro_costo['CodigoEmpleado'] = resultado_final_liquidacion_centro_costo['CodigoEmpleado'].astype(str)"
   ]
  },
  {
   "cell_type": "markdown",
   "id": "55d4fcde",
   "metadata": {},
   "source": [
    "### Caso 1 - Liquidación Centro de Costo"
   ]
  },
  {
   "cell_type": "code",
   "execution_count": null,
   "id": "bc81995e",
   "metadata": {},
   "outputs": [],
   "source": []
  },
  {
   "cell_type": "code",
   "execution_count": null,
   "id": "09a5e0d9",
   "metadata": {},
   "outputs": [],
   "source": [
    "liquidacion_centro_costo_caso1 = resultado_final_liquidacion_centro_costo[\n",
    "    (resultado_final_liquidacion_centro_costo['Valor liquidado'] < resultado_final_liquidacion_centro_costo['Pagado a la fecha']) &\n",
    "    (resultado_final_liquidacion_centro_costo['¿Pago garantizado?'] == 'NO')\n",
    "].copy()\n",
    "\n",
    "# Asignar nuevos valores usando .loc para evitar SettingWithCopyWarning\n",
    "liquidacion_centro_costo_caso1.loc[:, 'Consecutivo'] = 0.0\n",
    "liquidacion_centro_costo_caso1.loc[:, 'TipoCalculo'] = 'F'\n",
    "\n",
    "liquidacion_centro_costo_caso1"
   ]
  },
  {
   "cell_type": "code",
   "execution_count": null,
   "id": "bb22de6c",
   "metadata": {},
   "outputs": [],
   "source": [
    "liquidacion_centro_costo_caso1['Diferencia'] = liquidacion_centro_costo_caso1['Pagado a la fecha'] - liquidacion_centro_costo_caso1['Valor liquidado']\n",
    "liquidacion_centro_costo_caso1 = liquidacion_centro_costo_caso1.rename(columns={'Diferencia': 'Valor Base Cálculo'})[\n",
    "    ['Fecha Proceso', 'CodigoEmpleado', 'TipoCalculo', 'Consecutivo', 'Valor Base Cálculo', 'CodigoCentroCosto', 'Porcentaje Aplicado']\n",
    "].copy()\n",
    "liquidacion_centro_costo_caso1['Caso'] = 1 \n",
    "liquidacion_centro_costo_caso1.head()"
   ]
  },
  {
   "cell_type": "code",
   "execution_count": null,
   "id": "5ae5cf96",
   "metadata": {},
   "outputs": [],
   "source": [
    "liquidacion_centro_costo_caso1[liquidacion_centro_costo_caso1['CodigoEmpleado'] == '80220240']"
   ]
  },
  {
   "cell_type": "markdown",
   "id": "b5760ad5",
   "metadata": {},
   "source": [
    "## Caso 3 - Liquidación Centro de Costo"
   ]
  },
  {
   "cell_type": "code",
   "execution_count": null,
   "id": "0fe5bb49",
   "metadata": {},
   "outputs": [],
   "source": [
    "resultado_final_liquidacion_centro_costo[resultado_final_liquidacion_centro_costo['CodigoEmpleado'] == '1010166177']"
   ]
  },
  {
   "cell_type": "code",
   "execution_count": null,
   "id": "1b454761",
   "metadata": {},
   "outputs": [],
   "source": [
    "liquidacion_centro_costo_garantizado = resultado_final_liquidacion_centro_costo[\n",
    "    resultado_final_liquidacion_centro_costo['¿Pago garantizado?'] == 'SI'\n",
    "].copy()\n",
    "# liquidacion_centro_costo_garantizado = liquidacion_centro_costo_garantizado.rename(columns={'Valor liquidado': 'Valor Base Cálculo'})\n",
    "liquidacion_centro_costo_garantizado['Valor Base Cálculo'] = liquidacion_centro_costo_garantizado.groupby(['CodigoEmpleado', 'CodigoCentroCosto'])[['Valor liquidado']].transform('sum')\n",
    "liquidacion_centro_costo_garantizado['Total Meses Garantizado'] = liquidacion_centro_costo_garantizado.groupby(['CodigoEmpleado', 'CodigoCentroCosto'])[['Valor liquidado']].transform('count')\n",
    "liquidacion_centro_costo_garantizado"
   ]
  },
  {
   "cell_type": "code",
   "execution_count": null,
   "id": "452ba035",
   "metadata": {},
   "outputs": [],
   "source": [
    "liquidacion_centro_costo_garantizado = liquidacion_centro_costo_garantizado[\n",
    "    [\n",
    "        'Fecha Proceso', 'CodigoEmpleado', 'Valor Base Cálculo', 'CodigoCentroCosto', 'Porcentaje Aplicado'\n",
    "    ]\n",
    "]\n",
    "liquidacion_centro_costo_garantizado"
   ]
  },
  {
   "cell_type": "code",
   "execution_count": null,
   "id": "09fe5e84",
   "metadata": {},
   "outputs": [],
   "source": [
    "liquidacion_centro_costo_garantizado[liquidacion_centro_costo_garantizado['CodigoEmpleado'] == '32298388']"
   ]
  },
  {
   "cell_type": "code",
   "execution_count": null,
   "id": "655c2ec2",
   "metadata": {},
   "outputs": [],
   "source": [
    "# Agrupar por las columnas específicas y luego seleccionar el último registro de cada grupo\n",
    "ultimos_registros_liquidacion_centro_costo_garantizado = liquidacion_centro_costo_garantizado.copy().fillna(0).groupby(['CodigoEmpleado', 'Valor Base Cálculo', 'CodigoCentroCosto', 'Porcentaje Aplicado']).apply(lambda x: x.nlargest(1, 'Fecha Proceso')).reset_index(drop=True)\n",
    "ultimos_registros_liquidacion_centro_costo_garantizado.head()"
   ]
  },
  {
   "cell_type": "code",
   "execution_count": null,
   "id": "52258c27",
   "metadata": {},
   "outputs": [],
   "source": [
    "# Reiniciar el índice si lo deseas\n",
    "ultimos_registros_liquidacion_centro_costo_garantizado[ultimos_registros_liquidacion_centro_costo_garantizado['CodigoEmpleado'] == '1032449509']"
   ]
  },
  {
   "cell_type": "code",
   "execution_count": null,
   "id": "2b9ef8fb",
   "metadata": {},
   "outputs": [],
   "source": [
    "# Asignar nuevos valores usando .loc para evitar SettingWithCopyWarning\n",
    "ultimos_registros_liquidacion_centro_costo_garantizado.loc[:, 'Consecutivo'] = 0.0\n",
    "ultimos_registros_liquidacion_centro_costo_garantizado.loc[:, 'TipoCalculo'] = 'F'\n",
    "\n",
    "ultimos_registros_liquidacion_centro_costo_garantizado[\n",
    "    (ultimos_registros_liquidacion_centro_costo_garantizado['CodigoEmpleado'] == '1014204375')\n",
    "]"
   ]
  },
  {
   "cell_type": "code",
   "execution_count": null,
   "id": "b2e1d948",
   "metadata": {},
   "outputs": [],
   "source": [
    "liquidacion_centro_costo_caso3 = ultimos_registros_liquidacion_centro_costo_garantizado[\n",
    "    ultimos_registros_liquidacion_centro_costo_garantizado['Fecha Proceso'] < fecha_liquidacion\n",
    "]\n",
    "liquidacion_centro_costo_caso3.head()"
   ]
  },
  {
   "cell_type": "code",
   "execution_count": null,
   "id": "fcc9c6ce",
   "metadata": {},
   "outputs": [],
   "source": [
    "liquidacion_centro_costo_caso3['Fecha Proceso'] = pd.to_datetime(fecha_liquidacion)\n",
    "liquidacion_centro_costo_caso3['Caso'] = 3"
   ]
  },
  {
   "cell_type": "code",
   "execution_count": null,
   "id": "2a260e54",
   "metadata": {},
   "outputs": [],
   "source": [
    "liquidacion_centro_costo_caso3[liquidacion_centro_costo_caso3['CodigoEmpleado'] == '1111117']"
   ]
  },
  {
   "cell_type": "markdown",
   "id": "eb895f12",
   "metadata": {},
   "source": [
    "## Caso 4 - Liquidación Centro de Costo"
   ]
  },
  {
   "cell_type": "code",
   "execution_count": null,
   "id": "fb33bf8f",
   "metadata": {},
   "outputs": [],
   "source": [
    "empleados_inactivos = df_empleados_inactivos[df_empleados_inactivos['FechaRetiro'].notnull()][['CodigoEmpleado', 'FechaRetiro']]\n",
    "fecha_liquidacion_actual = datetime.strptime(fecha_liquidacion, '%Y-%m-%d')\n",
    "año_liquidacion_actual = fecha_liquidacion_actual.year\n",
    "print(año_liquidacion_actual)\n",
    "empleados_inactivos"
   ]
  },
  {
   "cell_type": "code",
   "execution_count": null,
   "id": "b8d7a739",
   "metadata": {},
   "outputs": [],
   "source": [
    "empleados_con_fecha_retiro_ano_actual = empleados_inactivos[empleados_inactivos['FechaRetiro'].dt.year == año_liquidacion_actual]\n",
    "empleados_con_fecha_retiro_ano_actual"
   ]
  },
  {
   "cell_type": "code",
   "execution_count": null,
   "id": "ca10e3ed",
   "metadata": {},
   "outputs": [],
   "source": [
    "df_A = resultado_final_liquidacion_centro_costo.rename(columns={\n",
    "    'Tipo Empleado': 'TipoEmpleado',\n",
    "    'Área de cálculo': 'AreaCalculo',\n",
    "    'Salario variable': 'SalarioVariable'\n",
    " #   'Valor liquidado': 'Valor Base Cálculo'\n",
    "})[    [\n",
    "    'Fecha Proceso', 'CodigoEmpleado', 'CodigoCentroCosto', 'Valor liquidado',\n",
    "    'Porcentaje Aplicado']]\n",
    "df_A"
   ]
  },
  {
   "cell_type": "code",
   "execution_count": null,
   "id": "1563f24d",
   "metadata": {},
   "outputs": [],
   "source": [
    "df_A[df_A['CodigoEmpleado'] == '1098612757']"
   ]
  },
  {
   "cell_type": "code",
   "execution_count": null,
   "id": "743585c9",
   "metadata": {},
   "outputs": [],
   "source": [
    "df_A[df_A['CodigoEmpleado'] == '1032450706']"
   ]
  },
  {
   "cell_type": "code",
   "execution_count": null,
   "id": "a87b89cf",
   "metadata": {},
   "outputs": [],
   "source": [
    "maestra_resultados_por_empleado_centro_costo.head()"
   ]
  },
  {
   "cell_type": "code",
   "execution_count": null,
   "id": "728a09ce",
   "metadata": {},
   "outputs": [],
   "source": [
    "len(maestra_resultados_por_empleado.copy())"
   ]
  },
  {
   "cell_type": "markdown",
   "id": "9146b510",
   "metadata": {},
   "source": [
    "### Caso 4 - Maestro Resultados Por Empleado"
   ]
  },
  {
   "cell_type": "code",
   "execution_count": null,
   "id": "a6ae4634",
   "metadata": {},
   "outputs": [],
   "source": [
    "maestra_resultados_por_empleado[\n",
    "    (maestra_resultados_por_empleado['CodigoEmpleado'] == '1032450706') &\n",
    "    (maestra_resultados_por_empleado['Fecha'] == '2023-09-01')\n",
    "]"
   ]
  },
  {
   "cell_type": "code",
   "execution_count": null,
   "id": "0e7350a4",
   "metadata": {},
   "outputs": [],
   "source": [
    "maestra_resultados_por_empleado.info()"
   ]
  },
  {
   "cell_type": "code",
   "execution_count": null,
   "id": "8ca60deb",
   "metadata": {},
   "outputs": [],
   "source": []
  },
  {
   "cell_type": "code",
   "execution_count": null,
   "id": "40d5f510",
   "metadata": {},
   "outputs": [],
   "source": [
    "df_B = maestra_resultados_por_empleado.copy().rename(columns={\n",
    "    'Fecha': 'Fecha Proceso' #, 'Liquidado': 'Valor Base Cálculo'\n",
    "}).merge(df_empleados,\n",
    "    on=['CodigoEmpleado', 'TipoEmpleado', 'AreaCalculo', 'Nombre', 'Apellidos', 'FechaIngreso', 'SalarioVariable'],\n",
    "    how='left',\n",
    "    indicator=False\n",
    ")[\n",
    "        ['Fecha Proceso', 'CodigoEmpleado', 'FechaRetiro', 'AreaCalculo', 'Consecutivo','Variable', 'TipoEmpleado', 'Liquidado']\n",
    "]\n",
    "df_B = df_B.dropna(subset=['CodigoEmpleado']).drop_duplicates()\n",
    "df_B"
   ]
  },
  {
   "cell_type": "code",
   "execution_count": null,
   "id": "d01e6935",
   "metadata": {},
   "outputs": [],
   "source": [
    "df_B[\n",
    "    (df_B['CodigoEmpleado'] == '1032450706') & (df_B['Fecha Proceso'] == '2023-09-01')]"
   ]
  },
  {
   "cell_type": "code",
   "execution_count": null,
   "id": "34bd0673",
   "metadata": {},
   "outputs": [],
   "source": [
    "df_B = df_B.merge(\n",
    "    df_empleados_centros_costos,\n",
    "    on=['CodigoEmpleado'],\n",
    "    how='left',\n",
    "    indicator=False\n",
    ")\n",
    "df_B = df_B.dropna(subset=['CodigoCentroCosto'])\n",
    "df_B"
   ]
  },
  {
   "cell_type": "code",
   "execution_count": null,
   "id": "c576d7d2",
   "metadata": {},
   "outputs": [],
   "source": [
    "df_B[(df_B['CodigoEmpleado'] == '1032450706') & (df_B['Fecha Proceso'] == '2023-09-01')]"
   ]
  },
  {
   "cell_type": "code",
   "execution_count": null,
   "id": "79658602",
   "metadata": {},
   "outputs": [],
   "source": [
    "df_parrillas_tipos_calculos"
   ]
  },
  {
   "cell_type": "code",
   "execution_count": null,
   "id": "dc2d0c58",
   "metadata": {},
   "outputs": [],
   "source": [
    "df_B = df_B.merge( \n",
    "    right=df_parrillas_tipos_calculos.rename(columns={'NombreRubro': 'Variable'}), \n",
    "    on=['TipoEmpleado', 'AreaCalculo', 'Variable'],\n",
    "    how='left' \n",
    ") \n",
    "\n",
    "df_B[[\n",
    "    'Fecha Proceso', 'CodigoEmpleado', 'FechaRetiro', 'Variable', 'AreaCalculo', 'PorcentajeAsignacion', 'TipoEmpleado', \n",
    "    'CodigoRubro', 'TipoCalculo', 'CodigoCentroCosto', 'Liquidado' \n",
    "]]\n"
   ]
  },
  {
   "cell_type": "code",
   "execution_count": null,
   "id": "faaebd9d",
   "metadata": {},
   "outputs": [],
   "source": [
    "df_B[df_B['CodigoEmpleado'] == '5002899']"
   ]
  },
  {
   "cell_type": "markdown",
   "id": "f6a20801",
   "metadata": {},
   "source": [
    "### Caso 4 - Maestro Resultados Por Empleado Centro de Costo"
   ]
  },
  {
   "cell_type": "code",
   "execution_count": null,
   "id": "8a03d6a1",
   "metadata": {
    "scrolled": true
   },
   "outputs": [],
   "source": [
    "maestra_resultados_por_empleado_centro_costo[\n",
    "    (maestra_resultados_por_empleado_centro_costo['CodigoEmpleado'] == '1032450706') &\n",
    "    (maestra_resultados_por_empleado_centro_costo['Fecha'] == '2023-09-01')\n",
    "]"
   ]
  },
  {
   "cell_type": "code",
   "execution_count": null,
   "id": "6dedd53c",
   "metadata": {},
   "outputs": [],
   "source": [
    "maestra_resultados_por_empleado_centro_costo[maestra_resultados_por_empleado_centro_costo['CodigoEmpleado'] == '5002711']"
   ]
  },
  {
   "cell_type": "code",
   "execution_count": null,
   "id": "4566b1c8",
   "metadata": {},
   "outputs": [],
   "source": [
    "# df_B = maestra_resultados_por_empleado_centro_costo.copy().rename(columns={\n",
    "#     'Fecha': 'Fecha Proceso' #, 'Liquidado': 'Valor Base Cálculo'\n",
    "# }).merge(df_empleados,\n",
    "#     on=['CodigoEmpleado', 'TipoEmpleado', 'AreaCalculo', 'Nombre', 'Apellidos', 'FechaIngreso', 'SalarioVariable'],\n",
    "#     how='left',\n",
    "#     indicator=False\n",
    "# )[\n",
    "#         ['Fecha Proceso', 'CodigoEmpleado', 'CodigoCentroCosto', 'FechaRetiro']\n",
    "# ]\n",
    "# df_B = df_B.dropna(subset=['CodigoEmpleado']).drop_duplicates()\n",
    "# df_B"
   ]
  },
  {
   "cell_type": "code",
   "execution_count": null,
   "id": "b2e85bbe",
   "metadata": {},
   "outputs": [],
   "source": [
    "df_B[df_B['CodigoEmpleado'] == '5002711']"
   ]
  },
  {
   "cell_type": "code",
   "execution_count": null,
   "id": "37b3cfdf",
   "metadata": {},
   "outputs": [],
   "source": [
    "df_empleados_centros_costos[df_empleados_centros_costos['CodigoEmpleado'] == '5002711']"
   ]
  },
  {
   "cell_type": "code",
   "execution_count": null,
   "id": "8d632024",
   "metadata": {},
   "outputs": [],
   "source": [
    "# df_B = df_B.merge(\n",
    "#     df_empleados_centros_costos,\n",
    "#     on=['CodigoEmpleado', 'CodigoCentroCosto'],\n",
    "#     how='left',\n",
    "#     indicator=False\n",
    "# )\n",
    "# df_B = df_B.dropna(subset=['CodigoCentroCosto'])\n",
    "# df_B"
   ]
  },
  {
   "cell_type": "code",
   "execution_count": null,
   "id": "d1ecc36f",
   "metadata": {},
   "outputs": [],
   "source": [
    "df_B[\n",
    "    (df_B['CodigoEmpleado'] == '1032450706') & \n",
    "    (df_B['Fecha Proceso'] == '2023-09-01')\n",
    "]"
   ]
  },
  {
   "cell_type": "code",
   "execution_count": null,
   "id": "517aa963",
   "metadata": {},
   "outputs": [],
   "source": [
    "df_B[\n",
    "    (df_B['CodigoEmpleado'] == '1032450706') & \n",
    "    (df_B['Fecha Proceso'] == '2023-09-01') &\n",
    "    (df_B['TipoCalculo'] == 'F')\n",
    "]"
   ]
  },
  {
   "cell_type": "code",
   "execution_count": null,
   "id": "dd117e6e",
   "metadata": {},
   "outputs": [],
   "source": [
    "3780000+6300000"
   ]
  },
  {
   "cell_type": "code",
   "execution_count": null,
   "id": "4b6e3999",
   "metadata": {},
   "outputs": [],
   "source": [
    "df_B[\n",
    "    (df_B['CodigoEmpleado'] == '1032450706') & \n",
    "    (df_B['Fecha Proceso'] == '2023-09-01') &\n",
    "    (df_B['TipoCalculo'] == 'V')\n",
    "]"
   ]
  },
  {
   "cell_type": "code",
   "execution_count": null,
   "id": "fc8d839d",
   "metadata": {},
   "outputs": [],
   "source": [
    "6048000+2340000+198000"
   ]
  },
  {
   "cell_type": "code",
   "execution_count": null,
   "id": "666b3afc",
   "metadata": {},
   "outputs": [],
   "source": [
    "df_B[\n",
    "    (df_B['CodigoEmpleado'] == '1032450706') & \n",
    "    (df_B['Fecha Proceso'] == '2023-09-01') &\n",
    "    (df_B['TipoCalculo'] == 'F')\n",
    "]['Liquidado'].sum()"
   ]
  },
  {
   "cell_type": "code",
   "execution_count": null,
   "id": "d342a42a",
   "metadata": {},
   "outputs": [],
   "source": [
    "df_B[\n",
    "    (df_B['CodigoEmpleado'] == '1032450706') & \n",
    "    (df_B['Fecha Proceso'] == '2023-09-01') &\n",
    "    (df_B['TipoCalculo'] == 'V')\n",
    "]['Liquidado'].sum()"
   ]
  },
  {
   "cell_type": "code",
   "execution_count": null,
   "id": "8cec08c5",
   "metadata": {},
   "outputs": [],
   "source": [
    "# Haciendo un merge entre df_A y df_B con un indicador\n",
    "merged_df = df_A.merge(df_B, on=[\n",
    "    'CodigoEmpleado', 'Fecha Proceso', 'CodigoCentroCosto'], how='right', indicator=True\n",
    ")\n",
    "merged_df"
   ]
  },
  {
   "cell_type": "code",
   "execution_count": null,
   "id": "d8638087",
   "metadata": {},
   "outputs": [],
   "source": [
    "df_A[df_A['CodigoEmpleado'] == '1032450706']"
   ]
  },
  {
   "cell_type": "code",
   "execution_count": null,
   "id": "70537680",
   "metadata": {},
   "outputs": [],
   "source": [
    "df_B[\n",
    "        (df_B['CodigoEmpleado'] == '1032450706') &\n",
    "        (df_B['Fecha Proceso'] == '2023-09-01')\n",
    "    ]"
   ]
  },
  {
   "cell_type": "code",
   "execution_count": null,
   "id": "567b11f5",
   "metadata": {},
   "outputs": [],
   "source": [
    "merged_df[\n",
    "    (merged_df['CodigoEmpleado']=='1032450706') &\n",
    "    (merged_df['Fecha Proceso']=='2023-09-01')\n",
    "]"
   ]
  },
  {
   "cell_type": "code",
   "execution_count": null,
   "id": "17797dd0",
   "metadata": {},
   "outputs": [],
   "source": [
    "# Filtrando aquellos registros que están en ambos dataframes (es decir, df_A, df_B)\n",
    "\n",
    "# Registros que están dentro de resultado final liquidación por centro de costo y además aparecen en la maestra de resultados por empleado.\n",
    "\n",
    "# liquidacion_centro_costo_caso4_both = merged_df[merged_df['_merge'] == 'both']\n",
    "# resultado_final_liquidacion_centro_costo\n",
    "# empleados_centro_costo_con_valor_liquidado\n",
    "\n",
    "empleados_centro_costo_con_valor_liquidado = merged_df.dropna(subset=['Valor liquidado'])\n",
    "empleados_centro_costo_con_valor_liquidado"
   ]
  },
  {
   "cell_type": "code",
   "execution_count": null,
   "id": "484f5a45",
   "metadata": {},
   "outputs": [],
   "source": [
    "empleados_centro_costo_con_valor_liquidado[\n",
    "    (empleados_centro_costo_con_valor_liquidado['CodigoEmpleado'] == '1032450706') &\n",
    "    (empleados_centro_costo_con_valor_liquidado['Fecha Proceso'] == '2023-09-01')\n",
    "]"
   ]
  },
  {
   "cell_type": "code",
   "execution_count": null,
   "id": "03f9757a",
   "metadata": {},
   "outputs": [],
   "source": [
    "# # Agrupar por las columnas específicas y luego seleccionar el último registro de cada grupo\n",
    "# ultimos_registros_empleados_centro_costo_con_valor_liquidado = empleados_centro_costo_con_valor_liquidado.groupby(['CodigoEmpleado', 'CodigoCentroCosto']).apply(lambda x: x.nlargest(1, 'Fecha Proceso'))\n",
    "\n",
    "# # Reiniciar el índice si lo deseas\n",
    "# ultimos_registros_empleados_centro_costo_con_valor_liquidado = ultimos_registros_empleados_centro_costo_con_valor_liquidado.reset_index(drop=True)\n",
    "# ultimos_registros_empleados_centro_costo_con_valor_liquidado = ultimos_registros_empleados_centro_costo_con_valor_liquidado.drop(columns=['_merge'])\n",
    "\n",
    "ultimos_registros_empleados_centro_costo_con_valor_liquidado = empleados_centro_costo_con_valor_liquidado.groupby(['CodigoEmpleado', 'TipoCalculo', 'CodigoCentroCosto', 'Consecutivo','Variable']).apply(\n",
    "    lambda x: x.nlargest(1, 'Fecha Proceso')\n",
    ").reset_index(drop=True).drop(columns=['_merge'])\n",
    "ultimos_registros_empleados_centro_costo_con_valor_liquidado"
   ]
  },
  {
   "cell_type": "code",
   "execution_count": null,
   "id": "7fe1052e",
   "metadata": {},
   "outputs": [],
   "source": [
    "ultimos_registros_empleados_centro_costo_con_valor_liquidado[\n",
    "    (ultimos_registros_empleados_centro_costo_con_valor_liquidado['CodigoEmpleado'] == '5002899') \n",
    "]"
   ]
  },
  {
   "cell_type": "code",
   "execution_count": null,
   "id": "4730633d",
   "metadata": {},
   "outputs": [],
   "source": [
    "481140.0+2430000.0+5852925.0+3137167.8"
   ]
  },
  {
   "cell_type": "code",
   "execution_count": null,
   "id": "eb85b4ff",
   "metadata": {},
   "outputs": [],
   "source": [
    "1786860.0+7445250.0+3192523.2"
   ]
  },
  {
   "cell_type": "code",
   "execution_count": null,
   "id": "9934d888",
   "metadata": {},
   "outputs": [],
   "source": [
    "# Registros que fueron excluídos dentro de resultado final liquidación por centro de costo, pero sí aparecen en la maestra de resultados por empleado.\n",
    "\n",
    "# Filtrando aquellos registros que solo están en el lado izquierdo (es decir, df_A)\n",
    "# empleados_exluidos_centro_costo_con_valor_liquidado = merged_df[merged_df['_merge'] == 'right_only']\n",
    "# empleados_exluidos_centro_costo_con_valor_liquidado = empleados_exluidos_centro_costo_con_valor_liquidado.drop(columns=['Valor liquidado', 'Fecha Proceso', '_merge', 'Porcentaje Aplicado'])\n",
    "\n",
    "empleados_exluidos_centro_costo_con_valor_liquidado =  merged_df[merged_df['Valor liquidado'].isna()].drop(columns=[\n",
    "    'Valor liquidado', 'Porcentaje Aplicado', 'Fecha Proceso', '_merge', 'FechaRetiro', 'CodigoRubro', 'TipoCalculo', 'Liquidado'\n",
    "]).drop_duplicates()\n",
    "empleados_exluidos_centro_costo_con_valor_liquidado"
   ]
  },
  {
   "cell_type": "code",
   "execution_count": null,
   "id": "b636e6eb",
   "metadata": {},
   "outputs": [],
   "source": [
    "empleados_exluidos_centro_costo_con_valor_liquidado[\n",
    "    empleados_exluidos_centro_costo_con_valor_liquidado['CodigoEmpleado'] == '8520024'\n",
    "]"
   ]
  },
  {
   "cell_type": "code",
   "execution_count": null,
   "id": "4af83a3b",
   "metadata": {},
   "outputs": [],
   "source": [
    "empleados_exluidos_centro_costo_con_valor_liquidado[\n",
    "    empleados_exluidos_centro_costo_con_valor_liquidado['CodigoEmpleado'] == '1032450706'\n",
    "]"
   ]
  },
  {
   "cell_type": "code",
   "execution_count": null,
   "id": "73c12e10",
   "metadata": {},
   "outputs": [],
   "source": [
    "resultado_ultima_liquidacion_empleados_retirados_o_inactivos = ultimos_registros_empleados_centro_costo_con_valor_liquidado.merge(\n",
    "    empleados_exluidos_centro_costo_con_valor_liquidado.drop(\n",
    "        columns=['AreaCalculo', 'TipoEmpleado', 'Variable' , 'Consecutivo']\n",
    "    ).copy(),\n",
    "    how='right',\n",
    "    on=['CodigoEmpleado', 'CodigoCentroCosto', 'PorcentajeAsignacion']\n",
    ").drop_duplicates()\n",
    "resultado_ultima_liquidacion_empleados_retirados_o_inactivos"
   ]
  },
  {
   "cell_type": "code",
   "execution_count": null,
   "id": "7d094b6d",
   "metadata": {},
   "outputs": [],
   "source": [
    "resultado_ultima_liquidacion_empleados_retirados_o_inactivos[\n",
    "    resultado_ultima_liquidacion_empleados_retirados_o_inactivos['CodigoEmpleado'] == '5016583'\n",
    "]"
   ]
  },
  {
   "cell_type": "code",
   "execution_count": null,
   "id": "0b2e2204",
   "metadata": {},
   "outputs": [],
   "source": [
    "resultado_ultima_liquidacion_empleados_retirados_o_inactivos.info()"
   ]
  },
  {
   "cell_type": "code",
   "execution_count": null,
   "id": "4420116d",
   "metadata": {},
   "outputs": [],
   "source": [
    "empleados_con_fecha_retiro_ano_actual"
   ]
  },
  {
   "cell_type": "code",
   "execution_count": null,
   "id": "307db6b1",
   "metadata": {},
   "outputs": [],
   "source": [
    "resultado_ultima_liquidacion_empleados_retirados_o_inactivos = resultado_ultima_liquidacion_empleados_retirados_o_inactivos.rename(\n",
    "        columns={'Fecha Proceso': 'Fecha Proceso Última Liquidacion'}\n",
    "    ).merge(\n",
    "    empleados_con_fecha_retiro_ano_actual,\n",
    "    how='outer',\n",
    "    on=['CodigoEmpleado', 'FechaRetiro']\n",
    ").drop_duplicates()\n",
    "resultado_ultima_liquidacion_empleados_retirados_o_inactivos['Fecha Proceso'] = pd.to_datetime(fecha_liquidacion)\n",
    "resultado_ultima_liquidacion_empleados_retirados_o_inactivos"
   ]
  },
  {
   "cell_type": "code",
   "execution_count": null,
   "id": "35fd461a",
   "metadata": {},
   "outputs": [],
   "source": []
  },
  {
   "cell_type": "code",
   "execution_count": null,
   "id": "0683280b",
   "metadata": {
    "scrolled": false
   },
   "outputs": [],
   "source": [
    "resultado_ultima_liquidacion_empleados_retirados_o_inactivos[\n",
    "    resultado_ultima_liquidacion_empleados_retirados_o_inactivos['CodigoEmpleado'] == '8520024'\n",
    "]"
   ]
  },
  {
   "cell_type": "code",
   "execution_count": null,
   "id": "e9a6bd0c",
   "metadata": {},
   "outputs": [],
   "source": [
    "    len(resultado_ultima_liquidacion_empleados_retirados_o_inactivos)"
   ]
  },
  {
   "cell_type": "code",
   "execution_count": null,
   "id": "bfcaa6a8",
   "metadata": {},
   "outputs": [],
   "source": [
    "resultado_ultima_liquidacion_empleados_retirados_o_inactivos.to_excel('liquidacion_centro_costo_caso4_detallado.xlsx')"
   ]
  },
  {
   "cell_type": "code",
   "execution_count": null,
   "id": "9c7ce318",
   "metadata": {},
   "outputs": [],
   "source": []
  },
  {
   "cell_type": "code",
   "execution_count": null,
   "id": "eae15328",
   "metadata": {},
   "outputs": [],
   "source": [
    "# Eliminando la columna del indicador para limpiar el resultado\n",
    "liquidacion_centro_costo_caso4 = resultado_ultima_liquidacion_empleados_retirados_o_inactivos.copy().rename(columns={'Liquidado': 'Valor Base Cálculo'})[\n",
    "    [\n",
    "    'Fecha Proceso', 'CodigoEmpleado', 'CodigoCentroCosto', 'Valor Base Cálculo',\n",
    "    'Porcentaje Aplicado', 'TipoCalculo', 'Variable', 'Consecutivo', 'Fecha Proceso Última Liquidacion']\n",
    "]\n",
    "liquidacion_centro_costo_caso4['Fecha Proceso'] = liquidacion_centro_costo_caso4['Fecha Proceso Última Liquidacion']\n",
    "liquidacion_centro_costo_caso4['Caso'] = 4\n",
    "liquidacion_centro_costo_caso4.drop(columns=['Fecha Proceso Última Liquidacion', 'Variable'], inplace=True)\n",
    "# liquidacion_centro_costo_caso4.loc[:, 'Consecutivo'] = 0.0\n",
    "liquidacion_centro_costo_caso4.drop_duplicates(inplace=True)\n",
    "liquidacion_centro_costo_caso4"
   ]
  },
  {
   "cell_type": "code",
   "execution_count": null,
   "id": "204797eb",
   "metadata": {},
   "outputs": [],
   "source": [
    "# liquidacion_centro_costo_caso4[liquidacion_centro_costo_caso4['TipoCalculo'] == 'F']"
   ]
  },
  {
   "cell_type": "code",
   "execution_count": null,
   "id": "342d200e",
   "metadata": {},
   "outputs": [],
   "source": [
    "# liquidacion_centro_costo_caso4[liquidacion_centro_costo_caso4['TipoCalculo'] == 'V']"
   ]
  },
  {
   "cell_type": "code",
   "execution_count": null,
   "id": "7e78000b",
   "metadata": {},
   "outputs": [],
   "source": []
  },
  {
   "cell_type": "code",
   "execution_count": null,
   "id": "b47b3ff4",
   "metadata": {},
   "outputs": [],
   "source": [
    "liquidacion_centro_costo_caso4[liquidacion_centro_costo_caso4['CodigoEmpleado'] == '8520024']"
   ]
  },
  {
   "cell_type": "code",
   "execution_count": null,
   "id": "1a87936e",
   "metadata": {},
   "outputs": [],
   "source": [
    "liquidacion_centro_costo_caso4[liquidacion_centro_costo_caso4['CodigoEmpleado'] == '1032450706']"
   ]
  },
  {
   "cell_type": "code",
   "execution_count": null,
   "id": "4696e3fa",
   "metadata": {},
   "outputs": [],
   "source": [
    "df_empleados_inactivos['CodigoEmpleado'].unique()"
   ]
  },
  {
   "cell_type": "code",
   "execution_count": null,
   "id": "b93ea76a",
   "metadata": {},
   "outputs": [],
   "source": [
    "resultado_ultima_liquidacion_empleados_retirados_o_inactivos['CodigoEmpleado'].unique()"
   ]
  },
  {
   "cell_type": "code",
   "execution_count": null,
   "id": "87087447",
   "metadata": {},
   "outputs": [],
   "source": [
    "empleados_con_fecha_retiro_ano_actual['CodigoEmpleado'].unique()"
   ]
  },
  {
   "cell_type": "code",
   "execution_count": null,
   "id": "39700124",
   "metadata": {},
   "outputs": [],
   "source": [
    "cruzados = df_empleados_inactivos[['CodigoEmpleado']].merge(\n",
    "    resultado_ultima_liquidacion_empleados_retirados_o_inactivos[['CodigoEmpleado']],\n",
    "    how='outer',\n",
    "    indicator=True\n",
    ")\n",
    "cruzados = cruzados.drop_duplicates()\n",
    "cruzados"
   ]
  },
  {
   "cell_type": "code",
   "execution_count": null,
   "id": "b63a9fe6",
   "metadata": {},
   "outputs": [],
   "source": [
    "cruzados[cruzados['_merge'] == 'left_only']"
   ]
  },
  {
   "cell_type": "code",
   "execution_count": null,
   "id": "65b18c3e",
   "metadata": {},
   "outputs": [],
   "source": [
    "cruzados[cruzados['_merge'] == 'right_only']"
   ]
  },
  {
   "cell_type": "code",
   "execution_count": null,
   "id": "5c3ea0c6",
   "metadata": {},
   "outputs": [],
   "source": [
    "cruzados[cruzados['_merge'] == 'both']"
   ]
  },
  {
   "cell_type": "code",
   "execution_count": null,
   "id": "c18f1da2",
   "metadata": {},
   "outputs": [],
   "source": [
    "liquidacion_centro_costo_caso4['CodigoEmpleado'].unique()"
   ]
  },
  {
   "cell_type": "code",
   "execution_count": null,
   "id": "a9776fa8",
   "metadata": {},
   "outputs": [],
   "source": [
    "liquidacion_centro_costo_caso4.to_excel('liquidacion_centro_costo_caso4.xlsx')"
   ]
  },
  {
   "cell_type": "markdown",
   "id": "99fff8c4",
   "metadata": {},
   "source": [
    "## Caso 5 - Liquidación Centro de Costo"
   ]
  },
  {
   "cell_type": "code",
   "execution_count": null,
   "id": "b638ad81",
   "metadata": {},
   "outputs": [],
   "source": [
    "fecha_liquidacion"
   ]
  },
  {
   "cell_type": "code",
   "execution_count": null,
   "id": "de897bed",
   "metadata": {},
   "outputs": [],
   "source": [
    "liquidacion_centro_costo_caso5 = ultimos_registros_liquidacion_centro_costo_garantizado[\n",
    "    ultimos_registros_liquidacion_centro_costo_garantizado['Fecha Proceso'] == fecha_liquidacion\n",
    "]\n",
    "\n",
    "liquidacion_centro_costo_caso5['Caso'] = 5\n",
    "\n",
    "liquidacion_centro_costo_caso5"
   ]
  },
  {
   "cell_type": "markdown",
   "id": "fefc9dfc",
   "metadata": {},
   "source": [
    "## Corrección Caso 1"
   ]
  },
  {
   "cell_type": "code",
   "execution_count": null,
   "id": "50b95585",
   "metadata": {},
   "outputs": [],
   "source": [
    "datos = {\n",
    "    '1111117': 300000.0,\n",
    "    '5032456': -300000.0\n",
    "}\n",
    "\n",
    "df_ajustes_liquidaciones = pd.DataFrame(list(datos.items()), columns=['CodigoEmpleado', 'AjusteValorLiquidado'])\n",
    "df_ajustes_liquidaciones"
   ]
  },
  {
   "cell_type": "code",
   "execution_count": null,
   "id": "8f9cbaba",
   "metadata": {},
   "outputs": [],
   "source": [
    "df_ajustes_liquidaciones.info()"
   ]
  },
  {
   "cell_type": "code",
   "execution_count": null,
   "id": "59cc2e00",
   "metadata": {},
   "outputs": [],
   "source": [
    "len(liquidacion_centro_costo_caso1)"
   ]
  },
  {
   "cell_type": "code",
   "execution_count": null,
   "id": "cce483a4",
   "metadata": {},
   "outputs": [],
   "source": [
    "len(liquidacion_centro_costo_caso1[liquidacion_centro_costo_caso1['Fecha Proceso'] < fecha_liquidacion])"
   ]
  },
  {
   "cell_type": "code",
   "execution_count": null,
   "id": "03b12449",
   "metadata": {},
   "outputs": [],
   "source": [
    "len(liquidacion_centro_costo_caso1[liquidacion_centro_costo_caso1['Fecha Proceso'] == fecha_liquidacion])"
   ]
  },
  {
   "cell_type": "code",
   "execution_count": null,
   "id": "61dcfc5e",
   "metadata": {},
   "outputs": [],
   "source": [
    "ultimos_liquidacion_centro_costo_caso1 = liquidacion_centro_costo_caso1[liquidacion_centro_costo_caso1['Fecha Proceso'] == fecha_liquidacion]\n",
    "ultimos_liquidacion_centro_costo_caso1"
   ]
  },
  {
   "cell_type": "code",
   "execution_count": null,
   "id": "96960241",
   "metadata": {},
   "outputs": [],
   "source": [
    "_liquidacion_centro_costo_garantizado = pd.concat([\n",
    "    liquidacion_centro_costo_caso3,\n",
    "    liquidacion_centro_costo_caso5\n",
    "])\n",
    "_liquidacion_centro_costo_garantizado"
   ]
  },
  {
   "cell_type": "code",
   "execution_count": null,
   "id": "34e05506",
   "metadata": {},
   "outputs": [],
   "source": [
    "liquidacion_centro_costo_caso4"
   ]
  },
  {
   "cell_type": "code",
   "execution_count": null,
   "id": "fe148a90",
   "metadata": {},
   "outputs": [],
   "source": [
    "ajuste_liquidacion_centro_costo_caso1 = ultimos_liquidacion_centro_costo_caso1.copy().drop(columns=['Caso']).merge(\n",
    "    _liquidacion_centro_costo_garantizado.copy().drop(columns=['Caso']).rename(columns={'Valor Base Cálculo': 'Valor Garantizado'}),\n",
    "    how='left'\n",
    ").merge(\n",
    "    df_ajustes_liquidaciones,\n",
    "    how='left',\n",
    "    on=['CodigoEmpleado']\n",
    ")\n",
    "ajuste_liquidacion_centro_costo_caso1.fillna(0, inplace=True)\n",
    "ajuste_liquidacion_centro_costo_caso1.head()"
   ]
  },
  {
   "cell_type": "code",
   "execution_count": null,
   "id": "0603c9aa",
   "metadata": {},
   "outputs": [],
   "source": [
    "len(liquidacion_centro_costo_caso4)"
   ]
  },
  {
   "cell_type": "code",
   "execution_count": null,
   "id": "9ba5f522",
   "metadata": {},
   "outputs": [],
   "source": [
    "liquidacion_centro_costo_caso4[liquidacion_centro_costo_caso4['CodigoEmpleado'] == '5016583']"
   ]
  },
  {
   "cell_type": "code",
   "execution_count": null,
   "id": "fda7528a",
   "metadata": {},
   "outputs": [],
   "source": [
    "len(ajuste_liquidacion_centro_costo_caso1)"
   ]
  },
  {
   "cell_type": "code",
   "execution_count": null,
   "id": "66c6dcf6",
   "metadata": {},
   "outputs": [],
   "source": [
    "ajuste_liquidacion_centro_costo_caso1[ajuste_liquidacion_centro_costo_caso1['CodigoEmpleado'] == '5004523']"
   ]
  },
  {
   "cell_type": "code",
   "execution_count": null,
   "id": "3659aa4c",
   "metadata": {},
   "outputs": [],
   "source": [
    "liquidacion_centro_costo_merge_casos_1_4 = ajuste_liquidacion_centro_costo_caso1.copy().merge(\n",
    "    liquidacion_centro_costo_caso4.copy().drop(columns=['Caso', 'Valor Base Cálculo']),\n",
    "    how='outer',\n",
    "    indicator=True\n",
    ")\n",
    "liquidacion_centro_costo_merge_casos_1_4.head()"
   ]
  },
  {
   "cell_type": "code",
   "execution_count": null,
   "id": "4d28e7cf",
   "metadata": {},
   "outputs": [],
   "source": [
    "liquidacion_centro_costo_merge_casos_1_4[liquidacion_centro_costo_merge_casos_1_4['CodigoEmpleado'] == '5004523']"
   ]
  },
  {
   "cell_type": "code",
   "execution_count": null,
   "id": "e363fd5f",
   "metadata": {},
   "outputs": [],
   "source": [
    "len(liquidacion_centro_costo_merge_casos_1_4[\n",
    "    liquidacion_centro_costo_merge_casos_1_4['_merge'] == 'left_only'\n",
    "])"
   ]
  },
  {
   "cell_type": "code",
   "execution_count": null,
   "id": "947f8dc2",
   "metadata": {},
   "outputs": [],
   "source": [
    "excluir_empleados_inactivos_liquidacion_centro_costo_caso1 = liquidacion_centro_costo_merge_casos_1_4[\n",
    "    liquidacion_centro_costo_merge_casos_1_4['_merge'] == 'left_only'\n",
    "]\n",
    "excluir_empleados_inactivos_liquidacion_centro_costo_caso1"
   ]
  },
  {
   "cell_type": "code",
   "execution_count": null,
   "id": "60dc39ee",
   "metadata": {},
   "outputs": [],
   "source": [
    "len(liquidacion_centro_costo_merge_casos_1_4[\n",
    "    liquidacion_centro_costo_merge_casos_1_4['_merge'] == 'both'\n",
    "])"
   ]
  },
  {
   "cell_type": "code",
   "execution_count": null,
   "id": "788d1384",
   "metadata": {},
   "outputs": [],
   "source": [
    "liquidacion_centro_costo_merge_casos_1_4[\n",
    "    liquidacion_centro_costo_merge_casos_1_4['_merge'] == 'both'\n",
    "]"
   ]
  },
  {
   "cell_type": "code",
   "execution_count": null,
   "id": "510247cb",
   "metadata": {},
   "outputs": [],
   "source": [
    "excluir_empleados_inactivos_liquidacion_centro_costo_caso1.loc[:, 'Valor Final'] = (\n",
    "    excluir_empleados_inactivos_liquidacion_centro_costo_caso1['Valor Base Cálculo']\n",
    "    - excluir_empleados_inactivos_liquidacion_centro_costo_caso1['Valor Garantizado']\n",
    "    - excluir_empleados_inactivos_liquidacion_centro_costo_caso1['AjusteValorLiquidado']\n",
    ").abs()\n",
    "excluir_empleados_inactivos_liquidacion_centro_costo_caso1"
   ]
  },
  {
   "cell_type": "code",
   "execution_count": null,
   "id": "ec99e16d",
   "metadata": {},
   "outputs": [],
   "source": [
    "excluir_empleados_inactivos_liquidacion_centro_costo_caso1[excluir_empleados_inactivos_liquidacion_centro_costo_caso1['CodigoEmpleado'] == '5004523']"
   ]
  },
  {
   "cell_type": "code",
   "execution_count": null,
   "id": "d96de74c",
   "metadata": {},
   "outputs": [],
   "source": []
  },
  {
   "cell_type": "code",
   "execution_count": null,
   "id": "d3d5d211",
   "metadata": {},
   "outputs": [],
   "source": [
    "liquidacion_centro_costo_caso1 = excluir_empleados_inactivos_liquidacion_centro_costo_caso1.copy().drop(\n",
    "        columns=['Valor Base Cálculo']\n",
    "    ).rename(\n",
    "            columns={'Valor Final': 'Valor Base Cálculo'}\n",
    "        )[\n",
    "            ['Fecha Proceso', 'CodigoEmpleado', 'TipoCalculo', 'Consecutivo', 'Valor Base Cálculo', 'CodigoCentroCosto', 'Porcentaje Aplicado']\n",
    "         ].copy()\n",
    "liquidacion_centro_costo_caso1['Caso'] = 1 \n",
    "liquidacion_centro_costo_caso1.head()"
   ]
  },
  {
   "cell_type": "code",
   "execution_count": null,
   "id": "a2a4336b",
   "metadata": {},
   "outputs": [],
   "source": [
    "liquidacion_centro_costo_caso1[liquidacion_centro_costo_caso1['CodigoEmpleado'] == '5004523']"
   ]
  },
  {
   "cell_type": "code",
   "execution_count": null,
   "id": "7d8bd6cb",
   "metadata": {},
   "outputs": [],
   "source": []
  },
  {
   "cell_type": "code",
   "execution_count": null,
   "id": "66eb8905",
   "metadata": {},
   "outputs": [],
   "source": [
    "# liquidacion_centro_costo_caso1[liquidacion_centro_costo_caso1['Fecha Proceso'] == fecha_liquidacion].drop(\n",
    "#         columns=['Caso']\n",
    "#     ).rename(columns={'Valor Base Cálculo': 'Valor Total Liquidado'}).merge(\n",
    "#             liquidacion_centro_costo_caso3.drop(columns=['Caso']).rename(columns={'Valor Base Cálculo': 'Valor Liquidado Garantizado'}),\n",
    "#             how='left'\n",
    "#         )"
   ]
  },
  {
   "cell_type": "code",
   "execution_count": null,
   "id": "c4533865",
   "metadata": {},
   "outputs": [],
   "source": [
    "liquidacion_centro_costo_caso5"
   ]
  },
  {
   "cell_type": "markdown",
   "id": "695d62ba",
   "metadata": {},
   "source": [
    "## Concatenación Casos - Liquidación Centro de Costo"
   ]
  },
  {
   "cell_type": "code",
   "execution_count": null,
   "id": "4016a2dd",
   "metadata": {},
   "outputs": [],
   "source": [
    "liquidaciones_centro_costo_casos = pd.concat([\n",
    "    liquidacion_centro_costo_caso1,\n",
    "    liquidacion_centro_costo_caso3,\n",
    "    liquidacion_centro_costo_caso4,\n",
    "    liquidacion_centro_costo_caso5\n",
    "], ignore_index=True)\n",
    "liquidaciones_centro_costo_casos"
   ]
  },
  {
   "cell_type": "code",
   "execution_count": null,
   "id": "aca23201",
   "metadata": {},
   "outputs": [],
   "source": [
    "# liquidaciones_centro_costo_casos['Valor Calculado'] = liquidaciones_centro_costo_casos['Valor Base Cálculo'] * liquidaciones_centro_costo_casos['Porcentaje Aplicado']\n",
    "# liquidaciones_centro_costo_casos.head()"
   ]
  },
  {
   "cell_type": "code",
   "execution_count": null,
   "id": "67f19a0a",
   "metadata": {},
   "outputs": [],
   "source": [
    "liquidaciones_centro_costo_casos.to_excel(\"liquidaciones_centro_costo_casos.xlsx\")"
   ]
  },
  {
   "cell_type": "markdown",
   "id": "d9a6d06a",
   "metadata": {},
   "source": [
    "## Se realizan las liquidaciones por Centros de Costos según el Tipo de Cálculo de las Variables"
   ]
  },
  {
   "cell_type": "code",
   "execution_count": null,
   "id": "61f6d429",
   "metadata": {},
   "outputs": [],
   "source": [
    "maestra_resultados_por_empleado[\n",
    "    (maestra_resultados_por_empleado['CodigoEmpleado'] == '5016583') &\n",
    "    (maestra_resultados_por_empleado['Fecha'] == '2023-08-01')\n",
    "]"
   ]
  },
  {
   "cell_type": "code",
   "execution_count": null,
   "id": "3f61d424",
   "metadata": {},
   "outputs": [],
   "source": [
    "main = maestra_resultados_por_empleado.copy().merge(\n",
    "    right=df_parrillas_tipos_calculos.rename(columns={'NombreRubro': 'Variable'}),\n",
    "    on=['TipoEmpleado', 'AreaCalculo', 'Variable'],\n",
    "    how='left'\n",
    ")\n",
    "main = main[['Contexto', 'Fecha', 'Variable', 'PorcentajeCumplimiento', 'CodigoEmpleado', 'Porcentaje', 'Consecutivo', 'TipoEmpleado', 'AreaCalculo', 'Liquidado','CodigoRubro', 'TipoCalculo']]\n",
    "main"
   ]
  },
  {
   "cell_type": "code",
   "execution_count": null,
   "id": "dd005a9c",
   "metadata": {},
   "outputs": [],
   "source": [
    "main[\n",
    "    (main['CodigoEmpleado'] == '5016583') &\n",
    "    (main['Fecha'] == '2023-08-01')\n",
    "]"
   ]
  },
  {
   "cell_type": "code",
   "execution_count": null,
   "id": "4df78292",
   "metadata": {},
   "outputs": [],
   "source": []
  },
  {
   "cell_type": "markdown",
   "id": "d68f32c6",
   "metadata": {},
   "source": [
    "### Tipo de Cálculo Fijo"
   ]
  },
  {
   "cell_type": "code",
   "execution_count": null,
   "id": "5bc49602",
   "metadata": {},
   "outputs": [],
   "source": [
    "# final_calculo_fijo = pd.concat([\n",
    "#     final_calculo_fijo,\n",
    "#     liquidaciones_centro_costo_casos[liquidaciones_centro_costo_casos['TipoCalculo'] == 'F']\n",
    "# ])"
   ]
  },
  {
   "cell_type": "code",
   "execution_count": null,
   "id": "83946e36",
   "metadata": {},
   "outputs": [],
   "source": [
    "calculo_fijo = main[main['TipoCalculo']== 'F']\n",
    "calculo_fijo"
   ]
  },
  {
   "cell_type": "code",
   "execution_count": null,
   "id": "df0a9215",
   "metadata": {},
   "outputs": [],
   "source": [
    "calculo_fijo = calculo_fijo.groupby(['Fecha', 'CodigoEmpleado', 'TipoCalculo', 'Consecutivo'], as_index=False)[['Liquidado']].apply(sum)\n",
    "calculo_fijo"
   ]
  },
  {
   "cell_type": "code",
   "execution_count": null,
   "id": "ee77c1ff",
   "metadata": {},
   "outputs": [],
   "source": [
    "calculo_fijo[calculo_fijo['CodigoEmpleado'] == '5005463']"
   ]
  },
  {
   "cell_type": "code",
   "execution_count": null,
   "id": "c85f97bb",
   "metadata": {},
   "outputs": [],
   "source": [
    "liquidaciones_centro_costo_casos[liquidaciones_centro_costo_casos['TipoCalculo'] == 'F']"
   ]
  },
  {
   "cell_type": "code",
   "execution_count": null,
   "id": "19992f20",
   "metadata": {},
   "outputs": [],
   "source": [
    "calculo_fijo.to_excel('calculo_fijo.xlsx')"
   ]
  },
  {
   "cell_type": "code",
   "execution_count": null,
   "id": "445230bd",
   "metadata": {},
   "outputs": [],
   "source": [
    "final_calculo_fijo = calculo_fijo.merge(\n",
    "    df_empleados_centros_costos,\n",
    "    on=['CodigoEmpleado'],\n",
    "    how='left'\n",
    ").rename(columns={\n",
    "    'Fecha': 'Fecha Proceso',\n",
    "    'Liquidado':'Valor Base Cálculo',\n",
    "    'PorcentajeAsignacion': 'Porcentaje Aplicado'\n",
    "})\n",
    "final_calculo_fijo['Caso'] = 0\n",
    "final_calculo_fijo"
   ]
  },
  {
   "cell_type": "code",
   "execution_count": null,
   "id": "e8aa3cc6",
   "metadata": {},
   "outputs": [],
   "source": [
    " liquidaciones_centro_costo_casos[liquidaciones_centro_costo_casos['TipoCalculo'] == 'F']"
   ]
  },
  {
   "cell_type": "code",
   "execution_count": null,
   "id": "e1c12c6d",
   "metadata": {},
   "outputs": [],
   "source": [
    "#  liquidaciones_centro_costo_casos[\n",
    "#      (liquidaciones_centro_costo_casos['TipoCalculo'] == 'F') &\n",
    "#      (liquidaciones_centro_costo_casos['Fecha Proceso'] < '2023-12-01')\n",
    "#  ]['Fecha Proceso'] = pd.to_datetime(fecha_liquidacion)"
   ]
  },
  {
   "cell_type": "code",
   "execution_count": null,
   "id": "0f507c46",
   "metadata": {},
   "outputs": [],
   "source": [
    "liquidaciones_centro_costo_casos.loc[\n",
    "    (liquidaciones_centro_costo_casos['TipoCalculo'] == 'F') &\n",
    "    (liquidaciones_centro_costo_casos['Fecha Proceso'] < fecha_liquidacion),\n",
    "    'Fecha Proceso'\n",
    "] = pd.to_datetime(fecha_liquidacion)"
   ]
  },
  {
   "cell_type": "code",
   "execution_count": null,
   "id": "ca47ae08",
   "metadata": {},
   "outputs": [],
   "source": [
    " liquidaciones_centro_costo_casos[\n",
    "     (liquidaciones_centro_costo_casos['TipoCalculo'] == 'V') &\n",
    "     (liquidaciones_centro_costo_casos['CodigoEmpleado'] == '5002899')\n",
    " ]"
   ]
  },
  {
   "cell_type": "code",
   "execution_count": null,
   "id": "d4df7e0c",
   "metadata": {},
   "outputs": [],
   "source": [
    "# liquidacion_centro_costo_caso4['Fecha Proceso'] = pd.to_datetime(fecha_liquidacion)\n"
   ]
  },
  {
   "cell_type": "code",
   "execution_count": null,
   "id": "db1d84a0",
   "metadata": {},
   "outputs": [],
   "source": [
    "final_calculo_fijo = pd.concat([\n",
    "    final_calculo_fijo,\n",
    "    liquidaciones_centro_costo_casos[liquidaciones_centro_costo_casos['TipoCalculo'] == 'F']\n",
    "])\n",
    "final_calculo_fijo"
   ]
  },
  {
   "cell_type": "code",
   "execution_count": null,
   "id": "a60134cf",
   "metadata": {},
   "outputs": [],
   "source": [
    "final_calculo_fijo['Valor Calculado'] = final_calculo_fijo['Valor Base Cálculo'] * final_calculo_fijo['Porcentaje Aplicado']\n",
    "final_calculo_fijo"
   ]
  },
  {
   "cell_type": "code",
   "execution_count": null,
   "id": "c873ba67",
   "metadata": {},
   "outputs": [],
   "source": [
    "final_calculo_fijo[\n",
    "    (final_calculo_fijo['CodigoEmpleado'] == '5016583') &\n",
    "     (final_calculo_fijo['Fecha Proceso'] == '2023-12-01')\n",
    "]   "
   ]
  },
  {
   "cell_type": "code",
   "execution_count": null,
   "id": "d73824e3",
   "metadata": {},
   "outputs": [],
   "source": [
    " liquidaciones_centro_costo_casos[liquidaciones_centro_costo_casos['TipoCalculo'] == 'F'].head()"
   ]
  },
  {
   "cell_type": "code",
   "execution_count": null,
   "id": "d29468a5",
   "metadata": {},
   "outputs": [],
   "source": []
  },
  {
   "cell_type": "code",
   "execution_count": null,
   "id": "18534d1d",
   "metadata": {},
   "outputs": [],
   "source": [
    "final_calculo_fijo.to_excel('final_calculo_fijo.xlsx')"
   ]
  },
  {
   "cell_type": "code",
   "execution_count": null,
   "id": "1cba6b1a",
   "metadata": {},
   "outputs": [],
   "source": [
    "consolidado_final_calculo_fijo = final_calculo_fijo.copy()\n",
    "consolidado_final_calculo_fijo[\n",
    "    (consolidado_final_calculo_fijo['Fecha Proceso'] == '2023-02-01') &\n",
    "    (consolidado_final_calculo_fijo['CodigoEmpleado'] == '1111117')\n",
    "]"
   ]
  },
  {
   "cell_type": "code",
   "execution_count": null,
   "id": "c8b21064",
   "metadata": {},
   "outputs": [],
   "source": [
    "consolidado_final_calculo_fijo['Total Repetidos'] = consolidado_final_calculo_fijo.groupby(\n",
    "    ['Fecha Proceso', 'CodigoEmpleado', 'TipoCalculo', 'Consecutivo', 'CodigoCentroCosto', 'Porcentaje Aplicado']\n",
    ")['Valor Calculado'].transform('count')"
   ]
  },
  {
   "cell_type": "code",
   "execution_count": null,
   "id": "2c67dc2a",
   "metadata": {},
   "outputs": [],
   "source": [
    "consolidado_final_calculo_fijo['Valor Calculado'] = consolidado_final_calculo_fijo.groupby(\n",
    "    ['Fecha Proceso', 'CodigoEmpleado', 'TipoCalculo', 'Consecutivo', 'CodigoCentroCosto', 'Porcentaje Aplicado']\n",
    ")['Valor Calculado'].transform('sum')"
   ]
  },
  {
   "cell_type": "code",
   "execution_count": null,
   "id": "a1737b88",
   "metadata": {},
   "outputs": [],
   "source": [
    "consolidado_final_calculo_fijo"
   ]
  },
  {
   "cell_type": "code",
   "execution_count": null,
   "id": "0574f98b",
   "metadata": {},
   "outputs": [],
   "source": [
    "consolidado_final_calculo_fijo.to_excel('consolidado_final_calculo_fijo.xlsx')"
   ]
  },
  {
   "cell_type": "code",
   "execution_count": null,
   "id": "5f9adf12",
   "metadata": {},
   "outputs": [],
   "source": []
  },
  {
   "cell_type": "code",
   "execution_count": null,
   "id": "86962c16",
   "metadata": {},
   "outputs": [],
   "source": [
    "consolidado_final_calculo_fijo['Valor Base Cálculo'] = consolidado_final_calculo_fijo.copy().groupby(\n",
    "    ['Fecha Proceso', 'CodigoEmpleado', 'TipoCalculo', 'Consecutivo', 'CodigoCentroCosto', 'Porcentaje Aplicado']\n",
    ")['Valor Base Cálculo'].transform('sum')"
   ]
  },
  {
   "cell_type": "code",
   "execution_count": null,
   "id": "f4b4acd9",
   "metadata": {},
   "outputs": [],
   "source": [
    "# Eliminar las columnas 'Caso' y 'Total Repetidos'\n",
    "consolidado_final_calculo_fijo_sin_repetidos = consolidado_final_calculo_fijo.copy().drop(columns=['Total Repetidos'])\n",
    "\n",
    "# Eliminar registros duplicados sin tener en cuenta las columnas 'Caso' y 'Total Repetidos'\n",
    "consolidado_final_calculo_fijo_sin_repetidos = consolidado_final_calculo_fijo_sin_repetidos.drop_duplicates(\n",
    "    subset=['Fecha Proceso', 'CodigoEmpleado', 'TipoCalculo', 'Consecutivo', 'Valor Base Cálculo', 'CodigoCentroCosto', 'Porcentaje Aplicado', 'Valor Calculado'],\n",
    "    keep='first'\n",
    ")\n",
    "consolidado_final_calculo_fijo_sin_repetidos"
   ]
  },
  {
   "cell_type": "code",
   "execution_count": null,
   "id": "3889c9fd",
   "metadata": {},
   "outputs": [],
   "source": [
    "consolidado_final_calculo_fijo_sin_repetidos[consolidado_final_calculo_fijo_sin_repetidos['CodigoEmpleado'] == '1098612757']"
   ]
  },
  {
   "cell_type": "code",
   "execution_count": null,
   "id": "78420381",
   "metadata": {},
   "outputs": [],
   "source": [
    "consolidado_final_calculo_fijo_sin_repetidos.to_excel('consolidado_final_calculo_fijo_sin_repetidos.xlsx')"
   ]
  },
  {
   "cell_type": "code",
   "execution_count": null,
   "id": "1b9a885d",
   "metadata": {},
   "outputs": [],
   "source": []
  },
  {
   "cell_type": "markdown",
   "id": "b1f36574",
   "metadata": {},
   "source": [
    "### Tipo de Cálculo Variable"
   ]
  },
  {
   "cell_type": "code",
   "execution_count": null,
   "id": "0363a506",
   "metadata": {},
   "outputs": [],
   "source": [
    "main.head()"
   ]
  },
  {
   "cell_type": "code",
   "execution_count": null,
   "id": "f7afcb47",
   "metadata": {},
   "outputs": [],
   "source": [
    "calculo_variable = main[main['TipoCalculo']== 'V']\n",
    "calculo_variable['Caso'] = 0\n",
    "calculo_variable.head()"
   ]
  },
  {
   "cell_type": "code",
   "execution_count": null,
   "id": "ba09a4ac",
   "metadata": {},
   "outputs": [],
   "source": [
    "calculo_variable[\n",
    "    (calculo_variable['CodigoEmpleado'] == '5002899') &\n",
    "    (calculo_variable['Fecha'] == '2023-04-01')\n",
    "]"
   ]
  },
  {
   "cell_type": "code",
   "execution_count": null,
   "id": "53144337",
   "metadata": {
    "scrolled": false
   },
   "outputs": [],
   "source": [
    "# maestra_resultados_por_empleado_centro_costo[\n",
    "#     (maestra_resultados_por_empleado_centro_costo['CodigoEmpleado'] == '1032450706') &\n",
    "#      (maestra_resultados_por_empleado_centro_costo['Fecha'] == '2023-09-01')\n",
    "# ]   "
   ]
  },
  {
   "cell_type": "code",
   "execution_count": null,
   "id": "055573b8",
   "metadata": {},
   "outputs": [],
   "source": [
    "calculo_variable[\n",
    "    (calculo_variable['TipoCalculo'] == 'V') &\n",
    "    (calculo_variable['CodigoEmpleado'] == '5016583') &\n",
    "    (calculo_variable['Fecha'] == '2023-09-01')\n",
    "]"
   ]
  },
  {
   "cell_type": "code",
   "execution_count": null,
   "id": "0410149d",
   "metadata": {},
   "outputs": [],
   "source": []
  },
  {
   "cell_type": "code",
   "execution_count": null,
   "id": "27ab5462",
   "metadata": {},
   "outputs": [],
   "source": [
    "liquidaciones_centro_costo_casos[\n",
    "    (liquidaciones_centro_costo_casos['TipoCalculo'] == 'V') &\n",
    "    (liquidaciones_centro_costo_casos['CodigoEmpleado'] == '5002899')\n",
    "]"
   ]
  },
  {
   "cell_type": "code",
   "execution_count": null,
   "id": "698adf22",
   "metadata": {},
   "outputs": [],
   "source": [
    "_calculo_variable_centro_costo_casos = calculo_variable.drop(columns=['Porcentaje', 'Caso', 'PorcentajeCumplimiento']).merge(\n",
    "    liquidaciones_centro_costo_casos[liquidaciones_centro_costo_casos['TipoCalculo'] == 'V'].rename(\n",
    "    columns={'Fecha Proceso':'Fecha'}).drop(columns=['Consecutivo', 'Porcentaje Aplicado', 'Valor Base Cálculo']),\n",
    "    how='right',\n",
    "    on=['CodigoEmpleado', 'Fecha', 'TipoCalculo']\n",
    ").drop_duplicates()\n",
    "\n",
    "_calculo_variable_centro_costo_casos['Fecha'] = pd.to_datetime(fecha_liquidacion)\n",
    "_calculo_variable_centro_costo_casos"
   ]
  },
  {
   "cell_type": "code",
   "execution_count": null,
   "id": "3bed93b4",
   "metadata": {},
   "outputs": [],
   "source": [
    "_calculo_variable_centro_costo_casos[_calculo_variable_centro_costo_casos['CodigoEmpleado'] == '5002899']"
   ]
  },
  {
   "cell_type": "code",
   "execution_count": null,
   "id": "2a29c2b1",
   "metadata": {},
   "outputs": [],
   "source": [
    "_final_calculo_variable = pd.concat([\n",
    "    calculo_variable.drop(columns=['Porcentaje']),\n",
    "    _calculo_variable_centro_costo_casos\n",
    "]).drop(columns=['PorcentajeCumplimiento', 'CodigoCentroCosto']).drop_duplicates()\n",
    "_final_calculo_variable"
   ]
  },
  {
   "cell_type": "code",
   "execution_count": null,
   "id": "b85589e9",
   "metadata": {},
   "outputs": [],
   "source": [
    "calculo_variable[\n",
    "    (calculo_variable['TipoCalculo'] == 'V') & \n",
    "    (calculo_variable['CodigoEmpleado'] == '1032450706') &\n",
    "     (calculo_variable['Fecha'] == '2023-09-01')\n",
    "]"
   ]
  },
  {
   "cell_type": "code",
   "execution_count": null,
   "id": "f2ffeb1a",
   "metadata": {},
   "outputs": [],
   "source": [
    "liquidaciones_centro_costo_casos[\n",
    "    (liquidaciones_centro_costo_casos['TipoCalculo'] == 'F') & \n",
    "    (liquidaciones_centro_costo_casos['CodigoEmpleado'] == '8520024')\n",
    "]"
   ]
  },
  {
   "cell_type": "code",
   "execution_count": null,
   "id": "9643e9d4",
   "metadata": {},
   "outputs": [],
   "source": [
    "_final_calculo_variable[\n",
    "    (_final_calculo_variable['CodigoEmpleado'] == '5002899') &\n",
    "     (_final_calculo_variable['Fecha'] == '2023-12-01')\n",
    "]   "
   ]
  },
  {
   "cell_type": "code",
   "execution_count": null,
   "id": "51054799",
   "metadata": {},
   "outputs": [],
   "source": [
    "maestra_resultados_por_empleado_centro_costo[\n",
    "    (maestra_resultados_por_empleado_centro_costo['CodigoEmpleado'] == '5002899')\n",
    "]   "
   ]
  },
  {
   "cell_type": "code",
   "execution_count": null,
   "id": "0f389f37",
   "metadata": {
    "scrolled": false
   },
   "outputs": [],
   "source": [
    "final_calculo_variable = _final_calculo_variable.merge(\n",
    "    right=maestra_resultados_por_empleado_centro_costo.rename(columns={'NombreRubro': 'Variable'}),\n",
    "    on=['Fecha', 'Contexto', 'CodigoEmpleado', 'Variable', 'Consecutivo','TipoEmpleado', 'AreaCalculo'],\n",
    "    how='left'\n",
    ")[['Fecha', 'Contexto', 'CodigoEmpleado', 'TipoEmpleado','TipoCalculo', 'GrupoProducto', 'Division', 'Consecutivo', 'CodigoCentroCosto', 'Real','Variable', 'Liquidado', 'Caso']]\n",
    "final_calculo_variable"
   ]
  },
  {
   "cell_type": "code",
   "execution_count": null,
   "id": "d467a422",
   "metadata": {
    "scrolled": false
   },
   "outputs": [],
   "source": [
    "final_calculo_variable[\n",
    "    (final_calculo_variable['CodigoEmpleado'] == '5002899') &\n",
    "     (final_calculo_variable['Fecha'] == '2023-12-01')\n",
    "]   "
   ]
  },
  {
   "cell_type": "code",
   "execution_count": null,
   "id": "c95fccd3",
   "metadata": {},
   "outputs": [],
   "source": [
    "final_calculo_variable.info()"
   ]
  },
  {
   "cell_type": "code",
   "execution_count": null,
   "id": "9f6079a8",
   "metadata": {
    "scrolled": false
   },
   "outputs": [],
   "source": [
    "final_calculo_variable[\n",
    "    (final_calculo_variable['CodigoEmpleado'] == '1032450706') &\n",
    "     (final_calculo_variable['Fecha'] == '2023-09-01')\n",
    "]"
   ]
  },
  {
   "cell_type": "code",
   "execution_count": null,
   "id": "13138c49",
   "metadata": {},
   "outputs": [],
   "source": [
    "final_calculo_variable = final_calculo_variable.groupby(['Fecha', 'CodigoEmpleado', 'TipoCalculo', 'CodigoCentroCosto', 'Consecutivo', 'Liquidado', 'Caso'], as_index=False)[['Real']].apply(sum)\n",
    "\n",
    "final_calculo_variable.head()"
   ]
  },
  {
   "cell_type": "code",
   "execution_count": null,
   "id": "158b3517",
   "metadata": {},
   "outputs": [],
   "source": [
    "final_calculo_variable['RealTotal'] = final_calculo_variable.groupby(\n",
    "    ['Fecha', 'CodigoEmpleado', 'TipoCalculo', 'Consecutivo', 'Caso'], as_index=False\n",
    ")['Real'].transform(pd.Series.sum)\n",
    "final_calculo_variable"
   ]
  },
  {
   "cell_type": "code",
   "execution_count": null,
   "id": "f2c13ad0",
   "metadata": {},
   "outputs": [],
   "source": [
    "final_calculo_variable['Valor Base Cálculo'] = final_calculo_variable.groupby(\n",
    "    ['Fecha', 'CodigoEmpleado', 'TipoCalculo', 'CodigoCentroCosto', 'Consecutivo', 'Caso'], as_index=False\n",
    ")['Liquidado'].transform(pd.Series.sum)\n",
    "final_calculo_variable"
   ]
  },
  {
   "cell_type": "code",
   "execution_count": null,
   "id": "7c7f23c1",
   "metadata": {},
   "outputs": [],
   "source": [
    "final_calculo_variable = final_calculo_variable.groupby(['Fecha', 'CodigoEmpleado', 'TipoCalculo', 'Caso', 'Consecutivo', 'CodigoCentroCosto', 'RealTotal', 'Valor Base Cálculo'], as_index=False)[['Real']].apply(sum)\n"
   ]
  },
  {
   "cell_type": "code",
   "execution_count": null,
   "id": "84493be7",
   "metadata": {},
   "outputs": [],
   "source": [
    "final_calculo_variable['Porcentaje Aplicado'] = final_calculo_variable['Real']/final_calculo_variable['RealTotal']\n",
    "final_calculo_variable = final_calculo_variable.rename(columns={\n",
    "    'Fecha': 'Fecha Proceso'\n",
    "})\n",
    "final_calculo_variable['Valor Calculado'] = final_calculo_variable['Valor Base Cálculo'] * final_calculo_variable['Porcentaje Aplicado']\n",
    "final_calculo_variable"
   ]
  },
  {
   "cell_type": "code",
   "execution_count": null,
   "id": "a4cd5f22",
   "metadata": {},
   "outputs": [],
   "source": [
    "final_calculo_variable = final_calculo_variable[\n",
    "    ['Fecha Proceso', 'CodigoEmpleado', 'TipoCalculo', 'Consecutivo', 'CodigoCentroCosto', 'Valor Base Cálculo', 'Porcentaje Aplicado', 'Valor Calculado', 'Caso']\n",
    "]\n",
    "final_calculo_variable"
   ]
  },
  {
   "cell_type": "code",
   "execution_count": null,
   "id": "8ff11fda",
   "metadata": {},
   "outputs": [],
   "source": [
    "# final_calculo_variable = pd.concat([\n",
    "#     final_calculo_variable,\n",
    "#     liquidaciones_centro_costo_casos[liquidaciones_centro_costo_casos['TipoCalculo'] == 'V']\n",
    "# ])\n",
    "# final_calculo_variable"
   ]
  },
  {
   "cell_type": "code",
   "execution_count": null,
   "id": "a029b93a",
   "metadata": {},
   "outputs": [],
   "source": [
    "final_calculo_variable[\n",
    "    (final_calculo_variable['CodigoEmpleado'] == '5002899') &\n",
    "     (final_calculo_variable['Fecha Proceso'] == '2023-12-01')\n",
    "]"
   ]
  },
  {
   "cell_type": "code",
   "execution_count": null,
   "id": "17b86016",
   "metadata": {},
   "outputs": [],
   "source": [
    "final_calculo_variable[\n",
    "    (final_calculo_variable['CodigoEmpleado'] == '1032450706') &\n",
    "     (final_calculo_variable['Fecha Proceso'] == '2023-12-01')\n",
    "]"
   ]
  },
  {
   "cell_type": "code",
   "execution_count": null,
   "id": "72523b72",
   "metadata": {},
   "outputs": [],
   "source": [
    "final_calculo_variable.to_excel('final_calculo_variable.xlsx')"
   ]
  },
  {
   "cell_type": "markdown",
   "id": "2740c198",
   "metadata": {},
   "source": [
    "### Se unifican Tipo Cálculo Fijo y Variable"
   ]
  },
  {
   "cell_type": "code",
   "execution_count": null,
   "id": "a38040eb",
   "metadata": {},
   "outputs": [],
   "source": [
    "final_calculo_fijo.head()"
   ]
  },
  {
   "cell_type": "code",
   "execution_count": null,
   "id": "d6a313df",
   "metadata": {},
   "outputs": [],
   "source": [
    "final_calculo_fijo[final_calculo_fijo['CodigoEmpleado'] == '1098612757']"
   ]
  },
  {
   "cell_type": "code",
   "execution_count": null,
   "id": "552d988b",
   "metadata": {},
   "outputs": [],
   "source": [
    "len(final_calculo_fijo[final_calculo_fijo['CodigoEmpleado'] == '1098612757'])"
   ]
  },
  {
   "cell_type": "code",
   "execution_count": null,
   "id": "e4df4fc4",
   "metadata": {},
   "outputs": [],
   "source": [
    "consolidado_final_calculo_fijo_sin_repetidos[consolidado_final_calculo_fijo_sin_repetidos['CodigoEmpleado'] == '1098612757']"
   ]
  },
  {
   "cell_type": "code",
   "execution_count": null,
   "id": "a9997455",
   "metadata": {},
   "outputs": [],
   "source": [
    "len(consolidado_final_calculo_fijo_sin_repetidos[consolidado_final_calculo_fijo_sin_repetidos['CodigoEmpleado'] == '1098612757'])"
   ]
  },
  {
   "cell_type": "code",
   "execution_count": null,
   "id": "a8fe69b5",
   "metadata": {},
   "outputs": [],
   "source": [
    "final_calculo_variable.head()"
   ]
  },
  {
   "cell_type": "code",
   "execution_count": null,
   "id": "c4b6331d",
   "metadata": {},
   "outputs": [],
   "source": [
    "final_calculo_fijo[\n",
    "    (final_calculo_fijo['CodigoEmpleado'] == '1032450706') &\n",
    "     (final_calculo_fijo['Fecha Proceso'] == '2023-09-01')\n",
    "]"
   ]
  },
  {
   "cell_type": "code",
   "execution_count": null,
   "id": "2057cb46",
   "metadata": {},
   "outputs": [],
   "source": [
    "final_calculo_variable[\n",
    "    (final_calculo_variable['CodigoEmpleado'] == '1032450706') &\n",
    "     (final_calculo_variable['Fecha Proceso'] == '2023-09-01')\n",
    "]"
   ]
  },
  {
   "cell_type": "code",
   "execution_count": null,
   "id": "c7a753ab",
   "metadata": {},
   "outputs": [],
   "source": [
    "resultado_liquidaciones_centro_costo = pd.concat(\n",
    "    [ final_calculo_fijo,\n",
    "      final_calculo_variable,\n",
    "#      consolidado_final_calculo_fijo_sin_repetidos\n",
    "    ]\n",
    ")\n",
    "resultado_liquidaciones_centro_costo[\n",
    "    (resultado_liquidaciones_centro_costo['CodigoEmpleado'] == '8520024') &\n",
    "     (resultado_liquidaciones_centro_costo['Fecha Proceso'] == '2023-09-01')\n",
    "]"
   ]
  },
  {
   "cell_type": "code",
   "execution_count": null,
   "id": "c23b1884",
   "metadata": {},
   "outputs": [],
   "source": [
    "resultado_liquidaciones_centro_costo[\n",
    "    (resultado_liquidaciones_centro_costo['CodigoEmpleado'] == '8520024') &\n",
    "     (resultado_liquidaciones_centro_costo['Fecha Proceso'] == '2023-09-01') &\n",
    "    (resultado_liquidaciones_centro_costo['TipoCalculo'] == 'F')\n",
    "]['Valor Calculado'].sum()"
   ]
  },
  {
   "cell_type": "code",
   "execution_count": null,
   "id": "5332dfd0",
   "metadata": {},
   "outputs": [],
   "source": [
    "6048000.0+2340000.0+198000.0"
   ]
  },
  {
   "cell_type": "code",
   "execution_count": null,
   "id": "c0d6bd56",
   "metadata": {},
   "outputs": [],
   "source": [
    "len(resultado_liquidaciones_centro_costo[resultado_liquidaciones_centro_costo['CodigoEmpleado'] == '1098612757'])"
   ]
  },
  {
   "cell_type": "code",
   "execution_count": null,
   "id": "c9e0206b",
   "metadata": {},
   "outputs": [],
   "source": [
    "resultado_liquidaciones_centro_costo[\n",
    "    (resultado_liquidaciones_centro_costo['CodigoEmpleado'] == '5002899') &\n",
    "    (resultado_liquidaciones_centro_costo['Fecha Proceso'] == '2023-12-01')\n",
    "]"
   ]
  },
  {
   "cell_type": "code",
   "execution_count": null,
   "id": "1649c68c",
   "metadata": {},
   "outputs": [],
   "source": [
    "nombre_archivo_salida = \"resultado_liquidaciones_centro_costo (\" + fecha_liquidacion + \").xlsx\"\n",
    "nombre_archivo_salida"
   ]
  },
  {
   "cell_type": "code",
   "execution_count": null,
   "id": "8c245b7e",
   "metadata": {},
   "outputs": [],
   "source": [
    "resultado_liquidaciones_centro_costo.to_excel(nombre_archivo_salida)"
   ]
  },
  {
   "cell_type": "code",
   "execution_count": null,
   "id": "290537fd",
   "metadata": {},
   "outputs": [],
   "source": [
    "resultado_liquidaciones_centro_costo[\n",
    "    (resultado_liquidaciones_centro_costo['CodigoEmpleado'] == '8520024') &\n",
    "    (resultado_liquidaciones_centro_costo['Fecha Proceso'] == '2023-12-01')\n",
    "]"
   ]
  },
  {
   "cell_type": "code",
   "execution_count": null,
   "id": "bc8d0984",
   "metadata": {},
   "outputs": [],
   "source": []
  },
  {
   "cell_type": "code",
   "execution_count": null,
   "id": "3ec8362f",
   "metadata": {},
   "outputs": [],
   "source": [
    "resultado_liquidaciones_centro_costo[resultado_liquidaciones_centro_costo['CodigoEmpleado'] == '5016692']"
   ]
  },
  {
   "cell_type": "code",
   "execution_count": null,
   "id": "6127a6c4",
   "metadata": {},
   "outputs": [],
   "source": [
    "final_calculo_variable[final_calculo_variable['CodigoEmpleado'] == '1098612757']"
   ]
  },
  {
   "cell_type": "code",
   "execution_count": null,
   "id": "61e20433",
   "metadata": {},
   "outputs": [],
   "source": [
    "resultado_liquidaciones_centro_costo[resultado_liquidaciones_centro_costo['CodigoEmpleado'] == '5004293']"
   ]
  },
  {
   "cell_type": "code",
   "execution_count": null,
   "id": "b321a6e8",
   "metadata": {},
   "outputs": [],
   "source": []
  },
  {
   "cell_type": "code",
   "execution_count": null,
   "id": "4ea37614",
   "metadata": {},
   "outputs": [],
   "source": []
  }
 ],
 "metadata": {
  "kernelspec": {
   "display_name": "Python 3 (ipykernel)",
   "language": "python",
   "name": "python3"
  },
  "language_info": {
   "codemirror_mode": {
    "name": "ipython",
    "version": 3
   },
   "file_extension": ".py",
   "mimetype": "text/x-python",
   "name": "python",
   "nbconvert_exporter": "python",
   "pygments_lexer": "ipython3",
   "version": "3.9.13"
  }
 },
 "nbformat": 4,
 "nbformat_minor": 5
}
